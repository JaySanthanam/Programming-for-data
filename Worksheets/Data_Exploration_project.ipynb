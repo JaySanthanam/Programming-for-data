{
  "nbformat": 4,
  "nbformat_minor": 0,
  "metadata": {
    "colab": {
      "name": "Data Exploration project.ipynb",
      "provenance": [],
      "include_colab_link": true
    },
    "kernelspec": {
      "name": "python3",
      "display_name": "Python 3"
    },
    "language_info": {
      "name": "python"
    }
  },
  "cells": [
    {
      "cell_type": "markdown",
      "metadata": {
        "id": "view-in-github",
        "colab_type": "text"
      },
      "source": [
        "<a href=\"https://colab.research.google.com/github/JaySanthanam/Programming-for-data/blob/main/Worksheets/Data_Exploration_project.ipynb\" target=\"_parent\"><img src=\"https://colab.research.google.com/assets/colab-badge.svg\" alt=\"Open In Colab\"/></a>"
      ]
    },
    {
      "cell_type": "markdown",
      "source": [
        "# Exploring data sets\n",
        "---\n",
        "\n",
        "This [link](https://docs.google.com/document/d/1cijDOCDixsYu-Rr9pC8STPPXado3xoFpgBAZgdDTLHs/edit?usp=sharing) will take you to a list of some of the datasets we use during the Programming for Data course.\n",
        "\n",
        "For this exercise, please choose a dataset to work with."
      ],
      "metadata": {
        "id": "bGQ4E0gGX-PI"
      }
    },
    {
      "cell_type": "markdown",
      "source": [
        "Use the code cell below to play with the data.  Look at what data is included, where there is any null data, if there are any columns that need renaming, removing, new values calculated from them.\n",
        "\n",
        "Form some ideas of what you might want to know from the data and use the techniques you have learned so far to show the answers to these.  You might do this by getting summary statistics, by sorting and showing parts of the dataset, by calculating new values, etc."
      ],
      "metadata": {
        "id": "YkkYGsVOcMpp"
      }
    },
    {
      "cell_type": "markdown",
      "source": [
        "### What to do\n",
        "---\n",
        "\n",
        "Decide what you want to know, explain this in the TEXT cell below, then write some code to get the answer.  When you have done this, add a new text cell below the code cell, explain what you have found.  Then do the same again, adding text cell, code cell, text cell, for something else you would like to know."
      ],
      "metadata": {
        "id": "5P8CecO6clH9"
      }
    },
    {
      "cell_type": "markdown",
      "source": [
        "I have chosen Exam daat to work with as an example.\n",
        "\n",
        "First thing I want to do is read the data from the link and look at the headings and the first few rows to know what the data looks like and also know the shape of my dataframe. I shall call this part as data retrieval (don't know what the right word for this is). Below is the code for this."
      ],
      "metadata": {
        "id": "7G3pgO-Tc7EQ"
      }
    },
    {
      "cell_type": "code",
      "execution_count": 5,
      "metadata": {
        "id": "Omq5otEAX7z8",
        "colab": {
          "base_uri": "https://localhost:8080/"
        },
        "outputId": "c8332ee4-a449-4b85-bf77-5512b1bbfa3b"
      },
      "outputs": [
        {
          "output_type": "stream",
          "name": "stdout",
          "text": [
            "(1000, 8)\n",
            "   gender ethnicity  ... reading_score writing_score\n",
            "0  female   group E  ...            76            71\n",
            "1    male   group C  ...            72            69\n",
            "2  female   group B  ...            56            61\n",
            "3    male   group D  ...            60            59\n",
            "4  female   group C  ...            54            55\n",
            "\n",
            "[5 rows x 8 columns]\n",
            "Index(['gender', 'ethnicity', 'parental_education', 'lunch',\n",
            "       'preparation_course', 'math_score', 'reading_score', 'writing_score'],\n",
            "      dtype='object')\n"
          ]
        }
      ],
      "source": [
        "def get_data_retrieval():\n",
        "  url =  \"https://raw.githubusercontent.com/lilaceri/Working-with-data-/main/Data%20Sets%20for%20code%20divisio/exams.csv\"\n",
        "  explore_data = pd.read_csv(url)\n",
        "  return explore_data\n",
        "\n",
        "\n",
        "import pandas as pd\n",
        "\n",
        "data_explore = get_data_retrieval()\n",
        "print(data_explore.shape)\n",
        "print(data_explore.head())\n",
        "print(data_explore.columns)"
      ]
    },
    {
      "cell_type": "markdown",
      "source": [
        "I now know that I have 1000 rows and 8 columns in the dataframe\n",
        "The 8 column headings are 'gender', 'ethnicity', 'parental_education', 'lunch', 'preparation_course', 'math_score', 'reading_score' and 'writing_score'. They are all saved as objects datatype. There are no time or date variables (so I will not need to import datetime libraries). Now it's time to find any null values. Also, I am going to drop \"preparation_course\" columns. Since I will not be using it further in my analyses."
      ],
      "metadata": {
        "id": "2DeixdqMuUrb"
      }
    },
    {
      "cell_type": "code",
      "source": [
        "def any_nulls(df):\n",
        "  df_null = df.isna().any()\n",
        "  return df_null\n",
        "\n",
        "data_explore_null = any_nulls(data_explore)\n",
        "print(data_explore_null)\n",
        "\n",
        "# drop column on preparatory course since it doesn't matter for my further analysis - I'm not going to use it.\n",
        "data_explore = data_explore.drop(columns=['preparation_course'])\n",
        "print(data_explore.columns)\n"
      ],
      "metadata": {
        "colab": {
          "base_uri": "https://localhost:8080/"
        },
        "id": "nZ7xOSyWxlHm",
        "outputId": "79d99541-9a18-4ea3-f33f-db695bc6434b"
      },
      "execution_count": 57,
      "outputs": [
        {
          "output_type": "stream",
          "name": "stdout",
          "text": [
            "gender                False\n",
            "ethnicity             False\n",
            "parental_education    False\n",
            "lunch                 False\n",
            "math_score            False\n",
            "reading_score         False\n",
            "writing_score         False\n",
            "dtype: bool\n",
            "Index(['gender', 'ethnicity', 'parental_education', 'lunch', 'math_score',\n",
            "       'reading_score', 'writing_score'],\n",
            "      dtype='object')\n"
          ]
        }
      ]
    },
    {
      "cell_type": "markdown",
      "source": [
        "There are no nulls in the dataframe. So now, I want to look at the unique values in the columns to understand what the columns denote."
      ],
      "metadata": {
        "id": "HCBVWymb0o9w"
      }
    },
    {
      "cell_type": "code",
      "source": [
        "df = data_explore\n",
        "for col in df:\n",
        "  print(df[col].unique())"
      ],
      "metadata": {
        "colab": {
          "base_uri": "https://localhost:8080/"
        },
        "id": "lSUoT6A81oC4",
        "outputId": "04e500a9-e7e6-4cf6-9a06-bc9a4e1346bb"
      },
      "execution_count": 58,
      "outputs": [
        {
          "output_type": "stream",
          "name": "stdout",
          "text": [
            "['female' 'male']\n",
            "['group E' 'group C' 'group B' 'group D' 'group A']\n",
            "['college' 'high school' \"associate's degree\" \"master's degree\"\n",
            " \"bachelor's degree\"]\n",
            "['free/reduced' 'standard']\n",
            "[ 65  75  62  60  34  53  85  93  58  83  54  38  90  61  55  44  71  77\n",
            "  39  78  74  56  68  48  82  66  64  89  87  69  50  80  99  57  59  96\n",
            "  91  41  52  98  51  79  84  92  37  81  49  21  95  73  70  47  63  43\n",
            "  46  76  72  29  42  67 100  40  33  86  36  30  94  35  45  88  18  31\n",
            "  97  23  28  32  27  13]\n",
            "[ 76  72  56  60  54  66  88  73  71  75  94  69  36  81  57  64  79  35\n",
            "  85  82  63  39  92  80  68  83  89 100  77  59  84  99  97  67  65  87\n",
            "  70  43  44  91  46  74  90  26  52  48  61  62  55  41  53  78  58  32\n",
            "  98  42  30  27  47  51  49  40  45  28  86  93  17  50  38  37  95  16]\n",
            "[ 71  69  61  59  55  92  70  63  82  42  81  52  62  73  56  49  72  33\n",
            "  86  65  43  84  83  54  79  80  99  75  85  87 100  74  77  93  57  67\n",
            "  64  68  41  60  38  20  53  45  78  76  90  48  44  66  39  89  88  27\n",
            "  37  91  50  98  29  51  28  58  47  46  97  96  36  31  17  94  34  95\n",
            "  24  32  40  35  12]\n"
          ]
        }
      ]
    },
    {
      "cell_type": "markdown",
      "source": [
        "Now that I see unique values of the columns, I want to replace \"some college\" to college and \"some high school\" to \"high school\" in column parental education (It doesn't make sense to me about \"some college or highschool\"."
      ],
      "metadata": {
        "id": "sSaaCOZW2QQf"
      }
    },
    {
      "cell_type": "code",
      "source": [
        "def clean_data(df):\n",
        "  df[\"parental_education\"] = df[\"parental_education\"].replace('some college','college')\n",
        "  df[\"parental_education\"] = df[\"parental_education\"].replace('some high school','high school')\n",
        "  return df\n",
        "\n",
        "data_explore_clean = clean_data(data_explore)"
      ],
      "metadata": {
        "id": "kJKCtctP29AW"
      },
      "execution_count": 15,
      "outputs": []
    },
    {
      "cell_type": "markdown",
      "source": [
        "So now that I have cleaned up the data and have an idea of the dataframe. I want to understand the following:\n",
        "Which gender has the highest \n",
        "1. 'math_score' \n",
        "2. 'reading_score' \n",
        "3. 'writing_score'\n",
        "\n",
        "respectively."
      ],
      "metadata": {
        "id": "TudOq2_34wE_"
      }
    },
    {
      "cell_type": "code",
      "source": [
        "def math_gender_describe(df):\n",
        "  math_gender = df.groupby('gender').math_score. describe()\n",
        "  return math_gender\n",
        "\n",
        "def write_gender_describe(df):\n",
        "  write_gender = df.groupby('gender').writing_score. describe()\n",
        "  return write_gender\n",
        "\n",
        "def read_gender_describe(df):\n",
        "  read_gender = df.groupby('gender').reading_score. describe()\n",
        "  return read_gender\n",
        "\n",
        "print(\"Math scores by gender\\n\")\n",
        "gender_math = math_gender_describe(data_explore)\n",
        "print(gender_math)\n",
        "\n",
        "print(\"\\nReading scores by gender\\n\")\n",
        "gender_read = read_gender_describe(data_explore)\n",
        "print(gender_read)\n",
        "\n",
        "print(\"\\nWriting scores by gender\\n\")\n",
        "gender_write = write_gender_describe(data_explore)\n",
        "print(gender_write)\n"
      ],
      "metadata": {
        "colab": {
          "base_uri": "https://localhost:8080/"
        },
        "id": "LF2e0kEL5i9_",
        "outputId": "5d5452c8-4cec-4353-f5f2-68e4edb35e59"
      },
      "execution_count": 59,
      "outputs": [
        {
          "output_type": "stream",
          "name": "stdout",
          "text": [
            "Math scores by gender\n",
            "\n",
            "        count       mean        std   min    25%   50%   75%    max\n",
            "gender                                                             \n",
            "female  496.0  64.941532  14.544623  18.0  54.75  66.0  75.0  100.0\n",
            "male    504.0  68.748016  15.642438  13.0  59.00  69.0  79.0  100.0\n",
            "\n",
            "Reading scores by gender\n",
            "\n",
            "        count       mean        std   min    25%   50%   75%    max\n",
            "gender                                                             \n",
            "female  496.0  73.866935  13.867717  17.0  64.00  75.0  84.0  100.0\n",
            "male    504.0  65.648810  14.537320  16.0  55.75  66.0  75.0  100.0\n",
            "\n",
            "Writing scores by gender\n",
            "\n",
            "        count       mean        std   min   25%   50%   75%    max\n",
            "gender                                                            \n",
            "female  496.0  73.651210  14.030606  17.0  64.0  75.0  83.0  100.0\n",
            "male    504.0  63.581349  15.125497  12.0  53.0  64.0  74.0  100.0\n"
          ]
        }
      ]
    },
    {
      "cell_type": "markdown",
      "source": [
        "Naturally, we can draw conclusions based on the above statistics. There are more males than females (but not significantly different). In reading and writing females (on an average) score better than males. In maths males score better on an average than females. In maths, reading and writing the highest scores are the same between males and females( 100%). However, the lowest scores are worse among male than female in all 3 subjects. Of course, I can make more inferences if I look at percentiles etc. But I will stop here."
      ],
      "metadata": {
        "id": "ulZG9vvG-IW0"
      }
    },
    {
      "cell_type": "markdown",
      "source": [
        "Next, I want to know the impact of ethinic background on the exam scores. Again, this can be done in a similar way to gender. Before, I group by both gender and ethinic background, let's look at just ethnic background impact on it's own on the average score in all 3 subjects."
      ],
      "metadata": {
        "id": "ktw6NMqk_lVs"
      }
    },
    {
      "cell_type": "code",
      "source": [
        "def math_ethnic_describe(df):\n",
        "  math_ethnic = df.groupby('ethnicity').math_score. describe()\n",
        "  return math_ethnic\n",
        "\n",
        "def write_ethnic_describe(df):\n",
        "  write_ethnic = df.groupby('ethnicity').writing_score. describe()\n",
        "  return write_ethnic\n",
        "\n",
        "def read_ethnic_describe(df):\n",
        "  read_ethnic = df.groupby('ethnicity').reading_score. describe()\n",
        "  return read_ethnic\n",
        "\n",
        "print(\"Math scores by ethnicity\\n\")\n",
        "ethnic_math = math_ethnic_describe(data_explore)\n",
        "print(ethnic_math)\n",
        "\n",
        "print(\"\\nReading scores by ethnicity\\n\")\n",
        "ethnic_read = read_ethnic_describe(data_explore)\n",
        "print(ethnic_read)\n",
        "\n",
        "print(\"\\nWriting scores by ethnicity\\n\")\n",
        "ethnic_write = write_ethnic_describe(data_explore)\n",
        "print(ethnic_write)"
      ],
      "metadata": {
        "colab": {
          "base_uri": "https://localhost:8080/"
        },
        "id": "exBqovc5ABUn",
        "outputId": "7dc5145d-80da-41fe-8218-b7c12b00b528"
      },
      "execution_count": 60,
      "outputs": [
        {
          "output_type": "stream",
          "name": "stdout",
          "text": [
            "Math scores by ethnicity\n",
            "\n",
            "           count       mean        std   min   25%   50%    75%    max\n",
            "ethnicity                                                             \n",
            "group A     82.0  64.378049  15.144278  23.0  57.0  65.0  75.75  100.0\n",
            "group B    197.0  62.832487  14.246638  28.0  53.0  63.0  73.00  100.0\n",
            "group C    313.0  64.188498  15.231323  13.0  54.0  66.0  74.00  100.0\n",
            "group D    254.0  68.433071  14.549678  18.0  59.0  67.0  79.00  100.0\n",
            "group E    154.0  76.168831  13.335198  45.0  69.0  77.0  84.00  100.0\n",
            "\n",
            "Reading scores by ethnicity\n",
            "\n",
            "           count       mean        std   min   25%   50%    75%    max\n",
            "ethnicity                                                             \n",
            "group A     82.0  68.926829  14.729479  30.0  59.0  70.0  80.75   97.0\n",
            "group B    197.0  66.487310  14.533076  36.0  56.0  65.0  78.00  100.0\n",
            "group C    313.0  68.217252  15.112529  16.0  58.0  69.0  79.00  100.0\n",
            "group D    254.0  70.889764  14.314772  17.0  61.0  72.0  80.00  100.0\n",
            "group E    154.0  75.435065  13.555466  35.0  67.0  76.0  84.75  100.0\n",
            "\n",
            "Writing scores by ethnicity\n",
            "\n",
            "           count       mean        std   min    25%   50%   75%    max\n",
            "ethnicity                                                             \n",
            "group A     82.0  66.768293  15.516060  24.0  53.25  67.0  79.0   97.0\n",
            "group B    197.0  64.670051  15.330634  27.0  53.00  64.0  76.0  100.0\n",
            "group C    313.0  66.709265  15.711802  12.0  56.00  67.0  78.0  100.0\n",
            "group D    254.0  71.295276  14.711031  17.0  63.00  73.0  81.0  100.0\n",
            "group E    154.0  73.844156  14.006128  34.0  66.00  74.0  83.0  100.0\n"
          ]
        }
      ]
    },
    {
      "cell_type": "markdown",
      "source": [
        "Group C has the highest number of pupils in the course. Group A has lowest number of pupils taking the course. Group E pupils on an average have scored higher in all 3 subjects. The lowest scores in all 3 subjects are from Group C students."
      ],
      "metadata": {
        "id": "-GDDkYZXA-ra"
      }
    },
    {
      "cell_type": "markdown",
      "source": [
        "Now, let's try and explore how the gender and ethnicity play out together by grouping by both gender and ethnicity."
      ],
      "metadata": {
        "id": "Z983yJ-KCCv9"
      }
    },
    {
      "cell_type": "code",
      "source": [
        "def math_ethnic_gender(df):\n",
        "  math_ethnic_gender = df.groupby(['ethnicity','gender']).math_score. describe()\n",
        "  return math_ethnic_gender\n",
        "\n",
        "def write_ethnic_gender(df):\n",
        "  write_ethnic_gender = df.groupby(['ethnicity','gender']).writing_score. describe()\n",
        "  return write_ethnic_gender\n",
        "\n",
        "def read_ethnic_gender(df):\n",
        "  read_ethnic_gender = df.groupby(['ethnicity','gender']).reading_score. describe()\n",
        "  return read_ethnic_gender\n",
        "\n",
        "print(\"Math scores by ethnicity and Gender\\n\")\n",
        "ethnic_gender_math = math_ethnic_gender(data_explore)\n",
        "print(ethnic_gender_math)\n",
        "\n",
        "print(\"\\nReading scores by ethnicity and Gender\\n\")\n",
        "ethnic_gender_read = read_ethnic_gender(data_explore)\n",
        "print(ethnic_gender_read)\n",
        "\n",
        "print(\"\\nWriting scores by ethnicity and Gender\\n\")\n",
        "ethnic_gender_write = write_ethnic_gender(data_explore)\n",
        "print(ethnic_gender_write)"
      ],
      "metadata": {
        "colab": {
          "base_uri": "https://localhost:8080/"
        },
        "id": "7G7H2PtBCQOi",
        "outputId": "d05b388e-955d-4164-9671-1c702265de13"
      },
      "execution_count": 61,
      "outputs": [
        {
          "output_type": "stream",
          "name": "stdout",
          "text": [
            "Math scores by ethnicity and Gender\n",
            "\n",
            "                  count       mean        std   min    25%   50%    75%    max\n",
            "ethnicity gender                                                              \n",
            "group A   female   38.0  63.736842  13.865540  31.0  57.00  64.5  75.75   86.0\n",
            "          male     44.0  64.931818  16.307222  23.0  56.75  65.5  75.25  100.0\n",
            "group B   female   93.0  60.666667  14.335524  28.0  52.00  61.0  73.00   89.0\n",
            "          male    104.0  64.769231  13.951532  35.0  55.00  65.0  73.25  100.0\n",
            "group C   female  163.0  63.079755  13.842581  27.0  51.50  65.0  72.00   94.0\n",
            "          male    150.0  65.393333  16.572354  13.0  55.00  66.0  76.00  100.0\n",
            "group D   female  123.0  65.105691  14.280454  18.0  56.00  65.0  73.50   93.0\n",
            "          male    131.0  71.557252  14.152554  31.0  62.50  70.0  82.00  100.0\n",
            "group E   female   79.0  74.139241  13.285556  45.0  67.50  74.0  82.50  100.0\n",
            "          male     75.0  78.306667  13.137499  47.0  71.00  79.0  87.00  100.0\n",
            "\n",
            "Reading scores by ethnicity and Gender\n",
            "\n",
            "                  count       mean        std   min    25%   50%    75%    max\n",
            "ethnicity gender                                                              \n",
            "group A   female   38.0  75.026316  11.614266  51.0  66.25  74.5  84.00   97.0\n",
            "          male     44.0  63.659091  15.210069  30.0  55.00  61.5  72.25   95.0\n",
            "group B   female   93.0  70.118280  15.464440  36.0  61.00  71.0  81.00  100.0\n",
            "          male    104.0  63.240385  12.874672  36.0  54.00  64.0  72.00   93.0\n",
            "group C   female  163.0  73.042945  13.612063  35.0  63.50  73.0  83.00  100.0\n",
            "          male    150.0  62.973333  14.954044  16.0  52.00  63.0  73.00   99.0\n",
            "group D   female  123.0  73.577236  13.807226  17.0  65.50  75.0  81.50  100.0\n",
            "          male    131.0  68.366412  14.374767  30.0  59.00  68.0  78.50  100.0\n",
            "group E   female   79.0  79.873418  11.656809  47.0  72.50  81.0  87.50  100.0\n",
            "          male     75.0  70.760000  13.910758  35.0  64.50  71.0  78.50  100.0\n",
            "\n",
            "Writing scores by ethnicity and Gender\n",
            "\n",
            "                  count       mean        std   min    25%   50%    75%    max\n",
            "ethnicity gender                                                              \n",
            "group A   female   38.0  73.157895  12.609577  44.0  64.00  74.5  83.75   92.0\n",
            "          male     44.0  61.250000  15.793913  24.0  50.00  59.0  73.00   97.0\n",
            "group B   female   93.0  69.634409  15.758907  34.0  59.00  73.0  80.00  100.0\n",
            "          male    104.0  60.230769  13.537600  27.0  50.75  61.0  69.00   91.0\n",
            "group C   female  163.0  72.478528  13.476242  33.0  64.00  73.0  81.50  100.0\n",
            "          male    150.0  60.440000  15.603940  12.0  49.25  62.0  71.00   98.0\n",
            "group D   female  123.0  75.016260  13.975965  17.0  66.50  76.0  83.50  100.0\n",
            "          male    131.0  67.801527  14.576282  29.0  57.00  67.0  79.00   99.0\n",
            "group E   female   79.0  78.911392  12.043926  46.0  72.00  80.0  86.00  100.0\n",
            "          male     75.0  68.506667  14.014831  34.0  61.00  69.0  75.00  100.0\n"
          ]
        }
      ]
    },
    {
      "cell_type": "markdown",
      "source": [
        "The number of female and male students is pretty similar in all ethinic groups (except groups B and C that have the highest difference in numbers- 11 and 13 respectively). Regardless of ethinic groups, females score better on an average in both reading and writing while they score lower than males on an average in maths. Group E females score better than everyone in reading and writing and group E males score better than everyone in maths. Group D females and Group C males have the lowest scores in all 3 subjects."
      ],
      "metadata": {
        "id": "hxO_ygNgDohE"
      }
    },
    {
      "cell_type": "markdown",
      "source": [
        "Next I want to look at the impact of financial challenges on pupil's scores. To do this, I am going to group by lunch (this is based on the assumption that those who get free/reduced lunch options are facing financial challenges). I would also like to see how teh financial challenge impacts males and females pupils and also pupils from different ethinicity. The code for this is below."
      ],
      "metadata": {
        "id": "jVsL0teGGGuJ"
      }
    },
    {
      "cell_type": "code",
      "source": [
        "def math_lunch_describe(df):\n",
        "  math_lunch = df.groupby('lunch').math_score. describe()\n",
        "  return math_lunch\n",
        "\n",
        "def write_lunch_describe(df):\n",
        "  write_lunch = df.groupby('lunch').writing_score. describe()\n",
        "  return write_lunch\n",
        "\n",
        "def read_lunch_describe(df):\n",
        "  read_lunch = df.groupby('lunch').reading_score. describe()\n",
        "  return read_lunch\n",
        "\n",
        "print(\"Math scores by Financial difficulty\\n\")\n",
        "lunch_math = math_lunch_describe(data_explore)\n",
        "print(lunch_math)\n",
        "\n",
        "print(\"\\nReading scores by Financial difficulty\\n\")\n",
        "lunch_read = read_lunch_describe(data_explore)\n",
        "print(lunch_read)\n",
        "\n",
        "print(\"\\nWriting scores by Financial Difficulaty\\n\")\n",
        "lunch_write = write_lunch_describe(data_explore)\n",
        "print(lunch_write)\n",
        "\n",
        "\n",
        "def math_lunch_gender(df):\n",
        "  math_lunch_gender = df.groupby(['lunch','gender']).math_score. describe()\n",
        "  return math_lunch_gender\n",
        "\n",
        "def write_lunch_gender(df):\n",
        "  write_lunch_gender = df.groupby(['lunch','gender']).writing_score. describe()\n",
        "  return write_lunch_gender\n",
        "\n",
        "def read_lunch_gender(df):\n",
        "  read_lunch_gender = df.groupby(['lunch','gender']).reading_score. describe()\n",
        "  return read_lunch_gender\n",
        "\n",
        "print(\"\\nMath scores by Financial difficulty and Gender\\n\")\n",
        "gender_lunch_math = math_lunch_gender(data_explore)\n",
        "print(gender_lunch_math)\n",
        "\n",
        "print(\"\\nReading scores by Financial difficulty and Gender\\n\")\n",
        "gender_lunch_read = read_lunch_gender(data_explore)\n",
        "print(gender_lunch_read)\n",
        "\n",
        "print(\"\\nWriting scores by Financial difficulty and Gender\\n\")\n",
        "gender_lunch_write = write_lunch_gender(data_explore)\n",
        "print(gender_lunch_write)\n",
        "\n",
        "def math_lunch_ethnic(df):\n",
        "  math_lunch_ethnic = df.groupby(['lunch','ethnicity']).math_score. describe()\n",
        "  return math_lunch_ethnic\n",
        "\n",
        "def write_lunch_ethnic(df):\n",
        "  write_lunch_ethnic = df.groupby(['lunch','ethnicity']).writing_score. describe()\n",
        "  return write_lunch_ethnic\n",
        "\n",
        "def read_lunch_ethnic(df):\n",
        "  read_lunch_ethnic = df.groupby(['lunch','ethnicity']).reading_score. describe()\n",
        "  return read_lunch_ethnic\n",
        "\n",
        "print(\"\\nMath scores by Financial difficulty and ethnicity\\n\")\n",
        "ethnic_lunch_math = math_lunch_ethnic(data_explore)\n",
        "print(ethnic_lunch_math)\n",
        "\n",
        "print(\"\\nReading scores by Financial difficulty and ethnicity\\n\")\n",
        "ethnic_lunch_read = read_lunch_ethnic(data_explore)\n",
        "print(ethnic_lunch_read)\n",
        "\n",
        "print(\"\\nWriting scores by Financial difficulty and ethnicity\\n\")\n",
        "ethnic_lunch_write = write_lunch_ethnic(data_explore)\n",
        "print(ethnic_lunch_write)"
      ],
      "metadata": {
        "colab": {
          "base_uri": "https://localhost:8080/"
        },
        "id": "FTLYvePLGsA6",
        "outputId": "9d3fa154-4193-4e44-cc2b-9c03868f56ad"
      },
      "execution_count": 63,
      "outputs": [
        {
          "output_type": "stream",
          "name": "stdout",
          "text": [
            "Math scores by Financial difficulty\n",
            "\n",
            "              count       mean        std   min   25%   50%   75%    max\n",
            "lunch                                                                   \n",
            "free/reduced  353.0  59.181303  13.961635  13.0  49.0  60.0  69.0   93.0\n",
            "standard      647.0  71.049459  14.220206  18.0  62.0  71.0  81.0  100.0\n",
            "\n",
            "Reading scores by Financial difficulty\n",
            "\n",
            "              count       mean        std   min   25%   50%   75%    max\n",
            "lunch                                                                   \n",
            "free/reduced  353.0  64.776204  14.022437  16.0  56.0  65.0  74.0   97.0\n",
            "standard      647.0  72.425039  14.499072  17.0  63.0  73.0  83.0  100.0\n",
            "\n",
            "Writing scores by Financial Difficulaty\n",
            "\n",
            "              count       mean        std   min   25%   50%   75%    max\n",
            "lunch                                                                   \n",
            "free/reduced  353.0  63.062323  14.876827  12.0  53.0  64.0  74.0  100.0\n",
            "standard      647.0  71.584235  14.897958  17.0  62.0  73.0  82.0  100.0\n",
            "\n",
            "Math scores by Financial difficulty and Gender\n",
            "\n",
            "                     count       mean        std   min   25%   50%   75%    max\n",
            "lunch        gender                                                            \n",
            "free/reduced female  174.0  58.316092  12.997913  27.0  49.0  59.0  68.0   92.0\n",
            "             male    179.0  60.022346  14.826697  13.0  50.5  60.0  70.5   93.0\n",
            "standard     female  322.0  68.521739  14.089428  18.0  59.0  69.0  78.0  100.0\n",
            "             male    325.0  73.553846  13.923547  38.0  65.0  73.0  82.0  100.0\n",
            "\n",
            "Reading scores by Financial difficulty and Gender\n",
            "\n",
            "                     count       mean        std   min   25%   50%   75%    max\n",
            "lunch        gender                                                            \n",
            "free/reduced female  174.0  69.982759  12.577838  35.0  62.0  70.0  79.0   94.0\n",
            "             male    179.0  59.715084  13.521200  16.0  50.0  61.0  70.0   97.0\n",
            "standard     female  322.0  75.965839  14.096090  17.0  67.0  77.0  85.0  100.0\n",
            "             male    325.0  68.916923  14.052894  28.0  59.0  69.0  79.0  100.0\n",
            "\n",
            "Writing scores by Financial difficulty and Gender\n",
            "\n",
            "                     count       mean        std   min   25%   50%   75%    max\n",
            "lunch        gender                                                            \n",
            "free/reduced female  174.0  69.431034  12.761184  39.0  61.0  70.0  79.0  100.0\n",
            "             male    179.0  56.871508  14.184587  12.0  47.0  57.0  68.0   90.0\n",
            "standard     female  322.0  75.931677  14.174974  17.0  67.0  77.0  86.0  100.0\n",
            "             male    325.0  67.276923  14.354966  27.0  56.0  67.0  78.0  100.0\n",
            "\n",
            "Math scores by Financial difficulty and ethnicity\n",
            "\n",
            "                        count       mean        std  ...   50%    75%    max\n",
            "lunch        ethnicity                               ...                    \n",
            "free/reduced group A     29.0  56.379310  16.056627  ...  57.0  65.00   85.0\n",
            "             group B     72.0  58.680556  12.125896  ...  60.0  66.00   85.0\n",
            "             group C    112.0  54.919643  14.381005  ...  54.0  65.25   90.0\n",
            "             group D     87.0  60.333333  13.014899  ...  61.0  68.00   92.0\n",
            "             group E     53.0  68.509434  11.115863  ...  70.0  76.00   93.0\n",
            "standard     group A     53.0  68.754717  12.776038  ...  69.0  77.00  100.0\n",
            "             group B    125.0  65.224000  14.861112  ...  66.0  76.00  100.0\n",
            "             group C    201.0  69.353234  13.122866  ...  69.0  76.00  100.0\n",
            "             group D    167.0  72.652695  13.512568  ...  70.0  83.00  100.0\n",
            "             group E    101.0  80.188119  12.665475  ...  80.0  90.00  100.0\n",
            "\n",
            "[10 rows x 8 columns]\n",
            "\n",
            "Reading scores by Financial difficulty and ethnicity\n",
            "\n",
            "                        count       mean        std  ...   50%    75%    max\n",
            "lunch        ethnicity                               ...                    \n",
            "free/reduced group A     29.0  64.137931  15.305751  ...  61.0  78.00   93.0\n",
            "             group B     72.0  65.666667  13.211178  ...  64.5  75.25   92.0\n",
            "             group C    112.0  61.857143  14.969553  ...  62.5  72.25   93.0\n",
            "             group D     87.0  65.586207  13.923004  ...  66.0  75.00   97.0\n",
            "             group E     53.0  68.754717  11.433597  ...  70.0  76.00   93.0\n",
            "standard     group A     53.0  71.547170  13.857192  ...  73.0  82.00   97.0\n",
            "             group B    125.0  66.960000  15.274056  ...  66.0  79.00  100.0\n",
            "             group C    201.0  71.761194  14.022934  ...  72.0  82.00  100.0\n",
            "             group D    167.0  73.652695  13.764337  ...  75.0  83.00  100.0\n",
            "             group E    101.0  78.940594  13.307758  ...  80.0  88.00  100.0\n",
            "\n",
            "[10 rows x 8 columns]\n",
            "\n",
            "Writing scores by Financial difficulty and ethnicity\n",
            "\n",
            "                        count       mean        std  ...   50%   75%    max\n",
            "lunch        ethnicity                               ...                   \n",
            "free/reduced group A     29.0  61.103448  16.889018  ...  57.0  78.0   92.0\n",
            "             group B     72.0  63.305556  14.037815  ...  62.5  75.0   96.0\n",
            "             group C    112.0  59.651786  16.204609  ...  59.0  71.0   91.0\n",
            "             group D     87.0  65.402299  14.043504  ...  66.0  75.5  100.0\n",
            "             group E     53.0  67.169811  11.626786  ...  69.0  74.0   91.0\n",
            "standard     group A     53.0  69.867925  13.918772  ...  71.0  82.0   97.0\n",
            "             group B    125.0  65.456000  16.029964  ...  65.0  77.0  100.0\n",
            "             group C    201.0  70.641791  13.997537  ...  71.0  81.0  100.0\n",
            "             group D    167.0  74.365269  14.141437  ...  77.0  84.0  100.0\n",
            "             group E    101.0  77.346535  13.922956  ...  79.0  86.0  100.0\n",
            "\n",
            "[10 rows x 8 columns]\n"
          ]
        }
      ]
    },
    {
      "cell_type": "markdown",
      "source": [
        "More than 1/3 of the pupils are facing financial difficulties. Financial difficulties has a huge impact on the average scores of the pupils in all 3 subjects. It has slightly larger impact on the male students compared to females. Group E has the lowest number of pupils facing financial difficulties and naturally pupils from group E seem to do better in all 3 subjects. "
      ],
      "metadata": {
        "id": "zfadkuzSJqUY"
      }
    },
    {
      "cell_type": "markdown",
      "source": [
        "Next I want to look at the impact of parental education in the pupils scores in all 3 subjects. I will then continue to look at any differences in gender or ethinicity results based on parental education. To do this, first I will group by parental education. Then by parental education and gender and then by parental education and ethinicity."
      ],
      "metadata": {
        "id": "wYO539NYFVqq"
      }
    },
    {
      "cell_type": "code",
      "source": [
        "def math_parents_describe(df):\n",
        "  math_parents = df.groupby('parental_education').math_score. describe()\n",
        "  return math_parents\n",
        "\n",
        "def write_parents_describe(df):\n",
        "  write_parents = df.groupby('parental_education').writing_score. describe()\n",
        "  return write_parents\n",
        "\n",
        "def read_parents_describe(df):\n",
        "  read_parents = df.groupby('parental_education').reading_score. describe()\n",
        "  return read_parents\n",
        "\n",
        "print(\"Math scores by parental_education\\n\")\n",
        "parents_math = math_parents_describe(data_explore)\n",
        "print(parents_math)\n",
        "\n",
        "print(\"\\nReading scores by parental_education \\n\")\n",
        "parents_read = read_parents_describe(data_explore)\n",
        "print(parents_read)\n",
        "\n",
        "print(\"\\nWriting scores by parental_education\\n\")\n",
        "parents_write = write_parents_describe(data_explore)\n",
        "print(parents_write)"
      ],
      "metadata": {
        "colab": {
          "base_uri": "https://localhost:8080/"
        },
        "id": "lWaUL44hOWWT",
        "outputId": "fe3c3c3b-c416-45ea-957a-d74ab2dcb40d"
      },
      "execution_count": 64,
      "outputs": [
        {
          "output_type": "stream",
          "name": "stdout",
          "text": [
            "Math scores by parental_education\n",
            "\n",
            "                    count       mean        std   min   25%   50%    75%    max\n",
            "parental_education                                                             \n",
            "associate's degree  190.0  67.221053  14.035615  28.0  58.0  67.0  77.00  100.0\n",
            "bachelor's degree   110.0  69.009091  14.511935  33.0  61.0  69.0  78.00  100.0\n",
            "college             244.0  67.032787  13.934553  31.0  58.0  68.0  77.00  100.0\n",
            "high school         380.0  64.402632  16.410579  13.0  53.0  65.0  76.25  100.0\n",
            "master's degree      76.0  74.578947  13.958284  27.0  66.0  73.0  83.75  100.0\n",
            "\n",
            "Reading scores by parental_education \n",
            "\n",
            "                    count       mean        std  ...   50%    75%    max\n",
            "parental_education                               ...                    \n",
            "associate's degree  190.0  70.784211  13.780623  ...  71.0  81.00  100.0\n",
            "bachelor's degree   110.0  72.654545  14.784344  ...  73.5  83.00  100.0\n",
            "college             244.0  69.795082  13.469636  ...  70.0  78.25  100.0\n",
            "high school         380.0  67.107895  15.806930  ...  68.0  79.00  100.0\n",
            "master's degree      76.0  75.697368  13.369637  ...  74.5  87.00  100.0\n",
            "\n",
            "[5 rows x 8 columns]\n",
            "\n",
            "Writing scores by parental_education\n",
            "\n",
            "                    count       mean        std   min   25%   50%    75%    max\n",
            "parental_education                                                             \n",
            "associate's degree  190.0  70.063158  14.763971  27.0  62.0  70.5  80.00  100.0\n",
            "bachelor's degree   110.0  72.518182  15.312483  28.0  64.0  74.5  84.75  100.0\n",
            "college             244.0  68.831967  13.934608  34.0  59.0  68.0  79.00  100.0\n",
            "high school         380.0  65.239474  16.186186  12.0  54.0  66.0  78.00  100.0\n",
            "master's degree      76.0  75.013158  14.194359  40.0  65.0  75.0  84.25  100.0\n"
          ]
        }
      ]
    },
    {
      "cell_type": "markdown",
      "source": [
        "Parental eductaion level has a significant impact on the pupils' scores in all three subjects. A larger number of pupils' parents (38%) have high school education. While only 7.6% of the parents have master's degree. Pupils whose parents have master's degree score on avaerage 10 points more than pupils whose parents have finished high school in all 3 subjects. Pupils with parents finishing just high school seem to get the lowest score in all 3 subjects."
      ],
      "metadata": {
        "id": "vFa03a-jUS4S"
      }
    }
  ]
}