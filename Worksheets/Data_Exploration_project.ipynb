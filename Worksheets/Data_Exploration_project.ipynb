{
  "nbformat": 4,
  "nbformat_minor": 0,
  "metadata": {
    "colab": {
      "name": "Data Exploration project.ipynb",
      "provenance": [],
      "include_colab_link": true
    },
    "kernelspec": {
      "name": "python3",
      "display_name": "Python 3"
    },
    "language_info": {
      "name": "python"
    }
  },
  "cells": [
    {
      "cell_type": "markdown",
      "metadata": {
        "id": "view-in-github",
        "colab_type": "text"
      },
      "source": [
        "<a href=\"https://colab.research.google.com/github/JaySanthanam/Programming-for-data/blob/main/Worksheets/Data_Exploration_project.ipynb\" target=\"_parent\"><img src=\"https://colab.research.google.com/assets/colab-badge.svg\" alt=\"Open In Colab\"/></a>"
      ]
    },
    {
      "cell_type": "markdown",
      "source": [
        "# Exploring data sets\n",
        "---\n",
        "\n",
        "This [link](https://docs.google.com/document/d/1cijDOCDixsYu-Rr9pC8STPPXado3xoFpgBAZgdDTLHs/edit?usp=sharing) will take you to a list of some of the datasets we use during the Programming for Data course.\n",
        "\n",
        "For this exercise, please choose a dataset to work with."
      ],
      "metadata": {
        "id": "bGQ4E0gGX-PI"
      }
    },
    {
      "cell_type": "markdown",
      "source": [
        "Use the code cell below to play with the data.  Look at what data is included, where there is any null data, if there are any columns that need renaming, removing, new values calculated from them.\n",
        "\n",
        "Form some ideas of what you might want to know from the data and use the techniques you have learned so far to show the answers to these.  You might do this by getting summary statistics, by sorting and showing parts of the dataset, by calculating new values, etc."
      ],
      "metadata": {
        "id": "YkkYGsVOcMpp"
      }
    },
    {
      "cell_type": "markdown",
      "source": [
        "### What to do\n",
        "---\n",
        "\n",
        "Decide what you want to know, explain this in the TEXT cell below, then write some code to get the answer.  When you have done this, add a new text cell below the code cell, explain what you have found.  Then do the same again, adding text cell, code cell, text cell, for something else you would like to know."
      ],
      "metadata": {
        "id": "5P8CecO6clH9"
      }
    },
    {
      "cell_type": "markdown",
      "source": [
        "I have chosen Exam daat to work with as an example.\n",
        "\n",
        "First thing I want to do is read the data from the link and look at the headings and the first few rows to know what the data looks like and also know the shape of my dataframe. I shall call this part as data retrieval (don't know what the right word for this is). Below is the code for this."
      ],
      "metadata": {
        "id": "7G3pgO-Tc7EQ"
      }
    },
    {
      "cell_type": "code",
      "execution_count": 5,
      "metadata": {
        "id": "Omq5otEAX7z8",
        "outputId": "c8332ee4-a449-4b85-bf77-5512b1bbfa3b",
        "colab": {
          "base_uri": "https://localhost:8080/"
        }
      },
      "outputs": [
        {
          "output_type": "stream",
          "name": "stdout",
          "text": [
            "(1000, 8)\n",
            "   gender ethnicity  ... reading_score writing_score\n",
            "0  female   group E  ...            76            71\n",
            "1    male   group C  ...            72            69\n",
            "2  female   group B  ...            56            61\n",
            "3    male   group D  ...            60            59\n",
            "4  female   group C  ...            54            55\n",
            "\n",
            "[5 rows x 8 columns]\n",
            "Index(['gender', 'ethnicity', 'parental_education', 'lunch',\n",
            "       'preparation_course', 'math_score', 'reading_score', 'writing_score'],\n",
            "      dtype='object')\n"
          ]
        }
      ],
      "source": [
        "def get_data_retrieval():\n",
        "  url =  \"https://raw.githubusercontent.com/lilaceri/Working-with-data-/main/Data%20Sets%20for%20code%20divisio/exams.csv\"\n",
        "  explore_data = pd.read_csv(url)\n",
        "  return explore_data\n",
        "\n",
        "\n",
        "import pandas as pd\n",
        "\n",
        "data_explore = get_data_retrieval()\n",
        "print(data_explore.shape)\n",
        "print(data_explore.head())\n",
        "print(data_explore.columns)"
      ]
    },
    {
      "cell_type": "markdown",
      "source": [
        "I now know that I have 1000 rows and 8 columns in the dataframe\n",
        "The 8 column headings are 'gender', 'ethnicity', 'parental_education', 'lunch', 'preparation_course', 'math_score', 'reading_score' and 'writing_score'. They are all saved as objects datatype. There are no time or date variables (so I will not need to import datetime libraries). Now it's time to find any null values."
      ],
      "metadata": {
        "id": "2DeixdqMuUrb"
      }
    },
    {
      "cell_type": "code",
      "source": [
        "def any_nulls(df):\n",
        "  df_null = df.isna().any()\n",
        "  return df_null\n",
        "\n",
        "data_explore_null = any_nulls(data_explore)\n",
        "print(data_explore_null)"
      ],
      "metadata": {
        "id": "nZ7xOSyWxlHm",
        "outputId": "132c4aa5-a475-4cbb-b04d-51ee2e978df0",
        "colab": {
          "base_uri": "https://localhost:8080/"
        }
      },
      "execution_count": 7,
      "outputs": [
        {
          "output_type": "stream",
          "name": "stdout",
          "text": [
            "gender                False\n",
            "ethnicity             False\n",
            "parental_education    False\n",
            "lunch                 False\n",
            "preparation_course    False\n",
            "math_score            False\n",
            "reading_score         False\n",
            "writing_score         False\n",
            "dtype: bool\n"
          ]
        }
      ]
    },
    {
      "cell_type": "markdown",
      "source": [
        "There are no nulls in the dataframe. So now, I want to look at the unique values in the columns to understand what the columns denote."
      ],
      "metadata": {
        "id": "HCBVWymb0o9w"
      }
    },
    {
      "cell_type": "code",
      "source": [
        "df = data_explore\n",
        "for col in df:\n",
        "  print(df[col].unique())"
      ],
      "metadata": {
        "id": "lSUoT6A81oC4",
        "outputId": "b7a19621-aa3c-4677-ca7a-b312da333d8a",
        "colab": {
          "base_uri": "https://localhost:8080/"
        }
      },
      "execution_count": 8,
      "outputs": [
        {
          "output_type": "stream",
          "name": "stdout",
          "text": [
            "['female' 'male']\n",
            "['group E' 'group C' 'group B' 'group D' 'group A']\n",
            "['some college' 'some high school' 'high school' \"associate's degree\"\n",
            " \"master's degree\" \"bachelor's degree\"]\n",
            "['free/reduced' 'standard']\n",
            "['none' 'completed']\n",
            "[ 65  75  62  60  34  53  85  93  58  83  54  38  90  61  55  44  71  77\n",
            "  39  78  74  56  68  48  82  66  64  89  87  69  50  80  99  57  59  96\n",
            "  91  41  52  98  51  79  84  92  37  81  49  21  95  73  70  47  63  43\n",
            "  46  76  72  29  42  67 100  40  33  86  36  30  94  35  45  88  18  31\n",
            "  97  23  28  32  27  13]\n",
            "[ 76  72  56  60  54  66  88  73  71  75  94  69  36  81  57  64  79  35\n",
            "  85  82  63  39  92  80  68  83  89 100  77  59  84  99  97  67  65  87\n",
            "  70  43  44  91  46  74  90  26  52  48  61  62  55  41  53  78  58  32\n",
            "  98  42  30  27  47  51  49  40  45  28  86  93  17  50  38  37  95  16]\n",
            "[ 71  69  61  59  55  92  70  63  82  42  81  52  62  73  56  49  72  33\n",
            "  86  65  43  84  83  54  79  80  99  75  85  87 100  74  77  93  57  67\n",
            "  64  68  41  60  38  20  53  45  78  76  90  48  44  66  39  89  88  27\n",
            "  37  91  50  98  29  51  28  58  47  46  97  96  36  31  17  94  34  95\n",
            "  24  32  40  35  12]\n"
          ]
        }
      ]
    },
    {
      "cell_type": "markdown",
      "source": [
        "Now that I see unique values of the columns, I want to replace \"some college\" to college and \"some high school\" to \"high school\" in column parental education (It doesn't make sense to me about \"some college or highschool\"."
      ],
      "metadata": {
        "id": "sSaaCOZW2QQf"
      }
    },
    {
      "cell_type": "code",
      "source": [
        "def clean_data(df):\n",
        "  df[\"parental_education\"] = df[\"parental_education\"].replace('some college','college')\n",
        "  df[\"parental_education\"] = df[\"parental_education\"].replace('some high school','high school')\n",
        "  return df\n",
        "\n",
        "data_explore_clean = clean_data(data_explore)"
      ],
      "metadata": {
        "id": "kJKCtctP29AW"
      },
      "execution_count": 15,
      "outputs": []
    },
    {
      "cell_type": "markdown",
      "source": [
        "So now that I have cleaned up the data and have an idea of the dataframe. I want to understand the following:\n",
        "Which gender has the highest \n",
        "1. 'math_score' \n",
        "2. 'reading_score' \n",
        "3. 'writing_score'\n",
        "\n",
        "respectively."
      ],
      "metadata": {
        "id": "TudOq2_34wE_"
      }
    },
    {
      "cell_type": "code",
      "source": [
        "def math_gender_describe(df):\n",
        "  math_gender = df.groupby('gender').math_score. describe()\n",
        "  return math_gender\n",
        "\n",
        "def write_gender_describe(df):\n",
        "  write_gender = df.groupby('gender').writing_score. describe()\n",
        "  return write_gender\n",
        "\n",
        "def read_gender_describe(df):\n",
        "  read_gender = df.groupby('gender').reading_score. describe()\n",
        "  return read_gender\n",
        "\n",
        "print(\"Math scores by gender\\n\")\n",
        "gender_math = math_gender_describe(data_explore)\n",
        "print(gender_math)\n",
        "\n",
        "print(\"\\nReading scores by gender\\n\")\n",
        "gender_read = read_gender_describe(data_explore)\n",
        "print(gender_read)\n",
        "\n",
        "print(\"\\nWriting scores by gender\\n\")\n",
        "gender_write = write_gender_describe(data_explore)\n",
        "print(gender_write)\n"
      ],
      "metadata": {
        "id": "LF2e0kEL5i9_",
        "outputId": "ae67686e-b8c5-42b1-eb90-3d60c9c53c2d",
        "colab": {
          "base_uri": "https://localhost:8080/"
        }
      },
      "execution_count": 36,
      "outputs": [
        {
          "output_type": "stream",
          "name": "stdout",
          "text": [
            "Math scores by gender\n",
            "\n",
            "        count       mean        std   min    25%   50%   75%    max\n",
            "gender                                                             \n",
            "female  496.0  64.941532  14.544623  18.0  54.75  66.0  75.0  100.0\n",
            "male    504.0  68.748016  15.642438  13.0  59.00  69.0  79.0  100.0\n",
            "\n",
            "Reading scores by gender\n",
            "\n",
            "        count       mean        std   min    25%   50%   75%    max\n",
            "gender                                                             \n",
            "female  496.0  73.866935  13.867717  17.0  64.00  75.0  84.0  100.0\n",
            "male    504.0  65.648810  14.537320  16.0  55.75  66.0  75.0  100.0\n",
            "\n",
            "Writing scores by gender\n",
            "\n",
            "        count       mean        std   min   25%   50%   75%    max\n",
            "gender                                                            \n",
            "female  496.0  73.651210  14.030606  17.0  64.0  75.0  83.0  100.0\n",
            "male    504.0  63.581349  15.125497  12.0  53.0  64.0  74.0  100.0\n"
          ]
        }
      ]
    },
    {
      "cell_type": "markdown",
      "source": [
        "Naturally, we can draw conclusions based on the above statistics. There are more males than females (but not significantly different). In reading and writing females (on an average) score better than males. In maths males score better on an average than females. In maths, reading and writing the highest scores are the same between males and females( 100%). However, the lowest scores are worse among male than female in all 3 subjects. Of course, I can make more inferences if I look at percentiles etc. But I will stop here."
      ],
      "metadata": {
        "id": "ulZG9vvG-IW0"
      }
    },
    {
      "cell_type": "markdown",
      "source": [
        "Next, I want to know the impact of ethinic background on the exam scores. Again, this can be done in a similar way to gender. Before, I group by both gender and ethinic background, let's look at just ethnic background impact on it's own on the average score in all 3 subjects."
      ],
      "metadata": {
        "id": "ktw6NMqk_lVs"
      }
    },
    {
      "cell_type": "code",
      "source": [
        "def math_ethnic_describe(df):\n",
        "  math_ethnic = df.groupby('ethnicity').math_score. describe()\n",
        "  return math_ethnic\n",
        "\n",
        "def write_ethnic_describe(df):\n",
        "  write_ethnic = df.groupby('ethnicity').writing_score. describe()\n",
        "  return write_ethnic\n",
        "\n",
        "def read_ethnic_describe(df):\n",
        "  read_ethnic = df.groupby('ethnicity').reading_score. describe()\n",
        "  return read_ethnic\n",
        "\n",
        "print(\"Math scores by ethnicity\\n\")\n",
        "ethnic_math = math_ethnic_describe(data_explore)\n",
        "print(ethnic_math)\n",
        "\n",
        "print(\"\\nReading scores by ethnicity\\n\")\n",
        "ethnic_read = read_ethnic_describe(data_explore)\n",
        "print(ethnic_read)\n",
        "\n",
        "print(\"\\nWriting scores by ethnicity\\n\")\n",
        "ethnic_write = write_ethnic_describe(data_explore)\n",
        "print(ethnic_write)"
      ],
      "metadata": {
        "id": "exBqovc5ABUn",
        "outputId": "aa20bc1d-d22d-4787-9cdc-29f6f4fd334e",
        "colab": {
          "base_uri": "https://localhost:8080/"
        }
      },
      "execution_count": 37,
      "outputs": [
        {
          "output_type": "stream",
          "name": "stdout",
          "text": [
            "Math scores by ethnicity\n",
            "\n",
            "           count       mean        std   min   25%   50%    75%    max\n",
            "ethnicity                                                             \n",
            "group A     82.0  64.378049  15.144278  23.0  57.0  65.0  75.75  100.0\n",
            "group B    197.0  62.832487  14.246638  28.0  53.0  63.0  73.00  100.0\n",
            "group C    313.0  64.188498  15.231323  13.0  54.0  66.0  74.00  100.0\n",
            "group D    254.0  68.433071  14.549678  18.0  59.0  67.0  79.00  100.0\n",
            "group E    154.0  76.168831  13.335198  45.0  69.0  77.0  84.00  100.0\n",
            "\n",
            "Reading scores by ethnicity\n",
            "\n",
            "           count       mean        std   min   25%   50%    75%    max\n",
            "ethnicity                                                             \n",
            "group A     82.0  68.926829  14.729479  30.0  59.0  70.0  80.75   97.0\n",
            "group B    197.0  66.487310  14.533076  36.0  56.0  65.0  78.00  100.0\n",
            "group C    313.0  68.217252  15.112529  16.0  58.0  69.0  79.00  100.0\n",
            "group D    254.0  70.889764  14.314772  17.0  61.0  72.0  80.00  100.0\n",
            "group E    154.0  75.435065  13.555466  35.0  67.0  76.0  84.75  100.0\n",
            "\n",
            "Writing scores by ethnicity\n",
            "\n",
            "           count       mean        std   min    25%   50%   75%    max\n",
            "ethnicity                                                             \n",
            "group A     82.0  66.768293  15.516060  24.0  53.25  67.0  79.0   97.0\n",
            "group B    197.0  64.670051  15.330634  27.0  53.00  64.0  76.0  100.0\n",
            "group C    313.0  66.709265  15.711802  12.0  56.00  67.0  78.0  100.0\n",
            "group D    254.0  71.295276  14.711031  17.0  63.00  73.0  81.0  100.0\n",
            "group E    154.0  73.844156  14.006128  34.0  66.00  74.0  83.0  100.0\n"
          ]
        }
      ]
    }
  ]
}