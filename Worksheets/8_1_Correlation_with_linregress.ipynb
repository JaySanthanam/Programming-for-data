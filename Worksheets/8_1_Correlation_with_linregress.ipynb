{
  "nbformat": 4,
  "nbformat_minor": 0,
  "metadata": {
    "colab": {
      "name": "8.1. Correlation with linregress",
      "provenance": [],
      "collapsed_sections": [],
      "include_colab_link": true
    },
    "kernelspec": {
      "name": "python3",
      "display_name": "Python 3"
    },
    "language_info": {
      "name": "python"
    }
  },
  "cells": [
    {
      "cell_type": "markdown",
      "metadata": {
        "id": "view-in-github",
        "colab_type": "text"
      },
      "source": [
        "<a href=\"https://colab.research.google.com/github/JaySanthanam/Programming-for-data/blob/main/Worksheets/8_1_Correlation_with_linregress.ipynb\" target=\"_parent\"><img src=\"https://colab.research.google.com/assets/colab-badge.svg\" alt=\"Open In Colab\"/></a>"
      ]
    },
    {
      "cell_type": "markdown",
      "metadata": {
        "id": "rM0pH87Y4dOV"
      },
      "source": [
        "# Describing the data relatively and visually\n",
        "---\n",
        "\n",
        "This worksheet introduces **scipy** library\n",
        "\n",
        "A library of functions for interpolating, optimising, linear regression, etc  \n",
        "\n",
        "---\n",
        "\n",
        "A dataset will be read into a dataframe, cleaned, wrangled and so prepared for summarising and the telling of stories through visualisations and summaries.\n",
        "\n",
        "So far we have covered statistical measures over an individual series.  Linear regression reports correlation between the values in two series.\n",
        "\n",
        "To get the results of a linear regression:  \n",
        "*  import the `linregress` function from the `scipy.stats` package \n",
        "*  run the `linregress` function with the two axes assigning the result to a variable (e.g. `regression`) \n",
        "\n",
        "The result of the linregress function is a set of variables:  \n",
        "*  `slope`, `intercept` - the gradient and y-intercept of the regression line (the line of best fit between the two series) are in `regression.slope` and `regression.intercept`\n",
        "*  `rvalue` - the correlation coefficient - this indicates how closely the line drawn from the linear regression data fits the actual data, the closer to 1 the better the fit\n",
        "*  `pvalue` - the probability of error if the regression line is extended to predict\n",
        "*  the standard error is in `regression.stderr` and is the average distance of each data point from the lineof best fit \n",
        "\n",
        "\n",
        "Further information [here](https://docs.scipy.org/doc/scipy/reference/generated/scipy.stats.linregress.html)\n"
      ]
    },
    {
      "cell_type": "markdown",
      "metadata": {
        "id": "A60PQ510HHMQ"
      },
      "source": [
        "### Exercise 1 - is age closely related to income?\n",
        "---\n",
        "\n",
        "Use linear regression to compare the columns 'Age' and 'Income' in the data set 'Income-Data' at this url:  \n",
        "https://github.com/futureCodersSE/working-with-data/blob/main/Data%20sets/Income-Data.xlsx?raw=true  \n",
        "\n",
        "To do this:\n",
        "*  import the pandas library  \n",
        "\n",
        "\n",
        "*  import the **linregress** function from the library **scipy.stats**  (`from scipy.stats import linregress`)  \n",
        "\n",
        "\n",
        "*  open the Excel file at the url above, using the sheet_name '`county-level`', reading the data into a dataframe called **county_level_df**  \n",
        "\n",
        "\n",
        "*  create a variable called **x** and assign the '`Age`' column of the `county_level_df` dataframe   \n",
        "\n",
        "\n",
        "*  create a variable called **y** and assign the '`Income`' column of the `county_level_df` dataframe   \n",
        "\n",
        "\n",
        "*  create a variable called **regression** and assign the result of running the linregress function with `x`, `y` as its parameters ( `linregress(x,y)` )   \n",
        "\n",
        "\n",
        "*  display the regression  \n",
        "(*Expected output:  LinregressResult(slope=-0.31433084434233205, intercept=72.78388856978748, rvalue=-0.14787411576068246, pvalue=0.5581637648902298, stderr=0.5255739814332189*)  \n",
        "\n",
        "\n",
        "*  display the slope (`regression.slope`)  \n",
        "(*Expected output: -0.31433084434233205 - this indicates that the line plotting Age against Income slopes downward implying that income reduces with age*)  \n",
        "\n",
        "\n",
        "*  display the intercept (`regression.intercept`)  \n",
        "(*Expected output: 72.78388856978748 - this indicates that income level starts at 72.78388856978748 and reduces from there by age*)    \n",
        "\n",
        "\n",
        "*  display the rvalue (which indicates how closely income follows age and whether it goes up as age goes up or goes down as age goes up "
      ]
    },
    {
      "cell_type": "code",
      "source": [
        "!pip install --upgrade openpyxl"
      ],
      "metadata": {
        "id": "Wqeur5i5gbrq",
        "outputId": "162ba989-67ed-4b24-a775-28b90cf55b3a",
        "colab": {
          "base_uri": "https://localhost:8080/"
        }
      },
      "execution_count": 1,
      "outputs": [
        {
          "output_type": "stream",
          "name": "stdout",
          "text": [
            "Requirement already satisfied: openpyxl in /usr/local/lib/python3.7/dist-packages (3.0.9)\n",
            "Requirement already satisfied: et-xmlfile in /usr/local/lib/python3.7/dist-packages (from openpyxl) (1.1.0)\n"
          ]
        }
      ]
    },
    {
      "cell_type": "code",
      "metadata": {
        "id": "B7-yqi8n4Z3s",
        "outputId": "cf93cf7f-804c-4eb2-d6a2-cfad2cf46fc7",
        "colab": {
          "base_uri": "https://localhost:8080/"
        }
      },
      "source": [
        "import pandas as pd\n",
        "import numpy as np\n",
        "from sklearn.linear_model import LinearRegression\n",
        "from scipy import stats\n",
        "from scipy.stats.stats import pearsonr\n",
        "\n",
        "def get_excel_data(url,str):\n",
        "  df = pd.read_excel(url,sheet_name=str)\n",
        "  return df\n",
        "\n",
        "def regression_model(x,y):\n",
        "  lin_model = stats.linregress(x, y)\n",
        "  return lin_model\n",
        "\n",
        "url = \"https://github.com/futureCodersSE/working-with-data/blob/main/Data%20sets/Income-Data.xlsx?raw=true\"\n",
        "income_df = get_excel_data(url,\"county-level\")\n",
        "\n",
        "x= income_df['Age']\n",
        "y= income_df['Income']\n",
        "\n",
        "lin_model = regression_model(x,y)\n",
        "print(lin_model)\n",
        "print(\"The slope is\",lin_model.slope)\n",
        "print(\"This indicates that the line plotting Income against Age slopes downward implying that income reduces with age\")\n",
        "print(\"The intercept is\",lin_model.intercept)\n",
        "print(\"This indicates that income level starts at\", lin_model.intercept, \"and reduces from there by age\")\n",
        "print(f\"R-squared: {lin_model.rvalue**2:.4f}\")\n",
        "print(\"P-value is\", lin_model.pvalue, \"indicating that the model is NOT significant\")"
      ],
      "execution_count": 44,
      "outputs": [
        {
          "output_type": "stream",
          "name": "stdout",
          "text": [
            "LinregressResult(slope=-0.31433084434233205, intercept=72.78388856978748, rvalue=-0.14787411576068246, pvalue=0.5581637648902298, stderr=0.5255739814332189)\n",
            "The slope is -0.31433084434233205\n",
            "This indicates that the line plotting Income against Age slopes downward implying that income reduces with age\n",
            "The intercept is 72.78388856978748\n",
            "This indicates that income level starts at 72.78388856978748 and reduces from there by age\n",
            "R-squared: 0.0219\n",
            "P-value is 0.5581637648902298 indicating that the model is NOT significant\n"
          ]
        }
      ]
    },
    {
      "cell_type": "code",
      "source": [
        "import matplotlib.pyplot as plt\n",
        "plt.plot(x, y, 'o', label='original data')\n",
        "plt.plot(x, lin_model.intercept + lin_model.slope*x, 'r', label='fitted line')\n",
        "plt.legend()\n",
        "plt.show()"
      ],
      "metadata": {
        "id": "YMzPU77Yp-PY",
        "outputId": "1dbc49ee-a9cd-4432-e9f7-5c26b9b9bd02",
        "colab": {
          "base_uri": "https://localhost:8080/",
          "height": 265
        }
      },
      "execution_count": 46,
      "outputs": [
        {
          "output_type": "display_data",
          "data": {
            "image/png": "[encoded data removed]",
            "text/plain": [
              "<Figure size 432x288 with 1 Axes>"
            ]
          },
          "metadata": {
            "needs_background": "light"
          }
        }
      ]
    },
    {
      "cell_type": "markdown",
      "metadata": {
        "id": "AXiD7hVyQEe9"
      },
      "source": [
        "### Exercise 2 - Could Population predict Income?  \n",
        "---\n",
        "\n",
        "Repeat the steps in exercise 1 to see if there is a clearer correlation between Population and Income.  \n",
        "\n",
        "Add a statement in the text cell to describe your findings.\n",
        "\n",
        "**Expected output**:   \n",
        "0.013558605755058871\n"
      ]
    },
    {
      "cell_type": "code",
      "metadata": {
        "id": "S349ZIiIQSvy",
        "outputId": "2b60b4e5-6aa6-43a7-dc1e-b70006060a18",
        "colab": {
          "base_uri": "https://localhost:8080/"
        }
      },
      "source": [
        "x1 = income_df['Population']\n",
        "model_pop = regression_model(x1,y)\n",
        "\n",
        "print(\"The slope is\",model_pop.slope)\n",
        "print(\"This indicates that the line plotting Income against population nearly stays the same implying that income has no significant change with population\")\n",
        "print(\"The intercept is\",model_pop.intercept)\n",
        "print(\"This indicates that income level starts at\", model_pop.intercept, \"almost remains the same\")\n",
        "print(f\"R-squared: {model_pop.rvalue**2:.4f}\")\n",
        "print(\"P-value is\", model_pop.pvalue, \"indicating that the model is NOT significant\")"
      ],
      "execution_count": 42,
      "outputs": [
        {
          "output_type": "stream",
          "name": "stdout",
          "text": [
            "The slope is 0.05737132629483762\n",
            "This indicates that the line plotting Income against population nearly stays the same implying that income has no significant change with population\n",
            "The intercept is 60.95698211316883\n",
            "This indicates that income level starts at 60.95698211316883 almost remains the same\n",
            "R-squared: 0.0136\n",
            "P-value is 0.6454275157910035 indicating that the model is NOT significant\n"
          ]
        }
      ]
    },
    {
      "cell_type": "code",
      "source": [
        "plt.plot(x1, y, 'o', label='original data')\n",
        "plt.plot(x1, model_pop.intercept + model_pop.slope*x, 'r', label='fitted line')\n",
        "plt.legend()\n",
        "plt.show()"
      ],
      "metadata": {
        "id": "E3x3s32CmauV",
        "outputId": "f877d15b-2322-4a83-9539-0fce393b11f4",
        "colab": {
          "base_uri": "https://localhost:8080/",
          "height": 265
        }
      },
      "execution_count": 47,
      "outputs": [
        {
          "output_type": "display_data",
          "data": {
            "image/png": "[encoded data removed]",
            "text/plain": [
              "<Figure size 432x288 with 1 Axes>"
            ]
          },
          "metadata": {
            "needs_background": "light"
          }
        }
      ]
    },
    {
      "cell_type": "markdown",
      "metadata": {
        "id": "zZXvmsL2SbA-"
      },
      "source": [
        "### Exercise 3 - Does Stress predict Wellbeing?\n",
        "---\n",
        "\n",
        "Repeat the steps in Exercises 1 & 2 to see if you can find a statistically significant result.\n",
        "\n",
        "Add a statement in the text cell to describe your findings\n",
        "\n",
        "* Read the dataset: \"https://github.com/lilaceri/Working-with-data-/blob/b157a2feceb7709cf82426932385706d65446270/Data%20Sets%20for%20code%20divisio/Positive_Psychology_2017.csv?raw=true\"\n",
        "\n",
        "* perform linear regression  \n",
        "* look at r_squared and pvalue to get an idea of how predictive and significant these variables are\n",
        "\n",
        "* save slope and intercepts in variables for later \n",
        "\n",
        "Challenge:  \n",
        "Write a function that checks the significance of a regression and displays a message indicating the result.\n",
        "\n",
        "**Test output**:  \n",
        "LinregressResult(slope=-0.6279050248852254, intercept=37.713488379900454, rvalue=-0.6713959740851134, pvalue=6.084540561441803e-07, stderr=0.10694652962765022)  \n",
        "r sqr = 0.4507725540176983  \n",
        "model is significant, p < .05:  6.084540561441803e-07  "
      ]
    },
    {
      "cell_type": "code",
      "metadata": {
        "id": "pbZf_2dITkqX",
        "outputId": "c1a10810-9ded-4973-c24b-cd268b047646",
        "colab": {
          "base_uri": "https://localhost:8080/"
        }
      },
      "source": [
        "def get_csv_data(url):\n",
        "  df = pd.read_csv(url)\n",
        "  return df  \n",
        "\n",
        "url = \"https://github.com/lilaceri/Working-with-data-/blob/b157a2feceb7709cf82426932385706d65446270/Data%20Sets%20for%20code%20divisio/Positive_Psychology_2017.csv?raw=true\"\n",
        "psych_data = get_csv_data(url)\n",
        "\n",
        "s = psych_data[\"Stress\"]\n",
        "w = psych_data[\"Wellbeing\"]\n",
        "\n",
        "model_stress = regression_model(s,w)\n",
        "\n",
        "print(\"The slope is\",model_stress.slope)\n",
        "print(\"This indicates that the line plotting Wellbeing against stress slopes downward implying that wellbeing goes down as the stress level increases\")\n",
        "print(\"The intercept is\",model_stress.intercept)\n",
        "print(\"This indicates that income level starts at\", model_stress.intercept, \"goes down as stress level invcreases\")\n",
        "print(f\"R-squared: {model_stress.rvalue**2:.4f}\")\n",
        "print(\"P-value is\", model_stress.pvalue, \"indicating that the model is significant\")\n",
        "\n",
        "print(model_stress)\n"
      ],
      "execution_count": 39,
      "outputs": [
        {
          "output_type": "stream",
          "name": "stdout",
          "text": [
            "The slope is -0.6279050248852254\n",
            "This indicates that the line plotting Wellbeing against stress slopes downward implying that wellbeing goes down as the stress level increases\n",
            "The intercept is 37.713488379900454\n",
            "This indicates that income level starts at 37.713488379900454 goes down as stress level invcreases\n",
            "R-squared: 0.4508\n",
            "P-value is 6.084540561441803e-07 indicating that the model is significant\n",
            "LinregressResult(slope=-0.6279050248852254, intercept=37.713488379900454, rvalue=-0.6713959740851134, pvalue=6.084540561441803e-07, stderr=0.10694652962765022)\n"
          ]
        }
      ]
    },
    {
      "cell_type": "markdown",
      "source": [
        "# Create some charts and make some predictions from regressions\n",
        "\n",
        "1.  Using what you know from completing the Visualisation worksheets (matplotlib and Seaborn), plot the various regression results in a set of charts.\n",
        "2.  Use the slope and intercept to calculate a prediction for a reasonable value (e.g. predict an income for a given age using the slope and intercept from the regression to calculate income from the formula `age * slope + intercept`"
      ],
      "metadata": {
        "id": "ZZPFyMur8gxM"
      }
    },
    {
      "cell_type": "markdown",
      "source": [
        "Oops! Already did it in exercise 3! But I will try seaborn for stress model."
      ],
      "metadata": {
        "id": "e15r0YkVqKqO"
      }
    },
    {
      "cell_type": "markdown",
      "source": [
        ""
      ],
      "metadata": {
        "id": "2oDPJkbUqKdX"
      }
    },
    {
      "cell_type": "code",
      "metadata": {
        "id": "9puphgbB1tUY",
        "outputId": "61d5cabc-68d5-4305-d470-6dd6c86af99f",
        "colab": {
          "base_uri": "https://localhost:8080/",
          "height": 295
        }
      },
      "source": [
        "import seaborn as sns\n",
        "\n",
        "chart=sns.regplot(x=s, y=w, data = model_stress.slope*s+model_stress.intercept, color = 'blue', line_kws={'color': 'red'})\n",
        "chart.set_xlabel(\"Stress\")\n",
        "chart.set_ylabel(\"Wellbeing Score\")\n",
        "chart.set_title(\"Wellbeing score of students Vs Stress\")\n",
        "sns.set_style(\"darkgrid\", {\"grid.color\": \"1\", \"grid.linestyle\": \":\"})"
      ],
      "execution_count": 62,
      "outputs": [
        {
          "output_type": "display_data",
          "data": {
            "image/png": "[encoded data removed]",
            "text/plain": [
              "<Figure size 432x288 with 1 Axes>"
            ]
          },
          "metadata": {}
        }
      ]
    },
    {
      "cell_type": "markdown",
      "metadata": {
        "id": "FWli4XMmsAPo"
      },
      "source": [
        "# Further reference on linear regression\n",
        "\n",
        "[at statisticalsolutions.com](https://www.statisticssolutions.com/free-resources/directory-of-statistical-analyses/what-is-linear-regression/)"
      ]
    }
  ]
}