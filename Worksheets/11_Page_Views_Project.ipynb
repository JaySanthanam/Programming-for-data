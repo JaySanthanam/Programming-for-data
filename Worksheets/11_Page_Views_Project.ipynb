{
  "nbformat": 4,
  "nbformat_minor": 0,
  "metadata": {
    "colab": {
      "name": "11 Page Views Project.ipynb",
      "provenance": [],
      "collapsed_sections": [],
      "include_colab_link": true
    },
    "kernelspec": {
      "name": "python3",
      "display_name": "Python 3"
    },
    "language_info": {
      "name": "python"
    }
  },
  "cells": [
    {
      "cell_type": "markdown",
      "metadata": {
        "id": "view-in-github",
        "colab_type": "text"
      },
      "source": [
        "<a href=\"https://colab.research.google.com/github/JaySanthanam/Programming-for-data/blob/main/Worksheets/11_Page_Views_Project.ipynb\" target=\"_parent\"><img src=\"https://colab.research.google.com/assets/colab-badge.svg\" alt=\"Open In Colab\"/></a>"
      ]
    },
    {
      "cell_type": "markdown",
      "metadata": {
        "id": "PbPj7T6rpfIM"
      },
      "source": [
        "# Discovery project - page views\n",
        "\n",
        "### Adapted from freeCodeCamp [project](https://www.freecodecamp.org/learn/data-analysis-with-python/data-analysis-with-python-projects/page-view-time-series-visualizer)\n",
        "\n",
        "For this project you will visualise data that has values recorded against time.  You will use Pandas and Matplotlib to visualise the dataset which contains the number of page views each day on the freeCodeCamp.org forum between 2016-05-09 and 2019-12-03. You will create a line chart, a bar chart, and some box plots to create visualisations that will help you understand the patterns in visits to the forum and identify growth over various time ranges (yearly, monthly, etc).\n",
        "\n",
        "\n",
        "The dataset can be read from here: \"https://raw.githubusercontent.com/futureCodersSE/working-with-data/main/Data%20sets/page_views.csv\"\n",
        "\n",
        "Visualise and analyse the data in the following ways:\n",
        "\n"
      ]
    },
    {
      "cell_type": "markdown",
      "source": [
        "First, let's get the data and take a look at what it looks like and get an idea of what we are dealing with. So I will be reading the data, using get_csv_data function, then print a few things like shape, head etc to get an idea of the data. "
      ],
      "metadata": {
        "id": "hO1IK2b25nDI"
      }
    },
    {
      "cell_type": "code",
      "metadata": {
        "id": "9xYOGWDZpeKg",
        "outputId": "88e3f64d-c613-4304-b3ca-0dc2f58ca481",
        "colab": {
          "base_uri": "https://localhost:8080/"
        }
      },
      "source": [
        "import pandas as pd\n",
        "import numpy as np\n",
        "import matplotlib  \n",
        "import matplotlib.pyplot as plt\n",
        "import seaborn as sns\n",
        "\n",
        "def get_csv_data(url):\n",
        "  df = pd.read_csv(url)\n",
        "  return df\n",
        "\n",
        "url = \"https://raw.githubusercontent.com/futureCodersSE/working-with-data/main/Data%20sets/page_views.csv\"\n",
        "full_df = get_csv_data(url)\n",
        "\n",
        "print(\"data shape is\", full_df.shape)\n",
        "print(full_df.info())\n",
        "print(full_df.head())"
      ],
      "execution_count": 8,
      "outputs": [
        {
          "output_type": "stream",
          "name": "stdout",
          "text": [
            "data shape is (1304, 2)\n",
            "<class 'pandas.core.frame.DataFrame'>\n",
            "RangeIndex: 1304 entries, 0 to 1303\n",
            "Data columns (total 2 columns):\n",
            " #   Column  Non-Null Count  Dtype \n",
            "---  ------  --------------  ----- \n",
            " 0   date    1304 non-null   object\n",
            " 1   value   1304 non-null   int64 \n",
            "dtypes: int64(1), object(1)\n",
            "memory usage: 20.5+ KB\n",
            "None\n",
            "         date  value\n",
            "0  2016-05-09   1201\n",
            "1  2016-05-10   2329\n",
            "2  2016-05-11   1716\n",
            "3  2016-05-12  10539\n",
            "4  2016-05-13   6933\n"
          ]
        }
      ]
    },
    {
      "cell_type": "markdown",
      "source": [
        "### 1.  a line plot, similar to this \n",
        "---\n",
        "![example](https://drive.google.com/uc?id=1Cic5SybYEc86rqbwTCZzyEf4rzQNWJLP) (taken from the freeCodeCamp site) and with similar labelling.\n",
        "\n",
        "To prepare the data for the line plot you might do the following:  \n",
        "\n",
        "*  convert the `date` column to **datetime** type \n",
        "*  create 3 new columns for `year`, `month` and `day` (use `dt.year, dt.strftime to get the month name, dt.day`)\n",
        "*  set the index to the **date** column.\n",
        "*  clean the data by filtering out days when the page views were in the top 2.5% of the dataset or bottom 2.5% of the dataset.\n"
      ],
      "metadata": {
        "id": "VKeRaTH0leil"
      }
    },
    {
      "cell_type": "code",
      "metadata": {
        "id": "bwKeud7NrhVu",
        "outputId": "4fb07f00-5307-4d09-ff1a-ab3bff2be2b0",
        "colab": {
          "base_uri": "https://localhost:8080/"
        }
      },
      "source": [
        "#Convert date column to datetime type since it is currently object type data\n",
        "\n",
        "full_df['date'] = pd.to_datetime(full_df['date'])\n",
        "\n",
        "#get day, month, year from datetime \n",
        "full_df['year'] = full_df['date'].dt.year\n",
        "full_df['month'] = full_df['date'].dt.strftime('%B')\n",
        "full_df['day'] = full_df['date'].dt.day\n",
        "\n",
        "#set date as index\n",
        "full_df.set_index('date')\n",
        "\n",
        "#get top 2.5% and bottom 2.5% of the page views\n",
        "top_df = full_df.sort_values('value', ascending = False).head(int(full_df.shape[0]*0.025))\n",
        "bottom_df = full_df.sort_values('value').head(int(full_df.shape[0]*0.025))\n",
        "\n"
      ],
      "execution_count": 34,
      "outputs": [
        {
          "output_type": "stream",
          "name": "stdout",
          "text": [
            "          date  value  year    month  day\n",
            "0   2016-05-09   1201  2016      May    9\n",
            "2   2016-05-11   1716  2016      May   11\n",
            "1   2016-05-10   2329  2016      May   10\n",
            "7   2016-05-16   2591  2016      May   16\n",
            "6   2016-05-15   2927  2016      May   15\n",
            "5   2016-05-14   3127  2016      May   14\n",
            "8   2016-05-17   3403  2016      May   17\n",
            "9   2016-05-18   5410  2016      May   18\n",
            "4   2016-05-13   6933  2016      May   13\n",
            "26  2016-06-04   7431  2016     June    4\n",
            "876 2018-10-02  10099  2018  October    2\n",
            "25  2016-06-03  10155  2016     June    3\n",
            "24  2016-06-02  10329  2016     June    2\n",
            "3   2016-05-12  10539  2016      May   12\n",
            "23  2016-06-01  13007  2016     June    1\n",
            "13  2016-05-22  13158  2016      May   22\n",
            "12  2016-05-21  13370  2016      May   21\n",
            "14  2016-05-23  13887  2016      May   23\n",
            "16  2016-05-25  14779  2016      May   25\n",
            "15  2016-05-24  15336  2016      May   24\n",
            "71  2016-07-19  15445  2016     July   19\n",
            "82  2016-07-30  16002  2016     July   30\n",
            "27  2016-06-05  16031  2016     June    5\n",
            "33  2016-06-11  16098  2016     June   11\n",
            "34  2016-06-12  16147  2016     June   12\n",
            "83  2016-07-31  16223  2016     July   31\n",
            "21  2016-05-30  16607  2016      May   30\n",
            "22  2016-05-31  16616  2016      May   31\n",
            "28  2016-06-06  16621  2016     June    6\n",
            "32  2016-06-10  17087  2016     June   10\n",
            "11  2016-05-20  17491  2016      May   20\n",
            "35  2016-06-13  17570  2016     June   13\n"
          ]
        }
      ]
    },
    {
      "cell_type": "markdown",
      "source": [
        "###2. a bar chart similar to this \n",
        "---\n",
        "\n",
        "![example](https://drive.google.com/uc?id=15-tIwheaCIcUsx6jfg5DBAWFVGE4bHzK) (taken from the freeCodeCamp site) and with similar labelling.  It should show average daily page views for each month grouped by year. \n",
        "\n",
        "To prepare the data for the bar chart you should create a pivot table and can use pivot_table_name.plot(kind='bar')\n"
      ],
      "metadata": {
        "id": "t0C_CKXhlh1Z"
      }
    },
    {
      "cell_type": "code",
      "source": [
        ""
      ],
      "metadata": {
        "id": "K48C8gw1llFV"
      },
      "execution_count": null,
      "outputs": []
    },
    {
      "cell_type": "markdown",
      "source": [
        "###3.  a set of box plots similar to this\n",
        "---\n",
        " ![example](https://drive.google.com/uc?id=1kqhGKnA0Ybtyw2cew67u3_ogMS9Fb1hM)\n",
        "\n",
        "These box plots should show how the values are distributed within a given year or month and how it compares over time. \n"
      ],
      "metadata": {
        "id": "GentBB6gllVh"
      }
    },
    {
      "cell_type": "code",
      "source": [
        ""
      ],
      "metadata": {
        "id": "6v7ReU6Jlnb5"
      },
      "execution_count": null,
      "outputs": []
    },
    {
      "cell_type": "markdown",
      "source": [
        "###4.  predict the number of page views in the year 2020 based on the data up to 2019\n",
        "---\n",
        "\n",
        "*  perform a linear regression and create a line of best fit \n",
        "*  predict the page views in the year 2020, 2025 and 2030 if identified trends persist. \n"
      ],
      "metadata": {
        "id": "VRT2P1DAlnmy"
      }
    },
    {
      "cell_type": "code",
      "source": [
        ""
      ],
      "metadata": {
        "id": "mU3-V66DloZJ"
      },
      "execution_count": null,
      "outputs": []
    },
    {
      "cell_type": "markdown",
      "source": [
        "# Reflect\n",
        "\n",
        "What caused the biggest problems?\n",
        "How did you solve these problems?"
      ],
      "metadata": {
        "id": "NkL5dw6ulp6K"
      }
    }
  ]
}