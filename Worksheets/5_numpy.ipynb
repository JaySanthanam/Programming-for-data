{
  "nbformat": 4,
  "nbformat_minor": 0,
  "metadata": {
    "colab": {
      "name": "5. numpy.ipynb",
      "provenance": [],
      "collapsed_sections": [],
      "include_colab_link": true
    },
    "kernelspec": {
      "name": "python3",
      "display_name": "Python 3"
    },
    "language_info": {
      "name": "python"
    }
  },
  "cells": [
    {
      "cell_type": "markdown",
      "metadata": {
        "id": "view-in-github",
        "colab_type": "text"
      },
      "source": [
        "<a href=\"https://colab.research.google.com/github/JaySanthanam/Programming-for-data/blob/main/Worksheets/5_numpy.ipynb\" target=\"_parent\"><img src=\"https://colab.research.google.com/assets/colab-badge.svg\" alt=\"Open In Colab\"/></a>"
      ]
    },
    {
      "cell_type": "markdown",
      "metadata": {
        "id": "M21YTen340ZU"
      },
      "source": [
        "# Using numpy for processing lists of number data\n",
        "\n",
        "---"
      ]
    },
    {
      "cell_type": "markdown",
      "metadata": {
        "id": "lvCryMxH47we"
      },
      "source": [
        "## numpy is a high performance array processing library for Python\n",
        "\n",
        "Python lists can contain any type of data, including objects.  numpy arrays are specialised and can only contain numbers.\n",
        "\n",
        "You can customise the memory usage so that arrays can use less memory and items are always stored contiguously, which isn't always the case for Python lists.  This means that it is more efficient at storing, and faster at processing, large data sets.\n",
        "\n",
        "Use numpy arrays to **store and manipulate large lists of numbers** (for other data types use plain Python lists or a panda series)\n",
        "\n",
        "Use numpy arrays to **process panda series (columns) where these contain numerical data and a large number of records**.\n",
        "\n",
        "Use numpy arrays to **create new sets of data** to add to a dataframe.\n",
        "\n",
        "For this course we are going to focus on using numpy arrays as a means of holding and working with a list of data from a pandas dataframe column.\n"
      ]
    },
    {
      "cell_type": "markdown",
      "metadata": {
        "id": "MxKEUfvp54QO"
      },
      "source": [
        "---\n",
        "## Creating a new numpy array (maybe for a new series or an extended series)\n",
        "\n",
        "To use numpy, you will need to import it.  The conventional way to import numpy is to import the whole library and use an *alias*\n",
        "\n",
        "`import numpy as np`\n",
        "\n",
        "Every time you want to use a function from the numpy library you use the syntax:  \n",
        "\n",
        "`np.function_name()`  \n",
        "\n",
        "Create a new numpy array from a Python list of numbers\n",
        "   \n",
        "`arr = np.array([1,2,3])`\n",
        "\n",
        "Or a new numpy matrix from a Python 2 dimensional list of numbers\n",
        "\n",
        "`matrix = np.array([1,2,3],[4,5,6])`\n",
        "\n",
        "Create a numpy array from a dataframe column (series):\n",
        "\n",
        "`arr = df['column name'].to_numpy(datatype)`\n",
        "\n",
        "where the datatype matches the data type of the column (`df.info()` will give this information if you are unsure).\n",
        "\n"
      ]
    },
    {
      "cell_type": "markdown",
      "metadata": {
        "id": "s2HQHeHE6r4n"
      },
      "source": [
        "### Exercise 1 - create a new numpy array to hold the numbers from 1 to 100\n",
        "---\n",
        "\n",
        "Write a function called `make_array()` which will:\n",
        "*   create a list of the numbers 1 to 10  \n",
        "*   create a new numpy array called **new_array** from that list\n",
        "*   print `new_array`\n",
        "\n",
        "Expected output:  \n",
        "`[1 2 3 4 5 6 7 8 9 10] ` \n",
        "\n"
      ]
    },
    {
      "cell_type": "code",
      "metadata": {
        "id": "-WWVDSRq7QDN",
        "outputId": "6bd3c4bb-1ac6-4fdf-c947-811bf2518be2",
        "colab": {
          "base_uri": "https://localhost:8080/"
        }
      },
      "source": [
        "import numpy as np\n",
        "\n",
        "def make_array(num_list):\n",
        "  # add your code below here\n",
        "  new_array = np.array(num_list)\n",
        "  print(new_array)\n",
        "\n",
        "\n",
        "\n",
        "# run and test the function against the expected output\n",
        "my_list = [1,2,3,4,5,6,7,8,9,10]\n",
        "make_array(my_list)"
      ],
      "execution_count": 1,
      "outputs": [
        {
          "output_type": "stream",
          "name": "stdout",
          "text": [
            "[ 1  2  3  4  5  6  7  8  9 10]\n"
          ]
        }
      ]
    },
    {
      "cell_type": "markdown",
      "metadata": {
        "id": "X2qc0-nc7qZV"
      },
      "source": [
        "## Setting the number type in memory\n",
        "\n",
        "numpy allows you to set the type of number in memory (e.g. `int8`, `int32`) when you create the array.  This allows memory allocation to be as small as possible.  \n",
        "\n",
        "`new_matrix = np.array([1, 2, 3], np.int8)`    \n",
        "\n",
        "This creates a list of whole numbers which are all small enough to fit in 1 byte of memory storage.\n",
        "\n",
        "---\n",
        "### Exercise 2 - create list of smallish numbers\n",
        "\n",
        "Write a function which will:\n",
        "*   accept a parameter **num_list**    \n",
        "*   create a new numpy array called **new_array** from `num_list`, with data size `int16`\n",
        "*   print `new_array`  \n",
        "\n",
        "Test input:  \n",
        "`[31112, 32321, 24567,456,324,789]`\n",
        "\n",
        "Expected output:   \n",
        "```\n",
        "[31112 32321 24567 456 324 789]\n",
        "```"
      ]
    },
    {
      "cell_type": "code",
      "metadata": {
        "id": "XUMfMwhLACzH"
      },
      "source": [
        "import numpy as np\n",
        "\n",
        "def create_new_array(num_list):\n",
        "  # add your code below here to turn num_list into a numpy array\n",
        "\n",
        "\n",
        "\n",
        "# run and test the code against the expected output\n",
        "create_new_array([31112, 32321, 24567,456,324,789])"
      ],
      "execution_count": null,
      "outputs": []
    },
    {
      "cell_type": "markdown",
      "metadata": {
        "id": "oC8rsm3yBLRd"
      },
      "source": [
        "---\n",
        "### Exercise 3 - create a numpy array from a pandas dataframe column\n",
        "\n",
        "Write a function which  will first create a dataframe from the titanic data set, and then will create a numpy array from the Fare column.\n",
        "\n",
        "*Recap*:  *the Fare column is df['Fare'] (assuming your dataframe is called df)*\n",
        "\n",
        "*  create a dataframe from the data set in the file at this url:  https://raw.githubusercontent.com/pandas-dev/pandas/master/doc/data/titanic.csv  \n",
        "*  create a new numpy array called **fare** from the `Fare` column (*remember to specify the data type e.g. np.int32, float64 when using* `df.to_numpy()`)  \n",
        "*  print the `fare` array\n",
        "\n",
        "Expected output:  \n",
        "```\n",
        "array([  7.25  ,  71.2833,   7.925 , ......  23.45  ,  30.    ,   7.75  ])\n",
        "```\n",
        "\n",
        "  "
      ]
    },
    {
      "cell_type": "code",
      "metadata": {
        "id": "QCs2eDFEBhr8"
      },
      "source": [
        "import pandas as pd\n",
        "import numpy as np\n",
        "\n",
        "def create_fare_series():\n",
        "  # add your code below here to read the data set into a dataframe and then create a numpy array from the Fare column and print it\n",
        "\n",
        "\n",
        "\n",
        "# run the function and test against the expected output.\n",
        "create_fare_series()"
      ],
      "execution_count": null,
      "outputs": []
    },
    {
      "cell_type": "markdown",
      "metadata": {
        "id": "qf3xj2T9CRmT"
      },
      "source": [
        "---\n",
        "### Exercise 4 - get some statistics from a numpy array created from a data series\n",
        "\n",
        "This exercise will use data on income in certain US states.  The link is: https://github.com/futureCodersSE/working-with-data/blob/main/Data%20sets/Income-Data.xlsx?raw=true  This spreadsheet just has one sheet.  \n",
        "\n",
        "Write a function which will create a numpy array from the `Age` column in the income dataset and will print the following:\n",
        "\n",
        "*  the average (mean) age of those surveyed  \n",
        "*  the age of the oldest person\n",
        "*  the age of the youngest person\n",
        "\n",
        "TO HELP with this, refer to this helpsheet: http://datacamp-community-prod.s3.amazonaws.com/da466534-51fe-4c6d-b0cb-154f4782eb54 \n",
        "\n",
        "Expected output:  \n",
        "```\n",
        "29.88888888888889\n",
        "42\n",
        "22\n",
        "```\n",
        "\n",
        "     "
      ]
    },
    {
      "cell_type": "code",
      "metadata": {
        "id": "27UpVktxC_VX"
      },
      "source": [
        "import pandas as pd\n",
        "import numpy as np\n",
        "\n",
        "def get_age_stats():\n",
        "  # add your code below here to read the data set into a dataframe and then create a numpy array from the Fare column and print it\n",
        "\n",
        "\n",
        "\n",
        "# run the function and test against the expected output.\n",
        "get_age_stats()"
      ],
      "execution_count": null,
      "outputs": []
    },
    {
      "cell_type": "code",
      "metadata": {
        "id": "uFARauf3FiMf"
      },
      "source": [
        ""
      ],
      "execution_count": null,
      "outputs": []
    },
    {
      "cell_type": "markdown",
      "metadata": {
        "id": "DDVIHbrnFjwz"
      },
      "source": [
        "---\n",
        "### Exercise 6 - find the mean and standard deviation of wages\n",
        "\n",
        "This exercise will again use data on income in certain US states.  The link is: https://github.com/futureCodersSE/working-with-data/blob/main/Data%20sets/Income-Data.xlsx?raw=true  This spreadsheet just has one sheet.\n",
        "\n",
        "Write a function which will create a numpy array from the `Income` column in the income dataset and will print the following:\n",
        "\n",
        "*  the mean income of those surveyed  \n",
        "*  the standard deviation of income\n",
        "*  the highest income\n",
        "*  the lowest income as a percentage of the mean (lowest / mean * 100) \n",
        "\n",
        "TO HELP with this, refer to this helpsheet: http://datacamp-community-prod.s3.amazonaws.com/da466534-51fe-4c6d-b0cb-154f4782eb54 \n",
        "\n",
        "Expected output:  \n",
        "```\n",
        "63.388888888888886\n",
        "13.936916958961463\n",
        "81\n",
        "34.70639789658195\n",
        "```\n",
        "\n"
      ]
    },
    {
      "cell_type": "code",
      "metadata": {
        "id": "YB72q998EWkF"
      },
      "source": [
        "import pandas as pd\n",
        "import numpy as np\n",
        "\n",
        "def get_income_stats():\n",
        "  # add your code below to calculate the stats\n",
        "\n",
        "\n",
        "\n",
        "# run the function and test against expected output\n",
        "get_income_stats()"
      ],
      "execution_count": null,
      "outputs": []
    },
    {
      "cell_type": "markdown",
      "metadata": {
        "id": "QnOKzp1cHAvH"
      },
      "source": [
        "---\n",
        "### Exercise 7 - finding the correlation between two series\n",
        "\n",
        "Let's find out if there is a strong correlation between Age and Income in the income data set.\n",
        "\n",
        "*  read the Income data into a pandas dataframe\n",
        "*  create a numpy array from the Age column  \n",
        "*  create a numpy array from the Income column  \n",
        "*  use the np.corrcoef(nparray1, nparray2) function to get the Pearson's Correlation Coefficient (the measure of linear correlation between the two data sets) and store it in a variable called **coef**\n",
        "*  print the correlation coefficient output (see below, it will be a 2x2 matrix)\n",
        "*  print the correlation coefficient (which is at position [0][1] (coef[0][1]))\n",
        "\n",
        "\n",
        "Expected output:  \n",
        "```\n",
        "[[ 1.         -0.14787412]\n",
        " [-0.14787412  1.        ]]\n",
        " -0.1478741157606825\n",
        "\n",
        "```\n",
        "The matrix gives 4 values showing the correlation between:\n",
        "\n",
        "```\n",
        "   |    (Age/Age)        (Age/Income)     |\n",
        "   |    (Income/Age)     (Income/Income)  |\n",
        "```\n",
        "This suggests that income decreases with age (the correlation is negative \n",
        "so as one increases the other decreases) but that the correlation is quite weak (an absolute correlation would be 1 and no correlation would be 0)"
      ]
    },
    {
      "cell_type": "code",
      "metadata": {
        "id": "xXsISkA4HibO"
      },
      "source": [
        "import pandas as pd\n",
        "import numpy as np\n",
        "\n",
        "def get_correlation():\n",
        "  # add your code below to get the correlation figure for age and salary\n",
        "\n",
        "\n",
        "# run the function and test against expected output\n",
        "get_correlation()"
      ],
      "execution_count": null,
      "outputs": []
    },
    {
      "cell_type": "markdown",
      "metadata": {
        "id": "OxR5qwoxIhMY"
      },
      "source": [
        "---\n",
        "## Broadcasting an operation across an array\n",
        "\n",
        "Because a numpy array is created from a related set of data, it is useful to be able to operate on every item in the array in the same way.  For instance, the array might hold a set of scores out of 30 and you might want to convert all scores into percentages.\n",
        "\n",
        "We can do this in a number of ways:  \n",
        "1.  Create a new array to store the result after the operation in the new array\n",
        "```\n",
        "scores = np.array([29,25,15,22,30])\n",
        "percentages = scores / 30 * 100\n",
        "print(percentages)\n",
        "```\n",
        "Expected output:\n",
        "```\n",
        "[ 96.66666667  83.33333333  50.          73.33333333 100.        ]\n",
        "```\n",
        "2.  Store the result in the original array\n",
        "```\n",
        "scores = np.array([29,25,15,22,30])\n",
        "scores = scores / 30 * 100\n",
        "print(scores)\n",
        "```\n",
        "Expected output:\n",
        "```\n",
        "[ 96.66666667  83.33333333  50.  73.33333333 100. ]\n",
        "```\n",
        "\n",
        "Give it a try:\n",
        "\n",
        "\n",
        "\n"
      ]
    },
    {
      "cell_type": "code",
      "metadata": {
        "id": "ozhaq9-tJhRy"
      },
      "source": [
        ""
      ],
      "execution_count": null,
      "outputs": []
    },
    {
      "cell_type": "markdown",
      "metadata": {
        "id": "Lg62ACAlLzT8"
      },
      "source": [
        "---\n",
        "### Exercise 8 - increase whole array by 20\n",
        "\n",
        "Write a function which will:\n",
        "*  create a numpy array of 12 numbers\n",
        "*  create a new array adding 20 to each of the items in the first array  \n",
        "*  print the new array\n",
        "\n",
        "Test input:  \n",
        "`[1,2,3,4,5,6,7,8,1,2,3,4]`\n",
        "\n",
        "Expected output:  \n",
        "`[21 22 23 24 25 26 27 28 21 22 23 24]`"
      ]
    },
    {
      "cell_type": "code",
      "metadata": {
        "id": "HloCtcOYMD3W"
      },
      "source": [
        "# add your code to define the function to increase all values in an array by 20 and then to call the function\n",
        "\n",
        "def "
      ],
      "execution_count": null,
      "outputs": []
    },
    {
      "cell_type": "markdown",
      "metadata": {
        "id": "B-p-PF99MECD"
      },
      "source": [
        "---\n",
        "## Conversion of values using broadcasting\n",
        "\n",
        "---\n",
        "### Exercise 9 - convert Titanic fares into 21st century values \n",
        "\n",
        "Write a function which will:  \n",
        "*  create a dataframe from the titanic data set (https://raw.githubusercontent.com/pandas-dev/pandas/master/doc/data/titanic.csv)   \n",
        "*  create a numpy array from the Fare column\n",
        "*  convert the fares into current value (multiply by a factor of 120.7045 - source https://www.in2013dollars.com/uk/inflation/1912?amount=32 *accessed 22/1/2022*)\n",
        "*  print the average fare, the maximum fare and the minimum fare\n",
        "\n",
        "Expected output:  \n",
        "```\n",
        "3887.1928207428173\n",
        "61840.4399214\n",
        "0.0\n",
        "```\n",
        "\n",
        "\n",
        " "
      ]
    },
    {
      "cell_type": "code",
      "metadata": {
        "id": "ahgPUqTjM9it"
      },
      "source": [
        "import pandas as pd\n",
        "import numpy as np\n",
        "\n",
        "def get_current_fares():\n",
        "  # add your code below to get the fares data into a numpy array, convert to today's prices and print stats\n",
        "\n",
        "\n",
        "# run the function and test against expected output\n",
        "get_current_fares()"
      ],
      "execution_count": null,
      "outputs": []
    },
    {
      "cell_type": "markdown",
      "metadata": {
        "id": "Bv1G1MJpT1U9"
      },
      "source": [
        "---\n",
        "### Exercise 10 - create a new column in the dataframe from a numpy array\n",
        "\n",
        "**Challenging**\n",
        "\n",
        "Write a function which will calculate expected salaries for all in the income data set after an inflation rate of 3.5% (with results in a new numpy array).\n",
        "\n",
        "Just to show the result, calculate and print the Pearson Correlation Coefficient between the salaries series and the inflated salaries series.  We would expect this to be 1 (ie the inflated salary is always 3.5% higher than the current salary) and the exercise is just meant to show that - the statistic has no relevance.  \n",
        "\n",
        "Create a new column in the dataframe from the new numpy array (so that the dataframe now contains the original salaries and the inflated salaries.  \n",
        "(**Recap**:  *to add a new column, just use* `df['new column name']`)  \n",
        "\n",
        "To assign a numpy array to a pandas column use  \n",
        "`df['new column name'] = numpyarrayname.tolist()`\n",
        "\n",
        "Display the new dataframe and print the correlation coefficient.\n",
        "\n",
        "\n",
        "\n",
        "\n",
        "\n"
      ]
    },
    {
      "cell_type": "code",
      "metadata": {
        "id": "x90cXT8NWD40"
      },
      "source": [
        "import pandas as pd\n",
        "import numpy as np\n",
        "\n",
        "\n"
      ],
      "execution_count": null,
      "outputs": []
    },
    {
      "cell_type": "markdown",
      "metadata": {
        "id": "yQyytEbnZ1lw"
      },
      "source": [
        "# Reflection\n",
        "----\n",
        "\n",
        "## What skills have you demonstrated in completing this notebook?"
      ]
    },
    {
      "cell_type": "markdown",
      "metadata": {
        "id": "MM00hR5aZk1-"
      },
      "source": [
        "Your answer: "
      ]
    },
    {
      "cell_type": "markdown",
      "metadata": {
        "id": "Zgexd27sZ1ly"
      },
      "source": [
        "## What caused you the most difficulty?"
      ]
    },
    {
      "cell_type": "markdown",
      "metadata": {
        "id": "-Y_nrVBwaGXr"
      },
      "source": [
        "Your answer: "
      ]
    }
  ]
}