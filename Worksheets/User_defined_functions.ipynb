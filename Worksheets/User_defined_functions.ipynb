{
  "nbformat": 4,
  "nbformat_minor": 0,
  "metadata": {
    "colab": {
      "name": "User-defined-functions.ipynb",
      "provenance": [],
      "collapsed_sections": [],
      "include_colab_link": true
    },
    "kernelspec": {
      "name": "python3",
      "display_name": "Python 3"
    },
    "language_info": {
      "name": "python"
    }
  },
  "cells": [
    {
      "cell_type": "markdown",
      "metadata": {
        "id": "view-in-github",
        "colab_type": "text"
      },
      "source": [
        "<a href=\"https://colab.research.google.com/github/JaySanthanam/Programming-for-data/blob/main/User_defined_functions.ipynb\" target=\"_parent\"><img src=\"https://colab.research.google.com/assets/colab-badge.svg\" alt=\"Open In Colab\"/></a>"
      ]
    },
    {
      "cell_type": "markdown",
      "metadata": {
        "id": "_mb8Es9TZFdY"
      },
      "source": [
        "# User-defined functions"
      ]
    },
    {
      "cell_type": "markdown",
      "metadata": {
        "id": "yDPndJACZJKA"
      },
      "source": [
        "---\n",
        "During this course, you have already been writing user-defined functions.  We have introduced these early so that they become second nature to use.  Python is a 'scripting' language, which means that you can just write a list of instructions and click run and it will just run them from first to last.\n",
        "\n",
        "Many other programming languages, including C, C++ and Java, have a structure where you must group instructions into a named set (like a function) before you can run them.  It will be easier to learn new languages later if you have an understanding of the organisation of code into functions.\n",
        "\n",
        "## Definition\n",
        "\n",
        "A function is a set of programming instructions, grouped together and named so that, in essence, they form a new instruction that can be use in other functions.\n",
        "\n",
        "A function should:\n",
        "*   do *one* particular thing (e.g. generate one new piece of data)\n",
        "*   have a *name* that indicates what it does, that name should contain a verb (e.g. get_username(), calculate_sum() )\n",
        "*   accept a number of data items as *parameters* in its brackets\n",
        "*   *return* the one new piece of data it produces or None if no new data is produced.\n",
        "\n",
        "---\n",
        "## Examples\n",
        "Run the code for each to see what it does.\n",
        "\n",
        "\n",
        "\n",
        "\n"
      ]
    },
    {
      "cell_type": "code",
      "metadata": {
        "id": "BRlxHaF9YtoB",
        "colab": {
          "base_uri": "https://localhost:8080/"
        },
        "outputId": "24fd6bc7-a329-4c9d-a0f1-1cc2af4a779d"
      },
      "source": [
        "def get_username():\n",
        "  username = input(\"Enter your username: \")\n",
        "  return username\n",
        "\n",
        "username = get_username()\n",
        "print(username)"
      ],
      "execution_count": 1,
      "outputs": [
        {
          "output_type": "stream",
          "name": "stdout",
          "text": [
            "Enter your username: Jay\n",
            "Jay\n"
          ]
        }
      ]
    },
    {
      "cell_type": "markdown",
      "metadata": {
        "id": "RsSaHvS_bx0i"
      },
      "source": [
        "---\n"
      ]
    },
    {
      "cell_type": "code",
      "metadata": {
        "id": "DraANPGIbd13",
        "colab": {
          "base_uri": "https://localhost:8080/"
        },
        "outputId": "fc652645-889a-4558-b92b-5413855d38e2"
      },
      "source": [
        "def calculate_sum(num1, num2):\n",
        "  sum = num1 + num2\n",
        "  return sum\n",
        "\n",
        "total = calculate_sum(4, 7)\n",
        "print(total)"
      ],
      "execution_count": 2,
      "outputs": [
        {
          "output_type": "stream",
          "name": "stdout",
          "text": [
            "11\n"
          ]
        }
      ]
    },
    {
      "cell_type": "markdown",
      "metadata": {
        "id": "IaybFpHvbziA"
      },
      "source": [
        "---\n"
      ]
    },
    {
      "cell_type": "code",
      "metadata": {
        "id": "pEldozw1bw9K",
        "colab": {
          "base_uri": "https://localhost:8080/"
        },
        "outputId": "a964c22c-09c4-4ed7-bbb7-e80c3d826fda"
      },
      "source": [
        "def show_score(score):\n",
        "  print(\"Your current score is: \", score)\n",
        "\n",
        "show_score(50)"
      ],
      "execution_count": 3,
      "outputs": [
        {
          "output_type": "stream",
          "name": "stdout",
          "text": [
            "Your current score is:  50\n"
          ]
        }
      ]
    },
    {
      "cell_type": "markdown",
      "metadata": {
        "id": "S54v0BzZfcle"
      },
      "source": [
        "---\n",
        "## Passing data to functions\n",
        "\n",
        "Data is passed to a function through its brackets.  The brackets contain the parameter list.  The list can contain zero or more parameters.\n",
        "\n",
        "When the function is called, the parameters (either real values or variables holding values) are added to the function call."
      ]
    },
    {
      "cell_type": "code",
      "metadata": {
        "id": "nPaM_x2cg2EI",
        "colab": {
          "base_uri": "https://localhost:8080/"
        },
        "outputId": "89ea914f-1a18-4378-8f27-3791cbd62e62"
      },
      "source": [
        "def calculate_answer(num1, num2, operator):\n",
        "  if operator == \"+\":\n",
        "     return num1 + num2\n",
        "  elif operator == \"-\":\n",
        "     return num1 - num2\n",
        "  elif operator == \"*\":\n",
        "     return num1 * num2\n",
        "  elif operator == \"/\":\n",
        "     return num1 / num2\n",
        "  else:\n",
        "     return -999999\n",
        "\n",
        "answer = calculate_answer(5,7,\"+\")\n",
        "print(answer)"
      ],
      "execution_count": 4,
      "outputs": [
        {
          "output_type": "stream",
          "name": "stdout",
          "text": [
            "12\n"
          ]
        }
      ]
    },
    {
      "cell_type": "markdown",
      "metadata": {
        "id": "4u3jcpUWg56N"
      },
      "source": [
        "To pass values easily to the function, just add the values in the same order that they are listed in the function definition.  Make sure that the values you pass in are of a type that the function obviously expects."
      ]
    },
    {
      "cell_type": "markdown",
      "metadata": {
        "id": "2pN0AVaTh-HP"
      },
      "source": [
        "---\n",
        "## Global and local variables\n",
        "\n",
        "Each variable in a Python program has a **scope**.  This determines which parts of the program can 'see' that variable. The advantage of variable scope is that it:\n",
        "*   can protect variables from being changed elsewhere in the program due to adding a variable with the same name\n",
        "*   reduces the number of different variable names needed.  If a total in one function is totally unconnected to a total in a different function they can have the same name and only exist while the function each is in is actually running.  This also saves on memory.\n",
        "\n"
      ]
    },
    {
      "cell_type": "code",
      "metadata": {
        "colab": {
          "base_uri": "https://localhost:8080/"
        },
        "id": "Ww0WCrVBhNLm",
        "outputId": "90d89a05-4a3a-469a-f84c-847aaa092c15"
      },
      "source": [
        "def calculate_sum(num1, num2):\n",
        "  # add the parameters together and return the total\n",
        "  total = num1 + num2  # here total is a local variable\n",
        "  print(\"Inside the function, local total\", total)\n",
        "  return total\n",
        "\n",
        "total = 0  # here total is a global variable (declared outside any function)\n",
        "\n",
        "# call the calculate_sum function, storing the result in the global variable\n",
        "new_total = calculate_sum(10, 20)\n",
        "print(\"Outside the function, global total\", total)\n",
        "print(\"Outside the function, global new_total, returned from function\", new_total)"
      ],
      "execution_count": 5,
      "outputs": [
        {
          "output_type": "stream",
          "name": "stdout",
          "text": [
            "Inside the function, local total 30\n",
            "Outside the function, global total 0\n",
            "Outside the function, global new_total, returned from function 30\n"
          ]
        }
      ]
    },
    {
      "cell_type": "markdown",
      "metadata": {
        "id": "VQ2bk-Qo7jC7"
      },
      "source": [
        "---\n",
        "# Have a go"
      ]
    },
    {
      "cell_type": "markdown",
      "metadata": {
        "id": "iK9GF4T274Na"
      },
      "source": [
        "---\n",
        "### Exercise 1 - get valid digit\n",
        "\n",
        "Write a function called **input_digit()** which will:\n",
        "*  ask the user for a **number** that must be between 0 and 9, if the number is not between 0 and 9 it will keep reading until it gets a valid `number`\n",
        "*  return the valid `number` to be printed by the caller \n",
        "\n",
        "Test input:  \n",
        "33  \n",
        "-1  \n",
        "8  \n",
        "\n",
        "Expected output:  \n",
        "That number is not valid, try again  \n",
        "That number is not valid, try again  \n",
        "8  "
      ]
    },
    {
      "cell_type": "code",
      "metadata": {
        "id": "lwN-VvkH8Skt",
        "colab": {
          "base_uri": "https://localhost:8080/"
        },
        "outputId": "616bdfbc-f67c-4e29-87a7-c0bb0557e4c2"
      },
      "source": [
        "def input_digit():\n",
        "  number = int(input(\"Enter a number between 0 and 9: \"))\n",
        "  Valid = False\n",
        "  while Valid == False:\n",
        "      if 0 < number <9:\n",
        "        Valid = True\n",
        "        print(\"The number you have entered\", number, \"is valid\")\n",
        "      else:\n",
        "          print(\"The number you have entered\", number, \"is not valid, try again\")\n",
        "          number = int(input(\"Enter a number between 0 and 9: \"))\n",
        "  return\n",
        "\n",
        "input_digit()\n"
      ],
      "execution_count": 12,
      "outputs": [
        {
          "output_type": "stream",
          "name": "stdout",
          "text": [
            "Enter a number between 0 and 9: -1\n",
            "The number you have entered -1 is not valid, try again\n",
            "Enter a number between 0 and 9: -3\n",
            "The number you have entered -3 is not valid, try again\n",
            "Enter a number between 0 and 9: 5\n",
            "The number you have entered 5 is valid\n"
          ]
        }
      ]
    },
    {
      "cell_type": "markdown",
      "metadata": {
        "id": "v-qE3qQ58THx"
      },
      "source": [
        "---\n",
        "### Exercise 2 - input range\n",
        "\n",
        "Write a function called **input_value(min, max)** which will:  \n",
        "*  read a **number** that must be between `min` and `max` and only return when it has a valid `number`.  The caller will print the `number`.\n",
        "\n",
        "Test input:  \n",
        "min = 3  \n",
        "max = 24  \n",
        "1  \n",
        "45  \n",
        "20  \n",
        "\n",
        "Expected output:  \n",
        "Number is out of range, try again  \n",
        "Number is out of range, try again  \n",
        "20"
      ]
    },
    {
      "cell_type": "code",
      "metadata": {
        "id": "PKAlW0sr9XR1",
        "colab": {
          "base_uri": "https://localhost:8080/"
        },
        "outputId": "1ec819c4-cb8a-48a7-99ab-dbd7d870f047"
      },
      "source": [
        "def input_range(min,max):\n",
        "  number = int(input(\"Enter a number: \"))\n",
        "  range = False\n",
        "  while range == False:\n",
        "      if min < number <max:\n",
        "        range = True\n",
        "        print(\"The number you have entered\", number, \"is within range\")\n",
        "      else:\n",
        "          print(\"The number you have entered\", number, \"is not within range, try again\")\n",
        "          number = int(input(\"Enter a number: \"))\n",
        "  return\n",
        "\n",
        "input_range(3,24)"
      ],
      "execution_count": 14,
      "outputs": [
        {
          "output_type": "stream",
          "name": "stdout",
          "text": [
            "Enter a number: 1\n",
            "The number you have entered 1 is not within range, try again\n",
            "Enter a number: 45\n",
            "The number you have entered 45 is not within range, try again\n",
            "Enter a number: 20\n",
            "The number you have entered 20 is within range\n"
          ]
        }
      ]
    },
    {
      "cell_type": "markdown",
      "metadata": {
        "id": "MXhunQBG9XkU"
      },
      "source": [
        "---\n",
        "### Exercise 3 - re-using the function\n",
        "\n",
        "Using the same function as in Exercise 2 above, try running it with these function calls:\n",
        "\n",
        "```\n",
        "value1 = input_value(1,10)\n",
        "value2 = input_value(11,20)\n",
        "value3 = input_value(21,30)\n",
        "print(value1, value2, value3)\n",
        "```"
      ]
    },
    {
      "cell_type": "code",
      "metadata": {
        "id": "oVpQJ3ZM9xCJ",
        "colab": {
          "base_uri": "https://localhost:8080/"
        },
        "outputId": "b9c8ef7b-6cd4-4b47-87de-fb68cc9fddb9"
      },
      "source": [
        "def input_value(min,max):\n",
        "  number = int(input(\"Enter a number: \"))\n",
        "  if min < number <max:\n",
        "    print(\"The number you have entered\", number, \"is within range\")\n",
        "  else:\n",
        "    print(\"The number you have entered\", number, \"is not within range\")\n",
        "  return number\n",
        "\n",
        "value1 = input_value(1,10)\n",
        "value2 = input_value(11,20)\n",
        "value3 = input_value(21,30)\n",
        "print(value1, value2, value3)"
      ],
      "execution_count": 16,
      "outputs": [
        {
          "output_type": "stream",
          "name": "stdout",
          "text": [
            "Enter a number: 5\n",
            "The number you have entered 5 is within range\n",
            "Enter a number: 6\n",
            "The number you have entered 6 is not within range\n",
            "Enter a number: 9\n",
            "The number you have entered 9 is not within range\n",
            "5 6 9\n"
          ]
        }
      ]
    },
    {
      "cell_type": "markdown",
      "metadata": {
        "id": "P0QwTt7O9xUz"
      },
      "source": [
        "---\n",
        "### Exercise 4 - generate random even number\n",
        "\n",
        "Write a function called **generate_even_number()** that will generate a random, even **number** and return it to the caller, which will print it.\n",
        "\n",
        "*Hint: the function will need to generate the number, check it is an even number, repeat if not and return the number once it has got an even number*."
      ]
    },
    {
      "cell_type": "code",
      "metadata": {
        "id": "1ccTQxUa-Ok7",
        "colab": {
          "base_uri": "https://localhost:8080/"
        },
        "outputId": "f9b78306-4d19-4e8a-9eb8-2158938aaad7"
      },
      "source": [
        "def generate_even_number():\n",
        "  r_even = (random.randint(0,100000))*2 \n",
        "  return r_even\n",
        "\n",
        "import random\n",
        "\n",
        "random_even_number = generate_even_number()\n",
        "print(\"The random even number is\", random_even_number)\n"
      ],
      "execution_count": 18,
      "outputs": [
        {
          "output_type": "stream",
          "name": "stdout",
          "text": [
            "The random even number is 166962\n"
          ]
        }
      ]
    },
    {
      "cell_type": "markdown",
      "metadata": {
        "id": "LYLGRytk-Ot6"
      },
      "source": [
        "---\n",
        "### Exercise 5 - biggest of 3 numbers\n",
        "\n",
        "Write a function called **check_largest(num1, num2, num3)** which will:  \n",
        "*  select the largest of `num1`, `num2` and `num3` and store this in a variable called **largest**\n",
        "*  return `largest` to the caller, where it will be printed. \n",
        "\n",
        "Test input:  \n",
        "check_largest(3,5,8)  \n",
        "check_largest(5,7,2)  \n",
        "check_largest(123,45,122)\n",
        "\n",
        "Expected output:  \n",
        "8  \n",
        "7  \n",
        "123  "
      ]
    },
    {
      "cell_type": "code",
      "metadata": {
        "id": "S_LeqEVd__Cc",
        "colab": {
          "base_uri": "https://localhost:8080/"
        },
        "outputId": "aa6ddc0e-4496-4cb6-bce9-adfc7ae3a4ae"
      },
      "source": [
        "def check_largest(num1,num2,num3):\n",
        "  if num1>num2:\n",
        "    if num2>num3:\n",
        "      return num1\n",
        "    elif num1>num3:\n",
        "      return num1\n",
        "    else:\n",
        "      return num3\n",
        "  elif num2>num3:\n",
        "    return num2\n",
        "  elif num3>num1:\n",
        "    return num3\n",
        "  else:\n",
        "    return num1\n",
        "print(check_largest(123,45,122))"
      ],
      "execution_count": 19,
      "outputs": [
        {
          "output_type": "stream",
          "name": "stdout",
          "text": [
            "123\n"
          ]
        }
      ]
    },
    {
      "cell_type": "markdown",
      "metadata": {
        "id": "cbrFvknfAO05"
      },
      "source": [
        "---\n",
        "### Exercise 6 - average of 5 numbers\n",
        "\n",
        "Write a function calculate_average(num1, num2, num3, num4, num5) which will calculate the average of the 5 numbers given.  \n",
        "\n",
        "Test input:  \n",
        "calculate_average(1,2,3,4,5)  \n",
        "calculate_average(10002, 30004, 5005, 3333333, 12345)  \n",
        "\n",
        "Expected output:  \n",
        "3.0  \n",
        "678137.8"
      ]
    },
    {
      "cell_type": "code",
      "metadata": {
        "id": "BFTEfne8APF5",
        "colab": {
          "base_uri": "https://localhost:8080/"
        },
        "outputId": "336055b8-0575-405c-80cb-88828fc40767"
      },
      "source": [
        "def calculate_average(num1, num2, num3, num4, num5):\n",
        "  average_numbers = (num1+num2+num3+num4+num5)/5\n",
        "  return average_numbers\n",
        "\n",
        "Numbers_average = calculate_average(10002, 30004, 5005, 3333333, 12345)\n",
        "Numbers_average1 = calculate_average(1,2,3,4,5)\n",
        "print(Numbers_average, Numbers_average1)"
      ],
      "execution_count": 23,
      "outputs": [
        {
          "output_type": "stream",
          "name": "stdout",
          "text": [
            "678137.8 3.0\n"
          ]
        }
      ]
    },
    {
      "cell_type": "markdown",
      "metadata": {
        "id": "Z58a7qa1BQ6j"
      },
      "source": [
        "---\n",
        "### Exercise 7 - calculate price\n",
        "\n",
        "Write a function called **calculate_price(product_price, items)** which will:\n",
        "\n",
        "*  ask the user to enter any **discount** they have (this can be 10% or 25% only), if the discount value is invalid, do not apply a discount   \n",
        "*  calculate the price of the items, including the discount\n",
        "*  return the `discounted price`\n",
        "\n",
        "Test input:  \n",
        "product_price is 3.50  \n",
        "number of items is 4  \n",
        "user enters discount of 10%  \n",
        "\n",
        "Expected output:  \n",
        "Discounted price: £ 12.60\n",
        "\n",
        "Test input:  \n",
        "product_price is 8.99  \n",
        "number of items is 10  \n",
        "user enters discount of 50%   \n",
        "\n",
        "Expected output:  \n",
        "Discounted price: £ 89.90  "
      ]
    },
    {
      "cell_type": "code",
      "metadata": {
        "id": "lSHhdyhUBRKr",
        "colab": {
          "base_uri": "https://localhost:8080/"
        },
        "outputId": "48b7e309-2c8e-4a15-d28c-2d3308484189"
      },
      "source": [
        "#function to calculate product price including discount code\n",
        "def calculate_price(product_price,items,dc):\n",
        "  price = product_price*items\n",
        "  if dc ==10 or dc == 25:\n",
        "    price = price*(1-(dc/100))\n",
        "  return price\n",
        "\n",
        "# ask for user discount code\n",
        "product_price = float(input(\"Enter product price without discount: \"))\n",
        "items_number = float(input(\"Enter number of items: \"))\n",
        "discount = float(input(\"Enter discount percentage: \"))\n",
        "total_price = '{0:.2f}'.format(calculate_price(product_price, items_number, discount))\n",
        "print(\"The total price including discount is £\",total_price)"
      ],
      "execution_count": 24,
      "outputs": [
        {
          "output_type": "stream",
          "name": "stdout",
          "text": [
            "Enter product price without discount: 10\n",
            "Enter number of items: 4\n",
            "Enter discount percentage: 10\n",
            "The total price including discount is £ 36.00\n"
          ]
        }
      ]
    },
    {
      "cell_type": "markdown",
      "metadata": {
        "id": "NG2u2VT-CwO6"
      },
      "source": [
        "---\n",
        "### Exercise 8 - reverse a string\n",
        "\n",
        " Write a function called **reverse_string(word)** which will:  \n",
        " \n",
        " *  reverse the letters in the word  \n",
        " *  return the **reversed** `word` for printing\n",
        "\n",
        "[Help if you need it](https://www.w3schools.com/python/python_howto_reverse_string.asp)  \n",
        "\n",
        " Test input:  \n",
        " tiger  \n",
        "\n",
        " Expected output:  \n",
        " regit\n",
        "\n",
        " Test input:  \n",
        " Expected\n",
        "\n",
        " Expected output:  \n",
        " detcepxE"
      ]
    },
    {
      "cell_type": "code",
      "metadata": {
        "id": "OdHYWCJMCwaI",
        "colab": {
          "base_uri": "https://localhost:8080/"
        },
        "outputId": "e7036771-c3e2-4632-b346-25df592b848a"
      },
      "source": [
        "#function to reverse string \n",
        "def reverse_string(word):\n",
        "  return word[::-1]\n",
        "\n",
        "#ask user for a word to be reversed\n",
        "user_word = input(\"Enter a word: \")\n",
        "print(reverse_string(user_word))"
      ],
      "execution_count": 25,
      "outputs": [
        {
          "output_type": "stream",
          "name": "stdout",
          "text": [
            "Enter a word: tiger\n",
            "regit\n"
          ]
        }
      ]
    },
    {
      "cell_type": "markdown",
      "metadata": {
        "id": "QPHDjtXXEJ92"
      },
      "source": [
        "---\n",
        "### Exercise 9 - find factorial\n",
        "\n",
        "Write a function called **calculate_factorial(num)** which will:\n",
        "\n",
        "*  if `num` is negative set **factorial** to -1\n",
        "*  if `num` isn't negative, if it is 0 then set `factorial` to 1\n",
        "*  if `num` isn't 0 then calculate `factorial` (multiply the numbers from `num` down to 1\n",
        "*  return `factorial`.   \n",
        "\n",
        "Test inputs:  \n",
        "calculate_factorial(5)  \n",
        "calculate_factorial(-5)  \n",
        "calculate_factorial(0)    \n",
        "\n",
        "Expected outputs:  \n",
        "120  \n",
        "-1  \n",
        "1    "
      ]
    },
    {
      "cell_type": "code",
      "metadata": {
        "id": "QAln19ReEKH5",
        "colab": {
          "base_uri": "https://localhost:8080/"
        },
        "outputId": "0dc3b14a-f168-4fa9-e093-9d495fe73e39"
      },
      "source": [
        "# function to calculate factorial of a number\n",
        "def calculate_factorial(num):\n",
        "  if num < 0:\n",
        "    return -1\n",
        "  elif num == 0 or num == 1:\n",
        "    return 1\n",
        "  else:\n",
        "    fact =1\n",
        "    for i in range(2,num+1):\n",
        "      fact = fact*i\n",
        "    return fact\n",
        "\n",
        "# get numbers and calculate factorials\n",
        "factorial5 = calculate_factorial(5)\n",
        "factorial_neg_5 = calculate_factorial(-5)\n",
        "factorial_zero  = calculate_factorial(0)\n",
        "print(\"factorial of 5 is \", factorial5,\"\\nfactorial of -5 is\", factorial_neg_5,\"\\nfactorial of 0 is\", factorial_zero)\n"
      ],
      "execution_count": 27,
      "outputs": [
        {
          "output_type": "stream",
          "name": "stdout",
          "text": [
            "factorial of 5 is  120 \n",
            "factorial of -5 is -1 \n",
            "factorial of 0 is 1\n"
          ]
        }
      ]
    },
    {
      "cell_type": "markdown",
      "metadata": {
        "id": "x-JvvWUVFvY8"
      },
      "source": [
        "---\n",
        "### Exercise 10 - palindrome  \n",
        "\n",
        "Write a function called **is_palindrome(word)** which will return True if the `word` passed in is a palindrome (ie it reads the same in reverse) and False if not.\n",
        "\n",
        "*Hint:  remember that upper case and lower case letters are not seen as the same by Python, there are [case conversion](https://www.codecademy.com/learn/learn-python-3/modules/learn-python3-strings/cheatsheet) functions you can use to help with this.*\n",
        "\n",
        "Test input:  \n",
        "is_palindrome(\"racecar\")  \n",
        "is_palindrome(\"Racecar\")  \n",
        "is_palindrome(\"banana\")  \n",
        "\n",
        "Expected output:  \n",
        "True  \n",
        "True  \n",
        "False  "
      ]
    },
    {
      "cell_type": "code",
      "metadata": {
        "id": "Jx0ZSYl0FvjD",
        "colab": {
          "base_uri": "https://localhost:8080/"
        },
        "outputId": "51ea8a9d-1e82-4707-978d-1ba229a06422"
      },
      "source": [
        "#function to find if a word is palindrome \n",
        "def is_palindrome(word):\n",
        "  reverse = word[::-1]\n",
        "  if word == reverse:\n",
        "    return True\n",
        "  else:\n",
        "    return False\n",
        "\n",
        "#ask user for a word to be tested\n",
        "user_word = input(\"Enter a word: \")\n",
        "word = user_word.lower()\n",
        "print(is_palindrome(word))"
      ],
      "execution_count": 30,
      "outputs": [
        {
          "output_type": "stream",
          "name": "stdout",
          "text": [
            "Enter a word: banana\n",
            "False\n"
          ]
        }
      ]
    }
  ]
}
