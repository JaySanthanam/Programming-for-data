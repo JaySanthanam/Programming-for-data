{
  "nbformat": 4,
  "nbformat_minor": 0,
  "metadata": {
    "colab": {
      "name": "10.2 Movies Project.ipynb",
      "provenance": [],
      "collapsed_sections": [],
      "include_colab_link": true
    },
    "kernelspec": {
      "name": "python3",
      "display_name": "Python 3"
    },
    "language_info": {
      "name": "python"
    }
  },
  "cells": [
    {
      "cell_type": "markdown",
      "metadata": {
        "id": "view-in-github",
        "colab_type": "text"
      },
      "source": [
        "<a href=\"https://colab.research.google.com/github/JaySanthanam/Programming-for-data/blob/main/Worksheets/10_2_Movies_Project.ipynb\" target=\"_parent\"><img src=\"https://colab.research.google.com/assets/colab-badge.svg\" alt=\"Open In Colab\"/></a>"
      ]
    },
    {
      "cell_type": "markdown",
      "metadata": {
        "id": "iNinIL0w_DHu"
      },
      "source": [
        "# Movies Mini-project\n",
        "---\n",
        "\n",
        "In the previous worksheet you converted an SQL relational database to a single pandas dataframe and downloaded it. You will be analysing it today.\n",
        "\n",
        "If you were unable to download the file, there is a copy located here: \n",
        "\n",
        "\"https://github.com/lilaceri/Working-with-data-/blob/main/Data%20Sets%20for%20code%20divisio/movies.csv?raw=true\"\n",
        "\n"
      ]
    },
    {
      "cell_type": "markdown",
      "metadata": {
        "id": "TlOJOk3vMN2C"
      },
      "source": [
        "### Inspect the dataset \n",
        "---"
      ]
    },
    {
      "cell_type": "code",
      "metadata": {
        "id": "Le5KSKHY_BM9",
        "colab": {
          "resources": {
            "http://localhost:8080/nbextensions/google.colab/files.js": {
              "data": "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",
              "ok": true,
              "headers": [
                [
                  "content-type",
                  "application/javascript"
                ]
              ],
              "status": 200,
              "status_text": ""
            }
          },
          "base_uri": "https://localhost:8080/",
          "height": 521
        },
        "outputId": "5f81b9a6-1383-4eff-ee23-05b5077dd915"
      },
      "source": [
        "from google.colab import files\n",
        "import io\n",
        "import pandas as pd\n",
        "import numpy as np\n",
        "import matplotlib  \n",
        "import matplotlib.pyplot as plt\n",
        "import seaborn as sns\n",
        "\n",
        "def get_data():\n",
        "  !rm movies.csv\n",
        "  # upload a set of chosen files then read a specified file\n",
        "  uploaded = files.upload()\n",
        "  df = pd.read_csv(io.BytesIO(uploaded['movies.csv']))\n",
        "  return df \n",
        "\n",
        "mov_data = get_data()\n",
        "print(mov_data.info())\n",
        "print(mov_data.describe())"
      ],
      "execution_count": 1,
      "outputs": [
        {
          "output_type": "stream",
          "name": "stdout",
          "text": [
            "rm: cannot remove 'movies.csv': No such file or directory\n"
          ]
        },
        {
          "output_type": "display_data",
          "data": {
            "text/html": [
              "\n",
              "     <input type=\"file\" id=\"files-ba417c4c-7f97-408a-81b5-cfdbbc59ad19\" name=\"files[]\" multiple disabled\n",
              "        style=\"border:none\" />\n",
              "     <output id=\"result-ba417c4c-7f97-408a-81b5-cfdbbc59ad19\">\n",
              "      Upload widget is only available when the cell has been executed in the\n",
              "      current browser session. Please rerun this cell to enable.\n",
              "      </output>\n",
              "      <script src=\"/nbextensions/google.colab/files.js\"></script> "
            ],
            "text/plain": [
              "<IPython.core.display.HTML object>"
            ]
          },
          "metadata": {}
        },
        {
          "output_type": "stream",
          "name": "stdout",
          "text": [
            "Saving movies.csv to movies.csv\n",
            "<class 'pandas.core.frame.DataFrame'>\n",
            "RangeIndex: 368894 entries, 0 to 368893\n",
            "Data columns (total 7 columns):\n",
            " #   Column      Non-Null Count   Dtype  \n",
            "---  ------      --------------   -----  \n",
            " 0   Unnamed: 0  368894 non-null  int64  \n",
            " 1   first_name  368894 non-null  object \n",
            " 2   last_name   368894 non-null  object \n",
            " 3   name        368894 non-null  object \n",
            " 4   year        368894 non-null  int64  \n",
            " 5   rank        113376 non-null  float64\n",
            " 6   genre       368894 non-null  object \n",
            "dtypes: float64(1), int64(2), object(4)\n",
            "memory usage: 19.7+ MB\n",
            "None\n",
            "          Unnamed: 0           year           rank\n",
            "count  368894.000000  368894.000000  113376.000000\n",
            "mean   184446.500000    1969.442222       5.995124\n",
            "std    106490.669438      29.082051       1.540330\n",
            "min         0.000000    1888.000000       1.000000\n",
            "25%     92223.250000    1947.000000       5.100000\n",
            "50%    184446.500000    1976.000000       6.200000\n",
            "75%    276669.750000    1996.000000       7.100000\n",
            "max    368893.000000    2007.000000       9.900000\n"
          ]
        }
      ]
    },
    {
      "cell_type": "markdown",
      "metadata": {
        "id": "wIRDoCnxMRj8"
      },
      "source": [
        "### Clean the dataset \n",
        "---\n"
      ]
    },
    {
      "cell_type": "code",
      "metadata": {
        "id": "LgY60bsbMUc8",
        "colab": {
          "base_uri": "https://localhost:8080/"
        },
        "outputId": "f410dca9-2957-43c2-8a4a-99cf4f0931a6"
      },
      "source": [
        "mov_df = mov_data.drop_duplicates()\n",
        "print(mov_df.info())\n",
        "\n",
        "mov_df_rank = mov_df.dropna()\n",
        "print(mov_df_rank.info())\n",
        "\n"
      ],
      "execution_count": 160,
      "outputs": [
        {
          "output_type": "stream",
          "name": "stdout",
          "text": [
            "<class 'pandas.core.frame.DataFrame'>\n",
            "Int64Index: 368894 entries, 0 to 368893\n",
            "Data columns (total 7 columns):\n",
            " #   Column      Non-Null Count   Dtype  \n",
            "---  ------      --------------   -----  \n",
            " 0   Unnamed: 0  368894 non-null  int64  \n",
            " 1   first_name  368894 non-null  object \n",
            " 2   last_name   368894 non-null  object \n",
            " 3   name        368894 non-null  object \n",
            " 4   year        368894 non-null  int64  \n",
            " 5   rank        113376 non-null  float64\n",
            " 6   genre       368894 non-null  object \n",
            "dtypes: float64(1), int64(2), object(4)\n",
            "memory usage: 22.5+ MB\n",
            "None\n",
            "<class 'pandas.core.frame.DataFrame'>\n",
            "Int64Index: 113376 entries, 77 to 368891\n",
            "Data columns (total 7 columns):\n",
            " #   Column      Non-Null Count   Dtype  \n",
            "---  ------      --------------   -----  \n",
            " 0   Unnamed: 0  113376 non-null  int64  \n",
            " 1   first_name  113376 non-null  object \n",
            " 2   last_name   113376 non-null  object \n",
            " 3   name        113376 non-null  object \n",
            " 4   year        113376 non-null  int64  \n",
            " 5   rank        113376 non-null  float64\n",
            " 6   genre       113376 non-null  object \n",
            "dtypes: float64(1), int64(2), object(4)\n",
            "memory usage: 6.9+ MB\n",
            "None\n"
          ]
        }
      ]
    },
    {
      "cell_type": "markdown",
      "source": [
        "Only the column of rank has null values. I prefer to keep the original data frame the same for all the other column calculations that doesn't involve rank. This is so that I do not lose other information. From here on, I will be using mov_df for all calculation that doesn't require the rank column. I will be using mov_df_rank for those that require rank column."
      ],
      "metadata": {
        "id": "Zjg9my98Fj_z"
      }
    },
    {
      "cell_type": "markdown",
      "metadata": {
        "id": "00Vb1k3FMdei"
      },
      "source": [
        "### How many movies of each genre are there?\n",
        "---"
      ]
    },
    {
      "cell_type": "code",
      "metadata": {
        "id": "V6MsN8OcQn0u",
        "colab": {
          "base_uri": "https://localhost:8080/"
        },
        "outputId": "d7a022cb-6ea9-4d3e-dbe3-0bdc7aa88a19"
      },
      "source": [
        "genres = mov_df['genre'].value_counts()\n",
        "print(genres)"
      ],
      "execution_count": 3,
      "outputs": [
        {
          "output_type": "stream",
          "name": "stdout",
          "text": [
            "Short          72894\n",
            "Drama          72635\n",
            "Comedy         54667\n",
            "Documentary    35698\n",
            "Animation      17038\n",
            "Romance        13562\n",
            "Action         12890\n",
            "Crime          12610\n",
            "Family         11074\n",
            "Thriller       10681\n",
            "Adventure       8598\n",
            "Western         8231\n",
            "Horror          7423\n",
            "Musical         6843\n",
            "Sci-Fi          4957\n",
            "Mystery         4951\n",
            "Fantasy         4871\n",
            "Music           4444\n",
            "War             4398\n",
            "Film-Noir        429\n",
            "Name: genre, dtype: int64\n"
          ]
        }
      ]
    },
    {
      "cell_type": "markdown",
      "metadata": {
        "id": "itYpwLPpQnZM"
      },
      "source": [
        "### Which director has the highest ranked movies?\n",
        "---"
      ]
    },
    {
      "cell_type": "markdown",
      "source": [
        "A director who has done more movies will have different average (lower or higher dpending on the ratings) compared to someone who is done only 1 movie. Same holds for any single aggregate we try use. So I have decided to use more than one. \n",
        "Strategy is to use to more than one aggregate to decide on the top ranking director. So I will create a new data frame with all the aggregate and then sort the columns of aggregates.  \n",
        "####So my selection criteria is:\n",
        "The director should have made more than 1 movie and their median should be larger than mean."
      ],
      "metadata": {
        "id": "K4zFoBnD0kyE"
      }
    },
    {
      "cell_type": "code",
      "metadata": {
        "id": "dkW23Q27Qu0A",
        "colab": {
          "base_uri": "https://localhost:8080/"
        },
        "outputId": "3a60318d-e218-48c7-f0aa-9048f9f5192b"
      },
      "source": [
        "dir_df = mov_df_rank\n",
        "dir_df['dir_name'] = mov_df_rank['first_name']+' ' + mov_df_rank['last_name']\n",
        "dir_df =dir_df.drop(columns=['first_name', 'last_name'])\n",
        "dir_rank = dir_df.groupby(['dir_name'])['rank'].max()\n",
        "dir_ave = dir_df.groupby(['dir_name'])['rank'].mean()\n",
        "dir_med = dir_df.groupby(['dir_name'])['rank'].median()\n",
        "dir_count = dir_df.groupby(['dir_name'])['rank'].count()\n",
        "index  = dir_rank.keys()\n",
        "rank = list(dir_rank)\n",
        "ave = list(dir_ave)\n",
        "median = list(dir_med)\n",
        "count = list(dir_count)\n",
        "d = {'dir_name': index, 'max_rank': rank, 'mean_rank': ave, 'median_rank': median, 'count': count}\n",
        "top_dir = pd.DataFrame(data=d)\n",
        "dir_toprank = top_dir.sort_values([\"count\", \"median_rank\"],ascending = (False, False))\n",
        "top_10 = dir_toprank.head(10)\n",
        "print(\"Top 10 directors are:\")\n",
        "print(top_10)"
      ],
      "execution_count": 201,
      "outputs": [
        {
          "output_type": "stream",
          "name": "stderr",
          "text": [
            "/usr/local/lib/python3.7/dist-packages/ipykernel_launcher.py:2: SettingWithCopyWarning: \n",
            "A value is trying to be set on a copy of a slice from a DataFrame.\n",
            "Try using .loc[row_indexer,col_indexer] = value instead\n",
            "\n",
            "See the caveats in the documentation: https://pandas.pydata.org/pandas-docs/stable/user_guide/indexing.html#returning-a-view-versus-a-copy\n",
            "  \n"
          ]
        },
        {
          "output_type": "stream",
          "name": "stdout",
          "text": [
            "Top 10 directors are:\n",
            "                dir_name  max_rank  mean_rank  median_rank  count\n",
            "6418        Friz Freleng       8.4   6.718341          6.8   1025\n",
            "3380     Chuck (I) Jones       9.0   6.944614          7.0    984\n",
            "4102      Dave Fleischer       9.5   5.974526          5.9    738\n",
            "17742    Robert McKimson       8.3   6.475897          6.5    697\n",
            "20067          Tex Avery       8.9   7.029077          6.9    509\n",
            "21429  William (I) Hanna       8.8   6.518496          6.6    492\n",
            "10687     Joseph Barbera       8.8   6.538763          6.6    485\n",
            "17628    Robert Clampett       9.1   7.181212          7.1    330\n",
            "8604         Jack Kinney       8.7   6.591829          6.5    257\n",
            "8554     Jack (I) Hannah       9.0   6.932016          6.9    253\n"
          ]
        }
      ]
    },
    {
      "cell_type": "markdown",
      "source": [
        "Although the strategy and method seems reasonable. The dataframe has duplicates of the same movie but entered under different genres, leaving my aggregate evaluations with a bias!\n",
        "\n",
        "So I will try to drop duplicates based on the name of the movie to remove the bias. This means that a movie is only listed once regardless of it's genre. This dataframe I cannot use to do genre calculations since I will be losing information on genres."
      ],
      "metadata": {
        "id": "XJHw7gUe1qcd"
      }
    },
    {
      "cell_type": "code",
      "source": [
        "dir_df =dir_df.drop_duplicates('name')\n",
        "dir_rank = dir_df.groupby(['dir_name'])['rank'].max()\n",
        "dir_ave = dir_df.groupby(['dir_name'])['rank'].mean()\n",
        "dir_med = dir_df.groupby(['dir_name'])['rank'].median()\n",
        "dir_count = dir_df.groupby(['dir_name'])['rank'].count()\n",
        "index  = dir_rank.keys()\n",
        "rank = list(dir_rank)\n",
        "ave = list(dir_ave)\n",
        "median = list(dir_med)\n",
        "count = list(dir_count)\n",
        "d = {'dir_name': index, 'max_rank': rank, 'mean_rank': ave, 'median_rank': median, 'count': count}\n",
        "top_dir = pd.DataFrame(data=d)\n",
        "dir_toprank = top_dir.sort_values([\"count\", \"median_rank\"],ascending = (False, False))\n",
        "top_10_dir = dir_toprank.head(10)\n",
        "print(\"Top 10 directors are:\")\n",
        "print(top_10_dir)"
      ],
      "metadata": {
        "colab": {
          "base_uri": "https://localhost:8080/"
        },
        "id": "KJQ7FTkI2Bng",
        "outputId": "fe731744-8ce2-493b-f669-5468eb9c3183"
      },
      "execution_count": 202,
      "outputs": [
        {
          "output_type": "stream",
          "name": "stdout",
          "text": [
            "Top 10 directors are:\n",
            "              dir_name  max_rank  mean_rank  median_rank  count\n",
            "5708      Friz Freleng       8.4   6.718800         6.80    250\n",
            "2997   Chuck (I) Jones       9.0   6.940664         7.00    241\n",
            "3647    Dave Fleischer       9.5   5.966667         5.80    219\n",
            "15796  Robert McKimson       8.3   6.460234         6.50    171\n",
            "17874        Tex Avery       8.9   7.027559         6.90    127\n",
            "9529    Joseph Barbera       8.8   6.513115         6.60    122\n",
            "9780       Jules White       8.5   6.593878         6.70     98\n",
            "12542   Michael Curtiz       8.8   6.334091         6.45     88\n",
            "10953  Lesley Selander       7.8   5.952874         6.00     87\n",
            "3331     D.W. Griffith       8.0   6.000000         6.00     86\n"
          ]
        }
      ]
    },
    {
      "cell_type": "markdown",
      "source": [
        "As expected, I get a different results for these two methods. But the top 5 still hold their place. Dave Fleischer and Tex Avery has lower median than average. This means that they have made more low rated movies. So based on my criteria, the director who has consistent results is Friz Freleng.  "
      ],
      "metadata": {
        "id": "E4u2WJ1o2xUl"
      }
    },
    {
      "cell_type": "markdown",
      "metadata": {
        "id": "naiCl5kCQvS-"
      },
      "source": [
        "### How many movies have ranks of over 9?\n",
        "---\n"
      ]
    },
    {
      "cell_type": "code",
      "metadata": {
        "id": "Rb7v7WXEQ3Xl",
        "colab": {
          "base_uri": "https://localhost:8080/"
        },
        "outputId": "ab27a6b6-80ea-4eab-a3c2-67973fc1b38d"
      },
      "source": [
        "mov_no_dup = mov_df_rank.drop_duplicates('name')\n",
        "high_rank = mov_no_dup[mov_no_dup['rank'] > 9.0].count()\n",
        "high_rank[0]"
      ],
      "execution_count": 193,
      "outputs": [
        {
          "output_type": "execute_result",
          "data": {
            "text/plain": [
              "806"
            ]
          },
          "metadata": {},
          "execution_count": 193
        }
      ]
    },
    {
      "cell_type": "markdown",
      "source": [
        "Many movie names are repeated by genre. So the actual number of movies with rating above 9 is smaller after removing duplicates."
      ],
      "metadata": {
        "id": "WvoL5na15-eT"
      }
    },
    {
      "cell_type": "markdown",
      "metadata": {
        "id": "qSM1LAZGQ32W"
      },
      "source": [
        "### Plot a bar chart of mean rank and genre\n",
        "---"
      ]
    },
    {
      "cell_type": "code",
      "metadata": {
        "id": "oDk-3bkpRUfs",
        "colab": {
          "base_uri": "https://localhost:8080/",
          "height": 340
        },
        "outputId": "ec03f135-4d99-4056-d725-6666a815ba38"
      },
      "source": [
        "rank_by_genre = mov_df_rank.groupby('genre')['rank'].mean()\n",
        "bar_plot = rank_by_genre.plot(x=\"genre\", y=rank_by_genre, kind=\"bar\", alpha=0.75, rot=90, color = 'r')\n",
        "bar_plot.set_xlabel(\"Genre\")\n",
        "bar_plot.set_ylabel(\"Mean Rank\")\n",
        "plt.show()"
      ],
      "execution_count": 54,
      "outputs": [
        {
          "output_type": "display_data",
          "data": {
            "image/png": "[encoded data removed]",
            "text/plain": [
              "<Figure size 432x288 with 1 Axes>"
            ]
          },
          "metadata": {
            "needs_background": "light"
          }
        }
      ]
    },
    {
      "cell_type": "markdown",
      "metadata": {
        "id": "O6srkKPnRbh_"
      },
      "source": [
        "### Plot a pie chart of how many movies of each genre there are \n",
        "---\n"
      ]
    },
    {
      "cell_type": "code",
      "metadata": {
        "id": "suiaWhkF6Odd",
        "colab": {
          "base_uri": "https://localhost:8080/",
          "height": 344
        },
        "outputId": "5b68e011-f74a-4c02-e635-6c3d0e96830e"
      },
      "source": [
        "x = genres.keys()\n",
        "y = genres\n",
        "sns.set(style=\"darkgrid\")\n",
        "colors = sns.color_palette('dark')\n",
        "plt.pie(y, colors =colors)\n",
        "plt.legend(labels = x,bbox_to_anchor=(1.05, 1), loc=2, borderaxespad=0.)\n",
        "plt.show()"
      ],
      "execution_count": 78,
      "outputs": [
        {
          "output_type": "display_data",
          "data": {
            "image/png": "[encoded data removed]",
            "text/plain": [
              "<Figure size 432x288 with 1 Axes>"
            ]
          },
          "metadata": {}
        }
      ]
    },
    {
      "cell_type": "markdown",
      "metadata": {
        "id": "Cm9HjL_K6bvo"
      },
      "source": [
        "### Plot a graph showing the mean Rank for each year "
      ]
    },
    {
      "cell_type": "code",
      "metadata": {
        "id": "mgwSHrCt6luB",
        "colab": {
          "base_uri": "https://localhost:8080/",
          "height": 303
        },
        "outputId": "e9482c87-fa5e-4195-dd53-16d16255035f"
      },
      "source": [
        "rank_by_year = mov_no_dup.groupby('year')['rank'].mean()\n",
        "line_plot = rank_by_year.plot(x=\"year\", y=rank_by_year, kind=\"line\", alpha=0.75, rot=90, color = 'r')\n",
        "line_plot.set(xlabel=\"Year\", ylabel=\"Average Rank\")\n",
        "plt.show()"
      ],
      "execution_count": 194,
      "outputs": [
        {
          "output_type": "display_data",
          "data": {
            "image/png": "[encoded data removed]",
            "text/plain": [
              "<Figure size 432x288 with 1 Axes>"
            ]
          },
          "metadata": {}
        }
      ]
    },
    {
      "cell_type": "markdown",
      "metadata": {
        "id": "FvzMjQ5X6oeU"
      },
      "source": [
        "### What else can you find out from this dataset?\n",
        "---\n",
        "Make a plan of 3 further things you can do to interrogate and analyse this dataset"
      ]
    },
    {
      "cell_type": "markdown",
      "metadata": {
        "id": "a46YOmLd64zb"
      },
      "source": [
        "Type your answer here  \n",
        "\n",
        "1.  Latest and oldest movies - movies after and before a certain release year.\n",
        "\n",
        "  1.1 before 2000 by Jay\n",
        "\n",
        "  1.2 In 2000 and after by Becky\n",
        "\n",
        "2.  List of Movies by specific director.\n",
        "3.  Plot the total number of movies released by year."
      ]
    },
    {
      "cell_type": "markdown",
      "metadata": {
        "id": "es_Uyz_f6-1F"
      },
      "source": [
        "### Complete the tasks you have set out in the exercise above. \n",
        "---\n"
      ]
    },
    {
      "cell_type": "markdown",
      "source": [
        "###Task 1.1: Oldest movies - movies released before 2000"
      ],
      "metadata": {
        "id": "tvNYK8jjbZCx"
      }
    },
    {
      "cell_type": "code",
      "metadata": {
        "id": "GY-HzjZb7L5q",
        "colab": {
          "base_uri": "https://localhost:8080/"
        },
        "outputId": "4d093f38-de66-46ae-d916-8c728e5f82ed"
      },
      "source": [
        "no_dup = mov_df.drop_duplicates('name')\n",
        "oldies = no_dup[no_dup['year']< 2000].count()\n",
        "oldies[0]"
      ],
      "execution_count": 195,
      "outputs": [
        {
          "output_type": "execute_result",
          "data": {
            "text/plain": [
              "164320"
            ]
          },
          "metadata": {},
          "execution_count": 195
        }
      ]
    },
    {
      "cell_type": "markdown",
      "source": [
        "Again, duplicate count of movies are dropped."
      ],
      "metadata": {
        "id": "w3Is3Tj16jCg"
      }
    },
    {
      "cell_type": "markdown",
      "source": [
        "###Task 2: Write a function to get list of movies by specific director"
      ],
      "metadata": {
        "id": "ZXqqol8hhTr5"
      }
    },
    {
      "cell_type": "code",
      "source": [
        "def get_movies(df,dir_name):\n",
        "  movies_list = df[df['dir_name']== dir_name]\n",
        "  return movies_list\n",
        "\n",
        "movies = get_movies(no_dup,\"Quentin Tarantino\")\n",
        "movies_list = movies[\"name\"]\n",
        "print(movies_list)\n"
      ],
      "metadata": {
        "colab": {
          "base_uri": "https://localhost:8080/"
        },
        "id": "o398RSBHhd2m",
        "outputId": "b08b67d4-995b-4f6e-9016-ac49675b194b"
      },
      "execution_count": 196,
      "outputs": [
        {
          "output_type": "stream",
          "name": "stdout",
          "text": [
            "328564                 Jackie Brown\n",
            "328567            Kill Bill: Vol. 1\n",
            "328570            Kill Bill: Vol. 2\n",
            "328574    My Best Friend's Birthday\n",
            "328576                 Pulp Fiction\n",
            "328578               Reservoir Dogs\n",
            "Name: name, dtype: object\n"
          ]
        }
      ]
    },
    {
      "cell_type": "markdown",
      "source": [
        "###Task 3: Total number of movies by year:"
      ],
      "metadata": {
        "id": "Y9qHWezck6S4"
      }
    },
    {
      "cell_type": "code",
      "source": [
        "import matplotlib.ticker as ticker\n",
        "df_no_dup = mov_df_rank.drop_duplicates('name')\n",
        "movie_by_year = df_no_dup.groupby('year')[\"name\"].count()\n",
        "year = np.array(movie_by_year.keys())\n",
        "movie_year = np.array(list(movie_by_year))\n",
        "plt.plot(year, movie_year, 'go-', linewidth =2)\n",
        "plt.xlabel(\"Year\")\n",
        "plt.ylabel(\"Total number of movies\")\n",
        "plt.xticks(year)\n",
        "plt.xticks([1900, 1920, 1940, 1960, 1980, 2000, 2020], rotation=45)\n",
        "plt.grid()\n",
        "plt.show()\n",
        "#line_plot = movie_by_year.plot(x=\"year\", y=movie_by_year, kind=\"line\", alpha=0.75, rot=90, color = 'r')\n",
        "#line_plot.set(xlabel=\"Year\", ylabel=\"Total number of movies\")\n",
        "#plt.show()"
      ],
      "metadata": {
        "colab": {
          "base_uri": "https://localhost:8080/",
          "height": 302
        },
        "id": "L9s2zClLk5YZ",
        "outputId": "ae096a5c-417e-4a84-89c0-5ea3576dfe6b"
      },
      "execution_count": 192,
      "outputs": [
        {
          "output_type": "display_data",
          "data": {
            "image/png": "[encoded data removed]",
            "text/plain": [
              "<Figure size 432x288 with 1 Axes>"
            ]
          },
          "metadata": {}
        }
      ]
    },
    {
      "cell_type": "markdown",
      "source": [
        "###Task 4: Find top 10 highly ranked directors based on genre:\n",
        "\n",
        "I will be keeping the strategy to find highly ranked directors the same, i.e., he/she should have directed more than 1 movie and their median rank should be larger than their average rank."
      ],
      "metadata": {
        "id": "AxpnJspGD57F"
      }
    },
    {
      "cell_type": "code",
      "source": [
        "def find_top(df, genre):\n",
        "  df = df.loc[df['genre'] == genre]\n",
        "  dir_rank = df.groupby(['dir_name'])['rank'].max()\n",
        "  dir_ave = df.groupby(['dir_name'])['rank'].mean()\n",
        "  dir_med = df.groupby(['dir_name'])['rank'].median()\n",
        "  dir_count = df.groupby(['dir_name'])['rank'].count()\n",
        "  index  = dir_rank.keys()\n",
        "  rank = list(dir_rank)\n",
        "  ave = list(dir_ave)\n",
        "  median = list(dir_med)\n",
        "  count = list(dir_count)\n",
        "  d = {'dir_name': index, 'max_rank': rank, 'mean_rank': ave, 'median_rank': median, 'count': count}\n",
        "  top_dir = pd.DataFrame(data=d)\n",
        "  return top_dir\n",
        "\n",
        "dir_top = find_top(dir_df,'Animation')\n",
        "dir_toprank = dir_top.sort_values([\"count\", \"median_rank\"],ascending = (False, False))\n",
        "top_10 = dir_toprank.head(10)\n",
        "print(\"Top 10 Animation movie directors are:\")\n",
        "print(top_10)"
      ],
      "metadata": {
        "colab": {
          "base_uri": "https://localhost:8080/"
        },
        "id": "A-vNsktzETEN",
        "outputId": "93b59214-9ee3-420d-d46a-2b3ecefd04a6"
      },
      "execution_count": 207,
      "outputs": [
        {
          "output_type": "stream",
          "name": "stdout",
          "text": [
            "Top 10 Animation movie directors are:\n",
            "            dir_name  max_rank  mean_rank  median_rank  count\n",
            "278     Friz Freleng       8.4   6.718800         6.80    250\n",
            "151  Chuck (I) Jones       9.0   6.941423         7.00    239\n",
            "187   Dave Fleischer       9.5   5.954378         5.80    217\n",
            "733  Robert McKimson       8.3   6.460234         6.50    171\n",
            "820        Tex Avery       8.9   7.027559         6.90    127\n",
            "443   Joseph Barbera       8.8   6.513115         6.60    122\n",
            "732  Robert Clampett       9.1   7.210256         7.20     78\n",
            "372  Jack (I) Hannah       9.0   6.943750         6.95     64\n",
            "375      Jack Kinney       8.7   6.518966         6.45     58\n",
            "373    Jack (I) King       8.7   7.071429         7.10     49\n"
          ]
        }
      ]
    },
    {
      "cell_type": "code",
      "source": [
        "dir_top = find_top(dir_df,'Comedy')\n",
        "dir_toprank = dir_top.sort_values([\"count\", \"median_rank\"],ascending = (False, False))\n",
        "top_10 = dir_toprank.head(10)\n",
        "print(\"Top 10 Comedy movie directors are:\")\n",
        "print(top_10)"
      ],
      "metadata": {
        "colab": {
          "base_uri": "https://localhost:8080/"
        },
        "id": "qLQS8CzrG9Tu",
        "outputId": "363a15cf-ce81-451d-af66-404f8fd5906e"
      },
      "execution_count": 208,
      "outputs": [
        {
          "output_type": "stream",
          "name": "stdout",
          "text": [
            "Top 10 Comedy movie directors are:\n",
            "               dir_name  max_rank  mean_rank  median_rank  count\n",
            "3622        Jules White       8.5   6.609278         6.80     97\n",
            "936     Charles Chaplin       8.4   6.754545         6.70     66\n",
            "1469           Del Lord       8.5   7.431111         7.70     45\n",
            "6917   William Beaudine       7.6   5.997674         6.30     43\n",
            "5733  Robert F. McGowan       9.5   7.923810         8.05     42\n",
            "1692      Edward Bernds       8.5   6.675610         6.70     41\n",
            "4969      Norman Taurog       6.9   5.543590         5.60     39\n",
            "2315     Gordon Douglas       8.4   6.394444         6.70     36\n",
            "4079        Lloyd Bacon       7.7   6.152778         6.10     36\n",
            "1697    Edward F. Cline       8.4   6.938235         7.20     34\n"
          ]
        }
      ]
    },
    {
      "cell_type": "code",
      "source": [
        "dir_top = find_top(dir_df,'Drama')\n",
        "dir_toprank = dir_top.sort_values([\"count\", \"median_rank\"],ascending = (False, False))\n",
        "top_10 = dir_toprank.head(10)\n",
        "print(\"Top 10 Drama movie directors are:\")\n",
        "print(top_10)"
      ],
      "metadata": {
        "colab": {
          "base_uri": "https://localhost:8080/"
        },
        "id": "13YuACqbHFeV",
        "outputId": "345f3360-3f92-4784-d81c-d3d7c3937f4b"
      },
      "execution_count": 209,
      "outputs": [
        {
          "output_type": "stream",
          "name": "stdout",
          "text": [
            "Top 10 Drama movie directors are:\n",
            "                dir_name  max_rank  mean_rank  median_rank  count\n",
            "1206       D.W. Griffith       8.0   6.330357         6.30     56\n",
            "4632      Michael Curtiz       8.8   6.341667         6.35     36\n",
            "2003       Frank Borzage       9.3   6.432353         6.40     34\n",
            "2752      Ingmar Bergman       8.4   7.066667         7.40     30\n",
            "7128    William Dieterle       7.7   6.234483         6.00     29\n",
            "1112      Claude Chabrol       7.7   6.450000         6.65     28\n",
            "353        Andrzej Wajda       8.3   6.667857         6.60     28\n",
            "3292       John (I) Ford       8.2   6.137037         6.30     27\n",
            "1103  Clarence (I) Brown       7.7   6.628000         6.60     25\n",
            "2592      Henry (I) King       7.6   6.444000         6.40     25\n"
          ]
        }
      ]
    },
    {
      "cell_type": "markdown",
      "metadata": {
        "id": "pQV2NO8umBSk"
      },
      "source": [
        "# Reflection\n",
        "----\n",
        "\n",
        "## What skills have you demonstrated in completing this notebook?"
      ]
    },
    {
      "cell_type": "markdown",
      "metadata": {
        "id": "NUVvt2r0mCKq"
      },
      "source": [
        "I have used my pandas skills to retrieve, clean, sort, wrangle and manipulate data. I have used pandas, seaborn and matlib to do visualisations. I worked with Becky today and we both had fun trying to do all the plots and exercises and also discussed different ways we both would do the same exercise."
      ]
    },
    {
      "cell_type": "markdown",
      "metadata": {
        "id": "SOrbWOuFmObq"
      },
      "source": [
        "## What caused you the most difficulty?"
      ]
    },
    {
      "cell_type": "markdown",
      "metadata": {
        "id": "G_eGng1GmO78"
      },
      "source": [
        "I wanted to create a list from the results of using a .groupby function and with Karen's help was able to figure it out. I tried using to_list but it was already stored as a list so I needed to only declare it as a list by using list() function. This was for execise 4 in this sheet. I wouldn't say this was in anyway difficult, but, this is the only place I was stuck on for a few mins in this worksheet."
      ]
    }
  ]
}