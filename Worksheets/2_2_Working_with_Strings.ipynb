{
  "nbformat": 4,
  "nbformat_minor": 0,
  "metadata": {
    "colab": {
      "name": "2.2 Working with Strings.ipynb",
      "provenance": [],
      "collapsed_sections": [],
      "include_colab_link": true
    },
    "kernelspec": {
      "name": "python3",
      "display_name": "Python 3"
    }
  },
  "cells": [
    {
      "cell_type": "markdown",
      "metadata": {
        "id": "view-in-github",
        "colab_type": "text"
      },
      "source": [
        "<a href=\"https://colab.research.google.com/github/JaySanthanam/Programming-for-data/blob/main/Worksheets/2_2_Working_with_Strings.ipynb\" target=\"_parent\"><img src=\"https://colab.research.google.com/assets/colab-badge.svg\" alt=\"Open In Colab\"/></a>"
      ]
    },
    {
      "cell_type": "markdown",
      "metadata": {
        "id": "GdT0fwTCa4gI"
      },
      "source": [
        "# Working with Strings\n",
        "---\n",
        "\n",
        "The pandas library has a similar set of string functions to those available in python generally.  Because we often want to perform operations on a whole series of data values in a dataframe, we can use pandas string functions to do this:\n",
        "\n"
      ]
    },
    {
      "cell_type": "markdown",
      "metadata": {
        "id": "ozWLM6Pfa7d_"
      },
      "source": [
        "### Splitting data \n",
        "---\n",
        "\n",
        "Series.str.split() *to split a column's strings into components*    \n",
        "Series.str.get() *to get one of the components after the split*  \n",
        "\n",
        "You can **daisychain** these together:   \n",
        "\n",
        "`Series.str.split().str.get()`\n",
        "\n",
        "* `split()` will split by white space unless specified, for example if you wanted to split by \"/\" you would use `split(\"/\")`  \n",
        "\n",
        "* `get()` requires a parameter of the value position of the string you would like to 'get'. If you want the first word eg 1999, use `get(0)`.\n",
        "\n",
        "\n",
        "*Hint: remember to save your result into a new column* \n",
        "\n",
        "### Exercise 1 strings\n",
        "---\n",
        "\n",
        "Let's use the data set 'Housing in London' at 'https://raw.githubusercontent.com/futureCodersSE/working-with-data/main/Data%20sets/housing_in_london_yearly_variables.csv'\n",
        "\n",
        "The date, in this dataset is a string.   To filter for a particular year, we will need to extract the first four letters as a substring.  We can create a new column called **year**, which just contains the year, stored as a number.\n",
        "\n",
        "The date is written in the format yyyy-mm-dd.  We can split the year around the '-' and then use the first component.\n",
        "\n",
        "\n",
        "Create a function called **get_year()** which splits the data from the date column, and creates a year column with just the year before returning the year column.\n",
        "\n",
        "\n",
        "**Test output**:  \n",
        "\n",
        "```\n",
        "0       1999\n",
        "1       1999\n",
        "2       1999\n",
        "3       1999\n",
        "4       1999\n",
        "        ... \n",
        "1066    2019\n",
        "1067    2019\n",
        "1068    2019\n",
        "1069    2019\n",
        "1070    2019\n",
        "Name: year, Length: 1071, dtype: object\n",
        "```"
      ]
    },
    {
      "cell_type": "code",
      "metadata": {
        "id": "ZuLewd421t_c",
        "colab": {
          "base_uri": "https://localhost:8080/"
        },
        "outputId": "aedf4a46-f29b-42b4-aa44-5010c3a6dc92"
      },
      "source": [
        "import pandas as pd\n",
        "def get_year():\n",
        "  # add code below to return a new year column, with just years \n",
        "  url =\"https://raw.githubusercontent.com/futureCodersSE/working-with-data/main/Data%20sets/housing_in_london_yearly_variables.csv\"\n",
        "  df = pd.read_csv(url)\n",
        "  df_date=pd.Series(df[\"date\"])\n",
        "  df_year = df_date.str.split(pat=\"-\", expand = True)\n",
        "  return df_year\n",
        "\n",
        "#run and test if returned series is of correct length and has correct first row \n",
        "actual_len = len(get_year())\n",
        "actual_value = get_year().iloc[0,0]\n",
        "expected_len = 1071\n",
        "expected_val = \"1999\"\n",
        "if (actual_len == expected_len) and (actual_value == expected_val):\n",
        "  print(\"Test passed expected length 1071 and first value 1999 and got\", actual_len, actual_value)\n",
        "else: \n",
        "  print(\"Test failed expected length 1071 and first value 1999 and got length\", actual_len, \"value\", actual_value)\n",
        "\n",
        "\n"
      ],
      "execution_count": null,
      "outputs": [
        {
          "output_type": "stream",
          "name": "stdout",
          "text": [
            "Test passed expected length 1071 and first value 1999 and got 1071 1999\n"
          ]
        }
      ]
    },
    {
      "cell_type": "markdown",
      "metadata": {
        "id": "IPAgjR5U1utf"
      },
      "source": [
        "### Exercise 2\n",
        "---\n",
        "\n",
        "In exercise 1 you have extracted the year, but it's dtype is 'object' (it is still a string).  You can convert to integer by adding  .astype(int) to the daisychain.\n",
        "\n",
        "Create a new function called **get_int_year()**, `return` the year column with values of type int. \n",
        "\n",
        "**Test output**:  \n",
        "\n",
        "```\n",
        "...\n",
        "Name: year, Length: 1071, dtype: int64\n",
        "```\n",
        "\n"
      ]
    },
    {
      "cell_type": "code",
      "metadata": {
        "id": "3SuKrrvD2f1b",
        "colab": {
          "base_uri": "https://localhost:8080/"
        },
        "outputId": "3dc5c651-947d-48e0-c194-c682d281a807"
      },
      "source": [
        "def get_int_year():\n",
        "  # add code below to return a year column where values are of integer type\n",
        "  url =\"https://raw.githubusercontent.com/futureCodersSE/working-with-data/main/Data%20sets/housing_in_london_yearly_variables.csv\"\n",
        "  df = pd.read_csv(url)\n",
        "  df_date=pd.Series(df[\"date\"])\n",
        "  df_year = df_date.str.split(pat=\"-\", expand = True)\n",
        "  df_year_int = df_year.astype(int)\n",
        "  return df_year_int\n",
        "\n",
        "# run and test if your returned series is of type int\n",
        "\n",
        "import numpy as np\n",
        "actual = np.dtype(get_int_year()[0])\n",
        "expected = np.int64\n",
        "\n",
        "if actual == expected:\n",
        "  print(\"Test passed\", actual)\n",
        "else:\n",
        "  print(\"Test failed, expected\", expected, \"got\", actual)"
      ],
      "execution_count": null,
      "outputs": [
        {
          "output_type": "stream",
          "name": "stdout",
          "text": [
            "Test passed int64\n"
          ]
        }
      ]
    },
    {
      "cell_type": "markdown",
      "metadata": {
        "id": "spoUBwxT2gSi"
      },
      "source": [
        "### Exercise 3\n",
        "---\n",
        "\n",
        "All the areas in the data set are in lower case.  To prepare the data for reporting, you may want to capitalise.  Use .str.title() to do this.\n",
        "\n",
        "Create the function **get_title_areas()** to do this. `Return` the newly capitalised area column "
      ]
    },
    {
      "cell_type": "code",
      "metadata": {
        "id": "5fLUjUYk4AyI",
        "colab": {
          "base_uri": "https://localhost:8080/"
        },
        "outputId": "bd362a01-f415-4fef-8cf3-52f0a87a06cc"
      },
      "source": [
        "def get_title_areas():\n",
        "  # add code below to capitalise the first letter of each string in the column area\n",
        "  url =\"https://raw.githubusercontent.com/futureCodersSE/working-with-data/main/Data%20sets/housing_in_london_yearly_variables.csv\"\n",
        "  df = pd.read_csv(url)\n",
        "  df_area = pd.Series(df[\"area\"])\n",
        "  df_area = df_area.str.title()\n",
        "  return df_area\n",
        "\n",
        "\n",
        "# run and test if the first row of the area column is now correct \n",
        "\n",
        "actual = get_title_areas().iloc[0]\n",
        "expected = \"City Of London\"\n",
        "\n",
        "if actual == expected:\n",
        "  print(\"Test passed\", actual)\n",
        "else:\n",
        "  print(\"Test failed, expected\", expected, \"got\", actual)"
      ],
      "execution_count": null,
      "outputs": [
        {
          "output_type": "stream",
          "name": "stdout",
          "text": [
            "Test passed City Of London\n"
          ]
        }
      ]
    },
    {
      "cell_type": "markdown",
      "metadata": {
        "id": "FuUQQF2a4CPX"
      },
      "source": [
        "### Exercise 4 - Filter all areas to find all with 'and' in the name\n",
        "---\n",
        "\n",
        "Create a function called **get_and()** which uses `str.contains()` and a search (e.g. df[df['area'].str.contains()]) to filter and `return` all areas with 'And' in the name\n",
        "\n",
        "**Test output**:  \n",
        "105 rows × 13 columns\n"
      ]
    },
    {
      "cell_type": "code",
      "metadata": {
        "id": "pmT32YMq4BA8",
        "colab": {
          "base_uri": "https://localhost:8080/"
        },
        "outputId": "70e71e73-c39d-4c6b-d6e3-731aa6cd0c8c"
      },
      "source": [
        "def get_and():\n",
        "# add code to return just rows which area contains 'And'\n",
        "  url =\"https://raw.githubusercontent.com/futureCodersSE/working-with-data/main/Data%20sets/housing_in_london_yearly_variables.csv\"\n",
        "  df = pd.read_csv(url)\n",
        "  df_area_and = df[df['area'].str.contains('and')]\n",
        "  return df_area_and\n",
        "\n",
        "# run and test if returned is correct length \n",
        "\n",
        "actual = len(get_and())\n",
        "expected = 105\n",
        "\n",
        "if actual == expected:\n",
        "  print(\"Test passed\", actual)\n",
        "else:\n",
        "  print(\"Test failed, expected\", expected, \"got\", actual)"
      ],
      "execution_count": null,
      "outputs": [
        {
          "output_type": "stream",
          "name": "stdout",
          "text": [
            "Test failed, expected 105 got 231\n"
          ]
        }
      ]
    },
    {
      "cell_type": "markdown",
      "metadata": {
        "id": "8ChmyffT7wDK"
      },
      "source": [
        "### Exercise 5\n",
        "---\n",
        "\n",
        "Filter the data for all areas starting with 'Ba'  \n",
        "\n",
        "*hint: use `startswith()`*\n",
        "\n",
        "**Test Ouput:**  \n",
        "42 rows, first row has area 'Barking and Dagenham'"
      ]
    },
    {
      "cell_type": "code",
      "metadata": {
        "id": "li8sAN3O8Zxp",
        "colab": {
          "base_uri": "https://localhost:8080/"
        },
        "outputId": "c2f72fc9-2027-4935-9e94-4e76e04191f1"
      },
      "source": [
        "def get_ba():\n",
        "  # add code to filter for all areas starting with Ba \n",
        "  url =\"https://raw.githubusercontent.com/futureCodersSE/working-with-data/main/Data%20sets/housing_in_london_yearly_variables.csv\"\n",
        "  df = pd.read_csv(url)\n",
        "  df_ba = df[df['area'].str.startswith('ba')]\n",
        "  return df_ba\n",
        "\n",
        "\n",
        "\n",
        "# run and test if your returned rows are the right length \n",
        "\n",
        "actual = len(get_ba())\n",
        "expected = 42 \n",
        "\n",
        "if actual == expected:\n",
        "  print(\"Test passed\", actual)\n",
        "else:\n",
        "  print(\"Test failed, expected\", expected, \"got\", actual)\n"
      ],
      "execution_count": null,
      "outputs": [
        {
          "output_type": "stream",
          "name": "stdout",
          "text": [
            "Test passed 42\n"
          ]
        }
      ]
    },
    {
      "cell_type": "markdown",
      "metadata": {
        "id": "OrSsOstK8Z9_"
      },
      "source": [
        "### Exercise 6\n",
        "---\n",
        "Create function called **get_ham()** to filter and `return` the data for all areas ending with 'ham', for the year 2000\n",
        "\n",
        "*hint: use `endswith()`*   \n",
        "\n",
        "**Test output**:  \n",
        "4 rows (barking and dagenham, hammersmith and fulham, lewisham, newham)  "
      ]
    },
    {
      "cell_type": "code",
      "metadata": {
        "id": "lMJckNo-ab3z",
        "colab": {
          "base_uri": "https://localhost:8080/"
        },
        "outputId": "a5eae7eb-367f-455b-abba-a0f870383351"
      },
      "source": [
        "def get_ham():\n",
        "  # add code to return rows which end with ham for the year 2000\n",
        "  url =\"https://raw.githubusercontent.com/futureCodersSE/working-with-data/main/Data%20sets/housing_in_london_yearly_variables.csv\"\n",
        "  df = pd.read_csv(url)\n",
        "  df['year'] = pd. DatetimeIndex(df['date']). year\n",
        "  value_list = [\"2000\"]\n",
        "  boolean_series = df.year.isin(value_list)\n",
        "  filtered_df_2000 = df[boolean_series]\n",
        "  df_ham_2000 = filtered_df_2000[filtered_df_2000['area'].str.endswith('ham')]\n",
        "  return df_ham_2000\n",
        "\n",
        "# run and test if correct number of rows are returned\n",
        "actual = len(get_ham())\n",
        "expected = 4 \n",
        "\n",
        "if actual == expected:\n",
        "  print(\"Test passed\", actual)\n",
        "else:\n",
        "  print(\"Test failed, expected\", expected, \"got\", actual)"
      ],
      "execution_count": null,
      "outputs": [
        {
          "output_type": "stream",
          "name": "stdout",
          "text": [
            "Test passed 4\n"
          ]
        }
      ]
    },
    {
      "cell_type": "markdown",
      "metadata": {
        "id": "t_niKyF39X4q"
      },
      "source": [
        "### Exercise 7 - new data set\n",
        "---\n",
        "\n",
        "Use the data set here:  https://github.com/futureCodersSE/working-with-data/blob/main/Data%20sets/public_use-talent-migration.xlsx?raw=true\n",
        "\n",
        "Read the data from the sheet 'Skill Migration'  \n",
        "\n",
        "Write a function called **create_new_df()** which will inspect the data, then create and return new dataframe with the following changes:\n",
        "\n",
        "1.  Remove the word 'Skills' from the 'skill_group_category' column   \n",
        "  *hint: you can use the `str.rstrip()` function*\n",
        "2.  Convert country_code to uppercase    \n",
        "  *hint: try `upper()`*  \n",
        "4.  Remove the skill_group_id and the wb_income columns\n",
        "3.  Filter for regions containing 'Asia'  \n",
        "  *hint: you might have to `return` it*\n",
        "\n",
        "**Test output**:  \n",
        "9969 rows × 10 columns"
      ]
    },
    {
      "cell_type": "code",
      "metadata": {
        "id": "UGfVBX1FCjZj",
        "colab": {
          "base_uri": "https://localhost:8080/"
        },
        "outputId": "c94f869f-c0a4-412d-f792-14128cef2832"
      },
      "source": [
        "def create_new_df():\n",
        "  # add code below to return a df with 'Skills' removed, country_code in uppercase, no skill_group_id or wb_income columns and only for regions containing Asia \n",
        "  url = \"https://github.com/futureCodersSE/working-with-data/blob/main/Data%20sets/public_use-talent-migration.xlsx?raw=true\"\n",
        "  df = pd.read_excel(url,sheet_name=\"Skill Migration\")\n",
        "  df['skill_group_category'] = df['skill_group_category'].str.rstrip(\"Skills\")\n",
        "  df['country_code'] = df['country_code'].str.upper()\n",
        "  df = df.drop(columns=['skill_group_id', 'wb_income'])\n",
        "  value_list = [\"East Asia & Pacific\",\"Europe & Central Asia\", \"South Asia\"]\n",
        "  boolean_series = df.wb_region.isin(value_list)\n",
        "  filtered_df = df[boolean_series]\n",
        "  return filtered_df\n",
        "\n",
        "import pandas as pd\n",
        "\n",
        "# run and test if returned dataframe is correct length, with the right number of columns  and first row skill_group_category is correct \n",
        "test_df = create_new_df()\n",
        "print(test_df.describe)\n",
        "#actual_len = len(test_df)\n",
        "#actual_col = len(test_df.columns)\n",
        "#expected_len = 9969\n",
        "#expected_col = 10\n",
        "#actual_skill = test_df['skill_group_category'].iloc[0]\n",
        "#expected_skill = 'Tech '\n",
        "\n",
        "#if actual_len == expected_len and actual_col == expected_col and actual_skill == expected_skill:\n",
        "#  print(\"Test passed\", actual_len, \"x\", actual_col, actual_skill)\n",
        "#else:\n",
        "#  print(\"Test failed, expected\", expected_len, \"x\", expected_col, expected_skill, \"got\", actual_len, \"x\", actual_col, actual_skill"
      ],
      "execution_count": 19,
      "outputs": [
        {
          "output_type": "stream",
          "name": "stdout",
          "text": [
            "<bound method NDFrame.describe of       country_code country_name  ... net_per_10K_2018 net_per_10K_2019\n",
            "0               AF  Afghanistan  ...          -680.92         -1208.79\n",
            "1               AF  Afghanistan  ...          -532.22          -790.09\n",
            "2               AF  Afghanistan  ...          -600.44          -767.64\n",
            "3               AF  Afghanistan  ...          -406.50          -739.51\n",
            "4               AF  Afghanistan  ...          -581.71          -718.64\n",
            "...            ...          ...  ...              ...              ...\n",
            "17371           VN      Vietnam  ...           219.20           166.99\n",
            "17372           VN      Vietnam  ...           238.90           180.90\n",
            "17373           VN      Vietnam  ...           133.89           181.47\n",
            "17374           VN      Vietnam  ...           138.03           256.55\n",
            "17375           VN      Vietnam  ...           277.98           267.58\n",
            "\n",
            "[9969 rows x 10 columns]>\n"
          ]
        }
      ]
    },
    {
      "cell_type": "markdown",
      "metadata": {
        "id": "r_i4oQaoEKoY"
      },
      "source": [
        "### Exercise 8\n",
        "---\n",
        "\n",
        "Write a function called **clean_skills()** that will:\n",
        "1. rename the **net_per_10K_year** columns to be just the year\n",
        "2. in the **skill_group_category** column replace the 'z' in 'specialized' with 's' to Anglicise the spelling. \n",
        "\n",
        "The function should `return` the cleaned data.  \n",
        "\n",
        "Hint:  You can use the `replace()` function to replace substring's and characters in both column headings and the actual data.  \n",
        "* `.str.replace(\"old\",\"new\")`\n",
        "\n",
        "**Test output**:  \n",
        "17617 rows × 12 columns, with z replace by s in Specialized  \n",
        "Column names: country_code\tcountry_name\twb_income\twb_region\tskill_group_id\tskill_group_category\tskill_group_name\t2015\t2016\t2017\t2018\t2019"
      ]
    },
    {
      "cell_type": "code",
      "metadata": {
        "id": "AEWS56l4JKx3",
        "colab": {
          "base_uri": "https://localhost:8080/"
        },
        "outputId": "d972f97b-1cfc-4f8d-8d23-cabcc36c6cef"
      },
      "source": [
        "def edit_column():\n",
        "  #add code to anglicise Specialized in the skill category column and rename the net_per_10K columns\n",
        "  url = \"https://github.com/futureCodersSE/working-with-data/blob/main/Data%20sets/public_use-talent-migration.xlsx?raw=true\"\n",
        "  df = pd.read_excel(url,sheet_name=\"Skill Migration\")\n",
        "  #df1 = df.rename(columns={\"net_per_10K_year_2015\": \"2015\",\"net_per_10K_year_2016\": \"2016\",\"net_per_10K_year_2017\": \"2017\",\"net_per_10K_year_2018\": \"2018\",\"net_per_10K_year_2019\": \"2019\"}, inplace=True)\n",
        "  df[\"skill_group_category\"]= df[\"skill_group_category\"].str.replace(\"Specialized\",\"Specialised\")\n",
        "  df.columns = ['country_code','country_name', 'wb_income',\t'wb_region',\t'skill_group_id',\t'skill_group_category',\t'skill_group_name',\t'2015',\t'2016','2017',\t'2018',\t'2019']\n",
        "#  mapping = {\"net_per_10K_year_2015\": \"2015\",\"net_per_10K_year_2016\": \"2016\",\"net_per_10K_year_2017\": \"2017\",\"net_per_10K_year_2018\": \"2018\",\"net_per_10K_year_2019\": \"2019\"}\n",
        "#  df = df.rename(columns=mapping)\n",
        "  return df\n",
        "\n",
        "\n",
        "# run and test if columns have correct names and specialised is anglised \n",
        "test_df = edit_column()\n",
        "print(test_df.head())\n",
        "\n",
        "if (test_df['skill_group_category'].str.contains('Specialised').any() == True) and (test_df.columns.str.contains('net_per_10K_').any() == False):\n",
        "  print(\"Test passed\")\n",
        "else:\n",
        "  print(\"Test failed\")\n"
      ],
      "execution_count": 65,
      "outputs": [
        {
          "output_type": "stream",
          "name": "stdout",
          "text": [
            "  country_code country_name   wb_income  ...    2017    2018     2019\n",
            "0           af  Afghanistan  Low income  ... -550.04 -680.92 -1208.79\n",
            "1           af  Afghanistan  Low income  ... -776.06 -532.22  -790.09\n",
            "2           af  Afghanistan  Low income  ... -756.59 -600.44  -767.64\n",
            "3           af  Afghanistan  Low income  ... -964.73 -406.50  -739.51\n",
            "4           af  Afghanistan  Low income  ... -842.32 -581.71  -718.64\n",
            "\n",
            "[5 rows x 12 columns]\n",
            "Test passed\n"
          ]
        }
      ]
    },
    {
      "cell_type": "markdown",
      "metadata": {
        "id": "Pqc9I5VpJLpR"
      },
      "source": [
        "### Exercise 8\n",
        "---\n",
        "\n",
        "Read the 'Country Migration' sheet.\n",
        "\n",
        "Write a function that will:  \n",
        "*  convert the country codes to upper case  \n",
        "*  drop the lat and long columns for both base and target  \n",
        "*  rename the net_per_10K_year columns to year only  \n",
        "*  filter for base_country_wb_region contains 'Africa' and target_country_wb_region contains Asia  \n",
        "\n",
        "**Test output**:  \n",
        "```\n",
        "base_country_code\tbase_country_name\tbase_country_wb_income\tbase_country_wb_region\ttarget_country_code\ttarget_country_name\ttarget_country_wb_income\ttarget_country_wb_region\t2015\t2016\t2017\t2018\t2019\n",
        "0\tAE\tUnited Arab Emirates\tHigh Income\tMiddle East & North Africa\tAF\tAfghanistan\tLow Income\tSouth Asia\t0.19\t0.16\t0.11\t-0.05\t-0.02\n",
        "4\tAE\tUnited Arab Emirates\tHigh Income\tMiddle East & North Africa\tAM\tArmenia\tUpper Middle Income\tEurope & Central Asia\t0.10\t0.05\t0.03\t-0.01\t0.02\n",
        "5\tAE\tUnited Arab Emirates\tHigh Income\tMiddle East & North Africa\tAU\tAustralia\tHigh Income\tEast Asia & Pacific\t-1.06\t-3.31\t-4.01\t-4.58\t-4.09\n",
        "6\tAE\tUnited Arab Emirates\tHigh Income\tMiddle East & North Africa\tAT\tAustria\tHigh Income\tEurope & Central Asia\t0.11\t-0.08\t-0.07\t-0.05\t-0.16\n",
        "7\tAE\tUnited Arab Emirates\tHigh Income\tMiddle East & North Africa\tAZ\tAzerbaijan\tUpper Middle Income\tEurope & Central Asia\t0.24\t0.25\t0.10\t0.05\t0.04\n",
        "...\t...\t...\t...\t...\t...\t...\t...\t...\t...\t...\t...\t...\t...\n",
        "4132\tZM\tZambia\tLower Middle Income\tSub-Saharan Africa\tGB\tUnited Kingdom\tHigh Income\tEurope & Central Asia\t43.27\t27.60\t7.88\t6.90\t3.68\n",
        "4135\tZW\tZimbabwe\tLow Income\tSub-Saharan Africa\tAU\tAustralia\tHigh Income\tEast Asia & Pacific\t-1.31\t-2.33\t-2.10\t-2.08\t-1.84\n",
        "4138\tZW\tZimbabwe\tLow Income\tSub-Saharan Africa\tIS\tIceland\tHigh Income\tEurope & Central Asia\t8.52\t6.22\t2.35\t1.81\t0.97\n",
        "4142\tZW\tZimbabwe\tLow Income\tSub-Saharan Africa\tNO\tNorway\tHigh Income\tEurope & Central Asia\t2.88\t6.46\t2.10\t0.33\t-0.13\n",
        "4145\tZW\tZimbabwe\tLow Income\tSub-Saharan Africa\tGB\tUnited Kingdom\tHigh Income\tEurope & Central Asia\t3.91\t4.66\t0.74\t-0.66\t-1.97\n",
        "478 rows × 13 columns\n",
        "```\n",
        "\n"
      ]
    },
    {
      "cell_type": "code",
      "metadata": {
        "id": "jYu6n_jF9v1Y",
        "colab": {
          "base_uri": "https://localhost:8080/"
        },
        "outputId": "d32f6062-96b2-4b6d-bdbe-8c1633c24b20"
      },
      "source": [
        "def clean_country_mig():\n",
        "  # add code below to clean the data \n",
        "  url = \"https://github.com/futureCodersSE/working-with-data/blob/main/Data%20sets/public_use-talent-migration.xlsx?raw=true\"\n",
        "  df = pd.read_excel(url,sheet_name=\"Country Migration\")\n",
        "  df.columns = ['base_country_code',\t'base_country_name',\t'base_lat',\t'base_long',\t'base_country_wb_income',\t'base_country_wb_region',\t'target_country_code',\t'target_country_name',\t'target_lat',\t'target_long',\t'target_country_wb_income', 'target_country_wb_region',\t'2015',\t'2016',\t'2017',\t'2018',\t'2019']\n",
        "  df = df.drop(columns=['base_lat',\t'base_long','target_lat',\t'target_long'])\n",
        "  df['base_country_code'] = df['base_country_code'].str.upper()\n",
        "  df['target_country_code'] = df['target_country_code'].str.upper()\n",
        "  value_list = [\"Middle East & North Africa\",\"Sub-Saharan Africa\"]\n",
        "  value_list1 = [\"East Asia & Pacific\",\"Europe & Central Asia\", \"South Asia\"]\n",
        "  boolean_series1 = df.base_country_wb_region.isin(value_list)\n",
        "  boolean_series2 = df.target_country_wb_region.isin(value_list1)\n",
        "  df = df[boolean_series1]\n",
        "  df = df[boolean_series2]\n",
        "  return df\n",
        " \n",
        "# run test if there is the correct number of columns, country codes are in uppercase and year columns have been reformatted \n",
        "\n",
        "test_df = clean_country_mig()\n",
        "actual_col_len = len(test_df.columns)\n",
        "expected = 13\n",
        "\n",
        "if actual_col_len == expected and (test_df['base_country_code'].str.islower().any() == False) and (test_df.columns.str.contains('net_per_10K_').any() == False):\n",
        "  print(\"Test passed\")\n",
        "else:\n",
        "  print(\"Test failed\")"
      ],
      "execution_count": 79,
      "outputs": [
        {
          "output_type": "stream",
          "name": "stdout",
          "text": [
            "Test passed\n"
          ]
        },
        {
          "output_type": "stream",
          "name": "stderr",
          "text": [
            "/usr/local/lib/python3.7/dist-packages/ipykernel_launcher.py:14: UserWarning: Boolean Series key will be reindexed to match DataFrame index.\n",
            "  \n"
          ]
        }
      ]
    },
    {
      "cell_type": "markdown",
      "metadata": {
        "id": "7V6mNsfsNrsd"
      },
      "source": [
        "### Exercise 10\n",
        "---\n",
        "\n",
        "Read the data from file 'https://raw.githubusercontent.com/pandas-dev/pandas/master/doc/data/titanic.csv'.\n",
        "\n",
        "Write a function that will return a new dataframe with just the married women listed, surname only.\n",
        "\n",
        "**Test output**:  \n",
        "```\n",
        "\tPassengerId\tSurvived\tPclass\tName\tSex\tAge\tSibSp\tParch\tTicket\tFare\tCabin\tEmbarked\n",
        "1\t2\t1\t1\tCumings\tfemale\t38.0\t1\t0\tPC 17599\t71.2833\tC85\tC\n",
        "3\t4\t1\t1\tFutrelle\tfemale\t35.0\t1\t0\t113803\t53.1000\tC123\tS\n",
        "8\t9\t1\t3\tJohnson\tfemale\t27.0\t0\t2\t347742\t11.1333\tNaN\tS\n",
        "9\t10\t1\t2\tNasser\tfemale\t14.0\t1\t0\t237736\t30.0708\tNaN\tC\n",
        "15\t16\t1\t2\tHewlett\tfemale\t55.0\t0\t0\t248706\t16.0000\tNaN\tS\n",
        "...\t...\t...\t...\t...\t...\t...\t...\t...\t...\t...\t...\t...\n",
        "871\t872\t1\t1\tBeckwith\tfemale\t47.0\t1\t1\t11751\t52.5542\tD35\tS\n",
        "874\t875\t1\t2\tAbelson\tfemale\t28.0\t1\t0\tP/PP 3381\t24.0000\tNaN\tC\n",
        "879\t880\t1\t1\tPotter\tfemale\t56.0\t0\t1\t11767\t83.1583\tC50\tC\n",
        "880\t881\t1\t2\tShelley\tfemale\t25.0\t0\t1\t230433\t26.0000\tNaN\tS\n",
        "885\t886\t0\t3\tRice\tfemale\t39.0\t0\t5\t382652\t29.1250\tNaN\tQ\n",
        "129 rows × 12 columns\n",
        "```\n",
        "\n",
        "\n",
        "\n"
      ]
    },
    {
      "cell_type": "code",
      "metadata": {
        "id": "J4gx3RHIOczI",
        "colab": {
          "base_uri": "https://localhost:8080/"
        },
        "outputId": "6f1727f4-902d-40d4-8350-bf55a8cdaa9d"
      },
      "source": [
        "def get_married(df):\n",
        "  # add code to return only the last names of married women\n",
        "  df[\"Married Women\"] = df[\"Name\"].str.contains(\"Mrs.\", case=True)\n",
        "  df[\"Surname\"] = df[\"Name\"].str.split(\",\").str.get(0)\n",
        "  df.drop(df[df['Married Women'] == False].index, inplace=True)\n",
        "  df[\"Name\"] = df[\"Surname\"]\n",
        "  df = df.drop(columns=['Surname', 'Married Women'])\n",
        "  return df\n",
        "\n",
        "# run and test if returned dataframe is correct length and has correct first row \n",
        "import pandas as pd\n",
        "url = \"https://raw.githubusercontent.com/pandas-dev/pandas/master/doc/data/titanic.csv\"\n",
        "titanic = pd.read_csv(url)\n",
        "test_df = get_married(titanic)\n",
        "print(test_df)\n",
        "#actual_len = len(test_df)\n",
        "#expected_len = 129\n",
        "#actual_name = test_df['Name'].iloc[0]\n",
        "#expected_name = 'Cumings'\n",
        "#\n",
        "#if actual_len == expected_len and actual_name == expected_name:\n",
        "#  print(\"Test passed, \", actual_len, actual_name)\n",
        "#else:\n",
        "#  print(\"Test failed expected \", expected_len, expected_name, \"got\", actual_len, actual_name)"
      ],
      "execution_count": 112,
      "outputs": [
        {
          "output_type": "stream",
          "name": "stdout",
          "text": [
            "     PassengerId  Survived  Pclass      Name  ...     Ticket     Fare  Cabin  Embarked\n",
            "1              2         1       1   Cumings  ...   PC 17599  71.2833    C85         C\n",
            "3              4         1       1  Futrelle  ...     113803  53.1000   C123         S\n",
            "8              9         1       3   Johnson  ...     347742  11.1333    NaN         S\n",
            "9             10         1       2    Nasser  ...     237736  30.0708    NaN         C\n",
            "15            16         1       2   Hewlett  ...     248706  16.0000    NaN         S\n",
            "..           ...       ...     ...       ...  ...        ...      ...    ...       ...\n",
            "871          872         1       1  Beckwith  ...      11751  52.5542    D35         S\n",
            "874          875         1       2   Abelson  ...  P/PP 3381  24.0000    NaN         C\n",
            "879          880         1       1    Potter  ...      11767  83.1583    C50         C\n",
            "880          881         1       2   Shelley  ...     230433  26.0000    NaN         S\n",
            "885          886         0       3      Rice  ...     382652  29.1250    NaN         Q\n",
            "\n",
            "[129 rows x 12 columns]\n"
          ]
        }
      ]
    },
    {
      "cell_type": "markdown",
      "metadata": {
        "id": "22Rhwx2Sb1Ey"
      },
      "source": [
        "---\n",
        "### Optional extra practice\n",
        "\n",
        "There are some similar and some more challenging exercises [here](https://www.w3resource.com/python-exercises/date-time-exercise/) if you would like to practice more. The site has its own editor."
      ]
    },
    {
      "cell_type": "markdown",
      "metadata": {
        "id": "pQV2NO8umBSk"
      },
      "source": [
        "# Reflection\n",
        "----\n",
        "\n",
        "## What skills have you demonstrated in completing this notebook?"
      ]
    },
    {
      "cell_type": "markdown",
      "metadata": {
        "id": "NUVvt2r0mCKq"
      },
      "source": [
        "Your answer:"
      ]
    },
    {
      "cell_type": "markdown",
      "metadata": {
        "id": "SOrbWOuFmObq"
      },
      "source": [
        "## What caused you the most difficulty?"
      ]
    },
    {
      "cell_type": "markdown",
      "metadata": {
        "id": "G_eGng1GmO78"
      },
      "source": [
        "Your answer:"
      ]
    }
  ]
}