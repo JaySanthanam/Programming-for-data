{
  "nbformat": 4,
  "nbformat_minor": 0,
  "metadata": {
    "colab": {
      "name": "15.1 - Encoding and Dummy Coding.ipynb",
      "provenance": [],
      "include_colab_link": true
    },
    "kernelspec": {
      "name": "python3",
      "display_name": "Python 3"
    },
    "language_info": {
      "name": "python"
    }
  },
  "cells": [
    {
      "cell_type": "markdown",
      "metadata": {
        "id": "view-in-github",
        "colab_type": "text"
      },
      "source": [
        "<a href=\"https://colab.research.google.com/github/JaySanthanam/Programming-for-data/blob/main/Worksheets/Encoding_and_Dummy_Coding.ipynb\" target=\"_parent\"><img src=\"https://colab.research.google.com/assets/colab-badge.svg\" alt=\"Open In Colab\"/></a>"
      ]
    },
    {
      "cell_type": "markdown",
      "metadata": {
        "id": "vQ_tQG_3WBXn"
      },
      "source": [
        "## Encoding Data  \n",
        "When we encode data, we remodel a numeric column in a dataframe to be on a standard scale (0 or 1).   \n",
        "For example if we had a column of BMI scores, we could encode that column so that all scores greater than or equal to 25 were recoded to the value 1 (bad) and all scores less than 25 were recoded to 0 (good).  \n",
        "\n",
        "For example:  \n",
        "\n",
        "` def encode_bmi(df):`       \n",
        "> `if df['bmi'] >= 25:`  \n",
        "> >  `return 1`   \n",
        "\n",
        ">`else`:  \n",
        "> >`return 0`  \n",
        "\n",
        "`df[\"bmi\"] = df.apply(encode_bmi, axis=1)`    "
      ]
    },
    {
      "cell_type": "markdown",
      "metadata": {
        "id": "gHU4-ADHU4eq"
      },
      "source": [
        "### Challenge 1 - prepare dataset for encoding \n",
        "---\n",
        "1. Read Covid vaccination data from the `by_country` sheet in the Excel file at this link : https://github.com/lilaceri/Working-with-data-/blob/342abab10d93c4bf23b5c55a50f189f12a137c5f/Data%20Sets%20for%20code%20divisio/Covid%20Vaccination%20Data.xlsx?raw=true\n",
        "2. Find out which columns have missing values\n",
        "3. Remove all rows with missing data in the total_vaccination column  \n",
        "4. Remove all rows with missing data in the daily_vaccinations_per_million \n",
        "4. find the median daily_vaccinations_per_million, storing this in a variable for use later     \n",
        "\n",
        "\n",
        "**Test output**:  \n",
        "1. dataframe is saved in a variable\n",
        "2. \n",
        "```\n",
        "RangeIndex: 14994 entries, 0 to 14993\n",
        "Data columns (total 15 columns):\n",
        "    Column                               Non-Null Count  Dtype         \n",
        "                                \n",
        " 0   country                              14994 non-null  object        \n",
        " 1   iso_code                             14994 non-null  object        \n",
        " 2   date                                 14994 non-null  datetime64[ns]\n",
        " 3   total_vaccinations                   9011 non-null   float64       \n",
        " 4   people_vaccinated                    8370 non-null   float64       \n",
        " 5   people_fully_vaccinated              6158 non-null   float64       \n",
        " 6   daily_vaccinations_raw               7575 non-null   float64       \n",
        " 7   daily_vaccinations                   14796 non-null  float64       \n",
        " 8   total_vaccinations_per_hundred       9011 non-null   float64       \n",
        " 9   people_vaccinated_per_hundred        8370 non-null   float64       \n",
        " 10  people_fully_vaccinated_per_hundred  6158 non-null   float64       \n",
        " 11  daily_vaccinations_per_million       14796 non-null  float64       \n",
        " 12  vaccines                             14994 non-null  object        \n",
        " 13  source_name                          14994 non-null  object        \n",
        " 14  source_website                       14994 non-null  object        \n",
        "dtypes: datetime64[ns](1), float64(9), object(5)\n",
        "memory usage: 1.7+ MB\n",
        "```\n",
        "3. 9011 rows × 15 columns  \n",
        "4. 8815 rows * 15 columns \n",
        "5. 6.65 \n",
        "\n"
      ]
    },
    {
      "cell_type": "code",
      "metadata": {
        "id": "Hb36AOCAbJIR",
        "colab": {
          "base_uri": "https://localhost:8080/"
        },
        "outputId": "b9f0ba1f-7c63-41be-bcf5-19fc89e6c603"
      },
      "source": [
        "import pandas as pd\n",
        "def get_excel_data(url, string):\n",
        "  df = pd.read_excel(url,sheet_name= string)\n",
        "  return df\n",
        "\n",
        "# Task 1 \n",
        "url = \"https://github.com/lilaceri/Working-with-data-/blob/342abab10d93c4bf23b5c55a50f189f12a137c5f/Data%20Sets%20for%20code%20divisio/Covid%20Vaccination%20Data.xlsx?raw=true\"\n",
        "country_data  = get_excel_data(url, 'by_country')\n",
        "\n",
        "#Task 2 Find columns with missing values\n",
        "print(\"Task 2\")\n",
        "print(country_data.info())\n",
        "\n",
        "# Task 3 Remove null values in total_vaccinations\n",
        "print(\"Task 3\")\n",
        "count_data = country_data.dropna(subset = [\"total_vaccinations\"])\n",
        "print(count_data.shape)\n",
        "\n",
        "# Task 4 Remove null values in daily_vaccinations_per_million\n",
        "print(\"Task 4\")\n",
        "df= count_data.dropna(subset = [\"daily_vaccinations_per_million\"])\n",
        "print(df.shape)\n",
        "\n",
        "# Task 5 Find median of daily_vaccinations_per_million\n",
        "print(\"Task 5\")\n",
        "med_per_mill = df[\"daily_vaccinations_per_million\"].median()\n",
        "print(med_per_mill)\n",
        "\n"
      ],
      "execution_count": 1,
      "outputs": [
        {
          "output_type": "stream",
          "name": "stdout",
          "text": [
            "Task 2\n",
            "<class 'pandas.core.frame.DataFrame'>\n",
            "RangeIndex: 14994 entries, 0 to 14993\n",
            "Data columns (total 15 columns):\n",
            " #   Column                               Non-Null Count  Dtype         \n",
            "---  ------                               --------------  -----         \n",
            " 0   country                              14994 non-null  object        \n",
            " 1   iso_code                             14994 non-null  object        \n",
            " 2   date                                 14994 non-null  datetime64[ns]\n",
            " 3   total_vaccinations                   9011 non-null   float64       \n",
            " 4   people_vaccinated                    8370 non-null   float64       \n",
            " 5   people_fully_vaccinated              6158 non-null   float64       \n",
            " 6   daily_vaccinations_raw               7575 non-null   float64       \n",
            " 7   daily_vaccinations                   14796 non-null  float64       \n",
            " 8   total_vaccinations_per_hundred       9011 non-null   float64       \n",
            " 9   people_vaccinated_per_hundred        8370 non-null   float64       \n",
            " 10  people_fully_vaccinated_per_hundred  6158 non-null   float64       \n",
            " 11  daily_vaccinations_per_million       14796 non-null  float64       \n",
            " 12  vaccines                             14994 non-null  object        \n",
            " 13  source_name                          14994 non-null  object        \n",
            " 14  source_website                       14994 non-null  object        \n",
            "dtypes: datetime64[ns](1), float64(9), object(5)\n",
            "memory usage: 1.7+ MB\n",
            "None\n",
            "Task 3\n",
            "(9011, 15)\n",
            "Task 4\n",
            "(8816, 15)\n",
            "Task 5\n",
            "1915.5\n"
          ]
        }
      ]
    },
    {
      "cell_type": "markdown",
      "source": [
        "This challenge is really helpful to practice data retrieval and cleaning. I feel much more confident that I can do this straightway without needing any help or looking over previous worksheets."
      ],
      "metadata": {
        "id": "lJLolU6QZG8s"
      }
    },
    {
      "cell_type": "markdown",
      "metadata": {
        "id": "7br0m2QAn-9i"
      },
      "source": [
        "### Challenge 2 - encode daily vaccinations \n",
        "---\n",
        "\n",
        "Write a function to encode daily vaccinations per million, where values greater than or equal to median = 1 and values less than median = 0 \n",
        "\n",
        "**Test output**: \n",
        "\n",
        "using describe()\n",
        "```\n",
        "count    8816.000000\n",
        "mean        0.991493\n",
        "std         0.091847\n",
        "min         0.000000\n",
        "25%         1.000000\n",
        "50%         1.000000\n",
        "75%         1.000000\n",
        "max         1.000000\n",
        "Name: daily_vaccinations_per_million, dtype: float64\n",
        "```"
      ]
    },
    {
      "cell_type": "markdown",
      "source": [
        "I would like to try and use functions for repeated codes as much as possible. So the ecoding columns, can be created as a function, like suggested and perhaps can be used for other columns and/or data"
      ],
      "metadata": {
        "id": "r8Yf9clYej3m"
      }
    },
    {
      "cell_type": "code",
      "metadata": {
        "id": "nwmvVLa0aYli",
        "colab": {
          "base_uri": "https://localhost:8080/"
        },
        "outputId": "7652ef32-9070-461b-9457-e9c62769ab30"
      },
      "source": [
        "# Task\n",
        "def encode_daily(df, **kwds):\n",
        "  median = kwds['median']\n",
        "  key = kwds['key']\n",
        "  if df[key] > median:\n",
        "    return 1\n",
        "  else:\n",
        "    return 0\n",
        "\n",
        "\n",
        "df['daily_vaccinations_per_million_encoded'] = df.apply(encode_daily, axis =1, key = 'daily_vaccinations_per_million',median = med_per_mill)\n",
        "print(df['daily_vaccinations_per_million_encoded'].describe())\n",
        "\n"
      ],
      "execution_count": 2,
      "outputs": [
        {
          "output_type": "stream",
          "name": "stdout",
          "text": [
            "count    8816.000000\n",
            "mean        0.500000\n",
            "std         0.500028\n",
            "min         0.000000\n",
            "25%         0.000000\n",
            "50%         0.500000\n",
            "75%         1.000000\n",
            "max         1.000000\n",
            "Name: daily_vaccinations_per_million_encoded, dtype: float64\n"
          ]
        },
        {
          "output_type": "stream",
          "name": "stderr",
          "text": [
            "/usr/local/lib/python3.7/dist-packages/ipykernel_launcher.py:11: SettingWithCopyWarning: \n",
            "A value is trying to be set on a copy of a slice from a DataFrame.\n",
            "Try using .loc[row_indexer,col_indexer] = value instead\n",
            "\n",
            "See the caveats in the documentation: https://pandas.pydata.org/pandas-docs/stable/user_guide/indexing.html#returning-a-view-versus-a-copy\n",
            "  # This is added back by InteractiveShellApp.init_path()\n"
          ]
        }
      ]
    },
    {
      "cell_type": "markdown",
      "metadata": {
        "id": "yX9easCln-9m"
      },
      "source": [
        "### Challenge 3 - Encoding total vaccinations   \n",
        "---\n",
        "The United Kingdom has been praised for its fast vaccine rollout. \n",
        "1. Find the minimum total vaccinations for the United Kingdom \n",
        "2. Write a function to encode total_vaccinations column so that all values less than the UK's min are 0 and all values greater than or equal to the UK's min are coded as 1 \n",
        "3. Display the unique countries for which total vaccinated is at the same rate or more than the UK\n",
        "\n",
        "**Test output**:\n",
        "\n",
        "1. 1402432.0\n",
        "2. `df['total_vaccinations'].describe()` should output:\n",
        "```\n",
        "count    9011.00000\n",
        "mean        0.29808\n",
        "std         0.45744\n",
        "min         0.00000\n",
        "25%         0.00000\n",
        "50%         0.00000\n",
        "75%         1.00000\n",
        "max         1.00000\n",
        "Name: total_vaccinations, dtype: float64\n",
        "```\n",
        "3. \n",
        "```\n",
        "array(['Argentina', 'Australia', 'Austria', 'Azerbaijan', 'Bangladesh',\n",
        "       'Belgium', 'Brazil', 'Cambodia', 'Canada', 'Chile', 'China',\n",
        "       'Colombia', 'Czechia', 'Denmark', 'Dominican Republic', 'England',\n",
        "       'Finland', 'France', 'Germany', 'Greece', 'Hong Kong', 'Hungary',\n",
        "       'India', 'Indonesia', 'Ireland', 'Israel', 'Italy', 'Japan',\n",
        "       'Kazakhstan', 'Malaysia', 'Mexico', 'Morocco', 'Nepal',\n",
        "       'Netherlands', 'Norway', 'Pakistan', 'Peru', 'Philippines',\n",
        "       'Poland', 'Portugal', 'Qatar', 'Romania', 'Russia', 'Saudi Arabia',\n",
        "       'Scotland', 'Serbia', 'Singapore', 'Slovakia', 'South Korea',\n",
        "       'Spain', 'Sweden', 'Switzerland', 'Thailand', 'Turkey',\n",
        "       'United Arab Emirates', 'United Kingdom', 'United States',\n",
        "       'Uruguay', 'Wales'], dtype=object)\n",
        "```\n",
        "\n",
        "\n"
      ]
    },
    {
      "cell_type": "markdown",
      "source": [
        "I have decided to use the lambda function to get the unique values of country name. I am sure there are otherways to do this too. But this seemed like easy and simple way to apply the condition that country name should be United Kingdom."
      ],
      "metadata": {
        "id": "je2wdzHTe5Rr"
      }
    },
    {
      "cell_type": "code",
      "metadata": {
        "id": "D6-QmeusbTIx",
        "colab": {
          "base_uri": "https://localhost:8080/"
        },
        "outputId": "fde7b060-9c75-4c60-cf86-4895ea6bf34e"
      },
      "source": [
        "# Task 1 Find the minimum total_vaccinations in the UK\n",
        "print(\"Task 1\")\n",
        "min_uk = count_data.loc[count_data['country']=='United Kingdom','total_vaccinations'].min()\n",
        "print(min_uk)\n",
        "\n",
        "# Task 2 encode total_vaccinations column\n",
        "print(\"Task 2\")\n",
        "count_data['total_vaccinations_encoded'] = count_data.apply(encode_daily, axis =1, key = 'total_vaccinations',median = min_uk)\n",
        "print(count_data['total_vaccinations_encoded'].describe())\n",
        "\n",
        "# Task 3 Display the unique countries for which total vaccinated is at the same rate or more than the UK\n",
        "print(\"Task 3\")\n",
        "unique_country = count_data.groupby('total_vaccinations_encoded').apply(lambda x: x['country'].unique())\n",
        "print(unique_country[1])"
      ],
      "execution_count": 3,
      "outputs": [
        {
          "output_type": "stream",
          "name": "stdout",
          "text": [
            "Task 1\n",
            "1402432.0\n",
            "Task 2\n",
            "count    9011.000000\n",
            "mean        0.297969\n",
            "std         0.457391\n",
            "min         0.000000\n",
            "25%         0.000000\n",
            "50%         0.000000\n",
            "75%         1.000000\n",
            "max         1.000000\n",
            "Name: total_vaccinations_encoded, dtype: float64\n",
            "Task 3\n",
            "['Argentina' 'Australia' 'Austria' 'Azerbaijan' 'Bangladesh' 'Belgium'\n",
            " 'Brazil' 'Cambodia' 'Canada' 'Chile' 'China' 'Colombia' 'Czechia'\n",
            " 'Denmark' 'Dominican Republic' 'England' 'Finland' 'France' 'Germany'\n",
            " 'Greece' 'Hong Kong' 'Hungary' 'India' 'Indonesia' 'Ireland' 'Israel'\n",
            " 'Italy' 'Japan' 'Kazakhstan' 'Malaysia' 'Mexico' 'Morocco' 'Nepal'\n",
            " 'Netherlands' 'Norway' 'Pakistan' 'Peru' 'Philippines' 'Poland'\n",
            " 'Portugal' 'Qatar' 'Romania' 'Russia' 'Saudi Arabia' 'Scotland' 'Serbia'\n",
            " 'Singapore' 'Slovakia' 'South Korea' 'Spain' 'Sweden' 'Switzerland'\n",
            " 'Thailand' 'Turkey' 'United Arab Emirates' 'United Kingdom'\n",
            " 'United States' 'Uruguay' 'Wales']\n"
          ]
        },
        {
          "output_type": "stream",
          "name": "stderr",
          "text": [
            "/usr/local/lib/python3.7/dist-packages/ipykernel_launcher.py:8: SettingWithCopyWarning: \n",
            "A value is trying to be set on a copy of a slice from a DataFrame.\n",
            "Try using .loc[row_indexer,col_indexer] = value instead\n",
            "\n",
            "See the caveats in the documentation: https://pandas.pydata.org/pandas-docs/stable/user_guide/indexing.html#returning-a-view-versus-a-copy\n",
            "  \n"
          ]
        }
      ]
    },
    {
      "cell_type": "markdown",
      "metadata": {
        "id": "t9DFDyr0n-9o"
      },
      "source": [
        "### Challenge 4 - create new series of total vaccinations for each manufacturer\n",
        "---\n",
        "\n",
        "To create a new column in your dataframe:\n",
        "\n",
        "`df['new_column'] = ...`\n",
        "\n",
        "For example:\n",
        "\n",
        "* to duplicate an existing column\n",
        "  * `df['new_column'] = df['old_column']`\n",
        "* to add two columns together \n",
        "  * `df['new_column'] = df['column1'] + df['column2']`\n",
        "* to make a percentages column \n",
        "  * `df['new_column'] = (df['column1']/df['column1].sum()) * 100`\n",
        "\n",
        "  \n",
        "1. read data from 'by_manufacturer' sheet from Covid data \n",
        "2. find the sum of total vaccinations for each manufacturer\n",
        "3. create a new column that has the total vaccinations as a percentage of the overall sum of total vaccinations \n",
        "4. find the median percentage \n",
        "5. create a new column called 'encoded_percentages' which duplicates the percentages column\n",
        "6. encode the encoded_percentages column so that any values greater than or equal to the median percentage = 1 and any lesser than = 0 \n",
        "\n",
        "\n",
        "**Test output**:\n",
        "\n",
        "1.\n",
        "2. \n",
        "```\n",
        "vaccine\n",
        "Johnson&Johnson        264839828\n",
        "Moderna               5548036383\n",
        "Oxford/AstraZeneca     539433203\n",
        "Pfizer/BioNTech       8690461304\n",
        "Sinovac                604660293\n",
        "Name: total_vaccinations, dtype: int64\n",
        "```\n",
        "3. \n",
        "```\n",
        "\tlocation\tdate\tvaccine\ttotal_vaccinations\tpercentages\n",
        "0\tChile\t2020-12-24\tPfizer/BioNTech\t420\t0.000003\n",
        "1\tChile\t2020-12-25\tPfizer/BioNTech\t5198\t0.000033\n",
        "2\tChile\t2020-12-26\tPfizer/BioNTech\t8338\t0.000053\n",
        "3\tChile\t2020-12-27\tPfizer/BioNTech\t8649\t0.000055\n",
        "4\tChile\t2020-12-28\tPfizer/BioNTech\t8649\t0.000055\n",
        "...\t...\t...\t...\t...\t...\n",
        "3291\tUnited States\t2021-05-01\tModerna\t105947940\t0.677095\n",
        "3292\tUnited States\t2021-05-01\tPfizer/BioNTech\t129013657\t0.824504\n",
        "3293\tUnited States\t2021-05-02\tJohnson&Johnson\t8374395\t0.053519\n",
        "3294\tUnited States\t2021-05-02\tModerna\t106780082\t0.682413\n",
        "3295\tUnited States\t2021-05-02\tPfizer/BioNTech\t130252779\t0.832423\n",
        "3296 rows × 5 columns\n",
        "```\n",
        "4. 0.0011110194374896931\n",
        "5. \n",
        "```\n",
        "location\tdate\tvaccine\ttotal_vaccinations\tpercentage_of_total\tencoded_percentages\n",
        "0\tChile\t2020-12-24\tPfizer/BioNTech\t420\t0.000003\t0.000003\n",
        "1\tChile\t2020-12-25\tPfizer/BioNTech\t5198\t0.000033\t0.000033\n",
        "2\tChile\t2020-12-26\tPfizer/BioNTech\t8338\t0.000053\t0.000053\n",
        "3\tChile\t2020-12-27\tPfizer/BioNTech\t8649\t0.000055\t0.000055\n",
        "4\tChile\t2020-12-28\tPfizer/BioNTech\t8649\t0.000055\t0.000055\n",
        "...\t...\t...\t...\t...\t...\t...\n",
        "3291\tUnited States\t2021-05-01\tModerna\t105947940\t0.677095\t0.677095\n",
        "3292\tUnited States\t2021-05-01\tPfizer/BioNTech\t129013657\t0.824504\t0.824504\n",
        "3293\tUnited States\t2021-05-02\tJohnson&Johnson\t8374395\t0.053519\t0.053519\n",
        "3294\tUnited States\t2021-05-02\tModerna\t106780082\t0.682413\t0.682413\n",
        "3295\tUnited States\t2021-05-02\tPfizer/BioNTech\t130252779\t0.832423\t0.832423\n",
        "3296 rows × 6 columns\n",
        "```\n",
        "6. \n",
        "```\n",
        "\tlocation\tdate\tvaccine\ttotal_vaccinations\tpercentages\tencode\tencoded\n",
        "0\tChile\t2020-12-24\tPfizer/BioNTech\t420\t0.000003\t0.000003\t0\n",
        "1\tChile\t2020-12-25\tPfizer/BioNTech\t5198\t0.000033\t0.000033\t0\n",
        "2\tChile\t2020-12-26\tPfizer/BioNTech\t8338\t0.000053\t0.000053\t0\n",
        "3\tChile\t2020-12-27\tPfizer/BioNTech\t8649\t0.000055\t0.000055\t0\n",
        "4\tChile\t2020-12-28\tPfizer/BioNTech\t8649\t0.000055\t0.000055\t0\n",
        "...\t...\t...\t...\t...\t...\t...\t...\n",
        "3291\tUnited States\t2021-05-01\tModerna\t105947940\t0.677095\t0.677095\t1\n",
        "3292\tUnited States\t2021-05-01\tPfizer/BioNTech\t129013657\t0.824504\t0.824504\t1\n",
        "3293\tUnited States\t2021-05-02\tJohnson&Johnson\t8374395\t0.053519\t0.053519\t1\n",
        "3294\tUnited States\t2021-05-02\tModerna\t106780082\t0.682413\t0.682413\t1\n",
        "3295\tUnited States\t2021-05-02\tPfizer/BioNTech\t130252779\t0.832423\t0.832423\t1\n",
        "3296 rows × 7 columns\n",
        "```\n",
        "\n"
      ]
    },
    {
      "cell_type": "code",
      "source": [
        "#Task 1 get manufacturer data\n",
        "manu_df = get_excel_data(url, 'by_manufacturer')\n",
        "\n",
        "#Task 2 Find the total vaccinations by manufacturer\n",
        "print(\"Task 2\")\n",
        "manu_tot = manu_df.groupby([\"vaccine\"]).sum()\n",
        "print(manu_tot)\n",
        "\n",
        "#Task 3 Find the total vaccinations percentages\n",
        "print(\"Task 3\")\n",
        "manu_df['total_vaccinations_percentage'] = (manu_df['total_vaccinations'] / manu_df['total_vaccinations'].sum()) * 100\n",
        "print(manu_df)\n",
        "\n",
        "#Task 4 Find the total vaccinations percentage\n",
        "print(\"Task 4\")\n",
        "manu_med_per = manu_df['total_vaccinations_percentage'].median() \n",
        "print(manu_med_per)\n",
        "\n",
        "#Task 5 create a copy of column, total vaccinations percentage\n",
        "print(\"Task 5\")\n",
        "manu_df['encoded_percentages'] = manu_df['total_vaccinations_percentage']\n",
        "print(manu_df)\n",
        "\n",
        "# Task 6 encode encoded_percentage column\n",
        "med_percent = manu_df['total_vaccinations_percentage'].median()\n",
        "print(\"Task 6\")\n",
        "manu_df['encode'] = manu_df.apply(encode_daily, axis =1, key = 'total_vaccinations_percentage',median = med_percent)\n",
        "print(manu_df)"
      ],
      "metadata": {
        "colab": {
          "base_uri": "https://localhost:8080/"
        },
        "id": "fMgtaIXuKrgB",
        "outputId": "3615c6d7-a5be-4453-ae63-f663af2aec0d"
      },
      "execution_count": 4,
      "outputs": [
        {
          "output_type": "stream",
          "name": "stdout",
          "text": [
            "Task 2\n",
            "                    total_vaccinations\n",
            "vaccine                               \n",
            "Johnson&Johnson              264839828\n",
            "Moderna                     5548036383\n",
            "Oxford/AstraZeneca           539433203\n",
            "Pfizer/BioNTech             8690461304\n",
            "Sinovac                      604660293\n",
            "Task 3\n",
            "           location       date          vaccine  total_vaccinations  \\\n",
            "0             Chile 2020-12-24  Pfizer/BioNTech                 420   \n",
            "1             Chile 2020-12-25  Pfizer/BioNTech                5198   \n",
            "2             Chile 2020-12-26  Pfizer/BioNTech                8338   \n",
            "3             Chile 2020-12-27  Pfizer/BioNTech                8649   \n",
            "4             Chile 2020-12-28  Pfizer/BioNTech                8649   \n",
            "...             ...        ...              ...                 ...   \n",
            "3291  United States 2021-05-01          Moderna           105947940   \n",
            "3292  United States 2021-05-01  Pfizer/BioNTech           129013657   \n",
            "3293  United States 2021-05-02  Johnson&Johnson             8374395   \n",
            "3294  United States 2021-05-02          Moderna           106780082   \n",
            "3295  United States 2021-05-02  Pfizer/BioNTech           130252779   \n",
            "\n",
            "      total_vaccinations_percentage  \n",
            "0                          0.000003  \n",
            "1                          0.000033  \n",
            "2                          0.000053  \n",
            "3                          0.000055  \n",
            "4                          0.000055  \n",
            "...                             ...  \n",
            "3291                       0.677095  \n",
            "3292                       0.824504  \n",
            "3293                       0.053519  \n",
            "3294                       0.682413  \n",
            "3295                       0.832423  \n",
            "\n",
            "[3296 rows x 5 columns]\n",
            "Task 4\n",
            "0.0011110194374896931\n",
            "Task 5\n",
            "           location       date          vaccine  total_vaccinations  \\\n",
            "0             Chile 2020-12-24  Pfizer/BioNTech                 420   \n",
            "1             Chile 2020-12-25  Pfizer/BioNTech                5198   \n",
            "2             Chile 2020-12-26  Pfizer/BioNTech                8338   \n",
            "3             Chile 2020-12-27  Pfizer/BioNTech                8649   \n",
            "4             Chile 2020-12-28  Pfizer/BioNTech                8649   \n",
            "...             ...        ...              ...                 ...   \n",
            "3291  United States 2021-05-01          Moderna           105947940   \n",
            "3292  United States 2021-05-01  Pfizer/BioNTech           129013657   \n",
            "3293  United States 2021-05-02  Johnson&Johnson             8374395   \n",
            "3294  United States 2021-05-02          Moderna           106780082   \n",
            "3295  United States 2021-05-02  Pfizer/BioNTech           130252779   \n",
            "\n",
            "      total_vaccinations_percentage  encoded_percentages  \n",
            "0                          0.000003             0.000003  \n",
            "1                          0.000033             0.000033  \n",
            "2                          0.000053             0.000053  \n",
            "3                          0.000055             0.000055  \n",
            "4                          0.000055             0.000055  \n",
            "...                             ...                  ...  \n",
            "3291                       0.677095             0.677095  \n",
            "3292                       0.824504             0.824504  \n",
            "3293                       0.053519             0.053519  \n",
            "3294                       0.682413             0.682413  \n",
            "3295                       0.832423             0.832423  \n",
            "\n",
            "[3296 rows x 6 columns]\n",
            "Task 6\n",
            "           location       date          vaccine  total_vaccinations  \\\n",
            "0             Chile 2020-12-24  Pfizer/BioNTech                 420   \n",
            "1             Chile 2020-12-25  Pfizer/BioNTech                5198   \n",
            "2             Chile 2020-12-26  Pfizer/BioNTech                8338   \n",
            "3             Chile 2020-12-27  Pfizer/BioNTech                8649   \n",
            "4             Chile 2020-12-28  Pfizer/BioNTech                8649   \n",
            "...             ...        ...              ...                 ...   \n",
            "3291  United States 2021-05-01          Moderna           105947940   \n",
            "3292  United States 2021-05-01  Pfizer/BioNTech           129013657   \n",
            "3293  United States 2021-05-02  Johnson&Johnson             8374395   \n",
            "3294  United States 2021-05-02          Moderna           106780082   \n",
            "3295  United States 2021-05-02  Pfizer/BioNTech           130252779   \n",
            "\n",
            "      total_vaccinations_percentage  encoded_percentages  encode  \n",
            "0                          0.000003             0.000003       0  \n",
            "1                          0.000033             0.000033       0  \n",
            "2                          0.000053             0.000053       0  \n",
            "3                          0.000055             0.000055       0  \n",
            "4                          0.000055             0.000055       0  \n",
            "...                             ...                  ...     ...  \n",
            "3291                       0.677095             0.677095       1  \n",
            "3292                       0.824504             0.824504       1  \n",
            "3293                       0.053519             0.053519       1  \n",
            "3294                       0.682413             0.682413       1  \n",
            "3295                       0.832423             0.832423       1  \n",
            "\n",
            "[3296 rows x 7 columns]\n"
          ]
        }
      ]
    },
    {
      "cell_type": "markdown",
      "source": [
        "This question was pretty straightforward and I am glad that I had the encoding columns in a separate function."
      ],
      "metadata": {
        "id": "ANVEN1BOfavq"
      }
    },
    {
      "cell_type": "code",
      "source": [
        "manu_tot.info()"
      ],
      "metadata": {
        "id": "eZLNZohK-bhR",
        "outputId": "dac30f38-d8b9-4927-c5c1-5702dfa28977",
        "colab": {
          "base_uri": "https://localhost:8080/"
        }
      },
      "execution_count": 21,
      "outputs": [
        {
          "output_type": "stream",
          "name": "stdout",
          "text": [
            "<class 'pandas.core.frame.DataFrame'>\n",
            "Index: 5 entries, Johnson&Johnson to Sinovac\n",
            "Data columns (total 1 columns):\n",
            " #   Column              Non-Null Count  Dtype\n",
            "---  ------              --------------  -----\n",
            " 0   total_vaccinations  5 non-null      int64\n",
            "dtypes: int64(1)\n",
            "memory usage: 80.0+ bytes\n"
          ]
        }
      ]
    },
    {
      "cell_type": "code",
      "source": [
        "import seaborn as sns\n",
        "import matplotlib.pyplot as plt\n",
        "\n",
        "def do_pie_plot(x,y):\n",
        "  plt.figure(figsize = (10,8))\n",
        "  sns.set(style=\"darkgrid\")\n",
        "  colors = sns.color_palette('husl')\n",
        "  plt.pie(y, colors =colors, autopct='%.0f%%')\n",
        "  plt.legend(labels = x,bbox_to_anchor=(1.05, 1), loc=2, borderaxespad=0.)\n",
        "  plt.show()\n",
        "  return\n",
        "\n",
        "\n",
        "x = manu_tot.index.tolist()\n",
        "y = manu_tot\n",
        "do_pie_plot(x,y)"
      ],
      "metadata": {
        "id": "VU7KIbfz9q9L",
        "outputId": "cf9afaa0-0ad9-4aa4-db1b-49fd6d3e030b",
        "colab": {
          "base_uri": "https://localhost:8080/",
          "height": 521
        }
      },
      "execution_count": 23,
      "outputs": [
        {
          "output_type": "stream",
          "name": "stderr",
          "text": [
            "/usr/local/lib/python3.7/dist-packages/ipykernel_launcher.py:8: MatplotlibDeprecationWarning: Non-1D inputs to pie() are currently squeeze()d, but this behavior is deprecated since 3.1 and will be removed in 3.3; pass a 1D array instead.\n",
            "  \n"
          ]
        },
        {
          "output_type": "display_data",
          "data": {
            "text/plain": [
              "<Figure size 720x576 with 1 Axes>"
            ],
            "image/png": "[encoded data removed]"
          },
          "metadata": {}
        }
      ]
    },
    {
      "cell_type": "markdown",
      "source": [
        "This is an interesting data set and I would like to visulaize what the world wide data looks like on an actual map.\n",
        "\n",
        "I am planning to use geopandas. Hopefully, it should work."
      ],
      "metadata": {
        "id": "SQ1nNriw-XTy"
      }
    },
    {
      "cell_type": "code",
      "source": [
        "!pip install git+git://github.com/geopandas/geopandas.git"
      ],
      "metadata": {
        "colab": {
          "base_uri": "https://localhost:8080/"
        },
        "id": "6wS16HglxSVa",
        "outputId": "0e17b070-5a5c-43a7-b9a7-168e68931c9d"
      },
      "execution_count": 7,
      "outputs": [
        {
          "output_type": "stream",
          "name": "stdout",
          "text": [
            "Collecting git+git://github.com/geopandas/geopandas.git\n",
            "  Cloning git://github.com/geopandas/geopandas.git to /tmp/pip-req-build-_3winpos\n",
            "  Running command git clone -q git://github.com/geopandas/geopandas.git /tmp/pip-req-build-_3winpos\n",
            "  fatal: remote error:\n",
            "    The unauthenticated git protocol on port 9418 is no longer supported.\n",
            "  Please see https://github.blog/2021-09-01-improving-git-protocol-security-github/ for more information.\n",
            "\u001b[33mWARNING: Discarding git+git://github.com/geopandas/geopandas.git. Command errored out with exit status 128: git clone -q git://github.com/geopandas/geopandas.git /tmp/pip-req-build-_3winpos Check the logs for full command output.\u001b[0m\n",
            "\u001b[31mERROR: Command errored out with exit status 128: git clone -q git://github.com/geopandas/geopandas.git /tmp/pip-req-build-_3winpos Check the logs for full command output.\u001b[0m\n"
          ]
        }
      ]
    },
    {
      "cell_type": "code",
      "source": [
        "import geopandas as gpd\n",
        "import matplotlib.pyplot as plt\n",
        "# Task Total vaccinated in the world\n",
        "\n",
        "world = gpd.read_file(gpd.datasets.get_path('naturalearth_lowres'))\n",
        "#world.name\n",
        "merged = world.set_index('name').join(country_data.set_index('country'))\n",
        "variable = 'people_fully_vaccinated_per_hundred'\n",
        "\n",
        "vmin = country_data[variable].min()\n",
        "vmax = country_data[variable].max()\n",
        "\n",
        "f, ax = plt.subplots(1, figsize=(18, 12))\n",
        "ax.set_facecolor('xkcd:dark')\n",
        "merged.plot(column=variable, cmap='viridis', linewidth=0.8, ax=ax, edgecolor='0.8')\n",
        "# Create colorbar as a legend\n",
        "sm = plt.cm.ScalarMappable(cmap='viridis', norm=plt.Normalize(vmin=vmin, vmax=vmax))\n",
        "# empty array for the data range\n",
        "sm._A = []\n",
        "# add the colorbar to the figure\n",
        "cbar = f.colorbar(sm)\n",
        "sm = plt.cm.ScalarMappable(cmap='viridis', norm=plt.Normalize(vmin=vmin, vmax=vmax))\n"
      ],
      "metadata": {
        "colab": {
          "base_uri": "https://localhost:8080/",
          "height": 374
        },
        "id": "KmKup1iUxtDg",
        "outputId": "537e4688-8af0-4f2e-e9bb-7c3cb094e267"
      },
      "execution_count": 6,
      "outputs": [
        {
          "output_type": "error",
          "ename": "ModuleNotFoundError",
          "evalue": "ignored",
          "traceback": [
            "\u001b[0;31m---------------------------------------------------------------------------\u001b[0m",
            "\u001b[0;31mModuleNotFoundError\u001b[0m                       Traceback (most recent call last)",
            "\u001b[0;32m<ipython-input-6-090a82415d95>\u001b[0m in \u001b[0;36m<module>\u001b[0;34m()\u001b[0m\n\u001b[0;32m----> 1\u001b[0;31m \u001b[0;32mimport\u001b[0m \u001b[0mgeopandas\u001b[0m \u001b[0;32mas\u001b[0m \u001b[0mgpd\u001b[0m\u001b[0;34m\u001b[0m\u001b[0;34m\u001b[0m\u001b[0m\n\u001b[0m\u001b[1;32m      2\u001b[0m \u001b[0;32mimport\u001b[0m \u001b[0mmatplotlib\u001b[0m\u001b[0;34m.\u001b[0m\u001b[0mpyplot\u001b[0m \u001b[0;32mas\u001b[0m \u001b[0mplt\u001b[0m\u001b[0;34m\u001b[0m\u001b[0;34m\u001b[0m\u001b[0m\n\u001b[1;32m      3\u001b[0m \u001b[0;31m# Task Total vaccinated in the world\u001b[0m\u001b[0;34m\u001b[0m\u001b[0;34m\u001b[0m\u001b[0;34m\u001b[0m\u001b[0m\n\u001b[1;32m      4\u001b[0m \u001b[0;34m\u001b[0m\u001b[0m\n\u001b[1;32m      5\u001b[0m \u001b[0mworld\u001b[0m \u001b[0;34m=\u001b[0m \u001b[0mgpd\u001b[0m\u001b[0;34m.\u001b[0m\u001b[0mread_file\u001b[0m\u001b[0;34m(\u001b[0m\u001b[0mgpd\u001b[0m\u001b[0;34m.\u001b[0m\u001b[0mdatasets\u001b[0m\u001b[0;34m.\u001b[0m\u001b[0mget_path\u001b[0m\u001b[0;34m(\u001b[0m\u001b[0;34m'naturalearth_lowres'\u001b[0m\u001b[0;34m)\u001b[0m\u001b[0;34m)\u001b[0m\u001b[0;34m\u001b[0m\u001b[0;34m\u001b[0m\u001b[0m\n",
            "\u001b[0;31mModuleNotFoundError\u001b[0m: No module named 'geopandas'",
            "",
            "\u001b[0;31m---------------------------------------------------------------------------\u001b[0;32m\nNOTE: If your import is failing due to a missing package, you can\nmanually install dependencies using either !pip or !apt.\n\nTo view examples of installing some common dependencies, click the\n\"Open Examples\" button below.\n\u001b[0;31m---------------------------------------------------------------------------\u001b[0m\n"
          ],
          "errorDetails": {
            "actions": [
              {
                "action": "open_url",
                "actionText": "Open Examples",
                "url": "/notebooks/snippets/importing_libraries.ipynb"
              }
            ]
          }
        }
      ]
    },
    {
      "cell_type": "markdown",
      "source": [
        "I can now see the people_fully_vaccinated_per_hundred in the world map. We can repeat this for any column. Just change the variable name to the column of interest."
      ],
      "metadata": {
        "id": "-UnOmCLT-tbN"
      }
    },
    {
      "cell_type": "markdown",
      "metadata": {
        "id": "G8yHJH706Cd9"
      },
      "source": [
        "### Exercise 8 - encode daily vaccinations \n",
        "\n",
        "1. find the median daily vaccinations per 1 million \n",
        "2. write a function to encode daily vaccinations per 1 million, where values greater than or equal to median = 1 and values less than median = 0 \n",
        "\n",
        "Output: \n",
        "\n",
        "1. 1915.5\n",
        "2. \n",
        "```\n",
        "0        0\n",
        "6        0\n",
        "22       0\n",
        "44       0\n",
        "59       0\n",
        "        ..\n",
        "14989    0\n",
        "14990    0\n",
        "14991    0\n",
        "14992    0\n",
        "14993    0\n",
        "Name: daily_vaccinations_per_million, Length: 9011, dtype: int64\n",
        "```"
      ]
    },
    {
      "cell_type": "code",
      "source": [
        ""
      ],
      "metadata": {
        "id": "J27AAmcIG4Pt"
      },
      "execution_count": null,
      "outputs": []
    },
    {
      "cell_type": "markdown",
      "metadata": {
        "id": "KznNiO1ooEcw"
      },
      "source": [
        "### Exercise 9 - Encoding vaccinations per hundred  \n",
        "---\n",
        "The United Kingdom has been praised for its fast vaccine rollout. \n",
        "1. find the minimum total vaccinations for the United Kingdom \n",
        "2. save this value in a variable rounded down to an integer\n",
        "3. write a function to encode total_vaccinations column so that all values less than the UK's min are 0 and all values greater than or equal to the UK's min are coded as 1 \n",
        "4. display the countries which total vaccinated is at the same rate or more than the UK\n",
        "\n",
        "Output:\n",
        "\n",
        "1. 1402432.0\n",
        "2. 1402432\n",
        "3. `df['people_vaccinated_per_hundred']` should output:\n",
        "```\n",
        "0        0\n",
        "6        0\n",
        "22       0\n",
        "44       0\n",
        "59       0\n",
        "        ..\n",
        "14989    0\n",
        "14990    0\n",
        "14991    0\n",
        "14992    0\n",
        "14993    0\n",
        "Name: total_vaccinations, Length: 9011, dtype: int64\n",
        "```\n",
        "4. \n",
        "```\n",
        "array(['Argentina', 'Australia', 'Austria', 'Azerbaijan', 'Bangladesh',\n",
        "       'Belgium', 'Brazil', 'Cambodia', 'Canada', 'Chile', 'China',\n",
        "       'Colombia', 'Czechia', 'Denmark', 'Dominican Republic', 'England',\n",
        "       'Finland', 'France', 'Germany', 'Greece', 'Hong Kong', 'Hungary',\n",
        "       'India', 'Indonesia', 'Ireland', 'Israel', 'Italy', 'Japan',\n",
        "       'Kazakhstan', 'Malaysia', 'Mexico', 'Morocco', 'Nepal',\n",
        "       'Netherlands', 'Norway', 'Pakistan', 'Peru', 'Philippines',\n",
        "       'Poland', 'Portugal', 'Qatar', 'Romania', 'Russia', 'Saudi Arabia',\n",
        "       'Scotland', 'Serbia', 'Singapore', 'Slovakia', 'South Korea',\n",
        "       'Spain', 'Sweden', 'Switzerland', 'Thailand', 'Turkey',\n",
        "       'United Arab Emirates', 'United Kingdom', 'United States',\n",
        "       'Uruguay', 'Wales'], dtype=object)\n",
        "```\n",
        "\n",
        "\n"
      ]
    },
    {
      "cell_type": "code",
      "source": [
        ""
      ],
      "metadata": {
        "id": "qIVn8QYuG6AI"
      },
      "execution_count": null,
      "outputs": []
    },
    {
      "cell_type": "markdown",
      "metadata": {
        "id": "9upnqmDO9Yko"
      },
      "source": [
        "### Exercise 10 - create new series of total vaccinations percentages\n",
        "---\n",
        "\n",
        "To create a new column in your dataframe:\n",
        "\n",
        "`df['new_column'] = ...`\n",
        "\n",
        "For example:\n",
        "\n",
        "* to duplicate an existing column\n",
        "  * `df['new_column'] = df['old_column']`\n",
        "* to add two columns together \n",
        "  * `df['new_column'] = df['column1'] + df['column2']`\n",
        "* to make a percentages column \n",
        "  * `df['new_column'] = (df['column1']/df['column1].sum()) * 100`  \n",
        "  \n",
        "\n",
        "\n",
        "1. read data from 'by_manufacturer' sheet from Covid data \n",
        "2. find the sum of total vaccinations for each manufacturer\n",
        "3. create a new column that has the total vaccinations as a percentage of the overall sum of total vaccinations \n",
        "4. find the median percentage \n",
        "5. create a new column called 'encoded_percentages' which duplicates the percentages column\n",
        "6. encode the encoded_percentages column so that any values greater than or equal to the median percentage = 1 and any lesser than = 0 \n",
        "\n",
        "\n",
        "Output:\n",
        "\n",
        "1.\n",
        "2. \n",
        "```\n",
        "vaccine\n",
        "Johnson&Johnson        264839828\n",
        "Moderna               5548036383\n",
        "Oxford/AstraZeneca     539433203\n",
        "Pfizer/BioNTech       8690461304\n",
        "Sinovac                604660293\n",
        "Name: total_vaccinations, dtype: int64\n",
        "```\n",
        "3. \n",
        "```\n",
        "\tlocation\tdate\tvaccine\ttotal_vaccinations\tpercentages\n",
        "0\tChile\t2020-12-24\tPfizer/BioNTech\t420\t0.000003\n",
        "1\tChile\t2020-12-25\tPfizer/BioNTech\t5198\t0.000033\n",
        "2\tChile\t2020-12-26\tPfizer/BioNTech\t8338\t0.000053\n",
        "3\tChile\t2020-12-27\tPfizer/BioNTech\t8649\t0.000055\n",
        "4\tChile\t2020-12-28\tPfizer/BioNTech\t8649\t0.000055\n",
        "...\t...\t...\t...\t...\t...\n",
        "3291\tUnited States\t2021-05-01\tModerna\t105947940\t0.677095\n",
        "3292\tUnited States\t2021-05-01\tPfizer/BioNTech\t129013657\t0.824504\n",
        "3293\tUnited States\t2021-05-02\tJohnson&Johnson\t8374395\t0.053519\n",
        "3294\tUnited States\t2021-05-02\tModerna\t106780082\t0.682413\n",
        "3295\tUnited States\t2021-05-02\tPfizer/BioNTech\t130252779\t0.832423\n",
        "3296 rows × 5 columns\n",
        "```\n",
        "4. 0.0011110194374896931\n",
        "5. \n",
        "6. \n",
        "```\n",
        "\tlocation\tdate\tvaccine\ttotal_vaccinations\tpercentages\tencode\tencoded\n",
        "0\tChile\t2020-12-24\tPfizer/BioNTech\t420\t0.000003\t0.000003\t0\n",
        "1\tChile\t2020-12-25\tPfizer/BioNTech\t5198\t0.000033\t0.000033\t0\n",
        "2\tChile\t2020-12-26\tPfizer/BioNTech\t8338\t0.000053\t0.000053\t0\n",
        "3\tChile\t2020-12-27\tPfizer/BioNTech\t8649\t0.000055\t0.000055\t0\n",
        "4\tChile\t2020-12-28\tPfizer/BioNTech\t8649\t0.000055\t0.000055\t0\n",
        "...\t...\t...\t...\t...\t...\t...\t...\n",
        "3291\tUnited States\t2021-05-01\tModerna\t105947940\t0.677095\t0.677095\t1\n",
        "3292\tUnited States\t2021-05-01\tPfizer/BioNTech\t129013657\t0.824504\t0.824504\t1\n",
        "3293\tUnited States\t2021-05-02\tJohnson&Johnson\t8374395\t0.053519\t0.053519\t1\n",
        "3294\tUnited States\t2021-05-02\tModerna\t106780082\t0.682413\t0.682413\t1\n",
        "3295\tUnited States\t2021-05-02\tPfizer/BioNTech\t130252779\t0.832423\t0.832423\t1\n",
        "3296 rows × 7 columns\n",
        "```\n",
        "\n"
      ]
    },
    {
      "cell_type": "code",
      "source": [
        ""
      ],
      "metadata": {
        "id": "TnM08FvbG7RW"
      },
      "execution_count": null,
      "outputs": []
    },
    {
      "cell_type": "markdown",
      "metadata": {
        "id": "UKC6Q_6i70V9"
      },
      "source": [
        "# Reflection\n",
        "----\n",
        "\n",
        "## What skills have you demonstrated in completing this notebook?"
      ]
    },
    {
      "cell_type": "markdown",
      "metadata": {
        "id": "NUVvt2r0mCKq"
      },
      "source": [
        "It was a fun worksheet to work with. I got to practice my data retreival, cleaning, grouping, sorting and aggregating, try out using new skills like encoding columns.\n",
        "\n"
      ]
    },
    {
      "cell_type": "markdown",
      "metadata": {
        "id": "SOrbWOuFmObq"
      },
      "source": [
        "## What caused you the most difficulty?"
      ]
    },
    {
      "cell_type": "markdown",
      "metadata": {
        "id": "G_eGng1GmO78"
      },
      "source": [
        "Nothing really. It was fairly straight forward. "
      ]
    }
  ]
}