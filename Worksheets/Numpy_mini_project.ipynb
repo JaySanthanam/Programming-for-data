{
  "nbformat": 4,
  "nbformat_minor": 0,
  "metadata": {
    "colab": {
      "name": "Numpy mini-project.ipynb",
      "provenance": [],
      "collapsed_sections": [],
      "include_colab_link": true
    },
    "kernelspec": {
      "name": "python3",
      "display_name": "Python 3"
    },
    "language_info": {
      "name": "python"
    }
  },
  "cells": [
    {
      "cell_type": "markdown",
      "metadata": {
        "id": "view-in-github",
        "colab_type": "text"
      },
      "source": [
        "<a href=\"https://colab.research.google.com/github/JaySanthanam/Programming-for-data/blob/main/Worksheets/Numpy_mini_project.ipynb\" target=\"_parent\"><img src=\"https://colab.research.google.com/assets/colab-badge.svg\" alt=\"Open In Colab\"/></a>"
      ]
    },
    {
      "cell_type": "markdown",
      "source": [
        "# Investigate, wrangle, add new data to the dataframe, filter and correlate\n",
        "\n",
        "The following data file contains data about student scores in math, reading and writing.  The exam scores are assumed to be percentages. It also contains data about gender, ethnicity, parental education, whether the student qualifies for free school food and whether or not the student has taken a preparation course for the exams.  The data set has already been cleaned. \n",
        "\n",
        "1.  Investigate the data set.\n",
        "\n",
        "2.  Create numpy arrays to hold each of the three sets of scores.  \n",
        "Create a new numpy array to hold the average exam score (of the three scores for each student)\n",
        "Add the new numpy array as a new column in the dataframe.\n",
        "\n",
        "3.  Filter the original dataset into a new dataframe containing just the females.  Calculate the average exam scores for all rows in this new dataframe and then find the mean of the average column.\n",
        "\n",
        "4.  Do the same for the males.\n",
        "\n",
        "5.  Use the original dataset to find the correlation coefficient for reading and maths.  How closely do they correlate?  Write what you find in a text box below the code.\n",
        "\n",
        "6.  Do the same for reading and writing. What do you find?\n",
        "\n",
        "7.  You might want to filter on different criteria and check correlation (e.g. those on free school meals, or those who had prepared, etc)\n",
        "\n",
        "\n",
        "\n",
        "\n",
        "\n"
      ],
      "metadata": {
        "id": "8qnlsapq24Df"
      }
    },
    {
      "cell_type": "markdown",
      "source": [
        "The dataset can be accessed here:  https://raw.githubusercontent.com/lilaceri/Working-with-data-/main/Data%20Sets%20for%20code%20divisio/exams.csv.  This is a .csv file.\n",
        "\n",
        "**NOTE:** Some useful references are included at the bottom of this spreadsheet.\n",
        "\n",
        "Use the code cell below to work your code."
      ],
      "metadata": {
        "id": "SSvLiFnp4LjG"
      }
    },
    {
      "cell_type": "code",
      "source": [
        "import pandas as pd\n",
        "import numpy as np\n",
        "\n",
        "def get_data(url):\n",
        "  df = pd.read_csv(url)\n",
        "  return df\n",
        "\n",
        "def any_nulls(df):\n",
        "  df_null = df.isna().any()\n",
        "  return df_null\n",
        "\n",
        "def find_average_score(list1,list2,list3):\n",
        "  average_arr = np.mean(np.array([list1, list2, list3]), axis =0)\n",
        "  return average_arr\n",
        "\n",
        "def get_correlation(nparray1,nparray2):\n",
        "  # code to get the correlation figure for both salaries\n",
        "  R_matrix = np.corrcoef(nparray1, nparray2)\n",
        "  return R_matrix\n",
        "\n",
        "url = \"https://raw.githubusercontent.com/lilaceri/Working-with-data-/main/Data%20Sets%20for%20code%20divisio/exams.csv\"\n",
        "df = get_data(url)\n",
        "math_arr = np.array(df[\"math_score\"])\n",
        "read_arr = np.array(df[\"reading_score\"])\n",
        "write_arr = np.array(df[\"writing_score\"])\n",
        "#df.info() # find the columns names and data type\n",
        "#print(any_nulls(df)) # find if any nulls to remove rows)\n",
        "# Found no null values. So going to continue without dropping rows\n",
        "df[\"average_score\"] = find_average_score(df[\"math_score\"],df[\"reading_score\"],df[\"writing_score\"]) \n",
        "\n",
        "#create new data frames for males and females\n",
        "df_female = df[df.gender == 'female']\n",
        "df_male = df[df.gender == 'male']\n",
        "\n",
        "#find mean scores in 3 subjects for males and females \n",
        "female_math_mean = df_female[\"math_score\"].mean()\n",
        "female_read_mean = df_female[\"reading_score\"].mean()\n",
        "female_write_mean = df_female[\"writing_score\"].mean()\n",
        "male_math_mean = df_male[\"math_score\"].mean()\n",
        "male_read_mean = df_male[\"reading_score\"].mean()\n",
        "male_write_mean = df_male[\"writing_score\"].mean()\n",
        "\n",
        "print(\"The average score in maths for female and male pupils are\", female_math_mean, male_math_mean, \"respectively.\")\n",
        "print(\"This means that male pupils score better than female pupils in maths (on an average)\")\n",
        "\n",
        "print(\"\\nThe average score in reading for female and male pupils are\", female_read_mean, male_read_mean, \"respectively.\")\n",
        "print(\"This means that female pupils score better than male pupils in reading (on an average)\")\n",
        "\n",
        "print(\"\\nThe average score in writing for female and male pupils are\", female_write_mean, male_write_mean, \"respectively.\")\n",
        "print(\"This means that female pupils score better than male pupils in writing (on an average)\")\n",
        "\n",
        "\n",
        "#find mean for average score for male and female\n",
        "female_score_mean = df_female[\"average_score\"].mean()\n",
        "male_score_mean = df_male[\"average_score\"].mean()\n",
        "\n",
        "#Get correlation between reading scores and math scores\n",
        "R_read_math = get_correlation(math_arr,read_arr)\n",
        "print(\"\\nThe correlation between Reading and Maths scores is\", R_read_math[0][1])\n",
        "print(\"This means that nearly 80% of those who scored high marks in reading also did well in maths.\")\n",
        "\n",
        "#Get correlation between reading scores and writing scores\n",
        "R_read_write = get_correlation(write_arr,read_arr)\n",
        "print(\"\\nThe correlation between Reading and Writing scores is\", R_read_write[0][1])\n",
        "print(\"This means that most the pupils who scored high marks in reading also did well in writing.\")\n",
        "\n",
        "# Let's see how financial difficulties (lunch) correlates to students scores - I will look at average score\n",
        "#Get correlation between reading scores and writing scores\n",
        "df[\"lunch_bool\"] = df[\"lunch\"].replace({'free/reduced':0, \"standard\":1})\n",
        "lunch_arr = np.array(df[\"lunch_bool\"])\n",
        "average_arr = np.array(df[\"average_score\"])\n",
        "R_lunch_ave = get_correlation(lunch_arr,average_arr)\n",
        "print(\"\\nThe correlation between Financial difficulties and average scores is\", R_lunch_ave[0][1])\n",
        "print(\"This means that there is medium level of correlation face financial difficulties and average scores.\")\n",
        "print(\"Those facing financial difficulties score less in exams.\")\n"
      ],
      "metadata": {
        "id": "txM4TIRUHhsJ",
        "colab": {
          "base_uri": "https://localhost:8080/"
        },
        "outputId": "0e12d57d-014d-4259-e506-bf574cf6b459"
      },
      "execution_count": 80,
      "outputs": [
        {
          "output_type": "stream",
          "name": "stdout",
          "text": [
            "The average score in maths for female and male pupils are 64.94153225806451 68.74801587301587 respectively.\n",
            "This means that male pupils score better than female pupils in maths (on an average)\n",
            "\n",
            "The average score in reading for female and male pupils are 73.86693548387096 65.64880952380952 respectively.\n",
            "This means that female pupils score better than male pupils in reading (on an average)\n",
            "\n",
            "The average score in writing for female and male pupils are 73.65120967741936 63.58134920634921 respectively.\n",
            "This means that female pupils score better than male pupils in writing (on an average)\n",
            "\n",
            "The correlation between Reading and Maths scores is 0.8145975152425367\n",
            "This means that nearly 80% of those who scored high marks in reading also did well in maths.\n",
            "\n",
            "The correlation between Reading and Writing scores is 0.9567686336066268\n",
            "This means that most the pupils who scored high marks in reading also did well in writing.\n",
            "\n",
            "The correlation between Financial difficulties and average scores is 0.3099053328122201\n",
            "This means that there is medium level of correlation face financial difficulties and average scores.\n",
            "Those facing financial difficulties score less in exams.\n"
          ]
        }
      ]
    },
    {
      "cell_type": "markdown",
      "source": [
        "I did try to give comments and add print statements as I progressed with the code. I want to make a comment on the method I followed to do the financial difficulties correlation to average scores. The method I followed is that if on free/reduced lunch the lunch takes on a value 0 which is lower than the one I assigned to standard lunch (which is 1). So if the average score is greater for those in standard lunch, that means that there is positive correlation with not facing financial difficulties. Hope this makes sense. This is a very crude way (I feel) of doing the correlation. I chose to use 0 and 1 since there are only 2 possibilities, either facing fianncial difficulties or not. I could do the same for preparing for the course as well. "
      ],
      "metadata": {
        "id": "49ZbIuHl2_Aa"
      }
    },
    {
      "cell_type": "markdown",
      "source": [
        "### Helpful references\n",
        "---\n",
        "\n",
        "Filtering on criteria using df references:  \n",
        "`filtered_df = df[df['column name' == value]]`  \n",
        "\n",
        "Filtering on multiple criteria using df reference:  \n",
        "`filtered_df = df[df['first column name' == value] & df[second column name] >= value]`\n",
        "\n",
        "Numpy help sheet:  http://datacamp-community-prod.s3.amazonaws.com/da466534-51fe-4c6d-b0cb-154f4782eb54\n",
        "\n"
      ],
      "metadata": {
        "id": "hkj-Ofus_D6_"
      }
    }
  ]
}