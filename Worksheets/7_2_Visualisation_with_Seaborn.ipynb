{
  "nbformat": 4,
  "nbformat_minor": 0,
  "metadata": {
    "colab": {
      "name": "7.2. Visualisation with Seaborn",
      "provenance": [],
      "collapsed_sections": [],
      "include_colab_link": true
    },
    "kernelspec": {
      "name": "python3",
      "display_name": "Python 3"
    },
    "language_info": {
      "name": "python"
    }
  },
  "cells": [
    {
      "cell_type": "markdown",
      "metadata": {
        "id": "view-in-github",
        "colab_type": "text"
      },
      "source": [
        "<a href=\"https://colab.research.google.com/github/JaySanthanam/Programming-for-data/blob/main/Worksheets/7_2_Visualisation_with_Seaborn.ipynb\" target=\"_parent\"><img src=\"https://colab.research.google.com/assets/colab-badge.svg\" alt=\"Open In Colab\"/></a>"
      ]
    },
    {
      "cell_type": "markdown",
      "metadata": {
        "id": "ovNHeS53QqEj"
      },
      "source": [
        "# Describing data visually with the Seaborn library\n",
        "---\n",
        "\n",
        "There are a good number of libraries available containing functions for visualising data with bar charts, pie charts, line plots, box plots, scatter plots and, in some libraries, with more image based visualisations.\n",
        "\n",
        "To build on the learning of **matplotlib**, this worksheet will use the Seaborn library to create a range of organisations.  It has the main functions we will use in this course:\n",
        "*  bar charts\n",
        "*  pie charts\n",
        "*  line plots\n",
        "*  box plots\n",
        "*  scatter plots\n",
        "*  histogram\n",
        "\n",
        "Each requires these things:  \n",
        "1. Select the data columns to be plotted \n",
        "2. Prepare the data (remove null values, clean formats, select required columns)  \n",
        "3. Run the function for the required plot\n",
        "\n",
        "Once you have the hang of these, you can start to look at labelling, colouring, etc.\n",
        "\n",
        "In order to begin creating visualisations, you need to:  \n",
        "* import **seaborn** as **sns**\n",
        "\n",
        "Test output for Exercises 1 to 7 is in this [image](https://drive.google.com/file/d/1LYxLJyur_zgzvJcv_C1WGm21nf07ddY6/view?usp=sharing)"
      ]
    },
    {
      "cell_type": "markdown",
      "source": [
        "# IMPORTANT\n",
        "---\n",
        "There has been an upgrade to a library needed for reading Excel files in a notebook.  To ensure that you have this upgrade, run the code in the cell below and then select 'Restart runtime' from the Runtime menu."
      ],
      "metadata": {
        "id": "uX9YmfpUZhdq"
      }
    },
    {
      "cell_type": "code",
      "source": [
        "!pip install --upgrade openpyxl"
      ],
      "metadata": {
        "id": "-0vA7oxsZ1xM"
      },
      "execution_count": null,
      "outputs": []
    },
    {
      "cell_type": "markdown",
      "metadata": {
        "id": "lcPED_VXSY5U"
      },
      "source": [
        "#  Bar charts and Line Plots\n",
        "---\n",
        "\n",
        "For these exercises, use the Excel data file:\n",
        "\n",
        "'public-use-talent-migration' looking at sheet_name 'Country Migration'  \n",
        "https://github.com/futureCodersSE/working-with-data/blob/main/Data%20sets/public_use-talent-migration.xlsx?raw=true \n",
        "\n",
        "**Example line plot using seaborn**:  \n",
        "```\n",
        "import pandas as pd\n",
        "import seaborn as sns\n",
        "\n",
        "def show_lineplot(df):\n",
        "  years_df = df[['net_per_10K_2015','net_per_10K_2016','net_per_10K_2017','net_per_10K_2018','net_per_10K_2019']]\n",
        "  means = years_df.mean()\n",
        "  chart = sns.lineplot(data=means)\n",
        "  labels = list(years_df.columns)\n",
        "  \n",
        "\n",
        "# program starts here\n",
        "url = \"https://github.com/futureCodersSE/working-with-data/blob/main/Data%20sets/public_use-talent-migration.xlsx?raw=true\"\n",
        "df = pd.read_excel(url, sheet_name=\"Skill Migration\")\n",
        "show_lineplot(df)\n",
        "```\n",
        "![plot](https://drive.google.com/uc?id=1erX5EdiJppy-jLRFBhDcqeLHHWqNI6F-)"
      ]
    },
    {
      "cell_type": "code",
      "source": [
        "!pip install --upgrade openpyxl"
      ],
      "metadata": {
        "id": "JxGE9H0VlpJP",
        "outputId": "67e8c82f-5da3-4623-db91-8c1956349ada",
        "colab": {
          "base_uri": "https://localhost:8080/",
          "height": 302
        }
      },
      "execution_count": 2,
      "outputs": [
        {
          "output_type": "stream",
          "name": "stdout",
          "text": [
            "Requirement already satisfied: openpyxl in /usr/local/lib/python3.7/dist-packages (2.5.9)\n",
            "Collecting openpyxl\n",
            "  Downloading openpyxl-3.0.9-py2.py3-none-any.whl (242 kB)\n",
            "\u001b[?25l\r\u001b[K     |█▍                              | 10 kB 21.1 MB/s eta 0:00:01\r\u001b[K     |██▊                             | 20 kB 27.9 MB/s eta 0:00:01\r\u001b[K     |████                            | 30 kB 30.3 MB/s eta 0:00:01\r\u001b[K     |█████▍                          | 40 kB 22.0 MB/s eta 0:00:01\r\u001b[K     |██████▊                         | 51 kB 18.8 MB/s eta 0:00:01\r\u001b[K     |████████▏                       | 61 kB 15.3 MB/s eta 0:00:01\r\u001b[K     |█████████▌                      | 71 kB 12.7 MB/s eta 0:00:01\r\u001b[K     |██████████▉                     | 81 kB 13.8 MB/s eta 0:00:01\r\u001b[K     |████████████▏                   | 92 kB 15.1 MB/s eta 0:00:01\r\u001b[K     |█████████████▌                  | 102 kB 13.6 MB/s eta 0:00:01\r\u001b[K     |██████████████▉                 | 112 kB 13.6 MB/s eta 0:00:01\r\u001b[K     |████████████████▎               | 122 kB 13.6 MB/s eta 0:00:01\r\u001b[K     |█████████████████▋              | 133 kB 13.6 MB/s eta 0:00:01\r\u001b[K     |███████████████████             | 143 kB 13.6 MB/s eta 0:00:01\r\u001b[K     |████████████████████▎           | 153 kB 13.6 MB/s eta 0:00:01\r\u001b[K     |█████████████████████▋          | 163 kB 13.6 MB/s eta 0:00:01\r\u001b[K     |███████████████████████         | 174 kB 13.6 MB/s eta 0:00:01\r\u001b[K     |████████████████████████▍       | 184 kB 13.6 MB/s eta 0:00:01\r\u001b[K     |█████████████████████████▊      | 194 kB 13.6 MB/s eta 0:00:01\r\u001b[K     |███████████████████████████     | 204 kB 13.6 MB/s eta 0:00:01\r\u001b[K     |████████████████████████████▍   | 215 kB 13.6 MB/s eta 0:00:01\r\u001b[K     |█████████████████████████████▊  | 225 kB 13.6 MB/s eta 0:00:01\r\u001b[K     |███████████████████████████████▏| 235 kB 13.6 MB/s eta 0:00:01\r\u001b[K     |████████████████████████████████| 242 kB 13.6 MB/s \n",
            "\u001b[?25hRequirement already satisfied: et-xmlfile in /usr/local/lib/python3.7/dist-packages (from openpyxl) (1.1.0)\n",
            "Installing collected packages: openpyxl\n",
            "  Attempting uninstall: openpyxl\n",
            "    Found existing installation: openpyxl 2.5.9\n",
            "    Uninstalling openpyxl-2.5.9:\n",
            "      Successfully uninstalled openpyxl-2.5.9\n",
            "Successfully installed openpyxl-3.0.9\n"
          ]
        },
        {
          "output_type": "display_data",
          "data": {
            "application/vnd.colab-display-data+json": {
              "pip_warning": {
                "packages": [
                  "openpyxl"
                ]
              }
            }
          },
          "metadata": {}
        }
      ]
    },
    {
      "cell_type": "code",
      "source": [
        "import pandas as pd\n",
        "import seaborn as sns\n",
        "\n",
        "def show_lineplot(df):\n",
        "  years_df = df[['net_per_10K_2015','net_per_10K_2016','net_per_10K_2017','net_per_10K_2018','net_per_10K_2019']]\n",
        "  means = years_df.mean()\n",
        "  chart = sns.lineplot(data=means)\n",
        "  labels = list(years_df.columns)\n",
        "\n",
        "\n",
        "# program starts here\n",
        "url = \"https://github.com/futureCodersSE/working-with-data/blob/main/Data%20sets/public_use-talent-migration.xlsx?raw=true\"\n",
        "df = pd.read_excel(url, sheet_name=\"Skill Migration\")\n",
        "show_lineplot(df)\n"
      ],
      "metadata": {
        "id": "Bk5WZGaulTJY",
        "outputId": "145a8674-9e95-4753-b991-38c7a783fb8c",
        "colab": {
          "base_uri": "https://localhost:8080/",
          "height": 266
        }
      },
      "execution_count": 1,
      "outputs": [
        {
          "output_type": "display_data",
          "data": {
            "image/png": "[encoded data removed]",
            "text/plain": [
              "<Figure size 432x288 with 1 Axes>"
            ]
          },
          "metadata": {
            "needs_background": "light"
          }
        }
      ]
    },
    {
      "cell_type": "markdown",
      "metadata": {
        "id": "CBIUWI1WyvLx"
      },
      "source": [
        "### Exercise 1 - Line plot of net migration \n",
        "--- \n",
        "\n",
        "Creating a line plot of mean net migration over the years 2015 to 2019\n",
        "\n",
        "* create a new dataframe containing only the five columns holding net migration\n",
        "* create a new data variable to hold the means of the five columns\n",
        "* create a labels variable to hold the keys (column headings) \n",
        "* use ```chart = sns.lineplot(data=prepared dataframe)``` to plot your line chart\n",
        "\n",
        "***Presentation tips:***   \n",
        "Plot the chart, then add formatting   \n",
        "\n",
        "Rotate the x-axis labels in the plot:  \n",
        "` chart.set_xticklabels(labels, rotation=30)`  \n",
        "\n",
        "Show the grid:  \n",
        "`sns.set_style(\"whitegrid\")`"
      ]
    },
    {
      "cell_type": "code",
      "metadata": {
        "id": "JLOAv52Kx1ZZ",
        "outputId": "fe3c3e13-f887-490b-93d4-b1ec835db256",
        "colab": {
          "base_uri": "https://localhost:8080/",
          "height": 329
        }
      },
      "source": [
        "skill_df = df[[\"net_per_10K_2015\", \"net_per_10K_2016\",\"net_per_10K_2017\", \"net_per_10K_2018\", \"net_per_10K_2019\"]].copy()\n",
        "skill_means = skill_df.mean()\n",
        "labels = skill_means.keys()\n",
        "chart = sns.lineplot(data= skill_means)\n",
        "chart.set_xlabel(\"Migration year\", fontsize = 14)\n",
        "chart.set_ylabel(\"Average Skills Migration\", fontsize = 14)\n",
        "chart.set_xticklabels(labels, rotation=30)\n",
        "sns.set_style(\"whitegrid\")"
      ],
      "execution_count": 9,
      "outputs": [
        {
          "output_type": "display_data",
          "data": {
            "image/png": "[encoded data removed]",
            "text/plain": [
              "<Figure size 432x288 with 1 Axes>"
            ]
          },
          "metadata": {}
        }
      ]
    },
    {
      "cell_type": "markdown",
      "metadata": {
        "id": "tCATnnTDVB0f"
      },
      "source": [
        "### Exercise 2 - Creating a Bar chart for yearly migration\n",
        "---\n",
        "Create a bar chart which shows the total net migration for the years 2015-2019  \n",
        " \n",
        "* split the migration columns into a new dataframe\n",
        "* create a data variable, for the y values, from the max() of the five columns\n",
        "* create a labels variable, this time just create a list of the 5 years ['2015','2016','2017','2018','2019']\n",
        "* plot the bar chart (`sns.barplot(x=labels, y=y values)` )\n",
        "\n",
        "***Presentation tips***:\n",
        "* use `chart.set_xlabel('Year')` and `chart.set_ylabel('Maximum net migration')` to name your axis  "
      ]
    },
    {
      "cell_type": "code",
      "metadata": {
        "id": "HFpx3cFOhbKo"
      },
      "source": [
        ""
      ],
      "execution_count": null,
      "outputs": []
    },
    {
      "cell_type": "markdown",
      "metadata": {
        "id": "h7XzURfOzZfm"
      },
      "source": [
        "### Exercise 3 - creating a bar graph using grouped data \n",
        "---\n",
        "\n",
        "Create a horizontal bar chart of 2019 mean immigration for each income level ('`target_country_wb_income`')\n",
        "\n",
        "* create a data variable which contains the means, grouped by '`target_country_wb_income`' \n",
        "* extract your labels (x) using the .keys() function \n",
        "* use the `sns.barplot` with to create a horizontal bar graph (*Hint: swap the axes so labels is the y axis*)\n",
        "* add labels to the axes ('Year', 'Net Migration')  \n",
        "* show the plot  \n",
        "\n",
        "Try plotting as a vertical bar chart - can you see why horizontally is more appropriate?"
      ]
    },
    {
      "cell_type": "code",
      "metadata": {
        "id": "WW0np_MNmwou"
      },
      "source": [
        ""
      ],
      "execution_count": null,
      "outputs": []
    },
    {
      "cell_type": "markdown",
      "metadata": {
        "id": "49JShRy_vWib"
      },
      "source": [
        "# Pie Charts, Box Plots, Scatter Plots and Histograms\n",
        "---\n",
        "\n",
        "For these exercises you will use the Psychology dataset: \"https://github.com/lilaceri/Working-with-data-/blob/b157a2feceb7709cf82426932385706d65446270/Data%20Sets%20for%20code%20divisio/Positive_Psychology_2017.csv?raw=true\"\n",
        "\n",
        "To get the data ready:\n",
        "\n",
        "* read csv file above and save into a new variable called `psych_data`"
      ]
    },
    {
      "cell_type": "markdown",
      "metadata": {
        "id": "EMq3ymhwlcYR"
      },
      "source": [
        "### Exercise 4 - Creating a pie chart of stress data\n",
        "---\n",
        "Create a pie chart which shows how stressed students who speak different languages are.   \n",
        "\n",
        "To do this:\n",
        "\n",
        "* similar to Exercise 2 - create a variable which groups the means of data by firstlanguage  \n",
        "* store the means for 'Stress' in a variable called stress_data\n",
        "* extract your labels using the keys() function\n",
        "\n",
        "Seaborn doesn't have a function for plotting pie charts but you can use Seaborn functions for styling pie charts created by matplotlib.\n",
        "\n",
        "* add an import statement above your funciton to import the matplotlib.pyplot library, aliased as plt\n",
        "* use the Seaborn function `colors = sns.color_palette('pastel')`to create a colour palette for the chart.  (_Hint: you can find a list of available palettes [here](https://seaborn.pydata.org/tutorial/color_palettes.html)_)\n",
        "* plot your pie chart using `plt.pie()` adding parameters to set labels and a color theme **colors = colors**\n",
        "* write a comment noting anything interesting about the visualisation\n",
        "\n",
        "\n"
      ]
    },
    {
      "cell_type": "code",
      "metadata": {
        "id": "4mbOBPE-nU7o"
      },
      "source": [
        ""
      ],
      "execution_count": null,
      "outputs": []
    },
    {
      "cell_type": "markdown",
      "metadata": {
        "id": "dLNPuH5zuq7Y"
      },
      "source": [
        "### Exercise 5 - Creating a box plot of Wellbeing\n",
        "---\n",
        "A box plot is used to visualise summary infomation about a data series such as the min, max and median. \n",
        "\n",
        "Create a box plot of the Wellbeing scores\n",
        "\n",
        "*  split off the wellbeing column into a new dataframe\n",
        "*  create a label list containing the label ['Wellbeing']\n",
        "*  use `chart = sns.boxplot(data=new_df)` to create a boxplot \n",
        "*  set the x-axis label using `chart.set_xticklabels(labels)`"
      ]
    },
    {
      "cell_type": "code",
      "metadata": {
        "id": "i7fctsOQlcGR"
      },
      "source": [
        ""
      ],
      "execution_count": null,
      "outputs": []
    },
    {
      "cell_type": "markdown",
      "metadata": {
        "id": "ecS9uzAs3AuV"
      },
      "source": [
        "### Exercise 6 - Histograms of  age \n",
        "---\n",
        "\n",
        "Create a histogram which shows the frequency distribution for '`Wellbeing`'.\n",
        "\n",
        "* split the `Wellbeing` column off to provide the data\n",
        "* plot the histogram using `chart = sns.histplot(data=data)` \n",
        "* add labels using `chart.set_xlabel()` and `chart.set_ylabel()`\n",
        "* change the colours of the bars - try adding `color='chosen colour'` choosing a single colour name e.g. red, blue, etc) to the parameters for the histplot\n"
      ]
    },
    {
      "cell_type": "code",
      "metadata": {
        "id": "Iuo3TJOG3ASF"
      },
      "source": [
        ""
      ],
      "execution_count": null,
      "outputs": []
    },
    {
      "cell_type": "markdown",
      "metadata": {
        "id": "7ijbVqHZ1YhP"
      },
      "source": [
        "### Exercise 7 - Create a scatterplot of Wellbeing and Stress with line of best fit\n",
        "---\n",
        "\n",
        "Assuming that Stress is fairly closely associated with Wellbeing:\n",
        "\n",
        "Create a scatterplot of Wellbeing and Stress data.\n",
        "\n",
        "* create **x** from the `Stress` column\n",
        "* create **y** from the `Wellbeing` column\n",
        "* use `chart=sns.scatterplot(x=x,y=y)` to create a scatterplot\n",
        "* add x axis and y axis labels using `chart.set_xlabel('Stress')` and `chart.set_ylabel('Wellbeing')`\n",
        "\n",
        "Adding a line of best fit:   \n",
        "* the Seaborn library has a function that will plot a scatter plot with a line of best fit generated from a linear regression\n",
        "* replace the instruction to create the scatter plot with `chart=sns.regplot(x=x, y=y)` \n",
        "\n",
        "Write a short data story ( a description of the data.  What conclusion could be reached from the chart?  How confident could you be in this conclusion and why?\n",
        "\n",
        "\n"
      ]
    },
    {
      "cell_type": "code",
      "source": [
        ""
      ],
      "metadata": {
        "id": "CR0KIjt4WXLF"
      },
      "execution_count": null,
      "outputs": []
    },
    {
      "cell_type": "markdown",
      "source": [
        "### Exercise 8 - Create a set of charts from a data set\n",
        "---\n",
        "Use the student exam scores dataset here: https://raw.githubusercontent.com/lilaceri/Working-with-data-/main/Data%20Sets%20for%20code%20divisio/student_scores.csv\n",
        "\n",
        "Investigate the data and create a set of charts.  \n",
        "\n",
        "Create each chart in a new code cell.\n",
        "\n",
        "Add a text cell below each visualisation to explain what the chart is showing.\n"
      ],
      "metadata": {
        "id": "ZMecHxIPT4Jh"
      }
    },
    {
      "cell_type": "code",
      "source": [
        ""
      ],
      "metadata": {
        "id": "jNXPk52pWNT5"
      },
      "execution_count": null,
      "outputs": []
    },
    {
      "cell_type": "markdown",
      "metadata": {
        "id": "FWli4XMmsAPo"
      },
      "source": [
        "# Further reference on Seaborn\n",
        "\n",
        "[Seaborn documentation](https://seaborn.pydata.org/index.html)"
      ]
    }
  ]
}