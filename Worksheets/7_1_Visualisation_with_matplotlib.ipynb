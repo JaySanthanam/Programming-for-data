{
  "nbformat": 4,
  "nbformat_minor": 0,
  "metadata": {
    "colab": {
      "name": "7.1. Visualisation with matplotlib",
      "provenance": [],
      "collapsed_sections": [],
      "include_colab_link": true
    },
    "kernelspec": {
      "name": "python3",
      "display_name": "Python 3"
    },
    "language_info": {
      "name": "python"
    }
  },
  "cells": [
    {
      "cell_type": "markdown",
      "metadata": {
        "id": "view-in-github",
        "colab_type": "text"
      },
      "source": [
        "<a href=\"https://colab.research.google.com/github/JaySanthanam/Programming-for-data/blob/main/Worksheets/7_1_Visualisation_with_matplotlib.ipynb\" target=\"_parent\"><img src=\"https://colab.research.google.com/assets/colab-badge.svg\" alt=\"Open In Colab\"/></a>"
      ]
    },
    {
      "cell_type": "markdown",
      "metadata": {
        "id": "ovNHeS53QqEj"
      },
      "source": [
        "# Describing data visually\n",
        "---\n",
        "\n",
        "There are a good number of libraries available containing functions for visualising data with bar charts, pie charts, line plots, box plots, scatter plots and, in some libraries, with more image based visualisations.\n",
        "\n",
        "To keep it relatively simple, we will use **matplotlib**, a widely used library with a wide range of visualisation functions for data sets and mathematical equations.  It has the main functions we will use in this course:\n",
        "*  bar charts\n",
        "*  pie charts\n",
        "*  line plots\n",
        "*  box plots\n",
        "*  scatter plots\n",
        "*  histogram\n",
        "\n",
        "Each requires these things:  \n",
        "1. Select the data columns to be plotted \n",
        "2. Prepare the data (remove null values, clean formats, etc)  \n",
        "3. Run the function for the required plot\n",
        "\n",
        "Once you have the hang of these, you can start to look at labelling, colouring, etc.\n",
        "\n",
        "In order to begin creating visualisations, you need to:  \n",
        "* import **matplotlib** as **plt**\n",
        "\n",
        "Test output for Exercises 1 to 7 is in this [image](https://drive.google.com/file/d/1LYxLJyur_zgzvJcv_C1WGm21nf07ddY6/view?usp=sharing)"
      ]
    },
    {
      "cell_type": "markdown",
      "source": [
        "# IMPORTANT\n",
        "---\n",
        "There has been an upgrade to a library needed for reading Excel files in a notebook.  To ensure that you have this upgrade, run the code in the cell below and then select 'Restart runtime' from the Runtime menu."
      ],
      "metadata": {
        "id": "uX9YmfpUZhdq"
      }
    },
    {
      "cell_type": "code",
      "source": [
        "!pip install --upgrade openpyxl"
      ],
      "metadata": {
        "id": "-0vA7oxsZ1xM",
        "colab": {
          "base_uri": "https://localhost:8080/"
        },
        "outputId": "80eafb36-6cd9-415d-efb9-016f89f6807a"
      },
      "execution_count": 1,
      "outputs": [
        {
          "output_type": "stream",
          "name": "stdout",
          "text": [
            "Requirement already satisfied: openpyxl in /usr/local/lib/python3.7/dist-packages (2.5.9)\n",
            "Collecting openpyxl\n",
            "  Downloading openpyxl-3.0.9-py2.py3-none-any.whl (242 kB)\n",
            "\u001b[K     |████████████████████████████████| 242 kB 21.9 MB/s \n",
            "\u001b[?25hRequirement already satisfied: et-xmlfile in /usr/local/lib/python3.7/dist-packages (from openpyxl) (1.1.0)\n",
            "Installing collected packages: openpyxl\n",
            "  Attempting uninstall: openpyxl\n",
            "    Found existing installation: openpyxl 2.5.9\n",
            "    Uninstalling openpyxl-2.5.9:\n",
            "      Successfully uninstalled openpyxl-2.5.9\n",
            "Successfully installed openpyxl-3.0.9\n"
          ]
        }
      ]
    },
    {
      "cell_type": "markdown",
      "metadata": {
        "id": "lcPED_VXSY5U"
      },
      "source": [
        "#  Bar charts and Line Plots\n",
        "---\n",
        "\n",
        "For these exercises, use the Excel data file:\n",
        "\n",
        "'public-use-talent-migration' looking at sheet_name 'Country Migration'  \n",
        "https://github.com/futureCodersSE/working-with-data/blob/main/Data%20sets/public_use-talent-migration.xlsx?raw=true \n",
        "\n",
        "**Example**:  \n",
        "\n",
        "Watch the video [here](https://drive.google.com/file/d/1eNOy7fhkB2CSfVdb66kqB66qXfoPfOpd/view?usp=sharing) - demonstration of creating a bar chart using the `matplotlib` library `pyplot`.  Then have a go at creating it yourself."
      ]
    },
    {
      "cell_type": "code",
      "metadata": {
        "id": "4YZeIq9dQoVD",
        "colab": {
          "base_uri": "https://localhost:8080/"
        },
        "outputId": "1ceb225f-dc1f-4f0e-f06c-c89e21480397"
      },
      "source": [
        "import pandas as pd\n",
        "from google.colab import files\n",
        "import io\n",
        "\n",
        "def get_data(url):\n",
        "  df = pd.read_excel(url,sheet_name=\"Country Migration\")\n",
        "  return df\n",
        "\n",
        "url = \"https://github.com/futureCodersSE/working-with-data/blob/main/Data%20sets/public_use-talent-migration.xlsx?raw=true\"\n",
        "data = get_data(url)\n",
        "print(data.info())"
      ],
      "execution_count": 5,
      "outputs": [
        {
          "output_type": "stream",
          "name": "stdout",
          "text": [
            "<class 'pandas.core.frame.DataFrame'>\n",
            "RangeIndex: 4148 entries, 0 to 4147\n",
            "Data columns (total 17 columns):\n",
            " #   Column                    Non-Null Count  Dtype  \n",
            "---  ------                    --------------  -----  \n",
            " 0   base_country_code         4148 non-null   object \n",
            " 1   base_country_name         4148 non-null   object \n",
            " 2   base_lat                  4148 non-null   float64\n",
            " 3   base_long                 4148 non-null   float64\n",
            " 4   base_country_wb_income    4148 non-null   object \n",
            " 5   base_country_wb_region    4148 non-null   object \n",
            " 6   target_country_code       4148 non-null   object \n",
            " 7   target_country_name       4148 non-null   object \n",
            " 8   target_lat                4148 non-null   float64\n",
            " 9   target_long               4148 non-null   float64\n",
            " 10  target_country_wb_income  4148 non-null   object \n",
            " 11  target_country_wb_region  4148 non-null   object \n",
            " 12  net_per_10K_2015          4148 non-null   float64\n",
            " 13  net_per_10K_2016          4148 non-null   float64\n",
            " 14  net_per_10K_2017          4148 non-null   float64\n",
            " 15  net_per_10K_2018          4148 non-null   float64\n",
            " 16  net_per_10K_2019          4148 non-null   float64\n",
            "dtypes: float64(9), object(8)\n",
            "memory usage: 551.0+ KB\n",
            "None\n"
          ]
        }
      ]
    },
    {
      "cell_type": "markdown",
      "metadata": {
        "id": "CBIUWI1WyvLx"
      },
      "source": [
        "### Exercise 1 - Line plot of net migration \n",
        "--- \n",
        "\n",
        "Creating a line plot of mean net migration over the years 2015 to 2019\n",
        "\n",
        "* create a new dataframe containing only the five columns holding net migration\n",
        "* create a new data variable to hold the means of the five columns\n",
        "* create a labels variable to hold the keys (column headings) \n",
        "* use plt.plot(x, y) to plot your line chart\n",
        "\n",
        "***Presentation tips:***   \n",
        "Plot the chart, then add formatting, then show the plot   \n",
        "\n",
        "Rotate the x-axis labels in the plot:  \n",
        "`plt.xticks(rotation=45)`  \n",
        "\n",
        "Show the grid:  \n",
        "`plt.grid()`  \n",
        "\n",
        "When all formatting has been done, show the plot:   \n",
        "`plt.show()`"
      ]
    },
    {
      "cell_type": "code",
      "metadata": {
        "id": "JLOAv52Kx1ZZ",
        "colab": {
          "base_uri": "https://localhost:8080/",
          "height": 310
        },
        "outputId": "296cbd86-2c80-4d5a-b04e-a0e5ed789b38"
      },
      "source": [
        "import matplotlib  \n",
        "import matplotlib.pyplot as plt\n",
        "import numpy as np\n",
        "\n",
        "data = data.dropna(subset = [\"net_per_10K_2015\", \"net_per_10K_2016\",\"net_per_10K_2017\", \"net_per_10K_2018\", \"net_per_10K_2019\"])\n",
        "migration_df = data[[\"net_per_10K_2015\", \"net_per_10K_2016\",\"net_per_10K_2017\", \"net_per_10K_2018\", \"net_per_10K_2019\"]].copy()\n",
        "migration_means = migration_df.mean()\n",
        "yr = np.array([2015,2016,2017,2018,2019], dtype=int)\n",
        "ave = np.array(migration_means)\n",
        "plt.plot(yr, ave)\n",
        "plt.xlabel(\"Year\")\n",
        "plt.ylabel(\"Average Migration\")\n",
        "plt.title(\"Yearly Average Migration\")\n",
        "plt.xticks(yr)\n",
        "plt.xticks(rotation=45)\n",
        "plt.grid()\n",
        "plt.show()"
      ],
      "execution_count": 33,
      "outputs": [
        {
          "output_type": "display_data",
          "data": {
            "image/png": "[encoded data removed]",
            "text/plain": [
              "<Figure size 432x288 with 1 Axes>"
            ]
          },
          "metadata": {
            "needs_background": "light"
          }
        }
      ]
    },
    {
      "cell_type": "markdown",
      "metadata": {
        "id": "tCATnnTDVB0f"
      },
      "source": [
        "### Exercise 2 - Creating a Bar chart for yearly migration\n",
        "---\n",
        "Create a bar chart which shows the total net migration for the years 2015-2019  \n",
        " \n",
        "* split the migration columns into a new dataframe\n",
        "* create a data variable from the max() of the five columns\n",
        "* create a labels variable, this time just create a list of the 5 years ['2015','2016','2017','2018','2019']\n",
        "* plot the bar chart\n",
        "\n",
        "***Presentation tips***:\n",
        "* use plt.xlabel('Year') and plt.ylabel('Total net migration') to name your axis \n",
        "* display your bar graph with plt.show "
      ]
    },
    {
      "cell_type": "code",
      "metadata": {
        "id": "HFpx3cFOhbKo",
        "colab": {
          "base_uri": "https://localhost:8080/",
          "height": 310
        },
        "outputId": "95bacf24-2957-422a-faeb-ee2cedfa52e3"
      },
      "source": [
        "migration_tot = migration_df.sum()\n",
        "yr_list = [2015,2016,2017,2018,2019]\n",
        "net_mig = np.array(migration_tot)\n",
        "plt.bar(yr_list, net_mig, color='green', align = 'center')\n",
        "plt.xlabel(\"Year\")\n",
        "plt.ylabel(\"Total Migration\")\n",
        "plt.title(\"Yearly Total Migration\")\n",
        "plt.xticks(yr_list)\n",
        "plt.xticks(rotation=45)\n",
        "plt.grid()\n",
        "plt.show()"
      ],
      "execution_count": 39,
      "outputs": [
        {
          "output_type": "display_data",
          "data": {
            "image/png": "[encoded data removed]",
            "text/plain": [
              "<Figure size 432x288 with 1 Axes>"
            ]
          },
          "metadata": {
            "needs_background": "light"
          }
        }
      ]
    },
    {
      "cell_type": "markdown",
      "metadata": {
        "id": "h7XzURfOzZfm"
      },
      "source": [
        "### Exercise 3 - creating a bar graph using grouped data \n",
        "---\n",
        "\n",
        "Create a horizontal bar chart of 2019 mean immigration for each income level ('`target_country_wb_income`')\n",
        "\n",
        "* create a data variable which contains the means, grouped by '`target_country_wb_income`' \n",
        "* extract your labels (x) using the .keys() function \n",
        "* use the plt.barh(x, y) to create a horizontal bar graph \n",
        "* add labels to the axes ('Year', 'Net Migration')  \n",
        "* show the plot  \n",
        "\n",
        "Try using plt.bar(x,y) - can you see why horizontally is more appropriate?"
      ]
    },
    {
      "cell_type": "code",
      "metadata": {
        "id": "WW0np_MNmwou",
        "colab": {
          "base_uri": "https://localhost:8080/",
          "height": 295
        },
        "outputId": "bf3377e7-d3e9-4155-d74a-40c594fff571"
      },
      "source": [
        "migration_v2_19 = data[[\"target_country_wb_income\",\"net_per_10K_2019\"]].copy()\n",
        "migration_v2_grp1 = migration_v2_19.groupby([\"target_country_wb_income\"]).mean()\n",
        "migration_v2_grp1.plot(kind='barh')\n",
        "plt.xlabel(\"Net Migration (per 10K)\")\n",
        "plt.ylabel(\"Income level\")\n",
        "plt.title(\"Net Migration in 2019\")\n",
        "plt.show()"
      ],
      "execution_count": 90,
      "outputs": [
        {
          "output_type": "display_data",
          "data": {
            "image/png": "[encoded data removed]",
            "text/plain": [
              "<Figure size 432x288 with 1 Axes>"
            ]
          },
          "metadata": {
            "needs_background": "light"
          }
        }
      ]
    },
    {
      "cell_type": "markdown",
      "metadata": {
        "id": "49JShRy_vWib"
      },
      "source": [
        "# Pie Charts, Box Plots, Scatter Plots and Histograms\n",
        "---\n",
        "\n",
        "For these exercises you will use the Psychology dataset: \"https://github.com/lilaceri/Working-with-data-/blob/b157a2feceb7709cf82426932385706d65446270/Data%20Sets%20for%20code%20divisio/Positive_Psychology_2017.csv?raw=true\"\n",
        "\n",
        "To get the data ready:\n",
        "\n",
        "* read csv file above and save into a new variable called `psych_data`"
      ]
    },
    {
      "cell_type": "markdown",
      "metadata": {
        "id": "EMq3ymhwlcYR"
      },
      "source": [
        "### Exercise 4 - Creating a pie chart of stress data\n",
        "---\n",
        "Create a pie chart which shows how stressed students who speak different languages are.   \n",
        "\n",
        "To do this:\n",
        "\n",
        "* similar to Exercise 2 - create a variable which groups the means of data by firstlanguage  \n",
        "* store the means for 'Stress' in a variable called data\n",
        "* extract your labels using the keys() function\n",
        "* plot your pie chart using plt.pie(data, labels = labels)\n",
        "* write a comment noting anything interesting about the visualisation\n",
        "\n",
        "\n"
      ]
    },
    {
      "cell_type": "code",
      "metadata": {
        "id": "4mbOBPE-nU7o",
        "colab": {
          "base_uri": "https://localhost:8080/",
          "height": 248
        },
        "outputId": "5ed73745-4c3b-4592-c711-bd1b91bdb3f5"
      },
      "source": [
        "def get_csv_data(url):\n",
        "  df = pd.read_csv(url)\n",
        "  return df  \n",
        "\n",
        "url = \"https://github.com/lilaceri/Working-with-data-/blob/b157a2feceb7709cf82426932385706d65446270/Data%20Sets%20for%20code%20divisio/Positive_Psychology_2017.csv?raw=true\"\n",
        "psy_data = get_csv_data(url)\n",
        "psy_v1 = psy_data.groupby([\"firstlanguage\"]).mean()\n",
        "data = psy_v1[\"Stress\"]\n",
        "labels = psy_v1[\"Stress\"].keys()\n",
        "plt.pie(data, labels = labels)\n",
        "plt.show()"
      ],
      "execution_count": 112,
      "outputs": [
        {
          "output_type": "display_data",
          "data": {
            "image/png": "[encoded data removed]",
            "text/plain": [
              "<Figure size 432x288 with 1 Axes>"
            ]
          },
          "metadata": {}
        }
      ]
    },
    {
      "cell_type": "markdown",
      "source": [
        "I think that a large proportion of non English speaking students speak Greek. Similarly, the smallest no. of students speak German. However, I am unable to say if no. of Greek speaking students is significantly larger than Romanian. So I want to see it using bar chart."
      ],
      "metadata": {
        "id": "cyjO6o_AVLzI"
      }
    },
    {
      "cell_type": "code",
      "source": [
        "plt.bar(labels,data)\n",
        "plt.xlabel(\"First Language\")\n",
        "plt.ylabel(\"No. of students\")\n",
        "plt.title(\"No. of students whose first language is not English\")\n",
        "plt.xticks(rotation=45)\n",
        "plt.show()"
      ],
      "metadata": {
        "id": "yrfAVBQDVp-S",
        "outputId": "b57cae16-0181-4706-99c9-0b521d8a648a",
        "colab": {
          "base_uri": "https://localhost:8080/",
          "height": 328
        }
      },
      "execution_count": 115,
      "outputs": [
        {
          "output_type": "display_data",
          "data": {
            "image/png": "[encoded data removed]",
            "text/plain": [
              "<Figure size 432x288 with 1 Axes>"
            ]
          },
          "metadata": {
            "needs_background": "light"
          }
        }
      ]
    },
    {
      "cell_type": "markdown",
      "source": [
        "Yes, the largest proportion of non english speaking students speak Greek and the smallest proportion is that of German speakers."
      ],
      "metadata": {
        "id": "CSCZTuDvWOYC"
      }
    },
    {
      "cell_type": "markdown",
      "metadata": {
        "id": "dLNPuH5zuq7Y"
      },
      "source": [
        "### Exercise 5 - Creating a box plot of Wellbeing\n",
        "---\n",
        "A box plot is used to visualise summary infomation about a data series such as the min, max and median. \n",
        "\n",
        "Create a box plot of the Wellbeing scores\n",
        "\n",
        "*  split off the wellbeing column  \n",
        "*  use plt.boxplot(data, labels=\"Wellbeing\") to create boxplot \n",
        "*  show the boxplot"
      ]
    },
    {
      "cell_type": "code",
      "metadata": {
        "id": "i7fctsOQlcGR",
        "colab": {
          "base_uri": "https://localhost:8080/",
          "height": 295
        },
        "outputId": "6cd3f768-5c5d-4abc-fdd5-1f1ddcb055fd"
      },
      "source": [
        "well_data = psy_data[\"Wellbeing\"]\n",
        "plt.boxplot(well_data)\n",
        "plt.xlabel(\"Students\")\n",
        "plt.ylabel(\"Average wellbeing Score\")\n",
        "plt.title(\"Wellbeing score of students\")\n",
        "plt.show()"
      ],
      "execution_count": 130,
      "outputs": [
        {
          "output_type": "display_data",
          "data": {
            "image/png": "[encoded data removed]",
            "text/plain": [
              "<Figure size 432x288 with 1 Axes>"
            ]
          },
          "metadata": {
            "needs_background": "light"
          }
        }
      ]
    },
    {
      "cell_type": "markdown",
      "metadata": {
        "id": "ecS9uzAs3AuV"
      },
      "source": [
        "### Exercise 6 - Histograms of  age \n",
        "---\n",
        "\n",
        "Create a histogram which shows the frequency distribution for '`Wellbeing`'.\n",
        "\n",
        "* split the `Wellbeing` column off to provide the data\n",
        "* plot the histogram using `plt.hist(data)` \n",
        "* add labels using `plt.xlabel()` and `plt.ylabel()`\n",
        "* change the colours of the bars - try plt.hist(x, color = 'red')\n",
        "* show the plot\n"
      ]
    },
    {
      "cell_type": "code",
      "metadata": {
        "id": "Iuo3TJOG3ASF"
      },
      "source": [
        ""
      ],
      "execution_count": null,
      "outputs": []
    },
    {
      "cell_type": "markdown",
      "metadata": {
        "id": "7ijbVqHZ1YhP"
      },
      "source": [
        "### Exercise 7 - Create a scatterplot of Wellbeing and Stress with line of best fit\n",
        "---\n",
        "\n",
        "Assuming that Stress is fairly closely associated with Wellbeing:\n",
        "\n",
        "Create a scatterplot of Wellbeing and Stress data.\n",
        "\n",
        "* create **x** from the `Stress` column\n",
        "* create *y* from the `Wellbeing` column\n",
        "* use `plt.scatter(x,y)` to create a scatterplot\n",
        "* add x axis and y axis labels using `plt.xlabel('Stress')` and `plt.ylabel('Wellbeing')`\n",
        "*  \n",
        "\n",
        "Adding a line of best fit:   \n",
        "* the code cell below already has the linregress function imported from the scipy.stats library\n",
        "* create a regression variable and assign the result of using linregress (`regression = linregress(x,y)` )\n",
        "* store the slope and intercept (`slope = regression.slope`, `intercept = regression.intercept`)\n",
        "* plot a line using `plt.plot(x, slope*x + intercept)` \n",
        "\n",
        "Show the plots.\n",
        "\n",
        "Write a short data story ( a description of the data.  What conclusion could be reached from the chart?  How confident could you be in this conclusion and why?\n",
        "\n",
        "\n"
      ]
    },
    {
      "cell_type": "code",
      "source": [
        "from scipy.stats import linregress"
      ],
      "metadata": {
        "id": "CR0KIjt4WXLF"
      },
      "execution_count": null,
      "outputs": []
    },
    {
      "cell_type": "markdown",
      "source": [
        "### Exercise 8 - Create a set of charts from a data set\n",
        "---\n",
        "Use the student exam scores dataset here: https://raw.githubusercontent.com/lilaceri/Working-with-data-/main/Data%20Sets%20for%20code%20divisio/student_scores.csv\n",
        "\n",
        "Investigate the data and create a set of charts.  \n",
        "\n",
        "Create each chart in a new code cell.\n",
        "\n",
        "Add a text cell below each visualisation to explain what the chart is showing.\n"
      ],
      "metadata": {
        "id": "ZMecHxIPT4Jh"
      }
    },
    {
      "cell_type": "code",
      "source": [
        ""
      ],
      "metadata": {
        "id": "jNXPk52pWNT5"
      },
      "execution_count": null,
      "outputs": []
    },
    {
      "cell_type": "markdown",
      "metadata": {
        "id": "FWli4XMmsAPo"
      },
      "source": [
        "# Further reference on w3schools\n",
        "\n",
        "[Matplotlib on w3schools](https://www.w3schools.com/python/matplotlib_intro.**asp**)"
      ]
    }
  ]
}