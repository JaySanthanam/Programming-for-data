{
  "nbformat": 4,
  "nbformat_minor": 5,
  "metadata": {
    "kernelspec": {
      "display_name": "R",
      "language": "R",
      "name": "ir"
    },
    "colab": {
      "name": "6. R worksheet.ipynb",
      "provenance": [],
      "collapsed_sections": [],
      "include_colab_link": true
    }
  },
  "cells": [
    {
      "cell_type": "markdown",
      "metadata": {
        "id": "view-in-github",
        "colab_type": "text"
      },
      "source": [
        "<a href=\"https://colab.research.google.com/github/JaySanthanam/Programming-for-data/blob/main/Worksheets/6_R_worksheet.ipynb\" target=\"_parent\"><img src=\"https://colab.research.google.com/assets/colab-badge.svg\" alt=\"Open In Colab\"/></a>"
      ]
    },
    {
      "cell_type": "markdown",
      "metadata": {
        "id": "13ce0267"
      },
      "source": [
        "# Using R for data analysis # \n",
        "\n",
        "R is a powerful statistical tool used frequently in science academia. Similar to Python, to use R effectively, we must use a variety of libraries.  \n",
        "\n",
        "**Run the cell block below to install and load the necessary packages**"
      ],
      "id": "13ce0267"
    },
    {
      "cell_type": "code",
      "metadata": {
        "id": "92ad1352",
        "colab": {
          "base_uri": "https://localhost:8080/"
        },
        "outputId": "c632c899-e842-4be8-d039-b56b8fe2c11e"
      },
      "source": [
        "# this code needs to be run once to install the packages on your system\n",
        "# install.packages(\"tidyverse\")\n",
        "# install.packages(\"ggplot2\")\n",
        "install.packages(\"fastDummies\")\n",
        "install.packages(\"dplyr\")                            # Install dplyr package\n",
        "library(\"dplyr\")                                     # need this for arrange to work"
      ],
      "id": "92ad1352",
      "execution_count": 24,
      "outputs": [
        {
          "output_type": "stream",
          "name": "stderr",
          "text": [
            "Installing package into ‘/usr/local/lib/R/site-library’\n",
            "(as ‘lib’ is unspecified)\n",
            "\n",
            "Installing package into ‘/usr/local/lib/R/site-library’\n",
            "(as ‘lib’ is unspecified)\n",
            "\n"
          ]
        }
      ]
    },
    {
      "cell_type": "markdown",
      "metadata": {
        "id": "3wLXFZ00rPXM"
      },
      "source": [
        "**Run the cell block below here to open the packages ready for use**"
      ],
      "id": "3wLXFZ00rPXM"
    },
    {
      "cell_type": "code",
      "metadata": {
        "id": "7ad1e610"
      },
      "source": [
        "# this code needs to be run to open the packages \n",
        "\n",
        "# tidyverse includes dpylr which includes all the functions such as mutate, select, summarise etc\n",
        "library(\"tidyverse\")\n",
        "\n",
        "# ggplot2 contains all the visualisation tools (similar to matplotlib)\n",
        "library(\"ggplot2\")\n",
        "\n",
        "# fastdummies is for dummy coding\n",
        "library(\"fastDummies\")\n",
        "\n",
        "# displaying in real numbers \n",
        "\n",
        "options(scipen = 999)"
      ],
      "id": "7ad1e610",
      "execution_count": 25,
      "outputs": []
    },
    {
      "cell_type": "markdown",
      "metadata": {
        "id": "e7e51ad2"
      },
      "source": [
        "# Purpose of this worksheet\n",
        "---\n",
        "\n",
        "The purpose of this worksheet is NOT to learn the R programming language.  Rather, it is intended to show some statistical methods that haven't yet been covered, using R as the coding language.  \n",
        "\n",
        "This will allow some exposure to a different language, used for often different reasons from using Python.\n",
        "\n",
        "\n",
        "### In this worksheet you will start by using R versions of operations you have already used in Python.  Then you will be analysing student performance data and performing a multiple linear regression. ###\n",
        "\n",
        "url = \"https://raw.githubusercontent.com/lilaceri/Working-with-data-/main/Data%20Sets%20for%20code%20divisio/exams.csv\"\n",
        "\n",
        "### Setting variables ### \n",
        "\n",
        "```variable <- ...```\n",
        "\n",
        "**In R we use <- instead of using = python** \n",
        "\n",
        "### Reading data from our computer into a variable ###\n",
        "\n",
        "```data <- read_csv(\"data.csv\")```\n",
        "\n",
        "### Reading data from a URL into a variable ###\n",
        "\n",
        "```data <- read_csv(\"https://raw.github.com/file.csv\")```\n",
        "\n",
        "### Look at the first few rows of the dataset ###\n",
        "\n",
        "```head(data)```\n",
        "\n",
        "### Summary of the data ###\n",
        "\n",
        "```summary(data)```"
      ],
      "id": "e7e51ad2"
    },
    {
      "cell_type": "markdown",
      "metadata": {
        "id": "f80ef2b6"
      },
      "source": [
        "## Exercise 1\n",
        "---\n",
        "\n",
        "Read the data into a variable and have a look at it. "
      ],
      "id": "f80ef2b6"
    },
    {
      "cell_type": "code",
      "metadata": {
        "id": "278012b6",
        "colab": {
          "base_uri": "https://localhost:8080/",
          "height": 733
        },
        "outputId": "10b2e079-8025-4d56-a263-b2dff96980a7"
      },
      "source": [
        "data <- read_csv(\"https://raw.githubusercontent.com/lilaceri/Working-with-data-/main/Data%20Sets%20for%20code%20divisio/exams.csv\")\n",
        "\n",
        "head(data)\n",
        "\n",
        "summary(data)\n"
      ],
      "id": "278012b6",
      "execution_count": 26,
      "outputs": [
        {
          "output_type": "stream",
          "name": "stderr",
          "text": [
            "\u001b[1mRows: \u001b[22m\u001b[34m1000\u001b[39m \u001b[1mColumns: \u001b[22m\u001b[34m8\u001b[39m\n",
            "\n",
            "\u001b[36m──\u001b[39m \u001b[1mColumn specification\u001b[22m \u001b[36m────────────────────────────────────────────────────────\u001b[39m\n",
            "\u001b[1mDelimiter:\u001b[22m \",\"\n",
            "\u001b[31mchr\u001b[39m (5): gender, ethnicity, parental_education, lunch, preparation_course\n",
            "\u001b[32mdbl\u001b[39m (3): math_score, reading_score, writing_score\n",
            "\n",
            "\n",
            "\u001b[36mℹ\u001b[39m Use \u001b[30m\u001b[47m\u001b[30m\u001b[47m`spec()`\u001b[47m\u001b[30m\u001b[49m\u001b[39m to retrieve the full column specification for this data.\n",
            "\u001b[36mℹ\u001b[39m Specify the column types or set \u001b[30m\u001b[47m\u001b[30m\u001b[47m`show_col_types = FALSE`\u001b[47m\u001b[30m\u001b[49m\u001b[39m to quiet this message.\n",
            "\n"
          ]
        },
        {
          "output_type": "display_data",
          "data": {
            "text/plain": [
              "  gender ethnicity parental_education lunch        preparation_course\n",
              "1 female group E   some college       free/reduced none              \n",
              "2 male   group C   some college       standard     completed         \n",
              "3 female group B   some high school   free/reduced completed         \n",
              "4 male   group D   some high school   standard     completed         \n",
              "5 female group C   high school        free/reduced completed         \n",
              "6 female group B   some college       free/reduced none              \n",
              "  math_score reading_score writing_score\n",
              "1 65         76            71           \n",
              "2 75         72            69           \n",
              "3 62         56            61           \n",
              "4 60         60            59           \n",
              "5 34         54            55           \n",
              "6 53         66            61           "
            ],
            "text/latex": "A tibble: 6 × 8\n\\begin{tabular}{llllllll}\n gender & ethnicity & parental\\_education & lunch & preparation\\_course & math\\_score & reading\\_score & writing\\_score\\\\\n <chr> & <chr> & <chr> & <chr> & <chr> & <dbl> & <dbl> & <dbl>\\\\\n\\hline\n\t female & group E & some college     & free/reduced & none      & 65 & 76 & 71\\\\\n\t male   & group C & some college     & standard     & completed & 75 & 72 & 69\\\\\n\t female & group B & some high school & free/reduced & completed & 62 & 56 & 61\\\\\n\t male   & group D & some high school & standard     & completed & 60 & 60 & 59\\\\\n\t female & group C & high school      & free/reduced & completed & 34 & 54 & 55\\\\\n\t female & group B & some college     & free/reduced & none      & 53 & 66 & 61\\\\\n\\end{tabular}\n",
            "text/markdown": "\nA tibble: 6 × 8\n\n| gender &lt;chr&gt; | ethnicity &lt;chr&gt; | parental_education &lt;chr&gt; | lunch &lt;chr&gt; | preparation_course &lt;chr&gt; | math_score &lt;dbl&gt; | reading_score &lt;dbl&gt; | writing_score &lt;dbl&gt; |\n|---|---|---|---|---|---|---|---|\n| female | group E | some college     | free/reduced | none      | 65 | 76 | 71 |\n| male   | group C | some college     | standard     | completed | 75 | 72 | 69 |\n| female | group B | some high school | free/reduced | completed | 62 | 56 | 61 |\n| male   | group D | some high school | standard     | completed | 60 | 60 | 59 |\n| female | group C | high school      | free/reduced | completed | 34 | 54 | 55 |\n| female | group B | some college     | free/reduced | none      | 53 | 66 | 61 |\n\n",
            "text/html": [
              "<table class=\"dataframe\">\n",
              "<caption>A tibble: 6 × 8</caption>\n",
              "<thead>\n",
              "\t<tr><th scope=col>gender</th><th scope=col>ethnicity</th><th scope=col>parental_education</th><th scope=col>lunch</th><th scope=col>preparation_course</th><th scope=col>math_score</th><th scope=col>reading_score</th><th scope=col>writing_score</th></tr>\n",
              "\t<tr><th scope=col>&lt;chr&gt;</th><th scope=col>&lt;chr&gt;</th><th scope=col>&lt;chr&gt;</th><th scope=col>&lt;chr&gt;</th><th scope=col>&lt;chr&gt;</th><th scope=col>&lt;dbl&gt;</th><th scope=col>&lt;dbl&gt;</th><th scope=col>&lt;dbl&gt;</th></tr>\n",
              "</thead>\n",
              "<tbody>\n",
              "\t<tr><td>female</td><td>group E</td><td>some college    </td><td>free/reduced</td><td>none     </td><td>65</td><td>76</td><td>71</td></tr>\n",
              "\t<tr><td>male  </td><td>group C</td><td>some college    </td><td>standard    </td><td>completed</td><td>75</td><td>72</td><td>69</td></tr>\n",
              "\t<tr><td>female</td><td>group B</td><td>some high school</td><td>free/reduced</td><td>completed</td><td>62</td><td>56</td><td>61</td></tr>\n",
              "\t<tr><td>male  </td><td>group D</td><td>some high school</td><td>standard    </td><td>completed</td><td>60</td><td>60</td><td>59</td></tr>\n",
              "\t<tr><td>female</td><td>group C</td><td>high school     </td><td>free/reduced</td><td>completed</td><td>34</td><td>54</td><td>55</td></tr>\n",
              "\t<tr><td>female</td><td>group B</td><td>some college    </td><td>free/reduced</td><td>none     </td><td>53</td><td>66</td><td>61</td></tr>\n",
              "</tbody>\n",
              "</table>\n"
            ]
          },
          "metadata": {}
        },
        {
          "output_type": "display_data",
          "data": {
            "text/plain": [
              "    gender           ethnicity         parental_education    lunch          \n",
              " Length:1000        Length:1000        Length:1000        Length:1000       \n",
              " Class :character   Class :character   Class :character   Class :character  \n",
              " Mode  :character   Mode  :character   Mode  :character   Mode  :character  \n",
              "                                                                            \n",
              "                                                                            \n",
              "                                                                            \n",
              " preparation_course   math_score     reading_score    writing_score   \n",
              " Length:1000        Min.   : 13.00   Min.   : 16.00   Min.   : 12.00  \n",
              " Class :character   1st Qu.: 57.00   1st Qu.: 60.00   1st Qu.: 58.00  \n",
              " Mode  :character   Median : 67.00   Median : 70.00   Median : 69.00  \n",
              "                    Mean   : 66.86   Mean   : 69.72   Mean   : 68.58  \n",
              "                    3rd Qu.: 77.00   3rd Qu.: 80.00   3rd Qu.: 80.00  \n",
              "                    Max.   :100.00   Max.   :100.00   Max.   :100.00  "
            ]
          },
          "metadata": {}
        }
      ]
    },
    {
      "cell_type": "markdown",
      "source": [
        "Looking at the summary results, I see that the mean and meadian are very close in all three subjects. Giving me an idea that the districution might be normal for exam scores. Of course, that this assumes a complete data set and that the area under the curve is 1."
      ],
      "metadata": {
        "id": "3sMtV8jxD-io"
      },
      "id": "3sMtV8jxD-io"
    },
    {
      "cell_type": "markdown",
      "metadata": {
        "id": "f22b0df3"
      },
      "source": [
        "# Lets have a look at the data ###\n",
        "\n",
        "We can use the `arrange()` function to sort the data or `desc()` function to sort into descending order\n",
        "\n",
        "```\n",
        "arranged_column <- arrange(data, column_name)\n",
        "head(arranged_column)\n",
        "tail(arranged_column)\n",
        "summary(arranged_column)\n",
        "```\n",
        "\n",
        "We can use the select() function to look at specific columns\n",
        "\n",
        "```\n",
        "column_specific <- select(data, column_1, column_2)\n",
        "column_specific\n",
        "```\n",
        "\n",
        "\n",
        "\n",
        "### Exercise 2 ###\n",
        "---\n",
        "\n",
        "Now have a go looking at the data in different ways, using the functions above:"
      ],
      "id": "f22b0df3"
    },
    {
      "cell_type": "code",
      "metadata": {
        "id": "e99d1914",
        "colab": {
          "base_uri": "https://localhost:8080/",
          "height": 806
        },
        "outputId": "f37563a9-79fa-4d70-85d1-e820293ab431"
      },
      "source": [
        "# I am going to look at sorting the data based on different columns.\n",
        "\n",
        "#First one I want to do sort by math score\n",
        "\n",
        "arranged_prep <- arrange(data, \"math_score\")\n",
        "head(arranged_prep)\n",
        "tail(arranged_prep)\n",
        "summary(arranged_prep)\n"
      ],
      "id": "e99d1914",
      "execution_count": 27,
      "outputs": [
        {
          "output_type": "display_data",
          "data": {
            "text/plain": [
              "  gender ethnicity parental_education lunch        preparation_course\n",
              "1 female group E   some college       free/reduced none              \n",
              "2 male   group C   some college       standard     completed         \n",
              "3 female group B   some high school   free/reduced completed         \n",
              "4 male   group D   some high school   standard     completed         \n",
              "5 female group C   high school        free/reduced completed         \n",
              "6 female group B   some college       free/reduced none              \n",
              "  math_score reading_score writing_score\n",
              "1 65         76            71           \n",
              "2 75         72            69           \n",
              "3 62         56            61           \n",
              "4 60         60            59           \n",
              "5 34         54            55           \n",
              "6 53         66            61           "
            ],
            "text/latex": "A tibble: 6 × 8\n\\begin{tabular}{llllllll}\n gender & ethnicity & parental\\_education & lunch & preparation\\_course & math\\_score & reading\\_score & writing\\_score\\\\\n <chr> & <chr> & <chr> & <chr> & <chr> & <dbl> & <dbl> & <dbl>\\\\\n\\hline\n\t female & group E & some college     & free/reduced & none      & 65 & 76 & 71\\\\\n\t male   & group C & some college     & standard     & completed & 75 & 72 & 69\\\\\n\t female & group B & some high school & free/reduced & completed & 62 & 56 & 61\\\\\n\t male   & group D & some high school & standard     & completed & 60 & 60 & 59\\\\\n\t female & group C & high school      & free/reduced & completed & 34 & 54 & 55\\\\\n\t female & group B & some college     & free/reduced & none      & 53 & 66 & 61\\\\\n\\end{tabular}\n",
            "text/markdown": "\nA tibble: 6 × 8\n\n| gender &lt;chr&gt; | ethnicity &lt;chr&gt; | parental_education &lt;chr&gt; | lunch &lt;chr&gt; | preparation_course &lt;chr&gt; | math_score &lt;dbl&gt; | reading_score &lt;dbl&gt; | writing_score &lt;dbl&gt; |\n|---|---|---|---|---|---|---|---|\n| female | group E | some college     | free/reduced | none      | 65 | 76 | 71 |\n| male   | group C | some college     | standard     | completed | 75 | 72 | 69 |\n| female | group B | some high school | free/reduced | completed | 62 | 56 | 61 |\n| male   | group D | some high school | standard     | completed | 60 | 60 | 59 |\n| female | group C | high school      | free/reduced | completed | 34 | 54 | 55 |\n| female | group B | some college     | free/reduced | none      | 53 | 66 | 61 |\n\n",
            "text/html": [
              "<table class=\"dataframe\">\n",
              "<caption>A tibble: 6 × 8</caption>\n",
              "<thead>\n",
              "\t<tr><th scope=col>gender</th><th scope=col>ethnicity</th><th scope=col>parental_education</th><th scope=col>lunch</th><th scope=col>preparation_course</th><th scope=col>math_score</th><th scope=col>reading_score</th><th scope=col>writing_score</th></tr>\n",
              "\t<tr><th scope=col>&lt;chr&gt;</th><th scope=col>&lt;chr&gt;</th><th scope=col>&lt;chr&gt;</th><th scope=col>&lt;chr&gt;</th><th scope=col>&lt;chr&gt;</th><th scope=col>&lt;dbl&gt;</th><th scope=col>&lt;dbl&gt;</th><th scope=col>&lt;dbl&gt;</th></tr>\n",
              "</thead>\n",
              "<tbody>\n",
              "\t<tr><td>female</td><td>group E</td><td>some college    </td><td>free/reduced</td><td>none     </td><td>65</td><td>76</td><td>71</td></tr>\n",
              "\t<tr><td>male  </td><td>group C</td><td>some college    </td><td>standard    </td><td>completed</td><td>75</td><td>72</td><td>69</td></tr>\n",
              "\t<tr><td>female</td><td>group B</td><td>some high school</td><td>free/reduced</td><td>completed</td><td>62</td><td>56</td><td>61</td></tr>\n",
              "\t<tr><td>male  </td><td>group D</td><td>some high school</td><td>standard    </td><td>completed</td><td>60</td><td>60</td><td>59</td></tr>\n",
              "\t<tr><td>female</td><td>group C</td><td>high school     </td><td>free/reduced</td><td>completed</td><td>34</td><td>54</td><td>55</td></tr>\n",
              "\t<tr><td>female</td><td>group B</td><td>some college    </td><td>free/reduced</td><td>none     </td><td>53</td><td>66</td><td>61</td></tr>\n",
              "</tbody>\n",
              "</table>\n"
            ]
          },
          "metadata": {}
        },
        {
          "output_type": "display_data",
          "data": {
            "text/plain": [
              "  gender ethnicity parental_education lunch        preparation_course\n",
              "1 female group D   associate's degree standard     completed         \n",
              "2 male   group B   some college       standard     completed         \n",
              "3 male   group D   high school        standard     completed         \n",
              "4 female group C   associate's degree standard     completed         \n",
              "5 male   group B   master's degree    free/reduced none              \n",
              "6 male   group B   some college       standard     none              \n",
              "  math_score reading_score writing_score\n",
              "1 72         74            80           \n",
              "2 80         73            74           \n",
              "3 82         87            82           \n",
              "4 65         94            93           \n",
              "5 62         62            57           \n",
              "6 38         39            40           "
            ],
            "text/latex": "A tibble: 6 × 8\n\\begin{tabular}{llllllll}\n gender & ethnicity & parental\\_education & lunch & preparation\\_course & math\\_score & reading\\_score & writing\\_score\\\\\n <chr> & <chr> & <chr> & <chr> & <chr> & <dbl> & <dbl> & <dbl>\\\\\n\\hline\n\t female & group D & associate's degree & standard     & completed & 72 & 74 & 80\\\\\n\t male   & group B & some college       & standard     & completed & 80 & 73 & 74\\\\\n\t male   & group D & high school        & standard     & completed & 82 & 87 & 82\\\\\n\t female & group C & associate's degree & standard     & completed & 65 & 94 & 93\\\\\n\t male   & group B & master's degree    & free/reduced & none      & 62 & 62 & 57\\\\\n\t male   & group B & some college       & standard     & none      & 38 & 39 & 40\\\\\n\\end{tabular}\n",
            "text/markdown": "\nA tibble: 6 × 8\n\n| gender &lt;chr&gt; | ethnicity &lt;chr&gt; | parental_education &lt;chr&gt; | lunch &lt;chr&gt; | preparation_course &lt;chr&gt; | math_score &lt;dbl&gt; | reading_score &lt;dbl&gt; | writing_score &lt;dbl&gt; |\n|---|---|---|---|---|---|---|---|\n| female | group D | associate's degree | standard     | completed | 72 | 74 | 80 |\n| male   | group B | some college       | standard     | completed | 80 | 73 | 74 |\n| male   | group D | high school        | standard     | completed | 82 | 87 | 82 |\n| female | group C | associate's degree | standard     | completed | 65 | 94 | 93 |\n| male   | group B | master's degree    | free/reduced | none      | 62 | 62 | 57 |\n| male   | group B | some college       | standard     | none      | 38 | 39 | 40 |\n\n",
            "text/html": [
              "<table class=\"dataframe\">\n",
              "<caption>A tibble: 6 × 8</caption>\n",
              "<thead>\n",
              "\t<tr><th scope=col>gender</th><th scope=col>ethnicity</th><th scope=col>parental_education</th><th scope=col>lunch</th><th scope=col>preparation_course</th><th scope=col>math_score</th><th scope=col>reading_score</th><th scope=col>writing_score</th></tr>\n",
              "\t<tr><th scope=col>&lt;chr&gt;</th><th scope=col>&lt;chr&gt;</th><th scope=col>&lt;chr&gt;</th><th scope=col>&lt;chr&gt;</th><th scope=col>&lt;chr&gt;</th><th scope=col>&lt;dbl&gt;</th><th scope=col>&lt;dbl&gt;</th><th scope=col>&lt;dbl&gt;</th></tr>\n",
              "</thead>\n",
              "<tbody>\n",
              "\t<tr><td>female</td><td>group D</td><td>associate's degree</td><td>standard    </td><td>completed</td><td>72</td><td>74</td><td>80</td></tr>\n",
              "\t<tr><td>male  </td><td>group B</td><td>some college      </td><td>standard    </td><td>completed</td><td>80</td><td>73</td><td>74</td></tr>\n",
              "\t<tr><td>male  </td><td>group D</td><td>high school       </td><td>standard    </td><td>completed</td><td>82</td><td>87</td><td>82</td></tr>\n",
              "\t<tr><td>female</td><td>group C</td><td>associate's degree</td><td>standard    </td><td>completed</td><td>65</td><td>94</td><td>93</td></tr>\n",
              "\t<tr><td>male  </td><td>group B</td><td>master's degree   </td><td>free/reduced</td><td>none     </td><td>62</td><td>62</td><td>57</td></tr>\n",
              "\t<tr><td>male  </td><td>group B</td><td>some college      </td><td>standard    </td><td>none     </td><td>38</td><td>39</td><td>40</td></tr>\n",
              "</tbody>\n",
              "</table>\n"
            ]
          },
          "metadata": {}
        },
        {
          "output_type": "display_data",
          "data": {
            "text/plain": [
              "    gender           ethnicity         parental_education    lunch          \n",
              " Length:1000        Length:1000        Length:1000        Length:1000       \n",
              " Class :character   Class :character   Class :character   Class :character  \n",
              " Mode  :character   Mode  :character   Mode  :character   Mode  :character  \n",
              "                                                                            \n",
              "                                                                            \n",
              "                                                                            \n",
              " preparation_course   math_score     reading_score    writing_score   \n",
              " Length:1000        Min.   : 13.00   Min.   : 16.00   Min.   : 12.00  \n",
              " Class :character   1st Qu.: 57.00   1st Qu.: 60.00   1st Qu.: 58.00  \n",
              " Mode  :character   Median : 67.00   Median : 70.00   Median : 69.00  \n",
              "                    Mean   : 66.86   Mean   : 69.72   Mean   : 68.58  \n",
              "                    3rd Qu.: 77.00   3rd Qu.: 80.00   3rd Qu.: 80.00  \n",
              "                    Max.   :100.00   Max.   :100.00   Max.   :100.00  "
            ]
          },
          "metadata": {}
        }
      ]
    },
    {
      "cell_type": "markdown",
      "source": [
        "How about descending order.."
      ],
      "metadata": {
        "id": "0h0KCpvNJoxT"
      },
      "id": "0h0KCpvNJoxT"
    },
    {
      "cell_type": "code",
      "source": [
        "#I want to do sort by descending order by math score\n",
        "\n",
        "arranged_prep_desc <- arrange(data, \"math_score\")\n",
        "head(arranged_prep_desc)\n",
        "tail(arranged_prep_desc)\n",
        "summary(arranged_prep_desc)"
      ],
      "metadata": {
        "colab": {
          "base_uri": "https://localhost:8080/",
          "height": 806
        },
        "id": "2joX97vUJrh2",
        "outputId": "6b194809-4275-4cd8-e0b2-4e62b0240bc8"
      },
      "id": "2joX97vUJrh2",
      "execution_count": 28,
      "outputs": [
        {
          "output_type": "display_data",
          "data": {
            "text/plain": [
              "  gender ethnicity parental_education lunch        preparation_course\n",
              "1 female group E   some college       free/reduced none              \n",
              "2 male   group C   some college       standard     completed         \n",
              "3 female group B   some high school   free/reduced completed         \n",
              "4 male   group D   some high school   standard     completed         \n",
              "5 female group C   high school        free/reduced completed         \n",
              "6 female group B   some college       free/reduced none              \n",
              "  math_score reading_score writing_score\n",
              "1 65         76            71           \n",
              "2 75         72            69           \n",
              "3 62         56            61           \n",
              "4 60         60            59           \n",
              "5 34         54            55           \n",
              "6 53         66            61           "
            ],
            "text/latex": "A tibble: 6 × 8\n\\begin{tabular}{llllllll}\n gender & ethnicity & parental\\_education & lunch & preparation\\_course & math\\_score & reading\\_score & writing\\_score\\\\\n <chr> & <chr> & <chr> & <chr> & <chr> & <dbl> & <dbl> & <dbl>\\\\\n\\hline\n\t female & group E & some college     & free/reduced & none      & 65 & 76 & 71\\\\\n\t male   & group C & some college     & standard     & completed & 75 & 72 & 69\\\\\n\t female & group B & some high school & free/reduced & completed & 62 & 56 & 61\\\\\n\t male   & group D & some high school & standard     & completed & 60 & 60 & 59\\\\\n\t female & group C & high school      & free/reduced & completed & 34 & 54 & 55\\\\\n\t female & group B & some college     & free/reduced & none      & 53 & 66 & 61\\\\\n\\end{tabular}\n",
            "text/markdown": "\nA tibble: 6 × 8\n\n| gender &lt;chr&gt; | ethnicity &lt;chr&gt; | parental_education &lt;chr&gt; | lunch &lt;chr&gt; | preparation_course &lt;chr&gt; | math_score &lt;dbl&gt; | reading_score &lt;dbl&gt; | writing_score &lt;dbl&gt; |\n|---|---|---|---|---|---|---|---|\n| female | group E | some college     | free/reduced | none      | 65 | 76 | 71 |\n| male   | group C | some college     | standard     | completed | 75 | 72 | 69 |\n| female | group B | some high school | free/reduced | completed | 62 | 56 | 61 |\n| male   | group D | some high school | standard     | completed | 60 | 60 | 59 |\n| female | group C | high school      | free/reduced | completed | 34 | 54 | 55 |\n| female | group B | some college     | free/reduced | none      | 53 | 66 | 61 |\n\n",
            "text/html": [
              "<table class=\"dataframe\">\n",
              "<caption>A tibble: 6 × 8</caption>\n",
              "<thead>\n",
              "\t<tr><th scope=col>gender</th><th scope=col>ethnicity</th><th scope=col>parental_education</th><th scope=col>lunch</th><th scope=col>preparation_course</th><th scope=col>math_score</th><th scope=col>reading_score</th><th scope=col>writing_score</th></tr>\n",
              "\t<tr><th scope=col>&lt;chr&gt;</th><th scope=col>&lt;chr&gt;</th><th scope=col>&lt;chr&gt;</th><th scope=col>&lt;chr&gt;</th><th scope=col>&lt;chr&gt;</th><th scope=col>&lt;dbl&gt;</th><th scope=col>&lt;dbl&gt;</th><th scope=col>&lt;dbl&gt;</th></tr>\n",
              "</thead>\n",
              "<tbody>\n",
              "\t<tr><td>female</td><td>group E</td><td>some college    </td><td>free/reduced</td><td>none     </td><td>65</td><td>76</td><td>71</td></tr>\n",
              "\t<tr><td>male  </td><td>group C</td><td>some college    </td><td>standard    </td><td>completed</td><td>75</td><td>72</td><td>69</td></tr>\n",
              "\t<tr><td>female</td><td>group B</td><td>some high school</td><td>free/reduced</td><td>completed</td><td>62</td><td>56</td><td>61</td></tr>\n",
              "\t<tr><td>male  </td><td>group D</td><td>some high school</td><td>standard    </td><td>completed</td><td>60</td><td>60</td><td>59</td></tr>\n",
              "\t<tr><td>female</td><td>group C</td><td>high school     </td><td>free/reduced</td><td>completed</td><td>34</td><td>54</td><td>55</td></tr>\n",
              "\t<tr><td>female</td><td>group B</td><td>some college    </td><td>free/reduced</td><td>none     </td><td>53</td><td>66</td><td>61</td></tr>\n",
              "</tbody>\n",
              "</table>\n"
            ]
          },
          "metadata": {}
        },
        {
          "output_type": "display_data",
          "data": {
            "text/plain": [
              "  gender ethnicity parental_education lunch        preparation_course\n",
              "1 female group D   associate's degree standard     completed         \n",
              "2 male   group B   some college       standard     completed         \n",
              "3 male   group D   high school        standard     completed         \n",
              "4 female group C   associate's degree standard     completed         \n",
              "5 male   group B   master's degree    free/reduced none              \n",
              "6 male   group B   some college       standard     none              \n",
              "  math_score reading_score writing_score\n",
              "1 72         74            80           \n",
              "2 80         73            74           \n",
              "3 82         87            82           \n",
              "4 65         94            93           \n",
              "5 62         62            57           \n",
              "6 38         39            40           "
            ],
            "text/latex": "A tibble: 6 × 8\n\\begin{tabular}{llllllll}\n gender & ethnicity & parental\\_education & lunch & preparation\\_course & math\\_score & reading\\_score & writing\\_score\\\\\n <chr> & <chr> & <chr> & <chr> & <chr> & <dbl> & <dbl> & <dbl>\\\\\n\\hline\n\t female & group D & associate's degree & standard     & completed & 72 & 74 & 80\\\\\n\t male   & group B & some college       & standard     & completed & 80 & 73 & 74\\\\\n\t male   & group D & high school        & standard     & completed & 82 & 87 & 82\\\\\n\t female & group C & associate's degree & standard     & completed & 65 & 94 & 93\\\\\n\t male   & group B & master's degree    & free/reduced & none      & 62 & 62 & 57\\\\\n\t male   & group B & some college       & standard     & none      & 38 & 39 & 40\\\\\n\\end{tabular}\n",
            "text/markdown": "\nA tibble: 6 × 8\n\n| gender &lt;chr&gt; | ethnicity &lt;chr&gt; | parental_education &lt;chr&gt; | lunch &lt;chr&gt; | preparation_course &lt;chr&gt; | math_score &lt;dbl&gt; | reading_score &lt;dbl&gt; | writing_score &lt;dbl&gt; |\n|---|---|---|---|---|---|---|---|\n| female | group D | associate's degree | standard     | completed | 72 | 74 | 80 |\n| male   | group B | some college       | standard     | completed | 80 | 73 | 74 |\n| male   | group D | high school        | standard     | completed | 82 | 87 | 82 |\n| female | group C | associate's degree | standard     | completed | 65 | 94 | 93 |\n| male   | group B | master's degree    | free/reduced | none      | 62 | 62 | 57 |\n| male   | group B | some college       | standard     | none      | 38 | 39 | 40 |\n\n",
            "text/html": [
              "<table class=\"dataframe\">\n",
              "<caption>A tibble: 6 × 8</caption>\n",
              "<thead>\n",
              "\t<tr><th scope=col>gender</th><th scope=col>ethnicity</th><th scope=col>parental_education</th><th scope=col>lunch</th><th scope=col>preparation_course</th><th scope=col>math_score</th><th scope=col>reading_score</th><th scope=col>writing_score</th></tr>\n",
              "\t<tr><th scope=col>&lt;chr&gt;</th><th scope=col>&lt;chr&gt;</th><th scope=col>&lt;chr&gt;</th><th scope=col>&lt;chr&gt;</th><th scope=col>&lt;chr&gt;</th><th scope=col>&lt;dbl&gt;</th><th scope=col>&lt;dbl&gt;</th><th scope=col>&lt;dbl&gt;</th></tr>\n",
              "</thead>\n",
              "<tbody>\n",
              "\t<tr><td>female</td><td>group D</td><td>associate's degree</td><td>standard    </td><td>completed</td><td>72</td><td>74</td><td>80</td></tr>\n",
              "\t<tr><td>male  </td><td>group B</td><td>some college      </td><td>standard    </td><td>completed</td><td>80</td><td>73</td><td>74</td></tr>\n",
              "\t<tr><td>male  </td><td>group D</td><td>high school       </td><td>standard    </td><td>completed</td><td>82</td><td>87</td><td>82</td></tr>\n",
              "\t<tr><td>female</td><td>group C</td><td>associate's degree</td><td>standard    </td><td>completed</td><td>65</td><td>94</td><td>93</td></tr>\n",
              "\t<tr><td>male  </td><td>group B</td><td>master's degree   </td><td>free/reduced</td><td>none     </td><td>62</td><td>62</td><td>57</td></tr>\n",
              "\t<tr><td>male  </td><td>group B</td><td>some college      </td><td>standard    </td><td>none     </td><td>38</td><td>39</td><td>40</td></tr>\n",
              "</tbody>\n",
              "</table>\n"
            ]
          },
          "metadata": {}
        },
        {
          "output_type": "display_data",
          "data": {
            "text/plain": [
              "    gender           ethnicity         parental_education    lunch          \n",
              " Length:1000        Length:1000        Length:1000        Length:1000       \n",
              " Class :character   Class :character   Class :character   Class :character  \n",
              " Mode  :character   Mode  :character   Mode  :character   Mode  :character  \n",
              "                                                                            \n",
              "                                                                            \n",
              "                                                                            \n",
              " preparation_course   math_score     reading_score    writing_score   \n",
              " Length:1000        Min.   : 13.00   Min.   : 16.00   Min.   : 12.00  \n",
              " Class :character   1st Qu.: 57.00   1st Qu.: 60.00   1st Qu.: 58.00  \n",
              " Mode  :character   Median : 67.00   Median : 70.00   Median : 69.00  \n",
              "                    Mean   : 66.86   Mean   : 69.72   Mean   : 68.58  \n",
              "                    3rd Qu.: 77.00   3rd Qu.: 80.00   3rd Qu.: 80.00  \n",
              "                    Max.   :100.00   Max.   :100.00   Max.   :100.00  "
            ]
          },
          "metadata": {}
        }
      ]
    },
    {
      "cell_type": "markdown",
      "source": [
        "I wonder if I can do the same with multiple columns...worth a try! See below."
      ],
      "metadata": {
        "id": "GKx1WqofJLbx"
      },
      "id": "GKx1WqofJLbx"
    },
    {
      "cell_type": "code",
      "source": [
        "# Arranging the data with multiple columns\n",
        "arranged_data <- arrange(data, \"preparation_course\", \"gender\")  \n",
        "head(arranged_data)\n",
        "tail(arranged_data)"
      ],
      "metadata": {
        "colab": {
          "base_uri": "https://localhost:8080/",
          "height": 555
        },
        "id": "pDyubPvgJQeY",
        "outputId": "b045e907-9415-4e78-a118-2e6347031b3e"
      },
      "id": "pDyubPvgJQeY",
      "execution_count": 29,
      "outputs": [
        {
          "output_type": "display_data",
          "data": {
            "text/plain": [
              "  gender ethnicity parental_education lunch        preparation_course\n",
              "1 female group E   some college       free/reduced none              \n",
              "2 male   group C   some college       standard     completed         \n",
              "3 female group B   some high school   free/reduced completed         \n",
              "4 male   group D   some high school   standard     completed         \n",
              "5 female group C   high school        free/reduced completed         \n",
              "6 female group B   some college       free/reduced none              \n",
              "  math_score reading_score writing_score\n",
              "1 65         76            71           \n",
              "2 75         72            69           \n",
              "3 62         56            61           \n",
              "4 60         60            59           \n",
              "5 34         54            55           \n",
              "6 53         66            61           "
            ],
            "text/latex": "A tibble: 6 × 8\n\\begin{tabular}{llllllll}\n gender & ethnicity & parental\\_education & lunch & preparation\\_course & math\\_score & reading\\_score & writing\\_score\\\\\n <chr> & <chr> & <chr> & <chr> & <chr> & <dbl> & <dbl> & <dbl>\\\\\n\\hline\n\t female & group E & some college     & free/reduced & none      & 65 & 76 & 71\\\\\n\t male   & group C & some college     & standard     & completed & 75 & 72 & 69\\\\\n\t female & group B & some high school & free/reduced & completed & 62 & 56 & 61\\\\\n\t male   & group D & some high school & standard     & completed & 60 & 60 & 59\\\\\n\t female & group C & high school      & free/reduced & completed & 34 & 54 & 55\\\\\n\t female & group B & some college     & free/reduced & none      & 53 & 66 & 61\\\\\n\\end{tabular}\n",
            "text/markdown": "\nA tibble: 6 × 8\n\n| gender &lt;chr&gt; | ethnicity &lt;chr&gt; | parental_education &lt;chr&gt; | lunch &lt;chr&gt; | preparation_course &lt;chr&gt; | math_score &lt;dbl&gt; | reading_score &lt;dbl&gt; | writing_score &lt;dbl&gt; |\n|---|---|---|---|---|---|---|---|\n| female | group E | some college     | free/reduced | none      | 65 | 76 | 71 |\n| male   | group C | some college     | standard     | completed | 75 | 72 | 69 |\n| female | group B | some high school | free/reduced | completed | 62 | 56 | 61 |\n| male   | group D | some high school | standard     | completed | 60 | 60 | 59 |\n| female | group C | high school      | free/reduced | completed | 34 | 54 | 55 |\n| female | group B | some college     | free/reduced | none      | 53 | 66 | 61 |\n\n",
            "text/html": [
              "<table class=\"dataframe\">\n",
              "<caption>A tibble: 6 × 8</caption>\n",
              "<thead>\n",
              "\t<tr><th scope=col>gender</th><th scope=col>ethnicity</th><th scope=col>parental_education</th><th scope=col>lunch</th><th scope=col>preparation_course</th><th scope=col>math_score</th><th scope=col>reading_score</th><th scope=col>writing_score</th></tr>\n",
              "\t<tr><th scope=col>&lt;chr&gt;</th><th scope=col>&lt;chr&gt;</th><th scope=col>&lt;chr&gt;</th><th scope=col>&lt;chr&gt;</th><th scope=col>&lt;chr&gt;</th><th scope=col>&lt;dbl&gt;</th><th scope=col>&lt;dbl&gt;</th><th scope=col>&lt;dbl&gt;</th></tr>\n",
              "</thead>\n",
              "<tbody>\n",
              "\t<tr><td>female</td><td>group E</td><td>some college    </td><td>free/reduced</td><td>none     </td><td>65</td><td>76</td><td>71</td></tr>\n",
              "\t<tr><td>male  </td><td>group C</td><td>some college    </td><td>standard    </td><td>completed</td><td>75</td><td>72</td><td>69</td></tr>\n",
              "\t<tr><td>female</td><td>group B</td><td>some high school</td><td>free/reduced</td><td>completed</td><td>62</td><td>56</td><td>61</td></tr>\n",
              "\t<tr><td>male  </td><td>group D</td><td>some high school</td><td>standard    </td><td>completed</td><td>60</td><td>60</td><td>59</td></tr>\n",
              "\t<tr><td>female</td><td>group C</td><td>high school     </td><td>free/reduced</td><td>completed</td><td>34</td><td>54</td><td>55</td></tr>\n",
              "\t<tr><td>female</td><td>group B</td><td>some college    </td><td>free/reduced</td><td>none     </td><td>53</td><td>66</td><td>61</td></tr>\n",
              "</tbody>\n",
              "</table>\n"
            ]
          },
          "metadata": {}
        },
        {
          "output_type": "display_data",
          "data": {
            "text/plain": [
              "  gender ethnicity parental_education lunch        preparation_course\n",
              "1 female group D   associate's degree standard     completed         \n",
              "2 male   group B   some college       standard     completed         \n",
              "3 male   group D   high school        standard     completed         \n",
              "4 female group C   associate's degree standard     completed         \n",
              "5 male   group B   master's degree    free/reduced none              \n",
              "6 male   group B   some college       standard     none              \n",
              "  math_score reading_score writing_score\n",
              "1 72         74            80           \n",
              "2 80         73            74           \n",
              "3 82         87            82           \n",
              "4 65         94            93           \n",
              "5 62         62            57           \n",
              "6 38         39            40           "
            ],
            "text/latex": "A tibble: 6 × 8\n\\begin{tabular}{llllllll}\n gender & ethnicity & parental\\_education & lunch & preparation\\_course & math\\_score & reading\\_score & writing\\_score\\\\\n <chr> & <chr> & <chr> & <chr> & <chr> & <dbl> & <dbl> & <dbl>\\\\\n\\hline\n\t female & group D & associate's degree & standard     & completed & 72 & 74 & 80\\\\\n\t male   & group B & some college       & standard     & completed & 80 & 73 & 74\\\\\n\t male   & group D & high school        & standard     & completed & 82 & 87 & 82\\\\\n\t female & group C & associate's degree & standard     & completed & 65 & 94 & 93\\\\\n\t male   & group B & master's degree    & free/reduced & none      & 62 & 62 & 57\\\\\n\t male   & group B & some college       & standard     & none      & 38 & 39 & 40\\\\\n\\end{tabular}\n",
            "text/markdown": "\nA tibble: 6 × 8\n\n| gender &lt;chr&gt; | ethnicity &lt;chr&gt; | parental_education &lt;chr&gt; | lunch &lt;chr&gt; | preparation_course &lt;chr&gt; | math_score &lt;dbl&gt; | reading_score &lt;dbl&gt; | writing_score &lt;dbl&gt; |\n|---|---|---|---|---|---|---|---|\n| female | group D | associate's degree | standard     | completed | 72 | 74 | 80 |\n| male   | group B | some college       | standard     | completed | 80 | 73 | 74 |\n| male   | group D | high school        | standard     | completed | 82 | 87 | 82 |\n| female | group C | associate's degree | standard     | completed | 65 | 94 | 93 |\n| male   | group B | master's degree    | free/reduced | none      | 62 | 62 | 57 |\n| male   | group B | some college       | standard     | none      | 38 | 39 | 40 |\n\n",
            "text/html": [
              "<table class=\"dataframe\">\n",
              "<caption>A tibble: 6 × 8</caption>\n",
              "<thead>\n",
              "\t<tr><th scope=col>gender</th><th scope=col>ethnicity</th><th scope=col>parental_education</th><th scope=col>lunch</th><th scope=col>preparation_course</th><th scope=col>math_score</th><th scope=col>reading_score</th><th scope=col>writing_score</th></tr>\n",
              "\t<tr><th scope=col>&lt;chr&gt;</th><th scope=col>&lt;chr&gt;</th><th scope=col>&lt;chr&gt;</th><th scope=col>&lt;chr&gt;</th><th scope=col>&lt;chr&gt;</th><th scope=col>&lt;dbl&gt;</th><th scope=col>&lt;dbl&gt;</th><th scope=col>&lt;dbl&gt;</th></tr>\n",
              "</thead>\n",
              "<tbody>\n",
              "\t<tr><td>female</td><td>group D</td><td>associate's degree</td><td>standard    </td><td>completed</td><td>72</td><td>74</td><td>80</td></tr>\n",
              "\t<tr><td>male  </td><td>group B</td><td>some college      </td><td>standard    </td><td>completed</td><td>80</td><td>73</td><td>74</td></tr>\n",
              "\t<tr><td>male  </td><td>group D</td><td>high school       </td><td>standard    </td><td>completed</td><td>82</td><td>87</td><td>82</td></tr>\n",
              "\t<tr><td>female</td><td>group C</td><td>associate's degree</td><td>standard    </td><td>completed</td><td>65</td><td>94</td><td>93</td></tr>\n",
              "\t<tr><td>male  </td><td>group B</td><td>master's degree   </td><td>free/reduced</td><td>none     </td><td>62</td><td>62</td><td>57</td></tr>\n",
              "\t<tr><td>male  </td><td>group B</td><td>some college      </td><td>standard    </td><td>none     </td><td>38</td><td>39</td><td>40</td></tr>\n",
              "</tbody>\n",
              "</table>\n"
            ]
          },
          "metadata": {}
        }
      ]
    },
    {
      "cell_type": "markdown",
      "source": [
        "I am not convinced that arrange did anything. I want to compare it to data.table"
      ],
      "metadata": {
        "id": "p6QlSxayKpuC"
      },
      "id": "p6QlSxayKpuC"
    },
    {
      "cell_type": "code",
      "source": [
        "install.packages(\"data.table\") # Install data.table package \n",
        "library(\"data.table\") # Load data.table package"
      ],
      "metadata": {
        "colab": {
          "base_uri": "https://localhost:8080/"
        },
        "id": "jcGq1SbAK3LK",
        "outputId": "cdb06b6e-4d8d-467b-edab-843d39df9c88"
      },
      "id": "jcGq1SbAK3LK",
      "execution_count": 32,
      "outputs": [
        {
          "output_type": "stream",
          "name": "stderr",
          "text": [
            "Installing package into ‘/usr/local/lib/R/site-library’\n",
            "(as ‘lib’ is unspecified)\n",
            "\n"
          ]
        }
      ]
    },
    {
      "cell_type": "code",
      "source": [
        "#Try using data.table instead\n",
        "\n",
        "data_ordered <- data                                 \n",
        "setorder(data_ordered, \"preparation_course\", \"gender\")                       \n",
        "head(data_ordered)\n",
        "tail(data_ordered)  "
      ],
      "metadata": {
        "colab": {
          "base_uri": "https://localhost:8080/",
          "height": 555
        },
        "id": "7safu2E9LgJs",
        "outputId": "a72504e2-e00b-453e-cfff-138abab82acd"
      },
      "id": "7safu2E9LgJs",
      "execution_count": 33,
      "outputs": [
        {
          "output_type": "display_data",
          "data": {
            "text/plain": [
              "  gender ethnicity parental_education lunch        preparation_course\n",
              "1 female group B   some high school   free/reduced completed         \n",
              "2 female group C   high school        free/reduced completed         \n",
              "3 female group C   associate's degree standard     completed         \n",
              "4 female group D   some high school   free/reduced completed         \n",
              "5 female group E   some college       standard     completed         \n",
              "6 female group A   high school        free/reduced completed         \n",
              "  math_score reading_score writing_score\n",
              "1 62         56            61           \n",
              "2 34         54            55           \n",
              "3 58         71            63           \n",
              "4 55         71            73           \n",
              "5 71         79            82           \n",
              "6 71         85            81           "
            ],
            "text/latex": "A tibble: 6 × 8\n\\begin{tabular}{llllllll}\n gender & ethnicity & parental\\_education & lunch & preparation\\_course & math\\_score & reading\\_score & writing\\_score\\\\\n <chr> & <chr> & <chr> & <chr> & <chr> & <dbl> & <dbl> & <dbl>\\\\\n\\hline\n\t female & group B & some high school   & free/reduced & completed & 62 & 56 & 61\\\\\n\t female & group C & high school        & free/reduced & completed & 34 & 54 & 55\\\\\n\t female & group C & associate's degree & standard     & completed & 58 & 71 & 63\\\\\n\t female & group D & some high school   & free/reduced & completed & 55 & 71 & 73\\\\\n\t female & group E & some college       & standard     & completed & 71 & 79 & 82\\\\\n\t female & group A & high school        & free/reduced & completed & 71 & 85 & 81\\\\\n\\end{tabular}\n",
            "text/markdown": "\nA tibble: 6 × 8\n\n| gender &lt;chr&gt; | ethnicity &lt;chr&gt; | parental_education &lt;chr&gt; | lunch &lt;chr&gt; | preparation_course &lt;chr&gt; | math_score &lt;dbl&gt; | reading_score &lt;dbl&gt; | writing_score &lt;dbl&gt; |\n|---|---|---|---|---|---|---|---|\n| female | group B | some high school   | free/reduced | completed | 62 | 56 | 61 |\n| female | group C | high school        | free/reduced | completed | 34 | 54 | 55 |\n| female | group C | associate's degree | standard     | completed | 58 | 71 | 63 |\n| female | group D | some high school   | free/reduced | completed | 55 | 71 | 73 |\n| female | group E | some college       | standard     | completed | 71 | 79 | 82 |\n| female | group A | high school        | free/reduced | completed | 71 | 85 | 81 |\n\n",
            "text/html": [
              "<table class=\"dataframe\">\n",
              "<caption>A tibble: 6 × 8</caption>\n",
              "<thead>\n",
              "\t<tr><th scope=col>gender</th><th scope=col>ethnicity</th><th scope=col>parental_education</th><th scope=col>lunch</th><th scope=col>preparation_course</th><th scope=col>math_score</th><th scope=col>reading_score</th><th scope=col>writing_score</th></tr>\n",
              "\t<tr><th scope=col>&lt;chr&gt;</th><th scope=col>&lt;chr&gt;</th><th scope=col>&lt;chr&gt;</th><th scope=col>&lt;chr&gt;</th><th scope=col>&lt;chr&gt;</th><th scope=col>&lt;dbl&gt;</th><th scope=col>&lt;dbl&gt;</th><th scope=col>&lt;dbl&gt;</th></tr>\n",
              "</thead>\n",
              "<tbody>\n",
              "\t<tr><td>female</td><td>group B</td><td>some high school  </td><td>free/reduced</td><td>completed</td><td>62</td><td>56</td><td>61</td></tr>\n",
              "\t<tr><td>female</td><td>group C</td><td>high school       </td><td>free/reduced</td><td>completed</td><td>34</td><td>54</td><td>55</td></tr>\n",
              "\t<tr><td>female</td><td>group C</td><td>associate's degree</td><td>standard    </td><td>completed</td><td>58</td><td>71</td><td>63</td></tr>\n",
              "\t<tr><td>female</td><td>group D</td><td>some high school  </td><td>free/reduced</td><td>completed</td><td>55</td><td>71</td><td>73</td></tr>\n",
              "\t<tr><td>female</td><td>group E</td><td>some college      </td><td>standard    </td><td>completed</td><td>71</td><td>79</td><td>82</td></tr>\n",
              "\t<tr><td>female</td><td>group A</td><td>high school       </td><td>free/reduced</td><td>completed</td><td>71</td><td>85</td><td>81</td></tr>\n",
              "</tbody>\n",
              "</table>\n"
            ]
          },
          "metadata": {}
        },
        {
          "output_type": "display_data",
          "data": {
            "text/plain": [
              "  gender ethnicity parental_education lunch        preparation_course\n",
              "1 male   group B   some college       standard     none              \n",
              "2 male   group E   some college       standard     none              \n",
              "3 male   group C   high school        free/reduced none              \n",
              "4 male   group E   high school        standard     none              \n",
              "5 male   group B   master's degree    free/reduced none              \n",
              "6 male   group B   some college       standard     none              \n",
              "  math_score reading_score writing_score\n",
              "1  62        52            53           \n",
              "2 100        81            84           \n",
              "3  59        63            56           \n",
              "4  79        78            69           \n",
              "5  62        62            57           \n",
              "6  38        39            40           "
            ],
            "text/latex": "A tibble: 6 × 8\n\\begin{tabular}{llllllll}\n gender & ethnicity & parental\\_education & lunch & preparation\\_course & math\\_score & reading\\_score & writing\\_score\\\\\n <chr> & <chr> & <chr> & <chr> & <chr> & <dbl> & <dbl> & <dbl>\\\\\n\\hline\n\t male & group B & some college    & standard     & none &  62 & 52 & 53\\\\\n\t male & group E & some college    & standard     & none & 100 & 81 & 84\\\\\n\t male & group C & high school     & free/reduced & none &  59 & 63 & 56\\\\\n\t male & group E & high school     & standard     & none &  79 & 78 & 69\\\\\n\t male & group B & master's degree & free/reduced & none &  62 & 62 & 57\\\\\n\t male & group B & some college    & standard     & none &  38 & 39 & 40\\\\\n\\end{tabular}\n",
            "text/markdown": "\nA tibble: 6 × 8\n\n| gender &lt;chr&gt; | ethnicity &lt;chr&gt; | parental_education &lt;chr&gt; | lunch &lt;chr&gt; | preparation_course &lt;chr&gt; | math_score &lt;dbl&gt; | reading_score &lt;dbl&gt; | writing_score &lt;dbl&gt; |\n|---|---|---|---|---|---|---|---|\n| male | group B | some college    | standard     | none |  62 | 52 | 53 |\n| male | group E | some college    | standard     | none | 100 | 81 | 84 |\n| male | group C | high school     | free/reduced | none |  59 | 63 | 56 |\n| male | group E | high school     | standard     | none |  79 | 78 | 69 |\n| male | group B | master's degree | free/reduced | none |  62 | 62 | 57 |\n| male | group B | some college    | standard     | none |  38 | 39 | 40 |\n\n",
            "text/html": [
              "<table class=\"dataframe\">\n",
              "<caption>A tibble: 6 × 8</caption>\n",
              "<thead>\n",
              "\t<tr><th scope=col>gender</th><th scope=col>ethnicity</th><th scope=col>parental_education</th><th scope=col>lunch</th><th scope=col>preparation_course</th><th scope=col>math_score</th><th scope=col>reading_score</th><th scope=col>writing_score</th></tr>\n",
              "\t<tr><th scope=col>&lt;chr&gt;</th><th scope=col>&lt;chr&gt;</th><th scope=col>&lt;chr&gt;</th><th scope=col>&lt;chr&gt;</th><th scope=col>&lt;chr&gt;</th><th scope=col>&lt;dbl&gt;</th><th scope=col>&lt;dbl&gt;</th><th scope=col>&lt;dbl&gt;</th></tr>\n",
              "</thead>\n",
              "<tbody>\n",
              "\t<tr><td>male</td><td>group B</td><td>some college   </td><td>standard    </td><td>none</td><td> 62</td><td>52</td><td>53</td></tr>\n",
              "\t<tr><td>male</td><td>group E</td><td>some college   </td><td>standard    </td><td>none</td><td>100</td><td>81</td><td>84</td></tr>\n",
              "\t<tr><td>male</td><td>group C</td><td>high school    </td><td>free/reduced</td><td>none</td><td> 59</td><td>63</td><td>56</td></tr>\n",
              "\t<tr><td>male</td><td>group E</td><td>high school    </td><td>standard    </td><td>none</td><td> 79</td><td>78</td><td>69</td></tr>\n",
              "\t<tr><td>male</td><td>group B</td><td>master's degree</td><td>free/reduced</td><td>none</td><td> 62</td><td>62</td><td>57</td></tr>\n",
              "\t<tr><td>male</td><td>group B</td><td>some college   </td><td>standard    </td><td>none</td><td> 38</td><td>39</td><td>40</td></tr>\n",
              "</tbody>\n",
              "</table>\n"
            ]
          },
          "metadata": {}
        }
      ]
    },
    {
      "cell_type": "markdown",
      "source": [
        "Much better! I find that data.table did a better job sorting the data by preparation_course and gender than arrange. "
      ],
      "metadata": {
        "id": "SqilJ8KML0Zr"
      },
      "id": "SqilJ8KML0Zr"
    },
    {
      "cell_type": "markdown",
      "metadata": {
        "id": "ed7b8c0d"
      },
      "source": [
        "# Prepare the data for a linear regression\n",
        "\n",
        "Rows containing null, or error-prone values can affect statistics such as measures of central tendency (e.g. mean, median) and operations such as linear regressions, reducing accuracy.\n",
        "\n",
        "To check for null values we can use:\n",
        "\n",
        "``` is.na(data) ```\n",
        "\n",
        "To remove rows which contain null values we can use:  \n",
        "\n",
        "``` na.omit(data) ``` \n",
        "\n",
        "\n",
        "\n",
        "### Exercise 3\n",
        "---\n",
        "\n",
        "Check your dataframe for null values and remove rows with null values if necessary"
      ],
      "id": "ed7b8c0d"
    },
    {
      "cell_type": "code",
      "metadata": {
        "id": "7f261cc0",
        "colab": {
          "base_uri": "https://localhost:8080/",
          "height": 124
        },
        "outputId": "e568330c-8e9d-4d38-ecaa-4dd2a1bdbd1e"
      },
      "source": [
        "any_null <- is.na(data)\n",
        "summary(any_null)"
      ],
      "id": "7f261cc0",
      "execution_count": 37,
      "outputs": [
        {
          "output_type": "display_data",
          "data": {
            "text/plain": [
              "   gender        ethnicity       parental_education   lunch        \n",
              " Mode :logical   Mode :logical   Mode :logical      Mode :logical  \n",
              " FALSE:1000      FALSE:1000      FALSE:1000         FALSE:1000     \n",
              " preparation_course math_score      reading_score   writing_score  \n",
              " Mode :logical      Mode :logical   Mode :logical   Mode :logical  \n",
              " FALSE:1000         FALSE:1000      FALSE:1000      FALSE:1000     "
            ]
          },
          "metadata": {}
        }
      ]
    },
    {
      "cell_type": "markdown",
      "source": [
        "Okay, there are no null values in the data. There is no need to use omit function."
      ],
      "metadata": {
        "id": "66oZsJgMMPFc"
      },
      "id": "66oZsJgMMPFc"
    },
    {
      "cell_type": "markdown",
      "metadata": {
        "id": "2062c520"
      },
      "source": [
        "### Visualise data distribution ### \n",
        "---\n",
        "\n",
        "In statistics, when you are preparing data for analysis, you must first check if your data is Gaussian or not (normally distributed). \n",
        "\n",
        "If data is normally distributed, it will have a bell curve and the spread of the data will tend to be small, with the mean centred in the data.\n",
        "\n",
        "The types of statistical test that are meaningful for the data depend on whether or not your data is normally distributed. \n",
        "\n",
        "To check for normality, lets first look at a histogram: \n",
        "\n",
        "**Using the ggplot2 package (similar to pythons Matplotlib):**\n",
        "\n",
        "```qplot(data$column, geom=\"histogram\") ```\n",
        "\n",
        "In R, `$` is used to specify the dataframe and target column so `data$age` would tell R to look at the age column - in Python pandas this would be ```df['age'] ```\n",
        "\n",
        "### Exercise 4 ###\n",
        "---\n",
        "\n",
        "Create histograms to check the distribution of each numeric column in your data (writing_score, reading_score, math_score)"
      ],
      "id": "2062c520"
    },
    {
      "cell_type": "markdown",
      "source": [
        "First I will do the histogram plot for math_score."
      ],
      "metadata": {
        "id": "POuS-AUeMows"
      },
      "id": "POuS-AUeMows"
    },
    {
      "cell_type": "code",
      "metadata": {
        "id": "55e6c624",
        "colab": {
          "base_uri": "https://localhost:8080/",
          "height": 472
        },
        "outputId": "2118f547-3e40-41ce-816b-2fab925d98b4"
      },
      "source": [
        "qplot(data$\"math_score\", geom=\"histogram\")"
      ],
      "id": "55e6c624",
      "execution_count": 38,
      "outputs": [
        {
          "output_type": "stream",
          "name": "stderr",
          "text": [
            "`stat_bin()` using `bins = 30`. Pick better value with `binwidth`.\n",
            "\n"
          ]
        },
        {
          "output_type": "display_data",
          "data": {
            "image/png": "[encoded data removed]",
            "text/plain": [
              "plot without title"
            ]
          },
          "metadata": {
            "image/png": {
              "width": 420,
              "height": 420
            }
          }
        }
      ]
    },
    {
      "cell_type": "markdown",
      "source": [
        "Okay, it doesn't like the default bin width (and I completely agree!) and also we need better labels. So here we go..."
      ],
      "metadata": {
        "id": "D7QJiTpmOIep"
      },
      "id": "D7QJiTpmOIep"
    },
    {
      "cell_type": "code",
      "source": [
        "# Histogram with bin width for math_score\n",
        "qplot(data$\"math_score\", geom = \"histogram\",  ylab = \"No. of pupils\", xlab = \"math_score\", binwidth = 5)"
      ],
      "metadata": {
        "colab": {
          "base_uri": "https://localhost:8080/",
          "height": 437
        },
        "id": "9o-YzvO-NUor",
        "outputId": "e82b7bde-05c4-472a-af9c-ddc32d800f54"
      },
      "id": "9o-YzvO-NUor",
      "execution_count": 44,
      "outputs": [
        {
          "output_type": "display_data",
          "data": {
            "image/png": "[encoded data removed]",
            "text/plain": [
              "plot without title"
            ]
          },
          "metadata": {
            "image/png": {
              "width": 420,
              "height": 420
            }
          }
        }
      ]
    },
    {
      "cell_type": "markdown",
      "source": [
        "It does look very similar to normal distribution (but slightly skewed towards higher scores). Now let's try the same for reading and writing scores."
      ],
      "metadata": {
        "id": "nfeEO2IEPL-w"
      },
      "id": "nfeEO2IEPL-w"
    },
    {
      "cell_type": "code",
      "source": [
        "# Histogram for reading_score\n",
        "qplot(data$\"reading_score\", geom = \"histogram\",  ylab = \"No. of pupils\", xlab = \"reading_score\", binwidth = 5)"
      ],
      "metadata": {
        "colab": {
          "base_uri": "https://localhost:8080/",
          "height": 437
        },
        "id": "8gfMyCB0PcWP",
        "outputId": "99880511-6206-4d75-94c3-b4828ff982ef"
      },
      "id": "8gfMyCB0PcWP",
      "execution_count": 45,
      "outputs": [
        {
          "output_type": "display_data",
          "data": {
            "image/png": "[encoded data removed]",
            "text/plain": [
              "plot without title"
            ]
          },
          "metadata": {
            "image/png": {
              "width": 420,
              "height": 420
            }
          }
        }
      ]
    },
    {
      "cell_type": "code",
      "source": [
        "# Histogram for writing_score\n",
        "qplot(data$\"writing_score\", geom = \"histogram\",  ylab = \"No. of pupils\", xlab = \"writing_score\", binwidth = 5)"
      ],
      "metadata": {
        "colab": {
          "base_uri": "https://localhost:8080/",
          "height": 437
        },
        "id": "klW0zbgDPrbF",
        "outputId": "a99226ff-dc66-4e9c-e435-185b75a9b009"
      },
      "id": "klW0zbgDPrbF",
      "execution_count": 46,
      "outputs": [
        {
          "output_type": "display_data",
          "data": {
            "image/png": "[encoded data removed]",
            "text/plain": [
              "plot without title"
            ]
          },
          "metadata": {
            "image/png": {
              "width": 420,
              "height": 420
            }
          }
        }
      ]
    },
    {
      "cell_type": "markdown",
      "metadata": {
        "id": "a6345893"
      },
      "source": [
        "## What about data that isn't numeric?\n",
        "---\n",
        "\n",
        "A linear regression is essentially a mathematical formula, which finds 2 terms (the slope and intercept) and can use that to predict new values. \n",
        "\n",
        "Obviously you cannot do any calculations on words (such as male or female). Therefore, we need to 'dummy code' categorical values such as sex.\n",
        "\n",
        "When R does the mathematical equation for the regression, we do not want the new dummy codes to interfere with the calculation, to get around that, we code the data using 0 and 1. \n",
        "\n",
        "**There are many ways to dummy code your data, but to make things easy we are going to use a package!**\n",
        "\n",
        "``` df_dummy <- dummy_cols(data, select_columns = c('column1', 'column2', 'column3'), remove_first_dummy = TRUE, remove_selected_columns = TRUE) ```\n",
        "\n",
        "The above code sets the new dataframe in a variable called `df_dummy`, it then states which dataframe we mean, then in the brackets, you put the column names that you want dummy coded. \n",
        "\n",
        "```remove_selected_columns = TRUE``` tells R to delete the existing categorical data columns afterwards\n",
        "\n",
        "```remove_first_dummy = TRUE``` tells R to remove the first dummy column. dummy_cols will create one column for each categorical value in the original column (so the sex columns becomes 2 columns called sex_female and sex_male) So removing the first column would leave the column sex__male,  where 1 means male and 0 means female. Removing the first ethnicity column leaves the other 4 columns and any row that has 0 in all four columns can be assumed to be ethnicity A.  This is important as it stops multicollinearity in your model (your variables being too related to each other messing up the results). \n",
        "\n",
        "### Exercise 5 ###\n",
        "---\n",
        "\n",
        "Dummy code the categorical columns, removing the first dummy and the original columns. "
      ],
      "id": "a6345893"
    },
    {
      "cell_type": "code",
      "metadata": {
        "id": "3e7d7f63",
        "colab": {
          "base_uri": "https://localhost:8080/",
          "height": 610
        },
        "outputId": "f3a4bdb6-9f62-46e8-e72e-09aa162e75f1"
      },
      "source": [
        "# Let's get a new data frame where all the columns are numerical!\n",
        "df_dummy <- dummy_cols(data, select_columns = c('gender', 'ethnicity', 'parental_education', 'lunch', 'preparation_course'), remove_first_dummy = TRUE, remove_selected_columns = TRUE)\n",
        "\n",
        "head(df_dummy)\n",
        "tail(df_dummy)"
      ],
      "id": "3e7d7f63",
      "execution_count": 49,
      "outputs": [
        {
          "output_type": "display_data",
          "data": {
            "text/plain": [
              "  math_score reading_score writing_score gender_male ethnicity_group B\n",
              "1 62         56            61            0           1                \n",
              "2 34         54            55            0           0                \n",
              "3 58         71            63            0           0                \n",
              "4 55         71            73            0           0                \n",
              "5 71         79            82            0           0                \n",
              "6 71         85            81            0           0                \n",
              "  ethnicity_group C ethnicity_group D ethnicity_group E\n",
              "1 0                 0                 0                \n",
              "2 1                 0                 0                \n",
              "3 1                 0                 0                \n",
              "4 0                 1                 0                \n",
              "5 0                 0                 1                \n",
              "6 0                 0                 0                \n",
              "  parental_education_bachelor's degree parental_education_high school\n",
              "1 0                                    0                             \n",
              "2 0                                    1                             \n",
              "3 0                                    0                             \n",
              "4 0                                    0                             \n",
              "5 0                                    0                             \n",
              "6 0                                    1                             \n",
              "  parental_education_master's degree parental_education_some college\n",
              "1 0                                  0                              \n",
              "2 0                                  0                              \n",
              "3 0                                  0                              \n",
              "4 0                                  0                              \n",
              "5 0                                  1                              \n",
              "6 0                                  0                              \n",
              "  parental_education_some high school lunch_standard preparation_course_none\n",
              "1 1                                   0              0                      \n",
              "2 0                                   0              0                      \n",
              "3 0                                   1              0                      \n",
              "4 1                                   0              0                      \n",
              "5 0                                   1              0                      \n",
              "6 0                                   0              0                      "
            ],
            "text/latex": "A tibble: 6 × 15\n\\begin{tabular}{lllllllllllllll}\n math\\_score & reading\\_score & writing\\_score & gender\\_male & ethnicity\\_group B & ethnicity\\_group C & ethnicity\\_group D & ethnicity\\_group E & parental\\_education\\_bachelor's degree & parental\\_education\\_high school & parental\\_education\\_master's degree & parental\\_education\\_some college & parental\\_education\\_some high school & lunch\\_standard & preparation\\_course\\_none\\\\\n <dbl> & <dbl> & <dbl> & <int> & <int> & <int> & <int> & <int> & <int> & <int> & <int> & <int> & <int> & <int> & <int>\\\\\n\\hline\n\t 62 & 56 & 61 & 0 & 1 & 0 & 0 & 0 & 0 & 0 & 0 & 0 & 1 & 0 & 0\\\\\n\t 34 & 54 & 55 & 0 & 0 & 1 & 0 & 0 & 0 & 1 & 0 & 0 & 0 & 0 & 0\\\\\n\t 58 & 71 & 63 & 0 & 0 & 1 & 0 & 0 & 0 & 0 & 0 & 0 & 0 & 1 & 0\\\\\n\t 55 & 71 & 73 & 0 & 0 & 0 & 1 & 0 & 0 & 0 & 0 & 0 & 1 & 0 & 0\\\\\n\t 71 & 79 & 82 & 0 & 0 & 0 & 0 & 1 & 0 & 0 & 0 & 1 & 0 & 1 & 0\\\\\n\t 71 & 85 & 81 & 0 & 0 & 0 & 0 & 0 & 0 & 1 & 0 & 0 & 0 & 0 & 0\\\\\n\\end{tabular}\n",
            "text/markdown": "\nA tibble: 6 × 15\n\n| math_score &lt;dbl&gt; | reading_score &lt;dbl&gt; | writing_score &lt;dbl&gt; | gender_male &lt;int&gt; | ethnicity_group B &lt;int&gt; | ethnicity_group C &lt;int&gt; | ethnicity_group D &lt;int&gt; | ethnicity_group E &lt;int&gt; | parental_education_bachelor's degree &lt;int&gt; | parental_education_high school &lt;int&gt; | parental_education_master's degree &lt;int&gt; | parental_education_some college &lt;int&gt; | parental_education_some high school &lt;int&gt; | lunch_standard &lt;int&gt; | preparation_course_none &lt;int&gt; |\n|---|---|---|---|---|---|---|---|---|---|---|---|---|---|---|\n| 62 | 56 | 61 | 0 | 1 | 0 | 0 | 0 | 0 | 0 | 0 | 0 | 1 | 0 | 0 |\n| 34 | 54 | 55 | 0 | 0 | 1 | 0 | 0 | 0 | 1 | 0 | 0 | 0 | 0 | 0 |\n| 58 | 71 | 63 | 0 | 0 | 1 | 0 | 0 | 0 | 0 | 0 | 0 | 0 | 1 | 0 |\n| 55 | 71 | 73 | 0 | 0 | 0 | 1 | 0 | 0 | 0 | 0 | 0 | 1 | 0 | 0 |\n| 71 | 79 | 82 | 0 | 0 | 0 | 0 | 1 | 0 | 0 | 0 | 1 | 0 | 1 | 0 |\n| 71 | 85 | 81 | 0 | 0 | 0 | 0 | 0 | 0 | 1 | 0 | 0 | 0 | 0 | 0 |\n\n",
            "text/html": [
              "<table class=\"dataframe\">\n",
              "<caption>A tibble: 6 × 15</caption>\n",
              "<thead>\n",
              "\t<tr><th scope=col>math_score</th><th scope=col>reading_score</th><th scope=col>writing_score</th><th scope=col>gender_male</th><th scope=col>ethnicity_group B</th><th scope=col>ethnicity_group C</th><th scope=col>ethnicity_group D</th><th scope=col>ethnicity_group E</th><th scope=col>parental_education_bachelor's degree</th><th scope=col>parental_education_high school</th><th scope=col>parental_education_master's degree</th><th scope=col>parental_education_some college</th><th scope=col>parental_education_some high school</th><th scope=col>lunch_standard</th><th scope=col>preparation_course_none</th></tr>\n",
              "\t<tr><th scope=col>&lt;dbl&gt;</th><th scope=col>&lt;dbl&gt;</th><th scope=col>&lt;dbl&gt;</th><th scope=col>&lt;int&gt;</th><th scope=col>&lt;int&gt;</th><th scope=col>&lt;int&gt;</th><th scope=col>&lt;int&gt;</th><th scope=col>&lt;int&gt;</th><th scope=col>&lt;int&gt;</th><th scope=col>&lt;int&gt;</th><th scope=col>&lt;int&gt;</th><th scope=col>&lt;int&gt;</th><th scope=col>&lt;int&gt;</th><th scope=col>&lt;int&gt;</th><th scope=col>&lt;int&gt;</th></tr>\n",
              "</thead>\n",
              "<tbody>\n",
              "\t<tr><td>62</td><td>56</td><td>61</td><td>0</td><td>1</td><td>0</td><td>0</td><td>0</td><td>0</td><td>0</td><td>0</td><td>0</td><td>1</td><td>0</td><td>0</td></tr>\n",
              "\t<tr><td>34</td><td>54</td><td>55</td><td>0</td><td>0</td><td>1</td><td>0</td><td>0</td><td>0</td><td>1</td><td>0</td><td>0</td><td>0</td><td>0</td><td>0</td></tr>\n",
              "\t<tr><td>58</td><td>71</td><td>63</td><td>0</td><td>0</td><td>1</td><td>0</td><td>0</td><td>0</td><td>0</td><td>0</td><td>0</td><td>0</td><td>1</td><td>0</td></tr>\n",
              "\t<tr><td>55</td><td>71</td><td>73</td><td>0</td><td>0</td><td>0</td><td>1</td><td>0</td><td>0</td><td>0</td><td>0</td><td>0</td><td>1</td><td>0</td><td>0</td></tr>\n",
              "\t<tr><td>71</td><td>79</td><td>82</td><td>0</td><td>0</td><td>0</td><td>0</td><td>1</td><td>0</td><td>0</td><td>0</td><td>1</td><td>0</td><td>1</td><td>0</td></tr>\n",
              "\t<tr><td>71</td><td>85</td><td>81</td><td>0</td><td>0</td><td>0</td><td>0</td><td>0</td><td>0</td><td>1</td><td>0</td><td>0</td><td>0</td><td>0</td><td>0</td></tr>\n",
              "</tbody>\n",
              "</table>\n"
            ]
          },
          "metadata": {}
        },
        {
          "output_type": "display_data",
          "data": {
            "text/plain": [
              "  math_score reading_score writing_score gender_male ethnicity_group B\n",
              "1  62        52            53            1           1                \n",
              "2 100        81            84            1           0                \n",
              "3  59        63            56            1           0                \n",
              "4  79        78            69            1           0                \n",
              "5  62        62            57            1           1                \n",
              "6  38        39            40            1           1                \n",
              "  ethnicity_group C ethnicity_group D ethnicity_group E\n",
              "1 0                 0                 0                \n",
              "2 0                 0                 1                \n",
              "3 1                 0                 0                \n",
              "4 0                 0                 1                \n",
              "5 0                 0                 0                \n",
              "6 0                 0                 0                \n",
              "  parental_education_bachelor's degree parental_education_high school\n",
              "1 0                                    0                             \n",
              "2 0                                    0                             \n",
              "3 0                                    1                             \n",
              "4 0                                    1                             \n",
              "5 0                                    0                             \n",
              "6 0                                    0                             \n",
              "  parental_education_master's degree parental_education_some college\n",
              "1 0                                  1                              \n",
              "2 0                                  1                              \n",
              "3 0                                  0                              \n",
              "4 0                                  0                              \n",
              "5 1                                  0                              \n",
              "6 0                                  1                              \n",
              "  parental_education_some high school lunch_standard preparation_course_none\n",
              "1 0                                   1              1                      \n",
              "2 0                                   1              1                      \n",
              "3 0                                   0              1                      \n",
              "4 0                                   1              1                      \n",
              "5 0                                   0              1                      \n",
              "6 0                                   1              1                      "
            ],
            "text/latex": "A tibble: 6 × 15\n\\begin{tabular}{lllllllllllllll}\n math\\_score & reading\\_score & writing\\_score & gender\\_male & ethnicity\\_group B & ethnicity\\_group C & ethnicity\\_group D & ethnicity\\_group E & parental\\_education\\_bachelor's degree & parental\\_education\\_high school & parental\\_education\\_master's degree & parental\\_education\\_some college & parental\\_education\\_some high school & lunch\\_standard & preparation\\_course\\_none\\\\\n <dbl> & <dbl> & <dbl> & <int> & <int> & <int> & <int> & <int> & <int> & <int> & <int> & <int> & <int> & <int> & <int>\\\\\n\\hline\n\t  62 & 52 & 53 & 1 & 1 & 0 & 0 & 0 & 0 & 0 & 0 & 1 & 0 & 1 & 1\\\\\n\t 100 & 81 & 84 & 1 & 0 & 0 & 0 & 1 & 0 & 0 & 0 & 1 & 0 & 1 & 1\\\\\n\t  59 & 63 & 56 & 1 & 0 & 1 & 0 & 0 & 0 & 1 & 0 & 0 & 0 & 0 & 1\\\\\n\t  79 & 78 & 69 & 1 & 0 & 0 & 0 & 1 & 0 & 1 & 0 & 0 & 0 & 1 & 1\\\\\n\t  62 & 62 & 57 & 1 & 1 & 0 & 0 & 0 & 0 & 0 & 1 & 0 & 0 & 0 & 1\\\\\n\t  38 & 39 & 40 & 1 & 1 & 0 & 0 & 0 & 0 & 0 & 0 & 1 & 0 & 1 & 1\\\\\n\\end{tabular}\n",
            "text/markdown": "\nA tibble: 6 × 15\n\n| math_score &lt;dbl&gt; | reading_score &lt;dbl&gt; | writing_score &lt;dbl&gt; | gender_male &lt;int&gt; | ethnicity_group B &lt;int&gt; | ethnicity_group C &lt;int&gt; | ethnicity_group D &lt;int&gt; | ethnicity_group E &lt;int&gt; | parental_education_bachelor's degree &lt;int&gt; | parental_education_high school &lt;int&gt; | parental_education_master's degree &lt;int&gt; | parental_education_some college &lt;int&gt; | parental_education_some high school &lt;int&gt; | lunch_standard &lt;int&gt; | preparation_course_none &lt;int&gt; |\n|---|---|---|---|---|---|---|---|---|---|---|---|---|---|---|\n|  62 | 52 | 53 | 1 | 1 | 0 | 0 | 0 | 0 | 0 | 0 | 1 | 0 | 1 | 1 |\n| 100 | 81 | 84 | 1 | 0 | 0 | 0 | 1 | 0 | 0 | 0 | 1 | 0 | 1 | 1 |\n|  59 | 63 | 56 | 1 | 0 | 1 | 0 | 0 | 0 | 1 | 0 | 0 | 0 | 0 | 1 |\n|  79 | 78 | 69 | 1 | 0 | 0 | 0 | 1 | 0 | 1 | 0 | 0 | 0 | 1 | 1 |\n|  62 | 62 | 57 | 1 | 1 | 0 | 0 | 0 | 0 | 0 | 1 | 0 | 0 | 0 | 1 |\n|  38 | 39 | 40 | 1 | 1 | 0 | 0 | 0 | 0 | 0 | 0 | 1 | 0 | 1 | 1 |\n\n",
            "text/html": [
              "<table class=\"dataframe\">\n",
              "<caption>A tibble: 6 × 15</caption>\n",
              "<thead>\n",
              "\t<tr><th scope=col>math_score</th><th scope=col>reading_score</th><th scope=col>writing_score</th><th scope=col>gender_male</th><th scope=col>ethnicity_group B</th><th scope=col>ethnicity_group C</th><th scope=col>ethnicity_group D</th><th scope=col>ethnicity_group E</th><th scope=col>parental_education_bachelor's degree</th><th scope=col>parental_education_high school</th><th scope=col>parental_education_master's degree</th><th scope=col>parental_education_some college</th><th scope=col>parental_education_some high school</th><th scope=col>lunch_standard</th><th scope=col>preparation_course_none</th></tr>\n",
              "\t<tr><th scope=col>&lt;dbl&gt;</th><th scope=col>&lt;dbl&gt;</th><th scope=col>&lt;dbl&gt;</th><th scope=col>&lt;int&gt;</th><th scope=col>&lt;int&gt;</th><th scope=col>&lt;int&gt;</th><th scope=col>&lt;int&gt;</th><th scope=col>&lt;int&gt;</th><th scope=col>&lt;int&gt;</th><th scope=col>&lt;int&gt;</th><th scope=col>&lt;int&gt;</th><th scope=col>&lt;int&gt;</th><th scope=col>&lt;int&gt;</th><th scope=col>&lt;int&gt;</th><th scope=col>&lt;int&gt;</th></tr>\n",
              "</thead>\n",
              "<tbody>\n",
              "\t<tr><td> 62</td><td>52</td><td>53</td><td>1</td><td>1</td><td>0</td><td>0</td><td>0</td><td>0</td><td>0</td><td>0</td><td>1</td><td>0</td><td>1</td><td>1</td></tr>\n",
              "\t<tr><td>100</td><td>81</td><td>84</td><td>1</td><td>0</td><td>0</td><td>0</td><td>1</td><td>0</td><td>0</td><td>0</td><td>1</td><td>0</td><td>1</td><td>1</td></tr>\n",
              "\t<tr><td> 59</td><td>63</td><td>56</td><td>1</td><td>0</td><td>1</td><td>0</td><td>0</td><td>0</td><td>1</td><td>0</td><td>0</td><td>0</td><td>0</td><td>1</td></tr>\n",
              "\t<tr><td> 79</td><td>78</td><td>69</td><td>1</td><td>0</td><td>0</td><td>0</td><td>1</td><td>0</td><td>1</td><td>0</td><td>0</td><td>0</td><td>1</td><td>1</td></tr>\n",
              "\t<tr><td> 62</td><td>62</td><td>57</td><td>1</td><td>1</td><td>0</td><td>0</td><td>0</td><td>0</td><td>0</td><td>1</td><td>0</td><td>0</td><td>0</td><td>1</td></tr>\n",
              "\t<tr><td> 38</td><td>39</td><td>40</td><td>1</td><td>1</td><td>0</td><td>0</td><td>0</td><td>0</td><td>0</td><td>0</td><td>1</td><td>0</td><td>1</td><td>1</td></tr>\n",
              "</tbody>\n",
              "</table>\n"
            ]
          },
          "metadata": {}
        }
      ]
    },
    {
      "cell_type": "markdown",
      "source": [
        "Nice! I see that it has added the columns at the end of the data frame (one of the questions I had was this!). Fab!"
      ],
      "metadata": {
        "id": "Dhipxo_HRKB4"
      },
      "id": "Dhipxo_HRKB4"
    },
    {
      "cell_type": "markdown",
      "metadata": {
        "id": "634ad052"
      },
      "source": [
        "### We want to work out if all the independent variables (eg. gender, race, parents education) predict students exam peformance. ###\n",
        "---\n",
        "\n",
        "At the moment, writing, math and reading scores are seperated.   \n",
        "Lets make a new column with the total scores.   \n",
        "\n",
        "To do this we use the ``mutate()`` function \n",
        "\n",
        "``` new_df <- mutate(data, new_column = ....) ```\n",
        "\n",
        "eg: \n",
        "\n",
        "``` new_df <- mutate(data, new_column = column1 / column2) ```  \n",
        "``` new_df <- mutate(data, new_column = column1 + column2) ```  \n",
        "``` new_df <- mutate(data, new_column = column1 * 2) ```  \n",
        "\n",
        "etc..\n",
        "\n",
        "### Exercise 6 ###\n",
        "---\n",
        "\n",
        "Using the mutate function, create a new column called ```total_score``` which contains the sum of each students reading, writing and math scores. "
      ],
      "id": "634ad052"
    },
    {
      "cell_type": "code",
      "metadata": {
        "id": "cd02714d",
        "colab": {
          "base_uri": "https://localhost:8080/",
          "height": 306
        },
        "outputId": "d2a398d9-3dd5-4290-addd-8ee4a4e85599"
      },
      "source": [
        "# Adding new column total_score to the data frame\n",
        "\n",
        "new_df <- mutate(data, total_score = math_score+ reading_score+writing_score)\n",
        "head(new_df)\n"
      ],
      "id": "cd02714d",
      "execution_count": 52,
      "outputs": [
        {
          "output_type": "display_data",
          "data": {
            "text/plain": [
              "  gender ethnicity parental_education lunch        preparation_course\n",
              "1 female group B   some high school   free/reduced completed         \n",
              "2 female group C   high school        free/reduced completed         \n",
              "3 female group C   associate's degree standard     completed         \n",
              "4 female group D   some high school   free/reduced completed         \n",
              "5 female group E   some college       standard     completed         \n",
              "6 female group A   high school        free/reduced completed         \n",
              "  math_score reading_score writing_score total_score\n",
              "1 62         56            61            179        \n",
              "2 34         54            55            143        \n",
              "3 58         71            63            192        \n",
              "4 55         71            73            199        \n",
              "5 71         79            82            232        \n",
              "6 71         85            81            237        "
            ],
            "text/latex": "A tibble: 6 × 9\n\\begin{tabular}{lllllllll}\n gender & ethnicity & parental\\_education & lunch & preparation\\_course & math\\_score & reading\\_score & writing\\_score & total\\_score\\\\\n <chr> & <chr> & <chr> & <chr> & <chr> & <dbl> & <dbl> & <dbl> & <dbl>\\\\\n\\hline\n\t female & group B & some high school   & free/reduced & completed & 62 & 56 & 61 & 179\\\\\n\t female & group C & high school        & free/reduced & completed & 34 & 54 & 55 & 143\\\\\n\t female & group C & associate's degree & standard     & completed & 58 & 71 & 63 & 192\\\\\n\t female & group D & some high school   & free/reduced & completed & 55 & 71 & 73 & 199\\\\\n\t female & group E & some college       & standard     & completed & 71 & 79 & 82 & 232\\\\\n\t female & group A & high school        & free/reduced & completed & 71 & 85 & 81 & 237\\\\\n\\end{tabular}\n",
            "text/markdown": "\nA tibble: 6 × 9\n\n| gender &lt;chr&gt; | ethnicity &lt;chr&gt; | parental_education &lt;chr&gt; | lunch &lt;chr&gt; | preparation_course &lt;chr&gt; | math_score &lt;dbl&gt; | reading_score &lt;dbl&gt; | writing_score &lt;dbl&gt; | total_score &lt;dbl&gt; |\n|---|---|---|---|---|---|---|---|---|\n| female | group B | some high school   | free/reduced | completed | 62 | 56 | 61 | 179 |\n| female | group C | high school        | free/reduced | completed | 34 | 54 | 55 | 143 |\n| female | group C | associate's degree | standard     | completed | 58 | 71 | 63 | 192 |\n| female | group D | some high school   | free/reduced | completed | 55 | 71 | 73 | 199 |\n| female | group E | some college       | standard     | completed | 71 | 79 | 82 | 232 |\n| female | group A | high school        | free/reduced | completed | 71 | 85 | 81 | 237 |\n\n",
            "text/html": [
              "<table class=\"dataframe\">\n",
              "<caption>A tibble: 6 × 9</caption>\n",
              "<thead>\n",
              "\t<tr><th scope=col>gender</th><th scope=col>ethnicity</th><th scope=col>parental_education</th><th scope=col>lunch</th><th scope=col>preparation_course</th><th scope=col>math_score</th><th scope=col>reading_score</th><th scope=col>writing_score</th><th scope=col>total_score</th></tr>\n",
              "\t<tr><th scope=col>&lt;chr&gt;</th><th scope=col>&lt;chr&gt;</th><th scope=col>&lt;chr&gt;</th><th scope=col>&lt;chr&gt;</th><th scope=col>&lt;chr&gt;</th><th scope=col>&lt;dbl&gt;</th><th scope=col>&lt;dbl&gt;</th><th scope=col>&lt;dbl&gt;</th><th scope=col>&lt;dbl&gt;</th></tr>\n",
              "</thead>\n",
              "<tbody>\n",
              "\t<tr><td>female</td><td>group B</td><td>some high school  </td><td>free/reduced</td><td>completed</td><td>62</td><td>56</td><td>61</td><td>179</td></tr>\n",
              "\t<tr><td>female</td><td>group C</td><td>high school       </td><td>free/reduced</td><td>completed</td><td>34</td><td>54</td><td>55</td><td>143</td></tr>\n",
              "\t<tr><td>female</td><td>group C</td><td>associate's degree</td><td>standard    </td><td>completed</td><td>58</td><td>71</td><td>63</td><td>192</td></tr>\n",
              "\t<tr><td>female</td><td>group D</td><td>some high school  </td><td>free/reduced</td><td>completed</td><td>55</td><td>71</td><td>73</td><td>199</td></tr>\n",
              "\t<tr><td>female</td><td>group E</td><td>some college      </td><td>standard    </td><td>completed</td><td>71</td><td>79</td><td>82</td><td>232</td></tr>\n",
              "\t<tr><td>female</td><td>group A</td><td>high school       </td><td>free/reduced</td><td>completed</td><td>71</td><td>85</td><td>81</td><td>237</td></tr>\n",
              "</tbody>\n",
              "</table>\n"
            ]
          },
          "metadata": {}
        }
      ]
    },
    {
      "cell_type": "markdown",
      "source": [
        "I want to compare this to the average score column we had made. So I will create a new data frame (version 2) to see what happens."
      ],
      "metadata": {
        "id": "fl_0po_GS3Jz"
      },
      "id": "fl_0po_GS3Jz"
    },
    {
      "cell_type": "code",
      "source": [
        "# Adding new column average_score to the data frame to compare with previous numpy worksheet.\n",
        "\n",
        "new_df_v2 <- mutate(data, average_score = (math_score+ reading_score+writing_score)/3)\n",
        "head(new_df_v2)"
      ],
      "metadata": {
        "id": "HX9LYU78S_8l",
        "outputId": "100fa37b-331a-40f3-c5b4-024425fcf939",
        "colab": {
          "base_uri": "https://localhost:8080/",
          "height": 306
        }
      },
      "id": "HX9LYU78S_8l",
      "execution_count": 53,
      "outputs": [
        {
          "output_type": "display_data",
          "data": {
            "text/plain": [
              "  gender ethnicity parental_education lunch        preparation_course\n",
              "1 female group B   some high school   free/reduced completed         \n",
              "2 female group C   high school        free/reduced completed         \n",
              "3 female group C   associate's degree standard     completed         \n",
              "4 female group D   some high school   free/reduced completed         \n",
              "5 female group E   some college       standard     completed         \n",
              "6 female group A   high school        free/reduced completed         \n",
              "  math_score reading_score writing_score average_score\n",
              "1 62         56            61            59.66667     \n",
              "2 34         54            55            47.66667     \n",
              "3 58         71            63            64.00000     \n",
              "4 55         71            73            66.33333     \n",
              "5 71         79            82            77.33333     \n",
              "6 71         85            81            79.00000     "
            ],
            "text/latex": "A tibble: 6 × 9\n\\begin{tabular}{lllllllll}\n gender & ethnicity & parental\\_education & lunch & preparation\\_course & math\\_score & reading\\_score & writing\\_score & average\\_score\\\\\n <chr> & <chr> & <chr> & <chr> & <chr> & <dbl> & <dbl> & <dbl> & <dbl>\\\\\n\\hline\n\t female & group B & some high school   & free/reduced & completed & 62 & 56 & 61 & 59.66667\\\\\n\t female & group C & high school        & free/reduced & completed & 34 & 54 & 55 & 47.66667\\\\\n\t female & group C & associate's degree & standard     & completed & 58 & 71 & 63 & 64.00000\\\\\n\t female & group D & some high school   & free/reduced & completed & 55 & 71 & 73 & 66.33333\\\\\n\t female & group E & some college       & standard     & completed & 71 & 79 & 82 & 77.33333\\\\\n\t female & group A & high school        & free/reduced & completed & 71 & 85 & 81 & 79.00000\\\\\n\\end{tabular}\n",
            "text/markdown": "\nA tibble: 6 × 9\n\n| gender &lt;chr&gt; | ethnicity &lt;chr&gt; | parental_education &lt;chr&gt; | lunch &lt;chr&gt; | preparation_course &lt;chr&gt; | math_score &lt;dbl&gt; | reading_score &lt;dbl&gt; | writing_score &lt;dbl&gt; | average_score &lt;dbl&gt; |\n|---|---|---|---|---|---|---|---|---|\n| female | group B | some high school   | free/reduced | completed | 62 | 56 | 61 | 59.66667 |\n| female | group C | high school        | free/reduced | completed | 34 | 54 | 55 | 47.66667 |\n| female | group C | associate's degree | standard     | completed | 58 | 71 | 63 | 64.00000 |\n| female | group D | some high school   | free/reduced | completed | 55 | 71 | 73 | 66.33333 |\n| female | group E | some college       | standard     | completed | 71 | 79 | 82 | 77.33333 |\n| female | group A | high school        | free/reduced | completed | 71 | 85 | 81 | 79.00000 |\n\n",
            "text/html": [
              "<table class=\"dataframe\">\n",
              "<caption>A tibble: 6 × 9</caption>\n",
              "<thead>\n",
              "\t<tr><th scope=col>gender</th><th scope=col>ethnicity</th><th scope=col>parental_education</th><th scope=col>lunch</th><th scope=col>preparation_course</th><th scope=col>math_score</th><th scope=col>reading_score</th><th scope=col>writing_score</th><th scope=col>average_score</th></tr>\n",
              "\t<tr><th scope=col>&lt;chr&gt;</th><th scope=col>&lt;chr&gt;</th><th scope=col>&lt;chr&gt;</th><th scope=col>&lt;chr&gt;</th><th scope=col>&lt;chr&gt;</th><th scope=col>&lt;dbl&gt;</th><th scope=col>&lt;dbl&gt;</th><th scope=col>&lt;dbl&gt;</th><th scope=col>&lt;dbl&gt;</th></tr>\n",
              "</thead>\n",
              "<tbody>\n",
              "\t<tr><td>female</td><td>group B</td><td>some high school  </td><td>free/reduced</td><td>completed</td><td>62</td><td>56</td><td>61</td><td>59.66667</td></tr>\n",
              "\t<tr><td>female</td><td>group C</td><td>high school       </td><td>free/reduced</td><td>completed</td><td>34</td><td>54</td><td>55</td><td>47.66667</td></tr>\n",
              "\t<tr><td>female</td><td>group C</td><td>associate's degree</td><td>standard    </td><td>completed</td><td>58</td><td>71</td><td>63</td><td>64.00000</td></tr>\n",
              "\t<tr><td>female</td><td>group D</td><td>some high school  </td><td>free/reduced</td><td>completed</td><td>55</td><td>71</td><td>73</td><td>66.33333</td></tr>\n",
              "\t<tr><td>female</td><td>group E</td><td>some college      </td><td>standard    </td><td>completed</td><td>71</td><td>79</td><td>82</td><td>77.33333</td></tr>\n",
              "\t<tr><td>female</td><td>group A</td><td>high school       </td><td>free/reduced</td><td>completed</td><td>71</td><td>85</td><td>81</td><td>79.00000</td></tr>\n",
              "</tbody>\n",
              "</table>\n"
            ]
          },
          "metadata": {}
        }
      ]
    },
    {
      "cell_type": "markdown",
      "metadata": {
        "id": "5a5c2c36"
      },
      "source": [
        "### We are now ready to do our multiple linear regression ###\n",
        "---\n",
        "\n",
        "We are looking to find out using our dataset if we can predict student exam performance. \n",
        "\n",
        "Therefore, total_score is our dependent variable (DV) as it can be changed by the other variables \n",
        "\n",
        "Gender, ethnicity, parental_education, lunch and preparation_course are therefore our independent variables (IV) as they cannot be affected by students exam performance.   \n",
        "\n",
        "To do a linear regression, we are going to create a model that tests how significantly the IV's impact the DV.   \n",
        "\n",
        "```\n",
        "regression_model <- lm(DV ~ IV1 + IV2 + IV3..., data = df)\n",
        "summary(regression_model)\n",
        "```\n",
        "\n",
        "The above code does a very similar thing to stats.linregress in python! \n",
        "\n",
        "**Some of the new dummy variable names are seperated by spaces, so to include them enclose them in \\` ` (backtick)**\n",
        "\n",
        "eg. \\` ethnicity_group B `\n",
        "\n",
        "### Exercise 7 ###\n",
        "---\n",
        "Perform a linear regression using total_score as the DV and display the summary data \n"
      ],
      "id": "5a5c2c36"
    },
    {
      "cell_type": "code",
      "metadata": {
        "id": "54c682af"
      },
      "source": [
        ""
      ],
      "id": "54c682af",
      "execution_count": null,
      "outputs": []
    },
    {
      "cell_type": "markdown",
      "metadata": {
        "id": "39a48f86"
      },
      "source": [
        "### Lets understand the output ### \n",
        "---\n",
        "\n",
        "**Statistical significance**\n",
        "\n",
        "If something is statistically significant it means that the probability that the hypothesis (the thing your asking) is true/correct, is very very high aka less than 5% chance that the effect on the DV is random. \n",
        "\n",
        "So when reading a regression output, if the p-value (the right hand column) is less than 0.05 then it means it is significant, and more than 95% likely to be affecting the DV. \n",
        "\n",
        "In R, *'s are used to indicate which variables are significantly predicting the dependent variable. \n",
        "\n",
        "**The regression equation** \n",
        "\n",
        "The equation for a line of best fit is y = mx + c or y = slope*x + intercept. \n",
        "\n",
        "y = dependent variable\n",
        "x = independent variable\n",
        "\n",
        "In a multiple linear regression, we have multiple x. \n",
        "\n",
        "The equation is therefore:\n",
        "\n",
        "```y = intercept + slope1*x1 + slope2*x2... ```\n",
        "\n",
        "Each x (IV) has its own slope. \n",
        "\n",
        "**Coefficents (slope)**\n",
        "\n",
        "The estimates column lists all the regression coefficents (slopes) for each variable. What these mean in simple terms is how much the dependent variable is increased or decreased by that variable. These only matter however, if the variable is significant.   \n",
        "\n",
        "So for example, if gender_male was significant (p-value < 0.05) and had a positive coefficent, it would mean that male students were performing significantly better in their exams than female students. Therefore, gender predicted exam performance. A negative coefficent would mean that the score is less for males or rather more for females. \n",
        "\n",
        "**R squared**\n",
        "\n",
        "R^2 is how well your variables explain the variance in value of the dependent variable. So the higher the R^2 value, the better your model explains the change in value of your dependent variable. \n",
        "\n",
        "A low R^2 doesnt necessarily mean that your model is bad, but indicates that the variables in your dataset are not telling the whole story! \n",
        "\n",
        "For example, a R^2 of 0.50 would mean that your data only explains 50% of the change in scores between each student. \n",
        "\n",
        "Essentially it tells you how well your model fits the data. \n",
        "\n",
        "\n",
        "**F-Statistic**\n",
        "\n",
        "It shows results of a complex mathematical formula. But we only need to worry about it's significance! If your F statistic is significant ( p-value < 0.05), it means that when compared with a model which does not have any of the independent variables in it, your model is better. \n",
        "\n",
        "\n",
        "### Exercise 8 ###\n",
        "---\n",
        "\n",
        "Read the regression output and write some comments on the findings. \n",
        "Try to note which variables are significant, and evaluate how well the variables explain student performance. \n"
      ],
      "id": "39a48f86"
    },
    {
      "cell_type": "markdown",
      "source": [
        "Write comments here "
      ],
      "metadata": {
        "id": "SAPWYZcwCEnA"
      },
      "id": "SAPWYZcwCEnA"
    },
    {
      "cell_type": "markdown",
      "metadata": {
        "id": "e23d1213"
      },
      "source": [
        "### Assumptions ###\n",
        "---\n",
        "\n",
        "Thinking back to the 'testing for normality' worksheet...\n",
        "\n",
        "When we do linear regressions we have to assume that our data is guassian (normally distributed). We therefore now need to test that our assumptions of normality are true and that our model is therefore meaningful. \n",
        "\n",
        "1. linearity :\n",
        "\n",
        "``` plot(model, 1) ```\n",
        "\n",
        "A largely horizontal line at about 0 means that our data has good linearity, meaning our model is good!\n",
        "\n",
        "2. Q-Q plot or P-P plot: \n",
        "\n",
        "``` plot(model, 2) ```\n",
        "\n",
        "The points following a straightish diagonal line means that again we have good normality. \n",
        "\n",
        "\n",
        "### Exercise 9 ###\n",
        "---\n",
        "\n",
        "Check both the assumptions of your model and write a comment with your findings"
      ],
      "id": "e23d1213"
    },
    {
      "cell_type": "code",
      "metadata": {
        "id": "4d1f4186"
      },
      "source": [
        ""
      ],
      "id": "4d1f4186",
      "execution_count": null,
      "outputs": []
    },
    {
      "cell_type": "markdown",
      "metadata": {
        "id": "ZwGSPCR_Dwud"
      },
      "source": [
        "# Exploring the data\n",
        "---\n",
        "\n",
        "In the previous exercises, we only looked at the effect on `total score`. Now that we know that some of our variables did significantly predict student exam scores let's explore it in more detail. \n",
        "\n",
        "### Exercise 10\n",
        "---\n",
        "\n",
        "* Run a regression called `write_mod` using `writing_score` as the DV \n",
        "* Run a regression called `read_mod` using `reading_score` as the DV\n",
        "* Run a regression called `math_mod` using `math_score` as the DV \n",
        "* Compare the results with the model from exercise 7 and comment your findings\n",
        "* Compare the results of each model with each other. What inferences can you \n",
        "make?\n",
        "* Look at the difference in coefficents of significant variables between models - what does it tell you?\n"
      ],
      "id": "ZwGSPCR_Dwud"
    },
    {
      "cell_type": "code",
      "metadata": {
        "id": "nbBN0RoUJQww"
      },
      "source": [
        ""
      ],
      "id": "nbBN0RoUJQww",
      "execution_count": null,
      "outputs": []
    },
    {
      "cell_type": "markdown",
      "metadata": {
        "id": "JgibNCXnKvHE"
      },
      "source": [
        "# Reflection\n",
        "----\n",
        "\n",
        "## What skills have you demonstrated in completing this notebook?"
      ],
      "id": "JgibNCXnKvHE"
    },
    {
      "cell_type": "markdown",
      "metadata": {
        "id": "PWZ6NctwKv88"
      },
      "source": [
        "Your answer:"
      ],
      "id": "PWZ6NctwKv88"
    },
    {
      "cell_type": "markdown",
      "metadata": {
        "id": "Y4SWfDOCKz34"
      },
      "source": [
        "## What caused you the most difficulty?"
      ],
      "id": "Y4SWfDOCKz34"
    },
    {
      "cell_type": "markdown",
      "metadata": {
        "id": "Y84WximLK0gL"
      },
      "source": [
        "Your answer:"
      ],
      "id": "Y84WximLK0gL"
    }
  ]
}