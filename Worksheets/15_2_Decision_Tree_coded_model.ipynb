{
  "nbformat": 4,
  "nbformat_minor": 0,
  "metadata": {
    "colab": {
      "name": "15.2 Decision-Tree-coded-model.ipynb",
      "provenance": [],
      "collapsed_sections": [],
      "include_colab_link": true
    },
    "kernelspec": {
      "display_name": "Python 3",
      "language": "python",
      "name": "python3"
    },
    "language_info": {
      "codemirror_mode": {
        "name": "ipython",
        "version": 3
      },
      "file_extension": ".py",
      "mimetype": "text/x-python",
      "name": "python",
      "nbconvert_exporter": "python",
      "pygments_lexer": "ipython3",
      "version": "3.8.5"
    }
  },
  "cells": [
    {
      "cell_type": "markdown",
      "metadata": {
        "id": "view-in-github",
        "colab_type": "text"
      },
      "source": [
        "<a href=\"https://colab.research.google.com/github/JaySanthanam/Programming-for-data/blob/main/Worksheets/15_2_Decision_Tree_coded_model.ipynb\" target=\"_parent\"><img src=\"https://colab.research.google.com/assets/colab-badge.svg\" alt=\"Open In Colab\"/></a>"
      ]
    },
    {
      "cell_type": "markdown",
      "metadata": {
        "id": "9HyLZK84N75s"
      },
      "source": [
        "# Coding a simple decision tree\n",
        "---\n",
        "\n",
        "In this worksheet we are going to work with a data set, using the idea of a decision tree class.  We are going to simplify the model and use Python code to make a simple decision tree classification model.  We will do this for two reasons:\n",
        "*   writing the code is often good for helping to understand what is going on under the bonnet of a library function\n",
        "*   it is a good coding exercise for practice as it mostly depends on calculations and if..elif..else statements\n",
        "\n",
        "In this worksheet we are going to code a decision tree which will use the calculated probabilities to make decisions about whether a row of given data would be classified as Iris-virginica, or not, based on sepal and petal dimensions.  It is easier to classify between two values (Iris-virginica or not).  Later, using this information, species would be further predicted by probabilities of error.\n",
        "\n",
        "![Iris-petals and sepals](https://www.math.umd.edu/~petersd/666/html/iris_with_labels.jpg)\n",
        "\n",
        "The workflow is:\n",
        "*  divide the data set into 70% of the rows for training and 30% for testing  (we can increase the size of the training set later)\n",
        "*  find the median for each of the 4 size columns\n",
        "*  calculate the proportion of each column that are on or above median that are of a species (ie proportion of petal-lengths on or above median that are Iris-virginica)\n",
        "*  infer the proportion of each that are not of that species (using 1 - proportion above).  In both cases we are looking to find if either of these is 1, which could be infered as definitely not that species. \n",
        "*  calculate a Gini Index that will indicate the probability that a prediction will be incorrect\n",
        "*  use the results of the Gini Index to model a decision tree\n",
        "*  code the decision tree model into a function that will return whether or not a row in the test set is predicted to be of species Iris-virginica\n",
        "*  use the decision tree function to predict, for each row in the test set, if the species will be Iris-virginicia or not, using a set of nested if statements to classify\n",
        "*  compare the predicted values against the actual values in the test set - what proportion were predicted correctly?\n"
      ]
    },
    {
      "cell_type": "markdown",
      "metadata": {
        "id": "4iR8g8h_Ol0j"
      },
      "source": [
        "### Exercise 1 - investigate the iris data set\n",
        "---\n",
        "Let's start by looking at the data.  We are going to use a data set that contains data on iris flowers.\n",
        "\n",
        "Read the data at this location: https://raw.githubusercontent.com/jbrownlee/Datasets/master/iris.csv into a dataframe called iris_data\n",
        "\n",
        "The columns in the CSV file do not have headings, when you read the file, add column headings like this:\n",
        "```\n",
        "url = \"https://raw.githubusercontent.com/jbrownlee/Datasets/master/iris.csv\"\n",
        "names = ['sepal-length', 'sepal-width', 'petal-length', 'petal-width', 'species']\n",
        "iris_data = pd.read_csv(url, name=names)\n",
        "```\n",
        "*  Take a look at the column info (how many columns, what type of data, any missing data?)\n",
        "*  Take a look at the data values in the first 10 and the last 10 records to get an idea of the type of values included\n",
        "*  Find out how many unique values there are in the species column\n",
        "*  Find out the maximum, minimum, median and upper and lower quartile values in each of the columns\n"
      ]
    },
    {
      "cell_type": "code",
      "metadata": {
        "id": "eGZuOLPYPgL5",
        "colab": {
          "base_uri": "https://localhost:8080/",
          "height": 423
        },
        "outputId": "e4f45e6d-6805-4427-dbef-36c8c17b35d0"
      },
      "source": [
        "import pandas as pd\n",
        "url = \"https://raw.githubusercontent.com/jbrownlee/Datasets/master/iris.csv\"\n",
        "names = ['sepal-length', 'sepal-width', 'petal-length', 'petal-width', 'species']\n",
        "iris_data = pd.read_csv(url, names=names)\n",
        "iris_data"
      ],
      "execution_count": 52,
      "outputs": [
        {
          "output_type": "execute_result",
          "data": {
            "text/html": [
              "\n",
              "  <div id=\"df-417f7643-4ad9-4b68-b531-476cf2c86dd9\">\n",
              "    <div class=\"colab-df-container\">\n",
              "      <div>\n",
              "<style scoped>\n",
              "    .dataframe tbody tr th:only-of-type {\n",
              "        vertical-align: middle;\n",
              "    }\n",
              "\n",
              "    .dataframe tbody tr th {\n",
              "        vertical-align: top;\n",
              "    }\n",
              "\n",
              "    .dataframe thead th {\n",
              "        text-align: right;\n",
              "    }\n",
              "</style>\n",
              "<table border=\"1\" class=\"dataframe\">\n",
              "  <thead>\n",
              "    <tr style=\"text-align: right;\">\n",
              "      <th></th>\n",
              "      <th>sepal-length</th>\n",
              "      <th>sepal-width</th>\n",
              "      <th>petal-length</th>\n",
              "      <th>petal-width</th>\n",
              "      <th>species</th>\n",
              "    </tr>\n",
              "  </thead>\n",
              "  <tbody>\n",
              "    <tr>\n",
              "      <th>0</th>\n",
              "      <td>5.1</td>\n",
              "      <td>3.5</td>\n",
              "      <td>1.4</td>\n",
              "      <td>0.2</td>\n",
              "      <td>Iris-setosa</td>\n",
              "    </tr>\n",
              "    <tr>\n",
              "      <th>1</th>\n",
              "      <td>4.9</td>\n",
              "      <td>3.0</td>\n",
              "      <td>1.4</td>\n",
              "      <td>0.2</td>\n",
              "      <td>Iris-setosa</td>\n",
              "    </tr>\n",
              "    <tr>\n",
              "      <th>2</th>\n",
              "      <td>4.7</td>\n",
              "      <td>3.2</td>\n",
              "      <td>1.3</td>\n",
              "      <td>0.2</td>\n",
              "      <td>Iris-setosa</td>\n",
              "    </tr>\n",
              "    <tr>\n",
              "      <th>3</th>\n",
              "      <td>4.6</td>\n",
              "      <td>3.1</td>\n",
              "      <td>1.5</td>\n",
              "      <td>0.2</td>\n",
              "      <td>Iris-setosa</td>\n",
              "    </tr>\n",
              "    <tr>\n",
              "      <th>4</th>\n",
              "      <td>5.0</td>\n",
              "      <td>3.6</td>\n",
              "      <td>1.4</td>\n",
              "      <td>0.2</td>\n",
              "      <td>Iris-setosa</td>\n",
              "    </tr>\n",
              "    <tr>\n",
              "      <th>...</th>\n",
              "      <td>...</td>\n",
              "      <td>...</td>\n",
              "      <td>...</td>\n",
              "      <td>...</td>\n",
              "      <td>...</td>\n",
              "    </tr>\n",
              "    <tr>\n",
              "      <th>145</th>\n",
              "      <td>6.7</td>\n",
              "      <td>3.0</td>\n",
              "      <td>5.2</td>\n",
              "      <td>2.3</td>\n",
              "      <td>Iris-virginica</td>\n",
              "    </tr>\n",
              "    <tr>\n",
              "      <th>146</th>\n",
              "      <td>6.3</td>\n",
              "      <td>2.5</td>\n",
              "      <td>5.0</td>\n",
              "      <td>1.9</td>\n",
              "      <td>Iris-virginica</td>\n",
              "    </tr>\n",
              "    <tr>\n",
              "      <th>147</th>\n",
              "      <td>6.5</td>\n",
              "      <td>3.0</td>\n",
              "      <td>5.2</td>\n",
              "      <td>2.0</td>\n",
              "      <td>Iris-virginica</td>\n",
              "    </tr>\n",
              "    <tr>\n",
              "      <th>148</th>\n",
              "      <td>6.2</td>\n",
              "      <td>3.4</td>\n",
              "      <td>5.4</td>\n",
              "      <td>2.3</td>\n",
              "      <td>Iris-virginica</td>\n",
              "    </tr>\n",
              "    <tr>\n",
              "      <th>149</th>\n",
              "      <td>5.9</td>\n",
              "      <td>3.0</td>\n",
              "      <td>5.1</td>\n",
              "      <td>1.8</td>\n",
              "      <td>Iris-virginica</td>\n",
              "    </tr>\n",
              "  </tbody>\n",
              "</table>\n",
              "<p>150 rows × 5 columns</p>\n",
              "</div>\n",
              "      <button class=\"colab-df-convert\" onclick=\"convertToInteractive('df-417f7643-4ad9-4b68-b531-476cf2c86dd9')\"\n",
              "              title=\"Convert this dataframe to an interactive table.\"\n",
              "              style=\"display:none;\">\n",
              "        \n",
              "  <svg xmlns=\"http://www.w3.org/2000/svg\" height=\"24px\"viewBox=\"0 0 24 24\"\n",
              "       width=\"24px\">\n",
              "    <path d=\"M0 0h24v24H0V0z\" fill=\"none\"/>\n",
              "    <path d=\"M18.56 5.44l.94 2.06.94-2.06 2.06-.94-2.06-.94-.94-2.06-.94 2.06-2.06.94zm-11 1L8.5 8.5l.94-2.06 2.06-.94-2.06-.94L8.5 2.5l-.94 2.06-2.06.94zm10 10l.94 2.06.94-2.06 2.06-.94-2.06-.94-.94-2.06-.94 2.06-2.06.94z\"/><path d=\"M17.41 7.96l-1.37-1.37c-.4-.4-.92-.59-1.43-.59-.52 0-1.04.2-1.43.59L10.3 9.45l-7.72 7.72c-.78.78-.78 2.05 0 2.83L4 21.41c.39.39.9.59 1.41.59.51 0 1.02-.2 1.41-.59l7.78-7.78 2.81-2.81c.8-.78.8-2.07 0-2.86zM5.41 20L4 18.59l7.72-7.72 1.47 1.35L5.41 20z\"/>\n",
              "  </svg>\n",
              "      </button>\n",
              "      \n",
              "  <style>\n",
              "    .colab-df-container {\n",
              "      display:flex;\n",
              "      flex-wrap:wrap;\n",
              "      gap: 12px;\n",
              "    }\n",
              "\n",
              "    .colab-df-convert {\n",
              "      background-color: #E8F0FE;\n",
              "      border: none;\n",
              "      border-radius: 50%;\n",
              "      cursor: pointer;\n",
              "      display: none;\n",
              "      fill: #1967D2;\n",
              "      height: 32px;\n",
              "      padding: 0 0 0 0;\n",
              "      width: 32px;\n",
              "    }\n",
              "\n",
              "    .colab-df-convert:hover {\n",
              "      background-color: #E2EBFA;\n",
              "      box-shadow: 0px 1px 2px rgba(60, 64, 67, 0.3), 0px 1px 3px 1px rgba(60, 64, 67, 0.15);\n",
              "      fill: #174EA6;\n",
              "    }\n",
              "\n",
              "    [theme=dark] .colab-df-convert {\n",
              "      background-color: #3B4455;\n",
              "      fill: #D2E3FC;\n",
              "    }\n",
              "\n",
              "    [theme=dark] .colab-df-convert:hover {\n",
              "      background-color: #434B5C;\n",
              "      box-shadow: 0px 1px 3px 1px rgba(0, 0, 0, 0.15);\n",
              "      filter: drop-shadow(0px 1px 2px rgba(0, 0, 0, 0.3));\n",
              "      fill: #FFFFFF;\n",
              "    }\n",
              "  </style>\n",
              "\n",
              "      <script>\n",
              "        const buttonEl =\n",
              "          document.querySelector('#df-417f7643-4ad9-4b68-b531-476cf2c86dd9 button.colab-df-convert');\n",
              "        buttonEl.style.display =\n",
              "          google.colab.kernel.accessAllowed ? 'block' : 'none';\n",
              "\n",
              "        async function convertToInteractive(key) {\n",
              "          const element = document.querySelector('#df-417f7643-4ad9-4b68-b531-476cf2c86dd9');\n",
              "          const dataTable =\n",
              "            await google.colab.kernel.invokeFunction('convertToInteractive',\n",
              "                                                     [key], {});\n",
              "          if (!dataTable) return;\n",
              "\n",
              "          const docLinkHtml = 'Like what you see? Visit the ' +\n",
              "            '<a target=\"_blank\" href=https://colab.research.google.com/notebooks/data_table.ipynb>data table notebook</a>'\n",
              "            + ' to learn more about interactive tables.';\n",
              "          element.innerHTML = '';\n",
              "          dataTable['output_type'] = 'display_data';\n",
              "          await google.colab.output.renderOutput(dataTable, element);\n",
              "          const docLink = document.createElement('div');\n",
              "          docLink.innerHTML = docLinkHtml;\n",
              "          element.appendChild(docLink);\n",
              "        }\n",
              "      </script>\n",
              "    </div>\n",
              "  </div>\n",
              "  "
            ],
            "text/plain": [
              "     sepal-length  sepal-width  petal-length  petal-width         species\n",
              "0             5.1          3.5           1.4          0.2     Iris-setosa\n",
              "1             4.9          3.0           1.4          0.2     Iris-setosa\n",
              "2             4.7          3.2           1.3          0.2     Iris-setosa\n",
              "3             4.6          3.1           1.5          0.2     Iris-setosa\n",
              "4             5.0          3.6           1.4          0.2     Iris-setosa\n",
              "..            ...          ...           ...          ...             ...\n",
              "145           6.7          3.0           5.2          2.3  Iris-virginica\n",
              "146           6.3          2.5           5.0          1.9  Iris-virginica\n",
              "147           6.5          3.0           5.2          2.0  Iris-virginica\n",
              "148           6.2          3.4           5.4          2.3  Iris-virginica\n",
              "149           5.9          3.0           5.1          1.8  Iris-virginica\n",
              "\n",
              "[150 rows x 5 columns]"
            ]
          },
          "metadata": {},
          "execution_count": 52
        }
      ]
    },
    {
      "cell_type": "markdown",
      "metadata": {
        "id": "0b8Pm0bK_Ca1"
      },
      "source": [
        "### Exercise 2 - split the data into train and test sets\n",
        "---\n",
        "\n",
        "Split the data set into and 70% train, 30% test, split.  From now, just use the train data set.\n"
      ]
    },
    {
      "cell_type": "code",
      "metadata": {
        "id": "CSG-ZEPEawMJ",
        "colab": {
          "base_uri": "https://localhost:8080/",
          "height": 300
        },
        "outputId": "71fb4eb0-6d9b-4cfc-b2cb-130b6d36fb25"
      },
      "source": [
        "# import the train_test_split function\n",
        "from sklearn.model_selection import train_test_split\n",
        "\n",
        "# create the classification variables from the all columns\n",
        "train_orig, test = train_test_split(iris_data, test_size=0.30)\n",
        "train_orig.describe()"
      ],
      "execution_count": 53,
      "outputs": [
        {
          "output_type": "execute_result",
          "data": {
            "text/html": [
              "\n",
              "  <div id=\"df-d3095931-59fe-46e0-9af0-9a0f477b1f8c\">\n",
              "    <div class=\"colab-df-container\">\n",
              "      <div>\n",
              "<style scoped>\n",
              "    .dataframe tbody tr th:only-of-type {\n",
              "        vertical-align: middle;\n",
              "    }\n",
              "\n",
              "    .dataframe tbody tr th {\n",
              "        vertical-align: top;\n",
              "    }\n",
              "\n",
              "    .dataframe thead th {\n",
              "        text-align: right;\n",
              "    }\n",
              "</style>\n",
              "<table border=\"1\" class=\"dataframe\">\n",
              "  <thead>\n",
              "    <tr style=\"text-align: right;\">\n",
              "      <th></th>\n",
              "      <th>sepal-length</th>\n",
              "      <th>sepal-width</th>\n",
              "      <th>petal-length</th>\n",
              "      <th>petal-width</th>\n",
              "    </tr>\n",
              "  </thead>\n",
              "  <tbody>\n",
              "    <tr>\n",
              "      <th>count</th>\n",
              "      <td>105.000000</td>\n",
              "      <td>105.000000</td>\n",
              "      <td>105.000000</td>\n",
              "      <td>105.000000</td>\n",
              "    </tr>\n",
              "    <tr>\n",
              "      <th>mean</th>\n",
              "      <td>5.874286</td>\n",
              "      <td>3.059048</td>\n",
              "      <td>3.819048</td>\n",
              "      <td>1.222857</td>\n",
              "    </tr>\n",
              "    <tr>\n",
              "      <th>std</th>\n",
              "      <td>0.821470</td>\n",
              "      <td>0.450789</td>\n",
              "      <td>1.767119</td>\n",
              "      <td>0.751186</td>\n",
              "    </tr>\n",
              "    <tr>\n",
              "      <th>min</th>\n",
              "      <td>4.300000</td>\n",
              "      <td>2.000000</td>\n",
              "      <td>1.000000</td>\n",
              "      <td>0.100000</td>\n",
              "    </tr>\n",
              "    <tr>\n",
              "      <th>25%</th>\n",
              "      <td>5.100000</td>\n",
              "      <td>2.800000</td>\n",
              "      <td>1.600000</td>\n",
              "      <td>0.400000</td>\n",
              "    </tr>\n",
              "    <tr>\n",
              "      <th>50%</th>\n",
              "      <td>5.800000</td>\n",
              "      <td>3.000000</td>\n",
              "      <td>4.400000</td>\n",
              "      <td>1.300000</td>\n",
              "    </tr>\n",
              "    <tr>\n",
              "      <th>75%</th>\n",
              "      <td>6.400000</td>\n",
              "      <td>3.300000</td>\n",
              "      <td>5.100000</td>\n",
              "      <td>1.800000</td>\n",
              "    </tr>\n",
              "    <tr>\n",
              "      <th>max</th>\n",
              "      <td>7.700000</td>\n",
              "      <td>4.400000</td>\n",
              "      <td>6.700000</td>\n",
              "      <td>2.500000</td>\n",
              "    </tr>\n",
              "  </tbody>\n",
              "</table>\n",
              "</div>\n",
              "      <button class=\"colab-df-convert\" onclick=\"convertToInteractive('df-d3095931-59fe-46e0-9af0-9a0f477b1f8c')\"\n",
              "              title=\"Convert this dataframe to an interactive table.\"\n",
              "              style=\"display:none;\">\n",
              "        \n",
              "  <svg xmlns=\"http://www.w3.org/2000/svg\" height=\"24px\"viewBox=\"0 0 24 24\"\n",
              "       width=\"24px\">\n",
              "    <path d=\"M0 0h24v24H0V0z\" fill=\"none\"/>\n",
              "    <path d=\"M18.56 5.44l.94 2.06.94-2.06 2.06-.94-2.06-.94-.94-2.06-.94 2.06-2.06.94zm-11 1L8.5 8.5l.94-2.06 2.06-.94-2.06-.94L8.5 2.5l-.94 2.06-2.06.94zm10 10l.94 2.06.94-2.06 2.06-.94-2.06-.94-.94-2.06-.94 2.06-2.06.94z\"/><path d=\"M17.41 7.96l-1.37-1.37c-.4-.4-.92-.59-1.43-.59-.52 0-1.04.2-1.43.59L10.3 9.45l-7.72 7.72c-.78.78-.78 2.05 0 2.83L4 21.41c.39.39.9.59 1.41.59.51 0 1.02-.2 1.41-.59l7.78-7.78 2.81-2.81c.8-.78.8-2.07 0-2.86zM5.41 20L4 18.59l7.72-7.72 1.47 1.35L5.41 20z\"/>\n",
              "  </svg>\n",
              "      </button>\n",
              "      \n",
              "  <style>\n",
              "    .colab-df-container {\n",
              "      display:flex;\n",
              "      flex-wrap:wrap;\n",
              "      gap: 12px;\n",
              "    }\n",
              "\n",
              "    .colab-df-convert {\n",
              "      background-color: #E8F0FE;\n",
              "      border: none;\n",
              "      border-radius: 50%;\n",
              "      cursor: pointer;\n",
              "      display: none;\n",
              "      fill: #1967D2;\n",
              "      height: 32px;\n",
              "      padding: 0 0 0 0;\n",
              "      width: 32px;\n",
              "    }\n",
              "\n",
              "    .colab-df-convert:hover {\n",
              "      background-color: #E2EBFA;\n",
              "      box-shadow: 0px 1px 2px rgba(60, 64, 67, 0.3), 0px 1px 3px 1px rgba(60, 64, 67, 0.15);\n",
              "      fill: #174EA6;\n",
              "    }\n",
              "\n",
              "    [theme=dark] .colab-df-convert {\n",
              "      background-color: #3B4455;\n",
              "      fill: #D2E3FC;\n",
              "    }\n",
              "\n",
              "    [theme=dark] .colab-df-convert:hover {\n",
              "      background-color: #434B5C;\n",
              "      box-shadow: 0px 1px 3px 1px rgba(0, 0, 0, 0.15);\n",
              "      filter: drop-shadow(0px 1px 2px rgba(0, 0, 0, 0.3));\n",
              "      fill: #FFFFFF;\n",
              "    }\n",
              "  </style>\n",
              "\n",
              "      <script>\n",
              "        const buttonEl =\n",
              "          document.querySelector('#df-d3095931-59fe-46e0-9af0-9a0f477b1f8c button.colab-df-convert');\n",
              "        buttonEl.style.display =\n",
              "          google.colab.kernel.accessAllowed ? 'block' : 'none';\n",
              "\n",
              "        async function convertToInteractive(key) {\n",
              "          const element = document.querySelector('#df-d3095931-59fe-46e0-9af0-9a0f477b1f8c');\n",
              "          const dataTable =\n",
              "            await google.colab.kernel.invokeFunction('convertToInteractive',\n",
              "                                                     [key], {});\n",
              "          if (!dataTable) return;\n",
              "\n",
              "          const docLinkHtml = 'Like what you see? Visit the ' +\n",
              "            '<a target=\"_blank\" href=https://colab.research.google.com/notebooks/data_table.ipynb>data table notebook</a>'\n",
              "            + ' to learn more about interactive tables.';\n",
              "          element.innerHTML = '';\n",
              "          dataTable['output_type'] = 'display_data';\n",
              "          await google.colab.output.renderOutput(dataTable, element);\n",
              "          const docLink = document.createElement('div');\n",
              "          docLink.innerHTML = docLinkHtml;\n",
              "          element.appendChild(docLink);\n",
              "        }\n",
              "      </script>\n",
              "    </div>\n",
              "  </div>\n",
              "  "
            ],
            "text/plain": [
              "       sepal-length  sepal-width  petal-length  petal-width\n",
              "count    105.000000   105.000000    105.000000   105.000000\n",
              "mean       5.874286     3.059048      3.819048     1.222857\n",
              "std        0.821470     0.450789      1.767119     0.751186\n",
              "min        4.300000     2.000000      1.000000     0.100000\n",
              "25%        5.100000     2.800000      1.600000     0.400000\n",
              "50%        5.800000     3.000000      4.400000     1.300000\n",
              "75%        6.400000     3.300000      5.100000     1.800000\n",
              "max        7.700000     4.400000      6.700000     2.500000"
            ]
          },
          "metadata": {},
          "execution_count": 53
        }
      ]
    },
    {
      "cell_type": "markdown",
      "metadata": {
        "id": "nd-9JfKbQl-q"
      },
      "source": [
        "### Exercise 3 - assumptions and classification\n",
        "---\n",
        "\n",
        "Let's make some assumptions based on the data\n",
        "\n",
        "1.  Iris-setosa, Iris-versicolor, Iris-virginica are the full range of types of iris to be analysed\n",
        "2.  Although this is a small data set, the means are fairly representative\n",
        "\n",
        "With these in mind, let's start by classifying sepal/petal size into long/short and wide/narrow with values on or above the mean taken as long or wide and those below as short or narrow.\n",
        "\n",
        "This is a starting point.  We will be trying to find a value (indicator) for each column where rows on or above do not contain any of a particular species, this might indicate that this column is a good (if not rough) indicator of species.\n",
        "\n",
        "*  Drop any null values from each column\n",
        "\n",
        "Calculate, and store the means of the four columns\n",
        "\n",
        "*  **Test**:\n",
        "Display train.describe() to see the value of the means of the training set. Print the four means and compare to the output of train.describe() to check that they have been calculated correctly.\n",
        "\n",
        "*  Create a new dataframe with the numeric columns encoded so show a 1 for any value that is above the mean for its column and 0 for any that isn't.\n",
        "\n",
        "\n"
      ]
    },
    {
      "cell_type": "code",
      "metadata": {
        "id": "rAahb5HSWiw-",
        "colab": {
          "base_uri": "https://localhost:8080/"
        },
        "outputId": "da7c10b3-1516-42db-a3c8-328fb41c41d1"
      },
      "source": [
        "# get the mean for each column and apply a function to encode into 1 (above mean) and 0 (mean or below mean)\n",
        "def encode(df, **kwds):\n",
        "  cutoff = kwds['indicator']\n",
        "  key = kwds['key']\n",
        "  if df[key] > cutoff:\n",
        "    return 1\n",
        "  else:\n",
        "    return 0\n",
        "\n",
        "train = train_orig\n",
        "# run the function for each column so that each of the four columns are encoded, then drop the original columns, saving as a new dataframe\n",
        "train['sepal-length'] = train.apply(encode, axis=1, key='sepal-length', indicator=train_orig['sepal-length'].mean())\n",
        "train['sepal-width'] = train.apply(encode, axis=1, key='sepal-width', indicator=train_orig['sepal-width'].mean())\n",
        "train['petal-length'] = train.apply(encode, axis=1, key='petal-length', indicator=train_orig['petal-length'].mean())\n",
        "train['petal-width'] = train.apply(encode, axis=1, key='petal-width', indicator=train_orig['petal-width'].mean())\n",
        "\n",
        "print(train.describe())\n"
      ],
      "execution_count": 9,
      "outputs": [
        {
          "output_type": "stream",
          "name": "stdout",
          "text": [
            "       sepal-length  sepal-width  petal-length  petal-width\n",
            "count    105.000000   105.000000    105.000000   105.000000\n",
            "mean       0.457143     0.438095      0.619048     0.561905\n",
            "std        0.500549     0.498533      0.487950     0.498533\n",
            "min        0.000000     0.000000      0.000000     0.000000\n",
            "25%        0.000000     0.000000      0.000000     0.000000\n",
            "50%        0.000000     0.000000      1.000000     1.000000\n",
            "75%        1.000000     1.000000      1.000000     1.000000\n",
            "max        1.000000     1.000000      1.000000     1.000000\n"
          ]
        }
      ]
    },
    {
      "cell_type": "markdown",
      "metadata": {
        "id": "t9lP8lC1dCsa"
      },
      "source": [
        "### Exercise 4 - Calculate the proportion of values on or above the mean that are of each species\n",
        "\n",
        "We are going to focus on the `Iris-virginica` species first.\n",
        "\n",
        "First we will calculate, for each dimension column (`sepal-length, sepal-width, petal-length, petal-width`) what proportion of values in that column, where the value is on or above the mean, are classified as `Iris-virginica`.\n",
        "\n",
        "We will do this by filtering all the records in each column of the the `train` set that are on or above the mean and match the species .  Then use the outcome to calculate the proportion of the full `train` set for which a value on or above the mean that are of species `Iris-virginica`.\n",
        "\n",
        "*  filter for values in the `sepal-length` column being on or above the mean and the species column being `Iris-virginica`.  Then divide the count of rows in this filtered dataset by the count of rows in a second data set, filtered for just the value being on or above the mean.\n",
        "\n",
        "*  Do this for all four columns, for `Iris-virginica`  (4 operations).\n",
        "\n",
        "Print the results to see which columns look like they might most reliably predict the species as `Iris-virginica` (the result is as close as possible to 1).  The highest numbers may indicate the most reliable indicators, but we will do some more before coming to this conclusion.\n",
        "\n",
        "*  By definition, those on or above the mean that are NOT Iris_virginica will be `1 - the proportion of those that are.  Calculate these\n",
        "\n",
        "The first one has been done for you.\n",
        "\n",
        "*  We will also need the proportion of those BELOW the median that are NOT Iris-virginica.  Calculate these in the same way\n",
        "\n"
      ]
    },
    {
      "cell_type": "code",
      "metadata": {
        "id": "W9mzsFwbyruW",
        "colab": {
          "base_uri": "https://localhost:8080/"
        },
        "outputId": "28dd392c-8203-4396-a267-85beb5e3edb9"
      },
      "source": [
        "# calculate the proportion of results where the value is on or above mean that are of the species Iris-virginica\n",
        "def get_prop_above(df, spec,column):\n",
        "  train_spec = df[(df[column]== 1) & (df['species']==spec)][column].count()\n",
        "  train_all = df[df[column]== 1][column].count()\n",
        "  prop_spec = train_spec/train_all\n",
        "  return prop_spec\n",
        "\n",
        "vir_sep_len = get_prop_above(train, 'Iris-virginica', 'sepal-length')\n",
        "vir_sep_width = get_prop_above(train, 'Iris-virginica', 'sepal-width')\n",
        "vir_petal_len = get_prop_above(train, 'Iris-virginica', 'petal-length')\n",
        "vir_petal_width = get_prop_above(train, 'Iris-virginica', 'petal-width')\n",
        "\n",
        "print(\"Proportion using Sepal length using above mean: \", vir_sep_len, \"\\nProportion using Sepal width using above mean: \",vir_sep_width, \"\\nProportion using Petal length using above mean: \",vir_petal_len, \"\\nProportion using Petal width using above mean: \", vir_petal_width)"
      ],
      "execution_count": 31,
      "outputs": [
        {
          "output_type": "stream",
          "name": "stdout",
          "text": [
            "Proportion using Sepal length using above mean:  0.6458333333333334 \n",
            "Proportion using Sepal width using above mean:  0.2826086956521739 \n",
            "Proportion using Petal length using above mean:  0.5538461538461539 \n",
            "Proportion using Petal width using above mean:  0.6101694915254238\n"
          ]
        }
      ]
    },
    {
      "cell_type": "markdown",
      "source": [
        "From the proportion test, we see none of the numbers are anywhere near 1. Particularly, sepal width shows that very small proportion of Iris-virginica has sepal-width above or equal to mean."
      ],
      "metadata": {
        "id": "TPnEt7g9t7zI"
      }
    },
    {
      "cell_type": "markdown",
      "metadata": {
        "id": "M-HgetRIxJpx"
      },
      "source": [
        "### Exercise 5 - Calculate the proportion of each column where the value is below median that are of species `Iris-virginica`\n",
        "\n",
        "Repeat the code above, this time looking for values below the mean"
      ]
    },
    {
      "cell_type": "code",
      "metadata": {
        "id": "sMvl5HFuxpwS",
        "colab": {
          "base_uri": "https://localhost:8080/"
        },
        "outputId": "f94e03e4-51a4-415e-e06e-ec64a04340a9"
      },
      "source": [
        "# calculate the proportion of results where the value is below mean that are of the species Iris-virginica\n",
        "def get_prop_below(df, spec,column):\n",
        "  train_spec = df[(df[column]== 0) & (df['species']==spec)][column].count()\n",
        "  train_all = df[df[column]== 0][column].count()\n",
        "  prop_spec = train_spec/train_all\n",
        "  return prop_spec\n",
        "\n",
        "vir_sep_len1 = get_prop_below(train, 'Iris-virginica', 'sepal-length')\n",
        "vir_sep_width1 = get_prop_below(train, 'Iris-virginica', 'sepal-width')\n",
        "vir_petal_len1 = get_prop_below(train, 'Iris-virginica', 'petal-length')\n",
        "vir_petal_width1 = get_prop_below(train, 'Iris-virginica', 'petal-width')\n",
        "\n",
        "print(\"Proportion using Sepal length using below mean: \", vir_sep_len1, \"\\nProportion using Sepal width using below mean: \",vir_sep_width1, \"\\nProportion using Petal length using below mean: \",vir_petal_len1, \"\\nProportion using Petal width using below mean: \", vir_petal_width1)"
      ],
      "execution_count": 32,
      "outputs": [
        {
          "output_type": "stream",
          "name": "stdout",
          "text": [
            "Proportion using Sepal length using below mean:  0.08771929824561403 \n",
            "Proportion using Sepal width using below mean:  0.3898305084745763 \n",
            "Proportion using Petal length using below mean:  0.0 \n",
            "Proportion using Petal width using below mean:  0.0\n"
          ]
        }
      ]
    },
    {
      "cell_type": "markdown",
      "metadata": {
        "id": "09zWalzsOZrt"
      },
      "source": [
        "### Exercise 5 - calculate for the other two Iris species\n",
        "---\n",
        "\n",
        "Do the same calculations for the Iris-versicolor species, then for the Iris-setosa species.\n",
        "\n",
        "\n",
        "\n",
        "\n"
      ]
    },
    {
      "cell_type": "code",
      "metadata": {
        "id": "JYL8B3HhmKAy"
      },
      "source": [
        "# Iris-setosa\n",
        "\n",
        "set_sep_len = get_prop_above(train, 'Iris-setosa', 'sepal-length')\n",
        "set_sep_width = get_prop_above(train, 'Iris-setosa', 'sepal-width')\n",
        "set_petal_len = get_prop_above(train, 'Iris-setosa', 'petal-length')\n",
        "set_petal_width = get_prop_above(train, 'Iris-setosa', 'petal-width')\n",
        "\n",
        "set_sep_len1 = get_prop_below(train, 'Iris-setosa', 'sepal-length')\n",
        "set_sep_width1 = get_prop_below(train, 'Iris-setosa', 'sepal-width')\n",
        "set_petal_len1 = get_prop_below(train, 'Iris-setosa', 'petal-length')\n",
        "set_petal_width1 = get_prop_below(train, 'Iris-setosa', 'petal-width')\n",
        "\n",
        "#Iris-versicolor\n",
        "\n",
        "ver_sep_len = get_prop_above(train, 'Iris-versicolor', 'sepal-length')\n",
        "ver_sep_width = get_prop_above(train, 'Iris-versicolor', 'sepal-width')\n",
        "ver_petal_len = get_prop_above(train, 'Iris-versicolor', 'petal-length')\n",
        "ver_petal_width = get_prop_above(train, 'Iris-versicolor', 'petal-width')\n",
        "\n",
        "ver_sep_len1 = get_prop_below(train, 'Iris-versicolor', 'sepal-length')\n",
        "ver_sep_width1 = get_prop_below(train, 'Iris-versicolor', 'sepal-width')\n",
        "ver_petal_len1 = get_prop_below(train, 'Iris-versicolor', 'petal-length')\n",
        "ver_petal_width1 = get_prop_below(train, 'Iris-versicolor', 'petal-width')"
      ],
      "execution_count": 33,
      "outputs": []
    },
    {
      "cell_type": "markdown",
      "metadata": {
        "id": "5Ix6Hh0Uy9MS"
      },
      "source": [
        "### Exercise 6 - predict from the results\n",
        "---\n",
        "\n",
        "Create a list of dictionaries from the results Exercise 4 and 5 (e.g. {'species':..., 'above_mean': 0.xx, 'below_mean': 0.xx}  \n",
        "\n",
        "Then use a loop to go through the list and print:  \n",
        "*  any species and indicator (above or below mean) that can reliably be predicted.  A reliable prediction may be one over 0.5"
      ]
    },
    {
      "cell_type": "code",
      "source": [
        "#Create dictionary from keys and values\n",
        "\n",
        "keys_list = [\"species\", \"sepal length above mean\", \"sepal length below mean\", \"sepal width above mean\", \"sepal width below mean\", \"petal length above mean\", \"petal length below mean\", \"petal width above mean\", \"petal width below mean\"]\n",
        "species_list = ['Iris-setosa', 'Iris-versicolor', 'Iris-virginica']\n",
        "sep_len_ab_mean = [set_sep_len, ver_sep_len, vir_sep_len]\n",
        "sep_wid_ab_mean = [set_sep_width, ver_sep_width, vir_sep_width]\n",
        "pet_len_ab_mean = [set_petal_len, ver_petal_len, vir_sep_len]\n",
        "pet_wid_ab_mean = [set_petal_width, ver_petal_width, vir_petal_width]\n",
        "sep_len_bel_mean = [set_sep_len1, ver_sep_len1, vir_sep_len1]\n",
        "sep_wid_bel_mean = [set_sep_width1, ver_sep_width1, vir_sep_width1]\n",
        "pet_len_bel_mean = [set_petal_len1, ver_petal_len1, vir_sep_len1]\n",
        "pet_wid_bel_mean = [set_petal_width1, ver_petal_width1, vir_petal_width1]\n",
        "\n",
        "zip_iterator = zip(keys_list, species_list, sep_len_ab_mean)\n",
        "\n",
        "iris_dict = dict(zip_iterator)\n",
        "\n",
        "iris_dict"
      ],
      "metadata": {
        "colab": {
          "base_uri": "https://localhost:8080/",
          "height": 234
        },
        "id": "7YkxqpTOztAS",
        "outputId": "8ccd429b-cb90-47bd-eba0-42d0ba1db2c2"
      },
      "execution_count": 13,
      "outputs": [
        {
          "output_type": "error",
          "ename": "ValueError",
          "evalue": "ignored",
          "traceback": [
            "\u001b[0;31m---------------------------------------------------------------------------\u001b[0m",
            "\u001b[0;31mValueError\u001b[0m                                Traceback (most recent call last)",
            "\u001b[0;32m<ipython-input-13-078d0f468287>\u001b[0m in \u001b[0;36m<module>\u001b[0;34m()\u001b[0m\n\u001b[1;32m     14\u001b[0m \u001b[0mzip_iterator\u001b[0m \u001b[0;34m=\u001b[0m \u001b[0mzip\u001b[0m\u001b[0;34m(\u001b[0m\u001b[0mkeys_list\u001b[0m\u001b[0;34m,\u001b[0m \u001b[0mspecies_list\u001b[0m\u001b[0;34m,\u001b[0m \u001b[0msep_len_ab_mean\u001b[0m\u001b[0;34m)\u001b[0m\u001b[0;34m\u001b[0m\u001b[0;34m\u001b[0m\u001b[0m\n\u001b[1;32m     15\u001b[0m \u001b[0;34m\u001b[0m\u001b[0m\n\u001b[0;32m---> 16\u001b[0;31m \u001b[0miris_dict\u001b[0m \u001b[0;34m=\u001b[0m \u001b[0mdict\u001b[0m\u001b[0;34m(\u001b[0m\u001b[0mzip_iterator\u001b[0m\u001b[0;34m)\u001b[0m\u001b[0;34m\u001b[0m\u001b[0;34m\u001b[0m\u001b[0m\n\u001b[0m\u001b[1;32m     17\u001b[0m \u001b[0;34m\u001b[0m\u001b[0m\n\u001b[1;32m     18\u001b[0m \u001b[0miris_dict\u001b[0m\u001b[0;34m\u001b[0m\u001b[0;34m\u001b[0m\u001b[0m\n",
            "\u001b[0;31mValueError\u001b[0m: dictionary update sequence element #0 has length 3; 2 is required"
          ]
        }
      ]
    },
    {
      "cell_type": "markdown",
      "source": [
        "I can only use 2 lists to create a dictionary (unless I create a dictionary of lists. This means that I will have create a dictionaly for each species. I am not sure if it make sense to have multiple dictionaries - unless I see a task below using these dictionaries. So I will create a dataframe instead so I can look at the species and the parameter values in one shot."
      ],
      "metadata": {
        "id": "3EHxNPivEsWD"
      }
    },
    {
      "cell_type": "code",
      "metadata": {
        "id": "FPvXa8x81re7",
        "colab": {
          "base_uri": "https://localhost:8080/",
          "height": 259
        },
        "outputId": "8a0efff4-7944-40e8-fd35-908e34d123de"
      },
      "source": [
        "#create a dataframe to see the results\n",
        "\n",
        "iris_df = pd.DataFrame(list(zip(species_list, sep_len_ab_mean, sep_wid_ab_mean, pet_len_ab_mean, pet_wid_ab_mean, sep_len_bel_mean, sep_wid_bel_mean, pet_len_bel_mean, pet_wid_bel_mean)), columns =['species', 'sepal_length_above_mean','sepal_width_above_mean','petal_length_above_mean','petal_width_above_mean','sepal_length_below_mean','sepal_width_below_mean','petal_length_below_mean','petal_width_below_mean'])\n",
        "iris_df\n",
        "\n",
        "# show which columns are reliable predictors\n",
        "\n"
      ],
      "execution_count": 34,
      "outputs": [
        {
          "output_type": "execute_result",
          "data": {
            "text/html": [
              "\n",
              "  <div id=\"df-bb044319-9a30-4bcf-a4f8-40a9183d5aa4\">\n",
              "    <div class=\"colab-df-container\">\n",
              "      <div>\n",
              "<style scoped>\n",
              "    .dataframe tbody tr th:only-of-type {\n",
              "        vertical-align: middle;\n",
              "    }\n",
              "\n",
              "    .dataframe tbody tr th {\n",
              "        vertical-align: top;\n",
              "    }\n",
              "\n",
              "    .dataframe thead th {\n",
              "        text-align: right;\n",
              "    }\n",
              "</style>\n",
              "<table border=\"1\" class=\"dataframe\">\n",
              "  <thead>\n",
              "    <tr style=\"text-align: right;\">\n",
              "      <th></th>\n",
              "      <th>species</th>\n",
              "      <th>sepal_length_above_mean</th>\n",
              "      <th>sepal_width_above_mean</th>\n",
              "      <th>petal_length_above_mean</th>\n",
              "      <th>petal_width_above_mean</th>\n",
              "      <th>sepal_length_below_mean</th>\n",
              "      <th>sepal_width_below_mean</th>\n",
              "      <th>petal_length_below_mean</th>\n",
              "      <th>petal_width_below_mean</th>\n",
              "    </tr>\n",
              "  </thead>\n",
              "  <tbody>\n",
              "    <tr>\n",
              "      <th>0</th>\n",
              "      <td>Iris-setosa</td>\n",
              "      <td>0.000000</td>\n",
              "      <td>0.586957</td>\n",
              "      <td>0.000000</td>\n",
              "      <td>0.000000</td>\n",
              "      <td>0.578947</td>\n",
              "      <td>0.101695</td>\n",
              "      <td>0.825000</td>\n",
              "      <td>0.717391</td>\n",
              "    </tr>\n",
              "    <tr>\n",
              "      <th>1</th>\n",
              "      <td>Iris-versicolor</td>\n",
              "      <td>0.354167</td>\n",
              "      <td>0.130435</td>\n",
              "      <td>0.446154</td>\n",
              "      <td>0.389831</td>\n",
              "      <td>0.333333</td>\n",
              "      <td>0.508475</td>\n",
              "      <td>0.175000</td>\n",
              "      <td>0.282609</td>\n",
              "    </tr>\n",
              "    <tr>\n",
              "      <th>2</th>\n",
              "      <td>Iris-virginica</td>\n",
              "      <td>0.645833</td>\n",
              "      <td>0.282609</td>\n",
              "      <td>0.645833</td>\n",
              "      <td>0.610169</td>\n",
              "      <td>0.087719</td>\n",
              "      <td>0.389831</td>\n",
              "      <td>0.087719</td>\n",
              "      <td>0.000000</td>\n",
              "    </tr>\n",
              "  </tbody>\n",
              "</table>\n",
              "</div>\n",
              "      <button class=\"colab-df-convert\" onclick=\"convertToInteractive('df-bb044319-9a30-4bcf-a4f8-40a9183d5aa4')\"\n",
              "              title=\"Convert this dataframe to an interactive table.\"\n",
              "              style=\"display:none;\">\n",
              "        \n",
              "  <svg xmlns=\"http://www.w3.org/2000/svg\" height=\"24px\"viewBox=\"0 0 24 24\"\n",
              "       width=\"24px\">\n",
              "    <path d=\"M0 0h24v24H0V0z\" fill=\"none\"/>\n",
              "    <path d=\"M18.56 5.44l.94 2.06.94-2.06 2.06-.94-2.06-.94-.94-2.06-.94 2.06-2.06.94zm-11 1L8.5 8.5l.94-2.06 2.06-.94-2.06-.94L8.5 2.5l-.94 2.06-2.06.94zm10 10l.94 2.06.94-2.06 2.06-.94-2.06-.94-.94-2.06-.94 2.06-2.06.94z\"/><path d=\"M17.41 7.96l-1.37-1.37c-.4-.4-.92-.59-1.43-.59-.52 0-1.04.2-1.43.59L10.3 9.45l-7.72 7.72c-.78.78-.78 2.05 0 2.83L4 21.41c.39.39.9.59 1.41.59.51 0 1.02-.2 1.41-.59l7.78-7.78 2.81-2.81c.8-.78.8-2.07 0-2.86zM5.41 20L4 18.59l7.72-7.72 1.47 1.35L5.41 20z\"/>\n",
              "  </svg>\n",
              "      </button>\n",
              "      \n",
              "  <style>\n",
              "    .colab-df-container {\n",
              "      display:flex;\n",
              "      flex-wrap:wrap;\n",
              "      gap: 12px;\n",
              "    }\n",
              "\n",
              "    .colab-df-convert {\n",
              "      background-color: #E8F0FE;\n",
              "      border: none;\n",
              "      border-radius: 50%;\n",
              "      cursor: pointer;\n",
              "      display: none;\n",
              "      fill: #1967D2;\n",
              "      height: 32px;\n",
              "      padding: 0 0 0 0;\n",
              "      width: 32px;\n",
              "    }\n",
              "\n",
              "    .colab-df-convert:hover {\n",
              "      background-color: #E2EBFA;\n",
              "      box-shadow: 0px 1px 2px rgba(60, 64, 67, 0.3), 0px 1px 3px 1px rgba(60, 64, 67, 0.15);\n",
              "      fill: #174EA6;\n",
              "    }\n",
              "\n",
              "    [theme=dark] .colab-df-convert {\n",
              "      background-color: #3B4455;\n",
              "      fill: #D2E3FC;\n",
              "    }\n",
              "\n",
              "    [theme=dark] .colab-df-convert:hover {\n",
              "      background-color: #434B5C;\n",
              "      box-shadow: 0px 1px 3px 1px rgba(0, 0, 0, 0.15);\n",
              "      filter: drop-shadow(0px 1px 2px rgba(0, 0, 0, 0.3));\n",
              "      fill: #FFFFFF;\n",
              "    }\n",
              "  </style>\n",
              "\n",
              "      <script>\n",
              "        const buttonEl =\n",
              "          document.querySelector('#df-bb044319-9a30-4bcf-a4f8-40a9183d5aa4 button.colab-df-convert');\n",
              "        buttonEl.style.display =\n",
              "          google.colab.kernel.accessAllowed ? 'block' : 'none';\n",
              "\n",
              "        async function convertToInteractive(key) {\n",
              "          const element = document.querySelector('#df-bb044319-9a30-4bcf-a4f8-40a9183d5aa4');\n",
              "          const dataTable =\n",
              "            await google.colab.kernel.invokeFunction('convertToInteractive',\n",
              "                                                     [key], {});\n",
              "          if (!dataTable) return;\n",
              "\n",
              "          const docLinkHtml = 'Like what you see? Visit the ' +\n",
              "            '<a target=\"_blank\" href=https://colab.research.google.com/notebooks/data_table.ipynb>data table notebook</a>'\n",
              "            + ' to learn more about interactive tables.';\n",
              "          element.innerHTML = '';\n",
              "          dataTable['output_type'] = 'display_data';\n",
              "          await google.colab.output.renderOutput(dataTable, element);\n",
              "          const docLink = document.createElement('div');\n",
              "          docLink.innerHTML = docLinkHtml;\n",
              "          element.appendChild(docLink);\n",
              "        }\n",
              "      </script>\n",
              "    </div>\n",
              "  </div>\n",
              "  "
            ],
            "text/plain": [
              "           species  ...  petal_width_below_mean\n",
              "0      Iris-setosa  ...                0.717391\n",
              "1  Iris-versicolor  ...                0.282609\n",
              "2   Iris-virginica  ...                0.000000\n",
              "\n",
              "[3 rows x 9 columns]"
            ]
          },
          "metadata": {},
          "execution_count": 34
        }
      ]
    },
    {
      "cell_type": "markdown",
      "source": [
        "Looking at the above results, I think the sepal width both above and below mean seem to be not very reliabale/consistent meaure to classify the species.\n",
        "\n",
        "1. Iris-setosa clearly has smaller than average sepal length (above mean is 0), petal length (above mean is 0) and petal width (above mean is 0).\n",
        "2. Iris-virginica clearly has larger than average petal width (below mean is 0). But sepal length (0.65), petal length (0.65) give accurate results only 65% of the time.\n",
        "3. Iris-versicolor is around average in all columns. \n",
        "\n",
        "To me, it looks like petal length and width are really good way identify the species. So we only need to know the petal length and petal width for separating the species. If both are below mean (short and thin petals), then the species is setosa. If the petal length is large but width is small (long and thin petals) it is virginica and if neither of these holds then it is versicolor. \n",
        "\n",
        "So my decision tree will be something along the lines of...\n",
        "\n",
        "1. if petal length and petal width are smaller than average then the species is Iris-setosa. \n",
        "2. If not, check if petal width is below average, if no, the species is Iris-virginica. \n",
        "3. Otherwise, it is Iris-versicolor."
      ],
      "metadata": {
        "id": "lsr4qaS2AwDo"
      }
    },
    {
      "cell_type": "markdown",
      "source": [
        "Also, are the length and width of the sepals and petals correlated? That is if the length is more is the width smaller (thin and long?)or they are unconnected? If they are correlated, may be we don't have to use both to get to a decision. This made me wonder - what if I did a correlation test to see how the sepal length and width are correlated to petal length and width. So here is a heatmap using seaborn."
      ],
      "metadata": {
        "id": "56iQbAEW9ZZQ"
      }
    },
    {
      "cell_type": "code",
      "source": [
        "import seaborn as sns\n",
        "sns.heatmap(train_orig.corr(), annot = True);"
      ],
      "metadata": {
        "id": "5kysM10Q82WF",
        "colab": {
          "base_uri": "https://localhost:8080/",
          "height": 269
        },
        "outputId": "56e36b6d-9fde-47d0-d3f3-69c2b4643209"
      },
      "execution_count": 15,
      "outputs": [
        {
          "output_type": "display_data",
          "data": {
            "image/png": "[encoded data removed]",
            "text/plain": [
              "<Figure size 432x288 with 2 Axes>"
            ]
          },
          "metadata": {
            "needs_background": "light"
          }
        }
      ]
    },
    {
      "cell_type": "markdown",
      "source": [
        "So this shows that the sepal width is most likely independent of the other variables while petal length and width seem to be highly correlated. So maybe as a first test petal length and/or width might be good indicators to find the species. Then we can add sepal length to further confirm the result.\n",
        "\n",
        "Looking at the gg plot, further below confirms that all we need is only the petal width and petal length to make our decision tree. So here is my proposed decision tree:"
      ],
      "metadata": {
        "id": "gVxhqVIX-b4W"
      }
    },
    {
      "cell_type": "markdown",
      "source": [
        "![iris_decision_tree.jpg](data:image/jpeg;base64,/9j/4AAQSkZJRgABAQEAYABgAAD/4TAiRXhpZgAATU0AKgAAAAgABgALAAIAAAAmAAAIYgESAAMAAAABAAEAAAExAAIAAAAmAAAIiAEyAAIAAAAUAAAIrodpAAQAAAABAAAIwuocAAcAAAgMAAAAVgAAEUYc6gAAAAgAAAAAAAAAAAAAAAAAAAAAAAAAAAAAAAAAAAAAAAAAAAAAAAAAAAAAAAAAAAAAAAAAAAAAAAAAAAAAAAAAAAAAAAAAAAAAAAAAAAAAAAAAAAAAAAAAAAAAAAAAAAAAAAAAAAAAAAAAAAAAAAAAAAAAAAAAAAAAAAAAAAAAAAAAAAAAAAAAAAAAAAAAAAAAAAAAAAAAAAAAAAAAAAAAAAAAAAAAAAAAAAAAAAAAAAAAAAAAAAAAAAAAAAAAAAAAAAAAAAAAAAAAAAAAAAAAAAAAAAAAAAAAAAAAAAAAAAAAAAAAAAAAAAAAAAAAAAAAAAAAAAAAAAAAAAAAAAAAAAAAAAAAAAAAAAAAAAAAAAAAAAAAAAAAAAAAAAAAAAAAAAAAAAAAAAAAAAAAAAAAAAAAAAAAAAAAAAAAAAAAAAAAAAAAAAAAAAAAAAAAAAAAAAAAAAAAAAAAAAAAAAAAAAAAAAAAAAAAAAAAAAAAAAAAAAAAAAAAAAAAAAAAAAAAAAAAAAAAAAAAAAAAAAAAAAAAAAAAAAAAAAAAAAAAAAAAAAAAAAAAAAAAAAAAAAAAAAAAAAAAAAAAAAAAAAAAAAAAAAAAAAAAAAAAAAAAAAAAAAAAAAAAAAAAAAAAAAAAAAAAAAAAAAAAAAAAAAAAAAAAAAAAAAAAAAAAAAAAAAAAAAAAAAAAAAAAAAAAAAAAAAAAAAAAAAAAAAAAAAAAAAAAAAAAAAAAAAAAAAAAAAAAAAAAAAAAAAAAAAAAAAAAAAAAAAAAAAAAAAAAAAAAAAAAAAAAAAAAAAAAAAAAAAAAAAAAAAAAAAAAAAAAAAAAAAAAAAAAAAAAAAAAAAAAAAAAAAAAAAAAAAAAAAAAAAAAAAAAAAAAAAAAAAAAAAAAAAAAAAAAAAAAAAAAAAAAAAAAAAAAAAAAAAAAAAAAAAAAAAAAAAAAAAAAAAAAAAAAAAAAAAAAAAAAAAAAAAAAAAAAAAAAAAAAAAAAAAAAAAAAAAAAAAAAAAAAAAAAAAAAAAAAAAAAAAAAAAAAAAAAAAAAAAAAAAAAAAAAAAAAAAAAAAAAAAAAAAAAAAAAAAAAAAAAAAAAAAAAAAAAAAAAAAAAAAAAAAAAAAAAAAAAAAAAAAAAAAAAAAAAAAAAAAAAAAAAAAAAAAAAAAAAAAAAAAAAAAAAAAAAAAAAAAAAAAAAAAAAAAAAAAAAAAAAAAAAAAAAAAAAAAAAAAAAAAAAAAAAAAAAAAAAAAAAAAAAAAAAAAAAAAAAAAAAAAAAAAAAAAAAAAAAAAAAAAAAAAAAAAAAAAAAAAAAAAAAAAAAAAAAAAAAAAAAAAAAAAAAAAAAAAAAAAAAAAAAAAAAAAAAAAAAAAAAAAAAAAAAAAAAAAAAAAAAAAAAAAAAAAAAAAAAAAAAAAAAAAAAAAAAAAAAAAAAAAAAAAAAAAAAAAAAAAAAAAAAAAAAAAAAAAAAAAAAAAAAAAAAAAAAAAAAAAAAAAAAAAAAAAAAAAAAAAAAAAAAAAAAAAAAAAAAAAAAAAAAAAAAAAAAAAAAAAAAAAAAAAAAAAAAAAAAAAAAAAAAAAAAAAAAAAAAAAAAAAAAAAAAAAAAAAAAAAAAAAAAAAAAAAAAAAAAAAAAAAAAAAAAAAAAAAAAAAAAAAAAAAAAAAAAAAAAAAAAAAAAAAAAAAAAAAAAAAAAAAAAAAAAAAAAAAAAAAAAAAAAAAAAAAAAAAAAAAAAAAAAAAAAAAAAAAAAAAAAAAAAAAAAAAAAAAAAAAAAAAAAAAAAAAAAAAAAAAAAAAAAAAAAAAAAAAAAAAAAAAAAAAAAAAAAAAAAAAAAAAAAAAAAAAAAAAAAAAAAAAAAAAAAAAAAAAAAAAAAAAAAAAAAAAAAAAAAAAAAAAAAAAAAAAAAAAAAAAAAAAAAAAAAAAAAAAAAAAAAAAAAAAAAAAAAAAAAAAAAAAAAAAAAAAAAAAAAAAAAAAAAAAAAAAAAAAAAAAAAAAAAAAAAAAAAAAAAAAAAAAAAAAAAAAAAAAAAAAAAAAAAAAAAAAAAAAAAAAAAAAAAAAAAAAAAAAAAAAAAAAAAAAAAAAAAAAAAAAAAAAAAAAAAAAAAAAAAAAAAAAAAAAAAAAAAAAAAAAAAAAAAAAAAAAAAAAAAAAAAAAAAAAAAAAAAAAAAAAAAAAAAAAAAAAAAAAAAAAAAAAAAAAAAAAAAAAAAAAAAAAAAAAAAAAAAAAAAAAAAAAAAAAAAAAAAAAAAAAAAAAAAAAAAAAAAAAAAAAAAAAAAAAAAAAAAAAAAAAAAAAAAAAAAAAAAAAAAAAAAAAAAAAAAAAAAAAAAAAAAAAAAAAAAAAAAAAAAAAAAAAAAAAAAAAAAAAAAAAAAAAAAAAAAAAAAAAAAAAAAAAAAAAAAAAAAAAAAAAAAAAAAAAAAAAAAAAAAAAAAAAAAAAAAAAAAAAAAAAAAAAAAAAAAAAAAAAAAAAAAAAAAAAAAAAAAAAAAAAAAAAAAAAAAAAAAAAAAAAAAAAAAAAAAAAAAAAAAAAAAAAAAAAAAAAAAAAAAAAAAAAAAAAAAAAAAAAAAAAAAAAAAAAAAAAAAAAAAAAAAAAAAAAAAAAAAAAAAAAAAAAAAAAAAAAAAAAAAAAAAAAAAAAAAAAAAAAAAAAAAAAAAAAAAAAAAAAAAAAAAAAAAAAAAAAAAAAAAAAAAAAAAAAAAAAAAAAAAAAAAAAAAAAAAAAAAAAAAAAAAAAAAAAAAAFdpbmRvd3MgUGhvdG8gRWRpdG9yIDEwLjAuMTAwMTEuMTYzODQAV2luZG93cyBQaG90byBFZGl0b3IgMTAuMC4xMDAxMS4xNjM4NAAyMDIyOjAzOjAzIDExOjI2OjI1AAAGkAMAAgAAABQAABEckAQAAgAAABQAABEwkpEAAgAAAAMwMAAAkpIAAgAAAAMwMAAAoAEAAwAAAAEAAQAA6hwABwAACAwAAAkQAAAAABzqAAAACAAAAAAAAAAAAAAAAAAAAAAAAAAAAAAAAAAAAAAAAAAAAAAAAAAAAAAAAAAAAAAAAAAAAAAAAAAAAAAAAAAAAAAAAAAAAAAAAAAAAAAAAAAAAAAAAAAAAAAAAAAAAAAAAAAAAAAAAAAAAAAAAAAAAAAAAAAAAAAAAAAAAAAAAAAAAAAAAAAAAAAAAAAAAAAAAAAAAAAAAAAAAAAAAAAAAAAAAAAAAAAAAAAAAAAAAAAAAAAAAAAAAAAAAAAAAAAAAAAAAAAAAAAAAAAAAAAAAAAAAAAAAAAAAAAAAAAAAAAAAAAAAAAAAAAAAAAAAAAAAAAAAAAAAAAAAAAAAAAAAAAAAAAAAAAAAAAAAAAAAAAAAAAAAAAAAAAAAAAAAAAAAAAAAAAAAAAAAAAAAAAAAAAAAAAAAAAAAAAAAAAAAAAAAAAAAAAAAAAAAAAAAAAAAAAAAAAAAAAAAAAAAAAAAAAAAAAAAAAAAAAAAAAAAAAAAAAAAAAAAAAAAAAAAAAAAAAAAAAAAAAAAAAAAAAAAAAAAAAAAAAAAAAAAAAAAAAAAAAAAAAAAAAAAAAAAAAAAAAAAAAAAAAAAAAAAAAAAAAAAAAAAAAAAAAAAAAAAAAAAAAAAAAAAAAAAAAAAAAAAAAAAAAAAAAAAAAAAAAAAAAAAAAAAAAAAAAAAAAAAAAAAAAAAAAAAAAAAAAAAAAAAAAAAAAAAAAAAAAAAAAAAAAAAAAAAAAAAAAAAAAAAAAAAAAAAAAAAAAAAAAAAAAAAAAAAAAAAAAAAAAAAAAAAAAAAAAAAAAAAAAAAAAAAAAAAAAAAAAAAAAAAAAAAAAAAAAAAAAAAAAAAAAAAAAAAAAAAAAAAAAAAAAAAAAAAAAAAAAAAAAAAAAAAAAAAAAAAAAAAAAAAAAAAAAAAAAAAAAAAAAAAAAAAAAAAAAAAAAAAAAAAAAAAAAAAAAAAAAAAAAAAAAAAAAAAAAAAAAAAAAAAAAAAAAAAAAAAAAAAAAAAAAAAAAAAAAAAAAAAAAAAAAAAAAAAAAAAAAAAAAAAAAAAAAAAAAAAAAAAAAAAAAAAAAAAAAAAAAAAAAAAAAAAAAAAAAAAAAAAAAAAAAAAAAAAAAAAAAAAAAAAAAAAAAAAAAAAAAAAAAAAAAAAAAAAAAAAAAAAAAAAAAAAAAAAAAAAAAAAAAAAAAAAAAAAAAAAAAAAAAAAAAAAAAAAAAAAAAAAAAAAAAAAAAAAAAAAAAAAAAAAAAAAAAAAAAAAAAAAAAAAAAAAAAAAAAAAAAAAAAAAAAAAAAAAAAAAAAAAAAAAAAAAAAAAAAAAAAAAAAAAAAAAAAAAAAAAAAAAAAAAAAAAAAAAAAAAAAAAAAAAAAAAAAAAAAAAAAAAAAAAAAAAAAAAAAAAAAAAAAAAAAAAAAAAAAAAAAAAAAAAAAAAAAAAAAAAAAAAAAAAAAAAAAAAAAAAAAAAAAAAAAAAAAAAAAAAAAAAAAAAAAAAAAAAAAAAAAAAAAAAAAAAAAAAAAAAAAAAAAAAAAAAAAAAAAAAAAAAAAAAAAAAAAAAAAAAAAAAAAAAAAAAAAAAAAAAAAAAAAAAAAAAAAAAAAAAAAAAAAAAAAAAAAAAAAAAAAAAAAAAAAAAAAAAAAAAAAAAAAAAAAAAAAAAAAAAAAAAAAAAAAAAAAAAAAAAAAAAAAAAAAAAAAAAAAAAAAAAAAAAAAAAAAAAAAAAAAAAAAAAAAAAAAAAAAAAAAAAAAAAAAAAAAAAAAAAAAAAAAAAAAAAAAAAAAAAAAAAAAAAAAAAAAAAAAAAAAAAAAAAAAAAAAAAAAAAAAAAAAAAAAAAAAAAAAAAAAAAAAAAAAAAAAAAAAAAAAAAAAAAAAAAAAAAAAAAAAAAAAAAAAAAAAAAAAAAAAAAAAAAAAAAAAAAAAAAAAAAAAAAAAAAAAAAAAAAAAAAAAAAAAAAAAAAAAAAAAAAAAAAAAAAAAAAAAAAAAAAAAAAAAAAAAAAAAAAAAAAAAAAAAAAAAAAAAAAAAAAAAAAAAAAAAAAAAAAAAAAAAAAAAAAAAAAAAAAAAAAAAAAAAAAAAAAAAAAAAAAAAAAAAAAAAAAAAAAAAAAAAAAAAAAAAAAAAAAAAAAAAAAAAAAAAAAAAAAAAAAAAAAAAAAAAAAAAAAAAAAAAAAAAAAAAAAAAAAAAAAAAAAAAAAAAAAAAAAAAAAAAAAAAAAAAAAAAAAAAAAAAAAAAAAAAAAAAAAAAAAAAAAAAAAAAAAAAAAAAAAAAAAAAAAAAAAAAAAAAAAAAAAAAAAAAAAAAAAAAAAAAAAAAAAAAAAAAAAAAAAAAAAAAAAAAAAAAAAAAAAAAAAAAAAAAAAAAAAAAAAAAAAAAAAAAAAAAAAAAAAAAAAAAAAAAAAAAAAAAAAAAAAAAAAAAAAAAAAAAAAAAAAAAAAAAAAAAAAAAAAAAAAAAAAAAAAAAAAAAAAAAAAAAAAAAAAAAAAAAAAAAAAAAAAAAAAAAAAAAAAAAAAAAAAAAAAAAAAAAAAAAAAAAAAAAAAAAAAAAAAAAAAAAAAAAAAAAAAAAAAAAAAAAAAAAAAAAAAAAAAAAAAAAAAAAAAAAAAAAAAAAAAAAAAAAAAAAAAAAAAAAAAAAAAAAAAAAAAAAAAAAAAAAAAAAAAAAAAAAAAAAAAAAAAAAAAAAAAAAAAAAAAAAAAAAAAAAAAAAAAAAAAAAAAAAAAAAAAAAAAAAAAAAAAAAAAAAAAAAAMjAyMjowMzowMyAxMDo0MzoyNAAyMDIyOjAzOjAzIDEwOjQzOjI0AAAAAAYBAwADAAAAAQAGAAABGgAFAAAAAQAAEZQBGwAFAAAAAQAAEZwBKAADAAAAAQACAAACAQAEAAAAAQAAEaQCAgAEAAAAAQAAHnUAAAAAAAAAYAAAAAEAAABgAAAAAf/Y/9sAQwAIBgYHBgUIBwcHCQkICgwUDQwLCwwZEhMPFB0aHx4dGhwcICQuJyAiLCMcHCg3KSwwMTQ0NB8nOT04MjwuMzQy/9sAQwEJCQkMCwwYDQ0YMiEcITIyMjIyMjIyMjIyMjIyMjIyMjIyMjIyMjIyMjIyMjIyMjIyMjIyMjIyMjIyMjIyMjIy/8AAEQgA3AEAAwEhAAIRAQMRAf/EAB8AAAEFAQEBAQEBAAAAAAAAAAABAgMEBQYHCAkKC//EALUQAAIBAwMCBAMFBQQEAAABfQECAwAEEQUSITFBBhNRYQcicRQygZGhCCNCscEVUtHwJDNicoIJChYXGBkaJSYnKCkqNDU2Nzg5OkNERUZHSElKU1RVVldYWVpjZGVmZ2hpanN0dXZ3eHl6g4SFhoeIiYqSk5SVlpeYmZqio6Slpqeoqaqys7S1tre4ubrCw8TFxsfIycrS09TV1tfY2drh4uPk5ebn6Onq8fLz9PX29/j5+v/EAB8BAAMBAQEBAQEBAQEAAAAAAAABAgMEBQYHCAkKC//EALURAAIBAgQEAwQHBQQEAAECdwABAgMRBAUhMQYSQVEHYXETIjKBCBRCkaGxwQkjM1LwFWJy0QoWJDThJfEXGBkaJicoKSo1Njc4OTpDREVGR0hJSlNUVVZXWFlaY2RlZmdoaWpzdHV2d3h5eoKDhIWGh4iJipKTlJWWl5iZmqKjpKWmp6ipqrKztLW2t7i5usLDxMXGx8jJytLT1NXW19jZ2uLj5OXm5+jp6vLz9PX29/j5+v/aAAwDAQACEQMRAD8A9/ooAKKACigAooAKZ50X/PVP++hSbSC4edF/z1T/AL6FHnRf89U/76FHMu4roPOi/wCeqf8AfQo86L/nqn/fQo5l3C6Dzov+eqf99Cjzov8Anqn/AH0KOZdwug86L/nqn/fQo86L/nqn/fQo5l3C6FWRGOFdSfY06mncYUUAFFABRQAUUAFFABRQAUUAFFABRQAUUAQXv/Hjcf8AXNv5V4tXm5g2nE5cR0MybVjBc3ET27bYsfPnAOVJ/wDZT+YqVNQ8yREWMAlsEluMYByPrnj1ri5Xa9zC3mPurw2kLSPGNokRAd2B8zBcnjgc1Vi1hpirfZnijIOfNOGBHYjt0z9OfWhRbW4JeZJ/aL/Zo5/JO13A245AKZ5/HvQ2qbNm6HG91Rct6jPp7UKLfUfL5jYtTlaOUvAAyxGRduSOFQkH8W/Q1Y065e7s1klCiTJDBQQAf8/h6ZFKSsr3E0dl4C/5GOT/AK9H/wDQ0r0mvWwX8FHZQ+AKK6jUKKACigAooAKKACigAooAKKACigAooAgvf+PG4/65t/I14tXmZhvE5cT0EZVdSrAFT1BFNmkEMMkpGQilseuBXnHMZb6qZVAWzDgSR8s2RzIBuHHOOuexFSJqruJ5Ft2aOJUYbc5OSckZ9Bg4xnrWrp2W5XKRNrExlCpasu7ZjeCMfPtYZ7nuPYE1ZtZ/twX7TbJwFkTIyAdqnv3BY0nCyvcGrIv0VmQdP4C/5GOT/r0f/wBDSvSa9nBfwUd1D4AorrNgooAKKACigAooAKKACigAooAKKACigCC8BNjcADJMbfyrxz7Jc/8APvL/AN8GvOx8ZScbI5sQm7WD7Jc/8+8v/fBpDZ3DKVa2lIIwQYzzXn+zn2Obll2F+yXAGBby/wDfBprW8yAF4ZFyQBlSMk9BR7OfYOWXYd9kuf8An3l/74NH2S5/595f++DR7OfYOV9g+yXP/PvL/wB8Gj7Jc/8APvL/AN8Gj2c+wcr7HS+BYJo/EMjSRSKv2VxllIH3kr0WvXwaapJM7aKtAKK6jUKKACigAooAKKACigAooAKKACigAooAKKACigArJ1//AI97L/r/ALf/ANGCgDWooAKKACigAooAKKACigAooAKKACigAooAKKACigAooAKKACigArJ1/wD497L/AK/7f/0YKANaigAooAKKACigAooAKKACigAooAKKACigAooAKKACigAooAKKAIri5gtIWmuZo4Yl6vIwUD8TXnvibxvpN9LZW1tJeGOC8iuJJoMLuCNnbhuoP4V0UMNOs9NjKpVjT3O00nxBpetx7rG7R27xn5XH/ATz+PStOsZwlCXLIuMlJXQUVJQUUAFFABRQAUUAFFABRQAUUAFFABRQAUUAFFABRQBVv9SstMtzPe3McEYBwXbGfoOpPsK4LWvieo3RaNbbj08+ccfgv+P5V14XCyrO72MK1ZU1ZbnA6jq1/q05mvrqSds5AY8L9B0H4VTr3oQjBcsdjzZScndjo5HikWSN2R1OVZTgg/Wuw0X4japp+2K+AvoAMZY4kH/Au/4/nWOIw0a0ddzSlVdN+R6Ho3i3SNbwttchJz/ywm+V/wAPX8M1uV4FSlKnLlkenCamroKKzKCigAooAKKACigAooAKKACigAooAKKACigDO1TXdN0aLff3ccRxkJnLt9FHJrz/AFn4nXMxaLSIBAmf9dKAzn6L0H45ruwmEdV80tjmrV1DRbnA6jqU8zm6vZ5Z5Dxudsn6c/yqm2o2y7iXbau7cQhIGMZ7e4r2U4w91HBZy1BtQt0UM5Kqd2DjP3W2npSPqNtGrEs5xu4CNngZPan7SIuRipf27pI5ZkEZw29SO5H45Ip73kMbKrlgzANjY3AOevHHQ/lQqkbXDld7DRqNt8rLKTk/KQp5I9OK6jSPiTqejS2tvLI17bzZKrN1A/3uo9s5+lYV4U60bM0pSlTd0emaN460bV9sbTfZLgj/AFU5wCfZuh/n7V01eHWoypS5ZHpU6imroKwNX1XVNO1Dbb2X2m2KK4I+XBLBCpPTHO7Ptj3GRZoabfzXpmE9r9naMjA3bsg+/TPt/iKv0AFFABRQAUUAFFABRQAUUAFFABUF3A11aSwJPLbs64EsWNy/TINNOzuJ6o8n1/wDrVpJJcwyNqUZ5ZwT5v4g5J/AmuPdGjdkdSrqcMrDBBr6LDV4VY+7p5Hl1aUoPUaQD1A46VQlvNOBMcmwsCRtMZOTnHp6jr6itp8q3M43ew5bmzd1jWMbgN23y8bQwLfrg9Khe402WVT94gZ+VDzk49Ocn9Pas24WKSkS2t3aT4EURXzAeDHjPUnP609p7MRmQhSinZuEZI4B6cdAM/rVKUWhWlcj+2abycx/uxk/uz8uDj04xmp4zbXIyqK4jIA3J0xyMZFEXB6IHzI6DR/C+r64QbS1IhP/AC2k+VPz7/hmvVvD/hq70axMMmtXchOPlULsT2UMG/p9K83H4iEl7Nas68NSknzM1/sc/wD0E7v/AL5i/wDiKPsc/wD0E7v/AL5i/wDiK8o7Q+xz/wDQTu/++Yv/AIij7HP/ANBO7/75i/8AiKAD7HP/ANBO7/75i/8AiKPsc/8A0E7v/vmL/wCIoAp6LcXMt9rdvcXDzra3qxRF1UEKbeF8fKBn5nb862KACigAooAKKACigAooAKKACsrV/Dmla2mL21VpO0q/K4/EfyPFXTqSpy5o7kyipKzPPdZ+Gl9abpdLlF3EMny3wsg/of0+lcJJposZ3intDFMCSyyJhhk5789693D4iFda7o82rSlTemwxYIUbckUat6hQD/nmk+zQYx5EeP8AcHt/gPyrp5I9jLmY5YYkxsjRcdMKBigxRkNmNDu5OV68Y/lT5UK7Og0bwDqOtDctjHb2znJlnTaGz1IGMt1+nvXo+h/DzRdIKyyxC8uBzulUBfwXp+ea8rF4tL3KX3nbQoN+9M6wAKoVQAAMADtS15R2hRQAUUAFFAGJof8AyGPE3/YST/0kt626ACigAooAKKACigAooAKKACigAqjqWj6fq8PlX9rHMvYkfMv0I5FVGTi+aImlJWZwGtfDGRN0uj3HmDOfInOCPo3f8cfWuFvNOvdPufs93aywzHojry309fwr3cLi41VaWjPNrUHB3Wx0Wi/D7V9TKyXK/YbcnlpR85Hsv+OK9E0XwXo+i7XSD7RcAf66f5jn2HQfz9648Xjeb3KexvQw9vekdDRXmHYFFABRQAUUAFFAGJof/IY8Tf8AYST/ANJLetugAooAKKACigAooAKKACigAooAKKACszVFU6jopIBIvGxx/wBMJaAJk1jTpJ5YEu4jJEzrIM42lApbPpgMv51cVldQysGVhkEHgigBaKACigAooAKKACigDE0P/kMeJv8AsJJ/6SW9bdABRQAUUAFFABRQAUUAFFABRQAUUAFZOrTxJquhRPKiyPeOVQsAWAglzgd+o/MUAVLnwbpt1eveGS4Sd9xLIy9TIsgPK87WXgHIwSCDmtqztUsrOG2jZmWJQoZsZPuccfkAKAJ6KACigAooAKKACigDE0P/AJDHib/sJJ/6SW9bdABRQAUUAFFABRQAUUAFFABRQAUUAYmveKdM8Px4uZd9wRlbePlz7n0Hua8t1Txrqeo6xa6iBFC1mzNboEDbNwweTySQcV6WDwamueexyV6/K+WJ3nh34gWGq7be/wBtndngZP7tz7Ht9D+ddjXJiKEqM+Vm9KoqkboKKwNAooAKKACigCC5vLazQPczxwqeAZGAzWTP4u0aDIFw0rDtGhP69Kwq4mlS+NnRRwtWt8COf0nxVBZalrc9wjvFe3izwCOPBVRDHHhst1ynb+uBrr450snBiuV9yg/xrl/tOjc6nlVe3QvW/ijRrjpeqh7iQFcfieK1Y5Y5o1kikV0YZDKcg/jXXSr06qvBnHVw9Si7TVh9FbGIUUAFFABRQAUUAFFAEF3eW1hbPcXc6Qwp953OAK838RfEiWbfbaKpij6G5cfMf90dvqefpXZg8N7aV3sjnr1uRWW55/JJJNI0krs8jHLMxySfc02vfSSVkea3cK6jw7441HRCsEpN3Zjjy3PzIP8AZP8ATpWOIoRrQ5WXSqOnK6PVdG8Qadr1v5llOGYDLxNw6fUf16VqV87OEoScZHqxkpK6CioKCigBksiQxNLI4SNAWZmOABXCaz4yuJ5Gh04+TCDjzcfM/wDgP1rgx+KdGFo7s9DL8Iq87y2Ry0kkkzl5XZ3PVmOSfxqvLdwQMRK+3AyWKnAHueg6V89703rufSe7BWWiEN7bK+xplU5288ZPoPXpRHeW80jJHKrsqhzt5AB6c9KPZyXQFUi+pODkZFT2t7c2MoktZ3iYf3T1+o70QnKEuaL1CdONSPLJXR22geLheSJaahtSZsBJRwHPoR2P+eK6yvpsJiPb0+br1PlsZhvq9Tl6dAorqOQKKACigAooAK5LxF480/Rt9va4u70ZBRT8iH/aP9B6dq2oUZVp8qM6lRQjdnlWs+IL3WbtZNQutzMT5cWcKvsq/wCT61nb1AY7hhevPSvoqcY048sTy5Nyd2KWAXcTxjOaY08KNtaVA3oTz1A/mR+dVdE2ZJRkU7iJba6ms7hJ7aZ4pkOVdGwRXo3h34kq2y21tdrcAXSDg/7w7fUflXHjMMq0eaO6OihW5HZ7HoUM8VzCk0EiyROMq6HII9jUleA1Z2Z6YUUAc542klj0ELGSFeVVfHpgn+YFeZTXdvbuFmlCEoz89Ao6nPbGa+fzJSlXsux9HlTjGhfzEF/aFtouIy2cbd3Oe4x6jv6VDusL/qwcyIMpuPIIOMgcdz+P0rgUZx1seg5QlpcjaGwbLMx2xuQ67icktjn8T+tLYjTlZvsjLkqBkOTldox36Yxiqbm0TGME9Cz9ttsLiUHIGMZPHr+o/OlF7bEMRMpCjLc9B7/kahwl2LVSPcn6HIr17S5JZtJs5JiTK8KFiepOBXq5S3zSR5GcJcsH6luivbPCCigArnLHSLHULzVZruHzZBesoLO3ACrgdaALv/CNaP8A8+S/99t/jR/wjWj/APPkv/fbf40AH/CNaRggWmMgqSJGBwRg968+8RfDm6st1xpJa6gHJhP+sX6f3h+tduCxCpStLZnPiKXOrrdHAXNoszbZQwKhlx0xnH6jFV5NNjkj2eY6qW3Hb65Hf8P1Ne06alqeepNaDptPjmk3M7j5duBjHTr/AC/75FMbS4mk3lmznPQf3lP/ALKP1odJBzsnS0jR4nBbdGmwEnqP8+lRDTYgFAZsLjjOM8Y5xTdNMFJofHZrHKJN7MwOefoR/Wur8PeDtS19lkVPs9nnm4kHB/3R3/l71nUqRoQ5mVCLqSsj07TfBek6ZaiFBcuxOXc3Mi7j64UgD8BVz/hHNN/uXH/gXL/8VXzs5ucnJ9T1Yx5VZB/wjmm/3Lj/AMC5f/iqPDZY6BbbndyN65dixwHIHJ5NSMvXlpDfWkltOu6OQYI/rXlvibwdNBHIkyPNakELNHn5c5HI7HmvMzGhKSVWG6PUy3ERi3Sns/zMRNNtEfesOHL+YWDHO4jBPXrjinR2FrCqLHEAqEFRk8Y6V4bqSe576pxF+xW+528vl/vcnnnd/Pmmrp1ohUiBflxjJJ6AL/ID8qXPIfs4irYWqKyrEAGOWAJ5praXaS5DQ7i2QcsSTn8ee1Uqk76CdOFtTttA8JTXEqXOooYoFOREwwz/AFHYfrXfdK+gwGHdGneW7Pm8wxKrVLR2QUV3HAFFABWTon+t1b/r/f8A9BSgDWooAKKAOe8QeD9N19WkkTyLvHFxGOT/ALw7j9fevKdd8Lan4fk/0mLfbk4WePlD/gfY162BxX/LqfyOHE0ftxMWivWOIKtafpt5qt0Laxt3mlPZR0HqT0A+tTKShFykVFOTsj07w78OrSx23GrFbu4HIiH+rX/4r8ePau4ACgBQABwAO1fO4nEOtO/Q9SlSVONhaK5zUKyfDX/IAt/96T/0NqANajGetAGRe+GdJvizParHI38cR2nPrxx+YrHm8BW5H7i+lQ/9NEDfyxXBXy6lUd1oz0aGZVaS5XqiofANwD8t/ER6mMj+tKngGYn59QjX6RE/1Fcn9ku/xHW840+EvQ+BLJdpmup5COoXCg/zrcstG07TzutbSNH/AL/VvzPNdtDA0qLvuzhxGPq1lbZF+iu04QooAKazqv3mA4zyewoAdWTon+t1b/r/AH/9BSgDWooAKKACmSRRzRNFKivG4wysMgj0Io2A4DxF8N4pt9zorCKTqbZz8p/3T2PsePpXm91Z3NldNbXUEkUynBR1wa97B4pVY8st0ebXo8jutjr/AA78PL3UdtxqZa0tjyEx+8cfT+H8efavT9N0uy0i1FvY26Qx9Tt6sfUnqTXBjcV7SXJHZHTh6PIuZ7lyiuA6Qqtf3sWnWb3U+RDGR5jZACKSAWJJGFGck+gNAFS08Q6debFjlcSsyoYjGSysc8HGRxtYHnAKkE8U3w1/yALf/ek/9DagDWooAKKACigAooAKKACigArnvEvhptfeKSO6+zyRW80KNtJ/1hTORkZG1GGD6g9QKAL2l6fd2U909zevcLK3yKxY7RuY55JwSGAwMD5RxTNE/wBbq3/X+/8A6ClAGtRQAUUAFFABUMtpbTTxTy28TyxZ8t2QEpnrg9qabWwNXJqKQBRQAVDd2sF9Zz2lzGJIJ42jkQn7ysMEfkaAK40ixBOISAZhcFRI23zNxbOM4+8Sfc81X8Nf8gC3/wB6T/0NqANaigAooAKKACigAooAKKACigArJ0T/AFurf9f7/wDoKUAa1FABRQAUUAFFABRQAUUAFFABWT4a/wCQBb/70n/obUAa1FABRQAUUAFFABRQAUUAFQzXdtbjM9xFF/vuB/OlKSirscYuTskUZPEejxddQhP+4d38qxNC8R2Uc2q/bJYoRJfO8BDM3mR7VAY/KNvQ8VzvGUE7cyOhYOu1flZ0EWt6XOcR6hbEnsZAD+Rq6rq67kYMD3BzW0KsJ/C7mU6U6fxqw6irMwooAKKACigAooAKjluIYBmaaOMersBSbSV2NJt2RRk8QaREcNqFuf8Acfd/KsLw14ksbfQLeLUJY7e5VpN8SlnA+diOdozkYP41zvF0F9pHQsHXauos3I/EOkSnA1CAf77bf51eiubecZhnjk/3HB/lWkK9OfwyTM50KtP4otEtFamQUUAFFABRQAVzuteLLbTHa3gX7RcjggHCofc/0H6Vhia8aEOZnRhsPKvU5Ecde+JNVvmO+7eNT/BCdg/Tn86yf68181WxFSq7yZ9RRw1OjG0ENEkZkMYdS46qDyKUEEZBB7cVjZm10AYEkAgkcH2qa3uZ7SQvbzSQsepjYrn8qqMpQd4uxMoRmrSVzodO8a31sVS8UXMXc4w4/Hof8813Gn6lbapbCe1k3L0IPVT6EV72BxvtvcnufPY/A+xfPD4fyLdFekeYFFABRQAVzus+LbXTXaCBftFwOCAcKp9z/QfpXPicRGhDmZ0YbDyr1ORHH3nifVr1vmumiX+7D8g/Pr+tZJJZizElicknqa+crYmpWd5M+noYWnRVooYZEEgjLqHPIXPJpQwJIBBI6jPSsLM3ugyNxXIyBkil7g9wcijVA0matn4j1WyYFLt5FH8Ep3g/nz+Vdbo/jG2vXWC8UW8x4DZ+Rj/T8fzr1sHj5KShU27nj47LouLqUlr2Onor3DwQooAKKAMzxDdyWOhXU8JIkChVI6jJAz+Ga8pJySSfqa8LNpP2kY+R7+TxSpyl5iKyuoZGDKehByKMjOMjJ5AryrHsXKsllExwZXXcxKjI6khjjj2qk2hWvnsxk2rtxwFDbiWyc477v0raNVpbGDopu9y5FYW9ssx4PmOJHZwOSO/T2q4SB1OM8CspScnc1jFRVgyCSAenWtrwreS2uvQIhOyY+W6juO35GtcNJxrRa7mOKip0JJ9j0+ivrD5AKKACigDH8T3s1joU0kBKyMQgYfw56mvLWYKpZiAoGSSeleDmsm6qj5H0OUQSpOXdgCGAKkEHoRS5GcZ5HavLPWKN3p0F4ZEkkdfNHKqR2BGRke9Qpo9rHcCUPljL5jFtuS+c+lbRqtLYxlSTe5Yg06GB3cZdnQRkuAeBn296t/KgAyAOgrOUuZmkY8qsIzqpUMwBY4UE9T1wPyp1SUek+D76a90XE5LNDIYwxPJGARn866Cvq8NJyoxb7Hx+KgoVpRXcKK3MAooAhuraO8tJbaYZjkUq1eYazoN3pExEiF7cn5JlHB+voa8rM6DnFVI9D1sqxChJ05dTmZNFglf53kKhQoAIzgEnGcdOentSyaLaSqqsZNozkAgbskHnjnoOteR7Z9j2lQXcWTR7aWAQs0mwStKACOrAg9v9ompJtNgnmWWTcWUDB445U+n+yPzNT7VleyViNtHt2hSLfMFRSoG/OQe3PpwfqKgj0GFN0ZbMPleUuAAwGADzjvgn8frmo1miZUEy1/ZEMh2IHJbcFVVBxuxwBj2xXoXgvwm2lQwXFyGVoowkEbn5lGMZb3x2rswNOVaopNaLU4cfUjRpOKer0O0or6A+dCigAooAr31nDqFnLazjMcgwcdR6Ee9eX634eutNLxXEfmW7ggSquVYe/ofY/rXlZnQckqseh6+V4hRbpS6nLHw9byTSSTSzSbmJA3dRhRhj3xt49M1aGk2wMZ+Y7HVx0GWGcE4HJ5ryHXfY9lUF3GnR7cwwxbpNsIITkcZYN6dio/rmnT6Ta3MjyShiz9enTBBHTp836CpVVop0kxsuj206BJGlZQqggt1weD7dxxxyaa+h2jq4BkQuGDMjAE5bdnp1zTVZidFdxsmhWkkm/dIpyeE2gcrtx06Y/ma2vD/heW4nlSxibbK+6SVwAqcAY4HQY4FXT56zVOK3M6jhQi6knser6Zp0Ol2EdrDyF5LHqx7mrlfUQgoRUV0Plak3OTk+oUVRAUUAFNdFkQo6hlYYKkZBFG4bGFe+D9Ku2Z40e3c/88jx+R4/LFYc3gK6UfuL2GQ+jqV/lmvLr5ZGb5qbseth81nBctRXKL+DNYTpHE/+7IP64pn/AAh+tZ/49lH/AG1X/GuF5ZXO9ZrQtrcsReCNVcje9vGO+XJP6CtO18BRK+bu9Z1/uxJt/U5/lW9LKne9RnPWzdWtTX3nQ6foun6YB9mtlV/+ejcsfxNaFexTpxpx5YrQ8WpUlUlzTd2FFWQFFABRQAUjKroUdQykYIIyDQBh3vhHSbti6xNbsephOB+XSsObwFMMmC+jb0DoV/UE15lfLITfNDQ9XD5pOmuWorr8Si/grWE6LBJ/uSf4gVF/wiGtf8+q/wDf1f8AGuB5ZXWx6Ec1oNa3JE8F6w/VIE/35P8AAGr0PgK4YDz76JD3CIW/nitKeVVH8bsZVM3pr4Fc2rPwdpVqyvIj3DD/AJ6txn6DA/Ot6ONIo1jjRURRgKowBXr0MNToK0Tx8Riald3mx1FbnOFFABRQAUUAFFABRQAUUAFFABRQAUUAFFABRQAUUAFFABRQAUUAFFABRQAUUAf/2QD/4THkaHR0cDovL25zLmFkb2JlLmNvbS94YXAvMS4wLwA8P3hwYWNrZXQgYmVnaW49J++7vycgaWQ9J1c1TTBNcENlaGlIenJlU3pOVGN6a2M5ZCc/Pg0KPHg6eG1wbWV0YSB4bWxuczp4PSJhZG9iZTpuczptZXRhLyI+PHJkZjpSREYgeG1sbnM6cmRmPSJodHRwOi8vd3d3LnczLm9yZy8xOTk5LzAyLzIyLXJkZi1zeW50YXgtbnMjIj48cmRmOkRlc2NyaXB0aW9uIHJkZjphYm91dD0idXVpZDpmYWY1YmRkNS1iYTNkLTExZGEtYWQzMS1kMzNkNzUxODJmMWIiIHhtbG5zOnhtcD0iaHR0cDovL25zLmFkb2JlLmNvbS94YXAvMS4wLyI+PHhtcDpDcmVhdG9yVG9vbD5XaW5kb3dzIFBob3RvIEVkaXRvciAxMC4wLjEwMDExLjE2Mzg0PC94bXA6Q3JlYXRvclRvb2w+PHhtcDpDcmVhdGVEYXRlPjIwMjItMDMtMDNUMTA6NDM6MjQ8L3htcDpDcmVhdGVEYXRlPjwvcmRmOkRlc2NyaXB0aW9uPjwvcmRmOlJERj48L3g6eG1wbWV0YT4NCiAgICAgICAgICAgICAgICAgICAgICAgICAgICAgICAgICAgICAgICAgICAgICAgICAgICAgICAgICAgICAgICAgICAgICAgICAgICAgICAgICAgICAgICAgICAgICAgICAgICAKICAgICAgICAgICAgICAgICAgICAgICAgICAgICAgICAgICAgICAgICAgICAgICAgICAgICAgICAgICAgICAgICAgICAgICAgICAgICAgICAgICAgICAgICAgICAgICAgICAgIAogICAgICAgICAgICAgICAgICAgICAgICAgICAgICAgICAgICAgICAgICAgICAgICAgICAgICAgICAgICAgICAgICAgICAgICAgICAgICAgICAgICAgICAgICAgICAgICAgICAgCiAgICAgICAgICAgICAgICAgICAgICAgICAgICAgICAgICAgICAgICAgICAgICAgICAgICAgICAgICAgICAgICAgICAgICAgICAgICAgICAgICAgICAgICAgICAgICAgICAgICAKICAgICAgICAgICAgICAgICAgICAgICAgICAgICAgICAgICAgICAgICAgICAgICAgICAgICAgICAgICAgICAgICAgICAgICAgICAgICAgICAgICAgICAgICAgICAgICAgICAgIAogICAgICAgICAgICAgICAgICAgICAgICAgICAgICAgICAgICAgICAgICAgICAgICAgICAgICAgICAgICAgICAgICAgICAgICAgICAgICAgICAgICAgICAgICAgICAgICAgICAgCiAgICAgICAgICAgICAgICAgICAgICAgICAgICAgICAgICAgICAgICAgICAgICAgICAgICAgICAgICAgICAgICAgICAgICAgICAgICAgICAgICAgICAgICAgICAgICAgICAgICAKICAgICAgICAgICAgICAgICAgICAgICAgICAgICAgICAgICAgICAgICAgICAgICAgICAgICAgICAgICAgICAgICAgICAgICAgICAgICAgICAgICAgICAgICAgICAgICAgICAgIAogICAgICAgICAgICAgICAgICAgICAgICAgICAgICAgICAgICAgICAgICAgICAgICAgICAgICAgICAgICAgICAgICAgICAgICAgICAgICAgICAgICAgICAgICAgICAgICAgICAgCiAgICAgICAgICAgICAgICAgICAgICAgICAgICAgICAgICAgICAgICAgICAgICAgICAgICAgICAgICAgICAgICAgICAgICAgICAgICAgICAgICAgICAgICAgICAgICAgICAgICAKICAgICAgICAgICAgICAgICAgICAgICAgICAgICAgICAgICAgICAgICAgICAgICAgICAgICAgICAgICAgICAgICAgICAgICAgICAgICAgICAgICAgICAgICAgICAgICAgICAgIAogICAgICAgICAgICAgICAgICAgICAgICAgICAgICAgICAgICAgICAgICAgICAgICAgICAgICAgICAgICAgICAgICAgICAgICAgICAgICAgICAgICAgICAgICAgICAgICAgICAgCiAgICAgICAgICAgICAgICAgICAgICAgICAgICAgICAgICAgICAgICAgICAgICAgICAgICAgICAgICAgICAgICAgICAgICAgICAgICAgICAgICAgICAgICAgICAgICAgICAgICAKICAgICAgICAgICAgICAgICAgICAgICAgICAgICAgICAgICAgICAgICAgICAgICAgICAgICAgICAgICAgICAgICAgICAgICAgICAgICAgICAgICAgICAgICAgICAgICAgICAgIAogICAgICAgICAgICAgICAgICAgICAgICAgICAgICAgICAgICAgICAgICAgICAgICAgICAgICAgICAgICAgICAgICAgICAgICAgICAgICAgICAgICAgICAgICAgICAgICAgICAgCiAgICAgICAgICAgICAgICAgICAgICAgICAgICAgICAgICAgICAgICAgICAgICAgICAgICAgICAgICAgICAgICAgICAgICAgICAgICAgICAgICAgICAgICAgICAgICAgICAgICAKICAgICAgICAgICAgICAgICAgICAgICAgICAgICAgICAgICAgICAgICAgICAgICAgICAgICAgICAgICAgICAgICAgICAgICAgICAgICAgICAgICAgICAgICAgICAgICAgICAgIAogICAgICAgICAgICAgICAgICAgICAgICAgICAgICAgICAgICAgICAgICAgICAgICAgICAgICAgICAgICAgICAgICAgICAgICAgICAgICAgICAgICAgICAgICAgICAgICAgICAgCiAgICAgICAgICAgICAgICAgICAgICAgICAgICAgICAgICAgICAgICAgICAgICAgICAgICAgICAgICAgICAgICAgICAgICAgICAgICAgICAgICAgICAgICAgICAgICAgICAgICAKICAgICAgICAgICAgICAgICAgICAgICAgICAgICAgICAgICAgICAgICAgICAgICAgICAgICAgICAgICAgICAgICAgICAgICAgICAgICAgICAgICAgICAgICAgICAgICAgICAgIAogICAgICAgICAgICAgICAgICAgICAgICAgICAgICAgICAgICAgICAgICAgICAgICAgICAgICAgICAgICAgICAgICAgICAgICAgICAgICAgICAgICAgICAgICAgICAgICAgICAgCiAgICAgICAgICAgICAgICAgICAgICAgICAgICAgICAgICAgICAgICAgICAgICAgICAgICAgICAgICAgICAgICAgICAgICAgICAgICAgICAgICAgICAgICAgICAgICAgICAgICAKICAgICAgICAgICAgICAgICAgICAgICAgICAgICAgICAgICAgICAgICAgICAgICAgICAgICAgICAgICAgICAgICAgICAgICAgICAgICAgICAgICAgICAgICAgICAgICAgICAgIAogICAgICAgICAgICAgICAgICAgICAgICAgICAgICAgICAgICAgICAgICAgICAgICAgICAgICAgICAgICAgICAgICAgICAgICAgICAgICAgICAgICAgICAgICAgICAgICAgICAgCiAgICAgICAgICAgICAgICAgICAgICAgICAgICAgICAgICAgICAgICAgICAgICAgICAgICAgICAgICAgICAgICAgICAgICAgICAgICAgICAgICAgICAgICAgICAgICAgICAgICAKICAgICAgICAgICAgICAgICAgICAgICAgICAgICAgICAgICAgICAgICAgICAgICAgICAgICAgICAgICAgICAgICAgICAgICAgICAgICAgICAgICAgICAgICAgICAgICAgICAgIAogICAgICAgICAgICAgICAgICAgICAgICAgICAgICAgICAgICAgICAgICAgICAgICAgICAgICAgICAgICAgICAgICAgICAgICAgICAgICAgICAgICAgICAgICAgICAgICAgICAgCiAgICAgICAgICAgICAgICAgICAgICAgICAgICAgICAgICAgICAgICAgICAgICAgICAgICAgICAgICAgICAgICAgICAgICAgICAgICAgICAgICAgICAgICAgICAgICAgICAgICAKICAgICAgICAgICAgICAgICAgICAgICAgICAgICAgICAgICAgICAgICAgICAgICAgICAgICAgICAgICAgICAgICAgICAgICAgICAgICAgICAgICAgICAgICAgICAgICAgICAgIAogICAgICAgICAgICAgICAgICAgICAgICAgICAgICAgICAgICAgICAgICAgICAgICAgICAgICAgICAgICAgICAgICAgICAgICAgICAgICAgICAgICAgICAgICAgICAgICAgICAgCiAgICAgICAgICAgICAgICAgICAgICAgICAgICAgICAgICAgICAgICAgICAgICAgICAgICAgICAgICAgICAgICAgICAgICAgICAgICAgICAgICAgICAgICAgICAgICAgICAgICAKICAgICAgICAgICAgICAgICAgICAgICAgICAgICAgICAgICAgICAgICAgICAgICAgICAgICAgICAgICAgICAgICAgICAgICAgICAgICAgICAgICAgICAgICAgICAgICAgICAgIAogICAgICAgICAgICAgICAgICAgICAgICAgICAgICAgICAgICAgICAgICAgICAgICAgICAgICAgICAgICAgICAgICAgICAgICAgICAgICAgICAgICAgICAgICAgICAgICAgICAgCiAgICAgICAgICAgICAgICAgICAgICAgICAgICAgICAgICAgICAgICAgICAgICAgICAgICAgICAgICAgICAgICAgICAgICAgICAgICAgICAgICAgICAgICAgICAgICAgICAgICAKICAgICAgICAgICAgICAgICAgICAgICAgICAgICAgICAgICAgICAgICAgICAgICAgICAgICAgICAgICAgICAgICAgICAgICAgICAgICAgICAgICAgICAgICAgICAgICAgICAgIAogICAgICAgICAgICAgICAgICAgICAgICAgICAgICAgICAgICAgICAgICAgICAgICAgICAgICAgICAgICAgICAgICAgICAgICAgICAgICAgICAgICAgICAgICAgICAgICAgICAgCiAgICAgICAgICAgICAgICAgICAgICAgICAgICAgICAgICAgICAgICAgICAgICAgICAgICAgICAgICAgICAgICAgICAgICAgICAgICAgICAgICAgICAgICAgICAgICAgICAgICAKICAgICAgICAgICAgICAgICAgICAgICAgICAgICAgICAgICAgICAgICAgICAgICAgICAgICAgICAgICAgICAgICAgICAgICAgICAgICAgICAgICAgICAgICAgICAgICAgICAgIAogICAgICAgICAgICAgICAgICAgICAgICAgICAgICAgICAgICAgICAgICAgICAgICAgICAgICAgICAgICAgICAgICAgICAgICAgICAgICAgICAgICAgICAgICAgICAgICAgICAgCiAgICAgICAgICAgICAgICAgICAgICAgICAgICAgICAgICAgICAgICAgICAgICAgICAgICAgICAgICAgICAgICAgICAgICAgICAgICAgICAgICAgICAgICAgICAgICAgICAgICAKICAgICAgICAgICAgICAgICAgICAgICAgICAgICAgICAgICAgICAgICAgICAgICAgICAgICAgICAgICAgICAgICAgICAgICAgICAgICAgICAgICAgICAgICAgICAgICAgICAgIAogICAgICAgICAgICAgICAgICAgICAgICAgICAgICAgICAgICAgICAgICAgICAgICAgICAgICAgICAgICAgICAgICAgICAgICAgICAgICAgICAgICAgICAgICAgICAgICAgICAgCiAgICAgICAgICAgICAgICAgICAgICAgICAgICAgICAgICAgICAgICAgICAgICAgICAgICAgICAgICAgICAgICAgICAgICAgICAgICAgICAgICAgICAgICAgICAgICAgICAgICAKICAgICAgICAgICAgICAgICAgICAgICAgICAgICAgICAgICAgICAgICAgICAgICAgICAgICAgICAgICAgICAgICAgICAgICAgICAgICAgICAgICAgICAgICAgICAgICAgICAgIAogICAgICAgICAgICAgICAgICAgICAgICAgICAgICAgICAgICAgICAgICAgICAgICAgICAgICAgICAgICAgICAgICAgICAgICAgICAgICAgICAgICAgICAgICAgICAgICAgICAgCiAgICAgICAgICAgICAgICAgICAgICAgICAgICAgICAgICAgICAgICAgICAgICAgICAgICAgICAgICAgICAgICAgICAgICAgICAgICAgICAgICAgICAgICAgICAgICAgICAgICAKICAgICAgICAgICAgICAgICAgICAgICAgICAgICAgICAgICAgICAgICAgICAgICAgICAgICAgICAgICAgICAgICAgICAgICAgICAgICAgICAgICAgICAgICAgICAgICAgICAgIAogICAgICAgICAgICAgICAgICAgICAgICAgICAgICAgICAgICAgICAgICAgICAgICAgICAgICAgICAgICAgICAgICAgICAgICAgICAgICAgICAgICAgICAgICAgICAgICAgICAgCiAgICAgICAgICAgICAgICAgICAgICAgICAgICAgICAgICAgICAgICAgICAgICAgICAgICAgICAgICAgICAgICAgICAgICAgICAgICAgICAgICAgICAgICAgICAgICAgICAgICAKICAgICAgICAgICAgICAgICAgICAgICAgICAgICAgICAgICAgICAgICAgICAgICAgICAgICAgICAgICAgICAgICAgICAgICAgICAgICAgICAgICAgICAgICAgICAgICAgICAgIAogICAgICAgICAgICAgICAgICAgICAgICAgICAgICAgICAgICAgICAgICAgICAgICAgICAgICAgICAgICAgICAgICAgICAgICAgICAgICAgICAgICAgICAgICAgICAgICAgICAgCiAgICAgICAgICAgICAgICAgICAgICAgICAgICAgICAgICAgICAgICAgICAgICAgICAgICAgICAgICAgICAgICAgICAgICAgICAgICAgICAgICAgICAgICAgICAgICAgICAgICAKICAgICAgICAgICAgICAgICAgICAgICAgICAgICAgICAgICAgICAgICAgICAgICAgICAgICAgICAgICAgICAgICAgICAgICAgICAgICAgICAgICAgICAgICAgICAgICAgICAgIAogICAgICAgICAgICAgICAgICAgICAgICAgICAgICAgICAgICAgICAgICAgICAgICAgICAgICAgICAgICAgICAgICAgICAgICAgICAgICAgICAgICAgICAgICAgICAgICAgICAgCiAgICAgICAgICAgICAgICAgICAgICAgICAgICAgICAgICAgICAgICAgICAgICAgICAgICAgICAgICAgICAgICAgICAgICAgICAgICAgICAgICAgICAgICAgICAgICAgICAgICAKICAgICAgICAgICAgICAgICAgICAgICAgICAgICAgICAgICAgICAgICAgICAgICAgICAgICAgICAgICAgICAgICAgICAgICAgICAgICAgICAgICAgICAgICAgICAgICAgICAgIAogICAgICAgICAgICAgICAgICAgICAgICAgICAgICAgICAgICAgICAgICAgICAgICAgICAgICAgICAgICAgICAgICAgICAgICAgICAgICAgICAgICAgICAgICAgICAgICAgICAgCiAgICAgICAgICAgICAgICAgICAgICAgICAgICAgICAgICAgICAgICAgICAgICAgICAgICAgICAgICAgICAgICAgICAgICAgICAgICAgICAgICAgICAgICAgICAgICAgICAgICAKICAgICAgICAgICAgICAgICAgICAgICAgICAgICAgICAgICAgICAgICAgICAgICAgICAgICAgICAgICAgICAgICAgICAgICAgICAgICAgICAgICAgICAgICAgICAgICAgICAgIAogICAgICAgICAgICAgICAgICAgICAgICAgICAgICAgICAgICAgICAgICAgICAgICAgICAgICAgICAgICAgICAgICAgICAgICAgICAgICAgICAgICAgICAgICAgICAgICAgICAgCiAgICAgICAgICAgICAgICAgICAgICAgICAgICAgICAgICAgICAgICAgICAgICAgICAgICAgICAgICAgICAgICAgICAgICAgICAgICAgICAgICAgICAgICAgICAgICAgICAgICAKICAgICAgICAgICAgICAgICAgICAgICAgICAgICAgICAgICAgICAgICAgICAgICAgICAgICAgICAgICAgICAgICAgICAgICAgICAgICAgICAgICAgICAgICAgICAgICAgICAgIAogICAgICAgICAgICAgICAgICAgICAgICAgICAgICAgICAgICAgICAgICAgICAgICAgICAgICAgICAgICAgICAgICAgICAgICAgICAgICAgICAgICAgICAgICAgICAgICAgICAgCiAgICAgICAgICAgICAgICAgICAgICAgICAgICAgICAgICAgICAgICAgICAgICAgICAgICAgICAgICAgICAgICAgICAgICAgICAgICAgICAgICAgICAgICAgICAgICAgICAgICAKICAgICAgICAgICAgICAgICAgICAgICAgICAgICAgICAgICAgICAgICAgICAgICAgICAgICAgICAgICAgICAgICAgICAgICAgICAgICAgICAgICAgICAgICAgICAgICAgICAgIAogICAgICAgICAgICAgICAgICAgICAgICAgICAgICAgICAgICAgICAgICAgICAgICAgICAgICAgICAgICAgICAgICAgICAgICAgICAgICAgICAgICAgICAgICAgICAgICAgICAgCiAgICAgICAgICAgICAgICAgICAgICAgICAgICAgICAgICAgICAgICAgICAgICAgICAgICAgICAgICAgICAgICAgICAgICAgICAgICAgICAgICAgICAgICAgICAgICAgICAgICAKICAgICAgICAgICAgICAgICAgICAgICAgICAgICAgICAgICAgICAgICAgICAgICAgICAgICAgICAgICAgICAgICAgICAgICAgICAgICAgICAgICAgICAgICAgICAgICAgICAgIAogICAgICAgICAgICAgICAgICAgICAgICAgICAgICAgICAgICAgICAgICAgICAgICAgICAgICAgICAgICAgICAgICAgICAgICAgICAgICAgICAgICAgICAgICAgICAgICAgICAgCiAgICAgICAgICAgICAgICAgICAgICAgICAgICAgICAgICAgICAgICAgICAgICAgICAgICAgICAgICAgICAgICAgICAgICAgICAgICAgICAgICAgICAgICAgICAgICAgICAgICAKICAgICAgICAgICAgICAgICAgICAgICAgICAgICAgICAgICAgICAgICAgICAgICAgICAgICAgICAgICAgICAgICAgICAgICAgICAgICAgICAgICAgICAgICAgICAgICAgICAgIAogICAgICAgICAgICAgICAgICAgICAgICAgICAgICAgICAgICAgICAgICAgICAgICAgICAgICAgICAgICAgICAgICAgICAgICAgICAgICAgICAgICAgICAgICAgICAgICAgICAgCiAgICAgICAgICAgICAgICAgICAgICAgICAgICAgICAgICAgICAgICAgICAgICAgICAgICAgICAgICAgICAgICAgICAgICAgICAgICAgICAgICAgICAgICAgICAgICAgICAgICAKICAgICAgICAgICAgICAgICAgICAgICAgICAgICAgICAgICAgICAgICAgICAgICAgICAgICAgICAgICAgICAgICAgICAgICAgICAgICAgICAgICAgICAgICAgICAgICAgICAgIAogICAgICAgICAgICAgICAgICAgICAgICAgICAgICAgICAgICAgICAgICAgICAgICAgICAgICAgICAgICAgICAgICAgICAgICAgICAgICAgICAgICAgICAgICAgICAgICAgICAgCiAgICAgICAgICAgICAgICAgICAgICAgICAgICAgICAgICAgICAgICAgICAgICAgICAgICAgICAgICAgICAgICAgICAgICAgICAgICAgICAgICAgICAgICAgICAgICAgICAgICAKICAgICAgICAgICAgICAgICAgICAgICAgICAgICAgICAgICAgICAgICAgICAgICAgICAgICAgICAgICAgICAgICAgICAgICAgICAgICAgICAgICAgICAgICAgICAgICAgICAgIAogICAgICAgICAgICAgICAgICAgICAgICAgICAgICAgICAgICAgICAgICAgICAgICAgICAgICAgICAgICAgICAgICAgICAgICAgICAgICAgICAgICAgICAgICAgICAgICAgICAgCiAgICAgICAgICAgICAgICAgICAgICAgICAgICAgICAgICAgICAgICAgICAgICAgICAgICAgICAgICAgICAgICAgICAgICAgICAgICAgICAgICAgICAgICAgICAgICAgICAgICAKICAgICAgICAgICAgICAgICAgICAgICAgICAgICAgICAgICAgICAgICAgICAgICAgICAgICAgICAgICAgICAgICAgICAgICAgICAgICAgICAgICAgICAgICAgICAgICAgICAgIAogICAgICAgICAgICAgICAgICAgICAgICAgICAgICAgICAgICAgICAgICAgICAgICAgICAgICAgICAgICAgICAgICAgICAgICAgICAgICAgICAgICAgICAgICAgICAgICAgICAgCiAgICAgICAgICAgICAgICAgICAgICAgICAgICAgICAgICAgICAgICAgICAgICAgICAgICAgICAgICAgICAgICAgICAgICAgICAgICAgICAgICAgICAgICAgICAgICAgICAgICAKICAgICAgICAgICAgICAgICAgICAgICAgICAgICAgICAgICAgICAgICAgICAgICAgICAgICAgICAgICAgICAgICAgICAgICAgICAgICAgICAgICAgICAgICAgICAgICAgICAgIAogICAgICAgICAgICAgICAgICAgICAgICAgICAgICAgICAgICAgICAgICAgICAgICAgICAgICAgICAgICAgICAgICAgICAgICAgICAgICAgICAgICAgICAgICAgICAgICAgICAgCiAgICAgICAgICAgICAgICAgICAgICAgICAgICAgICAgICAgICAgICAgICAgICAgICAgICAgICAgICAgICAgICAgICAgICAgICAgICAgICAgICAgICAgICAgICAgICAgICAgICAKICAgICAgICAgICAgICAgICAgICAgICAgICAgICAgICAgICAgICAgICAgICAgICAgICAgICAgICAgICAgICAgICAgICAgICAgICAgICAgICAgICAgICAgICAgICAgICAgICAgIAogICAgICAgICAgICAgICAgICAgICAgICAgICAgICAgICAgICAgICAgICAgICAgICAgICAgICAgICAgICAgICAgICAgICAgICAgICAgICAgICAgICAgICAgICAgICAgICAgICAgCiAgICAgICAgICAgICAgICAgICAgICAgICAgICAgICAgICAgICAgICAgICAgICAgICAgICAgICAgICAgICAgICAgICAgICAgICAgICAgICAgICAgICAgICAgICAgICAgICAgICAKICAgICAgICAgICAgICAgICAgICAgICAgICAgICAgICAgICAgICAgICAgICAgICAgICAgICAgICAgICAgICAgICAgICAgICAgICAgICAgICAgICAgICAgICAgICAgICAgICAgIAogICAgICAgICAgICAgICAgICAgICAgICAgICAgICAgICAgICAgICAgICAgICAgICAgICAgICAgICAgICAgICAgICAgICAgICAgICAgICAgICAgICAgICAgICAgICAgICAgICAgCiAgICAgICAgICAgICAgICAgICAgICAgICAgICAgICAgICAgICAgICAgICAgICAgICAgICAgICAgICAgICAgICAgICAgICAgICAgICAgICAgICAgICAgICAgICAgICAgICAgICAKICAgICAgICAgICAgICAgICAgICAgICAgICAgICAgICAgICAgICAgICAgICAgICAgICAgICAgICAgICAgICAgICAgICAgICAgICAgICAgICAgICAgICAgICAgICAgICAgICAgIAogICAgICAgICAgICAgICAgICAgICAgICAgICAgICAgICAgICAgICAgICAgICAgICAgICAgICAgICAgICAgICAgICAgICAgICAgICAgICAgICAgICAgICAgICAgICAgICAgICAgCiAgICAgICAgICAgICAgICAgICAgICAgICAgICAgICAgICAgICAgICAgICAgICAgICAgICAgICAgICAgICAgICAgICAgICAgICAgICAgICAgICAgICAgICAgICAgICAgICAgICAKICAgICAgICAgICAgICAgICAgICAgICAgICAgICAgICAgICAgICAgICAgICAgICAgICAgICAgICAgICAgICAgICAgICAgICAgICAgICAgICAgICAgICAgICAgICAgICAgICAgIAogICAgICAgICAgICAgICAgICAgICAgICAgICAgICAgICAgICAgICAgICAgICAgICAgICAgICAgICAgICAgICAgICAgICAgICAgICAgICAgICAgICAgICAgICAgICAgICAgICAgCiAgICAgICAgICAgICAgICAgICAgICAgICAgICAgICAgICAgICAgICAgICAgICAgICAgICAgICAgICAgICAgICAgICAgICAgICAgICAgICAgICAgICAgICAgICAgICAgICAgICAKICAgICAgICAgICAgICAgICAgICAgICAgICAgICAgICAgICAgICAgICAgICAgICAgICAgICAgICAgICAgICAgICAgICAgICAgICAgICAgICAgICAgICAgICAgICAgICAgICAgIAogICAgICAgICAgICAgICAgICAgICAgICAgICAgICAgICAgICAgICAgICAgICAgICAgICAgICAgICAgICAgICAgICAgICAgICAgICAgICAgICAgICAgICAgICAgICAgICAgICAgCiAgICAgICAgICAgICAgICAgICAgICAgICAgICAgICAgICAgICAgICAgICAgICAgICAgICAgICAgICAgICAgICAgICAgICAgICAgICAgICAgICAgICAgICAgICAgICAgICAgICAKICAgICAgICAgICAgICAgICAgICAgICAgICAgICAgICAgICAgICAgICAgICAgICAgICAgICAgICAgICAgICAgICAgICAgICAgICAgICAgICAgICAgICAgICAgICAgICAgICAgIAogICAgICAgICAgICAgICAgICAgICAgICAgICAgICAgICAgICAgICAgICAgICAgICAgICAgICAgICAgICAgICAgICAgICAgICAgICAgICAgICAgICAgICAgICAgICAgICAgICAgCiAgICAgICAgICAgICAgICAgICAgICAgICAgICAgICAgICAgICAgICAgICAgICAgICAgICAgICAgICAgICAgICAgICAgICAgICAgICAgICAgICAgICAgICAgICAgICAgICAgICAKICAgICAgICAgICAgICAgICAgICAgICAgICAgICAgICAgICAgICAgICAgICAgICAgICAgICAgICAgICAgICAgICAgICAgICAgICAgICAgICAgICAgICAgICAgICAgICAgICAgIAogICAgICAgICAgICAgICAgICAgICAgICAgICAgICAgICAgICAgICAgICAgICAgICAgICAgICAgICAgICAgICAgICAgICAgICAgICAgICAgICAgICAgICAgICAgICAgICAgICAgCiAgICAgICAgICAgICAgICAgICAgICAgICAgICAgICAgICAgICAgICAgICAgICAgICAgICAgICAgICAgICAgICAgICAgICAgICAgICAgICAgICAgICAgICAgICAgICAgICAgICAKICAgICAgICAgICAgICAgICAgICAgICAgICAgICAgICAgICAgICAgICAgICAgICAgICAgICAgICAgICAgICAgICAgICAgICAgICAgICAgICAgICAgICAgICAgICAgICAgICAgIAogICAgICAgICAgICAgICAgICAgICAgICAgICAgICAgICAgICAgICAgICAgICAgICAgICAgICAgICAgICAgICAgICAgICAgICAgICAgICAgICAgICAgICAgICAgICAgICAgICAgCiAgICAgICAgICAgICAgICAgICAgICAgICAgICAgICAgICAgICAgICAgICAgICAgICAgICAgICAgICAgICAgICAgICAgICAgICAgICAgICAgICAgICAgICAgICAgICAgICAgICAKICAgICAgICAgICAgICAgICAgICAgICAgICAgICAgICAgICAgICAgICAgICAgICAgICAgICAgICAgICAgICAgICAgICAgICAgICAgICAgICAgICAgICAgICAgICAgICAgICAgIAogICAgICAgICAgICAgICAgICAgICAgICAgICAgICAgICAgICAgICAgICAgICAgICAgICAgICAgICAgICAgICAgICAgICAgICAgICAgICAgICAgICAgICAgICAgICAgICAgICAgCiAgICAgICAgICAgICAgICAgICAgICAgICAgICAgICAgICAgICAgICAgICAgICAgICAgICAgICAgICAgICAgICAgICAgICAgICAgICAgICAgICAgICAgICAgICAgICAgICAgICAKICAgICAgICAgICAgICAgICAgICAgICAgICAgICAgICAgICAgICAgICAgICAgICAgICAgICAgICAgICAgICAgICAgICAgICAgICAgICAgICAgICAgICAgICAgICAgICAgICAgIAogICAgICAgICAgICAgICAgICAgICAgICAgICAgICAgICAgICAgICAgICAgICAgICAgICAgICAgICAgICAgICAgICAgICAgICAgICAgICAgICAgICAgICAgICAgICAgICAgICAgCiAgICAgICAgICAgICAgICAgICAgICAgICAgICAgICAgICAgICAgICAgICAgICAgICAgICAgICAgICAgICAgICAgICAgICAgICAgICAgICAgICAgICAgICAgICAgICAgICAgICAKICAgICAgICAgICAgICAgICAgICAgICAgICAgICAgICAgICAgICAgICAgICAgICAgICAgICAgICAgICAgICAgICAgICAgICAgICAgICAgICAgICAgICAgICAgICAgICAgICAgIAogICAgICAgICAgICAgICAgICAgICAgICAgICAgICAgICAgICAgICAgICAgICAgICAgICAgICAgICAgICAgICAgICAgICAgICAgICAgICAgICAgICAgICAgICAgICAgICAgICAgCiAgICAgICAgICAgICAgICAgICAgICAgICAgICAgICAgICAgICAgICAgICAgICAgICAgICAgICAgICAgICAgICAgICAgICAgICAgICAgICAgICAgICAgICAgICAgICAgICAgICAKICAgICAgICAgICAgICAgICAgICAgICAgICAgICAgICAgICAgICAgICAgICAgICAgICAgICAgICAgICAgICAgICAgICAgICAgICAgICAgICAgICAgICAgICAgICAgICAgICAgIAogICAgICAgICAgICAgICAgICAgICAgICAgICAgICAgICAgICAgICAgICAgICAgICAgICAgICAgICAgICAgICAgICAgICAgICAgICAgICAgICAgICAgICAgICAgICAgICAgICAgCiAgICAgICAgICAgICAgICAgICAgICAgICAgICAgICAgICAgICAgICAgICAgICAgICAgICAgICAgICAgICAgICAgICAgICAgICAgICAgICAgICAgICAgICAgICAgICAgICAgICAKICAgICAgICAgICAgICAgICAgICAgICAgICAgICAgICAgICAgICAgICAgICAgICAgICAgICAgICAgICAgICAgICAgIDw/eHBhY2tldCBlbmQ9J3cnPz7/2wBDAAMCAgMCAgMDAwMEAwMEBQgFBQQEBQoHBwYIDAoMDAsKCwsNDhIQDQ4RDgsLEBYQERMUFRUVDA8XGBYUGBIUFRT/2wBDAQMEBAUEBQkFBQkUDQsNFBQUFBQUFBQUFBQUFBQUFBQUFBQUFBQUFBQUFBQUFBQUFBQUFBQUFBQUFBQUFBQUFBT/wAARCALOA0MDASIAAhEBAxEB/8QAHwAAAQUBAQEBAQEAAAAAAAAAAAECAwQFBgcICQoL/8QAtRAAAgEDAwIEAwUFBAQAAAF9AQIDAAQRBRIhMUEGE1FhByJxFDKBkaEII0KxwRVS0fAkM2JyggkKFhcYGRolJicoKSo0NTY3ODk6Q0RFRkdISUpTVFVWV1hZWmNkZWZnaGlqc3R1dnd4eXqDhIWGh4iJipKTlJWWl5iZmqKjpKWmp6ipqrKztLW2t7i5usLDxMXGx8jJytLT1NXW19jZ2uHi4+Tl5ufo6erx8vP09fb3+Pn6/8QAHwEAAwEBAQEBAQEBAQAAAAAAAAECAwQFBgcICQoL/8QAtREAAgECBAQDBAcFBAQAAQJ3AAECAxEEBSExBhJBUQdhcRMiMoEIFEKRobHBCSMzUvAVYnLRChYkNOEl8RcYGRomJygpKjU2Nzg5OkNERUZHSElKU1RVVldYWVpjZGVmZ2hpanN0dXZ3eHl6goOEhYaHiImKkpOUlZaXmJmaoqOkpaanqKmqsrO0tba3uLm6wsPExcbHyMnK0tPU1dbX2Nna4uPk5ebn6Onq8vP09fb3+Pn6/9oADAMBAAIRAxEAPwD9U6KKKACiiigAooooAKKKKACiiigAooooAKKKKACiiigAooooAKKKKACiiigAooooAKKKKACiiigAooooAKKKKACiiigAooooAKKKKACiiigAooooAKKKKACiiigAooooAKKKKACiiigAooooAKKKKACiiigAooooAKKKSgBaKKKACiiigAooooAKKKKACiiigAooooAKKKKACiiigAooooAKKKKACiiigAooooAKKKKACiiigAooooAKKKKACiiigAooooAKKKKACiiigAooooAKKKKACiiigAooooAKKKKACiiigAooooAKKKKACiiigAooooAKKKKACiiigAooooAKKKKACiiigAooooAaWxx3o3U1gd2RXyV4o/am8c6X4q17T7K30BbSx1K6s4ftFlO8hWKZ4wWInUEkLngDrXDisXSwcVKq9GYVa0KKvM+t93+c0bv85r42/wCGsviF/wA8fDf/AIL7j/5Jo/4ay+IX/PHw3/4L7j/5Jrzf7bwX834HL9fodz7J3f5zRu/zmvjb/hrL4hf88fDf/gvuP/kmj/hrL4hf88fDf/gvuP8A5Jpf25gv5vwD6/Q7n2Tu/wA5o3f5zXxt/wANZfEL/nj4b/8ABfcf/JNH/DWXxC/54+G//Bfcf/JNP+28F/N+AfX6Hc+yd3+c0bv85r42/wCGsviF/wA8fDf/AIL7j/5Jo/4ay+IX/PHw3/4L7j/5Jo/tvBfzfgH1+h3Psnd/nNG7/Oa+Nv8AhrL4hf8APHw3/wCC+4/+SaP+GsviF/zx8N/+C+4/+SaP7cwX834B/aFDufZO7/OaN3+c18bf8NZfEL/nj4b/APBfcf8AyTR/w1l8Qv8Anj4b/wDBfcf/ACTS/tzBfzfgH1+h3Psnd/nNG7/Oa+Nv+GsviF/zx8N/+C+4/wDkmj/hrL4hf88fDf8A4L7j/wCSaf8AbeC/m/APr9DufZO7/OaN3+c18bf8NZfEL/nj4b/8F9x/8k0f8NZfEL/nj4b/APBfcf8AyTR/bmC/m/APr9DufZO7/OaN3+c18bf8NZfEL/nj4b/8F9x/8k0f8NZfEL/nj4b/APBfcf8AyTR/beC/m/APr9DufZO7/OaN3+c18bf8NZfEL/nj4b/8F9x/8k0f8NZfEL/nj4b/APBfcf8AyTR/bmC/m/APr9DufZO7/OaN3+c18bf8NZfEL/nj4b/8F9x/8k0f8NZfEL/nj4b/APBfcf8AyTR/beC/m/APr9DufZO7/OaN3+c18bf8NZfEL/nj4b/8F9x/8k0f8NZfEL/nj4b/APBfcf8AyTR/beC/m/APr9DufZO7/OaN3+c18bf8NZfEL/nj4b/8F9x/8k0f8NZfEL/nj4b/APBfcf8AyTR/beC/m/AP7Qodz7J3f5zRu/zmvjb/AIay+IX/ADx8N/8AgvuP/kmj/hrL4hf88fDf/gvuP/kmj+28F/N+AfX6Hc+yd3+c0Fvevjb/AIay+IX/ADx8N/8AgvuP/kmj/hrL4hf88fDf/gvuP/kmj+3MEvtfgH1+h3PsncPWlBB6V88/Ab49eKfiP48n0TW4dJW2XTZr1JLC3licMksKYO+VwQRKew6V9CxjAP1r1sPiKeKh7SnsdlOpGrHmjsOooorqNQooooAKKKKACiiigAooooAKKKKACiiigAooooAKKKKACiiigAooooAKKKKACiiigAooooAKKKKACiiigAooooAKKKKACiiigAooooAKKKKACiiigAooooAKKKKACiiigAooooAKKKKACiiigAooooAKKKKACiiigAooooAKKKKACiiigAooooAKSlpKAEPavzt8af8AI+eLv+w7qP8A6Vy1+iR7V+dvjT/kfPF3/Yd1H/0rlr5HiP8AgQ9Tx8y/hx9TIooor4A+cCqy6lZyX8lit3A17HGs0lusimREYkKxXOQCQRn2PpVkDP0z1ryiS6ks/jN41nhYLNF4atZEk2jhg85B/QflXRh6XtebyX+RrTh7R2PV+hx39KDx14NeEab4y8X2Hwo8MeO77xGb+aeSz+16YLOFLeaGWRYjyF8wS/OG3BwuRjbjiunl1fxLr3xi13wzba2dJ0O1061u2a3t4nuFdy4KoXRlwx5beG+6AuNxI6vqMot3ktL9+hr7B3tc9Qo6fSvE5PiV4ig8I3Ect4v9raT4st9BuL5YUH2qIzR/OUwVVmRxnbjBzjGcV2XiDX9Sh+K2gaDb3rWun3ulX00yRxoWEiGIIwZlJBG48dDnkGs5YOcdG1179CfYyVrnY2Op2eqCc2d3BdiCZreYwSK4jkXhkbB4YdweRVmvH/gHo95BN4vuJNd1C6ij8S6jC9nNHbiOZgygyMViDBj3CMq/7I6V6B411oaDpUcx8QaP4dBlEX2rW03wtlSdgHnRfNwD948Dp6TVw/JX9lFkTp2nyI6D19qPX261wfhHxl/beuR23/Cd+E9fJVmFlo8Gy4YjoVP2uTgf7pqr8VvEmv6PrXgnT9AvILRtW1JrSdp4BKmwwuxOOuRgsMFckDPGaPqsvaezv+Y/ZPm5T0b37ZxR79vWvKL7x1qnw48Ua9puq383iKxg8Py69bXFzFDHOpibbJCxiRFZWyrA7cjJByMVi+H/AB94muI/CupwXmu69PqdxCNR02Tw3NBZQQzYJeGbyFIEW4fM0rhlBPet1gKjXMmrd9f6+809hJ6ntFvqdnd3l1aQXdvNd2u0XEEcqs8O4ZXeoOVyORnrVn+XrXjvw70O+T4zfEVm8R6pIlvc6e8iNHa7bkNbZxJ+542g4BQqccnJzVf4hfEKbwPcWt1F49stS1aLU7eC78NqLVVeKRwjKqAG4RlVg24yNyvTacBvBOdVU4yvon17B7BuSimesQ+ItOuNfudEjuN2p21ul1LBsb5Y3JCtuxtOSp4BzxRr/iLTvC9it5qdx9ltmmjgD7Gb53cIgwoJ5ZgM9Oea4nRyW/aB8TDv/YNl/wCjZqPj8M+BIOM/8TjTh/5NRVn9Xi60KUuqX5E+z95RPSPbvR6V4/rvxBvdY+IHiHQoNX1rRLPRYoUD6Lob6hJPPKm/dI3kSqqKMKFwpYljk4FU7z4geNL7R/hwm8+HtW1vUZrHUFubEjKqkgDiOQBlyFDr0xkA7hkG/wCz6llJ6X/4f+rFfV5Htn+f8/570HjrxXmNn4r13wv4q8WaHc3U/iZbHR01mykuYY4rgn94rQP5KKrAtGCMKDhiDmuZsfEPii6uvhjdf8JtdTp4nLzXljbWtmqKnkGX90fKLKiHCtuZiQwOQeaSwEpX95W7666X7fmL2DabbPa4NStLq8urOG6gmu7QqLi3jkVpISwyu9QcrkcjPUc1U8O+JtN8WWL3mlXP2u2SeS3L7GT94jFWXDAHgg89DjivL/h3od7H8ZPiM58RakyW9xp7SRmO1AuN1vkLIRDkBeQNhU4AyWPNct4Hk8RaF8I/FPiLTtf+xjStR1K7gsFtY2hnEc7M6Ts6s7BtrKNjRkA9Sa3eCjZpT10721+RfsFrZ9j6N9PeuU1z4o+G/Dt9fWl5ezmWwRZLxraxuLiO0DAkedJGjLHwM4YjA56Vv6Pf/wBqaPZXyp5YuYI5gp7blDYz3618zaxrlzL4g8SR6fdS6T8MfFmpm1vPE1xbK4imCmKZIWLnEchQJ5zrtUlsDjNZYTCRrSnGp0/rz1Jo0lNtS6H1FDNHcxRywusscih0dDkMpGQQfQin1zHgbXNKvLe/0TSYpktfDky6Uxk27CyRpkKQSTgMo5xyDx3PT159SHs5uD3RhKPK7MKKKKzJPYf2TP8AksU//YBuv/Si1r7JWvjb9kz/AJLFP/2Abr/0ota+yVr9MyH/AHGPqz6jAfwULRRRX0J6QUUUUAFFFFABRRRQAUUUUAFFFFABRRRQAUUUUAFFFFABRRRQAUUUUAFFFFABRRRQAUUUUAFFFFABRRRQAUUUUAFFFFABRRRQAUUUUAFFFFABRRRQAUUUUAFFFFABRRRQAUUUUAFFFFABRRRQAUUUUAFFFFABRRRQAUUUUAFFFFABRRRQAUUUUAFJS0lACHtX52+NP+R88Xf9h3Uf/SuWv0SPavzt8af8j54u/wCw7qP/AKVy18jxH/Ah6nj5l/Dj6mRRRRX5+fOBXJT+AvO8W67rn2/adU0uPTfI8n/V7TId+7dz/rPu4HTrXW0VrCpKnfle5UZOOx57L8JfM+E+m+Cjqn/HiLYfbvs+Q/kyrJ9zd/EEI+9xmuZ/svVbz9orxNPpGsR6ZPDo1mpW4tftNvOhaQHcgdGyMDBVxg5ByCa9o/nRzz7/AK/X6V1QxtSKlza3v07mka0o3v1POW+DMEngO90J9WnbVbu9Gqy6wYxuN9vWQSiPONgZFGz+6MZz81W7D4d6o3j7T/FmreIRfXdpZzWa2dvZ+RbKrlSGjBkdlbIJbLNu4xtCgV3dFR9brWavv5LqHtZ2aOQ8I+B7zwfrWtyW2qRTaLql9NqRspbQ+fFNIFLASiTaU3AkDZkbsZrr/wBT19B/+rn0o6cngetHt3rGpVnVfNLcylJydw9ffqa8i+Olhcap4n+GsFtfS6bdNrDmO7hVXaJhA5BwwwRkDIPUEj0Neu+mePrxR6ce/T0//XV0Kzo1FUtd/wCZcKnLK5w1j8MzeaxrWreJtQj1u91KxOlmO1tza20NoTlo0Te7bmYsSxf0AxjmXwr4N8Q+GrXTtMbxRDeaLYFUiVtNAvHhT/VxyTGQocLtUssSscHkE5rtPxz70d8Dk1bxNWSce/TT8NPyK9rO9jkLPwReaR481bxBp+qQx2mriA31jcWhlYvErIrRSCRdmVK5BVuV9649vgTqB8HReFE8TRRaDbXgvLdV00faSRcecEml8zEnUjKohJCnOAVb1/09OlH/AOunHG1o7P8ABB7aaOcs/BwtfiBqfib7ZuF7YwWP2XysbPLd237t3Od/THak8feD/wDhOdBj037V9i23dvdeb5Xmf6qVZCuNy4ztxnPHpXSY60d8d/SsvbT51U6r9CeeV+bscXe+BdRs/GF/4i8O6xBplxqcUceoW19ZtdwTNGAIpFCyRMjhcqcEqRjjIzTtY8AXGuXnhC8vdYae60G7a8kdrZQLlmRkKgKwEYG7jhjgc5PJ7L+VGD6Gr+sVtL72tsivaTPNviJ4Mmi/4TDxNbrNqc914cfS00m1j2yvgyNuRxk5O/oFzx3JxXnPg+TSfCa+E7nwT4gs/EWuX01rBqOm2lhYK5tmH755DBCksWzht0jkAgBsk19HnjnPJ4Az1/z/AJxR9D9PX2roo45wpunKN/8AhttjSNey5WjkbPwPeaP4+1fxDp+pwpa6wsH26xuLRpGLRIUBikEi7AV25DK/KnGM1m6X8Kf7O+G+v+E/7U3/ANqteN9s+z7fL+0Fj9zdzt3eozjtXoFFc31qo9L9vw2+4y9pIpaLpo0jSbGx3iX7NAkHmbdpbau3OOcA+mT9TXn8Hwhv9L0PUfDena9bR+FL2WRzZ3eli5uII5W3SRxyGQJjcXKmSN8Fud1em0UqeIqUm3F7hGpKLbRxPwx+Gv8Awq2xn0jTtTa68P7jJbWtxAv2iGRvvkzKQHUnkApkZxnAAHbUUVFSpOrJym7smUnN8zCiiisiT2H9kz/ksU//AGAbr/0ota+yVr42/ZM/5LFP/wBgG6/9KLWvsla/TMh/3GPqz6jAfwULRRRX0J6QUUUUAFFFFABRRRQAUUUUAFFFFABRRRQAUUUUAFFFFABRRRQAUUUUAFFFFABRRRQAUUUUAFFFFABRRRQAUUUUAFFFFABRRRQAUUUUAFFFFABRRRQAUUUUAFFFFABRRRQAUUUUAFFFFABRRRQAUUUUAFFFFABRRRQAUUUUAFFFFABRRRQAUUUUAFJS0lACHtX52+NP+R88Xf8AYd1H/wBK5a/RI9q/O3xp/wAj54u/7Duo/wDpXLXyPEf8CHqePmX8OPqZFFFFfAHzgUUUUAFFFFABRRRRtqBW1O8/s3Tbu72eZ5ETS7M4LbVJxnH+fSvMbL43Xs3grTfGN34ZNl4Xn8oXFxLf7rmAOQhlWHy8PEHIG7erFRu2DivRfE3/ACLerYOCbSX/ANAb/P4V4P4R03xP46/Z/wDD/hGPQxBb39tDG+tfaYjbJahg5bZu83zcLs2hNuWzvA6ethaVOdNzmlule9tLHXTjGULs9W1Lx5qM/ibUNF8M6NbaxcabCk19Ld6h9kiRnG6KJSsblnK5PQKox8xJ44bxx8R9Y8Q6P8OtY8Nwi3s9R12CCaO4v3tpHlHmq1vKEjYGPcjZbJ5HCHrVzVvhrFpvxI17W7zwTa+ONM1qOB1Pl2r3FlLEgjZSty6jY64IKNkFcEYwa0fGHgy+uPCvhF9E8OWthJous2+qPoVg8Uf7sM4ZEb5Y9+JNxGQuQRuPBPVGOGpuHKk/V+XXX/I1/dpr+v1OuvNU8TxwWsdroNjPftHvn83U2S1QgnCJIImkduh5iVevzZ4Pmfj7xqnjz4PWepfZH064TXbO0urKSQSmCaO9jR13DhhkE7hjIPQVv+MLTxNq3iPTbptJ1y48NPpzb9J0rVIrK6gvN4w0zpPHvXYSAFlYAgnaeDXK6f8AC/xLa/Ce60STTsak3iddRWH7as3+ji7STf5rkFvlBOWwxxyMnFLD06FOMZya5rrr018/67hBQVpNnsvirWLjQfDeqana2Y1G4s7Z50tDJ5fm7BnZu2nGcenYdOtchqXxkstPh8DzRWUl1B4mMbbllH+iRv5YEjjHI8yWJeo5bPYA+hMoZSCAQe3r7V4Jonwg8Rf2J4n0i+gKQ6dYSad4cnNwrGRftL3Eb8N8mClsvzAH5OK4sPChKL9o7Wf4MwpqLT5uh1nxC8cWV1pvxB0i+0L+1dI0PS0mu9120X2h3Qv5IKrlcKFO4E/eHFal144k0+68O+GvD2jx3+pXeni8+z3V40NvZ2qgKGeUI7E7iFACZOCTjHPODwP4h1L4O+N4rzTxF4r8Sm7uHsRNGRGzDy4Y94O3iNE5zjJNaF14b1vw7430HxTZaVNrEY0QaPf2NrNEk8RDCRJF811jYbtykbgeQRnt18tDSCadm+u7svM2tC9rnD2/iDW/7N+N2p22mvpOqxhTLDcXZiktyljhpI5EVtxBG5Pu7sqcr0qf4gaprV18DPDV5rNlC832zSJIzbXjXU10N6Es++OPDsT03EZJy1dHo/gXxLq1t8U11aztdLuPEqBLIxziSMA2vlDcRkgrwG+XqDtyMGoNa8N+JPEvwm8OaP8A8I7c2GraZd6Z50NxcWzK6wshkkRkkI2jaeuGPpXSqlLnVktGuvl6l80LnZ6b46v18ZQeHdc0ePS57+1ku7Oa3vTcLKqMBJHL8ibHUMhwN6nJw2QM9k3X/HrXEeIPDmoX3xV8H6vDbiTTNPtb6O5m3qNjSCPZ8ucnJU9Bx3rtvT6V4mI5G4yh1WpxVOXRoKKKK5DIKKKKACiiigAooooGew/smf8AJYp/+wDdf+lFrX2StfG37Jn/ACWKf/sA3X/pRa19krX6ZkP+4x9WfUYD+ChaKKK+hPSCiiigAooooAKKKKACiiigAooooAKKKKACiiigAooooAKKKKACiiigAooooAKKKKACiiigAooooAKKKKACiiigAooooAKKKKACiiigAooooAKKKKACiiigAooooAKKKKACiiigAooooAKKKKACiiigAooooAKKKKACiiigAooooAKKKKACiiigApKWkoAQ9q/O3xp/yPni7/sO6j/6Vy1+iTdq/O3xp/yPni7/ALDuo/8ApXLXyPEf8CHqePmX8OPqZFFFFfn584FFFFABRRRQAUUUUAR3NvHeW00Eq7opUKOuSMgjGMgg9zVTQdCsfDOj2elaZB9m0+zjEUEO9n2qOgyxJP4k1foqud25b6Du7WCiiipEFFFFABRRRQAUUUUAFFFFABRRRQAUUUUAFFFFABRRRQAUUUUxnsP7Jn/JYp/+wDdf+lFrX2StfG37Jn/JYp/+wDdf+lFrX2StfpuQ/wC4x9WfUZf/AAULRRRX0B6QUUUUAFFFFABRRRQAUUUUAFFFFABRRRQAUUUUAFFFFABRRRQAUUUUAFFFFABRRRQAUUUUAFFFFABRRRQAUUUUAFFFFABRRRQAUUUUAFFFFABRRRQAUUUUAFFFFABRRRQAUUUUAFFFFABRRRQAUUUUAFFFFABRRRQAUUUUAFFFFABRRRQAUUUUAFIaWmtQAlfnJ461SztfiB4vjmu4IpBruo5SSRVIzdSkcE+lfo2yn0zSLHjPA5NeTmGAWYQjBytbU48Th/rEUr2sfmX/AG3p3/P/AGv/AH+X/Gj+29O/5/7X/v8AL/jX6a7fajb7V4X+rcf+fv4f8E8/+zP734f8E/Mr+29O/wCf+1/7/L/jR/benf8AP/a/9/l/xr9NdvtRt9qP9W4/8/fw/wCCH9mf3vw/4J+ZX9t6d/z/ANr/AN/l/wAaP7b07/n/ALX/AL/L/jX6a7fajb7Uf6tx/wCfv4f8EP7M/vfh/wAE/Mr+29O/5/7X/v8AL/jR/benf8/9r/3+X/Gv012+1G32o/1bj/z9/D/gh/Zn978P+CfmV/benf8AP/a/9/l/xo/tvTv+f+1/7/L/AI1+mu32o2+1H+rcf+fv4f8ABD+zP734f8E/Mr+29O/5/wC1/wC/y/40f23p3/P/AGv/AH+X/Gv012+1G32o/wBW4/8AP38P+CH9mf3vw/4J+ZX9t6d/z/2v/f5f8aP7b07/AJ/7X/v8v+Nfprt9qNg9B+VL/VuP/P38P+CH9mLrL8D8wr/xXoml2j3V7rGn2drHjfNcXSIi5IAyxOByQPxFWP7b07/n/tf+/wAv+NfRv/BUQbP2FviYQAD/AMSzt/1E7SvqjYPSn/q3H/n7+Af2Yukz8yv7b07/AJ/7X/v8v+NH9t6d/wA/9r/3+X/Gv012+1G32o/1bj/z9/D/AIIf2Z/e/D/gn5lf23p3/P8A2v8A3+X/ABo/tvTv+f8Atf8Av8v+Nfprt9qNvtR/q3H/AJ+/h/wQ/sz+9+H/AAT8yv7b07/n/tf+/wAv+NH9t6d/z/2v/f5f8a/TXb7Ubfaj/VuP/P38P+CH9mf3vw/4J+ZX9t6d/wA/9r/3+X/Gj+29O/5/7X/v8v8AjX6a7fajb7Uf6tx/5+/h/wAEP7M/vfh/wT8yv7b07/n/ALX/AL/L/jR/benf8/8Aa/8Af5f8a/TXb7Ubfaj/AFbj/wA/fw/4If2Z/e/D/gn5lf23p3/P/a/9/l/xo/tvTv8An/tf+/y/41+mu32o2+1H+rcf+fv4f8EP7M/vfh/wT8yv7b07/n/tf+/y/wCNH9t6d/z/ANr/AN/l/wAa/TXb7UeX7Cl/q3H/AJ+/h/wQ/sz+9+B8Y/sh31vefGK4NvPHOF0K6DeW4bGbi1xnH0P5V9oKcio2j54AFPQECvpMDhPqVFUb3sepQo+xgoXuOooor0DoCiiigAooooAKKKKACiiigAooooAKKKKACiiigAooooAKKKKACiiigAooooAKKKKACiiigAooooAKKKKACiiigAooooAKKKKACiiigAooooAKKKKACiiigAooooAKKKKACiiigAooooAKKKKACiiigAooooAKKKKACiiigAooooAKKKKACiiigAooooAKKKKACiiigAooooAKKKKACiiigAooooAKKKKACiiigD5U/wCCo/8AyYp8TP8AuGf+nS0r6qr5V/4Kj/8AJinxM/7hn/p0tK+qqAFooooAKKKKACiiigAooooAKKKKACiiigAooooAKKKKACiiigAooooAKKKKACiiigAooooAKKKKACiiigAooooAKKKKACiiigAooooAKKKKACiiigAooooAKKKKACiiigAooooAKKKKACiiigAooooAKKKKACiiigAooooAKKKKACiiigAooooAKKKKACiiigAooooAKKKKACiiigAooooAKKKKACiiigAooooAKKKKACiiigAooooAKKKKACiiigAooooAKKKKACiiigAooooA+VP+Co//ACYp8TP+4Z/6dLSvqqvlX/gqP/yYp8TP+4Z/6dLSvqqgBaKKKACiiigAooooAKKKKACiiigAooooAKKKKACiiigAooooAKKKKACiiigAooooAKKKKACiiigAooooAKKKKACiiigAooooAKKKKACiiigAooooAKKKKACiiigAooooAKKKKACiiigAooooAKKKKACiiigAooooAKKKKACiiigAooooAKKKKACiiigAooooAKKKKACiiigAooooAKKKKACiiigAooooAKKKKACiiigAooooAKKKKACiiigAooooAKKKKACiiigAooooAKKKSgD5V/4Kj/8AJinxM/7hn/p0tK+qq+Vf+Co3/JivxM/7hn/p0tK+qhQAtFFFABRRRQAUUUUAFFFFABRRRQAUUUUAFFFFABRRRQAUUUUAFFFFABRRRQAUUUUAFFFFABRRRQAUUUUAFFFFABRRRQAUUUUAFFFFABRRRQAUUUUAFFFFABRRRQAUUUUAFFFFABRRRQAUUUUAFFFFABRRRQAUUUUAFFFFABRRRQAUUUUAFFFFABRRRQAUUUUAFFFFABRRRQAUUUUAFFFFABRRRQAUUUUAFFFFABRRRQAUUUUAFFFFABRRRQAUUUUAFFFFABRRSZ5xQAtFJmjcKAFpjNzz0pd4GMnGelcL8SfjV4N+FcO7xDrUNvdMm+OwhzLdS9cbYly2Dg/MQB6kVpCnOpLlgrvyIlOMFeTsj4x/4LE+PvH3hP4LWmg6dp+k3Xw68UvFY6reS28pvbO7hnS5h2SCQIEkEOMGMn92/PzLj6p/ZM8fePvip8CvDvjH4jafpOk67riG+hsdHt5YY4rR8GDcJZJGLsvz5yBh1GAQc/Mvxq/al0H426PeeEdd8AJqngO8eNp7e5vfKvZCkiyI6MoZYyCv3fmyMjcuTX1P8J/2hvAPxKgt7HRdRj0zUAoRNFvlW3nUAcKi52uAB/yzLADGcV318txmGgp1abSfzOanjKNWTjGWp6pRTdw9aXcK8w7BaKSigBaKKKACiiigAooooAKKKKACiiigAooooAKKKKACiiigAooooAKKKKACiiigAooooAKKKKACiiigAooooAKKKKACiiigAooooAKKKKACiiigAooooAKKKKACiiigAooooAKKKKACiiigAooooAKKKKACiiigAooooAKKKKACiiigAooooAKKKKACiiigAooooAKKKKACiiigAooooAKKKKACiiigAooooAKKKKACiiigAooooAKKKSgBaKSjcKAFpjfe64pS4UEk14h8UP2uPAvw9ae0tLw+J9Yjyv2PSmV0RhniSbOxeRggbmHda6KNCriJclKLb8jKpVhSXNN2Pbiw9a8v+KH7R3gb4V+Zb6nqf27VVB/4lWmgTXGfRhkKnr87LXxh8TP2q/HvxGaW3jvv+Ea0hsgWOkSMjsuejzcOxxkfLtU55FeORxrEu1QAPoP8Mn8a+ywXDE5WlipW8kfP4jOIx0oq5778TP2yvG3jcTWmibPCOlt8uLN99264I+acgbc8H5FUjpuNeDTSyXFzNcTSyTXEzF5JpGLu7E5LMSck/jTaK+5wuBw+DVqMEj52tiatZ3nK4UjqJFwwyPc/596Wiu9pSVpHOm1qj2P4Z/tXePvhz5VtLff8JNpCcfY9XdnkVc9En++OOPm3gdlr6y+GP7W3gT4iNBaz3h8N6xJx9h1UqgduOElzsbJOAMhjj7tfnV+lDDcpBwynqO1fNYzIMJilzRXJLy2+49XD5lWo6N8y8z9gBj60u4YyTX5i/DP9oTxx8KvKg0rVTe6THgf2TqWZ7cD0TJDR9/ukDPJBr6z+GP7afgzxe0Vn4hDeENUbAzdyb7NjznE4A2jA6yBB0GTXwWMyPF4PXl5o90fTYfMaFfRuz8z6IpahtbmK6t45oJVmhkUOkkbblZT0IPcYqTcPWvnz07jqKTNLQMKKKKACiiigAooooAKKKKACiiigAooooAKKKKACiiigAooooAKKKKACiiigAooooAKKKKACiiigAooooAKKKKACiiigAooooAKKKKACiiigAooooAKKKKACiiigAooooAKKKKACiiigAooooAKKKKACiiigAooooAKKKKACiiigAooooAKKKKACiiigAooooAKKKKACiiigAooooAKKKKACiiigAopM0ZoAWik3Ck3D1oAXOKaW+bHeqOt6/pvhvTJ9S1W/ttNsIBulubuVYo0HuzEAV80fE39uXQtH86z8E2DeILwZUX90rQWiHnkL9+TBHTCgg5DGuzD4Ovi5ctGLZz1sRSoK9R2PqC6vYLG3kuLmZLeCNS7ySsFVVHUknoBXz58Tv21vBvhF5LPw4j+L9SXI3Wr+XZoQe8xB3exjDjjGRXxv8Qvi54u+KVwX8Sa1PeW27clhF+6tY+SRiNSASM/ebLe9cfjHHb2AFfcYLheKtLFyv5L/ADPncRnDelFfM9F+JX7QXjn4qmWHWNXa10txj+ydNBgtiMfdfktKP99iMjgCvOlUIoUDAHHHSiivtaGGo4aPJRikvI+eqVZ1pc03dhRRRXUZBRRRQAUUUUAFFFFABQ3KkdqKKQa9Dsfh78XvF/wruA/hvWprS13730+YebaSZOTmInCk+qkH3r6s+Gf7cmg615Fn4z09/D14cIL+23TWbnHUgDfHn0wwHdhXxFSf5968PGZNg8am5RtLuv61PRw+YV8PtK68z9c9E1zT/EWmw6hpl9balYzDMVzaSrLG49mUkGr2R1zX5O+DfHviP4d6g174a1q60e4Y5kEDZilIGB5kbZV+vcHHbFfUvwz/AG7oZDFZ+PNI+zNnb/a2kIzx9erwEll4xkoX+gr4LG8O4rDa0vfj5b/cfS4fNKVbSWjPr4UtYfhHxtoPjrSV1Lw/q1rq9kxx5trKHCnGdrAcqcfwnB9q2wwboc18vKLi7SVmezGSkrodRSbgenNGaQxaKSloAKKKKACiiigAooooAKKKKACiiigAooooAKKKKACiiigAooooAKKKKACiiigAooooAKKKKACiiigAooooAKKKKACiiigAooooAKKKKACiiigAooooAKKKKACiiigAooooAKKKKACiiigAooooAKKKKACiiigAooooAKKKKACiiigAooooAKKKKACiiigAoopKAFopM0ZoAWko3DvxSbh0zQAhajcMHmuS+IHxW8KfDGzFx4j1m308uuYrfJeebnHyRKC7c45A474r5R+JX7dWsaqJbPwRpY0a2PA1TUlWW4I9UiBKIc92L8dhXpYTLcVjX+5hp36HHXxdLD/Gz6/8WeONA8C6W2o6/q1rpNmOBJcyBd59FHVj7Lk18ufEv9u+NfNs/Amkee3K/wBraurIn1SAEMfq5XGPukV8m69r2p+LNUfU9b1G51bUJPvXN7KZXA5O0E5woJOFGAOwFUBX3eC4Zo07SxL5n26HzdfN6k/doqyN3xl468RfEPUhf+JNZutYuVYlPtDYjjz1CRj5UHH8IFYVFH+TX2NOlTox5KcbI8Kc5VHzSdwoo/nR3A71oQFFFFMAoo7Z7UUAFFFFABRRRQAUUe9FK4bBRR6e/AopgFFFFABR/n/61FFLfQDQ8P8AiLVfCeqJqWialdaTfoMCezmaNmHXa2OGGexyD3FfTHwz/bq1bTTDZeONLXV7cYU6ppqrHcemXhOEfJ5JUpjHCtXyvRXmYzLMNjdK0Ne+zOyhiq1D4Hofqp4B+KnhT4mWP2nw1rdtqQUZkhVik8X+/GwDr36gdK6zcK/IWxvrrS76G9sbqewvojuiurWQxSxnGMqykEdfXvX0P8M/22vFfhdobTxVbL4p08Hb9oUrDexjI7gBJMAdCFJxy1fB43hmtSvLDPmXbqfSYfN6c/dqqzPvRWz34pRXnfwz+PHgr4rRqmiavH/aW3c+l3Y8m7TAGf3Z+8B3ZSyj1r0TcK+PnTqUpONSNmj3YTjNc0XdC0Um4UtQWFFJmloAKKKKACiiigApKWvD/wBoT43a78C/F3w51K5tNOl+Gmsap/YviC/lik+1abNMuLScOH2CEyAq5ZeMrg80Ae37hRnPI5FeJ6t8aNd1L9p7SPhh4UtLC70vTNKfWPF+pXSO72SSArZW8JV1AlkYFjuDfIM4rvNF+MngDxF4pn8MaT448N6p4kg3+bo9lq1vNeJt+9uhVy4xnnjjvQB2NFcp42+LHgj4Z/Zv+Ev8Y6B4U+1Z8j+29Ugs/Nx12eay7se1dHYahbarY295ZXEV5Z3Eayw3Fu4eORGGVZWHBBBBBFAFiiiigAooooAKKKKACiiigAooooAKKKKACiiigAooooAKKKKACiiigAooooAKKKKACiiigAooooAKKKKACiiigAooooAKKKKACiiigAooooAKKKKACiiigAooooAKKKKACiiigAooooAKKKKACiiigApD1ozTSw5OenWgBaTd715F8Uf2ovAnwxM1rLqX9tazHlTpulYlkRh2kbOyPHGQzBsEYBr5K+Jn7Xvjvx/5lrp1wPCOlNwYNNcm5YcffuCA3Y/6sJ1wc17WDyfF413jGy7vQ86vj6GH0buz7O+Jvx68FfChTHrmsRnUNu5NLs/312/BI+QH5QcHBfCnHWvk34mftseLPFYls/C1uvhPTWyPtHyzXrjn+IjZHkY+6CR2YV87ElpHdiWeRt7sxJLsepY9zyeaSvvMFw7hsPrW9+X4fcfN4jNa1W6p+6iW9u7jUr6a9vbiW9vJ23S3NzIZZJG45ZmyT0HXPYdqi9KKK+rjGMEoxVkeLdvdhRRRVCMfxhrE3h/wrq+p26RvPZ2ks6LKCVLKpIzyPSuYm8Xa7oMfhu91RtN1DT9XmhtHW0t5IJYJJgNjfNI4dc5BGFPINbPxM5+HfiUcZ/s+fH/fDYrP8OeCYbyy8Pajqep32rmzgjmtYLkxCGKTYPnCxom5gMgFi2MkjmvJr+0dZRpvp8tzvpcip3n3/Q1tU8faHo95PbXV5J5luqtcNFbyzR24boZXRSseevzFeDnpzWR4k+I66F4y0HSkilms72KaWeWGxnmYhUVkMRRSGHPzYDYGM4rj9Nht9OvPF+leIfFV14fkutSnn+yP9mRbq3lACPGZImZ8qCuFJI2gYGa19ajsvCfiL4cSyXL2+jWNtdWv27UG8sLmBRGJGIXazBTwccgj2rleKrzjvy2a/P1NlQpRaT1dv09P8zs9W8b6RoqubqW4HlRiaYQWc0xgUjIMgRD5fHTfjOD6Gs3xP4mnt9R8Gtpl2rWOq34jkeMK6zQmF3GCQeOAcg1j+JPHlx/b+raNFfaZo0UNtG9sb2BriXUfNUkfZ0V0J5+XA3kk9B35rw3k+EfhGzHpfclj0xDMO/4D8qKmLlKUoRfz+Y6eHjGMZv8ArT0PTPiBq11ofgfXdQspfJvLWzklil2htrKpwcHIP45p03iyx0iw0r+0J5Gu72JTFBbwPPNKdoZiscaliB1JAwMj2ql8Vhu+GviZR977BKMd/umuO1RW0vx1o+oX2tXGgaTc6GlrDqMfk+UJlfe0bNKjKuV5B4ztxk9K6MTXnRq+7qrfruYUacalP3u7O9k8eaBDoMWtSalHHpkkog+0MrAJIW27XGMoQeDuAx3xUuj+MNJ12+eytLiT7WsQnEM9vJAzxkkB0Dqu9cj7y5H515p4r0vTbTwOZtN1KbWYr7xFbXMt1cbMSyGVA5Qoiqy/L1UYzu5zkDrPERK/FbwkR0NlfKTk4PEfXn2/lUfW663Stp07+dzT6vSbsr9fw+Revvij4b0+fypbyd/9J+yCSCxuJo2m/wCeaukZVmzxtBJyCOoqi3xKWP4hPobW90bIWC3AddNuWk81pdvUL9zb/FjGcjd2HnXh3UjdeEdG0nUcaPottqouHv5re6LLtuGZYmbyFhU79qmTzMDHTsO8vr620T40RXOoXEdhBd6GLeCa4YRpNKLg7kVjgFsMvHXmsI4utVs7pK6/HvqaSw9Onum3Z/1sN0b4kRWeveL7bWL2WSPT77bDFb2jzNDAI1JZhEhIXOfmYe2a7+1uob62huLaVJ7eZFkjkjYMrKRkEEcEH1964DwGijX/AIikqMHUuc46eQvXitL4OZPwx8PAnpbY5HP3iP8A9VdeDrVZNQm7ppv8TDEU4WvHpb8jb8TeLtG8HWIu9Z1CGwhbhRIctJ0yEQZZiMjgDp1q3o2pf2xpdte/Zbiy89A/2e7j8uVPZl7GvPZ/AuseD/Et74j0e2tfFk10+9odVk2X0OQQEt7g5UJ8x+UgcLjJr0LRtS/tjS7W9+y3Fn56Bhb3ceyVPZl7Hit6NarOclUVrbL/AIPUyqU6cYp03e/X/gGNqHxG8P6bcX8E167T2BxdRwWssrQgIHLMEQkJtI+b7vUZyDT0+IXh6S6t4I9SWUXDrFFcRxu1u0hG4J5wHl7iP4d2eRxyK57wrDG2vfEhmVTuvEVj6gWycH2Bz+dcrdqLf9nvw0E/dFXsG+XjDeepJ475ya43iq+9la36+p0+wpO2/T8j1PWvGWk6BdC1u55WuvKM5htbaW4dIwcF2WNWKrnu2B19KfN4s0qHT7W9F19ogu13W/2WN53mGM5REBZsDk4HHevPpyNF+JfiaTVfE1z4Yt9RS3lsp826Qzoke1l3zRsAysR8oIPz5wat/wBtQfD/AELw1puk3ccWlX8s+Nb1xT5MHLS/MoEY+fLBeUBA4yDTjjakruVkv68/8hfVYKyjq3/Xb/M6+Hx1oc+g32sLfYsLFnS6Z4nV4WQ4ZWjK7wRkcEZ5HrSab460PVr+3s7W8Z5blWa3d4JEiuAv3vKkZQkmOvyk8ZPY15HJdTah4Q+Lc0l1He+a0bi4t4WiilBhUBkVmb5Txg5IPBBxiu28WbY0+HBXChNTgAK8AL5D5H48Cs4YyrNXSWn+du/+ZUsNTi2u/wDlfsei9yB1PGB39R+Wa8Vm+ImsTWM9zDrL/wDCR/2u1lB4XigiZSiSAMrfKZMeWC5kDBRnHHFev6s11HpN6bFVe+WF/JRhw0m07V98nA5614VpN1b6DbaZ4m0fUmv/AB1Knk6vo15M8l1fOSDJGY8FoijJ8rBQoCjORyazGpKMoWdktX/wO78hYOMZKTaufQC5V43X5HjbejKSpU5yCuOn14PAr3H4aftgeOvAfl2uqTjxfpS4Hk6k5F0q4OQtxyTzg/vA57ZA6fLfwn1SXUvCq/br2S51hZpHvobgsJbWRnJ8plf5l2ghRnjjjjFdn/KuieFw+YUU6sE/zRgq1XC1GoSP0m+F/wC1B4E+J7Q2ttqR0jWZOBpmqARSsemEbJWQnsFYtjqBXrW73zX4+vGsilXVXX0YDmvWPhp+0148+GYitoNT/tzSEwP7O1ctMFXgYSTO9OAQBkqM/dr43G8LzjeeFlfyZ72HzhOyrL5o/SvdxnOaVa8E+GP7Yfgfx15Frqsx8J6s+F+z6m48hm44SfhevA3bCey17zHIrqGVgysMgjkEetfFVsPVw8uWrFpnv06sKqvB3H0UmRRWBsLRRRQAVxHxs+GukfF/4U+KvB2uxeZpmrWEkEjAAtEwG6OVc/xI6q6nsVFdvUc8K3ETxuNyONrD1BoA/N/4cR694d/4Je/ET4mWGqXuofELxfZ3Woarrbf8fDJHL9kwCPurHbxsRjoSxFaE37LvxP8AFnwr8Ep4a8KfAjwhb6Y+m6povirRbu9S/gKPFIsiy/ZPnaQD5tzEMXycnBr7m8B/Cfwr8Nfh/aeCPD2jx2fhW1jlhj02aR7lPLkZmkVjKzM4ZnbIYnrjpxXmXh/9hX4G+F/EdrrmnfD+0ju7S6+3W1tLe3UtlDPkkSJaPK0CEEkgrGNueMUAea/Gr4T6voPxo8YfF/QvD3gn4u2I0e3stc8K+JJkS90wW8bS4s53R44g6SLI0cqru+Vt3zCvpD4K+M9D+Inwl8I+JPDOnNpHh/U9MguLDT3hSE2sBQbItiEqoUYUBeAAMcVx/wAS/wBkH4R/F7xZL4l8V+DYdR1qdEiubmG9ubT7WqABFuEhlRZwAoGJA3Ax04r1rSdLs9D02107TrSGwsLWJYLe1toxHFDGoAVFUcKoAAAHFAFuiiigAooooAKKKKACiiigAooooAKKKSgBaKTrS0AFFFFABRRRQAUUUUAFFFFABRRRQAUUUUAFFFFABRRRQAUUUUAFFFFABRRRQAUUUUAFFFFABRRRQAUUUUAFFFFABRRRQAUUUUAFFFFABRRRQAUUUUANZScYr5P/AGoPCPxv1ea9k0i/bUfB5DbdN8P5guVTB4lTO+Y84IRiDjPlivrEUxkJOe9dWFxDwtRVFFO3cwrUlWhyN29D8gGhFrI8DIbeSNjHJE67GjIJBDKeQc9j0pM+vHrmv1F+JHwN8HfFaBhr+jQy3u3ampW+YbqPGcYlX5iBk/Kcr6g18n/E39iHxP4a8288I3q+JrAHd9juGWG9QZ4wciOTjOTlD2ANfpOB4iwta0Kq5H+H3nyWIyutSbcHdHzXRVjUtNvdF1CWw1KzuNOv4f8AWWt5C0UqZ55VgCOvcc1Xr62MoyXNF3TPFlFxdpKwUUfpRVEhRRRTAPb+tH8WQT/Wij0FLrcA7AdhR+GaPxo746n0pLryj1tqw+vb/P4f/X6UvOQCSp6emKQttGenoc8f5xyKyvC/iO18WaBaatZxyw2twrFEmADjDFTkAkdR696nmipcmlyrStzGr2I9RyOfr0+v/wCqhu/f69/rSj68Z9eP8KwvCHib/hKtNuLv7P8AZvJu57Ur5m7PluU3dBjOM4pc8Lpd/wBB8s7OSNz26jv71HcRLcQyRyE4kUq21iDgjnnqKkIKjJBAo5z396pqMlZ63JvJO7ZwCfDXUP8AhGV8LyeII28PAeUVjsdl4YdxKoZfMKdPlLeWMjtk5rvY41iVEQYAGAoznA7ev/6xWfpt9fXF5qEV5p32C2gkC20/2hW+0oRkttA+XB4weaq+JfEx8O3miwG2+0DUr5bMtv2+XlGbdjad2NvTiuOEaFCPtF173/U6JurVkovf5fobucY5wfvD1z/k0mNvAGB2FZOmeJLXVdb1fSoo5FuNLMSzllGxvMTeNvJzx6gYqv4L8Vf8JhpMt99mFoUuprbYJN+fLcpuzgdcZ/Gt1WpXST1d/wADJ052cmtP8ze/HH+ev+fWj196KCQM+vp3ra6SuZB3znp9ew+tH3cAduR7fSobO8t9QtY7m1niuraQZSaFw6OPUMOD0PSpqS5ehVpbBzxz+pP1/wA80fQYHYUUdc45+nNHui97uHGRx6/57/5FH50fhRT0tZbC1eweoznPB9P8ml757/8A16Ttnt1o6Ue67WHrHZ2DAwBxj6cCij+dH+OKYasKOPWnQxPcTRQwxvNNKwWOKJS7yMTgBVHJOewr3n4Z/sa+N/HAhu9bC+ENJbDA3a77tx1ysIPy9x+8Kkf3TXDisdh8HHmrTS/P7joo4erXdqaPAZHjVC0jKq+rEYr6S+A/w7+PUmlyQeF9auPAuhXEEkcN1rluLiOAsCBLDZygkspYOPuI2BksMivp/wCGX7Nfgf4WeVcadpf9oavHz/ampETXAbnlOAsfUj5FXjrmvUlU/Svz7NOII4yLpU6at3e59Pg8tlRfPOWvkfK//DO/7TnT/hrfH/dNtL/+OUf8M8ftOH/m7jH/AHTXS/8A45X1Tt6UqjFfFn0B8q/8M7/tO/8AR3H/AJjXS/8A45R/wzv+07/0dx/5jXS//jlfVdFMD5U/4Z3/AGnf+juP/Ma6X/8AHKP+Gd/2nf8Ao7j/AMxrpf8A8cr6rooA+VP+Gd/2nf8Ao7j/AMxrpf8A8co/4Z3/AGnf+juP/Ma6X/8AHK+q6KAPlT/hnf8Aad/6O4/8xrpf/wAco/4Z3/ad/wCjuP8AzGul/wDxyvquigD5U/4Z3/ad/wCjuP8AzGul/wDxyj/hnf8Aad/6O4/8xrpf/wAcr6rooA+VP+Gd/wBp3/o7j/zGul//AByj/hnf9p3/AKO4/wDMa6X/APHK+q6KAPlT/hnf9p3/AKO4/wDMa6X/APHKP+Gd/wBp3/o7j/zGul//AByvquigD5U/4Z3/AGnf+juP/Ma6X/8AHKP+Gd/2nf8Ao7j/AMxrpf8A8cr6rooA+VP+Gd/2nf8Ao7j/AMxrpf8A8co/4Z3/AGnf+juP/Ma6X/8AHK+q6KAPlT/hnf8Aad/6O4/8xrpf/wAcrz34uQftFfs7at8MdV1n9oj/AITjSNe8b6T4cvNJ/wCEI07T90FxIxkPmrvYfLGVwAD82dwxX3bXyr/wUE/5APwN/wCys+Hv/QpqAPqlelLSUtABRRRQAUUUUAFFFFABRRRQAUUUUAFFFFABRRRQAUUUUAFFFFABRRRQAUUUUAFFFFABRRRQAUUUUAFFFFABRRRQAUUUUAFFFFABRRRQAUUUUAFFFFABRRRQAU0jLe2KdRQBynjr4Y+F/iVp/wBi8SaLa6pCoIjeVdssWeuyRcOnb7pHSvlX4mfsJ6jYede+BdWGoRYLDS9UcJMODxHMBtbnsyrx1Y9a+0+aMda9HCZjicFK9Gdl26HJWwtKurTifkj4l8L6x4M1RtN17SrvR75QWEN3EULLnllPR1/2lJHHWszpn0HWv1p8T+ENG8aaTJpmvaVa6tYycmC7iWRQexGeh9CORXzB8TP2EbO4aW98C6s1hL94aXqjNJD24SYAyJ0/i39eoFfd4LialU93ErlffdHzWIyicPepO58a/rRXReOPh54m+G+oLaeJ9GudJkdtkc0wDQzN1+SVSUY98A59QK5337V9jSrU68eelLmR4c6coO0lZhR+FFFbGd/M8wTRLHXvjVr1vqMa3kCaZauLGY74ZG3ONzRnhiuTjPALeuDXL3WoXsPhmbQ7NvtGkN4s/siOOW4eJDakbvIMgBZU3fJwDxxiu5l8AjVviZqurahaSCyezt47W8guTDKHBcOFaNg6jDDPQH3xiulHg3RP+Ed/sI6bAdJ27TbbeD3Lbvvb8/NuznIznNfO/ValZzfw6vXq/wANvvPWeIpwUU3fRHLaD4DurbXr2SfR9F03w/eWXkz6TYymeKaYOCshjMMajjIPrhfQVi/DeDw74b+Ddtq9/axWSSQMt3c2sZjuJR5zKq74wHOSVGM98dM16NpPhiw0WaSe3W4luJF2Ga8u5blwuc4DSuxAzyQCASATnAxVj8BaHHpt9py2bHTrzeJbNriVoBuYsSkZYrHliTlApBIIrojg5QalFK+v49tEZvERneLbtp/W5w+krDpHxa0eHT/DUvhaK/0+4WeBlgjW42FWRtkMjAMpJ5OD83cdOg+EX/Iu6hjoNXvsf+BDVsaf4D0XTNTg1KG2lk1CFHjjurq6mnkCsBlcu7HbxwvQEkjqc6ek6LZaFbywWEHkQyTSTsu8tl3YsxyfUknHQZqsLhKlOcZVLaN/iTWxEJpqN+n4fNnmnie8bwb4l8XQW5ZH1zTY7i0xwPtO8W5A5HPzxN/nFUbC0E1roPgV3aUafrcqy7vmJtYB58ec9j5kK9vQV6hrHhXS/EF9pt5f2guLjTpfOtX3svltkHOAQDyqnB9BSweF9Lt/EVxrsdqF1WeLyJLgOxyny8bSdo+4vIAPAqHgqjm2n7t/w3/MccRCMbW1PLte1W80fSfirdWEslvcrfwIJ42IeNWiiRmB7EKx5q74p8H6H4a1zwA2k26WDnU44jHAdonURvh3XPzsv988/Ock5Ar0aPw1pkTaoRZo41Rt14shLrN8gXkEkD5QBgYBxWba/Dnw/ZzWUq2Uks1i6vbS3F1NK0O0EBUZ2JVcE/KML7ZAIiWBqSVtP8tblrFQ3V/6VjlvBPhfRo/id41kTSbEPaz2b27LbJ+5LQ7mKcfKSeTjHeuW0fw3p8vwl8T6s9vu1O2ub+e2uySZLZ45GKGI9Y/mUH5cZ717C3hfTm15tZEUkOoOqpJJDPIiyhchfMjVgsmAx+8DTLfwhpFvod3pEdpt068MrTwmVyXMhJf5ixPOT347Yq3gXfZLf72H1pW0v0/AuaHcPeaLp9xKcyzW8bucYySoJ/WvJvFou/7YvP8AhYjagPCu4/Zxou/+z/Lxx9q8v97vzsxxt3A4yM17Da20dlaw28K7IokCIuc4AGAMnk/jUv1Ht68f5/rXZVw8qtOMW9Vv2fqupzU66pzcrb/eilo39njS7Y6X9nGneWPINngRbPVSvGO/H/6/F18PWM3wr8X6tJEz6na31/Pa3RJ8y0dJmZfJbrGNwyduM5PXNe32dlb6dbR29rBHa28a7UihUKqfQDHvWaPCOkrod9pAtP8AiXXrStcQ+a/zmRiXO7ORkk9OlRXwrrqKdtE/vt+hVGsqd0r7o4LVNLtvDuq/D/ULCPytQvr1YLy8JzLdLJEzOJX6v8wBGcgFRgDFZdjoeoePpvF082j6XqF4NRnsbe+vr6SOeyWMDyxEBC+wDcG+VhuLduDXq174b07UDppuLfzDpsgmtTvYbHC7QeDzxkfNntVS/wDA+j6jqVxfyQTxXVwqpcPaXk1sJwudvmCNwHIBI+YHjjpwOOWBq7J6dvl6G8MVG1nv/wAH1Rzt/wDYWbSdG1zSJPF/iKPT0lntYUSSIYwrTYmZI8l8gHG/BPauAaSS6+D8VoxuLeK28SLaQxmU+bBEtzhE3AnlQcAhjjAwa9i1LwTo+rTW00tvJBPbwG2iksriS1ZYiR+7JiZSU4Hynj056xx+AdAh0r+zE05IdPF0L37PG7oqzBgwIweBu/hGB2xRUwVao3JNWat8tN9BxxUIxS1ve/8Aw3/DHO/2RZeFfiloEOj20WnwX9hdLcpANqzGMoUdvVgWb5j83zHmvQ249v8A9VT6B8O73x94ssf7F0S71vXbRWSIWis3krJgEvzsQfLjc+OnWvqr4Y/sI314sN5461f7DFwf7J0lg0nY4kmI2juCFU+zipqY/DZYpKpNa7JasI4etjLOET5X0vS73W9Ri07TbK51HUJuI7W0haWRiPRVBJwM/wBa+jfhn+w94l8ReVeeL75PDVgTn7FblZ71lB6FuY488H+P0KivsTwP8M/DPw3037D4a0S00mFhiRoUzJLjoXkOWc+7EmunCmvjsbxLXre7h1yL8f8AgHuYfKKUPeq+8zg/hz8EfB3wrhA8PaNDBdldsmoz/vbqTPXdK2WwcZ2jC+wrvIwQvNFKtfIzqTqScpu7Z7kYxguWKshaKKKzLCiiigAooooAKKKKACiiigAooooAKKKKACiiigAooooAKKKKACiiigAr5V/4KCf8gH4G/wDZWfD3/oU1fVVfKv8AwUE/5APwN/7Kz4e/9CmoA+qaWkpaACiiigAooooAKKKKACiiigAooooAKKKKACiiigAooooAKKKKACiiigAooooAKKKKACiiigAooooAKKKKACiiigAooooAKKKKACiiigAooooAKKKKACiiigAooooAKKKKACmtnPTNOpp69KAKWqaPZa5Yz2Oo2dvf2U67Jbe5iEkci+jKwII+tfOHxM/Yb8Oa+JrzwfeP4Yv2Bb7JIDPZOeTjaTvjyT/CxUdkNfTm2jbXXh8XXwsuajJo56tCnWVpxuflp8R/gv4z+FMzHxFo0sNju2rqlsfOtG5wP3gHyE9lcKT6VxOen9K/X2e3S4jeKRFlidSrIyghgeoIPUGvA/iZ+xj4K8aebdaGreD9Ubnfp6BrVjwPmtyQoHH/ACzKdec19vguJ0/dxcfmv8j57EZO1rQfyZ+f1FenfE39nHx38LPNuNQ0o6lpKZP9qaUWniVQCcuuN8YAHJZQo6BjXmCurAEMCD0ORzX2+HxVHEw5qMk0fPVaNSi7VFYWij2HJ9qK6jEKKKKACiiigAooooAKKKKACiiikAUUYPXFB+XOaOgw5NHoe3Wu3+HPwU8ZfFeVf+Ee0WSWxJKtql1+5tFwcH94Qd+COQgYj0r6w+GP7Dvhrw8Ybzxddt4ovwQxtEBhskbg42A7pMEfxHBHVa8LGZ1hMGuVy5n2R6NDL6+I1tZHx54H+HPif4lXxtfDOjXWrMrbZJosLBEeD88rEIvBzjOSOgNfVHw1/YRsbURXfjrVjqUvU6XpbtFbjk8NLw7dvuiMjB5NfVOm6TaaLYQWWn2sFjZwIEitraMRxoo6BQMAD8KtqpFfBY3iDFYn3ab5Y+W/3n0uHyujRs5+8zI8N+E9H8G6XHpuh6XZ6TYpyLezhWNMnqSABk+pPJ71sL3owaUV8w25O7Z7CSSskLRRRSGFFFFABRRRQAUUUUAFFFFABRRRQAUUUUAFFFFABRRRQAUUUUAFFFFABRRRQAUUUUAFfKv/AAUE/wCQD8Df+ys+Hv8A0KavqqvlX/goJ/yAfgb/ANlZ8Pf+hTUAfVNLSUtABRRRQAUUUUAFFFFABRRRQAUUUUAFFFFABRRRQAUUUUAFFFFABRRRQAUUUUAFFFFABRRRQAUUUUAFFFFABRRRQAUUUUAFFFFABRRRQAUUUUAFFFFABRRRQAUUUUAFFFFABRRRQAUUUUAFJS0lADGXdxXjnxN/ZU8C/Epprv7CfD+tSEsdQ0nERkY8kyR42SZPJJG7/aFeyn6Uba2o1qmHlzUpNMznTjUVpo/Of4mfsj+PPh95txZ2g8V6QuSLnSkbzgOPv2+Swzk/cL4xkn08W3Bi2CTtODngjHHPpjpX7AMuT0rzX4mfs8+CfisskusaQtvqjDA1awIhulI4BLgYfA7OGHPSvs8FxPUh7mKjzLutz5/EZPGV3Qdj8yaPWvoT4m/sWeMfB/nXfhyRfFumLlvKjAivEXk4KElXwMcqcn+6K+f7q2msbua0uoJbS6gbZLb3EbRyRt6MrYKnkcEV9zhcfhsXG9GV/wA/uPna2Gq0HaaI6KKK9E5Qooo/lSAKKACelJuwUHOWOFUDlj2AHc+wob5VdjScnZC+54FI7LGpZ2CKOpY4HvXtvwz/AGRfHvxAaO5vbVfCWlOcm51aMmdhnqtvw3UdHKAg5BNfWnwx/ZW8CfDNoLtNPbXNZjww1LVcSujdcxpjYmD0IXcM/eNfM43iDC4W8IPnl5bfeevh8sr1rSfuo+L/AIafs1+O/iiYbiy0v+ytJfB/tTVQYoyvHMaY3yZB4IG3j7wr6y+Gf7GXgjwT5V1rSN4v1Ved+oIPsqHkfLB909v9YXIIyMV77tIpduO1fBYzO8XjNOblj2R9Lh8vo0Ol35kcUCwxokaCNEGFVccAdhUy9KMUCvA66npLRaC0UUUDCiiigAooooAKKKKACiiigAooooAKKKKACiiigAooooAKKKKACiiigAooooAKKKKACiiigAooooAK+Vf+Cgn/ACAfgb/2Vnw9/wChTV9VV8q/8FBP+QD8Df8AsrPh7/0KagD6ppaSloAKKKKACiiigAooooAKKKKACiiigAooooAKKKKACiiigAooooAKKKKACiiigAooooAKKKKACiiigAooooAKKKKACiiigAooooAKKKKACiiigAooooAKKKKACiiigAooooAKKKKACiiigAooooAKKKKACkJpaQ0ANYD0zXG/EL4P+EfilaiHxHolvfSqpWK7A8u5hGc4SVcMBntnB7g12f4Uc1cJypy5oOzJlFTVpK58O/Ez9hnXdEWW78FakmvWqgkafqDLDdqOOEk4jc9evl8Y6182a3o2oeGtTl07V7C50rUI+WtbyJo3AyQCAwGQcHBHBwcZr9dCu7tmuf8AGXw/8P8AxA0o6d4i0i11e15KrOnzRkjG5GHzI3upB96+swXEmIoe7XXOvxPDxGU06l3TfKz8n6ks7WfULyGztIJry7mbZFbW8ZklcnsqKCWPtivffEn7O2hw/tkaJ8LbK+vrTw1qHhefxHK29XuUkS5MPkxyEYCEEHLKzcYzzx9n/D34Q+E/hdZGDw3olvYOwxJdEGS4lx2eVssRnOBnAzwBXvYjiihCH7mLk/PQ86lk9Vv33ZHxr8Mv2KfF/jDybzxNKnhPTHwxhcCW9deDjYDtTI7scgjlDX1l8Nf2ffBPwpCS6LpCy6mq4bVb799dPxgkOeEz3CBQfSvSFXbS7TXxGMzTFY1/vJadloj6ChgaGHXuxu+4INq46UooFFeQd4tFFFMAooooAKKKKACiiigAooooAKKKKACiiigAooooAKKKKACiiigAooooAKKKKACiiigAooooAKKKKACiiigAooooAK+Vf+Cgn/IB+Bv/AGVnw9/6FNX1VXyr/wAFBP8AkA/A3/srPh7/ANCmoA+qaWkpaACiiigAooooAKKKKACiiigAooooAKKKKACiiigAooooAKKKKACiiigAooooAKKKKACiiigAooooAKKKKACiiigAooooAKKKKACiiigAooooAKKKKACiiigAooooAKKKKACiiigAooooAKKKKACiiigAooooAKKKKACiiigD5V8Rf8pNPCP/AGTO8/8ATgK+qa+VvEX/ACk08I/9kzvP/TgK+qaAForCt/Hnhm78WXfheDxDpU/ia0gFzcaLHexteQxHGJHhDb1U7lwSMfMPWrFz4r0Sz8QWeg3Gr2EGuXsUk9rpklyi3NxGmN7xxE7nVcjJAIGRmgDVopNw9aAwPSgBaKKKACiiigAooooAKKKKACiiigAooooAKKKKACiiigAooooAKKKKACiiigAooooAKKKKACiiigAooooAKKKKACiiigAr5V/4KCf8gH4G/wDZWfD3/oU1fVVfKv8AwUE/5APwN/7Kz4e/9CmoA+qaWkpaACiiigAooooAKKKKACiiigAooooAKKKKACiiigAooooAKKKKACiiigAooooAKKKKACiiigAooooAKKKKACiiigAooooAKKKKACiiigAooooAKKKKACiiigAooooAKKKKACiiigAooooAKKKKACiiigAooooAKKKKACiiigD5V8Rf8pNPCP8A2TO8/wDTgK+p2BPT6V8r67++/wCCnHhlFHzQfC65lbPo2pBR+or6qFAH5n/Fbwnr1v8AtgfHz4r+C4ZLjxj8M5fDurxWcZ51HTpNPKX9ow6HdCm5eCQU45Ir2xvH2jfFT9sz9n/xd4eu1vNF1jwRrF3azA5yrNCdrDsynhh/CykHkV6P8Jfhd4m8M/tWfHrxhqml/Z/DfiiLQl0m88+Jxcm2tHjnHlqxdNrMB86jOeMivHPhP+yX44+EH7alrqmmWUU3wY0+01W60e4FzGH02S+KNLYiIvv8tZUZk2ptCycsT0APQ9Q+Nfxc+K3xM8beG/g5pfhCw0XwZdjStR13xp9qmF5qGwO8EENs6sqxhl3SOeSflU813P7Nfxw1X4vaV4o0zxTolv4d8ceEdWfRdcsbGcz2rShFdJ4HIyYpFcMob5hyD0yfMdO8J/Fv9mv4ofEi68E/Dq3+KHgjxrqzeIoYLLW7fTLzTL6SNFnSQXBCPG7IGDIcjHIOeO7/AGWvg74k8Ar468X+N0s7bxt471ptXv8AT9Pm86DT4lUR29ssu0GRkQfM+ACzHHAyQD3elpBxS0AFFFFABRRRQAUUUUAFFFFABRRRQAUUUUAFFFFABRRRQAUUUUAFFFFABRRRQAUUUUAFFFFABRRRQAUUUUAFFFFABXyr/wAFBP8AkA/A3/srPh7/ANCmr6qr5V/4KCf8gH4G/wDZWfD3/oU1AH1TS0lLQAUUUUAFFFFABRRRQAUUUUAFFFFABRRRQAUUUUAFFFFABRRRQAUUUUAFFFFABRRRQAUUUUAFFFFABRRRQAUUUUAFFFFABRRRQAUUUUAFFFFABRRRQAUUUUAFFFFABRRRQAUUUUAFFFFABRRRQAUUUUAFFFFABRRSZoAWkJxRmmSYzye3+TQB8saj/wApPtIb+EfCabJ/7i1fVQr8xZv23PD9r/wUka71rwn4isr3TdCn+H39n2MUd3NPf/2lvSRBuUmJ16HryOMc1+nEbblHBB9D1oAfRSUtABRRRQAUUUUAFFFFABRRRQAUUUUAFFFFABRRRQAUUUUAFFFFABRRRQAUUUUAFFFFABRRRQAUUUUAFFFFABRRRQAUUUUAFFFFABXyr/wUE/5APwN/7Kz4e/8AQpq+qq+Vf+Cgn/IB+Bv/AGVnw9/6FNQB9U0tJS0AFFFFABRRRQAUUUUAFFFFABRRRQAUUUUAFFFFABRRRQAUUUUAFFFFABRRRQAUUUUAFFFFABRRRQAUUUUAFFFFABRRRQAUUUUAFFFFABRRRQAUUUUAFFFFABRRRQAUUUUAFFFFABRRRQAUUUUAFFFFABRSZFGaAFpp+91pdw9ayfE3ibSvCekzaprOoW+mafCP3lxcyBFGTgDnqSeAByc4HNNJydkJtJXZqbu+a81+Lnx+8J/B23xqt4brVXUGHSLPD3EmTgMRnCL1+ZiBwcZIxXzj8ZP22b3WBPpXgCN9Ps8lW1u5jxPIMkfuY2HyAjGGf5sH7qnmvlu5uZr65mubqeW6upmLy3Ezs8krE5LMxOSfc5r7HLeHauItUxPux7dWeBi81hT9ylqzqPDPjbTtL/bA1j48X3hTT7y81GJIY9MSRgbJvKELTxyHgymNFBJUA7n4BbI/R34X/GLwt8XNJ+2eH9RWWZFBnsJgEubfPZ488DORuGVJBwTg1+W3JyT17+/1q5o+sX3h3VLfU9LvLjTtRt23RXVs5jkXjnkHkHuD1Bx0Jr6DGcN4arD/AGf3ZL7jzKGbVoS/e6o/XXcKVTkV8ffBv9t2N1g0n4hxLE/CLr1rH+7PB5njUfKcj7yDHP3VAJr620rVLPWNPgvbG6hvbOdRJFcW8gkjkU8hlYEgg+1fnWKwVfBz5K0bH1VHEU8RHmpu5copNwOcHNG6uI6RaKTNFAC0UUUAFFFFABRRRQAUUUUAFFFFABRRRQAUUUUAFFFFABRRRQAUUUUAFFFFABRRRQAUUUmaAFoopM0ALRSZo3CgBaKTcKNwHegAzivlX/goEQ2g/A3HP/F2fDx4/wB6avqdmX1H51+bH/BWT9mvxB44uPCnjrwZd3dzdtd2+l6no8Ny3l+Yz7LW8CZ2qVZvLZ8dGQ8AE1LlFbspRlJ2SP0qUg9DmlryP4Nt4H+CXwr8LeBovF+kynRLCK2lmm1GPfPLjdLKdzZy7sz/APAuOK7L/ha3gv8A6GzRP/BjD/8AFVl7el/MvvNPY1P5X9x1VFcr/wALU8Gcf8VZonP/AFEYf/iq1rPxTo2oKWtdVsrkcf6m4RuvToaarU3tJC9lUW8WalFMWZG6MPzp24eta3RmLRSbh60UxC0Um4UZoAWikooAWiiigAooooAKKKKACiiigAooooAKKKKACiiigAooooAKKKKACiiigAooooAKKKKACiiigAooooAKKKKACiiigAooooAKKKKACiiigAooooAKKKKACiikoAWko3CmswoAVj+FJketcf8AEn4seGfhTpP2/wARanHZhwfItV+e4uGH8McY5bqMnoM8kDmviD4yftZeKfiZ9p07SWk8MeHXyn2e3f8A0m4X/prIPug4+4mByQS45r1sDleJx8rU1aPfoeficZRw2k3r2PpP40/tceGvhtJcaXonl+JvEce5Ghgkxb2zA4PmyDPIOcouTxg7eDXxJ8Qvid4m+KWsf2j4k1OS9ZWYw2ikpbW4J+7HGDgcYG45Y4GScVyqqFXao2qOgXpS1+m5fkuGwKvbml3Z8lisfVxLteyCiiivf63seYFFFFMA/wD1cV3Xws+NPiv4QX3m6Df7rF33zaVdZe1mJxk7c/IxwPmUgnAzxxXC0VzV8PSxMeSrFNGlOpKlJSpux+j3wZ/ae8J/FtYbHzRoXiJhg6VeSDMhxk+S/AkHXjhuCSoHJ9i3D1r8f+cggkEEEFeCCOQQc8Gvov4Oftla/wCC/J0vxeJvE2iqNq3QO6+gUD1JHnDj+IhuSdxwFr89zLhudO9TC+8u3X/gn1GFzaM/dr6Pufew5+lKtc74I8faB8RNDj1Xw/qkOp2bHDNESGjbrtdSAyNgjhgDzmuhDCviJRlCXLJWaPooyUldDqKTcKWkUFFFFABRRRQAUUUUAFFFFABRRRQAUUUUAFFFFABRRRQAUUUUAFFFJmgBaKTcKM0ALTT97rRuHrXL+NfiR4c8AwpLrWpx20kgzFbLmSeXnHyRqCx68kDA7kVnUqQpR55uyNKdOdWShTV2+x0/SmTTJCjPI6oijJZjgAepr5i8YftXanqAeDwxpUemxEcXupYklIPdY0O0djyx9xXjniPxRrXjGTzNe1e71bnIjnf90p9ViUBAfoor5DGcUYLDvlp++/Lb7z7LBcJ4/EpSq2gvPf7j6+8RfH/wH4dZlk1+DULgZHkaYpumyOxMYIU/7xFedax+17CONG8LXM2f+Wmp3KQD64QSE/pXzmqKqhQAFxwoGAPp6Ufz718jiOLMbU0pJRX3n2eF4PwFP+K3N/d/X3nqWq/tMePdSV1guNM0lCflNpZl5FH1kdlJ/wCA/hXI6p8TPGetNuvPFursf+ne4NqPyh2VzlFfP1c2x1fWdV/efRUcmy/Dq0KMfmrsXUJZtYP/ABMLm61H/r9uHn/9DJqommWcalUs4EHosaj69KtUV5sq9STu5P7z1I0KUVaMUl6Ea28KjAijH0QCl8iL/nmn/fNPorNSl3Zryx7DPIi/55pj6VEbC2blreJvX92pP8qsUU+eS6i9nF9CGztYtOcPZp9icHIa1JiOfXKkVv2PjnxTpsiva+KtcjK9FbUZZE/75csP0rGorphi8RT+Co182c1TB4ar8dNP1SPRNK/aG+IOlMS2s2+pjsuoWSED8YvLJ/E12+h/tc6jD5aax4ZhuF/in0+6Kn8I3GP/AB+vBKK9ejxBmNHaq366ni1uHcsr70rPy0/I+vfD37TvgfWmSO6u7rQZmOPL1SAoo+silowPq1el6Trmna9ardabf22oWz/dmtZVkQ/ipIr89/1+vNSafdXGj3n2rTrq40276G4spmhc+xKkEj2r6PDcYVE0sTTT81p+B8viuC6bu8LVa8nr+J+iG4evvT16V8f+Ev2mPF/h9kj1UQeJbUdfOAguB0xh0G09+CuT/er3rwD8efCnjySO1hvH03VJDhdP1FRFKx54Q5KueCcKScdQK+1wWdYLHaU52fZ6M+Gx2RY7L9asLx7rVf16no9FJuHrRuFe8eALRSZFGc0ALRRRQAUUUUAFFFFABRRRQAUUUUAFFFFABRRRQAUUUUAFFFFABRRRQAUUUUAFFFFABRRRQAUUUUAFFFFABRRRQAUUUUAFFFFABRSZFG4etAC01mCkCjcPWvJvjL+0l4T+EMMlvPP/AGt4g2botJs2BkHGQZW6RLyOTzg5CtW1KjUryUKUbszqVI04803ZHqF9f2+m2k13dzx2trAhklnmYIiKBksWPAAHUmvlP4y/ttWun/aNJ+H0ceoXWDG+uXCZt4yDjMKH/Wnrhj8vAI3g186/Fr46+K/jJeN/bV59n0lXzDpFoStumDwWH/LRxgHc2cHO0KCRXntfoGW8NRjapjNX2/zPl8VmzleFDRdy/r+v6n4p1a41XWL+41PUZyfMubmQs5GScZ7KOyj5R0AA4qgcdulFFfcwhCnFRpqyR87KTk7thRRRWhIUUUUAFFFFABRRRQAUe3bvRRQBs+EPGWu+AdaTVvD2qT6VfrwZISAsg/uyJja6+zA9AetfZvwa/bQ0TxWbfTPGaw+G9Yb5Vvt2LKc4HJJyYT14YleB82Ttr4ZowCCCMg9R2P1rxMflOGx6vNWl3R6GFxtXDP3Xp2P1+jkVkVlYMrchgcgj1qRe9fmp8Hf2kvFvwgaKzgm/trw8DhtIvJGwg7+TIctGT6crkk7cnI+5/hL8d/CXxgsidFv/AC9SjXdPpV3iO5h6ZO3J3Lkj5lJXnGc8V+ZY/KMRgHeSvHuv1Pr8LjqWJS5XZ9j0Wik3DOM80bh614h6ItFFJQAtFFFABRRRQAUUUUAFFFFABRRRQAUUUUAFFFFABTe9OprH86AE3f5xVPVNWs9FsZr2/uYrS0gUvLNM4REX1JPSqvijxNYeE9DutW1G4FvZW65Z+pJJwFAHJJJAAHJJAr4z+KHxS1L4n6t5k5e10iBv9F0/fwv/AE0kxwzkZ9lBwM8k+BmucUcrh72s3sj6DJ8mr5tUtDSC3f8AXU9C+I/7T17qnm2HhFGsbXO1tVuI/wB9Jz1jjP3AePmcE8n5Rwa8LlkkuLiW5nllubqY7pbieQySyN2LO2ST9c0n8qK/HcdmmKzCfNWn8lsj9sy/KcJlsFGjHXu92FFFFeQez1uwooooAOT05o7Zzx6/jisTxl4v0/wL4euNX1IyNBEVRIoU3yyyMQqRouRlmYgdQO+RgmuY1j4ieI/CejjXfEHhS3tdEjAe7ay1Q3N3aRkH53j8lFbbwG2SMQMkbutdlLB1a8VOKVntra/p3OWpiqdGTjJvTfTY9Co59M1Rt9c065uLa3iv7eS5uoPtUEIlXzJYsD94F6lfmGTjvWJ4y+ImjeEPDOuarLfWM0mlRvvtmu0QmYRl0gJ52u4xgEZ5yAazjQq1JqnFalutShD2jenqdTRXLeFfiV4f8VeHbHVYNY00CdIFljjvo5PJnlUEQkg/fLEqFwCSOnatTSPFWieILq6ttL1iw1K4tTtuIrO6SVojkjDBSdvII59DTqYetTclKL0FTxFGolKMlrsatFZy+ItKk0ubU11OzbTYN/m3guEMMewkPufO0YIIOTxiuR8U/Gjw94T8aaBoN3qOmxJqUU0015NqEcQswqK8ZYHtJuIU5XpxmnSwtetLlpx1/wAhVMTRox5py0O/oqOCaO4gimhdZIZAGSRCCrAjggjgj3qvp+s6fq0t1FY31teSWkhhuEt5VdoZB1RwD8rex5rn5ZSu7bG/NFWV9y5RRRUlBRRRQAlNkjSaMpIiyKeCrcg/5/wp9FNNxd0xNKSs0ek/Dv4+eJPArx213LJ4h0YEZtryTM8Yz1jlOemfutkcAArX1P4E+IGifEHRxqGj3XmqOJoJPlmgbusi9jwfY44JHNfB34ZHf/D6f4Vp+HfEepeEdbg1bSbtrS/h43qcrIvGUdeNyn0PpnggEfZ5TxJXwrVLEvmh+KPhs44XoYxOrhVyT/B/5H6BAj3p61wfwn+K2nfEzRXliUWmp2uFvLJjkxk9GB7ocHB9j0xXeKQelfrtGtTxFNVaTun1PxqtRnh6jpVFZroLRRSVuYi0UUUAFFFFABRRRQAUUUUAFFFFABRRRQAUUUUAFFFFABRRRQAUUUUAFFFFABRRRQAUUUUAFFFFABRRRQAUUlLQAUhpNwpGZV6nFADqwvGXjbRPAWizavr+p2+l6fEDmWdsbj12qoGXY4OFUEnsDXhfxq/bK8P+C2n0rwmIfE2uoSjzK/8AoVu2P4nHMhHHyocdQWBGK+LfG/jzX/iNrTar4j1ObVLv/ln5mBHCv92OMfKq/Qc4ycnmvp8uyHEY1qdT3Y/j8jxsVmVKheMdWe7/ABl/bQ1nxZ9o0vwTHN4e0o7kfUpMfbZhjGU6iEdeQSxGDlDxXzVIzSSySuzSSyMXeRiWZ2PJYk8nJ5JJpKK/SsHl+HwUeWlH59T5LEYqriHeowooor0tzlCiiigAooooAKKKKACiiigAooooAKKKKACiiikAVNZ31zpt5BeWd1PZ3kDb4rm3kaOSNv7ysDkH3qGiplFVFytXQ1Jxd0fWPwb/AG3LmxEOl/EOJrq3Hyrr1nF+8T/rtEo+bjPzIM8fdPJr6/0DxBp3ibS4NT0q+t9SsLgborq1kEkbjocEe4II7Yr8jzz/AJ/z/n0rrvhv8WPFHwo1Vr7w5qDWyyHdcWU2ZLa45H309eOGBDDnnk18VmXDdOtephPdl26fLsfQYXNpU7QrarufqmrUqnNeFfBj9rDwx8UGt9N1Ir4c8Rudq2d1IDFcNnH7mXgEnj5DhuuAwGa9zVh9K/O6+Hq4abhVjZn1VOrCtHmg7ofRSZFFYGotFJS0AFFFFABRRRQAUUUUAFFFFABRRRQAVHJmpK5H4seJpfB/w71/VoG23NvaP5LekhG1D/30RWVWap05Tlska0oOrONOO7dj5i+P3xKfx54sl060m36FpMpiiVT8s04+WSQ+oHKqfZiOGrzKo7eEW9vHEvRFC/kKkr+fMfjKmOxE61R7v8Oh/R+XYOngcLChTWy1831CiiivPPSCiiigQUUUfqaWjQ9Ty39oO3ePw94b1hlZrDRPENjqV7tUnbAjFWbj+7vDf8BNa3xe8TabZfCnWrhp4rpNUsXtLGOBg5vZZoysccQH3y2eAueATXd8N/d9Omf8isDSfh74W0G+S90zw1pGnXighbi0sIopVBGCAyqDyPevXo4mkoU1VTvB3Vuv+WvqeXVw1RzqODVppJ3PNPDmjy+FPiN8MNNv32TR+E5rAb2BMk0f2cuo9WGCfwrJtdUtde8N/H+50+Zby3driNJIuVZlsApCnvhgcfTivb9e8N6R4ntkt9a0uy1e2jbzRFfW6TKrYxuAYHnBIz7mptP0Ww0tpjZWNvaGbaJGtoFTftUIu4gfNhQAM9AABXX/AGlBxUnF8+nppK5yf2fNPkUvd19dVY8K+LElnL+zZ4PkvJQdOJ0dppAxx5f7vcdw9s8iun8SGwb4yfDJNCaFXWzvDILFV2f2f5IEedvHl+YE2ds5x76njr4S2mqeFbfS/DGn6ToRGqWl/KsMKwI4ikDMT5actgcZ/MV2OjeE9D8OTXMuk6Np+lyXRBneztI4jMQTgvtA3dT1zjJ9a1eOowpJxbbvPT/F3MFg60qtpJJWjr6djwN9YsdI/Zi8dw31zHbTpe6tYNG5+YXDzybY8f3sMvHoc12Ornb8Tvg2W+UGw1BRuPBY20eB+IB/KvRbjwT4cu9QudQudB0ue+ukMVxdS2cTyyoV2sjsRllK/KQTjAx2qxrHhfR9esIrHVNJsdStIWDx215bpNGjAFQVVgQDgkZ9KX9pUea9nq238420NVl9W26dkkvvvqafGT3BOMnv7H/PpWNoP9gfatV/sT+zTdfaSdQ+w+Xv+0dzNs53+u7np7VrxxpDGscaKkaqFVF4UADAX6YqpY6LYaVJdS2NjbWkt3KZ7h4YljM0h/jcqBub1JrwIyXLJN77f8E9uUXeLstC5S0UVibBRRRQIKKKKACiiigdjV8K+K9Q8D+ILXXNMb/Srb70ROFnjP3omPowH4EBuoFfd3hfxBZeKtAsdX06TzbO8iE0bYwcHnBHYg5BHYgivz7P9K+nf2SPED3XhfWtEkbcNNvBLD/sxzAuR/32sh/Gv0PhLHyjVlhJP3Xqj804xy+EqUcbFWktH53Pe85ooFLX6qfkgUUUUAFFFFABRRRQAUUUUAFFFFABRRRQAUUUUAFFFFABRRRQAUUmcYryv/hrH4If9Fk+H/8A4VFj/wDHaAPVaK8q/wCGsfgh/wBFk+H/AP4VFj/8do/4ax+CH/RZPh//AOFRY/8Ax2gD1WivKv8AhrH4If8ARZPh/wD+FRY//HaP+Gsfgh/0WT4f/wDhUWP/AMdoA9Voryr/AIax+CH/AEWT4f8A/hUWP/x2j/hrH4If9Fk+H/8A4VFj/wDHaAPVaK8q/wCGsfgh/wBFk+H/AP4VFj/8do/4ax+CH/RZPh//AOFRY/8Ax2gD1WivKv8AhrH4If8ARZPh/wD+FRY//HaP+Gsfgh/0WT4f/wDhUWP/AMdoA9U3AdaRmx7V59of7Q3ws8VPerofxK8Ia09lbNeXSadrtrcNBCrKplcJIdqBnRSx4yyjqRXz18Y/23mmNxpXw6j+Q/K+vXUXbHWCIj/x6QdvukYI7sJgq+Nny0Y3/I5a+JpYdXqM+ifip8avCvwg09bnXr/F1Ipa3022w9zcYz91cjC8HLMQoPUivhv4yftO+K/i4ZrFJW0Dw1Icf2XaOd06kY/fyDlwcnKjC9MhiM15PqWo3mtahPqGo3c1/qFwd811cuZJXPHVmyT0Hft9Kr1+lZdw/Qwnv1ffl+C9D5PFZlUre7D3UA4UAYAAwB2oopR+X+f/ANdfVbKyPG1bEPHUYo/WvP7SXW/EPibxdaw+IbrSodOlhitVggt2jTdCGy2+Is3zc4yPr6S+GfiV/aHgvRNSv7V5NU1KR4IbGwXmZ0dgzIHYBVwu/LEAA9ea4I46Ddtvu6HW8NNLmR3dHofXpXD698QHbwp4kmsLG8ttY0yFxLayiHzbYmMsspBcoycbvlLZxjBIxV7w34qvbzwlY397pGom6kghwoSJ2u3ZASy7HKopPdygGecVpHFU6k+RXel/IzlQnGPM2dVzzweOvFHHqPzrmrHxdFq8mr6c1neaXqenxCR7a8VA21lJR1ZGZSCQfutkFecUz4W3txqXw88P3F1PJczyWiF5ZnZ2YnuSTz/9aqjiIVJKK6q4SoyhG7Oo9cc464o9a5Y/EbS4/Dera1Il1HBpU8ltcQsi+d5iEDCjO0lty45/iFWpfGVgjeHljSac64QbXylHyrs8wu2SMADrjJyeKbxFO17kqjPsb9FcNofizStD8J3+pG81S8t0v5rdRfES3LzeYUEUYHUFhhR2BGe9ULjxjc3nxM0CwFrqWnFbO7lm06cqol+VCjAq5jbncB83BznHfCWMpximuposPNtrsekdM/rQfl68dq828H+NNY13S/FAvrG+j+y3l5FDdE26rbqg+WI7H3b16bgD/vHszwB8RBB4H8NS6rb6m8d0kVrJq0ygxmZsgBiW8wjdhd20rz96pWOoya0aTV9fWxcsLJX1PTKKO5yQT1P+NcZefE2yuNUGl+H7SbxLqAkVJjZ/8e1t3zLMfkHy7sAZJIxwa7J1oUrKT3OeFOc72Wx2eRxyPzo9u/pTbicW8LyvlljBYj1wOnX2/Qe9cPD8YNJm0ew1d7LVINFvGWIahLApjSQg4VlDF+o27gu3JHzVE8RTpfE7BCnOfwndfjQPmxjmuf0vxpBqOsjS5rG+0y7mg+0263iKBcRggErtc4IyuVbaw3DjrVGX4mafGkl39iv30VLkWr615aG13btpPLhyoYhS4XbkHnFH1ml1kV7Gp2OuorC1zxQ2jrOYtF1TVY7ePzJns44wqDGcAyMu8nB+5uIxg8kCqWo/EjSdOsNCvFF1eQa0wWza2h3MzFCwBXORnp04JycAZpSxFKN05bBGjUkk0jqvwx9aKw9D8VQa1qF7pz2d1pmoWYV5LS8Cb9j8q6lGZSpIYcNkFTnFbn61vTmpxvEzlGUHZiMokUqwyp4Ir3v4N/tdeJvhz5Gm695vijw+uFCyv/pluu4f6uRj84AJwjn0AZQMHwWj/J+lcmLwWHxsOWtH5m1HEVKEr02fqt8PPih4a+KGijU/DupxX0K4E0X3ZoG/uyIeVOQevBxxkc11e6vyQ8N+JNW8H61b6toWpXGlanCfkurZsMRwdrDo6nAyrAg46Gvrz4S/tzaNdR2unfEZ7bQLl2WKPWwQlnMx6eYCcxH/AGuV4YkoBivzXMsgrYS9Sl70PxPrMJmcK/uz0kfWYzS1yNv8XPAs0KSR+NfD0kbDKsuqQEEe3z9Kk/4Wx4I/6HHw/wD+DSD/AOLr5M9s6uiuU/4Wx4I/6HLw/wD+DSD/AOLo/wCFseCP+hy8P/8Ag0g/+LpgdXRXKf8AC2PBH/Q5eH//AAaQf/F0f8LY8Ef9Dl4f/wDBpB/8XQB1dFcp/wALY8Ef9Dl4f/8ABpB/8XR/wtjwR/0OXh//AMGkH/xdAHV0Vyn/AAtnwP0/4TLw/n/sKQf/ABddVQAtFFFABXmX7SFm978GfESx53RpDOdv92OaN2/DCmvTaz9e0q317R77TbtPMtbyB7eVP7yMpVh+RrnxFP21GdNdU0dGHqexrQqdmn+J+e//AOuirWsaHeeFtXvdG1AYvdPkMMpA4bHKuPZlKsPZhVX2r+dK1OVGcoPeJ/S9GpHEUo1I7SRkeJPFel+ErWGfVLkwCeUQwxRxPNNNIeiRxoGdz3woPAJ6Cl8P+KNO8TJcGwkmMlu4jnt7m2lt54mIyN8Uiq65HIJHI6VzXxM8Cap4kvNC13w/f21j4i0GWWWzGoRtJazCSMo8cgUhlBGPmGSOcDnNcR4w+KmsXvw3+Imm3tjL4a8X6BYiSRrK68yJ1cHyp4JVwwDAEgHBGRnPOPWpYGniKMXSd5PfVLl17Wu/W55tXHToVpKorRS00evz2+R7l157UfoeleLa8uqeCbPwH4gh13UtR1HUdUs7HUku7p2t7tLgYcrASY4ipwymNRgKc5yScWHWPEfxAm8bXdtp3iya+stTuNN0l9J1SC1tbTyOELRNcR+YxflzIjjBCjgYrSGVufvqolHa701Tt1aM5Zoo+7yPm3suzV+zPoP8P84zWTrWv/2PeaVbf2ZqN+NQuPs/nWNv5sdtxnzJTkbV7ZFeaQ6hrnizx74b8La9dXGkC38OJrGp2unXTW7z3bP5WwyxMG2K284RgCSM5GKv+Mo7vwlq/wAONNs9W1KW3n114pGubppJJIjBMwjkbrIinAG/JwoySRWUcEo1IwnK7ab8rWfX5GksZenKpCNknbzvp0PUvvY7k9v6Udce9fPser+I/H8vje7t7DxVLe2ep3Gm6VJpOqwWtpaeQcIWia4j8wlzlzIjgggDgYrX8W3niqzk8N6t4qsNbk8PLo6jVIPDN08UtnqBZTJNKIHV5IlXd9wsFwxI5Fa/2VaSi6iu+ml72vtfXtrbUj+07xclB2XXW1r23/4c9rz0x254zWTo/iBdX1DVbU6bf2Q0+dYRcXkGyK5yM74Wz86g8Z9eKm8PahbavoenXlnfNqdpcQRyQ3j4DTqQCrkAAZIOeAOSeB0ryd7zxZrMfxfsvD+oTPrFvfwxacks+BCpt4meOIvkRlgXweAGOfeuPDYT2vPGWjjbfprY68RilS5JR15r/grntH8/T+dZlx4k0608QWWiS3O3VLyGS4gt9jHeke3edwG0Y3DgnPPFcj8KPEGl6odUs7Q+ILHULVkN3oviOaWae2YlgJFaVnLK+0kbXZeMgKSc1PEXPx98GqBkf2PqA9f4oOapYJKvOhK+ib/DQzeM/cQrR+00j0e6uBbWs04WSXy0ZvLhXc7YB4AzyT2HfNUvDutDxBotpqIsbzTPtCb/ALHqEPlXEWSfldMnB4/KvLPg/Z3+r+FdV8RarrurahfR3moQ2scl/KIbeJJplClA21zycM4JACgYCisax1LxRqHwl+HOsAa3r2kratNrkGk3rpqNxmIiNlcSK7gN1RWBPy9QCK6v7Oi26fNqmk3t0vp3/A5/7QlpPl3V7fOx79SVxHh/4gaBF4X0y4s7rW9ZsJvMSG4XTLu8mXa5Vo5THEzKyn5f3nzHbkljk1xnjTXLvRfGt3rHiZvElt4Rngtm0zVNJlmih0xtrNJ9st1IbJfZzLGy4IUjhhXNTy+pOo4yTVttN7dF5+X5nVUx0IwU4NO+/l6+R7X/APrrL1zxNpvhx9NTUbn7O2o3cdjar5bMZJnBKp8oOMhTycDjrXkupa9qXjL4meLNLax8Tahpmiw21vbJ4d1OOyVXmi8xppGNxCznoFzuQBTxlucTxpoes6p4X+FTeMBfW2vf8JNb2dwsWovGSm6bY58iTYJSqqd6/MMkAjpXZTyqEZQVaer3Stfa60v9+iOKpmcnGbow22bvbez6fdqz6I/Sl/TnFeV6ksupfFTTfAyalqNpoVlojarKtvqMy3N07TGNQ1xu80quGbAbkkZJAxWJNceLbeX4l+DPDepXV5eafBa3ek3F9cb54ln3GSDz3ySflYIzk43AE4ANcscujUS9/Wyeumjdt/69Tqlj+RtOGl7d9V5f16Ht/bPag8Zzx9a8o8JeLtAbQfEUb6x4g8KzWCo2oW/iG4Z7mwJJAkSS48zIkC4GGZTwQAxOcnw34mg0/wCM2iaXoV54ibSNW0y4kntde+3bBJGVaOSE3Y3ZIZgdpKkEZHSr/syd5xV/dV9tO+/5bkf2lC0HZe87b6/d/wAMe29KKOMnFFeHc9nrqHp+VfQP7H9rIL7xjdYPlOLOAem5fPY/jiRa+fJJFijd3IVVUsWPYDnP8/yr7O/Z+8Dz+Cfh1apewfZ9S1CRr66jYYZGcAKpB6FY1RT7g19twrhp1Mc63SKPg+L8TClgFQfxSf5HpIp1IF60tfsR+Ki0UUUwCiiigAooooAKKKKACiiigAooooAKKKKACiiigAooooAQ18L/APBOP9nv4WeOv2M/h7rniP4aeD/EGs3X9oefqOq6Da3VzLt1G5Rd8jxlmwqqoyeAoHQV90V8rf8ABLn/AJMU+Gf/AHE//Tpd0Aeqf8MnfBD/AKI38P8A/wAJex/+NUf8MnfBD/ojfw//APCXsf8A41Xq1FAHlP8Awyd8EP8Aojfw/wD/AAl7H/41R/wyd8EP+iN/D/8A8Jex/wDjVerUUAeU/wDDJ3wQ/wCiN/D/AP8ACXsf/jVH/DJ3wQ/6I38P/wDwl7H/AONV6tRQB5T/AMMnfBD/AKI38P8A/wAJex/+NUf8MnfBD/ojfw//APCXsf8A41Xq1FAHlP8Awyd8EP8Aojfw/wD/AAl7H/41R/wyd8Ef+iN/D/8A8Jex/wDjVerUlAHkt1+yf8HXsbm3s/hl4V0V7hPKe60bSLexuAu4NgSworDlQcZwcc18rfGT9j3xL8PvO1Hw753irQV+YqiA3sAz1ZBxIBxygz1+UAZr9A/wpjR/N0zXq4DMsTl8r0paduhxYnCU8VG09z8f1ZZFDKdwboRzS1+iXxo/ZT8MfFbz9Rsx/wAI74kf5jf2sYMc7Z/5bRcB85PzDDdOSBivh34mfCPxR8I9SFn4k077PDI22C/gJktZ+v3JMDngnawVgOcYwT+mZfnWGx3u/DPs/wBD5DE5fWw13vE4+jtR6+1H06/5/wDr19F6HlnnGm+B4Na8Y+NZNVt79bS4ngVFS6nt4biMwqrAhGUSLng9e9O8eeGBDrHhTULezuzpGmedbz2+jvJFNCkiqiOiQkNtDAZVCeD0OK9F9Bk4HT29wKMnGM4/HvjrXnPA0+R07ef43Ov6zPmT6I8/HhvT9Q8N+LBoenaot5qVk1q0+qvPvuH8twgAuG3jaWxkhRzgE4NQL4g1a3+Heh/2VZ6hbTw/ZLa/L6dIZ7eLaBJJFG6fvCpxyA474OK9H/T+Q/x/+vR3yOD2/wA+lH1NX5lo2raff8h/WNfeV9Tyvwvp+oSePtdvWGr3lpNpCQQXep2YgZ2WR8qEWNMY54ZQ3OcbSprq/hZZz6f8OvD1tdQyW9xHZojxTIVdTjoQeRXU9sdunPP+f/10c9+tOhhFQble71/EKuIdVctu34HluqaDqK/EqTTorOeXRNWvLXVJrhIj5MbwqxdWbGBuaKE8+tO+Heh6gniZYr6zuIbPw5ay2FpLNEVWcyTHa6E9QIo4xkf3q9Q9v59OtHpnnH0z71n9Qh7Tmv1v/wAAf1qXLa3Q8dXw3q0fgyG5TT7p59N8Ty6m1p5ZWWaFZ3yUU/eO07h64GO1dBNc3XiD4oeHb630vUE0u2tbuM3tzbyQhnYJwVdQy8gAFgMnOM4zXoXqPz7f57UmOuMfkAKawXLopdvwG8U3fTv+J514ThudNh8ZaTc2V4l5daje3lufssjRTRyAMpWQLsJ5I27s5zxWXNouoN8B9D08WFyb2NbIPaeU3mgCdCcrjI45r1rv7ZzyP8+/6UDj1z06/nQsErcrl0t+Nw+tO97dV+BV1XS7bW9NuNPvo/PtLiNo5o9xXcpBBGRyOPTBritP8M+JPh+tta6BPBrnh+NlX+zbwLDcwIepjmUBX5YsQ4zhcZJrv6K6Z4eM2pbSXUwp1pQVujIL9S9jcqo3MY2AVRnJweMfWvLJNEvz8FPDNj9gujeQyWJktvKbzECzoXyuMjuTkV613/nS8+pz65P49+9TVwyrO7fSxdOu6askcP4g0u6uvil4auEgma1jsbyKW4jQlFZgmAT2JI45zkfhXH+F/COn2PhlfDniDSfEd1fxSNA1vaz3rWd0C+5GRlYQhSGGQxXBDZGa9n7HqfX1P+FHr9fSueWBg5cz/q5osVJRcV+B514k1LXG8Rarp7yatYWCQRrpv9j2CTC7ZlYOJJXjdUwwxhjGMHJPcYOheH9Tg0H4VRy6ddJNY3Dm5VoWBgBikGX4yo6YzXsn0OB2/wA/560mBkcDHf8AP/PWplgOeTlKW41iuWKjFbf8Mcda2Nwvxav70wSraNo8MSzlD5e4TOSu7pnH867GjnjJ5/z/AJ6Ufw57D17fjXoU6apXt1dzknPnswo/Xv8Al1or0T4S/AXxZ8YrtTpFoLXRw4WbWLwFbZeSCE4zK45+VeAeCVzmor4ilhYOdaVkOnSnWfLBXPPY43mmjijVpJZHWNEQFmZicAADkn0A65r3/wAA/wDBP9vi5Y2N18T7WTTtCjmS7i0dXKXcrAEAyEHEYw2CpyeWBCkA19UfB39m7wp8H4Y7m0gOq6/sxJrF4oMgyOREvSJTk8LzjAZmxXrCqVyO1fnGacQSxSdHDq0e73/4B9Xg8rVFqpVeqPny3/4J+/s828KRL8KNCZUGAZFkdse5Lkk+5NS/8MCfs9f9En8P/wDfp/8A4qvfuaWvjD6A8A/4YD/Z6/6JP4f/AO/T/wDxVH/DAf7PX/RJ/D//AH6f/wCKr6AooA+f/wDhgP8AZ6/6JP4f/wC/T/8AxVH/AAwH+z1/0Sfw/wD9+n/+Kr6AooA+f/8AhgP9nr/ok/h//v0//wAVR/wwH+z1/wBEn8P/APfp/wD4qvoCigD89v8AgoR+yH8G/hb+yD4+8T+FPh9o+ha9Y/YPs1/aI4ki36hbRtj5u6Ow/Gv0IXivlX/gqP8A8mKfEz/uGf8Ap0tK+qqAFooooAKaw54p1NbNAHiX7QnwdfxdZ/8ACQ6LAX121j8uW3Qf8fcI52/769R6jK88EfKo79QQSMNwRg4wff8A/VX6KyJuHTNeLfGT9n6LxhJLrWgNHY66QGlgfiG7wMZJH3Xx0bocYPYj4LP8geMbxOFXv9V3P0Dh3iJYFLC4p+50fb/gHx14g8Ny65NaTW2uapok9uWAk06SMrIrDkOkiPG2MDBK7gehGTnz/wCJHw1XT/hX47/s5NQ1zxDrFm32i6lAlubplyEXZGgUBQ2AqKBjPGSTXsWp6fd6LqVxp2o2s1jqEDYltrhcSDkgHHcHHDDIPYmq+D6Z9sdf8/pivzWGIr4SaptW5Xqttn99j9VnQo4uLqJ35lv/AJeZ554Y+EtjbweGp7+/1bUItHRZbHTdQlVobKUqOR8gkZkGVXzHfbk4AwCNCX4ZQQ6vqd/pGt6r4e/tRxNe2unND5M0vQy4lico7DAZoyudoPXmuzopTx1eU3O+/S2nfYccHRjBU7bdepymvfDuz1jUNK1O21HUdH1jTYmt4NSspVad4WGGjk85ZFkBIDZYEhgCD3JN8O7W7OhPeanqd/c6RfNqEdxcTKWmlZHUhwFwFw5wqBQMAAAZrq6KxWLrcqipbffr5mzwtJtycd/6ucbN8M4INY1TUNH1zVvD39qOJb2209oPJmlAwZdskT7HZcAmMrnapPIzU/iDwF/bkUkMXiHXNLt5bUWc0VpcRv5sYyMlpo5GD4Y5dSrHAySQCOroq/rle6lfVeW/+dvMX1WjZxto/wCvkUtF0ez8PaTZ6XYQC3sbOFYIYVJIVFACjJOT0HfPvWFH8PLS1k8RT2uo6lZXWt3Ud7NcW0yq8MiKijy/lxj5B8rhgRkHIJB6qisY1qkW5X1lv+Zo6MGkrbHN+GPA9t4b1TVNUe+vNW1fUvLFxfX7IXKRrhIwsaIiquWPyoCSTknNWLzwfZX3jDTPEckk4vtPt5raKNWURssrIWLDGc/IMYP4em5RVPEVZVHUb1tb5ErD0lBQtpe/zOe8L+CbHwn4dm0a0luJbWaWeZmnZS+6V2dugAxljj0461n6f8NU0Xw/omk6R4h1rSItKtzaxzW8sLtLGcZEiyRNGTxncEBHQHBNdjRVLFVk+a/m/UX1WjJWt0sY3hDwnp/gnw/a6Ppyy/ZoMsZJn8yWVmYs7ux6szMSTwOTxWP4o+GsHi5ruC+1zWP7IvXRrrSI5oxbShSuVyYzIisFGVjdQeePmYnsaKI4qrGo6ql7z6/1/SCWHpygqbWiOR1L4b2s/iE65peqaj4c1KSBbe5k0wwlbpE/1fmJLHIm5PmwwUHDEZI4Emu/Duy8QaDpmm3F9qCT6bdRX1rqQnD3UdxGxIky6spJywKlSuGwFAAx1VFP63W9183w9ev39fmL6rRs046Pp0OR1b4c2+rXelaj/a+p2mvabE0EetWxhW5kib76SIYzEwJAP3OCARjmlsPhzZ6Zp+pxW2palHqmpTrc3etrMovJZFICMSF2bVUBfK2bMcbcFs9bRR9brcqXNp/Wnp5bC+rUYybtr/Wvr5nA3Pwa0fU9L8RWurXmo6xda6kUd1qF1JGswWIfuhH5aIiBGG4YTliS2ataf8L7e38Waf4jvtc1fWdWsYZreKS9khCeVIBlTHHEi8EZyBkkncSAoHaUVbx+IacXLf8ADpp29CVgqCkpcuwfjn6mg9sj3pruseCx287R/hjufavcfhH+zjeeIJIdW8VwyWGmcPHpjZWa47jzu6L/ALPBOcHA67YDLsRmFT2dGOnfoc2YZphsspe0ry16LqUfgD8HX8Z6lD4g1eBl0G0kD28T8C7mU8EjuikfQnjoGB+tI12rjtUdrax2dvFBBEsMEShEjjACqoGAAB0AqYV+25bl1LLaCpQ36vufg+Z5lVzSu61TbouyFooor1jyAooooAKKKKACiiigAooooAKKKKACiiigAooooAKKKKACiiigBK+Vv+CXP/Jinwz/AO4n/wCnS7r6pr5W/wCCXP8AyYp8M/8AuJ/+nS7oA+qqKKKACiiigAooooAKKKKACiiigAooooASqGt6LYeItNuNO1Ozhv7G4XZLbXCB0dfQg/54rQpDmmm07oTV9GfGXxk/YjltPO1X4eS+dHnc+hXkvzKMnPkSt17fK5yefnHSvlHULG60m/nsb+2msb63bZNa3SGOWJsZ2srcg4/Ov14KnNcD8Vfgb4V+MFiItcsdt9Gu231O1Pl3MHXgP/EvJO1gVyc4zX2OX8RVsPanifej36r/ADPBxWVwqe9R0Z+X2D6Y+tFeufGL9mXxZ8HzNetH/bvh4dNVs4j+7AHHnx5JjHH3hleR82TgeRghgCDkHkGv0XDYqji4c9CV1/XQ+Uq0Z0ZctRBRRRXYYhRRRQAUUUUAFFFFABRRRQAUUUUAFFFFABRRRSAKKKRmCKWY7QOpNF0ldhvoLWh4f8P6n4q1i30rRtPuNU1Kf/V2tshdyO59l9WJAGOSBmvZfgz+yT4o+JXkalrAl8L+HZPmE0yf6XcLn/llGfug44ZxjkEBhX278OfhT4Z+Fej/ANneHNLiskYDzrg/NNcEZ5kc8t1OB0GcAAcV8jmPEFHC3p0Pel+CPcwuV1K1pVNEfPvwZ/YktNN+z6t8QJI9TvOHXRbdybaM9cSvwZT0yowmQQd4r6psbGDT7WK2tII7a2iUJHDCoRI1HAAA4AA44qcKacK/N8VjK+Mnz1pX/I+so0KdBctONgXgUtFFcZ0BRRRQAUUUUAFFFFABRRRQB8qf8FR/+TFPiZ/3DP8A06WlfVVfKv8AwVH/AOTFPiZ/3DP/AE6WlfVVAC0UUUAFFFFABTHUk8U+kNAHK+NfhzoXxA037JrNks5TJhuE+SaBvVHHI7cdDjkEV83eO/2Z/EfhfzbnRG/4SPTl+YRKqx3cY/3fuycY5XB9Fr6654o28mvGx2U4XMF+9jr3W57WX5xi8tf7mWnZ7H50zK9rdS2s8cltdQnEtvOhjljOOjIwDL+Ior718WfD/wAP+OLUQa5pVvqAX7kjriSP3RxhkPupFeN+J/2R7OTfL4b124sTyRaagn2iLpwquCrrz3YvX55i+EsRSfNhnzLz0Z+k4LjLD1Uo4qLi/LVHzd9eKK7vxB8B/Hnhnc8uh/2lAoybjSZhPn/gBCufwWuDvN2mXH2a+il0+5/597uJoZP++XANfJ18vxWH/i02vyPscPmWDxSvRqJ/PUWigfMMjkeo5FFcGux6N09UFFB+Xg8HuD1FJ1GRyKQxaKKKBBRRQeOvFABRQOeAMn070UAFFIeM54qJrqFZljMqmVjhY1OWY+gA5NXGMpaRJc4x3ZL+NLXUeH/hZ4z8UMv9n+Gr8RE8zXifZYwD3PmbSR/uhvpXqHhj9knVbplk8Ra5BYx9GttKj8xyPaWQAD/vg/Wvbw+SY/FNOFOy7vQ8HFZ/l+Eup1rvy1PBJpkt13SOsS92c4rvPA/wS8W+PGjlt7A6RprddQ1JGj+XjlI8b34P+yp/vda+ovBvwR8IeBZkuNO0pJb9RxfXjGebOMZDMTs/4DgV3KqfSvtcDwlCm1LFy5vJHwuP4yqTThgocq7vf7jzf4b/AAH8PfDxo7wI2q6yB/yELwAshxgiJR8sY5PTnkgk16TGu1cU6hfpX3tDD0sND2dGKSXY/PK+Iq4mbqVpOUn3FoooroOcKKKKACiiigAooooAKKKKACiiigAooooAKKKKACiiigAooooAKKKKAEr5W/4Jc/8AJinwz/7if/p0u6+qa+Vv+CXP/Jinwz/7if8A6dLugD6qooooAKKKKACiiigAooooAKKKKACiiigAooooAKQ+lLTTQA2SMPww3KRgivm34zfsY6H4w8/VfBxh8N60cs1ptxY3De6gHyieOUGOuVJOa+lMUjKe3NdOHxNbCz56MrMwq0YVlaaPyb8ZeB9d+HetNpPiLTJtKvV5VZQNkq/343HyuvTkHg8HmsP09+nvX6w+NPAmh/EHRZNJ8QaZb6pYyc+XOvKNgjcjDlGwThlIIzXxh8Zv2Mdd8G/aNU8GmXxHowy76eRm9hX0AHEwHXgBugCnkn9Hy3iKlXtTxPuy79H/AJHyuKyudK8qWqPm2ilKlXZGVldWKMrAhgwOCCOxz1pK+yjaXw6o8Gzi7MKKKKBBRRRTAKKKKACiiigAooopAFH8qltLS41C7gtbSCa6u7hhHDbwRtJJKx6BUAJY9cAV9T/Br9iO91XydV+IEj2FofmTRLWUec4zkedKpOwY/hQ55+8pFebjsxw+Bjeq9e3U7MPhauJfuLQ+ffh38LfE3xW1U2HhvTJLzYyia8YlLa2B7ySYwDg52rliM4Br7d+C/wCyT4a+Gv2fVNX2eJfEaYcXM0YFvbtnP7mM55HHzsS3GRtyRXs3h/wzpnhPSrfTdG0+303T4BiO3tkCKuTknjuSSSeSSSe9airgen0r8yzHPMRjvdh7se3f1PrcLl1LDpN+8xEXC0+kx+VFfOHri0UUUAFFFFABRRRQAUUUUAFFFFABRRRQB8qf8FR/+TFPiZ/3DP8A06WlfVVfKv8AwVH/AOTFPiZ/3DP/AE6WlfVVAC0UUUAFFFFABRRRQAUUUUAFJ3paKAGMob6VVvdLtNTtnt7u1huoHGGimQOrfUEVc/Cj8KlxUt0NNp6M851b9nv4f6w26Tw1a2reunl7T/0Uy1yWofsk+F7iVns9W1rTx2iSeORP/H4y3/j1e50mK86rluDrfxKSfyPSo5njaH8OtJfNnzXefsf3Ctmy8YBEHIS603efzSVPzxWRd/smeKIyWtdd0q5PbzYpIsn6jdj9a+rKNorzZ8O5bU/5d29Gz1IcSZpT/wCXt/VL/I+Qm/ZZ8fKxCzeHnXsxvp1/T7OcfnTf+GWviB/f8On/ALiFx/8AI9fX/NFYf6r5b/I/vZv/AK1Zp/z8X3I+P/8Ahlr4gdm8O/8Agwn/APkartr+yj4wkH+karotv7RmaT6/wrX1niimuGMtX2PxYnxVmjVvafgj5kt/2P8AUnYfaPF1skf92LSyWP4mbA/Kugs/2Q9CTYbzxFrM5XqsJhiU/wDkMsPwNe90fxV2QyHLqe1JfO7OKpn+Z1N6z+VkeXaX+zX8P9NZHbRWvZV6NeXU0y+52lto/ACu50PwjovhiExaRpFjpcR6rZ26RA/98gVr45pa9SnhaFDSlBL0SPJq4vEYjWrUb9W2N2kdKVeBRilFdZyi0UUUAFFFFABRRRQAUUUUAFFFFABRRRQAUUUUAFFFFABRRRQAUUUUAFFFFABRRRQAUUUUAJXyt/wS5/5MU+Gf/cT/APTpd19U18rf8Euf+TFPhn/3E/8A06XdAH1VRRRQAUUUUAFFFFABRRRQAUUUUAFFFFABRRRQAUUUUAFFFFABTHBJ6Z+tPpDQB4/8Zf2ZfCvxfjmvJIv7F8RFcLq1mg3OcYAmTgSjgDnDYGAwBNfDfxW+B/iz4O3pGu2IfTGbEGr2pL20nfDNgbG5+6wGcHGRzX6hge1VdQ0221ayns722ivLSdDHLb3CB45FPBVlOQRXv5fnWJwL5b80O3+R5eKy+liNbWZ+RGD3GD6Y5o+hyPavsj4zfsQwXCzat8PpEtJvmd9DunIhc46QyE5Q5H3WO3nqoGK+RNb0XUfDerXGmavY3GnalbnbLa3UZSRT2OCOQeoI4IORxX6bgc1w2PivZuz7df8AgnyGIwlbDO01p3KVFHr3+n5UV65xBRRRQOzCiitfwr4R1vx1rUekeH9MuNV1F1LCCAfdXgFnY4VF5A3MQOayqVIUoudR2SHGLm7RV2ZHTg8fX/PvXqXwf/Zz8W/GGSO5s4f7I0An5tYvIzsIBx+5TIMp68jCjB+YHivpD4N/sU6P4Z8jU/G7Q+ItTU7l01RmxhOeNwIzM3+8AvJ+U4Br6ahhWKNVRQiqMBR0H09K+DzLiTV08Gvn/kfS4TKW7Tr/AHHnXwl+AXhP4O2edHsjc6q67ZtWvMPcyAnkA4AReg2qAPlGcnmvSo12rj+VCg8cUtfA1Kk60ueo7tn00IRprlirIWiiisywooooAKKKKACiiigAooooAKKKSgBaKTcPXNAYGgBaKTOelLQB8qf8FR/+TFPiZ/3DP/TpaV9VV8q/8FR/+TFPiZ/3DP8A06WlfVVAC0UUUAFFFFABRRRQAUUUUAFFFFABRRRQAUUUUAFFFFABRRRQAUUUUAFFFFABRRRQAUUUUAFFFFABRRRQAUUUUAFFFFABRRRQAUUUUAFFFFABRRRQAUUUUAFFFFABSbgCATyaK+If2sv2nPiZ8F/2ntGtvDs8eofD7Q/C8XiXxPoC2cTzXFmb57a4mjkK7w8StG4UMo+Uk5GRQB9vbhRnNfPPxw+M2saP4w/Z9PhDW4x4f8aeI1trxooYpVvbJ7V5UAZlJUEhW3IQfeu/+LH7RHw8+Bf9mxeNvEsWk3WpFvsdjHbzXd3cBfvMkECPIyjuwXA9aAPSKK4n4U/GnwT8cPDr654H8Q2uv6dHKYJmiDxy28g6pLFIqyRNjna6g4IPSu2oASvlb/glz/yYp8M/+4n/AOnS7r6pr5W/4Jc/8mKfDP8A7if/AKdLugD6qooooAKKKKACiiigAooooAKKKKACiiigAooooAKKKKACiiigAooooAKSlooAjYEn36VxnxL+EHhj4s6T9i8RabHcOisIL2L5Lm2J6mOQDI6A45U4GQa7b8KKqFSdOSlB2aJlGM1aSufnX8Z/2UfFPwt8/UdOV/E3htNz/a7eP/SLdf8AptECcjHV1GOMkKK8QVxIoZWDD+8D27f0r9gHUnoK+f8A41fsg+HPiG1zqugGPwz4jfLs8Uf+i3LnnMkY+6xOfnTB+Ykh6+8y7iVxSpYzVd/8z5vFZSmubD/cfAFB+Xr3OAMck+letaf+yr8TL/xhL4fOgGzMXL6pcP8A6AqcgOso+/nH3VG/kblXJx9f/Bn9lrwr8JfJv3T+3vES8/2leRjEJx0hj6R/XluSN2DivfxufYXCw/dy55Pa36nmYfLa1aXvrlR82/Bv9jbxF478jU/FTTeF9EbDLb7QL6dfZSP3Q56uCePuchq+1vA/w78PfDfRV0rw5pUGl2g+ZvKGXlbGN7ucs7YwMsScDHSujCmnV+bY7MsRmEr1Zaduh9Zh8JSw6tFa9xirtGB+FPFJz6UteUjtFooopgFFFFABRRRQAUUUUAFFFFABRRRQAU1l3eop1FAHzv8AFn4peKfgz+0h8PZNW1Tz/hP4yVvDzQSQRKNL1knfbSGUKJGWdQ0YVmIBUniqvgn44ar4w+MfxO8S3PiKz0T4H+BIG0N5blIUivdUjIe7uTOy7ljgBEOAwUkk4JHHQ/tteGbHxR+yv8SkvUbfp+jT6raTxOUlt7q2Xz4ZUccqyvGpyO2R0NfMfxs8Cnwz/wAE2fhXb6FI2m6PDc6BrGv3clubxRDLIs1zc3EXHnqJpVlZSQCBycc0AfVXwv8A2vvhD8YvFC+HPCnjOG+1uSI3EFndWdzZPdRjOXg8+NBOAFY5jLcAnpzTPH37Yvwf+GPjC68LeIfGMdvrtp5f2u1tLC6vBabxlBO8ETpESDnDleOeleAjwvd/Ej4l/Ci+8QftWeCPF1zpWux6ro+maHoNpDd6gVRhJFFJFeu+x42YMQpHIJ6DOZ8RviNYfs1ap8UPiN8LPil4T1qym1yS78S/DXxAyrdSairrDcC0mRhPHK/ljajxuhPzL8pFAHpf/BUVg37CfxLYcgjTCP8AwZ2lfVdfJf8AwUxvG1D9gH4g3TwSWrzxaTK0Eow8ZbUrMlW9xnB96+tKAFooooAKKKKACiiigAooooAKKKKACiiigAooooAKKKKACiiigAooooAKKKKACiiigAooooAKKKKACiiigAooooAKKKKACiiigAooooAKKKKACiiigAooooAKKKKAEr5Q1zTLTWv+Ck4sL+3jvLG6+EU1vPbzIHjkjfVQrKwI5BBIxzmvq+smTwloj+KF8SHRtPbxCLT+zxq5tU+1i237/IE2N/l7vm2Z255xmgD81mttV+C/7SXwd+AmrtcXGleHfHQ1rwdfT5cz6LcW9x+5L45a3l3RncQTuGBtAr37S/E/h34d/wDBQj4j3Pj3UdP0S71zwxpQ8KajqzrBG9tF5gu4IpXwu/zcMVDAkDO04zX1Lq3gnw/4g1zSda1XQdL1LWNIZ307ULuzjluLJnADmGRgWjLADO0jOBnNV/GXw58LfEjT4rDxd4Y0bxTYxP5kdvrVhFeRo+MbgsisAfcAUAfNf7POpab42/bU+N3izwTPa33gp9K0rTb7VNO2ta32rRh3YpIpKyMkThWIzgsBkd/rdOFArL8OeFtI8HaPb6RoGkWGh6VbjENjp1slvBH7KiAKvPoK1V//AFUAFfK3/BLn/kxT4Z/9xP8A9Ol3X1TXyt/wS5/5MU+Gf/cT/wDTpd0AfVVFFFABRRRQAUUUUAFFFFABRRRQAUUUUAFFFFABRRRQAUUUUAFFFFABRRRQAUUUUAFNZc06igBgX2pwGKO9LQAUUUUAFFFFABRRRQAUUUUAFFFFABRRRQAUUUUAFFFFABRRRQBS1jR7HxBpt3puqWNvqWm3cTQXFneRLLDNGwwyOjAhlIOCCMGm2ei2GnaTBpdpY29rpkEItYrKGJUhjhA2iNUAwFCgAKBjHFX6KAOK8H/BX4ffD3VJ9T8LeA/DPhrUZlKS3mj6Rb2k0ik5Ks8aAkZ5wT1FSX3we8C6p4wh8W3vgrw7eeKoGV4dcn0qB76Mr90rOULgjthuO1djRQB8p/8ABURSv7CfxMB/6hn/AKdLSvquvlX/AIKj/wDJinxM/wC4Z/6dLSvqqgBaKKKACiiigAooooAKKKKACiiigAooooAKKKKACiiigAooooAKKKKACiiigAooooAKKKKACiiigAooooAKKKKACiiigAooooAKKKKACiiigAooooAKKKKACiiigAooooAKKKKACiiigBK+Vv8Aglz/AMmKfDP/ALif/p0u6+qa+Vv+CXP/ACYp8M/+4n/6dLugD6qooooAKKKKACiiigAooooAKKKKACiiigAooooAKKKKACiiigAooooAKKKKACiiigAooooAKKKKACiiigAooooAKKKKACiiigAooooAKKKKACiiigAooooAKKKKACiiigAooooA+VP+Co//ACYp8TP+4Z/6dLSvqqvlX/gqP/yYp8TP+4Z/6dLSvqqgBaKKKACiiigAooooAKKKKACiiigAooooAKKKKACiiigAooooAKKKKACiiigAooooAKKKKACiiigAooooAKKKKACiiigAooooAKKKKACiiigAooooAKKKKACiiigAooooAKKKKACiiigBK+Vv+CXP/Jinwz/7if8A6dLuvqmvlb/glz/yYp8M/wDuJ/8Ap0u6APqqiiigAooooAKKKKACiiigAooooAKKKKACiiigAooooAKKKKACiiigAooooAKKKKACiiigAooooAKKKKACiiigAooooAKKKKACiiigAooooAKKKKACiiigAooooAKKKKACiiigD5U/4Kj/APJinxM/7hn/AKdLSvqqvlX/AIKj/wDJinxM/wC4Z/6dLSvqqgBaKKKACiiigAooooAKKKKACiiigAooooAKKKKACiiigAooooAKKKKACiiigAooooAKKKKACiiigAooooAKKKKACiiigAooooAKKKKACiiigAooooAKKKKACiikzQAtFJmjcKAFopMijNAC0Um4UBge9AATXyr/AMEuWA/YV+GeT/0E/wD06Xdeo/tRfGfWP2ffg5q/j3SPCP8Awmo0cpLeaaL/AOxslsTteZW8qTdsJUlcD5dxyNuD8rf8EgvjRrHjf4I/8IEPCX2HQfBYljPiZtQLfbbm5uprgQrB5QC7EkO4+Y2Pk4+fgA/QKlpq8cUuaAFopNw9aKAFoopKAFooooAKKTNLQAUUUUAFFFFABRRRQAUUUUAFFFFABRRRQAUUUUAFFFFABRRRQAUUUUAFFFFABRRRQAUUUUAFFFFABRRRQAUUUUAFFFFABRSUUALRRSZoAWiko3CgD5V/4Kj/APJinxM/7hn/AKdLSvqoV8D/APBXz4xX3gz4CSeBW8LzXml+M/Kij8Qx3QCWdxbXUNyYni2ZJdI/lO4Z+bj5Tn6j/Zj+Nd5+0N8INK8e3Xhabwhb6q8jWdjcXQuJJIFO1ZiQi4DENgY5UK2cMKAPVqKKTNAC0UmRRuFAC0UlFAC0UlG6gBaKSloAKKKKACiiigAooooAKKKKACiiigAooooAKKKKACiiigAooooAKKKKACiiigAooooAKKKKACiiigAoopM0ALRSbqMigBaa1LuHrVe+1C1062kubu4itreNdzyzOERR6knpSbSV2OzeiJ+lJu6c15N4n/aa8EaCWjs7yXxBcD+DSk8xPr5pIjP4Ma8x179rLxDe5XRtEsNLXOPNvZXuXK9jtXYFP4sK8PE51gMLpUqpvy1/I9zC5HmGL1p0ml3en5n1PuqC8v7XT4WmuriK2iXkvK4VR9Sa+HNY+LfjjxBuF74q1BEzkJZMtqB7ZiCtj6k1yFzAl9cm5u915ct1muXMsh/4E2T+tfN1uMKEXalTb/D/ADPqKHBeJlrWqqPpr/kfcGqfHDwDo6kz+LNMkKnBS1nFw4Pptj3H9K5y+/ak8BWyk291qF+em2HTpk/9GKo/WvkRVC8KAB6dKd0rxqvGGJk/3cEvxPcpcF4WK/eVG/uR9OyfteeHtxEXh3Xn9GdLZVP/AJGJ/Ss66/bAhXP2XwldS88efeRx/wDoIavnOiuCfFOYy2aXyO+HCOWx3Tfz/wCGPdta/aqj8Q6PfaXqXgOG90++ge2ubaXU8pLG6lWRh5XIIJB+teffs5/ELRf2Z/hfZeCPDPg55bKC4muZbufUx5tzLI5Yu+IuSF2J/uotcVRWX+s+Zfzr7kbf6qZV/I/vZ9Cw/tgybx53g91TuY9SDN+RjA/WtKD9rzRQg8/wzrCnusDW7/lukWvmiirjxRmMdeZfcRLhLLJaKLXz/wAz6r0/9rDwdeEfaLPWNOJ/5+LUOBx/0zd66HTv2jPh3qLbU8SRW3+1e281sv13SIor4z/yaOeuea7qfF2Mj8cE/wADhqcGYKXwzkvuf6H39onjTQPEq50nWtP1MetndJL/AOgk1sbh2NfnFNY21x/rYI5D6ugYmt3R/GHiLw/5f9meIdUskj4WFbt2hH/bNiU/SvWo8Y09qtJr0Z41bgmqtaNVP1Vj9AN2aT6mvjvQP2lvHWi7Eu57HXYQcsby38mZh6boiFH/AHwa9J8O/ta6LeMkeu6NeaMx+9NbkXcK+5KgSfklfRYfiHL8TZc/K/PQ+ZxPDmZYW7dPmXda/wDBPfM0orn/AAr4+8O+NITJoms2epYGXSGYGRP95PvKfYgVv7gv0r6KE41FeDuj5ycJU3yzVmOopKKsgWik3UUALRRRQAUUUUAFFFFABRRRQAUUUUAFFFFABRRRQAUUUUAFFFFABRRRQAUUUUAFFFJu7UALRSbhRuFAC0U3cO/FG4DqcUALkDrxRurjPFfxi8HeDZHh1PXrWO7ThrSBjNcD6xoCw/EV5Vr/AO11aROyaF4cur0Zx52oTrbKfcKodiPrtNeXiMzweF0q1EvzPVw2V43F/wAGk2vTT7z6H3Uh69a+NNa/aO8faxkQahZ6KmeBYWoZsehaUuCfcAVxGseLPEHiDzP7T8QarfrJ9+Ka8kER/wC2YIX/AMdFfNV+LMFTf7uLl+B9PQ4Ox1RXqyUfx/r7z7s1jxdonhyPfqur2Omp/eu7pIh/48RXH6l+0N8PNLbEnia3uOM/6FFJdfrErV8Uw2Frb8x20SH1VADU/A7Z5FeLV4wqP+FSXzZ7tLgmmv4tZ/JW/wAz6x1D9qvwTbf8ew1TURjjyLFkz/382VkSfteaC3+r8N66P+uotl/LEx/WvmX9frSV50uLMfLZJfL/AIJ6ceD8vXxOT+f/AADuf2mfH3h39pj4U3/gbWPCd1Da3E0VzDefbI1ltZY3DLIg2sNxG5Dn+F255ru/D/7UsHhbQtO0bSvAcVlpen28dpa2sWpgJDFGoVEA8roFAH4V4ZRXM+J8yf219yOpcJ5WlZwf3s+g/wDhsO4/6Ewf+DQf/Gqcn7YUpkHmeDSE7lNSBP5GMfzr56opf6zZl1mvuQf6qZX0g/vf+Z9LW/7X2lFQbjwxqqHuIZIH/LLrV+z/AGuPCkzAXGk67ZD+9NbxP/6LlavlqiuiPFeYLdp/I55cIZbLbmXzPsOz/aY+HlwwRtZmtnJ/5eNPuEUc45by9v611Gk/FbwZrrKtj4p0i4lYZES3se//AL5Jz+lfCf4802SFJv8AWIr887hmu+nxhiF8dJP8DzqnBWHf8Oq162f+R+i0cySKCjq6nkFTkGnV+demyzaJI0ml3VzpUjdX0+d7dj9ShFdno/xr8eaH5aweJri6hX/ljqEMdwrezMVEn/j9ezR4vw0v4tNr7meJX4LxUP4VRS+9f5n3DupVr5d0L9rbW7bYms+HrK+5AabT52gOO/yOGBPtuH1r0vwz+0x4H1wKl3fS6BcMf9Xq0RiUfWUExj/vqvosNnWAxVuSor+en5nzWKyPMMJrVpO3lqvwPWaKq6fqVpqlrHdWVzDd20o3JNBIHRh6gjgirORXtqSeqZ4bTWjFopKKYhaKTcKKAFooooAKKKKACiiigAooooAKKKKACiiigAooooAKKKKACiiigAooooAKKKTNAC000bhTWYYPNAC9TzwawvFvjbRPA+n/AG3XNRh0+3PC+Zku7eiKMsx9gDXk3xa/aQtvD81zo3hbytQ1WM+XNfP81vbN3Ax/rHHTAOAepJUrXzVq2rX3iDUn1HVL2fUr6QYa4uW3NjJOBgAKMk/KoAGelfG5pxJQwbdKj78vwR9rlPDGIx6VWv7kPxfoe3eNP2rb+932/hPTRZQ9Pt+prukPXlIlOB6gsfqteK+IPEGreLroXOuapd6tMDuX7U+UQ+qxjCL/AMBUVRor8yxmcY3HP97PTstEfqeCyXA5ev3UE33erD6cD0zRRRXjeh7oUUUUAFFFFABRR79utA+boc8Z4p7bgFFHbPail5j62CijaewzR6DuelAgoo/xxSfXj60ALRScetLQAUe3aiigBFHl3EdxGzw3EZBjmhcrJGfVWBBB+hr0rwf+0J4y8KNHHcXSeI7JePI1E7ZgPRZ1G78XDnivNqPevQwuYYnBtOjNry6Hm4rLcJjY2r01Lz6n2Z8Pvj94W8eSQ2YnfSNXkOBYX+EZ29I2HyvzngHdjkgV6RuHHcHvX50yRrMhR1DqwwVYcH616r8Nf2hNc8EvHZaw82v6J02yNm6gGRyjk/OMH7rH0AYYAP6JlnFcajVPGKz7rb5n5pmnCE6KdTAvmXZ7/LufYVOWsfwv4m0zxdo8Gp6TeR3llN911yCD3VlPKsOhBAIPatcNX6DGUaiUou6PziUXB8slZodRSbhRViFooooAKKKKACiiigAooooAKKKKACiiigAooooAKKKKACiiigAoopKAFprfWlDA0jMPXFACBqparrFjotnLeX95BZ2kS7pJriQIiD1JJwK8v+LH7QWl+B5J9L0uNdY19Vw0O7EFuT/z1b177Bz0ztBBr5e8V+L9a8dX4vNe1GXUJFYmKJsLDDkn7kY4U4wN3LHHJNfKZnxBhsvbpw96fb/M+tyrhvFZjapJckO7/Q+gvGn7VulWO+38Lae+szYx9tuMwW6n1UEb3/JQezV4h4r+Kvi/xtvTVNdnS1bP+h2JNtBg/wAJC/M49nZq5X/P+eaK/NMZn2Nxj1nyx7I/U8Dw7gMCrxhzvvL+tBkMMdumyKNYl7KoAH6U6lor55ycndn0ijGKtEKKKKQwooooAKKKOemOaA8gopPTHOenvR754oAWij+ecUf/AK6A3Cig/L14+tGP54oDcKKKKACiiigAo/X/AD60UUAW9D1jUfC94brRdRutIuCwZns5Sgcj++n3X+jA17B4O/an17SWjh8SWUeuWw4N3aBYbkD1K8I56dNn414pR7djwa9jB5tjME17Gbt26HjY3J8Dj0/bU1fvs/wPujwL8VPDPxDhJ0fU0luUXdJZzAxzx9OqNg4ycbhkZ711qsCMg5FfnXG7w3EVxFI8FxC2+OeFykiHpkOOQfcEV7Z8Nf2mNR0RotP8Wl9UsBhU1KJB9oh7ZkUf6wYP3lAbjkMea/RMt4po4hqniVyvv0/4B+ZZpwnXwqdTCvnj26/8E+qQ2aVfzqho+sWWv6bb3+n3Md5ZzrvimhYMrD61eVhX3Sal7y2PgWnF8r3HUUm4UVQhaKKKACiiigAooooAKKKKACiiigAooooAKKKKACiiigAooooAKa1OppxmgBrZ9cCvmj4/fG+4uLy48L+HbswwQkx399bvhnccGFGH3QOdxHOfl4wa9K/aC+IE3gPwOwsJfK1XU5DZWsi/eiypZ5QPVVBx/tFa+No4xHGqqAqgAAD6evevgOJs3lhl9UoO0nu+yP0PhXJYYyX1zEK8Y7LuxVUKoVQFUcBVGBiloor8nu3qz9iUUtAooopAFFFFABRRRQAVwnxi8Xaj4V8P6bBo8iQaxrWp2+kWdzJGJFgeVvmkKkYO1VYgHIyBkHGK7uuN+KXgq58beH7WPT5IIdW06/t9SsXui3lebE2dr7ckKwLKSATz36V24N01iIOrt57HJjFUlQkqe5geNPBV14R8F6hrmgeINcOu6VaveLPqOqTXUV35aEuksLsYsOM/cVdpIK7cVq+HfikniLWvC1jHY4XXNDOtC4MuDH/q8R7MHP8ArOuf4ehrO8U3vjDx14Un0C28JXPh271SA213qGo3lrJb2kboRK0YhkZ5G5IUbUBzklcYpur+D9Q8J+L/AAdrGh6VPren6Vpc2jTWtvNDHcJGfLMci+Y6I3MeD8wI3AgHmvZUY1IKGKlFz962q7aJu9t9tTx3KdOpz4dNQ0vo++tl6bkPjf4h6nqHhD4nW+j2a2t54eilt/tZvmiYA2vmmVCsZKuu7hc8kfeWoofidrHgf4S6Dr+vaQl8862ECixv3uJ51lCqZDvhX95znYCdxJ+aodA8CeJ9T0f4pw6xZ2ulXfiZ5BZiOcSxKj2giXcRk/LgBvl6gkZGDXOfEo61b/Ajw7Y3eiy6Pq1hfaTaiK9nhkillR0XcGhd8puHcA+xrqp0cNJxoJJ+8uveKv111+45p1cTBOvJte6+n9707Hpdj8QL+18XaVoPiHQ4dHk1iCSXTpYL37SHaMbnhlHlrscKc/KXU/NhjVS3+LX2n4Wa54xGllRpv2wfYvtGfM+zu6cvs43bM9DjPfGaq/2T4h8bfETwxq+paG3h7TfD8c8rrc3MUz3NxNGYyIvKZvkVcnc+0ksPl645LUfB/jSw+F/jDwPp3h0Xs15PevZ6nJeQrbSwTO0mMFvMEvzlMFQm4ZL4wa5/q+Ek0tE/duubTd31v2tc6PrGKim9WtbPl1206dzX8Y+KvFTfFT4dppNvaiy1C0vJltZdWlhjuP3EbETBYGA2Z+U/PnJ+7XsEDP5KGZVjlYfOiNkA98cDI9OnGOK8z8T+G9btfEXw716y0qXVl0SG5tr2ztpolnxNAqh18x0RgGQAjePvcAgV6ZCxaJWZGiLAExsQSuR0OOOPY4+tcGPdJ06SpJaXWj8+qud2B9qpzdVtt239PQyNA1TV9QutWj1TRP7Ihtrkw2kv2xZvtcPaXao+TOPutz+dbP8APqax9A1TV9RutVj1PRP7Jgt7kw2kv2xZvtkPaXCj5M/3TzWz+p715la/Psl6O/6s9GlbkVm36q36IKKKKxNQooooAKP19v6e+aKKAOn+HvxE1b4a64uoac5mt5CBd2LnCXKjr9HA6N26HIyD9reFfFeneMvD9prGmzedaXC7h/eQjgow7MDkEdiK+Av88jNer/s3+PZfC/jhNEmf/iWa22wB24iuFQ7G996rsPqQnoSfvOHM4lQqrCVneD28mfnvFGSQxFJ42grTjv5o+vs04U0DApV71+uH44OooooAKKKKACiiigAooooAKKKKACiiigAooooAKKKKACiiigApKWkJoAb9Tivnr49fHaXT55/DHhi58u7XKX2oxHmE94oz/f8A7zfw9B82dvffHr4hS/D3wRJPZsF1W+f7JZnGfLYqS0mO+1QT9cDvXxgF25GSTk5ZuST3JPc+/evg+JM4lg4/VqD9+W/kj77hfJI42X1vEK8I7LuwChenOSScnv6n1NLRRX5I5OTu2fsyio6RQUUUUhhRRRQAUUUUAFGPyPFFH8qB7nl815efET4ra34ffULzTvD/AIct7driHT53tpby4nRnG6aMiQRogB2qVyx5Jxim/arv4c/FTw/okeo3l/4e8Rw3IW11G5e5ktbmFFfKzSM0mx0z8pYgEZGM4q1faDrfg/4k6j4m0jSP7f03XLeCDULO3mjjuYpolYLKglZEZCpCsNwP3SM4NSWOg634u+IuneJtX099B03RIZotPsJ5o5LmaaVVEk0nlMyIoAKqodickkqMCvp+amop8y9lybXV727b3v17HzXLO7sn7Tm3s7W9drC2/wAWvtPwt13xj/ZbKdNN4DZfaN3mfZ5HXl9gI3bM/d4z3xmuf8ZeKvFLfFP4dppVta/YtQs7yZbWXVpYY7k+RGx84LAwGzd8pG/OT92sjUvB/jSx+F/jDwNpvhxbuW7nvWs9TkvIVtpbeZ2kxgt5iy/OU2lQmRkvjmur8UeGtbtfEXw716y0uXVl0SC5tr2zt5olnAmgVQ6mR0RgGQAjePvcA4ranSwtGblHlfNzJe905dOumpnUq4qrFJ8y5bX0639NdC5cfEzV5PHt94R0/wAOR3Wp2tlBevdTX7RWiB924O/lMwwVwuFJbJztAJqt/wALqh/4RWPVDpLJfw63FoN9pzXIBtbhpVjYhwp3qAwYEAbgRnHSuch1XV9L/aL8S3On6DLq8EmiWQntoLiKO5jJMhUoHZY2AIww3jHBG7GKJvhf4kuPh1rFy9tAfE1/4hj8TjS1uAFVkkjZbcy/d37I8bh8u7POOTP1XCQ5OeKSfL1113vrovMSxWLnzqEm2nLp0W1tNz0fWPGkum+ONK8NW9gs8+oWN1eRzvOYlUxFMIQEbqXHzdsdDXF/AvXvFOsTeKl1aG1lsofEF9AZ21SWaWDaygQxo0IBjXopLLx/COlW4dN8T+IPjBofiK68PtpGh2em3Vr/AKTcwvdCV2jOXWN3XB2/LtZvuktjIFXPhjous+ENZ8V6bfaTMbS/1q71W21WKaFrdo5tjBCu8SBgdyn5MfLnPNc04UaOGnCKi5NJvXrd3tr6aHTGdatiIVJNqKb6dLK19PxOx8TahqelaHd3Wj6T/bWpxqDDp/2hLfzjuAPzsMLgZPPXFaFs8klvE8sXkSsoZ4927a2ORu74PGaz/E+oanpOh3d1o2lf25qUYBgsPtKwecdwH+sYYXAyeeuMVftpJJLeJ5YvIlZQzxbt2xiORnvj1rxH/CTst976/dfb5HtL+I1d7fL7/wDgktFFFYGwUUUUAFFFFAwo5/ycUUUdRHafC34qal8L9X8yDzLzRp2zd6cDx7yRg8LIB9A2MHsR9neHfEGn+KNFtdT0y4S6srpN8csfT0II6gg5BB5BBB6V+fhAYEH6V7F+zX8RJfDni4eHLmT/AIlmsOWiDH/U3IXPB7h1XH1Vf7xr9A4czqdOosHXd4vbyPzjijI4VabxuHVpLfzR9a0opBSiv1c/IRaKKKYBRRRQAUUUUAFFFFABRRRQAUUUUAFFFFABRRRQAUUUUAFNJ5PFOprd6APlL9rTUmuPiBomn5wlpprXAHvLKVz+UP614t+n/wCqvdv2ttFkh8S+HtaEeYbi3ksncDgOjeYin6hpT/wE14RgjGee9fhvEaksyqc3l+R+98MSg8sp8nnf1uLRRRXzPofVh1OByaK4LxP411MfEPTPBujNY2V3c2EmpSXupQvNGyK2wRRxLJGXcn5j82FC9DnjXuvFQ8G6DHe+Mr7T7Mm6W1+2WqyCCRnbbGxU5MZPcFmC9d2Ona8JU5YNauWy6+pxRxVOUpdFHd9PQ6aiuc0L4haD4j1Q6dY3khvfJ+0xxXFrNb+fDnHmxGRFEqf7SbhyOeRVSX4reF4dUexbUX3R3YsXuVtJjaJcHH7o3ATyg+SBtL5B468VH1TEXcfZu/oy/rVC1+dW9TrqP/1Vz+vePNF8OalDp13PcTahLEZ1s7CznvJhECB5jJCjsq5ONxABPHasz/hJYdU8ZeHDYeJ1+w6hp811FpMdlvF6o2/vfOxlNu4fKeufanHC1ZK7i0rPWz6BLE04vlUtb26HZ89xiiuRk+K3hWHVJLE6k25Lv7C90tpMbNbg4/dG5CeSG5AwXznjrxVrVviHoOh6s+m3V5J9riRJJxBazTJbI5O1p3RCsKnBOZCowCegzS+q4i6Xs39wfWaDu1NaeZ0nv2opBhv8j/I61wnhvxtY6X4Vu9S1fxT/AG5AupzWaXS6e0D+Z5pRbZIkBaRgwKjaCW6iop0J1E3FXaaXW+v4FVK8Kbim7Jq/l+Op3lZPiTwvpfi2xis9WtvtdtFPHconmMmJI2DI2VIPBHToe+ak0PxBZeIrNrmyeUrHIYpIriCSCWNwOVeORVdDgqcMBkMD0INc9D44nX4la7oV0sEemabpMGoCZVbzMu0gbPUFQIwcAZ681pTo1lN8qalHXs+36kVKtFwXM04y07o7P29O3pRyOoxXnl/8UtD8TeDdYvdA8RTafDBYm6/t1NJmngtl2qxb5k2OyhxmPduByCMggbV1480jw7b6ZbX9/Pf6hcWi3CpY6fNPNKgChpjDCjMikkckAAtjNW8HiEknF819rO5KxdC7akuW291Y6mjrUVrdQ31rDc20qT28yCSOWNgyupGQQR1GKxtO8c6Hqvh++1y2v1bTLFpluZ3jdPJaHcJQysARtwe3YY6iuVU5y2XWx0SqQju/M3vUdx1HeiuF0PxnZat4mvrq28Tm60n+yIdQj0ltPaLyIn3FbjzCAzbwp+TGRjpzV3Rfit4W8Q2Nxf2GpNJplvb/AGqTUHtZo7VE2qx/fOgTcAwym7cDkEAggdMsHXi9IN99H19Tnji6MlrJff8A5HW+/aiuL0f4veF9e1+10W0n1A6pdQC6it5tHu4S0J4Eu54QFTJ+/nHb0qlofxA0vw/4SutW1/xdHqlkuqS2f9pSWJtkhbzfLEJVR0Vvl8w8HqTij6liFpKDvpZWd9e3QHjKG8Zq3e6tp+J6D79qK5zw/wDEDQfE2pSafY3Uv21YRciC6tJbZ5YSSokj81F3pn+JMjkeozleF/GFnpvg/VdY1nxXHq1jZ31xFLqM1p9kEO2Qr5GzHzFWG0EZLEjGSRU/VKyTcou6tpZ31/Av6zSbSjJWd/TT8TuKK5ux+Img30N9K13LYCyjSW4XVLSaydEYkK+2ZEJUlWAIBBIx14o0L4haH4i1mXSLWe5h1SOAXRs7+xuLOUxFivmKsyIWXcMErkA9aTwtdXbg9N9Nh/WaLtaa1213Okprai+jNFqUR2y2EiXiN6NEwcEe/wAtLVvR9Dk8T65pmjRIXfULqO2xjPyswDn6BdzH2U0YRSlXpqG7aJxjjHD1HU2SZ+hMLlkUnvUg70yMbVA7U8V/Rkdlc/mV7i0UUVQgooooAKKKKACiiigAooooAKKKKACiiigAooooAKKKKACkJpaQ0AfKX7WWqPceP9F04k+Xaaa1xtzxulkK5/8AIP614rXu/wC1xoMkPiPw/rYTME9vJYu/YOp8xAfqDIf+AmvCK/DeI1NZlU5/K3ofvfDEoPLKfJ539bhRRR1469v8a+ZR9XbuA56c0V57N401vxB8RNa8L6JNpulDR7aGae41O0e5a4aUZHlRrLFhFAwWJbJYDAwa29T8c2Hg/T9KPi6/s9KvbwmIGNnaBpVQswDlRjIUkBup4GTjPdPB1Y8qWrfRb9ziji6cuZvRLr0OnorB8PeONH8UTX0FjcTLdWO03NreWs1rPEGGVZo5UVgp7NjHB54qhpXxV8L61qNrZ2eovI93JJFazvaTJbXTISGEM7II5TwfuMc4JGaz+q17tcj030ehf1qhZPnWvmdb1o9R3HUd65bWviZ4d0DULqyur2Z7izjWa6+yWU9ylqhBIaZ40ZYhj5vnI4GelNsdY8z4g6rZ/wDCSLPbxafFONF+yBVtwzMBN5/8W7aflzxjPemsLVa5pRaVr7MJYmnF2Uutt0dXRXJaX8VvC+talbWdnqLs13JJFaTyWk0dtdMhIYQzsgjlPB+4xzgkZqz/AMLE0Btcl0lbyR7qGcWssiWszW8UxAIiecJ5SucqApYEllGMkAp4XER3g72vt07h9aoN6TX3nSc+lFV9QZlsLplm+zMI2xNsD7OD823vjrjvXG6F4/0vSfBPh291LxDJr8mpJi1vLfTZBPfnBYslrErOMKOcLxjJxmlTw9SpG8FfW3X/AIYqpXhTlyzdtL9DuvU0D/P51T0nVrXXNPhvrGXzbeUZVirIwIJDKysAVYHIKsMggggEVxunfE5Ibzx9LrjwWWk+G7tIhPHG7N5RhRyzgZLHL/wj04pww9SpzWWsenzsKVenT5bv4uvQ6m28L6Za+IrzXorXGq3kMdtPPvY70Qkqu3OByTyBn3rVPv19fWvPvEnxA0/V/DbXmj+JZtDgivYIP7WbSJZ4Zi0uzy4y6BZA5G3ehIGQc45rd1b4haDoerPpt1dyfa4lR5xBaTTJbK+QjTyRoVhBCk5kKjAJ6DNbTwuIklzRbe1tdkZRxGHi3ytJfLdnSUVDc3UVpay3MjHyYkMjlVLHaBnoMk8dh1rCm+Inh638Fr4tfUlHh5olmF6I3I2swVflC7sliBjGc8YrkjSqT+GLfT5nTKpCPxOx0dFclrHxV8MaDfXNreX8oktEje7eCynmitA+dvnyIjLCSBnEhU456c1P4g+JPhzwvf2ljqGoFLy8h8+2t4LeWeS4Teq/u1jVi5y6/KuTjJxgEjb6piHZezeu2jMfrVDX31p5nTdaPUdx1HeuWvPiZ4esLxbWa7uFuBDHcSqtjcP9kR87GuCExbg8k+aUxtOcYNJY6o0nxE1Ww/4SETxQ6fFMND+x7Bb7mYed538W7afl7Yz3o+q1dXKLWl9mN4mn9mV9baNHVUVy2k/E7w3r2oW9rYXk0/2mV4La5FnOtrcOu4ssVwUETn5H+6xztOM4qHUviz4W0m5uorjUZBHaTi1uryOznktLaUkDZLcKhijYEjIZhtzzihYTEOSj7N39GKWKw6XNzq3qdfR+lcNq/ibUIfi54X0W3uP+JVf6beXMsKoreY6NFsYNgngO3Q4Oe/FWtQ+LPhbSri5iuNRkEdpOLW5vIbOeW0tpSQNktwkZijILDO5htzzireDr+7yxu2r6etiVjKOvNK1nbU6+iua8Q/Ebw94W1G0sNRv2jvryLzra2ht5Z5J13qn7tY1YucuPlGTjJxgEjoLW4S8tYZ4xIqSoHUSxtG4BGfmVgGU+xAI71zTo1KaUpxaT28zojUhNtRle25LSf2k+ivFqcR2y2Msd2jd1MbB8j3+UflS1b0bQZfFWu6XokK7pNRuUtumcKSN5PsEDE+ymtcKpSxFOMN20YYxxjh6kp7JP8j9CIX8xVPrUgqOP5VxUgr+jI3srn8zPcWiiiqEFFFFABRRRQAUUUUAFFFFABRRRQAUUUUAFFFFABRRRQAU1qdSH6UAcV8WvAEfxH8F3elllivV/f2czdI51B2k+xyVPsxr4guba4sLma1u4Htbu3cxTwOPmjcdVP0/Uciv0RZTkYH61438c/gaPHAOt6IFi8QxR7XjYhUvEHRWPZx/C3T+E8YK/F8Q5O8fBV6Xxx/FH23DedrLZuhX/AIcvwZ8n0U+6t5rG7mtbqGS1uoGKSwTLteNh1BHbj9Oe9M4496/HpQnGTjNWa3P21ThNcyd09rHnfxQj+HOuzW2keOLiwtZ4lF1aTX87WbJ8wBaG4yvzAgZVWz90sMYz474ovNUb4KXn9r3Goa/olv4pto9Ju76Lzbm/sBLGVY8DzQxLbWx82e4Ir6m9D39f8/8A1v1rlviN4HHxA0S2077YLHyb63vPMMPmZ8pw+3G4YzjGe3oa93A5hCmqdOd7J3vfb0VtL+p4mNwE6rnUi1zWtorX9ddbehwura9p3xE+LXgaTwzdpqK6TDeXN/dWpytrHND5cccp/hdmH+rb5h5ZyODXDeCdH0q7+Gv/AAhfi3x5qmlanFNJaXvhtRaLcGTz96+Sht2nkD7kdWQtuzweMD6c/T2/H/65/wAmjn8fqcf41Uc1jTj7KELJWs9G73b6p6a9iXljqS9pOV313tb70eP6brmm+AfjR41k8TXltpEGr2tjLpt9qMiwwzxRR+XLGJGwpZXYErnOGBxirOq6hDrfxo8D3lm7GC60PUHheSIx5UtBtO1gD0x1HSvV+OB26Y/zj9KOfr3Puff9a5v7QjzqryPm5bb6bWvaxv8AUJcns+ZWvfbX03PmTwTpGk3Xw1Hgvxf461XS9Timktb3w2PsguGkM29fJQ27TyB9yOrKW3buD2rpPiZqlr4F8S6vr3hXxRHa+LGNtDeeF7uES/2wwUJDsjOJN22QDzIiV+TB+6xr3f27dOv/AOqjn1zz/nj/AA6dq6ZZtzVOaUNNbq6tr/27/wAHzMY5Zyw5VLVbPW/33Gws8kcZdCkjAZjJyQTztr598O6foGpfDGca9rD+HRD4tvrix1dGCC1ukuZWRy7AoBgMPnwG3YzkivoPt0AHcY4+mBjj6UvcH/D/AD/kfWvPw2M+rqVlu09+3yaO7E4T6w43eya1W9/Sx598GfFWr+KNB1I6pdQavHY30lnaa5a2/kxanEgXM6qCV+9vGUO0lTtrC1DI+L3j0nj/AIpS3we33rjv6169z/k5/wD10nTOOOMZHBqo42MK86sYWUunbVf5eRnPByqUIUZTu49TwxYY7f8AY5KRRpGP+EYL4CgfMYiScY6kk89yaXx9NpGhrpniK18XxeEvF9loUaxpeRrLBqVt98QGNwPNO5SP3R3rvBxyte54zkdunpSc8kcE+2Pz6/5/Kt6eZcsnKUb3k3uuvTVPQynl3MklK1kl16ddGtTjNGn8aeINF0XUvtOlaFLc2cMt3p97pU08scpXLrvFwm0c42lSRjkmvK/G1rJovjDxF4CtFeKHx3d2t3b+WuBGj5XUT9dkO7/toK+iOO3TtSVFHMPYzb5FbtZLzXTWz7mtbA+2gkpO/ff169Tx65t4rT4seOY4UWGKLwlbpGi4Cooa4wB6YGMVz+pW8Uf7G9lHHBhW0e1YrEMbWLxsXIAJIBJZuMkA45NfQWTzyecjPeub+IPguPx94Zm0lr2XTpfNjuLe6hQN5Usbh42Knh1yoypxn1BxjenmKlKmqmiTi2/RWOeWXumpyp63T09dTz3whrb+KPitpWp668eiapBpc1pYab9kvYTdlnVppBJdW8OQoCYjUMQCSTXDakiyfBeRW27T47YngEf8hE9j7Zr2aPwDquq+JtG1nxHrdtqDaOZJbO002waziMroULyFppS5Ck4A2gZOc13PTPJPpz/9b/PtXVWzKlSqJ0dVp3srX01Setzko5dVq07VdHr87210fkeaeLAV+PHgEj5d2n6mh56jEPHv0H515iIJv+FZ2mpG3kudM0jx5cajqSRoXZbVLqXc5UDJVCQ7egUn1r6Yx1HY9ff/AD/WlPf1z/k1x08z5FG8L2t+F/LzO2eWqo3aXf8AG3+R594r+MGlWPg7XtY8NS23iqfS7dZ5Y7CYywqrNjLyRgj5QC7L97ameBg1wek+JJvEfx68HTf8JFpHiOJdOv0N1oNo8UCMRGxjMhmlV26HAIKjaWHzCvffw+X3Pv3HT/P5m7gEnI55z19aihjaFGM4Qp6u6ve+/wAv8vmXWwdarKE51NtbW7fMB2A7YGPT0r3n9l/4bvfak3jK9ixbW++HTQ38bEFZJh7AZQH/AGn9q5X4O/BG8+I88Wpakj2nhmMg7+Ve9/2YznIT1cepC85K/YNjZw6fZw2ttCkFvCgjjijUKqKBgKAOgA4xX13DeST51jcQrJfCv1PheJ8+g4PA4Z3b+J/p/mSj+dOopa/UD8rCiiigAooooAKKKKACiiigAooooAKKKKACiiigAooooAKKKKACmnrinUmKAOR+KPgKD4jeD73R5WEU7DzbW4Iz5M68o2O4zwR3BI718O6jpt3ouoXVhqFs1nfWshjmgk6ow5/EYwQRwQQRwa/Q5lOeBmvLPjR8Fbf4jWgv7J47HxBbx7Yp2GEmUciOTHO3PQ9VyeoJB+P4gyZ5jBVaXxx/FH2fDmd/2ZUdGr/Dl+DPj2j6HB6/5/WrOraXe6Dqlxp2p2ktjqEBxLbzcsPQgj7wPYjgjpVbHb/6/wCNfjVSnOnJwqKzR+3U6kK0FOm7pnlPxOi+GWu6tKnibVbXQfEelJut9Q+1Np9/ACpKtDJlTKBk4xuXOR1yK871fW9UtNA+Dup+NIbqa6t9bnaRri0Yz+UqSiOWSMLncFCueMjBJ5zX019OBj/OOfr7Vy3i7wP/AMJVr3hbU/tv2b+w717zyvK3+fujZNudw2/eznn+tfQ4TMKcFClUTsr6t3to9tNL/M8LF5fOfPUp2u+iW+q31szy7xFn4l+OvFl94OuF1C2h8H3Gkf2jZyhreS8kffHEkgO0sq8kg8bxkjNReC7Xw54p0DwXpmo+PNVn1LTZ7R18NutolxbXUHBjkiS3EyqhVgxJAC5JbHNe/wDT3/SkGV4HA6Eg46fn1981ks0iqfs4Qsla21+29v8AI2/sx8/tJyu9b723v3/zPGfh/wCLNI+HuuePdO8U39vo2q3Guz6lELxtj3ltKB5LQg8ykBSuFyQwIIyRUHiSxvdd+IXxGtNLZ0v7vwbBFbY+R97faAo5xt5IHOMZ7V7bjkY/kP8AP+R6UuT/AJ/z9fzrP+0IxqOqoatJPXS+myt5F/2e/Zqk56J3WmvXfXzPAPBNr4d8U+H/AAVpmoeOtUn1LTZ7R18NFLRJ7a6twAYpIUtxMqoVZWJIG0Eluc1Pda5beCfHiHwV4jj1F9Z1zy9U8HzxB5VkdgJ7lMbZYQFjZyWBjIO4cFc+8fw4Ax26n6fy/r65oPPPOevQZ/zz6/zrV5opTbcW4tNW0tr/ANu/8HzM45a1BRU7NW1s+nz/AK7FPWP+QPek/wDPF+p/2TXgeg2eizfB/wCGt3eeKx4I16z0530vWJtnkqWQJLG/mjy3BBX5CQx2kjoa+iPU559v8/4Ud/8ADiuPC436suVx6338rW2aOrEYP28uZPpb9b7pnIfCfxPqfjDwHpur6xBHBd3HmYeOJokmjDsI5VRuVDqA2D6+9eR+L8nwp+0ABnP2lB/5KxDmvor8eSMZ79Oe1L+vb8PT8v5U6WOVGrOcYaNp+lncVbBOtCMZT1imvW6seT/GWGO3+E2jxxKkcMd/pSqqqFVVFxFwMdBx2xWF8T9YtvA/irWPEPhbxNHa+LHa3ivfCt3CJP7YYALF5cZxKGxIP3kRK/Jg9Gx7r75Of19sGj2zxn/69bUcx9nZSjda/O9tNU+xhUy9yXuys9Pw66MwPs3iaTVYpv7S0yHTMqz2T6ZI9yFwC6+d9oC7ic8+XjnpXiel6eV8XW/wo8rGn2GvSa40e0eWNNULcRJjH3ftDhP+A19FD8vQDoPw9PpS9+OvuKyoZhOipLlW2mys+j82v6ZtWwEazi3LZ676nzrodvZ6RffEDQfFvjm+8Ky32r3VyLGUWca3tpOCI5IjNA7yZAKYRjtK7cA9em0zQ7LR/jB8P7G186a0sPCs8drJeoRMFV4VDMCow+3IPA78CvY/p0x60vG70ycngev6f/WFdNTNPaX922jT23atfRfm2YU8t9nb3r2afXo79/ySPCfibq1t4J8T6z4g8K+Jo7TxY5t4rzwrdQiUauwULCI4ziQNtkH7yIlfl5+61W9ds7/WviR8RbSxHl6ldeDoYoEZ+krG4ABPoGI/nXtQz+ue479se+aX6cfl/h9amOZqMYx5LtK12/TyXbrf1CWWuUpPmsm72S/4Pn/wDzL4S+PvDkngzwvoMF7Dba3FaR2MmjY/0u2mjj2yCWLG5MMrZZgFzjkZGeI8G+J9J8MfA/U/COsvHB4shjvrGXQ2Gby7nleTYYocb5RJ5iEMowc57GvoP6DHBHX+v+f6lcde3bI4qFjqV5e49Wnv1XnbbX/glvBVHFLnWitt0fz3PEPDOj3+g+O/hTpupc6haeFrmC4yc4kUW4IyMg4PHuRWX4N8TaV4X+B+peEdakSHxbDFe2M2hsM3l3PI0mwxw43SiTzFIZQQQc54OPoPr16dcADA+g/p0pPrwcetaPNFNWnC9rPR21Tb7ba/8EhZa4tuE7Xuu+jVv6Z4d4P0G60X4j/DPT9WRZNS0/whLFLuw2yVWgVsH1A3DI7Z969xHOKD0PbPYDp+H+fxpHdYwzFgAOpyK4MViZYuS0tbS3zuduFw0cLF676jq+hP2YfhjK1w3jPUrdo12mLS45BglWHzz49GHyqfTcejA1gfBn4BXXi5rbW/EULWmg5Dw2b5El4PVh/DGePdh6DBb6ughWCJY0UKijAVRgAegFffcO5FOEljMSrdl+p+ccTZ/CrF4LCu/wDM/wBBV+6frTxSKPalFfpZ+Xi0UUUAFFFFABRRRQAUUUUAFFFFABRRRQAUUUUAFFFFABRRRQAUUUUAFMce3an0n8VAHn/xM+Dei/Eq3L3CGw1iNdtvqluB5idwHHG9c/wn1OCCc18q+PvhX4j+G0rPqtr5unZwmp2uXgPpv7xn/e47AmvunbTJIRMjI6hkYYKkcEV83mWRYXMlzSVpd1+p9NlWf4vK/ci+aHZ/p2PzsX5gCvIPIxQPm6c/SvrXxx+zH4Z8TNJc6QG8Nagx3FrNAbdz/tQnj8UKk9zXhvi74A+NvCO+X+zhrtkvIudLzK/tuhPz5/3d2PWvzTG8OY3CO8Vzruv8j9RwPE2AxiSlLkl2e337HnlFNZxHcyW0m6K5jOHgmBWRD6MpwQfqKdXzEoShpJWPrIzjNXi7oKKKKkoKKKKBhRRRQAUUUUxBRRRSGFFFFAgoopMg9Dk+lAxaKT9e1JJIsSlnYIo6sxwBTSbdhOyV2Oo69Oa2/C/gXxH42Zf7D0O7v4WwRdMnlW+M4yJXwp+gyfavavBv7JskjR3PivV9w6nT9L3KOvRpm+YjH91VPvXu4PJMbjXeMLLu9D5/HZ9gMCrVJ3l2Wp4FpOl3viDVI9N0u0m1HUJPu29qu58ZAJPOFHI+YkD1NfRHwz/Zfjtmi1Lxk8N9L8rLpMJ3QLjp5rH/AFn+7gL1zuFe2+GfCGj+D9PFjo2mW+m22clYUxuOMbmPVj7k5rYVSOor9Hy3hrD4NqpX9+f4H5jmnFOJxqdOh7kPxfzGxRpDGqIoRF4VQMACnrS45oFfZJW0R8RrcWiiimAUUUUAFFFFABRRRQAUUUUAFFFFABRRRQAUUUUAFFFFABRRRQAUUUUAFMkzkYp9IaAOR8e/DHQfiNp4ttWs8yoG8i8hO2eAnujdu3ByDgZBr5f8ffAHxT4HMk9vEfEGlA5FxYxHzkHq8IyfxTPqQo4H2bt4pGQtXhZjk+FzJfvFaXdHvZbnWLyx/upXj2ex+c8cyTLvjYMnTcDnnuM0/wCnNfbHjn4H+FPHryXF5YfY9TbpqNifJnz/ALRHD/RwRXhfi79lrxPou+TQ7y38Q24ywgl/0e469BklGPvlB7ev5rjeF8Zh9aPvx8t/uP1DA8W4LE2jW9yXnt9543RVrXNH1LwvP5OtaZeaRIXKKb2Bo0c+iuRtfj+6TVRSGAIOQemO/wBPWvlKlGrRfLUTT9D7GlWpVlek1Jd0xaKP4sd/SjB9KxNtgopKWgLhRRRQAUUUUAFFFFABRRRQAUUUUAFFHXpzRg+h/KgAoopiyrJcRwJmWeQ7UhjBd3Poqjkn6Vcacp6JXJlOMFeTsPorvfCvwI8ceLtkkekf2RZsP+PjWGMJ6jIEWC+f94KPevavB37Knh/R2W41+7l8R3I58l18m2/GMElvozMPavpMHw9jsXZ8vLHu/wDI+WxvEuXYO6U+eXZf57Hzh4R8H6348vDa6Dp8l/tbZLcA7IIc8HfIeAcHOB83oDX0n8Mf2bdN8KyQ6nr0seuawhEkcezFtbsOfkQ/ebP8TegwF5z7FY6bbaXaxW1nbxWttEuyOGFAiKvYADgCrCrjtiv0XLeHcLgbTkuaXd/5H5nmnEuMzC8IPkh2W/zYKu0AdqctJjpxSqMV9WfIi0UUUwCiiigAooooAKKKKACiiigAooooAKKKKACiiigAooooAKKKKACiiigAooooAKKKKACmMu40+kIoAw/EfgvQ/F0Ah1rSbPU41+59qhVynrtJGQfcV5br37J/hS+y+k3Wo6HJjhI5/Piz7rKGOPYMK9txRiuDEYHDYn+NBP5Hdh8disL/AAKjj8z5P1j9lDxZYtu03VtK1ZP4jOslq/4AeYCfqQK4jVPg5480XcbrwpfSIp+/ZtHcg+4CMW/MCvufBpNpr52vwtgKjvFOPo/8z6ahxbmVJWm1Jea/ysfndqVrc6GoOp2V5pQP/P8A2slv/wChqKqx3lvNjy545M9Nrg5r9GvLHdc1j6t4J8P69n+0tD06/wAjB+1Wscmfb5ga8arwbF/w6v3o9qlxtNfxKK+TPgOivty4+BfgC4VlPhHSYgf+eFqsWPptAxWXcfs0fDq4yT4fMJJ/5YXtxF+WyQVwy4PxP2ai/E9GHGuF+1Sa9LHxvRX2D/wy98OP+gLd/wDg4vf/AI7R/wAMv/Dj/oC3f/g4vf8A49Wf+p+L/nj+P+Rr/rpgv+fcvw/zPj2l9uh9K+w4/wBmH4cxsG/sO4b2k1S7dfyMuK0bP9n34fWe0p4Ws5CP+e+6X89xOaqPB+K61Ir7zOXGmEt7tKX4f5nxRJNHD991T/eIFRw30F1OILeVbmc9IoP3jn/gK5NfeVh8J/BmlsHtPCmi28g/5aR6fErfntzXS29nDaxhIoY40HRUUAV20+DX/wAvK34f8E4qnG3/AD7o/e/+AfBmmfD3xZrUgSy8K6xMezTWbQJ/31KFH612Wj/s1eP9WQGe0sNHQnlb693yKP8AdiVgT/wIV9jbRjp+lLivXo8J4KnrUbl8zxa3F+PqaU0o/LU+d9D/AGQ7ZSH1zxLc3PpFpsC24+hZzISPptr0zwz8DfBHhOVJrHw/bSXKEMtzebrmVWHdWkJKn/dxXec4oXNfQ4fK8Hhf4VNL5Xf3nzeJzXG4v+NVbXrZfchojVegxT1pCtKteovI8oWiiimAUUUUAFFFFABRRRQAUUUUAFFFFABRRRQAUUUUAFFFFABRRRQAUUUUAFFFFABRRRQAUUUUAFFFFABTWp1Ic0AQXFnDeQvFNEksbjayuoII9CDXnev/ALOvgLXmeT+w00ydh/rdMka259SiEIT9VNel0Vz1cPSrK1SCfqjoo4ith3elNp+TPm7W/wBkIg7tF8UShAOIdUtlmJ/4HHsx+KtXDat+zX4/0pSYbHT9YXP/AC43gDEepEyoAfbca+yefpQVr5+vw3l1Z35LPydj6HD8TZnh1b2nMvNXPgfUvh74u0dyt34V1pMdTDZtcAfjEGH61zl1dR6fMYrxvsUv/PO6Bib8mxX6NeWPSmSW0ci7WjVl7ggV4tXg7Dy/h1GvWzPepca4mKtVpp+ja/zPzojuoZThJo3PorA1LX3lqXw18KawzNf+GtIvGbq09jE5P4lax7n4D+ALkAHwppsYHTyYRH/6DivPnwdVXwVV93/Dnpw42pfbov5P/hj4lo+nP0r7Fm/Zl+HU2f8AiQyRknOYdRuo/wD0GUVH/wAMvfDnvo15+OsXv/x2uZ8IYz/n5H8f8jpXGmD605fh/mfH1FfYP/DLvw4/6A13/wCDe8/+O05f2YPhwjBv7EuW9m1W8YfrLS/1Qxn88fx/yH/rpgv+fcvw/wAz48pGYRruYhR6scV9pW37O/w8tcbfDFtJg5Hnu8p/8fY1q2vwc8DWcnmReD9EEnaRtPiLD8Sua2jwdXfxVV9xhLjeivgpP70fB7apZx4DXcAJ6AyDJ/Wtix8O61qyo1hoOrXyv0e306Z0/wC+guB+dffljotjpqbLSzt7Vf7sMQQfpVryx2Ar0KfB1P8A5eVfuR51XjatL+HRS9WfEulfAnx/rDJs8NyWcR/5bX9zFEo/4CCzD/vmu00f9knxFd86rr2m6YM/cs4HuTj2ZjHg+5Br6oUEUY6V7FHhjL6WrTk/N/5WPFrcWZnV+GSj6L/O54zof7Kng7T/AJtSk1LXH44urny0B9liCZHsSa9N8P8Ag7Q/Ctu0OjaRZ6XG33haQrHux3JAyT7mtrFJtr6CjgcNhv4NNR9EfNYjHYrFO9eo5erBVxSik5pRXacWwtFFFMAooooAKKKKACiiigAooooAKKKKACiiigAooooAKKKKACiiigAooooAKKKKACiiigAooooAKKKKACiiigAooooAKKKKACiiigAooooAKKKKACiiigAooooAKKKKACiiigAooooAKKKKACiiigAooooAKKKKACiiigAooooAKKKKACiiigAooooAKKKKACiiigAooooAKKKKACiiigAooooAKKKKACiiigAooooAKKKKACiiigAooooAKKKKACiiigAooooAKKKKACiiigAooooAKKKKACiiigAooooAKKKKACiiigAooooAKKKKACiiigAooooAKKKKACiiigAooooA/9k=)"
      ],
      "metadata": {
        "id": "QPfRPe7xiLj-"
      }
    },
    {
      "cell_type": "markdown",
      "metadata": {
        "id": "ws2TxeRrnIJ4"
      },
      "source": [
        "### Exercise 6 - Make a decision tree\n",
        "---\n",
        "\n",
        "Use pencil and paper or a graphical application to create a decision tree for Iris-virginica, using the following rules (use the picture below as a guide):\n",
        "\n",
        "*  The column with the highest indicator is placed at the top\n",
        "*  Other columns are placed in order below\n",
        "*  The rest of the columns are placed in order below these\n",
        "\n",
        "Any column where one branch (on or above mean OR below mean) has an indicator of 0, could be classified as a strong indicator of Iris_virginica being the species.  Anything else, unless there is something very close to 0, could be classified as a weak indicator of Iris_virginica being the species.\n",
        "\n",
        "Let's code the decision tree using the following logic for this decision tree (yours might be slightly different):\n",
        "\n",
        "![Decision tree](https://drive.google.com/uc?id=1CTo23EHwR2IPCRjcfSyCQsT_oQ5Exwso)\n",
        "\n",
        "In the decision tree above, there is no certainty below petal-length so our decision tree will only include petal-width and petal-length.\n",
        "\n",
        "\n"
      ]
    },
    {
      "cell_type": "code",
      "metadata": {
        "id": "tkCCL0ERDife",
        "colab": {
          "base_uri": "https://localhost:8080/"
        },
        "outputId": "cf6b4baa-c5ab-49db-ef2e-8749b25facbb"
      },
      "source": [
        "def get_species(df):\n",
        "  # ADD CODE HERE TO RETURN None if petal-width is below mean (encoded as 0) or if petal-length is below mean (encoded as 0), otherwise return 'Iris-virginia'\n",
        "    if df['petal-width'] == 0 and df['petal-length'] == 0:\n",
        "        return 'iris-setosa'\n",
        "        if df['petal-width'] == 0:\n",
        "            return 'iris-versicolor'\n",
        "    return 'Iris-virginica' \n",
        "\n",
        "# use the get_species(df) function to predict the species, count how many are predicted correct and use this to calculate the proportion correct\n",
        "correct = 0\n",
        "test_size = test.shape[0]\n",
        "for i in range(0, test_size):\n",
        "  species = get_species(test.iloc[i])\n",
        "  if species == test.iloc[i]['species']:\n",
        "      correct += 1\n",
        "\n",
        "print (\"Proportion correctly identified\", correct / test_size) \n"
      ],
      "execution_count": 37,
      "outputs": [
        {
          "output_type": "stream",
          "name": "stdout",
          "text": [
            "Proportion correctly identified 0.35555555555555557\n"
          ]
        }
      ]
    },
    {
      "cell_type": "markdown",
      "source": [
        "Clearly using the mean identifies slightly more than a third of the species (most likely Iris-setosa). However the Iris-virginica and Iris-versicolor do not have a big difference in mean values for petal widths and lengths. So it is time to change the measure for encoding. "
      ],
      "metadata": {
        "id": "UIkHgi5BjhZ8"
      }
    },
    {
      "cell_type": "markdown",
      "metadata": {
        "id": "-2tQcT5ILtxl"
      },
      "source": [
        "### Exercise 7 - change the measure\n",
        "\n",
        "We are currently using the mean to act as the decision making line.  We can use the decision tree with a different line.\n",
        "\n",
        "Change the mean values so that you are instead using the median instead for all four columns.  The code should not need changing except for where you calculated the mean.\n",
        "\n",
        "Run all the code again.  Is the proportion of correct values better this time?   Is the decision tree still appropriate?\n"
      ]
    },
    {
      "cell_type": "code",
      "source": [
        "# Let's try median\n",
        "\n",
        "train_med = train_orig\n",
        "# run the function for each column so that each of the four columns are encoded, then drop the original columns, saving as a new dataframe\n",
        "train_med['sepal-length'] = train_med.apply(encode, axis=1, key='sepal-length', indicator=train_orig['sepal-length'].median())\n",
        "train_med['sepal-width'] = train_med.apply(encode, axis=1, key='sepal-width', indicator=train_orig['sepal-width'].median())\n",
        "train_med['petal-length'] = train_med.apply(encode, axis=1, key='petal-length', indicator=train_orig['petal-length'].median())\n",
        "train_med['petal-width'] = train_med.apply(encode, axis=1, key='petal-width', indicator=train_orig['petal-width'].median())\n"
      ],
      "metadata": {
        "colab": {
          "base_uri": "https://localhost:8080/"
        },
        "id": "O20GW4xVkKil",
        "outputId": "c10f872b-3f73-4145-b7ad-b42f9b5759a3"
      },
      "execution_count": 39,
      "outputs": [
        {
          "output_type": "stream",
          "name": "stdout",
          "text": [
            "       sepal-length  sepal-width  petal-length  petal-width\n",
            "count    105.000000   105.000000    105.000000   105.000000\n",
            "mean       0.476190     0.476190      0.495238     0.476190\n",
            "std        0.501828     0.501828      0.502375     0.501828\n",
            "min        0.000000     0.000000      0.000000     0.000000\n",
            "25%        0.000000     0.000000      0.000000     0.000000\n",
            "50%        0.000000     0.000000      0.000000     0.000000\n",
            "75%        1.000000     1.000000      1.000000     1.000000\n",
            "max        1.000000     1.000000      1.000000     1.000000\n"
          ]
        }
      ]
    },
    {
      "cell_type": "markdown",
      "source": [
        "Before I decide if median is a good indicator, I would like to look at the gg plot to see if that separates the species enough for me to use it."
      ],
      "metadata": {
        "id": "tJoa1-_YBUYd"
      }
    },
    {
      "cell_type": "code",
      "source": [
        "## this type of plot will show the distribution on a chart\n",
        "from plotnine import *\n",
        "ggplot(train_orig, aes(x='petal-length', y='petal-width', color='species')) + geom_point() + geom_vline(train_orig, aes(xintercept=train['sepal-length'].median(), color='species')) + geom_hline(train_orig, aes(yintercept=train['sepal-length'].median(), color='species'))"
      ],
      "metadata": {
        "colab": {
          "base_uri": "https://localhost:8080/",
          "height": 499
        },
        "id": "IiIdYTzbArrU",
        "outputId": "f75257ff-78e1-45c4-89ce-b5df8955de0e"
      },
      "execution_count": 43,
      "outputs": [
        {
          "output_type": "stream",
          "name": "stderr",
          "text": [
            "/usr/local/lib/python3.7/dist-packages/plotnine/utils.py:1246: FutureWarning: is_categorical is deprecated and will be removed in a future version.  Use is_categorical_dtype instead\n",
            "  if pdtypes.is_categorical(arr):\n"
          ]
        },
        {
          "output_type": "display_data",
          "data": {
            "image/png": "[encoded data removed]",
            "text/plain": [
              "<Figure size 640x480 with 1 Axes>"
            ]
          },
          "metadata": {}
        },
        {
          "output_type": "execute_result",
          "data": {
            "text/plain": [
              "<ggplot: (8787584277929)>"
            ]
          },
          "metadata": {},
          "execution_count": 43
        }
      ]
    },
    {
      "cell_type": "markdown",
      "metadata": {
        "id": "WimD4E5zNub1"
      },
      "source": [
        "What do you notice? (write your answer here)"
      ]
    },
    {
      "cell_type": "markdown",
      "source": [
        "While the median as an indicator seems to be doing better than the mean, it doesn't seem to do an awful lot better than mean in separating versicolor and virginica. I expect that I will probably get a slightly better percentage of species identified than the mean."
      ],
      "metadata": {
        "id": "Ng6UB_VvBgt1"
      }
    },
    {
      "cell_type": "code",
      "source": [
        "# Iris-setosa\n",
        "\n",
        "set_sl_med = get_prop_above(train_med, 'Iris-setosa', 'sepal-length')\n",
        "set_sw_med = get_prop_above(train_med, 'Iris-setosa', 'sepal-width')\n",
        "set_pl_med = get_prop_above(train_med, 'Iris-setosa', 'petal-length')\n",
        "set_pw_med = get_prop_above(train_med, 'Iris-setosa', 'petal-width')\n",
        "\n",
        "set_sl_med1 = get_prop_below(train_med, 'Iris-setosa', 'sepal-length')\n",
        "set_sw_med1 = get_prop_below(train_med, 'Iris-setosa', 'sepal-width')\n",
        "set_pl_med1 = get_prop_below(train_med, 'Iris-setosa', 'petal-length')\n",
        "set_pw_med1 = get_prop_below(train_med, 'Iris-setosa', 'petal-width')\n",
        "\n",
        "#Iris-virginica\n",
        "\n",
        "vir_sl_med = get_prop_above(train_med, 'Iris-virginica', 'sepal-length')\n",
        "vir_sw_med = get_prop_above(train_med, 'Iris-virginica', 'sepal-width')\n",
        "vir_pl_med = get_prop_above(train_med, 'Iris-virginica', 'petal-length')\n",
        "vir_pw_med = get_prop_above(train_med, 'Iris-virginica', 'petal-width')\n",
        "\n",
        "vir_sl_med1 = get_prop_below(train_med, 'Iris-virginica', 'sepal-length')\n",
        "vir_sw_med1 = get_prop_below(train_med, 'Iris-virginica', 'sepal-width')\n",
        "vir_pl_med1 = get_prop_below(train_med, 'Iris-virginica', 'petal-length')\n",
        "vir_pw_med1= get_prop_below(train_med, 'Iris-virginica', 'petal-width')\n",
        "\n",
        "#Iris-versicolor\n",
        "\n",
        "ver_sl_med = get_prop_above(train_med, 'Iris-versicolor', 'sepal-length')\n",
        "ver_sw_med = get_prop_above(train_med, 'Iris-versicolor', 'sepal-width')\n",
        "ver_pl_med = get_prop_above(train_med, 'Iris-versicolor', 'petal-length')\n",
        "ver_pw_med = get_prop_above(train_med, 'Iris-versicolor', 'petal-width')\n",
        "\n",
        "ver_sl_med1 = get_prop_below(train_med, 'Iris-versicolor', 'sepal-length')\n",
        "ver_sw_med1 = get_prop_below(train_med, 'Iris-versicolor', 'sepal-width')\n",
        "ver_pl_med1 = get_prop_below(train_med, 'Iris-versicolor', 'petal-length')\n",
        "ver_pw_med1 = get_prop_below(train_med, 'Iris-versicolor', 'petal-width')"
      ],
      "metadata": {
        "id": "hCzjVPrlCw6M"
      },
      "execution_count": 44,
      "outputs": []
    },
    {
      "cell_type": "code",
      "source": [
        "#create a dataframe to see the results\n",
        "sl_ab_med = [set_sl_med, ver_sl_med, vir_sl_med]\n",
        "sw_ab_med = [set_sw_med, ver_sw_med, vir_sw_med]\n",
        "pl_ab_med = [set_pl_med, ver_pl_med, vir_pl_med]\n",
        "pw_ab_med = [set_pw_med, ver_pw_med, vir_pw_med]\n",
        "sl_bel_med = [set_sl_med1, ver_sl_med1, vir_sl_med1]\n",
        "sw_bel_med = [set_sw_med1, ver_sw_med1, vir_sw_med1]\n",
        "pl_bel_med = [set_pl_med1, ver_pl_med1, vir_pl_med1]\n",
        "pw_bel_med = [set_pw_med1, ver_pw_med1, vir_pw_med1]\n",
        "iris_med_df = pd.DataFrame(list(zip(species_list, sl_ab_med, sw_ab_med, pl_ab_med, pw_ab_med, sl_bel_med, sw_bel_med, pl_bel_med, pw_bel_med)), columns =['species', 'sepal_length_above_median','sepal_width_above_median','petal_length_above_median','petal_width_above_median','sepal_length_below_median','sepal_width_below_median','petal_length_below_median','petal_width_below_median'])\n",
        "iris_med_df\n"
      ],
      "metadata": {
        "colab": {
          "base_uri": "https://localhost:8080/",
          "height": 259
        },
        "id": "ydbb8hKPE46o",
        "outputId": "b87c8177-5c08-4295-fbdd-7e6dc1f33c94"
      },
      "execution_count": 47,
      "outputs": [
        {
          "output_type": "execute_result",
          "data": {
            "text/html": [
              "\n",
              "  <div id=\"df-c6eb13d6-dba6-40b9-943d-d2d06662c306\">\n",
              "    <div class=\"colab-df-container\">\n",
              "      <div>\n",
              "<style scoped>\n",
              "    .dataframe tbody tr th:only-of-type {\n",
              "        vertical-align: middle;\n",
              "    }\n",
              "\n",
              "    .dataframe tbody tr th {\n",
              "        vertical-align: top;\n",
              "    }\n",
              "\n",
              "    .dataframe thead th {\n",
              "        text-align: right;\n",
              "    }\n",
              "</style>\n",
              "<table border=\"1\" class=\"dataframe\">\n",
              "  <thead>\n",
              "    <tr style=\"text-align: right;\">\n",
              "      <th></th>\n",
              "      <th>species</th>\n",
              "      <th>sepal_length_above_median</th>\n",
              "      <th>sepal_width_above_median</th>\n",
              "      <th>petal_length_above_median</th>\n",
              "      <th>petal_width_above_median</th>\n",
              "      <th>sepal_length_below_median</th>\n",
              "      <th>sepal_width_below_median</th>\n",
              "      <th>petal_length_below_median</th>\n",
              "      <th>petal_width_below_median</th>\n",
              "    </tr>\n",
              "  </thead>\n",
              "  <tbody>\n",
              "    <tr>\n",
              "      <th>0</th>\n",
              "      <td>Iris-setosa</td>\n",
              "      <td>0.00</td>\n",
              "      <td>0.62</td>\n",
              "      <td>0.000000</td>\n",
              "      <td>0.00</td>\n",
              "      <td>0.672727</td>\n",
              "      <td>0.109091</td>\n",
              "      <td>0.698113</td>\n",
              "      <td>0.672727</td>\n",
              "    </tr>\n",
              "    <tr>\n",
              "      <th>1</th>\n",
              "      <td>Iris-versicolor</td>\n",
              "      <td>0.36</td>\n",
              "      <td>0.14</td>\n",
              "      <td>0.346154</td>\n",
              "      <td>0.32</td>\n",
              "      <td>0.290909</td>\n",
              "      <td>0.490909</td>\n",
              "      <td>0.301887</td>\n",
              "      <td>0.327273</td>\n",
              "    </tr>\n",
              "    <tr>\n",
              "      <th>2</th>\n",
              "      <td>Iris-virginica</td>\n",
              "      <td>0.64</td>\n",
              "      <td>0.24</td>\n",
              "      <td>0.653846</td>\n",
              "      <td>0.68</td>\n",
              "      <td>0.036364</td>\n",
              "      <td>0.400000</td>\n",
              "      <td>0.000000</td>\n",
              "      <td>0.000000</td>\n",
              "    </tr>\n",
              "  </tbody>\n",
              "</table>\n",
              "</div>\n",
              "      <button class=\"colab-df-convert\" onclick=\"convertToInteractive('df-c6eb13d6-dba6-40b9-943d-d2d06662c306')\"\n",
              "              title=\"Convert this dataframe to an interactive table.\"\n",
              "              style=\"display:none;\">\n",
              "        \n",
              "  <svg xmlns=\"http://www.w3.org/2000/svg\" height=\"24px\"viewBox=\"0 0 24 24\"\n",
              "       width=\"24px\">\n",
              "    <path d=\"M0 0h24v24H0V0z\" fill=\"none\"/>\n",
              "    <path d=\"M18.56 5.44l.94 2.06.94-2.06 2.06-.94-2.06-.94-.94-2.06-.94 2.06-2.06.94zm-11 1L8.5 8.5l.94-2.06 2.06-.94-2.06-.94L8.5 2.5l-.94 2.06-2.06.94zm10 10l.94 2.06.94-2.06 2.06-.94-2.06-.94-.94-2.06-.94 2.06-2.06.94z\"/><path d=\"M17.41 7.96l-1.37-1.37c-.4-.4-.92-.59-1.43-.59-.52 0-1.04.2-1.43.59L10.3 9.45l-7.72 7.72c-.78.78-.78 2.05 0 2.83L4 21.41c.39.39.9.59 1.41.59.51 0 1.02-.2 1.41-.59l7.78-7.78 2.81-2.81c.8-.78.8-2.07 0-2.86zM5.41 20L4 18.59l7.72-7.72 1.47 1.35L5.41 20z\"/>\n",
              "  </svg>\n",
              "      </button>\n",
              "      \n",
              "  <style>\n",
              "    .colab-df-container {\n",
              "      display:flex;\n",
              "      flex-wrap:wrap;\n",
              "      gap: 12px;\n",
              "    }\n",
              "\n",
              "    .colab-df-convert {\n",
              "      background-color: #E8F0FE;\n",
              "      border: none;\n",
              "      border-radius: 50%;\n",
              "      cursor: pointer;\n",
              "      display: none;\n",
              "      fill: #1967D2;\n",
              "      height: 32px;\n",
              "      padding: 0 0 0 0;\n",
              "      width: 32px;\n",
              "    }\n",
              "\n",
              "    .colab-df-convert:hover {\n",
              "      background-color: #E2EBFA;\n",
              "      box-shadow: 0px 1px 2px rgba(60, 64, 67, 0.3), 0px 1px 3px 1px rgba(60, 64, 67, 0.15);\n",
              "      fill: #174EA6;\n",
              "    }\n",
              "\n",
              "    [theme=dark] .colab-df-convert {\n",
              "      background-color: #3B4455;\n",
              "      fill: #D2E3FC;\n",
              "    }\n",
              "\n",
              "    [theme=dark] .colab-df-convert:hover {\n",
              "      background-color: #434B5C;\n",
              "      box-shadow: 0px 1px 3px 1px rgba(0, 0, 0, 0.15);\n",
              "      filter: drop-shadow(0px 1px 2px rgba(0, 0, 0, 0.3));\n",
              "      fill: #FFFFFF;\n",
              "    }\n",
              "  </style>\n",
              "\n",
              "      <script>\n",
              "        const buttonEl =\n",
              "          document.querySelector('#df-c6eb13d6-dba6-40b9-943d-d2d06662c306 button.colab-df-convert');\n",
              "        buttonEl.style.display =\n",
              "          google.colab.kernel.accessAllowed ? 'block' : 'none';\n",
              "\n",
              "        async function convertToInteractive(key) {\n",
              "          const element = document.querySelector('#df-c6eb13d6-dba6-40b9-943d-d2d06662c306');\n",
              "          const dataTable =\n",
              "            await google.colab.kernel.invokeFunction('convertToInteractive',\n",
              "                                                     [key], {});\n",
              "          if (!dataTable) return;\n",
              "\n",
              "          const docLinkHtml = 'Like what you see? Visit the ' +\n",
              "            '<a target=\"_blank\" href=https://colab.research.google.com/notebooks/data_table.ipynb>data table notebook</a>'\n",
              "            + ' to learn more about interactive tables.';\n",
              "          element.innerHTML = '';\n",
              "          dataTable['output_type'] = 'display_data';\n",
              "          await google.colab.output.renderOutput(dataTable, element);\n",
              "          const docLink = document.createElement('div');\n",
              "          docLink.innerHTML = docLinkHtml;\n",
              "          element.appendChild(docLink);\n",
              "        }\n",
              "      </script>\n",
              "    </div>\n",
              "  </div>\n",
              "  "
            ],
            "text/plain": [
              "           species  ...  petal_width_below_median\n",
              "0      Iris-setosa  ...                  0.672727\n",
              "1  Iris-versicolor  ...                  0.327273\n",
              "2   Iris-virginica  ...                  0.000000\n",
              "\n",
              "[3 rows x 9 columns]"
            ]
          },
          "metadata": {},
          "execution_count": 47
        }
      ]
    },
    {
      "cell_type": "markdown",
      "source": [
        "Again from the above table, it looks like my decision tree can remain the same, since, iris-setosa has petal lengths and width below median (above median both are 0) and iris-virginica has petal length and width above median (below median they are both 0)."
      ],
      "metadata": {
        "id": "s-nYRET4Ha7K"
      }
    },
    {
      "cell_type": "code",
      "source": [
        "# use the get_species(df) function to predict the species, count how many are predicted correct and use this to calculate the proportion correct\n",
        "correct = 0\n",
        "test_size = test.shape[0]\n",
        "for i in range(0, test_size):\n",
        "  species = get_species(test.iloc[i])\n",
        "  if species == test.iloc[i]['species']:\n",
        "      correct += 1\n",
        "\n",
        "print (\"Proportion correctly identified\", correct / test_size) "
      ],
      "metadata": {
        "colab": {
          "base_uri": "https://localhost:8080/"
        },
        "id": "58ch0nhYJLOx",
        "outputId": "f0f34f84-65b9-40cb-988b-bb55311fb3e2"
      },
      "execution_count": 48,
      "outputs": [
        {
          "output_type": "stream",
          "name": "stdout",
          "text": [
            "Proportion correctly identified 0.4222222222222222\n"
          ]
        }
      ]
    },
    {
      "cell_type": "markdown",
      "source": [
        "As expected the median is slightly better at claissifying the species than mean. But still less than half of the sample has been identified correctly. So median too is not a great indicator. "
      ],
      "metadata": {
        "id": "2zUMsQxFJffp"
      }
    },
    {
      "cell_type": "markdown",
      "metadata": {
        "id": "6WoHQeYLNyk8"
      },
      "source": [
        "### Exercise 8 - try different measures\n",
        "---\n",
        "\n",
        "Do the same again but with upper quantile, then again with the lower quantile.  Is it making any difference?  Which give the best looking results?"
      ]
    },
    {
      "cell_type": "code",
      "source": [
        "# Let's try upper quantile\n",
        "\n",
        "train_up = train_orig\n",
        "# run the function for each column so that each of the four columns are encoded, then drop the original columns, saving as a new dataframe\n",
        "train_up['sepal-length'] = train_up.apply(encode, axis=1, key='sepal-length', indicator=train_orig['sepal-length'].quantile(0.75))\n",
        "train_up['sepal-width'] = train_up.apply(encode, axis=1, key='sepal-width', indicator=train_orig['sepal-width'].quantile(0.75))\n",
        "train_up['petal-length'] = train_up.apply(encode, axis=1, key='petal-length', indicator=train_orig['petal-length'].quantile(0.75))\n",
        "train_up['petal-width'] = train_up.apply(encode, axis=1, key='petal-width', indicator=train_orig['petal-width'].quantile(0.75))\n",
        "\n",
        "train_up.describe()"
      ],
      "metadata": {
        "id": "KEYF1NDSKlrv",
        "outputId": "d9a973b9-7c0f-4e0b-a5c1-6ca28b9d864c",
        "colab": {
          "base_uri": "https://localhost:8080/",
          "height": 300
        }
      },
      "execution_count": 50,
      "outputs": [
        {
          "output_type": "execute_result",
          "data": {
            "text/html": [
              "\n",
              "  <div id=\"df-5bc5d2bc-b05e-4c80-942f-0b6c87cb7ba6\">\n",
              "    <div class=\"colab-df-container\">\n",
              "      <div>\n",
              "<style scoped>\n",
              "    .dataframe tbody tr th:only-of-type {\n",
              "        vertical-align: middle;\n",
              "    }\n",
              "\n",
              "    .dataframe tbody tr th {\n",
              "        vertical-align: top;\n",
              "    }\n",
              "\n",
              "    .dataframe thead th {\n",
              "        text-align: right;\n",
              "    }\n",
              "</style>\n",
              "<table border=\"1\" class=\"dataframe\">\n",
              "  <thead>\n",
              "    <tr style=\"text-align: right;\">\n",
              "      <th></th>\n",
              "      <th>sepal-length</th>\n",
              "      <th>sepal-width</th>\n",
              "      <th>petal-length</th>\n",
              "      <th>petal-width</th>\n",
              "    </tr>\n",
              "  </thead>\n",
              "  <tbody>\n",
              "    <tr>\n",
              "      <th>count</th>\n",
              "      <td>105.000000</td>\n",
              "      <td>105.000000</td>\n",
              "      <td>105.000000</td>\n",
              "      <td>105.000000</td>\n",
              "    </tr>\n",
              "    <tr>\n",
              "      <th>mean</th>\n",
              "      <td>0.219048</td>\n",
              "      <td>0.247619</td>\n",
              "      <td>0.228571</td>\n",
              "      <td>0.190476</td>\n",
              "    </tr>\n",
              "    <tr>\n",
              "      <th>std</th>\n",
              "      <td>0.415585</td>\n",
              "      <td>0.433699</td>\n",
              "      <td>0.421927</td>\n",
              "      <td>0.394560</td>\n",
              "    </tr>\n",
              "    <tr>\n",
              "      <th>min</th>\n",
              "      <td>0.000000</td>\n",
              "      <td>0.000000</td>\n",
              "      <td>0.000000</td>\n",
              "      <td>0.000000</td>\n",
              "    </tr>\n",
              "    <tr>\n",
              "      <th>25%</th>\n",
              "      <td>0.000000</td>\n",
              "      <td>0.000000</td>\n",
              "      <td>0.000000</td>\n",
              "      <td>0.000000</td>\n",
              "    </tr>\n",
              "    <tr>\n",
              "      <th>50%</th>\n",
              "      <td>0.000000</td>\n",
              "      <td>0.000000</td>\n",
              "      <td>0.000000</td>\n",
              "      <td>0.000000</td>\n",
              "    </tr>\n",
              "    <tr>\n",
              "      <th>75%</th>\n",
              "      <td>0.000000</td>\n",
              "      <td>0.000000</td>\n",
              "      <td>0.000000</td>\n",
              "      <td>0.000000</td>\n",
              "    </tr>\n",
              "    <tr>\n",
              "      <th>max</th>\n",
              "      <td>1.000000</td>\n",
              "      <td>1.000000</td>\n",
              "      <td>1.000000</td>\n",
              "      <td>1.000000</td>\n",
              "    </tr>\n",
              "  </tbody>\n",
              "</table>\n",
              "</div>\n",
              "      <button class=\"colab-df-convert\" onclick=\"convertToInteractive('df-5bc5d2bc-b05e-4c80-942f-0b6c87cb7ba6')\"\n",
              "              title=\"Convert this dataframe to an interactive table.\"\n",
              "              style=\"display:none;\">\n",
              "        \n",
              "  <svg xmlns=\"http://www.w3.org/2000/svg\" height=\"24px\"viewBox=\"0 0 24 24\"\n",
              "       width=\"24px\">\n",
              "    <path d=\"M0 0h24v24H0V0z\" fill=\"none\"/>\n",
              "    <path d=\"M18.56 5.44l.94 2.06.94-2.06 2.06-.94-2.06-.94-.94-2.06-.94 2.06-2.06.94zm-11 1L8.5 8.5l.94-2.06 2.06-.94-2.06-.94L8.5 2.5l-.94 2.06-2.06.94zm10 10l.94 2.06.94-2.06 2.06-.94-2.06-.94-.94-2.06-.94 2.06-2.06.94z\"/><path d=\"M17.41 7.96l-1.37-1.37c-.4-.4-.92-.59-1.43-.59-.52 0-1.04.2-1.43.59L10.3 9.45l-7.72 7.72c-.78.78-.78 2.05 0 2.83L4 21.41c.39.39.9.59 1.41.59.51 0 1.02-.2 1.41-.59l7.78-7.78 2.81-2.81c.8-.78.8-2.07 0-2.86zM5.41 20L4 18.59l7.72-7.72 1.47 1.35L5.41 20z\"/>\n",
              "  </svg>\n",
              "      </button>\n",
              "      \n",
              "  <style>\n",
              "    .colab-df-container {\n",
              "      display:flex;\n",
              "      flex-wrap:wrap;\n",
              "      gap: 12px;\n",
              "    }\n",
              "\n",
              "    .colab-df-convert {\n",
              "      background-color: #E8F0FE;\n",
              "      border: none;\n",
              "      border-radius: 50%;\n",
              "      cursor: pointer;\n",
              "      display: none;\n",
              "      fill: #1967D2;\n",
              "      height: 32px;\n",
              "      padding: 0 0 0 0;\n",
              "      width: 32px;\n",
              "    }\n",
              "\n",
              "    .colab-df-convert:hover {\n",
              "      background-color: #E2EBFA;\n",
              "      box-shadow: 0px 1px 2px rgba(60, 64, 67, 0.3), 0px 1px 3px 1px rgba(60, 64, 67, 0.15);\n",
              "      fill: #174EA6;\n",
              "    }\n",
              "\n",
              "    [theme=dark] .colab-df-convert {\n",
              "      background-color: #3B4455;\n",
              "      fill: #D2E3FC;\n",
              "    }\n",
              "\n",
              "    [theme=dark] .colab-df-convert:hover {\n",
              "      background-color: #434B5C;\n",
              "      box-shadow: 0px 1px 3px 1px rgba(0, 0, 0, 0.15);\n",
              "      filter: drop-shadow(0px 1px 2px rgba(0, 0, 0, 0.3));\n",
              "      fill: #FFFFFF;\n",
              "    }\n",
              "  </style>\n",
              "\n",
              "      <script>\n",
              "        const buttonEl =\n",
              "          document.querySelector('#df-5bc5d2bc-b05e-4c80-942f-0b6c87cb7ba6 button.colab-df-convert');\n",
              "        buttonEl.style.display =\n",
              "          google.colab.kernel.accessAllowed ? 'block' : 'none';\n",
              "\n",
              "        async function convertToInteractive(key) {\n",
              "          const element = document.querySelector('#df-5bc5d2bc-b05e-4c80-942f-0b6c87cb7ba6');\n",
              "          const dataTable =\n",
              "            await google.colab.kernel.invokeFunction('convertToInteractive',\n",
              "                                                     [key], {});\n",
              "          if (!dataTable) return;\n",
              "\n",
              "          const docLinkHtml = 'Like what you see? Visit the ' +\n",
              "            '<a target=\"_blank\" href=https://colab.research.google.com/notebooks/data_table.ipynb>data table notebook</a>'\n",
              "            + ' to learn more about interactive tables.';\n",
              "          element.innerHTML = '';\n",
              "          dataTable['output_type'] = 'display_data';\n",
              "          await google.colab.output.renderOutput(dataTable, element);\n",
              "          const docLink = document.createElement('div');\n",
              "          docLink.innerHTML = docLinkHtml;\n",
              "          element.appendChild(docLink);\n",
              "        }\n",
              "      </script>\n",
              "    </div>\n",
              "  </div>\n",
              "  "
            ],
            "text/plain": [
              "       sepal-length  sepal-width  petal-length  petal-width\n",
              "count    105.000000   105.000000    105.000000   105.000000\n",
              "mean       0.219048     0.247619      0.228571     0.190476\n",
              "std        0.415585     0.433699      0.421927     0.394560\n",
              "min        0.000000     0.000000      0.000000     0.000000\n",
              "25%        0.000000     0.000000      0.000000     0.000000\n",
              "50%        0.000000     0.000000      0.000000     0.000000\n",
              "75%        0.000000     0.000000      0.000000     0.000000\n",
              "max        1.000000     1.000000      1.000000     1.000000"
            ]
          },
          "metadata": {},
          "execution_count": 50
        }
      ]
    },
    {
      "cell_type": "markdown",
      "source": [
        "Let's see if this is a better indicator than median and/or mean. First, let's look at ggplot for a visual indication."
      ],
      "metadata": {
        "id": "tQfynRxOK5NT"
      }
    },
    {
      "cell_type": "code",
      "source": [
        "## this type of plot will show the distribution on a chart\n",
        "from plotnine import *\n",
        "ggplot(train_orig, aes(x='petal-length', y='petal-width', color='species')) + geom_point() + geom_vline(train_orig, aes(xintercept=train['sepal-length'].quantile(0.75), color='species')) + geom_hline(train_orig, aes(yintercept=train['sepal-length'].quantile(0.75), color='species'))"
      ],
      "metadata": {
        "id": "HRE0PrD5LEF1",
        "outputId": "3b6ada0a-9f07-4813-abd4-466ec9bca406",
        "colab": {
          "base_uri": "https://localhost:8080/",
          "height": 499
        }
      },
      "execution_count": 54,
      "outputs": [
        {
          "output_type": "stream",
          "name": "stderr",
          "text": [
            "/usr/local/lib/python3.7/dist-packages/plotnine/utils.py:1246: FutureWarning: is_categorical is deprecated and will be removed in a future version.  Use is_categorical_dtype instead\n",
            "  if pdtypes.is_categorical(arr):\n"
          ]
        },
        {
          "output_type": "display_data",
          "data": {
            "image/png": "[encoded data removed]",
            "text/plain": [
              "<Figure size 640x480 with 1 Axes>"
            ]
          },
          "metadata": {}
        },
        {
          "output_type": "execute_result",
          "data": {
            "text/plain": [
              "<ggplot: (8787584233753)>"
            ]
          },
          "metadata": {},
          "execution_count": 54
        }
      ]
    },
    {
      "cell_type": "markdown",
      "source": [
        "This is clearly a good idicator for separating iris-setosa. But the other two species are still a bit tangled together. I am not sure using lower quantile will help this since most of tangled data is above the upper quantile."
      ],
      "metadata": {
        "id": "cY0d4A0xLoy4"
      }
    },
    {
      "cell_type": "code",
      "source": [
        "## this type of plot will show the distribution on a chart\n",
        "from plotnine import *\n",
        "ggplot(train_orig, aes(x='petal-length', y='petal-width', color='species')) + geom_point() + geom_vline(train_orig, aes(xintercept=train['sepal-length'].quantile(0.25), color='species')) + geom_hline(train_orig, aes(yintercept=train['sepal-length'].quantile(0.25), color='species'))"
      ],
      "metadata": {
        "id": "lUI9zk37NkUT",
        "outputId": "7af04aed-eb5b-4b60-cfea-fd80b2cd50bd",
        "colab": {
          "base_uri": "https://localhost:8080/",
          "height": 499
        }
      },
      "execution_count": 62,
      "outputs": [
        {
          "output_type": "stream",
          "name": "stderr",
          "text": [
            "/usr/local/lib/python3.7/dist-packages/plotnine/utils.py:1246: FutureWarning: is_categorical is deprecated and will be removed in a future version.  Use is_categorical_dtype instead\n",
            "  if pdtypes.is_categorical(arr):\n"
          ]
        },
        {
          "output_type": "display_data",
          "data": {
            "image/png": "[encoded data removed]",
            "text/plain": [
              "<Figure size 640x480 with 1 Axes>"
            ]
          },
          "metadata": {}
        },
        {
          "output_type": "execute_result",
          "data": {
            "text/plain": [
              "<ggplot: (8787584329245)>"
            ]
          },
          "metadata": {},
          "execution_count": 62
        }
      ]
    },
    {
      "cell_type": "markdown",
      "source": [
        "As expected, using the lower quantile give no better indication than mean/median to select the species. We may have to try a combination of quartile values to separate iris-virginica and iris-versicolor. What will happen if I move the indicator line to 1.5*upper_quantile?"
      ],
      "metadata": {
        "id": "x7wYq3RROBcD"
      }
    },
    {
      "cell_type": "code",
      "source": [
        "## this type of plot will show the distribution on a chart\n",
        "from plotnine import *\n",
        "ggplot(train_orig, aes(x='petal-length', y='petal-width', color='species')) + geom_point() + geom_vline(train_orig, aes(xintercept=train['sepal-length'].quantile(0.75)*1.5, color='species')) + geom_hline(train_orig, aes(yintercept=train['sepal-length'].quantile(0.75)*1.5, color='species'))"
      ],
      "metadata": {
        "id": "Rds6_fWPL2FY",
        "outputId": "2a4370f9-911a-41cb-a1cf-555bde3c53fc",
        "colab": {
          "base_uri": "https://localhost:8080/",
          "height": 499
        }
      },
      "execution_count": 61,
      "outputs": [
        {
          "output_type": "stream",
          "name": "stderr",
          "text": [
            "/usr/local/lib/python3.7/dist-packages/plotnine/utils.py:1246: FutureWarning: is_categorical is deprecated and will be removed in a future version.  Use is_categorical_dtype instead\n",
            "  if pdtypes.is_categorical(arr):\n"
          ]
        },
        {
          "output_type": "display_data",
          "data": {
            "image/png": "[encoded data removed]",
            "text/plain": [
              "<Figure size 640x480 with 1 Axes>"
            ]
          },
          "metadata": {}
        },
        {
          "output_type": "execute_result",
          "data": {
            "text/plain": [
              "<ggplot: (8787584260005)>"
            ]
          },
          "metadata": {},
          "execution_count": 61
        }
      ]
    },
    {
      "cell_type": "markdown",
      "source": [
        "This seems to a reasonable indicator for separating iris-versicolor and iris-virginica. However, can it be used to separate iris-setosa? Probably not! So we will need to use both upper_quartile and 0.75*upper_quartile to make our deicisions. So let's make the dataframe using quartiles."
      ],
      "metadata": {
        "id": "VtzIx8HrOoNU"
      }
    },
    {
      "cell_type": "markdown",
      "metadata": {
        "id": "8C69ns9VODh3"
      },
      "source": [
        "### Exercise 9 - try a different species\n",
        "\n",
        "Run the mean test again for the Iris-versicolor species.  Again, try some different decision making lines.\n",
        "\n",
        "What are the results.  Record them in the text cell below:"
      ]
    },
    {
      "cell_type": "markdown",
      "metadata": {
        "id": "t3oXJbqlOU0P"
      },
      "source": [
        "Write your answers here:  "
      ]
    },
    {
      "cell_type": "markdown",
      "metadata": {
        "id": "Co14Ws3gupwP"
      },
      "source": [
        "# New logic introduced in this worksheet:\n",
        "\n",
        "1.  Adding headings to a CSV if none currently exist\n",
        "2.  Splitting a data set into train and test sets"
      ]
    },
    {
      "cell_type": "code",
      "source": [
        "!pip install plotnine"
      ],
      "metadata": {
        "colab": {
          "base_uri": "https://localhost:8080/"
        },
        "id": "FCxrqkaybxOB",
        "outputId": "02362cce-79ba-46db-b344-7a64373d08c7"
      },
      "execution_count": 23,
      "outputs": [
        {
          "output_type": "stream",
          "name": "stdout",
          "text": [
            "Requirement already satisfied: plotnine in /usr/local/lib/python3.7/dist-packages (0.6.0)\n",
            "Requirement already satisfied: pandas>=0.25.0 in /usr/local/lib/python3.7/dist-packages (from plotnine) (1.3.5)\n",
            "Requirement already satisfied: mizani>=0.6.0 in /usr/local/lib/python3.7/dist-packages (from plotnine) (0.6.0)\n",
            "Requirement already satisfied: statsmodels>=0.9.0 in /usr/local/lib/python3.7/dist-packages (from plotnine) (0.10.2)\n",
            "Requirement already satisfied: scipy>=1.2.0 in /usr/local/lib/python3.7/dist-packages (from plotnine) (1.4.1)\n",
            "Requirement already satisfied: matplotlib>=3.1.1 in /usr/local/lib/python3.7/dist-packages (from plotnine) (3.2.2)\n",
            "Requirement already satisfied: descartes>=1.1.0 in /usr/local/lib/python3.7/dist-packages (from plotnine) (1.1.0)\n",
            "Requirement already satisfied: patsy>=0.4.1 in /usr/local/lib/python3.7/dist-packages (from plotnine) (0.5.2)\n",
            "Requirement already satisfied: numpy>=1.16.0 in /usr/local/lib/python3.7/dist-packages (from plotnine) (1.21.5)\n",
            "Requirement already satisfied: pyparsing!=2.0.4,!=2.1.2,!=2.1.6,>=2.0.1 in /usr/local/lib/python3.7/dist-packages (from matplotlib>=3.1.1->plotnine) (3.0.7)\n",
            "Requirement already satisfied: python-dateutil>=2.1 in /usr/local/lib/python3.7/dist-packages (from matplotlib>=3.1.1->plotnine) (2.8.2)\n",
            "Requirement already satisfied: cycler>=0.10 in /usr/local/lib/python3.7/dist-packages (from matplotlib>=3.1.1->plotnine) (0.11.0)\n",
            "Requirement already satisfied: kiwisolver>=1.0.1 in /usr/local/lib/python3.7/dist-packages (from matplotlib>=3.1.1->plotnine) (1.3.2)\n",
            "Requirement already satisfied: palettable in /usr/local/lib/python3.7/dist-packages (from mizani>=0.6.0->plotnine) (3.3.0)\n",
            "Requirement already satisfied: pytz>=2017.3 in /usr/local/lib/python3.7/dist-packages (from pandas>=0.25.0->plotnine) (2018.9)\n",
            "Requirement already satisfied: six in /usr/local/lib/python3.7/dist-packages (from patsy>=0.4.1->plotnine) (1.15.0)\n"
          ]
        }
      ]
    },
    {
      "cell_type": "code",
      "metadata": {
        "id": "-hpupKkeezXP",
        "colab": {
          "base_uri": "https://localhost:8080/",
          "height": 499
        },
        "outputId": "4cf3a637-585f-4fb7-fa22-f6db42f9e1ad"
      },
      "source": [
        "## this type of plot will show the distribution on a chart\n",
        "from plotnine import *\n",
        "ggplot(train_orig, aes(x='petal-length', y='petal-width', color='species')) + geom_point() + geom_vline(train_orig, aes(xintercept=train['sepal-length'].mean(), color='species')) + geom_hline(train_orig, aes(yintercept=train['sepal-length'].mean(), color='species'))"
      ],
      "execution_count": 42,
      "outputs": [
        {
          "output_type": "stream",
          "name": "stderr",
          "text": [
            "/usr/local/lib/python3.7/dist-packages/plotnine/utils.py:1246: FutureWarning: is_categorical is deprecated and will be removed in a future version.  Use is_categorical_dtype instead\n",
            "  if pdtypes.is_categorical(arr):\n"
          ]
        },
        {
          "output_type": "display_data",
          "data": {
            "image/png": "[encoded data removed]",
            "text/plain": [
              "<Figure size 640x480 with 1 Axes>"
            ]
          },
          "metadata": {}
        },
        {
          "output_type": "execute_result",
          "data": {
            "text/plain": [
              "<ggplot: (8787584408149)>"
            ]
          },
          "metadata": {},
          "execution_count": 42
        }
      ]
    }
  ]
}