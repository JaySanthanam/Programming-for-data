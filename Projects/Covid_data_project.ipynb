{
  "nbformat": 4,
  "nbformat_minor": 0,
  "metadata": {
    "colab": {
      "name": "Covid_data_project.ipynb",
      "provenance": [],
      "include_colab_link": true
    },
    "kernelspec": {
      "name": "python3",
      "display_name": "Python 3"
    },
    "language_info": {
      "name": "python"
    }
  },
  "cells": [
    {
      "cell_type": "markdown",
      "metadata": {
        "id": "view-in-github",
        "colab_type": "text"
      },
      "source": [
        "<a href=\"https://colab.research.google.com/github/JaySanthanam/Programming-for-data/blob/main/Projects/Covid_data_project.ipynb\" target=\"_parent\"><img src=\"https://colab.research.google.com/assets/colab-badge.svg\" alt=\"Open In Colab\"/></a>"
      ]
    },
    {
      "cell_type": "markdown",
      "metadata": {
        "id": "vQ_tQG_3WBXn"
      },
      "source": [
        "#What is COVID-19?\n",
        "---\n",
        "*Source- World Health Organisation (https://www.who.int/health-topics/coronavirus#tab=tab_1)\n",
        "---\n",
        "Coronavirus disease (COVID-19) is an infectious disease caused by the SARS-CoV-2 virus.\n",
        "\n",
        "Most people infected with the virus will experience mild to moderate respiratory illness and recover without requiring special treatment. However, some will become seriously ill and require medical attention. Older people and those with underlying medical conditions are more likely to develop serious illness.\n",
        "\n",
        "The best way to prevent and slow down transmission is to be well informed about the disease and how the virus spreads. Every virus has Basic Reproduction number (R0) which implies how many people will get the disease from the infected person. As per inital reseach work R0 of COVID-19 is 2.4 (estimated by Imperial College, London). See https://www.ncbi.nlm.nih.gov/pmc/articles/PMC7751056/ for more information. R0 helps the governments across the world to estimate the future caseloads, to come up with interventions to avoid any unfavorable condition. An R0 above 1 means that the number of cases can have exponential growth rate around the world. Flattening the Curve typically implies even if the number of confirmed cases are increasing but the distribution of those cases will be over longer time giving health care bodies around the world time to act to save lives.\n",
        "\n",
        "Like all living things, viruses mutate as well but are faster at mutating giving us all new challenges to deal with. Currently, the world is dealing with many variants of the Covid-19 virus but the spread is dominated by Omicron variant which is faster at the rate of infection (R0) than the other variants.\n",
        "https://www.nature.com/articles/d41586-020-02544-6"
      ]
    },
    {
      "cell_type": "markdown",
      "source": [
        "#Objective of this notebook\n",
        "---\n",
        "* to study COVID-19 outbreak with the help of some basic visualizations techniques.\n",
        "* particularly look at the current (March 2022) UK data on confirmed cases to get an idea of R0 value.\n",
        "* understand the world-wide vaccination strategy using some analyses and visualisations."
      ],
      "metadata": {
        "id": "NPoGmNOHP895"
      }
    },
    {
      "cell_type": "markdown",
      "source": [
        "#Data and sources\n",
        "---\n",
        "####Daily cases (today) in the UK\n",
        "The current daily updates on number of confirmed cases, new deaths etc are published by the official UK government website for data and insights on coronavirus (COVID-19) and can be found at\n",
        "UK current cases data:\n",
        "https://api.coronavirus.data.gov.uk/v1/data\n",
        "\n",
        "\n",
        "####Confrimed cases in the UK as of 22 March 2022\n",
        "The number of confirmed cases by date reported in the UK can be found at \n",
        "https://coronavirus.data.gov.uk/details/cases?areaType=overview&areaName=United%20Kingdom\n",
        "I have uploaded the csv data to my dataset folder at\n",
        "https://github.com/JaySanthanam/Programming-for-data/blob/main/Datasets/UK_covid_data_2022-Mar-22.csv\n",
        "\n",
        "####Hospitalisation Data in the UK\n",
        "The number of confirmed cases by date reported in the UK can be found at \n",
        "https://coronavirus.data.gov.uk/details/healthcare\n",
        "I have uploaded the csv data to my dataset folder at\n",
        "https://github.com/JaySanthanam/Programming-for-data/blob/main/Datasets/data_2022-Mar-22_hospital.csv\n",
        "\n",
        "####UK Vaccine data\n",
        "UK vaccine data:\n",
        "The country-wide vaccine data for the UK can be found at github (thanks to Lucas Rodés-Guirao) at \n",
        "https://raw.githubusercontent.com/owid/covid-19-data/master/public/data/vaccinations/country_data/United%20Kingdom.csv\n",
        "\n",
        "####World-wide vaccine data\n",
        "World-wide vaccination data can be found on github (thanks to Lucas Rodés-Guirao) at \n",
        "https://raw.githubusercontent.com/owid/covid-19-data/master/public/data/vaccinations/vaccinations.csv\n",
        "\n",
        "We will be using data from these sources to do our analyses and visualisations. The first data is in json format (from API) while the others are in csv format."
      ],
      "metadata": {
        "id": "Vkg-MVQ0UIHH"
      }
    },
    {
      "cell_type": "markdown",
      "source": [
        "# UK's current daily update\n",
        "---"
      ],
      "metadata": {
        "id": "bKkgnquIXsaL"
      }
    },
    {
      "cell_type": "markdown",
      "source": [
        "Let's study the current update on daily cases in the UK until today (23/03/2022). To do this we have to first upload the json data into pandas. So, let's import the necessary libraries (json, requests and pandas)."
      ],
      "metadata": {
        "id": "avNV4W_sX5EX"
      }
    },
    {
      "cell_type": "code",
      "source": [
        "import json\n",
        "import requests\n",
        "import pandas as pd"
      ],
      "metadata": {
        "id": "fhA0-j97b1Wh"
      },
      "execution_count": 1,
      "outputs": []
    },
    {
      "cell_type": "markdown",
      "source": [
        "Now let's read the json data and convert it to a dataframe to be used in pandas."
      ],
      "metadata": {
        "id": "ybXqZn6_buF-"
      }
    },
    {
      "cell_type": "code",
      "source": [
        "\n",
        "url = \"https://api.coronavirus.data.gov.uk/v1/data\"\n",
        "response_API = requests.get(url)\n",
        "data = response_API.text\n",
        "parse_json = json.loads(data)\n",
        "#parse_json\n",
        "daily_UK_df = pd.json_normalize(parse_json['data'])"
      ],
      "metadata": {
        "id": "cEkcDouoFk2D"
      },
      "execution_count": 26,
      "outputs": []
    },
    {
      "cell_type": "markdown",
      "source": [
        "We now have a pandas data frame. So let's look at the top 5 rows, last 5 rows the descriptive and technical summary to get a better idea of what the data looks like."
      ],
      "metadata": {
        "id": "JkWReV28bFp9"
      }
    },
    {
      "cell_type": "code",
      "source": [
        "daily_UK_df.head()"
      ],
      "metadata": {
        "colab": {
          "base_uri": "https://localhost:8080/",
          "height": 206
        },
        "id": "pIwyJ9gSc-vC",
        "outputId": "887bac68-2735-4b3d-95dd-bc0107a52761"
      },
      "execution_count": 4,
      "outputs": [
        {
          "output_type": "execute_result",
          "data": {
            "text/plain": [
              "         date        areaName   areaCode  confirmedRate  latestBy  confirmed  \\\n",
              "0  2022-03-22  United Kingdom  K02000001        30431.4     94524   20413731   \n",
              "1  2022-03-21  United Kingdom  K02000001        30290.8    226524   20319434   \n",
              "2  2022-03-20  United Kingdom  K02000001        29954.4         0   20093762   \n",
              "3  2022-03-19  United Kingdom  K02000001        29954.4         0   20093762   \n",
              "4  2022-03-18  United Kingdom  K02000001        29954.4     90349   20093762   \n",
              "\n",
              "   deathNew     death  deathRate  \n",
              "0     250.0  163929.0      244.4  \n",
              "1     169.0  163679.0      244.0  \n",
              "2       0.0  163511.0      243.8  \n",
              "3       0.0  163511.0      243.8  \n",
              "4     126.0  163511.0      243.8  "
            ],
            "text/html": [
              "\n",
              "  <div id=\"df-aed970e2-d8d1-448f-985f-eb7b91d272e9\">\n",
              "    <div class=\"colab-df-container\">\n",
              "      <div>\n",
              "<style scoped>\n",
              "    .dataframe tbody tr th:only-of-type {\n",
              "        vertical-align: middle;\n",
              "    }\n",
              "\n",
              "    .dataframe tbody tr th {\n",
              "        vertical-align: top;\n",
              "    }\n",
              "\n",
              "    .dataframe thead th {\n",
              "        text-align: right;\n",
              "    }\n",
              "</style>\n",
              "<table border=\"1\" class=\"dataframe\">\n",
              "  <thead>\n",
              "    <tr style=\"text-align: right;\">\n",
              "      <th></th>\n",
              "      <th>date</th>\n",
              "      <th>areaName</th>\n",
              "      <th>areaCode</th>\n",
              "      <th>confirmedRate</th>\n",
              "      <th>latestBy</th>\n",
              "      <th>confirmed</th>\n",
              "      <th>deathNew</th>\n",
              "      <th>death</th>\n",
              "      <th>deathRate</th>\n",
              "    </tr>\n",
              "  </thead>\n",
              "  <tbody>\n",
              "    <tr>\n",
              "      <th>0</th>\n",
              "      <td>2022-03-22</td>\n",
              "      <td>United Kingdom</td>\n",
              "      <td>K02000001</td>\n",
              "      <td>30431.4</td>\n",
              "      <td>94524</td>\n",
              "      <td>20413731</td>\n",
              "      <td>250.0</td>\n",
              "      <td>163929.0</td>\n",
              "      <td>244.4</td>\n",
              "    </tr>\n",
              "    <tr>\n",
              "      <th>1</th>\n",
              "      <td>2022-03-21</td>\n",
              "      <td>United Kingdom</td>\n",
              "      <td>K02000001</td>\n",
              "      <td>30290.8</td>\n",
              "      <td>226524</td>\n",
              "      <td>20319434</td>\n",
              "      <td>169.0</td>\n",
              "      <td>163679.0</td>\n",
              "      <td>244.0</td>\n",
              "    </tr>\n",
              "    <tr>\n",
              "      <th>2</th>\n",
              "      <td>2022-03-20</td>\n",
              "      <td>United Kingdom</td>\n",
              "      <td>K02000001</td>\n",
              "      <td>29954.4</td>\n",
              "      <td>0</td>\n",
              "      <td>20093762</td>\n",
              "      <td>0.0</td>\n",
              "      <td>163511.0</td>\n",
              "      <td>243.8</td>\n",
              "    </tr>\n",
              "    <tr>\n",
              "      <th>3</th>\n",
              "      <td>2022-03-19</td>\n",
              "      <td>United Kingdom</td>\n",
              "      <td>K02000001</td>\n",
              "      <td>29954.4</td>\n",
              "      <td>0</td>\n",
              "      <td>20093762</td>\n",
              "      <td>0.0</td>\n",
              "      <td>163511.0</td>\n",
              "      <td>243.8</td>\n",
              "    </tr>\n",
              "    <tr>\n",
              "      <th>4</th>\n",
              "      <td>2022-03-18</td>\n",
              "      <td>United Kingdom</td>\n",
              "      <td>K02000001</td>\n",
              "      <td>29954.4</td>\n",
              "      <td>90349</td>\n",
              "      <td>20093762</td>\n",
              "      <td>126.0</td>\n",
              "      <td>163511.0</td>\n",
              "      <td>243.8</td>\n",
              "    </tr>\n",
              "  </tbody>\n",
              "</table>\n",
              "</div>\n",
              "      <button class=\"colab-df-convert\" onclick=\"convertToInteractive('df-aed970e2-d8d1-448f-985f-eb7b91d272e9')\"\n",
              "              title=\"Convert this dataframe to an interactive table.\"\n",
              "              style=\"display:none;\">\n",
              "        \n",
              "  <svg xmlns=\"http://www.w3.org/2000/svg\" height=\"24px\"viewBox=\"0 0 24 24\"\n",
              "       width=\"24px\">\n",
              "    <path d=\"M0 0h24v24H0V0z\" fill=\"none\"/>\n",
              "    <path d=\"M18.56 5.44l.94 2.06.94-2.06 2.06-.94-2.06-.94-.94-2.06-.94 2.06-2.06.94zm-11 1L8.5 8.5l.94-2.06 2.06-.94-2.06-.94L8.5 2.5l-.94 2.06-2.06.94zm10 10l.94 2.06.94-2.06 2.06-.94-2.06-.94-.94-2.06-.94 2.06-2.06.94z\"/><path d=\"M17.41 7.96l-1.37-1.37c-.4-.4-.92-.59-1.43-.59-.52 0-1.04.2-1.43.59L10.3 9.45l-7.72 7.72c-.78.78-.78 2.05 0 2.83L4 21.41c.39.39.9.59 1.41.59.51 0 1.02-.2 1.41-.59l7.78-7.78 2.81-2.81c.8-.78.8-2.07 0-2.86zM5.41 20L4 18.59l7.72-7.72 1.47 1.35L5.41 20z\"/>\n",
              "  </svg>\n",
              "      </button>\n",
              "      \n",
              "  <style>\n",
              "    .colab-df-container {\n",
              "      display:flex;\n",
              "      flex-wrap:wrap;\n",
              "      gap: 12px;\n",
              "    }\n",
              "\n",
              "    .colab-df-convert {\n",
              "      background-color: #E8F0FE;\n",
              "      border: none;\n",
              "      border-radius: 50%;\n",
              "      cursor: pointer;\n",
              "      display: none;\n",
              "      fill: #1967D2;\n",
              "      height: 32px;\n",
              "      padding: 0 0 0 0;\n",
              "      width: 32px;\n",
              "    }\n",
              "\n",
              "    .colab-df-convert:hover {\n",
              "      background-color: #E2EBFA;\n",
              "      box-shadow: 0px 1px 2px rgba(60, 64, 67, 0.3), 0px 1px 3px 1px rgba(60, 64, 67, 0.15);\n",
              "      fill: #174EA6;\n",
              "    }\n",
              "\n",
              "    [theme=dark] .colab-df-convert {\n",
              "      background-color: #3B4455;\n",
              "      fill: #D2E3FC;\n",
              "    }\n",
              "\n",
              "    [theme=dark] .colab-df-convert:hover {\n",
              "      background-color: #434B5C;\n",
              "      box-shadow: 0px 1px 3px 1px rgba(0, 0, 0, 0.15);\n",
              "      filter: drop-shadow(0px 1px 2px rgba(0, 0, 0, 0.3));\n",
              "      fill: #FFFFFF;\n",
              "    }\n",
              "  </style>\n",
              "\n",
              "      <script>\n",
              "        const buttonEl =\n",
              "          document.querySelector('#df-aed970e2-d8d1-448f-985f-eb7b91d272e9 button.colab-df-convert');\n",
              "        buttonEl.style.display =\n",
              "          google.colab.kernel.accessAllowed ? 'block' : 'none';\n",
              "\n",
              "        async function convertToInteractive(key) {\n",
              "          const element = document.querySelector('#df-aed970e2-d8d1-448f-985f-eb7b91d272e9');\n",
              "          const dataTable =\n",
              "            await google.colab.kernel.invokeFunction('convertToInteractive',\n",
              "                                                     [key], {});\n",
              "          if (!dataTable) return;\n",
              "\n",
              "          const docLinkHtml = 'Like what you see? Visit the ' +\n",
              "            '<a target=\"_blank\" href=https://colab.research.google.com/notebooks/data_table.ipynb>data table notebook</a>'\n",
              "            + ' to learn more about interactive tables.';\n",
              "          element.innerHTML = '';\n",
              "          dataTable['output_type'] = 'display_data';\n",
              "          await google.colab.output.renderOutput(dataTable, element);\n",
              "          const docLink = document.createElement('div');\n",
              "          docLink.innerHTML = docLinkHtml;\n",
              "          element.appendChild(docLink);\n",
              "        }\n",
              "      </script>\n",
              "    </div>\n",
              "  </div>\n",
              "  "
            ]
          },
          "metadata": {},
          "execution_count": 4
        }
      ]
    },
    {
      "cell_type": "code",
      "source": [
        "daily_UK_df.tail()"
      ],
      "metadata": {
        "colab": {
          "base_uri": "https://localhost:8080/",
          "height": 206
        },
        "id": "63pZCvbSdXYh",
        "outputId": "79ee4353-feaf-4e44-840e-b7dc2f30dcad"
      },
      "execution_count": 5,
      "outputs": [
        {
          "output_type": "execute_result",
          "data": {
            "text/plain": [
              "           date        areaName   areaCode  confirmedRate  latestBy  \\\n",
              "777  2020-02-04  United Kingdom  K02000001            NaN         0   \n",
              "778  2020-02-03  United Kingdom  K02000001            NaN         0   \n",
              "779  2020-02-02  United Kingdom  K02000001            NaN         0   \n",
              "780  2020-02-01  United Kingdom  K02000001            NaN         0   \n",
              "781  2020-01-31  United Kingdom  K02000001            NaN         2   \n",
              "\n",
              "     confirmed  deathNew  death  deathRate  \n",
              "777          2       NaN    NaN        NaN  \n",
              "778          2       NaN    NaN        NaN  \n",
              "779          2       NaN    NaN        NaN  \n",
              "780          2       NaN    NaN        NaN  \n",
              "781          2       NaN    NaN        NaN  "
            ],
            "text/html": [
              "\n",
              "  <div id=\"df-91ca216c-b5d6-4a7f-87e5-f626045ba5b3\">\n",
              "    <div class=\"colab-df-container\">\n",
              "      <div>\n",
              "<style scoped>\n",
              "    .dataframe tbody tr th:only-of-type {\n",
              "        vertical-align: middle;\n",
              "    }\n",
              "\n",
              "    .dataframe tbody tr th {\n",
              "        vertical-align: top;\n",
              "    }\n",
              "\n",
              "    .dataframe thead th {\n",
              "        text-align: right;\n",
              "    }\n",
              "</style>\n",
              "<table border=\"1\" class=\"dataframe\">\n",
              "  <thead>\n",
              "    <tr style=\"text-align: right;\">\n",
              "      <th></th>\n",
              "      <th>date</th>\n",
              "      <th>areaName</th>\n",
              "      <th>areaCode</th>\n",
              "      <th>confirmedRate</th>\n",
              "      <th>latestBy</th>\n",
              "      <th>confirmed</th>\n",
              "      <th>deathNew</th>\n",
              "      <th>death</th>\n",
              "      <th>deathRate</th>\n",
              "    </tr>\n",
              "  </thead>\n",
              "  <tbody>\n",
              "    <tr>\n",
              "      <th>777</th>\n",
              "      <td>2020-02-04</td>\n",
              "      <td>United Kingdom</td>\n",
              "      <td>K02000001</td>\n",
              "      <td>NaN</td>\n",
              "      <td>0</td>\n",
              "      <td>2</td>\n",
              "      <td>NaN</td>\n",
              "      <td>NaN</td>\n",
              "      <td>NaN</td>\n",
              "    </tr>\n",
              "    <tr>\n",
              "      <th>778</th>\n",
              "      <td>2020-02-03</td>\n",
              "      <td>United Kingdom</td>\n",
              "      <td>K02000001</td>\n",
              "      <td>NaN</td>\n",
              "      <td>0</td>\n",
              "      <td>2</td>\n",
              "      <td>NaN</td>\n",
              "      <td>NaN</td>\n",
              "      <td>NaN</td>\n",
              "    </tr>\n",
              "    <tr>\n",
              "      <th>779</th>\n",
              "      <td>2020-02-02</td>\n",
              "      <td>United Kingdom</td>\n",
              "      <td>K02000001</td>\n",
              "      <td>NaN</td>\n",
              "      <td>0</td>\n",
              "      <td>2</td>\n",
              "      <td>NaN</td>\n",
              "      <td>NaN</td>\n",
              "      <td>NaN</td>\n",
              "    </tr>\n",
              "    <tr>\n",
              "      <th>780</th>\n",
              "      <td>2020-02-01</td>\n",
              "      <td>United Kingdom</td>\n",
              "      <td>K02000001</td>\n",
              "      <td>NaN</td>\n",
              "      <td>0</td>\n",
              "      <td>2</td>\n",
              "      <td>NaN</td>\n",
              "      <td>NaN</td>\n",
              "      <td>NaN</td>\n",
              "    </tr>\n",
              "    <tr>\n",
              "      <th>781</th>\n",
              "      <td>2020-01-31</td>\n",
              "      <td>United Kingdom</td>\n",
              "      <td>K02000001</td>\n",
              "      <td>NaN</td>\n",
              "      <td>2</td>\n",
              "      <td>2</td>\n",
              "      <td>NaN</td>\n",
              "      <td>NaN</td>\n",
              "      <td>NaN</td>\n",
              "    </tr>\n",
              "  </tbody>\n",
              "</table>\n",
              "</div>\n",
              "      <button class=\"colab-df-convert\" onclick=\"convertToInteractive('df-91ca216c-b5d6-4a7f-87e5-f626045ba5b3')\"\n",
              "              title=\"Convert this dataframe to an interactive table.\"\n",
              "              style=\"display:none;\">\n",
              "        \n",
              "  <svg xmlns=\"http://www.w3.org/2000/svg\" height=\"24px\"viewBox=\"0 0 24 24\"\n",
              "       width=\"24px\">\n",
              "    <path d=\"M0 0h24v24H0V0z\" fill=\"none\"/>\n",
              "    <path d=\"M18.56 5.44l.94 2.06.94-2.06 2.06-.94-2.06-.94-.94-2.06-.94 2.06-2.06.94zm-11 1L8.5 8.5l.94-2.06 2.06-.94-2.06-.94L8.5 2.5l-.94 2.06-2.06.94zm10 10l.94 2.06.94-2.06 2.06-.94-2.06-.94-.94-2.06-.94 2.06-2.06.94z\"/><path d=\"M17.41 7.96l-1.37-1.37c-.4-.4-.92-.59-1.43-.59-.52 0-1.04.2-1.43.59L10.3 9.45l-7.72 7.72c-.78.78-.78 2.05 0 2.83L4 21.41c.39.39.9.59 1.41.59.51 0 1.02-.2 1.41-.59l7.78-7.78 2.81-2.81c.8-.78.8-2.07 0-2.86zM5.41 20L4 18.59l7.72-7.72 1.47 1.35L5.41 20z\"/>\n",
              "  </svg>\n",
              "      </button>\n",
              "      \n",
              "  <style>\n",
              "    .colab-df-container {\n",
              "      display:flex;\n",
              "      flex-wrap:wrap;\n",
              "      gap: 12px;\n",
              "    }\n",
              "\n",
              "    .colab-df-convert {\n",
              "      background-color: #E8F0FE;\n",
              "      border: none;\n",
              "      border-radius: 50%;\n",
              "      cursor: pointer;\n",
              "      display: none;\n",
              "      fill: #1967D2;\n",
              "      height: 32px;\n",
              "      padding: 0 0 0 0;\n",
              "      width: 32px;\n",
              "    }\n",
              "\n",
              "    .colab-df-convert:hover {\n",
              "      background-color: #E2EBFA;\n",
              "      box-shadow: 0px 1px 2px rgba(60, 64, 67, 0.3), 0px 1px 3px 1px rgba(60, 64, 67, 0.15);\n",
              "      fill: #174EA6;\n",
              "    }\n",
              "\n",
              "    [theme=dark] .colab-df-convert {\n",
              "      background-color: #3B4455;\n",
              "      fill: #D2E3FC;\n",
              "    }\n",
              "\n",
              "    [theme=dark] .colab-df-convert:hover {\n",
              "      background-color: #434B5C;\n",
              "      box-shadow: 0px 1px 3px 1px rgba(0, 0, 0, 0.15);\n",
              "      filter: drop-shadow(0px 1px 2px rgba(0, 0, 0, 0.3));\n",
              "      fill: #FFFFFF;\n",
              "    }\n",
              "  </style>\n",
              "\n",
              "      <script>\n",
              "        const buttonEl =\n",
              "          document.querySelector('#df-91ca216c-b5d6-4a7f-87e5-f626045ba5b3 button.colab-df-convert');\n",
              "        buttonEl.style.display =\n",
              "          google.colab.kernel.accessAllowed ? 'block' : 'none';\n",
              "\n",
              "        async function convertToInteractive(key) {\n",
              "          const element = document.querySelector('#df-91ca216c-b5d6-4a7f-87e5-f626045ba5b3');\n",
              "          const dataTable =\n",
              "            await google.colab.kernel.invokeFunction('convertToInteractive',\n",
              "                                                     [key], {});\n",
              "          if (!dataTable) return;\n",
              "\n",
              "          const docLinkHtml = 'Like what you see? Visit the ' +\n",
              "            '<a target=\"_blank\" href=https://colab.research.google.com/notebooks/data_table.ipynb>data table notebook</a>'\n",
              "            + ' to learn more about interactive tables.';\n",
              "          element.innerHTML = '';\n",
              "          dataTable['output_type'] = 'display_data';\n",
              "          await google.colab.output.renderOutput(dataTable, element);\n",
              "          const docLink = document.createElement('div');\n",
              "          docLink.innerHTML = docLinkHtml;\n",
              "          element.appendChild(docLink);\n",
              "        }\n",
              "      </script>\n",
              "    </div>\n",
              "  </div>\n",
              "  "
            ]
          },
          "metadata": {},
          "execution_count": 5
        }
      ]
    },
    {
      "cell_type": "markdown",
      "source": [
        "So we have data from 21/01/2020 to 22//03/2022 on number of confirmed cases daily (confirmedRate) and cummulative confirmed cases of covid-19 and number of new deaths and death rate."
      ],
      "metadata": {
        "id": "TFhMOT7wdcOw"
      }
    },
    {
      "cell_type": "code",
      "source": [
        "daily_UK_df.info()"
      ],
      "metadata": {
        "colab": {
          "base_uri": "https://localhost:8080/"
        },
        "id": "qIO8VgsRhSdW",
        "outputId": "d1ef49bc-fb8d-400b-92f0-5333adc1cd10"
      },
      "execution_count": 20,
      "outputs": [
        {
          "output_type": "stream",
          "name": "stdout",
          "text": [
            "<class 'pandas.core.frame.DataFrame'>\n",
            "RangeIndex: 782 entries, 0 to 781\n",
            "Data columns (total 9 columns):\n",
            " #   Column         Non-Null Count  Dtype  \n",
            "---  ------         --------------  -----  \n",
            " 0   date           782 non-null    object \n",
            " 1   areaName       782 non-null    object \n",
            " 2   areaCode       782 non-null    object \n",
            " 3   confirmedRate  752 non-null    float64\n",
            " 4   latestBy       782 non-null    int64  \n",
            " 5   confirmed      782 non-null    int64  \n",
            " 6   deathNew       747 non-null    float64\n",
            " 7   death          747 non-null    float64\n",
            " 8   deathRate      738 non-null    float64\n",
            "dtypes: float64(4), int64(2), object(3)\n",
            "memory usage: 55.1+ KB\n"
          ]
        }
      ]
    },
    {
      "cell_type": "markdown",
      "source": [
        "That was our technical summary on data types. Let's get some stats now."
      ],
      "metadata": {
        "id": "RjAX1oLThZrf"
      }
    },
    {
      "cell_type": "code",
      "source": [
        "daily_UK_df.describe()"
      ],
      "metadata": {
        "colab": {
          "base_uri": "https://localhost:8080/",
          "height": 300
        },
        "id": "omH04gUGdp2m",
        "outputId": "3e64fcbe-71af-4b0b-c4dc-e1c8051b9dae"
      },
      "execution_count": 27,
      "outputs": [
        {
          "output_type": "execute_result",
          "data": {
            "text/plain": [
              "       confirmedRate       latestBy     confirmed     deathNew          death  \\\n",
              "count     752.000000     782.000000  7.820000e+02   747.000000     747.000000   \n",
              "mean     7575.322872   25180.222506  4.886674e+06   217.894244   95003.619813   \n",
              "std      7998.103847   33594.786815  5.351055e+06   299.985287   49967.377484   \n",
              "min         0.100000       0.000000  2.000000e+00     0.000000       1.000000   \n",
              "25%       512.425000    2440.500000  3.152870e+05    27.000000   41590.000000   \n",
              "50%      6328.100000   12942.500000  4.149570e+06   111.000000  125516.000000   \n",
              "75%     10911.025000   37185.000000  7.084970e+06   260.500000  134894.000000   \n",
              "max     30431.400000  226524.000000  2.041373e+07  1820.000000  163929.000000   \n",
              "\n",
              "        deathRate  \n",
              "count  738.000000  \n",
              "mean   143.352710  \n",
              "std     73.268763  \n",
              "min      0.100000  \n",
              "25%     62.100000  \n",
              "50%    187.800000  \n",
              "75%    201.575000  \n",
              "max    244.400000  "
            ],
            "text/html": [
              "\n",
              "  <div id=\"df-f83519f4-59ad-4f5a-864e-8ae543c5f245\">\n",
              "    <div class=\"colab-df-container\">\n",
              "      <div>\n",
              "<style scoped>\n",
              "    .dataframe tbody tr th:only-of-type {\n",
              "        vertical-align: middle;\n",
              "    }\n",
              "\n",
              "    .dataframe tbody tr th {\n",
              "        vertical-align: top;\n",
              "    }\n",
              "\n",
              "    .dataframe thead th {\n",
              "        text-align: right;\n",
              "    }\n",
              "</style>\n",
              "<table border=\"1\" class=\"dataframe\">\n",
              "  <thead>\n",
              "    <tr style=\"text-align: right;\">\n",
              "      <th></th>\n",
              "      <th>confirmedRate</th>\n",
              "      <th>latestBy</th>\n",
              "      <th>confirmed</th>\n",
              "      <th>deathNew</th>\n",
              "      <th>death</th>\n",
              "      <th>deathRate</th>\n",
              "    </tr>\n",
              "  </thead>\n",
              "  <tbody>\n",
              "    <tr>\n",
              "      <th>count</th>\n",
              "      <td>752.000000</td>\n",
              "      <td>782.000000</td>\n",
              "      <td>7.820000e+02</td>\n",
              "      <td>747.000000</td>\n",
              "      <td>747.000000</td>\n",
              "      <td>738.000000</td>\n",
              "    </tr>\n",
              "    <tr>\n",
              "      <th>mean</th>\n",
              "      <td>7575.322872</td>\n",
              "      <td>25180.222506</td>\n",
              "      <td>4.886674e+06</td>\n",
              "      <td>217.894244</td>\n",
              "      <td>95003.619813</td>\n",
              "      <td>143.352710</td>\n",
              "    </tr>\n",
              "    <tr>\n",
              "      <th>std</th>\n",
              "      <td>7998.103847</td>\n",
              "      <td>33594.786815</td>\n",
              "      <td>5.351055e+06</td>\n",
              "      <td>299.985287</td>\n",
              "      <td>49967.377484</td>\n",
              "      <td>73.268763</td>\n",
              "    </tr>\n",
              "    <tr>\n",
              "      <th>min</th>\n",
              "      <td>0.100000</td>\n",
              "      <td>0.000000</td>\n",
              "      <td>2.000000e+00</td>\n",
              "      <td>0.000000</td>\n",
              "      <td>1.000000</td>\n",
              "      <td>0.100000</td>\n",
              "    </tr>\n",
              "    <tr>\n",
              "      <th>25%</th>\n",
              "      <td>512.425000</td>\n",
              "      <td>2440.500000</td>\n",
              "      <td>3.152870e+05</td>\n",
              "      <td>27.000000</td>\n",
              "      <td>41590.000000</td>\n",
              "      <td>62.100000</td>\n",
              "    </tr>\n",
              "    <tr>\n",
              "      <th>50%</th>\n",
              "      <td>6328.100000</td>\n",
              "      <td>12942.500000</td>\n",
              "      <td>4.149570e+06</td>\n",
              "      <td>111.000000</td>\n",
              "      <td>125516.000000</td>\n",
              "      <td>187.800000</td>\n",
              "    </tr>\n",
              "    <tr>\n",
              "      <th>75%</th>\n",
              "      <td>10911.025000</td>\n",
              "      <td>37185.000000</td>\n",
              "      <td>7.084970e+06</td>\n",
              "      <td>260.500000</td>\n",
              "      <td>134894.000000</td>\n",
              "      <td>201.575000</td>\n",
              "    </tr>\n",
              "    <tr>\n",
              "      <th>max</th>\n",
              "      <td>30431.400000</td>\n",
              "      <td>226524.000000</td>\n",
              "      <td>2.041373e+07</td>\n",
              "      <td>1820.000000</td>\n",
              "      <td>163929.000000</td>\n",
              "      <td>244.400000</td>\n",
              "    </tr>\n",
              "  </tbody>\n",
              "</table>\n",
              "</div>\n",
              "      <button class=\"colab-df-convert\" onclick=\"convertToInteractive('df-f83519f4-59ad-4f5a-864e-8ae543c5f245')\"\n",
              "              title=\"Convert this dataframe to an interactive table.\"\n",
              "              style=\"display:none;\">\n",
              "        \n",
              "  <svg xmlns=\"http://www.w3.org/2000/svg\" height=\"24px\"viewBox=\"0 0 24 24\"\n",
              "       width=\"24px\">\n",
              "    <path d=\"M0 0h24v24H0V0z\" fill=\"none\"/>\n",
              "    <path d=\"M18.56 5.44l.94 2.06.94-2.06 2.06-.94-2.06-.94-.94-2.06-.94 2.06-2.06.94zm-11 1L8.5 8.5l.94-2.06 2.06-.94-2.06-.94L8.5 2.5l-.94 2.06-2.06.94zm10 10l.94 2.06.94-2.06 2.06-.94-2.06-.94-.94-2.06-.94 2.06-2.06.94z\"/><path d=\"M17.41 7.96l-1.37-1.37c-.4-.4-.92-.59-1.43-.59-.52 0-1.04.2-1.43.59L10.3 9.45l-7.72 7.72c-.78.78-.78 2.05 0 2.83L4 21.41c.39.39.9.59 1.41.59.51 0 1.02-.2 1.41-.59l7.78-7.78 2.81-2.81c.8-.78.8-2.07 0-2.86zM5.41 20L4 18.59l7.72-7.72 1.47 1.35L5.41 20z\"/>\n",
              "  </svg>\n",
              "      </button>\n",
              "      \n",
              "  <style>\n",
              "    .colab-df-container {\n",
              "      display:flex;\n",
              "      flex-wrap:wrap;\n",
              "      gap: 12px;\n",
              "    }\n",
              "\n",
              "    .colab-df-convert {\n",
              "      background-color: #E8F0FE;\n",
              "      border: none;\n",
              "      border-radius: 50%;\n",
              "      cursor: pointer;\n",
              "      display: none;\n",
              "      fill: #1967D2;\n",
              "      height: 32px;\n",
              "      padding: 0 0 0 0;\n",
              "      width: 32px;\n",
              "    }\n",
              "\n",
              "    .colab-df-convert:hover {\n",
              "      background-color: #E2EBFA;\n",
              "      box-shadow: 0px 1px 2px rgba(60, 64, 67, 0.3), 0px 1px 3px 1px rgba(60, 64, 67, 0.15);\n",
              "      fill: #174EA6;\n",
              "    }\n",
              "\n",
              "    [theme=dark] .colab-df-convert {\n",
              "      background-color: #3B4455;\n",
              "      fill: #D2E3FC;\n",
              "    }\n",
              "\n",
              "    [theme=dark] .colab-df-convert:hover {\n",
              "      background-color: #434B5C;\n",
              "      box-shadow: 0px 1px 3px 1px rgba(0, 0, 0, 0.15);\n",
              "      filter: drop-shadow(0px 1px 2px rgba(0, 0, 0, 0.3));\n",
              "      fill: #FFFFFF;\n",
              "    }\n",
              "  </style>\n",
              "\n",
              "      <script>\n",
              "        const buttonEl =\n",
              "          document.querySelector('#df-f83519f4-59ad-4f5a-864e-8ae543c5f245 button.colab-df-convert');\n",
              "        buttonEl.style.display =\n",
              "          google.colab.kernel.accessAllowed ? 'block' : 'none';\n",
              "\n",
              "        async function convertToInteractive(key) {\n",
              "          const element = document.querySelector('#df-f83519f4-59ad-4f5a-864e-8ae543c5f245');\n",
              "          const dataTable =\n",
              "            await google.colab.kernel.invokeFunction('convertToInteractive',\n",
              "                                                     [key], {});\n",
              "          if (!dataTable) return;\n",
              "\n",
              "          const docLinkHtml = 'Like what you see? Visit the ' +\n",
              "            '<a target=\"_blank\" href=https://colab.research.google.com/notebooks/data_table.ipynb>data table notebook</a>'\n",
              "            + ' to learn more about interactive tables.';\n",
              "          element.innerHTML = '';\n",
              "          dataTable['output_type'] = 'display_data';\n",
              "          await google.colab.output.renderOutput(dataTable, element);\n",
              "          const docLink = document.createElement('div');\n",
              "          docLink.innerHTML = docLinkHtml;\n",
              "          element.appendChild(docLink);\n",
              "        }\n",
              "      </script>\n",
              "    </div>\n",
              "  </div>\n",
              "  "
            ]
          },
          "metadata": {},
          "execution_count": 27
        }
      ]
    },
    {
      "cell_type": "markdown",
      "source": [
        "This tells us that so far there has been an average of 25180 confirmed Covid-19 cases per day in the UK since 31/01/2020 with a maximum of 226524 confirmed cases reported on a single day. "
      ],
      "metadata": {
        "id": "QRxx7TkYeV0d"
      }
    },
    {
      "cell_type": "markdown",
      "source": [
        "###When was the maximum number of confirmed cases per day reported?"
      ],
      "metadata": {
        "id": "lL6sSYBKgw8F"
      }
    },
    {
      "cell_type": "code",
      "source": [
        "daily_UK_df[daily_UK_df['latestBy']==daily_UK_df['latestBy'].max()]"
      ],
      "metadata": {
        "colab": {
          "base_uri": "https://localhost:8080/",
          "height": 81
        },
        "id": "ML0PQHkMgpMN",
        "outputId": "04ca7b28-4bae-48a6-afc9-cd04795f9e30"
      },
      "execution_count": 67,
      "outputs": [
        {
          "output_type": "execute_result",
          "data": {
            "text/plain": [
              "         date        areaName   areaCode  confirmedRate  latestBy  confirmed  \\\n",
              "1  2022-03-21  United Kingdom  K02000001        30290.8    226524   20319434   \n",
              "\n",
              "   deathNew     death  deathRate  \n",
              "1     169.0  163679.0      244.0  "
            ],
            "text/html": [
              "\n",
              "  <div id=\"df-67b001d6-2754-4c2d-a286-73a95ad4bb6c\">\n",
              "    <div class=\"colab-df-container\">\n",
              "      <div>\n",
              "<style scoped>\n",
              "    .dataframe tbody tr th:only-of-type {\n",
              "        vertical-align: middle;\n",
              "    }\n",
              "\n",
              "    .dataframe tbody tr th {\n",
              "        vertical-align: top;\n",
              "    }\n",
              "\n",
              "    .dataframe thead th {\n",
              "        text-align: right;\n",
              "    }\n",
              "</style>\n",
              "<table border=\"1\" class=\"dataframe\">\n",
              "  <thead>\n",
              "    <tr style=\"text-align: right;\">\n",
              "      <th></th>\n",
              "      <th>date</th>\n",
              "      <th>areaName</th>\n",
              "      <th>areaCode</th>\n",
              "      <th>confirmedRate</th>\n",
              "      <th>latestBy</th>\n",
              "      <th>confirmed</th>\n",
              "      <th>deathNew</th>\n",
              "      <th>death</th>\n",
              "      <th>deathRate</th>\n",
              "    </tr>\n",
              "  </thead>\n",
              "  <tbody>\n",
              "    <tr>\n",
              "      <th>1</th>\n",
              "      <td>2022-03-21</td>\n",
              "      <td>United Kingdom</td>\n",
              "      <td>K02000001</td>\n",
              "      <td>30290.8</td>\n",
              "      <td>226524</td>\n",
              "      <td>20319434</td>\n",
              "      <td>169.0</td>\n",
              "      <td>163679.0</td>\n",
              "      <td>244.0</td>\n",
              "    </tr>\n",
              "  </tbody>\n",
              "</table>\n",
              "</div>\n",
              "      <button class=\"colab-df-convert\" onclick=\"convertToInteractive('df-67b001d6-2754-4c2d-a286-73a95ad4bb6c')\"\n",
              "              title=\"Convert this dataframe to an interactive table.\"\n",
              "              style=\"display:none;\">\n",
              "        \n",
              "  <svg xmlns=\"http://www.w3.org/2000/svg\" height=\"24px\"viewBox=\"0 0 24 24\"\n",
              "       width=\"24px\">\n",
              "    <path d=\"M0 0h24v24H0V0z\" fill=\"none\"/>\n",
              "    <path d=\"M18.56 5.44l.94 2.06.94-2.06 2.06-.94-2.06-.94-.94-2.06-.94 2.06-2.06.94zm-11 1L8.5 8.5l.94-2.06 2.06-.94-2.06-.94L8.5 2.5l-.94 2.06-2.06.94zm10 10l.94 2.06.94-2.06 2.06-.94-2.06-.94-.94-2.06-.94 2.06-2.06.94z\"/><path d=\"M17.41 7.96l-1.37-1.37c-.4-.4-.92-.59-1.43-.59-.52 0-1.04.2-1.43.59L10.3 9.45l-7.72 7.72c-.78.78-.78 2.05 0 2.83L4 21.41c.39.39.9.59 1.41.59.51 0 1.02-.2 1.41-.59l7.78-7.78 2.81-2.81c.8-.78.8-2.07 0-2.86zM5.41 20L4 18.59l7.72-7.72 1.47 1.35L5.41 20z\"/>\n",
              "  </svg>\n",
              "      </button>\n",
              "      \n",
              "  <style>\n",
              "    .colab-df-container {\n",
              "      display:flex;\n",
              "      flex-wrap:wrap;\n",
              "      gap: 12px;\n",
              "    }\n",
              "\n",
              "    .colab-df-convert {\n",
              "      background-color: #E8F0FE;\n",
              "      border: none;\n",
              "      border-radius: 50%;\n",
              "      cursor: pointer;\n",
              "      display: none;\n",
              "      fill: #1967D2;\n",
              "      height: 32px;\n",
              "      padding: 0 0 0 0;\n",
              "      width: 32px;\n",
              "    }\n",
              "\n",
              "    .colab-df-convert:hover {\n",
              "      background-color: #E2EBFA;\n",
              "      box-shadow: 0px 1px 2px rgba(60, 64, 67, 0.3), 0px 1px 3px 1px rgba(60, 64, 67, 0.15);\n",
              "      fill: #174EA6;\n",
              "    }\n",
              "\n",
              "    [theme=dark] .colab-df-convert {\n",
              "      background-color: #3B4455;\n",
              "      fill: #D2E3FC;\n",
              "    }\n",
              "\n",
              "    [theme=dark] .colab-df-convert:hover {\n",
              "      background-color: #434B5C;\n",
              "      box-shadow: 0px 1px 3px 1px rgba(0, 0, 0, 0.15);\n",
              "      filter: drop-shadow(0px 1px 2px rgba(0, 0, 0, 0.3));\n",
              "      fill: #FFFFFF;\n",
              "    }\n",
              "  </style>\n",
              "\n",
              "      <script>\n",
              "        const buttonEl =\n",
              "          document.querySelector('#df-67b001d6-2754-4c2d-a286-73a95ad4bb6c button.colab-df-convert');\n",
              "        buttonEl.style.display =\n",
              "          google.colab.kernel.accessAllowed ? 'block' : 'none';\n",
              "\n",
              "        async function convertToInteractive(key) {\n",
              "          const element = document.querySelector('#df-67b001d6-2754-4c2d-a286-73a95ad4bb6c');\n",
              "          const dataTable =\n",
              "            await google.colab.kernel.invokeFunction('convertToInteractive',\n",
              "                                                     [key], {});\n",
              "          if (!dataTable) return;\n",
              "\n",
              "          const docLinkHtml = 'Like what you see? Visit the ' +\n",
              "            '<a target=\"_blank\" href=https://colab.research.google.com/notebooks/data_table.ipynb>data table notebook</a>'\n",
              "            + ' to learn more about interactive tables.';\n",
              "          element.innerHTML = '';\n",
              "          dataTable['output_type'] = 'display_data';\n",
              "          await google.colab.output.renderOutput(dataTable, element);\n",
              "          const docLink = document.createElement('div');\n",
              "          docLink.innerHTML = docLinkHtml;\n",
              "          element.appendChild(docLink);\n",
              "        }\n",
              "      </script>\n",
              "    </div>\n",
              "  </div>\n",
              "  "
            ]
          },
          "metadata": {},
          "execution_count": 67
        }
      ]
    },
    {
      "cell_type": "markdown",
      "source": [
        "###When was the maximum number of covid-related deaths per day reported?"
      ],
      "metadata": {
        "id": "lcxQFZFYg7vm"
      }
    },
    {
      "cell_type": "code",
      "source": [
        "daily_UK_df[daily_UK_df['deathNew']==daily_UK_df['deathNew'].max()]"
      ],
      "metadata": {
        "colab": {
          "base_uri": "https://localhost:8080/",
          "height": 81
        },
        "id": "gazyHT8eeyP3",
        "outputId": "d7fd7d71-a33f-4ab2-eb62-85c4a718c8c2"
      },
      "execution_count": 18,
      "outputs": [
        {
          "output_type": "execute_result",
          "data": {
            "text/plain": [
              "           date        areaName   areaCode  confirmedRate  latestBy  \\\n",
              "426  2021-01-20  United Kingdom  K02000001         5226.1     38905   \n",
              "\n",
              "     confirmed  deathNew    death  deathRate  \n",
              "426    3505754    1820.0  93290.0      139.1  "
            ],
            "text/html": [
              "\n",
              "  <div id=\"df-26a39494-76dd-43f6-924b-c78ecc87a5a6\">\n",
              "    <div class=\"colab-df-container\">\n",
              "      <div>\n",
              "<style scoped>\n",
              "    .dataframe tbody tr th:only-of-type {\n",
              "        vertical-align: middle;\n",
              "    }\n",
              "\n",
              "    .dataframe tbody tr th {\n",
              "        vertical-align: top;\n",
              "    }\n",
              "\n",
              "    .dataframe thead th {\n",
              "        text-align: right;\n",
              "    }\n",
              "</style>\n",
              "<table border=\"1\" class=\"dataframe\">\n",
              "  <thead>\n",
              "    <tr style=\"text-align: right;\">\n",
              "      <th></th>\n",
              "      <th>date</th>\n",
              "      <th>areaName</th>\n",
              "      <th>areaCode</th>\n",
              "      <th>confirmedRate</th>\n",
              "      <th>latestBy</th>\n",
              "      <th>confirmed</th>\n",
              "      <th>deathNew</th>\n",
              "      <th>death</th>\n",
              "      <th>deathRate</th>\n",
              "    </tr>\n",
              "  </thead>\n",
              "  <tbody>\n",
              "    <tr>\n",
              "      <th>426</th>\n",
              "      <td>2021-01-20</td>\n",
              "      <td>United Kingdom</td>\n",
              "      <td>K02000001</td>\n",
              "      <td>5226.1</td>\n",
              "      <td>38905</td>\n",
              "      <td>3505754</td>\n",
              "      <td>1820.0</td>\n",
              "      <td>93290.0</td>\n",
              "      <td>139.1</td>\n",
              "    </tr>\n",
              "  </tbody>\n",
              "</table>\n",
              "</div>\n",
              "      <button class=\"colab-df-convert\" onclick=\"convertToInteractive('df-26a39494-76dd-43f6-924b-c78ecc87a5a6')\"\n",
              "              title=\"Convert this dataframe to an interactive table.\"\n",
              "              style=\"display:none;\">\n",
              "        \n",
              "  <svg xmlns=\"http://www.w3.org/2000/svg\" height=\"24px\"viewBox=\"0 0 24 24\"\n",
              "       width=\"24px\">\n",
              "    <path d=\"M0 0h24v24H0V0z\" fill=\"none\"/>\n",
              "    <path d=\"M18.56 5.44l.94 2.06.94-2.06 2.06-.94-2.06-.94-.94-2.06-.94 2.06-2.06.94zm-11 1L8.5 8.5l.94-2.06 2.06-.94-2.06-.94L8.5 2.5l-.94 2.06-2.06.94zm10 10l.94 2.06.94-2.06 2.06-.94-2.06-.94-.94-2.06-.94 2.06-2.06.94z\"/><path d=\"M17.41 7.96l-1.37-1.37c-.4-.4-.92-.59-1.43-.59-.52 0-1.04.2-1.43.59L10.3 9.45l-7.72 7.72c-.78.78-.78 2.05 0 2.83L4 21.41c.39.39.9.59 1.41.59.51 0 1.02-.2 1.41-.59l7.78-7.78 2.81-2.81c.8-.78.8-2.07 0-2.86zM5.41 20L4 18.59l7.72-7.72 1.47 1.35L5.41 20z\"/>\n",
              "  </svg>\n",
              "      </button>\n",
              "      \n",
              "  <style>\n",
              "    .colab-df-container {\n",
              "      display:flex;\n",
              "      flex-wrap:wrap;\n",
              "      gap: 12px;\n",
              "    }\n",
              "\n",
              "    .colab-df-convert {\n",
              "      background-color: #E8F0FE;\n",
              "      border: none;\n",
              "      border-radius: 50%;\n",
              "      cursor: pointer;\n",
              "      display: none;\n",
              "      fill: #1967D2;\n",
              "      height: 32px;\n",
              "      padding: 0 0 0 0;\n",
              "      width: 32px;\n",
              "    }\n",
              "\n",
              "    .colab-df-convert:hover {\n",
              "      background-color: #E2EBFA;\n",
              "      box-shadow: 0px 1px 2px rgba(60, 64, 67, 0.3), 0px 1px 3px 1px rgba(60, 64, 67, 0.15);\n",
              "      fill: #174EA6;\n",
              "    }\n",
              "\n",
              "    [theme=dark] .colab-df-convert {\n",
              "      background-color: #3B4455;\n",
              "      fill: #D2E3FC;\n",
              "    }\n",
              "\n",
              "    [theme=dark] .colab-df-convert:hover {\n",
              "      background-color: #434B5C;\n",
              "      box-shadow: 0px 1px 3px 1px rgba(0, 0, 0, 0.15);\n",
              "      filter: drop-shadow(0px 1px 2px rgba(0, 0, 0, 0.3));\n",
              "      fill: #FFFFFF;\n",
              "    }\n",
              "  </style>\n",
              "\n",
              "      <script>\n",
              "        const buttonEl =\n",
              "          document.querySelector('#df-26a39494-76dd-43f6-924b-c78ecc87a5a6 button.colab-df-convert');\n",
              "        buttonEl.style.display =\n",
              "          google.colab.kernel.accessAllowed ? 'block' : 'none';\n",
              "\n",
              "        async function convertToInteractive(key) {\n",
              "          const element = document.querySelector('#df-26a39494-76dd-43f6-924b-c78ecc87a5a6');\n",
              "          const dataTable =\n",
              "            await google.colab.kernel.invokeFunction('convertToInteractive',\n",
              "                                                     [key], {});\n",
              "          if (!dataTable) return;\n",
              "\n",
              "          const docLinkHtml = 'Like what you see? Visit the ' +\n",
              "            '<a target=\"_blank\" href=https://colab.research.google.com/notebooks/data_table.ipynb>data table notebook</a>'\n",
              "            + ' to learn more about interactive tables.';\n",
              "          element.innerHTML = '';\n",
              "          dataTable['output_type'] = 'display_data';\n",
              "          await google.colab.output.renderOutput(dataTable, element);\n",
              "          const docLink = document.createElement('div');\n",
              "          docLink.innerHTML = docLinkHtml;\n",
              "          element.appendChild(docLink);\n",
              "        }\n",
              "      </script>\n",
              "    </div>\n",
              "  </div>\n",
              "  "
            ]
          },
          "metadata": {},
          "execution_count": 18
        }
      ]
    },
    {
      "cell_type": "markdown",
      "source": [
        "Let's drop the column 'areacode' and 'areaName'. We know that this is UK data. There is no point in keeping those two columns."
      ],
      "metadata": {
        "id": "CAC37aGVhjJk"
      }
    },
    {
      "cell_type": "code",
      "source": [
        "#Dropping columns\n",
        "daily_UK_df.drop([\"areaCode\"],1,inplace=True)\n",
        "daily_UK_df.drop([\"areaName\"],1,inplace=True)\n",
        "daily_UK_df.head()"
      ],
      "metadata": {
        "colab": {
          "base_uri": "https://localhost:8080/",
          "height": 206
        },
        "id": "jYt1d3wDiKzb",
        "outputId": "6b19486b-2290-4225-d9e5-70119b6b1175"
      },
      "execution_count": 24,
      "outputs": [
        {
          "output_type": "execute_result",
          "data": {
            "text/plain": [
              "         date  confirmedRate  latestBy  confirmed  deathNew     death  \\\n",
              "0  2022-03-22        30431.4     94524   20413731     250.0  163929.0   \n",
              "1  2022-03-21        30290.8    226524   20319434     169.0  163679.0   \n",
              "2  2022-03-20        29954.4         0   20093762       0.0  163511.0   \n",
              "3  2022-03-19        29954.4         0   20093762       0.0  163511.0   \n",
              "4  2022-03-18        29954.4     90349   20093762     126.0  163511.0   \n",
              "\n",
              "   deathRate  \n",
              "0      244.4  \n",
              "1      244.0  \n",
              "2      243.8  \n",
              "3      243.8  \n",
              "4      243.8  "
            ],
            "text/html": [
              "\n",
              "  <div id=\"df-77d98784-1350-4ac8-8e38-e387c394f974\">\n",
              "    <div class=\"colab-df-container\">\n",
              "      <div>\n",
              "<style scoped>\n",
              "    .dataframe tbody tr th:only-of-type {\n",
              "        vertical-align: middle;\n",
              "    }\n",
              "\n",
              "    .dataframe tbody tr th {\n",
              "        vertical-align: top;\n",
              "    }\n",
              "\n",
              "    .dataframe thead th {\n",
              "        text-align: right;\n",
              "    }\n",
              "</style>\n",
              "<table border=\"1\" class=\"dataframe\">\n",
              "  <thead>\n",
              "    <tr style=\"text-align: right;\">\n",
              "      <th></th>\n",
              "      <th>date</th>\n",
              "      <th>confirmedRate</th>\n",
              "      <th>latestBy</th>\n",
              "      <th>confirmed</th>\n",
              "      <th>deathNew</th>\n",
              "      <th>death</th>\n",
              "      <th>deathRate</th>\n",
              "    </tr>\n",
              "  </thead>\n",
              "  <tbody>\n",
              "    <tr>\n",
              "      <th>0</th>\n",
              "      <td>2022-03-22</td>\n",
              "      <td>30431.4</td>\n",
              "      <td>94524</td>\n",
              "      <td>20413731</td>\n",
              "      <td>250.0</td>\n",
              "      <td>163929.0</td>\n",
              "      <td>244.4</td>\n",
              "    </tr>\n",
              "    <tr>\n",
              "      <th>1</th>\n",
              "      <td>2022-03-21</td>\n",
              "      <td>30290.8</td>\n",
              "      <td>226524</td>\n",
              "      <td>20319434</td>\n",
              "      <td>169.0</td>\n",
              "      <td>163679.0</td>\n",
              "      <td>244.0</td>\n",
              "    </tr>\n",
              "    <tr>\n",
              "      <th>2</th>\n",
              "      <td>2022-03-20</td>\n",
              "      <td>29954.4</td>\n",
              "      <td>0</td>\n",
              "      <td>20093762</td>\n",
              "      <td>0.0</td>\n",
              "      <td>163511.0</td>\n",
              "      <td>243.8</td>\n",
              "    </tr>\n",
              "    <tr>\n",
              "      <th>3</th>\n",
              "      <td>2022-03-19</td>\n",
              "      <td>29954.4</td>\n",
              "      <td>0</td>\n",
              "      <td>20093762</td>\n",
              "      <td>0.0</td>\n",
              "      <td>163511.0</td>\n",
              "      <td>243.8</td>\n",
              "    </tr>\n",
              "    <tr>\n",
              "      <th>4</th>\n",
              "      <td>2022-03-18</td>\n",
              "      <td>29954.4</td>\n",
              "      <td>90349</td>\n",
              "      <td>20093762</td>\n",
              "      <td>126.0</td>\n",
              "      <td>163511.0</td>\n",
              "      <td>243.8</td>\n",
              "    </tr>\n",
              "  </tbody>\n",
              "</table>\n",
              "</div>\n",
              "      <button class=\"colab-df-convert\" onclick=\"convertToInteractive('df-77d98784-1350-4ac8-8e38-e387c394f974')\"\n",
              "              title=\"Convert this dataframe to an interactive table.\"\n",
              "              style=\"display:none;\">\n",
              "        \n",
              "  <svg xmlns=\"http://www.w3.org/2000/svg\" height=\"24px\"viewBox=\"0 0 24 24\"\n",
              "       width=\"24px\">\n",
              "    <path d=\"M0 0h24v24H0V0z\" fill=\"none\"/>\n",
              "    <path d=\"M18.56 5.44l.94 2.06.94-2.06 2.06-.94-2.06-.94-.94-2.06-.94 2.06-2.06.94zm-11 1L8.5 8.5l.94-2.06 2.06-.94-2.06-.94L8.5 2.5l-.94 2.06-2.06.94zm10 10l.94 2.06.94-2.06 2.06-.94-2.06-.94-.94-2.06-.94 2.06-2.06.94z\"/><path d=\"M17.41 7.96l-1.37-1.37c-.4-.4-.92-.59-1.43-.59-.52 0-1.04.2-1.43.59L10.3 9.45l-7.72 7.72c-.78.78-.78 2.05 0 2.83L4 21.41c.39.39.9.59 1.41.59.51 0 1.02-.2 1.41-.59l7.78-7.78 2.81-2.81c.8-.78.8-2.07 0-2.86zM5.41 20L4 18.59l7.72-7.72 1.47 1.35L5.41 20z\"/>\n",
              "  </svg>\n",
              "      </button>\n",
              "      \n",
              "  <style>\n",
              "    .colab-df-container {\n",
              "      display:flex;\n",
              "      flex-wrap:wrap;\n",
              "      gap: 12px;\n",
              "    }\n",
              "\n",
              "    .colab-df-convert {\n",
              "      background-color: #E8F0FE;\n",
              "      border: none;\n",
              "      border-radius: 50%;\n",
              "      cursor: pointer;\n",
              "      display: none;\n",
              "      fill: #1967D2;\n",
              "      height: 32px;\n",
              "      padding: 0 0 0 0;\n",
              "      width: 32px;\n",
              "    }\n",
              "\n",
              "    .colab-df-convert:hover {\n",
              "      background-color: #E2EBFA;\n",
              "      box-shadow: 0px 1px 2px rgba(60, 64, 67, 0.3), 0px 1px 3px 1px rgba(60, 64, 67, 0.15);\n",
              "      fill: #174EA6;\n",
              "    }\n",
              "\n",
              "    [theme=dark] .colab-df-convert {\n",
              "      background-color: #3B4455;\n",
              "      fill: #D2E3FC;\n",
              "    }\n",
              "\n",
              "    [theme=dark] .colab-df-convert:hover {\n",
              "      background-color: #434B5C;\n",
              "      box-shadow: 0px 1px 3px 1px rgba(0, 0, 0, 0.15);\n",
              "      filter: drop-shadow(0px 1px 2px rgba(0, 0, 0, 0.3));\n",
              "      fill: #FFFFFF;\n",
              "    }\n",
              "  </style>\n",
              "\n",
              "      <script>\n",
              "        const buttonEl =\n",
              "          document.querySelector('#df-77d98784-1350-4ac8-8e38-e387c394f974 button.colab-df-convert');\n",
              "        buttonEl.style.display =\n",
              "          google.colab.kernel.accessAllowed ? 'block' : 'none';\n",
              "\n",
              "        async function convertToInteractive(key) {\n",
              "          const element = document.querySelector('#df-77d98784-1350-4ac8-8e38-e387c394f974');\n",
              "          const dataTable =\n",
              "            await google.colab.kernel.invokeFunction('convertToInteractive',\n",
              "                                                     [key], {});\n",
              "          if (!dataTable) return;\n",
              "\n",
              "          const docLinkHtml = 'Like what you see? Visit the ' +\n",
              "            '<a target=\"_blank\" href=https://colab.research.google.com/notebooks/data_table.ipynb>data table notebook</a>'\n",
              "            + ' to learn more about interactive tables.';\n",
              "          element.innerHTML = '';\n",
              "          dataTable['output_type'] = 'display_data';\n",
              "          await google.colab.output.renderOutput(dataTable, element);\n",
              "          const docLink = document.createElement('div');\n",
              "          docLink.innerHTML = docLinkHtml;\n",
              "          element.appendChild(docLink);\n",
              "        }\n",
              "      </script>\n",
              "    </div>\n",
              "  </div>\n",
              "  "
            ]
          },
          "metadata": {},
          "execution_count": 24
        }
      ]
    },
    {
      "cell_type": "markdown",
      "source": [
        "##Daily confirmed covid cases using a line plot.\n",
        "\n",
        "Let's visualise the number of cases recorded each day in the UK since 31/01/2020."
      ],
      "metadata": {
        "id": "Dj68FV_1kp4t"
      }
    },
    {
      "cell_type": "code",
      "source": [
        "import matplotlib  \n",
        "import matplotlib.pyplot as plt\n",
        "import numpy as np\n",
        "def do_line_plot(x,y,x_label,y_label):\n",
        "  fig = plt.figure(figsize=(20, 8))\n",
        "  ax=plt.gca()\n",
        "  ax.plot(x, y, color='r')\n",
        "  ax.invert_xaxis()\n",
        "  ax.set_xticks(ax.get_xticks()[::50])\n",
        "  plt.xlabel(x_label)\n",
        "  plt.ylabel(y_label)\n",
        "  plt.show()\n",
        "  return\n",
        "\n",
        "data = daily_UK_df.dropna(subset = ['date','latestBy','confirmed','deathNew','death'])\n",
        "date = np.array(data['date'])\n",
        "daily_cases = np.array(data['latestBy'])\n",
        "\n",
        "do_line_plot(date,daily_cases,\"Date\",\"Daily Confirmed Cases of Covid-19 in the UK\")\n"
      ],
      "metadata": {
        "colab": {
          "base_uri": "https://localhost:8080/",
          "height": 497
        },
        "id": "b-s4bc5qlFsE",
        "outputId": "d53417e5-6303-4aa8-fbe8-9cae63afcab3"
      },
      "execution_count": 72,
      "outputs": [
        {
          "output_type": "display_data",
          "data": {
            "text/plain": [
              "<Figure size 1440x576 with 1 Axes>"
            ],
            "image/png": "[encoded data removed]"
          },
          "metadata": {
            "needs_background": "light"
          }
        }
      ]
    },
    {
      "cell_type": "markdown",
      "source": [
        "###Cumulative number of confirmed cases of Covid-19 in the UK\n",
        "\n",
        "Often, it helps to know the total number of cases to date to get an overall picture. So let's look at the cummulative number of case - this is given in the column 'confirmedRate' of the dataframe."
      ],
      "metadata": {
        "id": "ILBBrfgQvNSK"
      }
    },
    {
      "cell_type": "code",
      "source": [
        "cumm_cases = np.array(data['confirmed'])\n",
        "do_line_plot(date,cumm_cases,\"Date\",\"Daily Confirmed Cases of Covid-19 in the UK\")\n"
      ],
      "metadata": {
        "id": "teNyxX5cxX5j",
        "outputId": "787f1793-bcf1-4cba-af69-c5d507c17d1a",
        "colab": {
          "base_uri": "https://localhost:8080/",
          "height": 508
        }
      },
      "execution_count": 73,
      "outputs": [
        {
          "output_type": "display_data",
          "data": {
            "text/plain": [
              "<Figure size 1440x576 with 1 Axes>"
            ],
            "image/png": "[encoded data removed]"
          },
          "metadata": {
            "needs_background": "light"
          }
        }
      ]
    },
    {
      "cell_type": "markdown",
      "metadata": {
        "id": "gHU4-ADHU4eq"
      },
      "source": [
        "### Challenge 1 - prepare dataset for encoding \n",
        "---\n",
        "1. Read Covid vaccination data from the `by_country` sheet in the Excel file at this link : https://github.com/lilaceri/Working-with-data-/blob/342abab10d93c4bf23b5c55a50f189f12a137c5f/Data%20Sets%20for%20code%20divisio/Covid%20Vaccination%20Data.xlsx?raw=true\n",
        "2. Find out which columns have missing values\n",
        "3. Remove all rows with missing data in the total_vaccination column  \n",
        "4. Remove all rows with missing data in the daily_vaccinations_per_million \n",
        "4. find the median daily_vaccinations_per_million, storing this in a variable for use later     \n",
        "\n",
        "\n",
        "**Test output**:  \n",
        "1. dataframe is saved in a variable\n",
        "2. \n",
        "```\n",
        "RangeIndex: 14994 entries, 0 to 14993\n",
        "Data columns (total 15 columns):\n",
        "    Column                               Non-Null Count  Dtype         \n",
        "                                \n",
        " 0   country                              14994 non-null  object        \n",
        " 1   iso_code                             14994 non-null  object        \n",
        " 2   date                                 14994 non-null  datetime64[ns]\n",
        " 3   total_vaccinations                   9011 non-null   float64       \n",
        " 4   people_vaccinated                    8370 non-null   float64       \n",
        " 5   people_fully_vaccinated              6158 non-null   float64       \n",
        " 6   daily_vaccinations_raw               7575 non-null   float64       \n",
        " 7   daily_vaccinations                   14796 non-null  float64       \n",
        " 8   total_vaccinations_per_hundred       9011 non-null   float64       \n",
        " 9   people_vaccinated_per_hundred        8370 non-null   float64       \n",
        " 10  people_fully_vaccinated_per_hundred  6158 non-null   float64       \n",
        " 11  daily_vaccinations_per_million       14796 non-null  float64       \n",
        " 12  vaccines                             14994 non-null  object        \n",
        " 13  source_name                          14994 non-null  object        \n",
        " 14  source_website                       14994 non-null  object        \n",
        "dtypes: datetime64[ns](1), float64(9), object(5)\n",
        "memory usage: 1.7+ MB\n",
        "```\n",
        "3. 9011 rows × 15 columns  \n",
        "4. 8815 rows * 15 columns \n",
        "5. 6.65 \n",
        "\n"
      ]
    },
    {
      "cell_type": "code",
      "metadata": {
        "id": "Hb36AOCAbJIR",
        "colab": {
          "base_uri": "https://localhost:8080/"
        },
        "outputId": "b9f0ba1f-7c63-41be-bcf5-19fc89e6c603"
      },
      "source": [
        "import pandas as pd\n",
        "def get_excel_data(url, string):\n",
        "  df = pd.read_excel(url,sheet_name= string)\n",
        "  return df\n",
        "\n",
        "# Task 1 \n",
        "url = \"https://github.com/lilaceri/Working-with-data-/blob/342abab10d93c4bf23b5c55a50f189f12a137c5f/Data%20Sets%20for%20code%20divisio/Covid%20Vaccination%20Data.xlsx?raw=true\"\n",
        "country_data  = get_excel_data(url, 'by_country')\n",
        "\n",
        "#Task 2 Find columns with missing values\n",
        "print(\"Task 2\")\n",
        "print(country_data.info())\n",
        "\n",
        "# Task 3 Remove null values in total_vaccinations\n",
        "print(\"Task 3\")\n",
        "count_data = country_data.dropna(subset = [\"total_vaccinations\"])\n",
        "print(count_data.shape)\n",
        "\n",
        "# Task 4 Remove null values in daily_vaccinations_per_million\n",
        "print(\"Task 4\")\n",
        "df= count_data.dropna(subset = [\"daily_vaccinations_per_million\"])\n",
        "print(df.shape)\n",
        "\n",
        "# Task 5 Find median of daily_vaccinations_per_million\n",
        "print(\"Task 5\")\n",
        "med_per_mill = df[\"daily_vaccinations_per_million\"].median()\n",
        "print(med_per_mill)\n",
        "\n"
      ],
      "execution_count": null,
      "outputs": [
        {
          "output_type": "stream",
          "name": "stdout",
          "text": [
            "Task 2\n",
            "<class 'pandas.core.frame.DataFrame'>\n",
            "RangeIndex: 14994 entries, 0 to 14993\n",
            "Data columns (total 15 columns):\n",
            " #   Column                               Non-Null Count  Dtype         \n",
            "---  ------                               --------------  -----         \n",
            " 0   country                              14994 non-null  object        \n",
            " 1   iso_code                             14994 non-null  object        \n",
            " 2   date                                 14994 non-null  datetime64[ns]\n",
            " 3   total_vaccinations                   9011 non-null   float64       \n",
            " 4   people_vaccinated                    8370 non-null   float64       \n",
            " 5   people_fully_vaccinated              6158 non-null   float64       \n",
            " 6   daily_vaccinations_raw               7575 non-null   float64       \n",
            " 7   daily_vaccinations                   14796 non-null  float64       \n",
            " 8   total_vaccinations_per_hundred       9011 non-null   float64       \n",
            " 9   people_vaccinated_per_hundred        8370 non-null   float64       \n",
            " 10  people_fully_vaccinated_per_hundred  6158 non-null   float64       \n",
            " 11  daily_vaccinations_per_million       14796 non-null  float64       \n",
            " 12  vaccines                             14994 non-null  object        \n",
            " 13  source_name                          14994 non-null  object        \n",
            " 14  source_website                       14994 non-null  object        \n",
            "dtypes: datetime64[ns](1), float64(9), object(5)\n",
            "memory usage: 1.7+ MB\n",
            "None\n",
            "Task 3\n",
            "(9011, 15)\n",
            "Task 4\n",
            "(8816, 15)\n",
            "Task 5\n",
            "1915.5\n"
          ]
        }
      ]
    },
    {
      "cell_type": "markdown",
      "source": [
        "This challenge is really helpful to practice data retrieval and cleaning. I feel much more confident that I can do this straightway without needing any help or looking over previous worksheets."
      ],
      "metadata": {
        "id": "lJLolU6QZG8s"
      }
    },
    {
      "cell_type": "markdown",
      "metadata": {
        "id": "7br0m2QAn-9i"
      },
      "source": [
        "### Challenge 2 - encode daily vaccinations \n",
        "---\n",
        "\n",
        "Write a function to encode daily vaccinations per million, where values greater than or equal to median = 1 and values less than median = 0 \n",
        "\n",
        "**Test output**: \n",
        "\n",
        "using describe()\n",
        "```\n",
        "count    8816.000000\n",
        "mean        0.991493\n",
        "std         0.091847\n",
        "min         0.000000\n",
        "25%         1.000000\n",
        "50%         1.000000\n",
        "75%         1.000000\n",
        "max         1.000000\n",
        "Name: daily_vaccinations_per_million, dtype: float64\n",
        "```"
      ]
    },
    {
      "cell_type": "markdown",
      "source": [
        "I would like to try and use functions for repeated codes as much as possible. So the ecoding columns, can be created as a function, like suggested and perhaps can be used for other columns and/or data"
      ],
      "metadata": {
        "id": "r8Yf9clYej3m"
      }
    },
    {
      "cell_type": "code",
      "metadata": {
        "id": "nwmvVLa0aYli",
        "colab": {
          "base_uri": "https://localhost:8080/"
        },
        "outputId": "7652ef32-9070-461b-9457-e9c62769ab30"
      },
      "source": [
        "# Task\n",
        "def encode_daily(df, **kwds):\n",
        "  median = kwds['median']\n",
        "  key = kwds['key']\n",
        "  if df[key] > median:\n",
        "    return 1\n",
        "  else:\n",
        "    return 0\n",
        "\n",
        "\n",
        "df['daily_vaccinations_per_million_encoded'] = df.apply(encode_daily, axis =1, key = 'daily_vaccinations_per_million',median = med_per_mill)\n",
        "print(df['daily_vaccinations_per_million_encoded'].describe())\n",
        "\n"
      ],
      "execution_count": null,
      "outputs": [
        {
          "output_type": "stream",
          "name": "stdout",
          "text": [
            "count    8816.000000\n",
            "mean        0.500000\n",
            "std         0.500028\n",
            "min         0.000000\n",
            "25%         0.000000\n",
            "50%         0.500000\n",
            "75%         1.000000\n",
            "max         1.000000\n",
            "Name: daily_vaccinations_per_million_encoded, dtype: float64\n"
          ]
        },
        {
          "output_type": "stream",
          "name": "stderr",
          "text": [
            "/usr/local/lib/python3.7/dist-packages/ipykernel_launcher.py:11: SettingWithCopyWarning: \n",
            "A value is trying to be set on a copy of a slice from a DataFrame.\n",
            "Try using .loc[row_indexer,col_indexer] = value instead\n",
            "\n",
            "See the caveats in the documentation: https://pandas.pydata.org/pandas-docs/stable/user_guide/indexing.html#returning-a-view-versus-a-copy\n",
            "  # This is added back by InteractiveShellApp.init_path()\n"
          ]
        }
      ]
    },
    {
      "cell_type": "markdown",
      "metadata": {
        "id": "yX9easCln-9m"
      },
      "source": [
        "### Challenge 3 - Encoding total vaccinations   \n",
        "---\n",
        "The United Kingdom has been praised for its fast vaccine rollout. \n",
        "1. Find the minimum total vaccinations for the United Kingdom \n",
        "2. Write a function to encode total_vaccinations column so that all values less than the UK's min are 0 and all values greater than or equal to the UK's min are coded as 1 \n",
        "3. Display the unique countries for which total vaccinated is at the same rate or more than the UK\n",
        "\n",
        "**Test output**:\n",
        "\n",
        "1. 1402432.0\n",
        "2. `df['total_vaccinations'].describe()` should output:\n",
        "```\n",
        "count    9011.00000\n",
        "mean        0.29808\n",
        "std         0.45744\n",
        "min         0.00000\n",
        "25%         0.00000\n",
        "50%         0.00000\n",
        "75%         1.00000\n",
        "max         1.00000\n",
        "Name: total_vaccinations, dtype: float64\n",
        "```\n",
        "3. \n",
        "```\n",
        "array(['Argentina', 'Australia', 'Austria', 'Azerbaijan', 'Bangladesh',\n",
        "       'Belgium', 'Brazil', 'Cambodia', 'Canada', 'Chile', 'China',\n",
        "       'Colombia', 'Czechia', 'Denmark', 'Dominican Republic', 'England',\n",
        "       'Finland', 'France', 'Germany', 'Greece', 'Hong Kong', 'Hungary',\n",
        "       'India', 'Indonesia', 'Ireland', 'Israel', 'Italy', 'Japan',\n",
        "       'Kazakhstan', 'Malaysia', 'Mexico', 'Morocco', 'Nepal',\n",
        "       'Netherlands', 'Norway', 'Pakistan', 'Peru', 'Philippines',\n",
        "       'Poland', 'Portugal', 'Qatar', 'Romania', 'Russia', 'Saudi Arabia',\n",
        "       'Scotland', 'Serbia', 'Singapore', 'Slovakia', 'South Korea',\n",
        "       'Spain', 'Sweden', 'Switzerland', 'Thailand', 'Turkey',\n",
        "       'United Arab Emirates', 'United Kingdom', 'United States',\n",
        "       'Uruguay', 'Wales'], dtype=object)\n",
        "```\n",
        "\n",
        "\n"
      ]
    },
    {
      "cell_type": "markdown",
      "source": [
        "I have decided to use the lambda function to get the unique values of country name. I am sure there are otherways to do this too. But this seemed like easy and simple way to apply the condition that country name should be United Kingdom."
      ],
      "metadata": {
        "id": "je2wdzHTe5Rr"
      }
    },
    {
      "cell_type": "code",
      "metadata": {
        "id": "D6-QmeusbTIx",
        "colab": {
          "base_uri": "https://localhost:8080/"
        },
        "outputId": "fde7b060-9c75-4c60-cf86-4895ea6bf34e"
      },
      "source": [
        "# Task 1 Find the minimum total_vaccinations in the UK\n",
        "print(\"Task 1\")\n",
        "min_uk = count_data.loc[count_data['country']=='United Kingdom','total_vaccinations'].min()\n",
        "print(min_uk)\n",
        "\n",
        "# Task 2 encode total_vaccinations column\n",
        "print(\"Task 2\")\n",
        "count_data['total_vaccinations_encoded'] = count_data.apply(encode_daily, axis =1, key = 'total_vaccinations',median = min_uk)\n",
        "print(count_data['total_vaccinations_encoded'].describe())\n",
        "\n",
        "# Task 3 Display the unique countries for which total vaccinated is at the same rate or more than the UK\n",
        "print(\"Task 3\")\n",
        "unique_country = count_data.groupby('total_vaccinations_encoded').apply(lambda x: x['country'].unique())\n",
        "print(unique_country[1])"
      ],
      "execution_count": null,
      "outputs": [
        {
          "output_type": "stream",
          "name": "stdout",
          "text": [
            "Task 1\n",
            "1402432.0\n",
            "Task 2\n",
            "count    9011.000000\n",
            "mean        0.297969\n",
            "std         0.457391\n",
            "min         0.000000\n",
            "25%         0.000000\n",
            "50%         0.000000\n",
            "75%         1.000000\n",
            "max         1.000000\n",
            "Name: total_vaccinations_encoded, dtype: float64\n",
            "Task 3\n",
            "['Argentina' 'Australia' 'Austria' 'Azerbaijan' 'Bangladesh' 'Belgium'\n",
            " 'Brazil' 'Cambodia' 'Canada' 'Chile' 'China' 'Colombia' 'Czechia'\n",
            " 'Denmark' 'Dominican Republic' 'England' 'Finland' 'France' 'Germany'\n",
            " 'Greece' 'Hong Kong' 'Hungary' 'India' 'Indonesia' 'Ireland' 'Israel'\n",
            " 'Italy' 'Japan' 'Kazakhstan' 'Malaysia' 'Mexico' 'Morocco' 'Nepal'\n",
            " 'Netherlands' 'Norway' 'Pakistan' 'Peru' 'Philippines' 'Poland'\n",
            " 'Portugal' 'Qatar' 'Romania' 'Russia' 'Saudi Arabia' 'Scotland' 'Serbia'\n",
            " 'Singapore' 'Slovakia' 'South Korea' 'Spain' 'Sweden' 'Switzerland'\n",
            " 'Thailand' 'Turkey' 'United Arab Emirates' 'United Kingdom'\n",
            " 'United States' 'Uruguay' 'Wales']\n"
          ]
        },
        {
          "output_type": "stream",
          "name": "stderr",
          "text": [
            "/usr/local/lib/python3.7/dist-packages/ipykernel_launcher.py:8: SettingWithCopyWarning: \n",
            "A value is trying to be set on a copy of a slice from a DataFrame.\n",
            "Try using .loc[row_indexer,col_indexer] = value instead\n",
            "\n",
            "See the caveats in the documentation: https://pandas.pydata.org/pandas-docs/stable/user_guide/indexing.html#returning-a-view-versus-a-copy\n",
            "  \n"
          ]
        }
      ]
    },
    {
      "cell_type": "markdown",
      "metadata": {
        "id": "t9DFDyr0n-9o"
      },
      "source": [
        "### Challenge 4 - create new series of total vaccinations for each manufacturer\n",
        "---\n",
        "\n",
        "To create a new column in your dataframe:\n",
        "\n",
        "`df['new_column'] = ...`\n",
        "\n",
        "For example:\n",
        "\n",
        "* to duplicate an existing column\n",
        "  * `df['new_column'] = df['old_column']`\n",
        "* to add two columns together \n",
        "  * `df['new_column'] = df['column1'] + df['column2']`\n",
        "* to make a percentages column \n",
        "  * `df['new_column'] = (df['column1']/df['column1].sum()) * 100`\n",
        "\n",
        "  \n",
        "1. read data from 'by_manufacturer' sheet from Covid data \n",
        "2. find the sum of total vaccinations for each manufacturer\n",
        "3. create a new column that has the total vaccinations as a percentage of the overall sum of total vaccinations \n",
        "4. find the median percentage \n",
        "5. create a new column called 'encoded_percentages' which duplicates the percentages column\n",
        "6. encode the encoded_percentages column so that any values greater than or equal to the median percentage = 1 and any lesser than = 0 \n",
        "\n",
        "\n",
        "**Test output**:\n",
        "\n",
        "1.\n",
        "2. \n",
        "```\n",
        "vaccine\n",
        "Johnson&Johnson        264839828\n",
        "Moderna               5548036383\n",
        "Oxford/AstraZeneca     539433203\n",
        "Pfizer/BioNTech       8690461304\n",
        "Sinovac                604660293\n",
        "Name: total_vaccinations, dtype: int64\n",
        "```\n",
        "3. \n",
        "```\n",
        "\tlocation\tdate\tvaccine\ttotal_vaccinations\tpercentages\n",
        "0\tChile\t2020-12-24\tPfizer/BioNTech\t420\t0.000003\n",
        "1\tChile\t2020-12-25\tPfizer/BioNTech\t5198\t0.000033\n",
        "2\tChile\t2020-12-26\tPfizer/BioNTech\t8338\t0.000053\n",
        "3\tChile\t2020-12-27\tPfizer/BioNTech\t8649\t0.000055\n",
        "4\tChile\t2020-12-28\tPfizer/BioNTech\t8649\t0.000055\n",
        "...\t...\t...\t...\t...\t...\n",
        "3291\tUnited States\t2021-05-01\tModerna\t105947940\t0.677095\n",
        "3292\tUnited States\t2021-05-01\tPfizer/BioNTech\t129013657\t0.824504\n",
        "3293\tUnited States\t2021-05-02\tJohnson&Johnson\t8374395\t0.053519\n",
        "3294\tUnited States\t2021-05-02\tModerna\t106780082\t0.682413\n",
        "3295\tUnited States\t2021-05-02\tPfizer/BioNTech\t130252779\t0.832423\n",
        "3296 rows × 5 columns\n",
        "```\n",
        "4. 0.0011110194374896931\n",
        "5. \n",
        "```\n",
        "location\tdate\tvaccine\ttotal_vaccinations\tpercentage_of_total\tencoded_percentages\n",
        "0\tChile\t2020-12-24\tPfizer/BioNTech\t420\t0.000003\t0.000003\n",
        "1\tChile\t2020-12-25\tPfizer/BioNTech\t5198\t0.000033\t0.000033\n",
        "2\tChile\t2020-12-26\tPfizer/BioNTech\t8338\t0.000053\t0.000053\n",
        "3\tChile\t2020-12-27\tPfizer/BioNTech\t8649\t0.000055\t0.000055\n",
        "4\tChile\t2020-12-28\tPfizer/BioNTech\t8649\t0.000055\t0.000055\n",
        "...\t...\t...\t...\t...\t...\t...\n",
        "3291\tUnited States\t2021-05-01\tModerna\t105947940\t0.677095\t0.677095\n",
        "3292\tUnited States\t2021-05-01\tPfizer/BioNTech\t129013657\t0.824504\t0.824504\n",
        "3293\tUnited States\t2021-05-02\tJohnson&Johnson\t8374395\t0.053519\t0.053519\n",
        "3294\tUnited States\t2021-05-02\tModerna\t106780082\t0.682413\t0.682413\n",
        "3295\tUnited States\t2021-05-02\tPfizer/BioNTech\t130252779\t0.832423\t0.832423\n",
        "3296 rows × 6 columns\n",
        "```\n",
        "6. \n",
        "```\n",
        "\tlocation\tdate\tvaccine\ttotal_vaccinations\tpercentages\tencode\tencoded\n",
        "0\tChile\t2020-12-24\tPfizer/BioNTech\t420\t0.000003\t0.000003\t0\n",
        "1\tChile\t2020-12-25\tPfizer/BioNTech\t5198\t0.000033\t0.000033\t0\n",
        "2\tChile\t2020-12-26\tPfizer/BioNTech\t8338\t0.000053\t0.000053\t0\n",
        "3\tChile\t2020-12-27\tPfizer/BioNTech\t8649\t0.000055\t0.000055\t0\n",
        "4\tChile\t2020-12-28\tPfizer/BioNTech\t8649\t0.000055\t0.000055\t0\n",
        "...\t...\t...\t...\t...\t...\t...\t...\n",
        "3291\tUnited States\t2021-05-01\tModerna\t105947940\t0.677095\t0.677095\t1\n",
        "3292\tUnited States\t2021-05-01\tPfizer/BioNTech\t129013657\t0.824504\t0.824504\t1\n",
        "3293\tUnited States\t2021-05-02\tJohnson&Johnson\t8374395\t0.053519\t0.053519\t1\n",
        "3294\tUnited States\t2021-05-02\tModerna\t106780082\t0.682413\t0.682413\t1\n",
        "3295\tUnited States\t2021-05-02\tPfizer/BioNTech\t130252779\t0.832423\t0.832423\t1\n",
        "3296 rows × 7 columns\n",
        "```\n",
        "\n"
      ]
    },
    {
      "cell_type": "code",
      "source": [
        "#Task 1 get manufacturer data\n",
        "manu_df = get_excel_data(url, 'by_manufacturer')\n",
        "\n",
        "#Task 2 Find the total vaccinations by manufacturer\n",
        "print(\"Task 2\")\n",
        "manu_tot = manu_df.groupby([\"vaccine\"]).sum()\n",
        "print(manu_tot)\n",
        "\n",
        "#Task 3 Find the total vaccinations percentages\n",
        "print(\"Task 3\")\n",
        "manu_df['total_vaccinations_percentage'] = (manu_df['total_vaccinations'] / manu_df['total_vaccinations'].sum()) * 100\n",
        "print(manu_df)\n",
        "\n",
        "#Task 4 Find the total vaccinations percentage\n",
        "print(\"Task 4\")\n",
        "manu_med_per = manu_df['total_vaccinations_percentage'].median() \n",
        "print(manu_med_per)\n",
        "\n",
        "#Task 5 create a copy of column, total vaccinations percentage\n",
        "print(\"Task 5\")\n",
        "manu_df['encoded_percentages'] = manu_df['total_vaccinations_percentage']\n",
        "print(manu_df)\n",
        "\n",
        "# Task 6 encode encoded_percentage column\n",
        "med_percent = manu_df['total_vaccinations_percentage'].median()\n",
        "print(\"Task 6\")\n",
        "manu_df['encode'] = manu_df.apply(encode_daily, axis =1, key = 'total_vaccinations_percentage',median = med_percent)\n",
        "print(manu_df)"
      ],
      "metadata": {
        "colab": {
          "base_uri": "https://localhost:8080/"
        },
        "id": "fMgtaIXuKrgB",
        "outputId": "3615c6d7-a5be-4453-ae63-f663af2aec0d"
      },
      "execution_count": null,
      "outputs": [
        {
          "output_type": "stream",
          "name": "stdout",
          "text": [
            "Task 2\n",
            "                    total_vaccinations\n",
            "vaccine                               \n",
            "Johnson&Johnson              264839828\n",
            "Moderna                     5548036383\n",
            "Oxford/AstraZeneca           539433203\n",
            "Pfizer/BioNTech             8690461304\n",
            "Sinovac                      604660293\n",
            "Task 3\n",
            "           location       date          vaccine  total_vaccinations  \\\n",
            "0             Chile 2020-12-24  Pfizer/BioNTech                 420   \n",
            "1             Chile 2020-12-25  Pfizer/BioNTech                5198   \n",
            "2             Chile 2020-12-26  Pfizer/BioNTech                8338   \n",
            "3             Chile 2020-12-27  Pfizer/BioNTech                8649   \n",
            "4             Chile 2020-12-28  Pfizer/BioNTech                8649   \n",
            "...             ...        ...              ...                 ...   \n",
            "3291  United States 2021-05-01          Moderna           105947940   \n",
            "3292  United States 2021-05-01  Pfizer/BioNTech           129013657   \n",
            "3293  United States 2021-05-02  Johnson&Johnson             8374395   \n",
            "3294  United States 2021-05-02          Moderna           106780082   \n",
            "3295  United States 2021-05-02  Pfizer/BioNTech           130252779   \n",
            "\n",
            "      total_vaccinations_percentage  \n",
            "0                          0.000003  \n",
            "1                          0.000033  \n",
            "2                          0.000053  \n",
            "3                          0.000055  \n",
            "4                          0.000055  \n",
            "...                             ...  \n",
            "3291                       0.677095  \n",
            "3292                       0.824504  \n",
            "3293                       0.053519  \n",
            "3294                       0.682413  \n",
            "3295                       0.832423  \n",
            "\n",
            "[3296 rows x 5 columns]\n",
            "Task 4\n",
            "0.0011110194374896931\n",
            "Task 5\n",
            "           location       date          vaccine  total_vaccinations  \\\n",
            "0             Chile 2020-12-24  Pfizer/BioNTech                 420   \n",
            "1             Chile 2020-12-25  Pfizer/BioNTech                5198   \n",
            "2             Chile 2020-12-26  Pfizer/BioNTech                8338   \n",
            "3             Chile 2020-12-27  Pfizer/BioNTech                8649   \n",
            "4             Chile 2020-12-28  Pfizer/BioNTech                8649   \n",
            "...             ...        ...              ...                 ...   \n",
            "3291  United States 2021-05-01          Moderna           105947940   \n",
            "3292  United States 2021-05-01  Pfizer/BioNTech           129013657   \n",
            "3293  United States 2021-05-02  Johnson&Johnson             8374395   \n",
            "3294  United States 2021-05-02          Moderna           106780082   \n",
            "3295  United States 2021-05-02  Pfizer/BioNTech           130252779   \n",
            "\n",
            "      total_vaccinations_percentage  encoded_percentages  \n",
            "0                          0.000003             0.000003  \n",
            "1                          0.000033             0.000033  \n",
            "2                          0.000053             0.000053  \n",
            "3                          0.000055             0.000055  \n",
            "4                          0.000055             0.000055  \n",
            "...                             ...                  ...  \n",
            "3291                       0.677095             0.677095  \n",
            "3292                       0.824504             0.824504  \n",
            "3293                       0.053519             0.053519  \n",
            "3294                       0.682413             0.682413  \n",
            "3295                       0.832423             0.832423  \n",
            "\n",
            "[3296 rows x 6 columns]\n",
            "Task 6\n",
            "           location       date          vaccine  total_vaccinations  \\\n",
            "0             Chile 2020-12-24  Pfizer/BioNTech                 420   \n",
            "1             Chile 2020-12-25  Pfizer/BioNTech                5198   \n",
            "2             Chile 2020-12-26  Pfizer/BioNTech                8338   \n",
            "3             Chile 2020-12-27  Pfizer/BioNTech                8649   \n",
            "4             Chile 2020-12-28  Pfizer/BioNTech                8649   \n",
            "...             ...        ...              ...                 ...   \n",
            "3291  United States 2021-05-01          Moderna           105947940   \n",
            "3292  United States 2021-05-01  Pfizer/BioNTech           129013657   \n",
            "3293  United States 2021-05-02  Johnson&Johnson             8374395   \n",
            "3294  United States 2021-05-02          Moderna           106780082   \n",
            "3295  United States 2021-05-02  Pfizer/BioNTech           130252779   \n",
            "\n",
            "      total_vaccinations_percentage  encoded_percentages  encode  \n",
            "0                          0.000003             0.000003       0  \n",
            "1                          0.000033             0.000033       0  \n",
            "2                          0.000053             0.000053       0  \n",
            "3                          0.000055             0.000055       0  \n",
            "4                          0.000055             0.000055       0  \n",
            "...                             ...                  ...     ...  \n",
            "3291                       0.677095             0.677095       1  \n",
            "3292                       0.824504             0.824504       1  \n",
            "3293                       0.053519             0.053519       1  \n",
            "3294                       0.682413             0.682413       1  \n",
            "3295                       0.832423             0.832423       1  \n",
            "\n",
            "[3296 rows x 7 columns]\n"
          ]
        }
      ]
    },
    {
      "cell_type": "markdown",
      "source": [
        "This question was pretty straightforward and I am glad that I had the encoding columns in a separate function."
      ],
      "metadata": {
        "id": "ANVEN1BOfavq"
      }
    },
    {
      "cell_type": "code",
      "source": [
        "manu_tot.info()"
      ],
      "metadata": {
        "colab": {
          "base_uri": "https://localhost:8080/"
        },
        "id": "eZLNZohK-bhR",
        "outputId": "dac30f38-d8b9-4927-c5c1-5702dfa28977"
      },
      "execution_count": null,
      "outputs": [
        {
          "output_type": "stream",
          "name": "stdout",
          "text": [
            "<class 'pandas.core.frame.DataFrame'>\n",
            "Index: 5 entries, Johnson&Johnson to Sinovac\n",
            "Data columns (total 1 columns):\n",
            " #   Column              Non-Null Count  Dtype\n",
            "---  ------              --------------  -----\n",
            " 0   total_vaccinations  5 non-null      int64\n",
            "dtypes: int64(1)\n",
            "memory usage: 80.0+ bytes\n"
          ]
        }
      ]
    },
    {
      "cell_type": "code",
      "source": [
        "import seaborn as sns\n",
        "import matplotlib.pyplot as plt\n",
        "\n",
        "def do_pie_plot(x,y):\n",
        "  plt.figure(figsize = (10,8))\n",
        "  sns.set(style=\"darkgrid\")\n",
        "  colors = sns.color_palette('husl')\n",
        "  plt.pie(y, colors =colors, autopct='%.0f%%')\n",
        "  plt.legend(labels = x,bbox_to_anchor=(1.05, 1), loc=2, borderaxespad=0.)\n",
        "  plt.show()\n",
        "  return\n",
        "\n",
        "\n",
        "x = manu_tot.index.tolist()\n",
        "y = manu_tot\n",
        "do_pie_plot(x,y)"
      ],
      "metadata": {
        "colab": {
          "base_uri": "https://localhost:8080/",
          "height": 521
        },
        "id": "VU7KIbfz9q9L",
        "outputId": "cf9afaa0-0ad9-4aa4-db1b-49fd6d3e030b"
      },
      "execution_count": null,
      "outputs": [
        {
          "output_type": "stream",
          "name": "stderr",
          "text": [
            "/usr/local/lib/python3.7/dist-packages/ipykernel_launcher.py:8: MatplotlibDeprecationWarning: Non-1D inputs to pie() are currently squeeze()d, but this behavior is deprecated since 3.1 and will be removed in 3.3; pass a 1D array instead.\n",
            "  \n"
          ]
        },
        {
          "output_type": "display_data",
          "data": {
            "text/plain": [
              "<Figure size 720x576 with 1 Axes>"
            ],
            "image/png": "[encoded data removed]"
          },
          "metadata": {}
        }
      ]
    },
    {
      "cell_type": "markdown",
      "source": [
        "This is an interesting data set and I would like to visulaize what the world wide data looks like on an actual map.\n",
        "\n",
        "I am planning to use geopandas. Hopefully, it should work."
      ],
      "metadata": {
        "id": "SQ1nNriw-XTy"
      }
    },
    {
      "cell_type": "code",
      "source": [
        "pip install geopandas"
      ],
      "metadata": {
        "colab": {
          "base_uri": "https://localhost:8080/"
        },
        "id": "9dVxurnEAva8",
        "outputId": "fff198ce-5025-4a9b-cdf4-f9367e71938b"
      },
      "execution_count": null,
      "outputs": [
        {
          "output_type": "stream",
          "name": "stdout",
          "text": [
            "Collecting geopandas\n",
            "  Downloading geopandas-0.10.2-py2.py3-none-any.whl (1.0 MB)\n",
            "\u001b[?25l\r\u001b[K     |▎                               | 10 kB 19.9 MB/s eta 0:00:01\r\u001b[K     |▋                               | 20 kB 10.9 MB/s eta 0:00:01\r\u001b[K     |█                               | 30 kB 9.0 MB/s eta 0:00:01\r\u001b[K     |█▎                              | 40 kB 7.4 MB/s eta 0:00:01\r\u001b[K     |█▋                              | 51 kB 4.4 MB/s eta 0:00:01\r\u001b[K     |██                              | 61 kB 5.2 MB/s eta 0:00:01\r\u001b[K     |██▎                             | 71 kB 5.4 MB/s eta 0:00:01\r\u001b[K     |██▌                             | 81 kB 5.7 MB/s eta 0:00:01\r\u001b[K     |██▉                             | 92 kB 6.3 MB/s eta 0:00:01\r\u001b[K     |███▏                            | 102 kB 5.0 MB/s eta 0:00:01\r\u001b[K     |███▌                            | 112 kB 5.0 MB/s eta 0:00:01\r\u001b[K     |███▉                            | 122 kB 5.0 MB/s eta 0:00:01\r\u001b[K     |████▏                           | 133 kB 5.0 MB/s eta 0:00:01\r\u001b[K     |████▌                           | 143 kB 5.0 MB/s eta 0:00:01\r\u001b[K     |████▊                           | 153 kB 5.0 MB/s eta 0:00:01\r\u001b[K     |█████                           | 163 kB 5.0 MB/s eta 0:00:01\r\u001b[K     |█████▍                          | 174 kB 5.0 MB/s eta 0:00:01\r\u001b[K     |█████▊                          | 184 kB 5.0 MB/s eta 0:00:01\r\u001b[K     |██████                          | 194 kB 5.0 MB/s eta 0:00:01\r\u001b[K     |██████▍                         | 204 kB 5.0 MB/s eta 0:00:01\r\u001b[K     |██████▊                         | 215 kB 5.0 MB/s eta 0:00:01\r\u001b[K     |███████                         | 225 kB 5.0 MB/s eta 0:00:01\r\u001b[K     |███████▎                        | 235 kB 5.0 MB/s eta 0:00:01\r\u001b[K     |███████▋                        | 245 kB 5.0 MB/s eta 0:00:01\r\u001b[K     |████████                        | 256 kB 5.0 MB/s eta 0:00:01\r\u001b[K     |████████▎                       | 266 kB 5.0 MB/s eta 0:00:01\r\u001b[K     |████████▋                       | 276 kB 5.0 MB/s eta 0:00:01\r\u001b[K     |█████████                       | 286 kB 5.0 MB/s eta 0:00:01\r\u001b[K     |█████████▏                      | 296 kB 5.0 MB/s eta 0:00:01\r\u001b[K     |█████████▌                      | 307 kB 5.0 MB/s eta 0:00:01\r\u001b[K     |█████████▉                      | 317 kB 5.0 MB/s eta 0:00:01\r\u001b[K     |██████████▏                     | 327 kB 5.0 MB/s eta 0:00:01\r\u001b[K     |██████████▌                     | 337 kB 5.0 MB/s eta 0:00:01\r\u001b[K     |██████████▉                     | 348 kB 5.0 MB/s eta 0:00:01\r\u001b[K     |███████████▏                    | 358 kB 5.0 MB/s eta 0:00:01\r\u001b[K     |███████████▍                    | 368 kB 5.0 MB/s eta 0:00:01\r\u001b[K     |███████████▊                    | 378 kB 5.0 MB/s eta 0:00:01\r\u001b[K     |████████████                    | 389 kB 5.0 MB/s eta 0:00:01\r\u001b[K     |████████████▍                   | 399 kB 5.0 MB/s eta 0:00:01\r\u001b[K     |████████████▊                   | 409 kB 5.0 MB/s eta 0:00:01\r\u001b[K     |█████████████                   | 419 kB 5.0 MB/s eta 0:00:01\r\u001b[K     |█████████████▍                  | 430 kB 5.0 MB/s eta 0:00:01\r\u001b[K     |█████████████▋                  | 440 kB 5.0 MB/s eta 0:00:01\r\u001b[K     |██████████████                  | 450 kB 5.0 MB/s eta 0:00:01\r\u001b[K     |██████████████▎                 | 460 kB 5.0 MB/s eta 0:00:01\r\u001b[K     |██████████████▋                 | 471 kB 5.0 MB/s eta 0:00:01\r\u001b[K     |███████████████                 | 481 kB 5.0 MB/s eta 0:00:01\r\u001b[K     |███████████████▎                | 491 kB 5.0 MB/s eta 0:00:01\r\u001b[K     |███████████████▋                | 501 kB 5.0 MB/s eta 0:00:01\r\u001b[K     |███████████████▉                | 512 kB 5.0 MB/s eta 0:00:01\r\u001b[K     |████████████████▏               | 522 kB 5.0 MB/s eta 0:00:01\r\u001b[K     |████████████████▌               | 532 kB 5.0 MB/s eta 0:00:01\r\u001b[K     |████████████████▉               | 542 kB 5.0 MB/s eta 0:00:01\r\u001b[K     |█████████████████▏              | 552 kB 5.0 MB/s eta 0:00:01\r\u001b[K     |█████████████████▌              | 563 kB 5.0 MB/s eta 0:00:01\r\u001b[K     |█████████████████▉              | 573 kB 5.0 MB/s eta 0:00:01\r\u001b[K     |██████████████████              | 583 kB 5.0 MB/s eta 0:00:01\r\u001b[K     |██████████████████▍             | 593 kB 5.0 MB/s eta 0:00:01\r\u001b[K     |██████████████████▊             | 604 kB 5.0 MB/s eta 0:00:01\r\u001b[K     |███████████████████             | 614 kB 5.0 MB/s eta 0:00:01\r\u001b[K     |███████████████████▍            | 624 kB 5.0 MB/s eta 0:00:01\r\u001b[K     |███████████████████▊            | 634 kB 5.0 MB/s eta 0:00:01\r\u001b[K     |████████████████████            | 645 kB 5.0 MB/s eta 0:00:01\r\u001b[K     |████████████████████▎           | 655 kB 5.0 MB/s eta 0:00:01\r\u001b[K     |████████████████████▋           | 665 kB 5.0 MB/s eta 0:00:01\r\u001b[K     |█████████████████████           | 675 kB 5.0 MB/s eta 0:00:01\r\u001b[K     |█████████████████████▎          | 686 kB 5.0 MB/s eta 0:00:01\r\u001b[K     |█████████████████████▋          | 696 kB 5.0 MB/s eta 0:00:01\r\u001b[K     |██████████████████████          | 706 kB 5.0 MB/s eta 0:00:01\r\u001b[K     |██████████████████████▎         | 716 kB 5.0 MB/s eta 0:00:01\r\u001b[K     |██████████████████████▋         | 727 kB 5.0 MB/s eta 0:00:01\r\u001b[K     |██████████████████████▉         | 737 kB 5.0 MB/s eta 0:00:01\r\u001b[K     |███████████████████████▏        | 747 kB 5.0 MB/s eta 0:00:01\r\u001b[K     |███████████████████████▌        | 757 kB 5.0 MB/s eta 0:00:01\r\u001b[K     |███████████████████████▉        | 768 kB 5.0 MB/s eta 0:00:01\r\u001b[K     |████████████████████████▏       | 778 kB 5.0 MB/s eta 0:00:01\r\u001b[K     |████████████████████████▌       | 788 kB 5.0 MB/s eta 0:00:01\r\u001b[K     |████████████████████████▉       | 798 kB 5.0 MB/s eta 0:00:01\r\u001b[K     |█████████████████████████       | 808 kB 5.0 MB/s eta 0:00:01\r\u001b[K     |█████████████████████████▍      | 819 kB 5.0 MB/s eta 0:00:01\r\u001b[K     |█████████████████████████▊      | 829 kB 5.0 MB/s eta 0:00:01\r\u001b[K     |██████████████████████████      | 839 kB 5.0 MB/s eta 0:00:01\r\u001b[K     |██████████████████████████▍     | 849 kB 5.0 MB/s eta 0:00:01\r\u001b[K     |██████████████████████████▊     | 860 kB 5.0 MB/s eta 0:00:01\r\u001b[K     |███████████████████████████     | 870 kB 5.0 MB/s eta 0:00:01\r\u001b[K     |███████████████████████████▎    | 880 kB 5.0 MB/s eta 0:00:01\r\u001b[K     |███████████████████████████▋    | 890 kB 5.0 MB/s eta 0:00:01\r\u001b[K     |████████████████████████████    | 901 kB 5.0 MB/s eta 0:00:01\r\u001b[K     |████████████████████████████▎   | 911 kB 5.0 MB/s eta 0:00:01\r\u001b[K     |████████████████████████████▋   | 921 kB 5.0 MB/s eta 0:00:01\r\u001b[K     |█████████████████████████████   | 931 kB 5.0 MB/s eta 0:00:01\r\u001b[K     |█████████████████████████████▎  | 942 kB 5.0 MB/s eta 0:00:01\r\u001b[K     |█████████████████████████████▌  | 952 kB 5.0 MB/s eta 0:00:01\r\u001b[K     |█████████████████████████████▉  | 962 kB 5.0 MB/s eta 0:00:01\r\u001b[K     |██████████████████████████████▏ | 972 kB 5.0 MB/s eta 0:00:01\r\u001b[K     |██████████████████████████████▌ | 983 kB 5.0 MB/s eta 0:00:01\r\u001b[K     |██████████████████████████████▉ | 993 kB 5.0 MB/s eta 0:00:01\r\u001b[K     |███████████████████████████████▏| 1.0 MB 5.0 MB/s eta 0:00:01\r\u001b[K     |███████████████████████████████▌| 1.0 MB 5.0 MB/s eta 0:00:01\r\u001b[K     |███████████████████████████████▊| 1.0 MB 5.0 MB/s eta 0:00:01\r\u001b[K     |████████████████████████████████| 1.0 MB 5.0 MB/s \n",
            "\u001b[?25hRequirement already satisfied: pandas>=0.25.0 in /usr/local/lib/python3.7/dist-packages (from geopandas) (1.3.5)\n",
            "Collecting fiona>=1.8\n",
            "  Downloading Fiona-1.8.21-cp37-cp37m-manylinux2014_x86_64.whl (16.7 MB)\n",
            "\u001b[K     |████████████████████████████████| 16.7 MB 383 kB/s \n",
            "\u001b[?25hCollecting pyproj>=2.2.0\n",
            "  Downloading pyproj-3.2.1-cp37-cp37m-manylinux2010_x86_64.whl (6.3 MB)\n",
            "\u001b[K     |████████████████████████████████| 6.3 MB 43.5 MB/s \n",
            "\u001b[?25hRequirement already satisfied: shapely>=1.6 in /usr/local/lib/python3.7/dist-packages (from geopandas) (1.8.1.post1)\n",
            "Requirement already satisfied: click>=4.0 in /usr/local/lib/python3.7/dist-packages (from fiona>=1.8->geopandas) (7.1.2)\n",
            "Requirement already satisfied: six>=1.7 in /usr/local/lib/python3.7/dist-packages (from fiona>=1.8->geopandas) (1.15.0)\n",
            "Collecting click-plugins>=1.0\n",
            "  Downloading click_plugins-1.1.1-py2.py3-none-any.whl (7.5 kB)\n",
            "Requirement already satisfied: attrs>=17 in /usr/local/lib/python3.7/dist-packages (from fiona>=1.8->geopandas) (21.4.0)\n",
            "Collecting cligj>=0.5\n",
            "  Downloading cligj-0.7.2-py3-none-any.whl (7.1 kB)\n",
            "Requirement already satisfied: setuptools in /usr/local/lib/python3.7/dist-packages (from fiona>=1.8->geopandas) (57.4.0)\n",
            "Collecting munch\n",
            "  Downloading munch-2.5.0-py2.py3-none-any.whl (10 kB)\n",
            "Requirement already satisfied: certifi in /usr/local/lib/python3.7/dist-packages (from fiona>=1.8->geopandas) (2021.10.8)\n",
            "Requirement already satisfied: pytz>=2017.3 in /usr/local/lib/python3.7/dist-packages (from pandas>=0.25.0->geopandas) (2018.9)\n",
            "Requirement already satisfied: python-dateutil>=2.7.3 in /usr/local/lib/python3.7/dist-packages (from pandas>=0.25.0->geopandas) (2.8.2)\n",
            "Requirement already satisfied: numpy>=1.17.3 in /usr/local/lib/python3.7/dist-packages (from pandas>=0.25.0->geopandas) (1.21.5)\n",
            "Installing collected packages: munch, cligj, click-plugins, pyproj, fiona, geopandas\n",
            "Successfully installed click-plugins-1.1.1 cligj-0.7.2 fiona-1.8.21 geopandas-0.10.2 munch-2.5.0 pyproj-3.2.1\n"
          ]
        }
      ]
    },
    {
      "cell_type": "code",
      "source": [
        "import geopandas as gpd\n",
        "import matplotlib.pyplot as plt\n",
        "# Task Total vaccinated in the world\n",
        "\n",
        "world = gpd.read_file(gpd.datasets.get_path('naturalearth_lowres'))\n",
        "#world.name\n",
        "merged = world.set_index('name').join(country_data.set_index('country'))\n",
        "variable = 'people_fully_vaccinated_per_hundred'\n",
        "\n",
        "vmin = country_data[variable].min()\n",
        "vmax = country_data[variable].max()\n",
        "\n",
        "f, ax = plt.subplots(1, figsize=(18, 12))\n",
        "ax.set_facecolor('xkcd:dark')\n",
        "merged.plot(column=variable, cmap='viridis', linewidth=0.8, ax=ax, edgecolor='0.8')\n",
        "# Create colorbar as a legend\n",
        "sm = plt.cm.ScalarMappable(cmap='viridis', norm=plt.Normalize(vmin=vmin, vmax=vmax))\n",
        "# empty array for the data range\n",
        "sm._A = []\n",
        "# add the colorbar to the figure\n",
        "cbar = f.colorbar(sm)\n",
        "sm = plt.cm.ScalarMappable(cmap='viridis', norm=plt.Normalize(vmin=vmin, vmax=vmax))\n"
      ],
      "metadata": {
        "colab": {
          "base_uri": "https://localhost:8080/",
          "height": 689
        },
        "id": "KmKup1iUxtDg",
        "outputId": "c3bfdb6b-a2bf-42a1-d2af-e8de093e0845"
      },
      "execution_count": null,
      "outputs": [
        {
          "output_type": "display_data",
          "data": {
            "text/plain": [
              "<Figure size 1296x864 with 2 Axes>"
            ],
            "image/png": "[encoded data removed]"
          },
          "metadata": {}
        }
      ]
    },
    {
      "cell_type": "markdown",
      "source": [
        "I can now see the people_fully_vaccinated_per_hundred in the world map. We can repeat this for any column. Just change the variable name to the column of interest."
      ],
      "metadata": {
        "id": "-UnOmCLT-tbN"
      }
    },
    {
      "cell_type": "markdown",
      "metadata": {
        "id": "G8yHJH706Cd9"
      },
      "source": [
        "### Exercise 8 - encode daily vaccinations \n",
        "\n",
        "1. find the median daily vaccinations per 1 million \n",
        "2. write a function to encode daily vaccinations per 1 million, where values greater than or equal to median = 1 and values less than median = 0 \n",
        "\n",
        "Output: \n",
        "\n",
        "1. 1915.5\n",
        "2. \n",
        "```\n",
        "0        0\n",
        "6        0\n",
        "22       0\n",
        "44       0\n",
        "59       0\n",
        "        ..\n",
        "14989    0\n",
        "14990    0\n",
        "14991    0\n",
        "14992    0\n",
        "14993    0\n",
        "Name: daily_vaccinations_per_million, Length: 9011, dtype: int64\n",
        "```"
      ]
    },
    {
      "cell_type": "markdown",
      "metadata": {
        "id": "KznNiO1ooEcw"
      },
      "source": [
        "### Exercise 9 - Encoding vaccinations per hundred  \n",
        "---\n",
        "The United Kingdom has been praised for its fast vaccine rollout. \n",
        "1. find the minimum total vaccinations for the United Kingdom \n",
        "2. save this value in a variable rounded down to an integer\n",
        "3. write a function to encode total_vaccinations column so that all values less than the UK's min are 0 and all values greater than or equal to the UK's min are coded as 1 \n",
        "4. display the countries which total vaccinated is at the same rate or more than the UK\n",
        "\n",
        "Output:\n",
        "\n",
        "1. 1402432.0\n",
        "2. 1402432\n",
        "3. `df['people_vaccinated_per_hundred']` should output:\n",
        "```\n",
        "0        0\n",
        "6        0\n",
        "22       0\n",
        "44       0\n",
        "59       0\n",
        "        ..\n",
        "14989    0\n",
        "14990    0\n",
        "14991    0\n",
        "14992    0\n",
        "14993    0\n",
        "Name: total_vaccinations, Length: 9011, dtype: int64\n",
        "```\n",
        "4. \n",
        "```\n",
        "array(['Argentina', 'Australia', 'Austria', 'Azerbaijan', 'Bangladesh',\n",
        "       'Belgium', 'Brazil', 'Cambodia', 'Canada', 'Chile', 'China',\n",
        "       'Colombia', 'Czechia', 'Denmark', 'Dominican Republic', 'England',\n",
        "       'Finland', 'France', 'Germany', 'Greece', 'Hong Kong', 'Hungary',\n",
        "       'India', 'Indonesia', 'Ireland', 'Israel', 'Italy', 'Japan',\n",
        "       'Kazakhstan', 'Malaysia', 'Mexico', 'Morocco', 'Nepal',\n",
        "       'Netherlands', 'Norway', 'Pakistan', 'Peru', 'Philippines',\n",
        "       'Poland', 'Portugal', 'Qatar', 'Romania', 'Russia', 'Saudi Arabia',\n",
        "       'Scotland', 'Serbia', 'Singapore', 'Slovakia', 'South Korea',\n",
        "       'Spain', 'Sweden', 'Switzerland', 'Thailand', 'Turkey',\n",
        "       'United Arab Emirates', 'United Kingdom', 'United States',\n",
        "       'Uruguay', 'Wales'], dtype=object)\n",
        "```\n",
        "\n",
        "\n"
      ]
    },
    {
      "cell_type": "markdown",
      "metadata": {
        "id": "9upnqmDO9Yko"
      },
      "source": [
        "### Exercise 10 - create new series of total vaccinations percentages\n",
        "---\n",
        "\n",
        "To create a new column in your dataframe:\n",
        "\n",
        "`df['new_column'] = ...`\n",
        "\n",
        "For example:\n",
        "\n",
        "* to duplicate an existing column\n",
        "  * `df['new_column'] = df['old_column']`\n",
        "* to add two columns together \n",
        "  * `df['new_column'] = df['column1'] + df['column2']`\n",
        "* to make a percentages column \n",
        "  * `df['new_column'] = (df['column1']/df['column1].sum()) * 100`  \n",
        "  \n",
        "\n",
        "\n",
        "1. read data from 'by_manufacturer' sheet from Covid data \n",
        "2. find the sum of total vaccinations for each manufacturer\n",
        "3. create a new column that has the total vaccinations as a percentage of the overall sum of total vaccinations \n",
        "4. find the median percentage \n",
        "5. create a new column called 'encoded_percentages' which duplicates the percentages column\n",
        "6. encode the encoded_percentages column so that any values greater than or equal to the median percentage = 1 and any lesser than = 0 \n",
        "\n",
        "\n",
        "Output:\n",
        "\n",
        "1.\n",
        "2. \n",
        "```\n",
        "vaccine\n",
        "Johnson&Johnson        264839828\n",
        "Moderna               5548036383\n",
        "Oxford/AstraZeneca     539433203\n",
        "Pfizer/BioNTech       8690461304\n",
        "Sinovac                604660293\n",
        "Name: total_vaccinations, dtype: int64\n",
        "```\n",
        "3. \n",
        "```\n",
        "\tlocation\tdate\tvaccine\ttotal_vaccinations\tpercentages\n",
        "0\tChile\t2020-12-24\tPfizer/BioNTech\t420\t0.000003\n",
        "1\tChile\t2020-12-25\tPfizer/BioNTech\t5198\t0.000033\n",
        "2\tChile\t2020-12-26\tPfizer/BioNTech\t8338\t0.000053\n",
        "3\tChile\t2020-12-27\tPfizer/BioNTech\t8649\t0.000055\n",
        "4\tChile\t2020-12-28\tPfizer/BioNTech\t8649\t0.000055\n",
        "...\t...\t...\t...\t...\t...\n",
        "3291\tUnited States\t2021-05-01\tModerna\t105947940\t0.677095\n",
        "3292\tUnited States\t2021-05-01\tPfizer/BioNTech\t129013657\t0.824504\n",
        "3293\tUnited States\t2021-05-02\tJohnson&Johnson\t8374395\t0.053519\n",
        "3294\tUnited States\t2021-05-02\tModerna\t106780082\t0.682413\n",
        "3295\tUnited States\t2021-05-02\tPfizer/BioNTech\t130252779\t0.832423\n",
        "3296 rows × 5 columns\n",
        "```\n",
        "4. 0.0011110194374896931\n",
        "5. \n",
        "6. \n",
        "```\n",
        "\tlocation\tdate\tvaccine\ttotal_vaccinations\tpercentages\tencode\tencoded\n",
        "0\tChile\t2020-12-24\tPfizer/BioNTech\t420\t0.000003\t0.000003\t0\n",
        "1\tChile\t2020-12-25\tPfizer/BioNTech\t5198\t0.000033\t0.000033\t0\n",
        "2\tChile\t2020-12-26\tPfizer/BioNTech\t8338\t0.000053\t0.000053\t0\n",
        "3\tChile\t2020-12-27\tPfizer/BioNTech\t8649\t0.000055\t0.000055\t0\n",
        "4\tChile\t2020-12-28\tPfizer/BioNTech\t8649\t0.000055\t0.000055\t0\n",
        "...\t...\t...\t...\t...\t...\t...\t...\n",
        "3291\tUnited States\t2021-05-01\tModerna\t105947940\t0.677095\t0.677095\t1\n",
        "3292\tUnited States\t2021-05-01\tPfizer/BioNTech\t129013657\t0.824504\t0.824504\t1\n",
        "3293\tUnited States\t2021-05-02\tJohnson&Johnson\t8374395\t0.053519\t0.053519\t1\n",
        "3294\tUnited States\t2021-05-02\tModerna\t106780082\t0.682413\t0.682413\t1\n",
        "3295\tUnited States\t2021-05-02\tPfizer/BioNTech\t130252779\t0.832423\t0.832423\t1\n",
        "3296 rows × 7 columns\n",
        "```\n",
        "\n"
      ]
    },
    {
      "cell_type": "markdown",
      "metadata": {
        "id": "UKC6Q_6i70V9"
      },
      "source": [
        "# Reflection\n",
        "----\n",
        "\n",
        "## What skills have you demonstrated in completing this notebook?"
      ]
    },
    {
      "cell_type": "markdown",
      "metadata": {
        "id": "NUVvt2r0mCKq"
      },
      "source": [
        "It was a fun worksheet to work with. I got to practice my data retreival, cleaning, grouping, sorting and aggregating, try out using new skills like encoding columns.\n",
        "\n"
      ]
    },
    {
      "cell_type": "markdown",
      "metadata": {
        "id": "SOrbWOuFmObq"
      },
      "source": [
        "## What caused you the most difficulty?"
      ]
    },
    {
      "cell_type": "markdown",
      "metadata": {
        "id": "G_eGng1GmO78"
      },
      "source": [
        "Nothing really. It was fairly straight forward. "
      ]
    }
  ]
}