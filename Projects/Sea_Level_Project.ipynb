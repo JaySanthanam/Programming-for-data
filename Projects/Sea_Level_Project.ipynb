{
  "nbformat": 4,
  "nbformat_minor": 0,
  "metadata": {
    "colab": {
      "name": "Sea-Level-Project.ipynb",
      "provenance": [],
      "include_colab_link": true
    },
    "kernelspec": {
      "name": "python3",
      "display_name": "Python 3"
    },
    "language_info": {
      "name": "python"
    }
  },
  "cells": [
    {
      "cell_type": "markdown",
      "metadata": {
        "id": "view-in-github",
        "colab_type": "text"
      },
      "source": [
        "<a href=\"https://colab.research.google.com/github/JaySanthanam/Programming-for-data/blob/main/Projects/Sea_Level_Project.ipynb\" target=\"_parent\"><img src=\"https://colab.research.google.com/assets/colab-badge.svg\" alt=\"Open In Colab\"/></a>"
      ]
    },
    {
      "cell_type": "markdown",
      "source": [
        "# Using numpy to look for a correlation between time data and sea level rise\n",
        "---\n",
        "\n",
        "### Data Source\n",
        "Global Average Absolute Sea Level Change, 1880-2014 from the US Environmental Protection Agency using data from CSIRO, 2015; NOAA, 2015.\n",
        "https://datahub.io/core/sea-level-rise\n",
        "\n",
        "The data describes annual sea levels from 1880 to 2013.  Measures are adjusted using two standards: Commonwealth Scientific and Industrial Research Organisation(CSIRO) and National Oceanic and Atmospheric Administration (NOAA)  \n",
        "\n",
        "Raw Data file:  https://raw.githubusercontent.com/freeCodeCamp/boilerplate-sea-level-predictor/master/epa-sea-level.csv\n",
        "\n",
        "For this exercise:\n",
        "*  import the pandas library\n",
        "*  import the numpy library\n",
        "*  read the csv dataset containing data on sea-levels from the year 1880 to 2013 into a dataframe (df)\n",
        "*  use df.head() and df.info() to inspect the data and the column data types\n",
        "\n"
      ],
      "metadata": {
        "id": "jBYNdCdQ9_cu"
      }
    },
    {
      "cell_type": "markdown",
      "source": [
        "###Note 1\n",
        "This part is straight forward. I always prefer keeping the url in the main code and leave the function to simply read from the url. This is just in case the url gets changed or if I decide to use the same function but to read another data set from a different url. I feel this allows more flexibility."
      ],
      "metadata": {
        "id": "PgAqunyrsqgT"
      }
    },
    {
      "cell_type": "code",
      "source": [
        "import pandas as pd\n",
        "import numpy as np\n",
        "\n",
        "def get_data(url): # this function gets data stored as csv file from a given url\n",
        "  df = pd.read_csv(url)\n",
        "  return df\n",
        "\n",
        "url = \"https://raw.githubusercontent.com/freeCodeCamp/boilerplate-sea-level-predictor/master/epa-sea-level.csv\"\n",
        "sea_level = get_data(url)\n",
        "print(sea_level.head()) #first 5 rows\n",
        "print(sea_level.info()) #technical summary"
      ],
      "metadata": {
        "id": "r1XUCWHV_Cj9",
        "colab": {
          "base_uri": "https://localhost:8080/"
        },
        "outputId": "86a94049-dc5f-45e6-bc59-2f8b8e6f808d"
      },
      "execution_count": 1,
      "outputs": [
        {
          "output_type": "stream",
          "name": "stdout",
          "text": [
            "   Year  CSIRO Adjusted Sea Level  ...  Upper Error Bound  NOAA Adjusted Sea Level\n",
            "0  1880                  0.000000  ...           0.952756                      NaN\n",
            "1  1881                  0.220472  ...           1.173228                      NaN\n",
            "2  1882                 -0.440945  ...           0.464567                      NaN\n",
            "3  1883                 -0.232283  ...           0.665354                      NaN\n",
            "4  1884                  0.590551  ...           1.464567                      NaN\n",
            "\n",
            "[5 rows x 5 columns]\n",
            "<class 'pandas.core.frame.DataFrame'>\n",
            "RangeIndex: 134 entries, 0 to 133\n",
            "Data columns (total 5 columns):\n",
            " #   Column                    Non-Null Count  Dtype  \n",
            "---  ------                    --------------  -----  \n",
            " 0   Year                      134 non-null    int64  \n",
            " 1   CSIRO Adjusted Sea Level  134 non-null    float64\n",
            " 2   Lower Error Bound         134 non-null    float64\n",
            " 3   Upper Error Bound         134 non-null    float64\n",
            " 4   NOAA Adjusted Sea Level   21 non-null     float64\n",
            "dtypes: float64(4), int64(1)\n",
            "memory usage: 5.4 KB\n",
            "None\n"
          ]
        }
      ]
    },
    {
      "cell_type": "markdown",
      "source": [
        "### Then\n",
        "---\n",
        "1.  Calculate some statistics on the level array, eg:\n",
        "*  mean\n",
        "*  standard deviation\n",
        "*  total \n",
        "\n",
        "2.  Use the fact that the arrays are aligned (e.g. the first number in the level array is linked to the first year in the year array and display:\n",
        "\n",
        "*  the year with the biggest rise in level\n",
        "*  the year with the lowest rise in level\n",
        "\n",
        "*(**Hint**:  to do this you can use a new numpy function np.where() )*\n",
        " ```\n",
        "np.where(array == value_to_find)\n",
        "```\n",
        "*There is some reference material [here](https://thispointer.com/find-the-index-of-a-value-in-numpy-array/)*\n",
        "\n",
        "**Note**: ```np.where(...)``` will return a tuple containing all indexes where that value was found.  You can print all, or you can print the first value (it is likely that there will only be one in this case) using [0][0].  *With the correct code you should get an answer of 2012*\n",
        "\n",
        "\n",
        "3.  Calculate the Pearson product-moment correlation coefficient between year and the rise in sea level.  (*Expected output:  0.98 when rounded to 2 decimal places*)"
      ],
      "metadata": {
        "id": "3cf1YPgnBSc2"
      }
    },
    {
      "cell_type": "markdown",
      "source": [
        "### Note 2:\n",
        "Before proceeding any further, I want to get rid of null values to make life easier for me. I got the following when I tested for null values (code is now commented since it is unnecessary).\n",
        "\n",
        "\n",
        "Year                        False\n",
        "\n",
        "CSIRO Adjusted Sea Level    False\n",
        "\n",
        "Lower Error Bound           False\n",
        "\n",
        "Upper Error Bound           False\n",
        "\n",
        "NOAA Adjusted Sea Level      True\n",
        "\n",
        "dtype: bool\n",
        "\n",
        "\n",
        "\n",
        "\n",
        "All columns except NOAA adjusted sea level have no null values. So I will drop that off to make a new data frame. I'm aware that this means that I am missing out on some of the information. But for now, I will work with the CSIRO Adjusted Sea Level. This exact calculations can be repeated with the NOAA adjusted sea level column as well. So I am saving the dataframe after dropping the NOAA column into a new dataframe."
      ],
      "metadata": {
        "id": "38E2hmFE-G3H"
      }
    },
    {
      "cell_type": "code",
      "execution_count": 2,
      "metadata": {
        "id": "8VWUtmK4YhoU",
        "colab": {
          "base_uri": "https://localhost:8080/"
        },
        "outputId": "125c0a8d-1fe8-4ba9-8b7a-b2f33462155c"
      },
      "outputs": [
        {
          "output_type": "stream",
          "name": "stdout",
          "text": [
            "The average sea level is       3.65 \n",
            "The standard deviation of sea_level is       2.48 \n",
            "The total sea level is     489.15\n",
            "The sea level was highest at       9.33 in the year [2012]\n",
            "The sea level was lowest at      -0.44 in the year [1882]\n"
          ]
        }
      ],
      "source": [
        "#find any null values\n",
        "#def any_nulls(df):\n",
        "#  df_null = df.isna().any()\n",
        "#  return df_null\n",
        "#null_values = any_nulls(sea_level)\n",
        "#print(null_values)\n",
        "\n",
        "df_new = sea_level.drop(columns=['NOAA Adjusted Sea Level'])\n",
        "sea_level_arr = np.array(df_new[\"CSIRO Adjusted Sea Level\"],np.float64)\n",
        "sea_year_arr = np.array(df_new[\"Year\"],np.int64)\n",
        "sea_mean = np.mean(sea_level_arr)\n",
        "sea_std = np.std(sea_level_arr)\n",
        "sea_total = np.sum(sea_level_arr)\n",
        "print(\"The average sea level is\", \"{:10.2f}\".format(sea_mean), \"\\nThe standard deviation of sea_level is\", \"{:10.2f}\".format(sea_std), \"\\nThe total sea level is\", \"{:10.2f}\".format(sea_total))\n",
        "\n",
        "max_level = np.amax(sea_level_arr)\n",
        "min_level = np.amin(sea_level_arr)\n",
        "max_index = np.where(sea_level_arr == max_level)\n",
        "max_year = max_index[0] +sea_year_arr[0]\n",
        "min_index = np.where(sea_level_arr == min_level)\n",
        "min_year = min_index[0] +sea_year_arr[0]\n",
        "print(\"The sea level was highest at\", \"{:10.2f}\".format(max_level), \"in the year\", max_year)\n",
        "print(\"The sea level was lowest at\", \"{:10.2f}\".format(min_level), \"in the year\", min_year)\n"
      ]
    },
    {
      "cell_type": "markdown",
      "source": [
        "##Note 3:\n",
        "Next I want to find the Pearson product-moment correlation coefficient between year and the rise in sea level. I'm aware that we are missing NOAA adjusted sea level. We can also repeat the same for that column with just the 21 rows of available data. But for now, I'm going to continue working with CSIRO Adjusted Sea Level for all years from 1880."
      ],
      "metadata": {
        "id": "5xJje1bcpM-e"
      }
    },
    {
      "cell_type": "code",
      "source": [
        "def get_correlation(nparray1,nparray2):\n",
        "  # code to get the correlation figure for both salaries\n",
        "  R_matrix = np.corrcoef(nparray1, nparray2)\n",
        "  return R_matrix\n",
        "\n",
        "R_value = get_correlation(sea_level_arr,sea_year_arr)\n",
        "print(\"The Pearson correlation coefficient between year and sea level is:\"\"{:10.2f}\".format(R_value[0][1]))\n",
        "print(\"This shows that there is a strong correlation between year and rising sea levels\")\n"
      ],
      "metadata": {
        "colab": {
          "base_uri": "https://localhost:8080/"
        },
        "id": "dOVrxtlLqYHD",
        "outputId": "15af8054-fe84-43b2-ee25-efed05805445"
      },
      "execution_count": 3,
      "outputs": [
        {
          "output_type": "stream",
          "name": "stdout",
          "text": [
            "The Pearson correlation coefficient between year and sea level is:      0.98\n",
            "This shows that there is a strong correlation between year and rising sea levels\n"
          ]
        }
      ]
    },
    {
      "cell_type": "markdown",
      "source": [
        "Updated on 02/03/2022:\n",
        "\n",
        "Task - Add linear regression to do prediction for sea levels. Also, create a new dataframe with predicted sealevels in the future "
      ],
      "metadata": {
        "id": "tKfjenJTgouw"
      }
    },
    {
      "cell_type": "code",
      "source": [
        "from sklearn.linear_model import LinearRegression\n",
        "from scipy import stats\n",
        "from scipy.stats.stats import pearsonr\n",
        "\n",
        "def regression_model(x,y):\n",
        "  lin_model = stats.linregress(x, y)\n",
        "  return lin_model\n",
        "\n",
        "def predict_sea_level(m,x,c):\n",
        "  y = m*x+c\n",
        "  return y\n",
        "\n",
        "lin_model = regression_model(sea_year_arr,sea_level_arr)\n",
        "m = lin_model.slope\n",
        "c = lin_model.intercept\n",
        "print(lin_model)\n",
        "print(\"The slope is\",m)\n",
        "print(\"The intercept is\",c)\n",
        "print(f\"R-squared: {lin_model.rvalue**2:.4f}\")\n",
        "print(\"P-value is\", lin_model.pvalue)\n",
        "\n",
        "#predict sea level for years 2014 to 2050 using linear regression\n",
        "rows =[]\n",
        "for i in range(2014, 2051):\n",
        "  rows.append([i,predict_sea_level(m,i,c)])\n",
        "\n",
        "df_pred = pd.DataFrame(rows, columns=[\"Year\", \"predicted_sea-level\"])\n",
        "\n",
        "print(df_pred)\n"
      ],
      "metadata": {
        "colab": {
          "base_uri": "https://localhost:8080/"
        },
        "id": "mBqehHF8iwoF",
        "outputId": "48216032-ca9b-4ec5-fccc-0f4ba63e5015"
      },
      "execution_count": 4,
      "outputs": [
        {
          "output_type": "stream",
          "name": "stdout",
          "text": [
            "LinregressResult(slope=0.0630445840121348, intercept=-119.06594196773978, rvalue=0.984757131182585, pvalue=3.7886969791131554e-102, stderr=0.000969211871328715)\n",
            "The slope is 0.0630445840121348\n",
            "The intercept is -119.06594196773978\n",
            "R-squared: 0.9697\n",
            "P-value is 3.7886969791131554e-102\n",
            "    Year  predicted_sea-level\n",
            "0   2014             7.905850\n",
            "1   2015             7.968895\n",
            "2   2016             8.031939\n",
            "3   2017             8.094984\n",
            "4   2018             8.158029\n",
            "5   2019             8.221073\n",
            "6   2020             8.284118\n",
            "7   2021             8.347162\n",
            "8   2022             8.410207\n",
            "9   2023             8.473251\n",
            "10  2024             8.536296\n",
            "11  2025             8.599341\n",
            "12  2026             8.662385\n",
            "13  2027             8.725430\n",
            "14  2028             8.788474\n",
            "15  2029             8.851519\n",
            "16  2030             8.914564\n",
            "17  2031             8.977608\n",
            "18  2032             9.040653\n",
            "19  2033             9.103697\n",
            "20  2034             9.166742\n",
            "21  2035             9.229786\n",
            "22  2036             9.292831\n",
            "23  2037             9.355876\n",
            "24  2038             9.418920\n",
            "25  2039             9.481965\n",
            "26  2040             9.545009\n",
            "27  2041             9.608054\n",
            "28  2042             9.671099\n",
            "29  2043             9.734143\n",
            "30  2044             9.797188\n",
            "31  2045             9.860232\n",
            "32  2046             9.923277\n",
            "33  2047             9.986322\n",
            "34  2048            10.049366\n",
            "35  2049            10.112411\n",
            "36  2050            10.175455\n"
          ]
        }
      ]
    },
    {
      "cell_type": "markdown",
      "source": [
        "I would like to see how the linear regression actually looks compared to the data. So let's plot using matplotlib"
      ],
      "metadata": {
        "id": "yIcOiApzsqCM"
      }
    },
    {
      "cell_type": "code",
      "source": [
        "import matplotlib.pyplot as plt\n",
        "plt.plot(sea_year_arr, sea_level_arr, 'o', color = 'g', label='original data')\n",
        "plt.plot(sea_year_arr, lin_model.intercept + lin_model.slope*sea_year_arr, 'r', label='Linear regression model')\n",
        "plt.legend()\n",
        "plt.xlabel(\"Year\")\n",
        "plt.ylabel(\"Sea levels\")\n",
        "plt.title(\"Yearly increase in sea levels\")\n",
        "plt.show()"
      ],
      "metadata": {
        "colab": {
          "base_uri": "https://localhost:8080/",
          "height": 295
        },
        "id": "Bv1_taz5sv94",
        "outputId": "a53418e7-3154-483a-fca7-3c218aca38e3"
      },
      "execution_count": 21,
      "outputs": [
        {
          "output_type": "display_data",
          "data": {
            "image/png": "[encoded data removed]",
            "text/plain": [
              "<Figure size 432x288 with 1 Axes>"
            ]
          },
          "metadata": {
            "needs_background": "light"
          }
        }
      ]
    },
    {
      "cell_type": "markdown",
      "source": [
        "How about adding our predictions to the plot?"
      ],
      "metadata": {
        "id": "KltFdMbYtQwE"
      }
    },
    {
      "cell_type": "code",
      "source": [
        "pred_year_arr = np.array(df_pred[\"Year\"],np.int64)\n",
        "pred_sea_level = np.array(df_pred[\"predicted_sea-level\"],np.float64)\n",
        "new_year_arr = np.append(sea_year_arr, pred_year_arr, axis = 0)\n",
        "new_sea_level = np.append(sea_level_arr, pred_sea_level, axis = 0)\n",
        "\n",
        "plt.plot(sea_year_arr, sea_level_arr, 'o', color = 'g', label='original data')\n",
        "plt.plot(new_year_arr, new_sea_level, 'r', label='linear regression model')\n",
        "plt.legend()\n",
        "plt.xlabel(\"Year\")\n",
        "plt.ylabel(\"Sea levels\")\n",
        "plt.title(\"Yearly increase in sea levels\")\n",
        "plt.show()"
      ],
      "metadata": {
        "colab": {
          "base_uri": "https://localhost:8080/",
          "height": 295
        },
        "id": "sFCi0Evzt5AX",
        "outputId": "733cc0c5-fdca-411e-a0f6-ddba11567fe5"
      },
      "execution_count": 22,
      "outputs": [
        {
          "output_type": "display_data",
          "data": {
            "image/png": "[encoded data removed]",
            "text/plain": [
              "<Figure size 432x288 with 1 Axes>"
            ]
          },
          "metadata": {
            "needs_background": "light"
          }
        }
      ]
    },
    {
      "cell_type": "markdown",
      "source": [
        "The above plot clearly shows that the data (with red line) until 2013 and from 2014 to 2050 the line shows predicted sea level using linear regression. We can clearly see that the linear regression prediction is slightly lower than actual data points (from both plots). A polynomial model might be more accurate for predicting the sea level than linear regression model.\n",
        "\n",
        "Regarding the programming with python- I have now applied my skills to use linear models, plot and visualize data, using numpy arrays, appending arrays and creating new dataframes from arrays. "
      ],
      "metadata": {
        "id": "kItowYxBx-sG"
      }
    },
    {
      "cell_type": "markdown",
      "source": [
        "While this gives the overall picture of sea level from 1880 to 2013, it will also be helpful to look at details of a few decades at a time. So let's take small slices of the dataframe and look at the linear regression in short spurts."
      ],
      "metadata": {
        "id": "NslimVuOA8H4"
      }
    },
    {
      "cell_type": "code",
      "source": [
        "def filter_df(df, start, end):\n",
        "  df = df_new[(df_new['Year']>=start) & (df_new['Year']<=end)]\n",
        "  return df\n",
        "\n",
        "df_2000 = filter_df(df_new, 2000, 2013)\n",
        "sea_level_2000 = np.array(df_2000[\"CSIRO Adjusted Sea Level\"],np.float64)\n",
        "sea_year_2000 = np.array(df_2000[\"Year\"],np.int64)\n",
        "\n",
        "model_2000 = regression_model(sea_year_2000,sea_level_2000)\n",
        "m_2000 = model_2000.slope\n",
        "c_2000 = model_2000.intercept\n",
        "print(model_2000)\n",
        "print(\"The slope is\",m_2000)\n",
        "print(\"The intercept is\",c_2000)\n",
        "print(f\"R-squared: {model_2000.rvalue**2:.4f}\")\n",
        "print(\"P-value is\", model_2000.pvalue)\n",
        "\n",
        "#predict sea level for years 2014 to 2050 using the new linear regression model\n",
        "rows =[]\n",
        "for i in range(2014, 2051):\n",
        "  rows.append([i,predict_sea_level(m_2000,i,c_2000)])\n",
        "\n",
        "df_pred_2000 = pd.DataFrame(rows, columns=[\"Year\", \"predicted_sea-level\"])\n",
        "\n",
        "print(df_pred_2000)"
      ],
      "metadata": {
        "id": "FkpCu_RkBY6H",
        "outputId": "2821100f-cdab-4179-d8b0-e20bf99bbd35",
        "colab": {
          "base_uri": "https://localhost:8080/"
        }
      },
      "execution_count": 25,
      "outputs": [
        {
          "output_type": "stream",
          "name": "stdout",
          "text": [
            "LinregressResult(slope=0.1664272733318682, intercept=-325.7934668059649, rvalue=0.9762875716140618, pvalue=2.4388064141618245e-09, stderr=0.010652933111541163)\n",
            "The slope is 0.1664272733318682\n",
            "The intercept is -325.7934668059649\n",
            "R-squared: 0.9531\n",
            "P-value is 2.4388064141618245e-09\n",
            "    Year  predicted_sea-level\n",
            "0   2014             9.391062\n",
            "1   2015             9.557489\n",
            "2   2016             9.723916\n",
            "3   2017             9.890344\n",
            "4   2018            10.056771\n",
            "5   2019            10.223198\n",
            "6   2020            10.389625\n",
            "7   2021            10.556053\n",
            "8   2022            10.722480\n",
            "9   2023            10.888907\n",
            "10  2024            11.055334\n",
            "11  2025            11.221762\n",
            "12  2026            11.388189\n",
            "13  2027            11.554616\n",
            "14  2028            11.721044\n",
            "15  2029            11.887471\n",
            "16  2030            12.053898\n",
            "17  2031            12.220325\n",
            "18  2032            12.386753\n",
            "19  2033            12.553180\n",
            "20  2034            12.719607\n",
            "21  2035            12.886034\n",
            "22  2036            13.052462\n",
            "23  2037            13.218889\n",
            "24  2038            13.385316\n",
            "25  2039            13.551744\n",
            "26  2040            13.718171\n",
            "27  2041            13.884598\n",
            "28  2042            14.051025\n",
            "29  2043            14.217453\n",
            "30  2044            14.383880\n",
            "31  2045            14.550307\n",
            "32  2046            14.716734\n",
            "33  2047            14.883162\n",
            "34  2048            15.049589\n",
            "35  2049            15.216016\n",
            "36  2050            15.382444\n"
          ]
        }
      ]
    },
    {
      "cell_type": "code",
      "source": [
        "plt.plot(sea_year_2000, sea_level_2000, 'o', color = 'g', label='original data')\n",
        "plt.plot(sea_year_2000, model_2000.intercept + model_2000.slope*sea_year_2000, 'r', label='Linear regression model')\n",
        "plt.legend()\n",
        "plt.xlabel(\"Year\")\n",
        "plt.ylabel(\"Sea levels\")\n",
        "plt.title(\"Yearly increase in sea levels\")\n",
        "plt.show()"
      ],
      "metadata": {
        "id": "itGZrhhFFckF",
        "outputId": "c20d0408-a3ae-4d34-9ec6-87302faf12ca",
        "colab": {
          "base_uri": "https://localhost:8080/",
          "height": 295
        }
      },
      "execution_count": 26,
      "outputs": [
        {
          "output_type": "display_data",
          "data": {
            "image/png": "[encoded data removed]",
            "text/plain": [
              "<Figure size 432x288 with 1 Axes>"
            ]
          },
          "metadata": {
            "needs_background": "light"
          }
        }
      ]
    },
    {
      "cell_type": "markdown",
      "source": [
        "So we can see that the linear fit is much better now. Let us now add the predictive model to the plot."
      ],
      "metadata": {
        "id": "ZrLO8qE0FzKQ"
      }
    },
    {
      "cell_type": "code",
      "source": [
        "df_2000_full = pd.concat([df_2000, df_pred_2000])\n",
        "df_2000_full\n",
        "\n",
        "pred_yr_2000 = np.array(df_pred_2000[\"Year\"],np.int64)\n",
        "pred_level_2000 = np.array(df_pred_2000[\"predicted_sea-level\"],np.float64)\n",
        "new_year_2000 = np.append(sea_year_2000, pred_yr_2000, axis = 0)\n",
        "new_level_2000 = np.append(sea_level_2000, pred_level_2000, axis = 0)\n",
        "\n",
        "plt.plot(sea_year_2000, sea_level_2000, 'o', color = 'g', label='original data')\n",
        "plt.plot(new_year_2000, new_level_2000, 'r', label='linear regression model')\n",
        "plt.legend()\n",
        "plt.xlabel(\"Year\")\n",
        "plt.ylabel(\"Sea levels\")\n",
        "plt.title(\"Yearly increase in sea levels\")\n",
        "plt.show()"
      ],
      "metadata": {
        "id": "n5qZEiBUGb6d",
        "outputId": "aa2ea48a-d2e3-4521-d541-c3caf5cbc8c8",
        "colab": {
          "base_uri": "https://localhost:8080/",
          "height": 295
        }
      },
      "execution_count": 27,
      "outputs": [
        {
          "output_type": "display_data",
          "data": {
            "image/png": "[encoded data removed]",
            "text/plain": [
              "<Figure size 432x288 with 1 Axes>"
            ]
          },
          "metadata": {
            "needs_background": "light"
          }
        }
      ]
    },
    {
      "cell_type": "markdown",
      "source": [
        "This plot shows the sea levels if the current trend continues. \n",
        "\n",
        "We can do the same for any year intervals. This will give us an idea of sea levels in the years of interest and we can see how the linear regression model changes for those years."
      ],
      "metadata": {
        "id": "2zgB8LnCIRwJ"
      }
    },
    {
      "cell_type": "code",
      "source": [
        "df_1900 = filter_df(df_new, 1900, 1999)\n",
        "sea_level_1900 = np.array(df_1900[\"CSIRO Adjusted Sea Level\"],np.float64)\n",
        "sea_year_1900 = np.array(df_1900[\"Year\"],np.int64)\n",
        "\n",
        "model_1900 = regression_model(sea_year_1900,sea_level_1900)\n",
        "m_1900 = model_1900.slope\n",
        "c_1900 = model_1900.intercept\n",
        "print(model_1900)\n",
        "print(\"The slope is\",m_1900)\n",
        "print(\"The intercept is\",c_1900)\n",
        "print(f\"R-squared: {model_1900.rvalue**2:.4f}\")\n",
        "print(\"P-value is\", model_1900.pvalue)"
      ],
      "metadata": {
        "id": "gjlJlyGZJG73",
        "outputId": "8fd1b9d5-995e-4009-ee3d-824c319d00c7",
        "colab": {
          "base_uri": "https://localhost:8080/"
        }
      },
      "execution_count": 30,
      "outputs": [
        {
          "output_type": "stream",
          "name": "stdout",
          "text": [
            "LinregressResult(slope=0.061415054829168925, intercept=-116.06298010187481, rvalue=0.9879090743402357, pvalue=3.7354469308027463e-81, stderr=0.0009735827378204736)\n",
            "The slope is 0.061415054829168925\n",
            "The intercept is -116.06298010187481\n",
            "R-squared: 0.9760\n",
            "P-value is 3.7354469308027463e-81\n"
          ]
        }
      ]
    },
    {
      "cell_type": "code",
      "source": [
        "plt.plot(sea_year_1900, sea_level_1900, 'o', color = 'g', label='original data')\n",
        "plt.plot(sea_year_1900, model_1900.intercept + model_1900.slope*sea_year_1900, 'r', label='Linear regression model')\n",
        "plt.legend()\n",
        "plt.xlabel(\"Year\")\n",
        "plt.ylabel(\"Sea levels\")\n",
        "plt.title(\"Yearly increase in sea levels\")\n",
        "plt.show()"
      ],
      "metadata": {
        "id": "CO0J-OReKFan",
        "outputId": "6b2fca68-8871-42cd-f3b1-2a90b4c0155d",
        "colab": {
          "base_uri": "https://localhost:8080/",
          "height": 295
        }
      },
      "execution_count": 29,
      "outputs": [
        {
          "output_type": "display_data",
          "data": {
            "image/png": "[encoded data removed]",
            "text/plain": [
              "<Figure size 432x288 with 1 Axes>"
            ]
          },
          "metadata": {
            "needs_background": "light"
          }
        }
      ]
    },
    {
      "cell_type": "markdown",
      "source": [
        "1920 to 1950 looks very interesting, since the sea level increase seems to have slowed down. Let's take a closer look there. "
      ],
      "metadata": {
        "id": "V4-M5ws3Kizw"
      }
    },
    {
      "cell_type": "code",
      "source": [
        "df_1920 = filter_df(df_new, 1920, 1950)\n",
        "sea_level_1920 = np.array(df_1920[\"CSIRO Adjusted Sea Level\"],np.float64)\n",
        "sea_year_1920 = np.array(df_1920[\"Year\"],np.int64)\n",
        "\n",
        "model_1920 = regression_model(sea_year_1920,sea_level_1920)\n",
        "m_1920 = model_1920.slope\n",
        "c_1920 = model_1920.intercept\n",
        "print(model_1920)\n",
        "print(\"The slope is\",m_1920)\n",
        "print(\"The intercept is\",c_1920)\n",
        "print(f\"R-squared: {model_1920.rvalue**2:.4f}\")\n",
        "print(\"P-value is\", model_1920.pvalue)"
      ],
      "metadata": {
        "id": "qH5VXI9hKuS1",
        "outputId": "7c5de921-bdc8-4dad-f0eb-2c13fb9b9f56",
        "colab": {
          "base_uri": "https://localhost:8080/"
        }
      },
      "execution_count": 31,
      "outputs": [
        {
          "output_type": "stream",
          "name": "stdout",
          "text": [
            "LinregressResult(slope=0.06118713481733871, intercept=-115.8830088459375, rvalue=0.9491705793953945, pvalue=4.2620453210556987e-16, stderr=0.0037678998717265294)\n",
            "The slope is 0.06118713481733871\n",
            "The intercept is -115.8830088459375\n",
            "R-squared: 0.9009\n",
            "P-value is 4.2620453210556987e-16\n"
          ]
        }
      ]
    },
    {
      "cell_type": "markdown",
      "source": [
        "As expected the slope is smaller 0.0612 compared to 0.0614. Let's plot it to see."
      ],
      "metadata": {
        "id": "faPV3J-KLBE2"
      }
    },
    {
      "cell_type": "code",
      "source": [
        "plt.plot(sea_year_1920, sea_level_1920, 'o', color = 'g', label='original data')\n",
        "plt.plot(sea_year_1920, model_1920.intercept + model_1920.slope*sea_year_1920, 'r', label='Linear regression model')\n",
        "plt.legend()\n",
        "plt.xlabel(\"Year\")\n",
        "plt.ylabel(\"Sea levels\")\n",
        "plt.title(\"Yearly increase in sea levels\")\n",
        "plt.show()"
      ],
      "metadata": {
        "id": "7Y_QDsSoLRfy",
        "outputId": "c69424f7-64e2-4442-cfcc-5e3e078dcfcb",
        "colab": {
          "base_uri": "https://localhost:8080/",
          "height": 295
        }
      },
      "execution_count": 32,
      "outputs": [
        {
          "output_type": "display_data",
          "data": {
            "image/png": "[encoded data removed]",
            "text/plain": [
              "<Figure size 432x288 with 1 Axes>"
            ]
          },
          "metadata": {
            "needs_background": "light"
          }
        }
      ]
    },
    {
      "cell_type": "markdown",
      "metadata": {
        "id": "yQyytEbnZ1lw"
      },
      "source": [
        "# Reflection\n",
        "----\n",
        "\n",
        "## What skills have you demonstrated in completing this notebook?"
      ]
    },
    {
      "cell_type": "markdown",
      "metadata": {
        "id": "MM00hR5aZk1-"
      },
      "source": [
        "Your answer: I have used my data retrieval, cleaning and wrangling skills and have been able to use pandas and numpy libraries for this project. I used pandas library for retrieving, sorting and cleaning the data while I used numpy to do Statistical analyses. "
      ]
    },
    {
      "cell_type": "markdown",
      "metadata": {
        "id": "Zgexd27sZ1ly"
      },
      "source": [
        "## What caused you the most difficulty?"
      ]
    },
    {
      "cell_type": "markdown",
      "metadata": {
        "id": "-Y_nrVBwaGXr"
      },
      "source": [
        "Your answer: This was a fairly easy workbook. I think numpy is quite handy when we have large amount of numeric data. The use of arrays and matrices can go beyond use in Statistics and I am keen to know more about using numpy for calculations involving matrices."
      ]
    }
  ]
}