{
  "nbformat": 4,
  "nbformat_minor": 0,
  "metadata": {
    "colab": {
      "name": "Air quality Data.ipynb",
      "provenance": [],
      "collapsed_sections": [],
      "include_colab_link": true
    },
    "kernelspec": {
      "name": "python3",
      "display_name": "Python 3"
    },
    "language_info": {
      "name": "python"
    }
  },
  "cells": [
    {
      "cell_type": "markdown",
      "metadata": {
        "id": "view-in-github",
        "colab_type": "text"
      },
      "source": [
        "<a href=\"https://colab.research.google.com/github/JaySanthanam/Programming-for-data/blob/main/Projects/Work_in_progress/Air_quality_Analyses.ipynb\" target=\"_parent\"><img src=\"https://colab.research.google.com/assets/colab-badge.svg\" alt=\"Open In Colab\"/></a>"
      ]
    },
    {
      "cell_type": "markdown",
      "source": [
        "# **Air Quality Data**\n",
        "\n",
        "This notebook documents my work on Air Quality data using Python. We will be using air-quality measurement, particularly, Nitrogen dioxide levels and Particulate Matter (PM10) data from Chatham roadside and Edinburgh measuring centres and use python to retrieve, wrangle, clean, sort and filter the data, analyse and visualise the data to make conclusions on the air quality levels in these two places. The analyses in this notebook looks at Nitrogen dioxide levels and PM10 in these two places and can be repeated for any other pollutants and/or places.\n",
        "\n",
        "The first part of the notebook documents my work on air quality data on Nitrogen dioxide measurements from Chatham Roadside, Kent Edinburgh Haymarket area and St. Leonard's street. The second part of the notebook documents my work on PM10 from Chatham Roadside and Edinburgh St. Leonard's street."
      ],
      "metadata": {
        "id": "7roA3ccObfnp"
      }
    },
    {
      "cell_type": "markdown",
      "source": [
        "##What is Air quality and what data is available on it?\n",
        "**Source:** Department for Environment Food and Rural affairs (Defra), UK: https://uk-air.defra.gov.uk/air-pollution/\n",
        "\n",
        "Air pollution can cause both short term and long term effects on health and many people are concerned about pollution in the air that they breathe. \n",
        "\n",
        "These people may include:\n",
        "\n",
        "* People with heart or lung conditions, or other breathing problems, whose health may be affected by air pollution.\n",
        "* Parents, carers and healthcare professionals who look after someone whose health is sensitive to pollution.\n",
        "* People who want to know more about air pollution, its causes, and what they can do to help reduce it.\n",
        "* The scientific community and students, who may need data on air pollution levels, either now or in the past, throughout the UK.\n",
        "\n",
        "Free, detailed, clear and easy to use information on air pollution in the UK is available for all these purposes at UK's Defra, website on air pollution (link above)."
      ],
      "metadata": {
        "id": "BsstcDyddXNC"
      }
    },
    {
      "cell_type": "markdown",
      "source": [
        "## 1. Nitrogen Dioxide: \n",
        "**Source:** https://www.gov.uk/government/statistics/emissions-of-air-pollutants/emissions-of-air-pollutants-in-the-uk-nitrogen-oxides-nox \n",
        "\n",
        "In this section of this notebook, we will look at the measured value of Nitrogen dioxide levels in the air. Nitrogen dioxide, in the UK, mostly come from fuel combustion and is harmful to health. \n",
        "\n",
        "Short-term exposure to concentrations of NO2 can cause inflammation of the airways and increase susceptibility to respiratory infections and to allergens. NO2 can exacerbate the symptoms of those already suffering from lung or heart conditions. In addition, NOx can cause changes to the environment. Deposition of Nitrogen to the environment both directly as a gas (dry deposition) and in precipitation (wet deposition) can change soil chemistry and affect biodiversity in sensitive habitats.\n",
        "\n",
        "Nitrogen oxides are also precursors for the formation of ozone. Ozone is a gas which is also damaging to human health and can trigger inflammation of the respiratory tract, eyes, nose and throat as well as asthma attacks. Moreover, ozone can have adverse effects on the environment through oxidative damage to vegetation including crops.\n",
        "\n",
        "**Data:**\n",
        "\n",
        "There are over 1500 sites across the UK that monitor air quality. They are organised into networks that gather a particular kind of information, using a particular method. There are two major types - automatic and non-automatic networks. The Monitoring Networks section provides further network information. All the measurements from these monitoring stations are available to download data from the networks using the Data Selector Tool via Defra website.\n",
        "\n",
        "https://uk-air.defra.gov.uk/data/\n",
        "\n",
        "I have chosen to work with measured data from Chatham Roadside and Edinburgh St. Leonard street stations in this notebook. The functions and code in this notebook can be used to repeat the same analyses for data from any other monitoring stations in the UK.\n",
        "\n",
        "The following data files contains measured values of Nitrogen dioxide in the air collected at a roadside monitoring station at Chatham, Kent and St. Leonard's Street, Edinburgh. Access to data from these two air quality monitoring stations were obtained from DEFRA website (https://uk-air.defra.gov.uk/data/) and has been uploaded to my github. They can be found at: \n",
        "\n",
        "https://raw.githubusercontent.com/JaySanthanam/Programming-for-data/main/Datasets/NO2_Kent.csv\n",
        "\n",
        "https://raw.githubusercontent.com/JaySanthanam/Programming-for-data/main/Datasets/NO2_Edin.csv\n",
        "\n",
        "respectively.\n",
        "\n",
        "The datasets obtained from DEFRA contain:\n",
        "* a heading line (with station name) which will be skipped while loading the data and a separate column for each station will be created later when wrangling the dataframes to create a new dataset.\n",
        "* dates are given rather as texts (so need to be converted to dates)\n",
        "* times which are not all in the same format will also need to be converted to dates along with Date column.\n",
        "* Nitrogen Dioxide levels which are, again, text sometimes contain \"No data\". This column needs to be converted to a numeric column with null values instead or \"No data\".\n",
        "* Status which is always the same shows the unit of measurement for Nitrogen dioxide levels."
      ],
      "metadata": {
        "id": "8qnlsapq24Df"
      }
    },
    {
      "cell_type": "markdown",
      "source": [
        "### Read, clean, sort and wrangle the data and write it to Pandas dataframe.\n",
        "\n",
        "Read the dataset into a dataframe, skipping the first row   \n",
        "Convert dates to date format  \n",
        "Remove rows with 'No data' in the Nitrogen dioxide column  \n",
        "Convert the Nitrogen dioxide levels values to float type  \n",
        "Sort by Nitrogen dioxide level  \n",
        "Create a new column for 'Weekdays' (use df['Date'].dt.weekday)  \n",
        "Rename the column Nitrogen dioxide level to NO2 Level (V ug/m2)  \n",
        "Remove the Status column\n"
      ],
      "metadata": {
        "id": "SSvLiFnp4LjG"
      }
    },
    {
      "cell_type": "code",
      "source": [
        "import pandas as pd\n",
        "import numpy as np\n",
        "from datetime import datetime, timezone\n",
        "\n",
        "def get_csv_data(url):\n",
        "  data = pd.read_csv(url, skiprows=1)\n",
        "  return data\n",
        "\n",
        "def data_clean_wrangle(project_data):\n",
        "  project_data['Date'] =  pd.to_datetime(project_data['Date'], format= \"%d/%m/%Y\")\n",
        "  project_data[\"Nitrogen dioxide\"] = project_data[\"Nitrogen dioxide\"].replace('No data', np.nan)\n",
        "  project_data[\"Nitrogen dioxide\"] = pd.to_numeric(project_data[\"Nitrogen dioxide\"], downcast=\"float\")\n",
        "  project_data['Weekdays'] = project_data['Date'].dt.weekday\n",
        "  project_data['Day_of_the_week'] = project_data['Date'].dt.day_name()\n",
        "  project_data = project_data.rename(columns={\"Nitrogen dioxide\": \"NO2 Level (V ug/m2)\"})\n",
        "  project_data = project_data.drop(columns=['Status'])\n",
        "  return project_data\n",
        "\n",
        "url =  \"https://raw.githubusercontent.com/JaySanthanam/Programming-for-data/main/Datasets/NO2_Edin.csv\"\n",
        "data = get_csv_data(url)\n",
        "Edin_data = data_clean_wrangle(data)"
      ],
      "metadata": {
        "id": "txM4TIRUHhsJ"
      },
      "execution_count": 49,
      "outputs": []
    },
    {
      "cell_type": "markdown",
      "source": [
        "Did the data cleaning and sorting work?"
      ],
      "metadata": {
        "id": "vCtnPwKu9oKl"
      }
    },
    {
      "cell_type": "code",
      "source": [
        "print(Edin_data.info())"
      ],
      "metadata": {
        "id": "JBp9Frh-9rJ4",
        "outputId": "4adfbfa3-46ea-4960-b692-5f617d93ce92",
        "colab": {
          "base_uri": "https://localhost:8080/"
        }
      },
      "execution_count": 50,
      "outputs": [
        {
          "output_type": "stream",
          "name": "stdout",
          "text": [
            "<class 'pandas.core.frame.DataFrame'>\n",
            "RangeIndex: 35088 entries, 0 to 35087\n",
            "Data columns (total 5 columns):\n",
            " #   Column               Non-Null Count  Dtype         \n",
            "---  ------               --------------  -----         \n",
            " 0   Date                 35088 non-null  datetime64[ns]\n",
            " 1   Time                 35088 non-null  object        \n",
            " 2   NO2 Level (V ug/m2)  33014 non-null  float32       \n",
            " 3   Weekdays             35088 non-null  int64         \n",
            " 4   Day_of_the_week      35088 non-null  object        \n",
            "dtypes: datetime64[ns](1), float32(1), int64(1), object(2)\n",
            "memory usage: 1.2+ MB\n",
            "None\n"
          ]
        }
      ]
    },
    {
      "cell_type": "markdown",
      "source": [
        "Let us take a look at the dataset for Edinburgh."
      ],
      "metadata": {
        "id": "VpvVal76Tbsd"
      }
    },
    {
      "cell_type": "code",
      "source": [
        "print(Edin_data.head())"
      ],
      "metadata": {
        "id": "fmKLFIhHTaD9",
        "outputId": "31444869-d352-42a8-d363-08b3aa63d38d",
        "colab": {
          "base_uri": "https://localhost:8080/"
        }
      },
      "execution_count": 51,
      "outputs": [
        {
          "output_type": "stream",
          "name": "stdout",
          "text": [
            "        Date      Time  NO2 Level (V ug/m2)  Weekdays Day_of_the_week\n",
            "0 2017-03-01  01:00:00                  NaN         2       Wednesday\n",
            "1 2017-03-01  02:00:00                  NaN         2       Wednesday\n",
            "2 2017-03-01  03:00:00                  NaN         2       Wednesday\n",
            "3 2017-03-01  04:00:00                  NaN         2       Wednesday\n",
            "4 2017-03-01  05:00:00                  NaN         2       Wednesday\n"
          ]
        }
      ]
    },
    {
      "cell_type": "markdown",
      "source": [
        "Now let's repeat the same for Chatham data."
      ],
      "metadata": {
        "id": "yuPQLa0Q8WLx"
      }
    },
    {
      "cell_type": "code",
      "source": [
        "url =  \"https://raw.githubusercontent.com/JaySanthanam/Programming-for-data/main/Datasets/NO2_Kent.csv\"\n",
        "data = get_csv_data(url)\n",
        "chatham_data = data_clean_wrangle(data)"
      ],
      "metadata": {
        "id": "ijCBtCbx8b1s"
      },
      "execution_count": 52,
      "outputs": []
    },
    {
      "cell_type": "markdown",
      "source": [
        "Let's look at the data from Chatham."
      ],
      "metadata": {
        "id": "0D9vpymq84os"
      }
    },
    {
      "cell_type": "code",
      "source": [
        "print(chatham_data.shape)\n",
        "print(chatham_data.head())\n",
        "print(chatham_data.info())"
      ],
      "metadata": {
        "id": "h3vRJ-dk87Qz",
        "outputId": "d10997c5-0b23-47de-d02a-9a19aa3d090e",
        "colab": {
          "base_uri": "https://localhost:8080/"
        }
      },
      "execution_count": 53,
      "outputs": [
        {
          "output_type": "stream",
          "name": "stdout",
          "text": [
            "(35088, 5)\n",
            "        Date      Time  NO2 Level (V ug/m2)  Weekdays Day_of_the_week\n",
            "0 2017-03-01  01:00:00              4.41596         2       Wednesday\n",
            "1 2017-03-01  02:00:00              2.82604         2       Wednesday\n",
            "2 2017-03-01  03:00:00              3.31484         2       Wednesday\n",
            "3 2017-03-01  04:00:00              3.31149         2       Wednesday\n",
            "4 2017-03-01  05:00:00              5.53478         2       Wednesday\n",
            "<class 'pandas.core.frame.DataFrame'>\n",
            "RangeIndex: 35088 entries, 0 to 35087\n",
            "Data columns (total 5 columns):\n",
            " #   Column               Non-Null Count  Dtype         \n",
            "---  ------               --------------  -----         \n",
            " 0   Date                 35088 non-null  datetime64[ns]\n",
            " 1   Time                 35088 non-null  object        \n",
            " 2   NO2 Level (V ug/m2)  34588 non-null  float32       \n",
            " 3   Weekdays             35088 non-null  int64         \n",
            " 4   Day_of_the_week      35088 non-null  object        \n",
            "dtypes: datetime64[ns](1), float32(1), int64(1), object(2)\n",
            "memory usage: 1.2+ MB\n",
            "None\n"
          ]
        }
      ]
    },
    {
      "cell_type": "markdown",
      "source": [
        "Now let's put the two NO2 level datasets from Edinburgh and Chatham together into one dataframe. Since both of them have the same column names, let's rename them first."
      ],
      "metadata": {
        "id": "X1fPVNsfiliC"
      }
    },
    {
      "cell_type": "code",
      "source": [
        "Edin_data.rename(columns = {'NO2 Level (V ug/m2)':'Edin_NO2_Level'}, inplace = True)\n",
        "chatham_data.rename(columns = {'NO2 Level (V ug/m2)':'Chatham_NO2_Level'}, inplace = True)"
      ],
      "metadata": {
        "id": "PmNaWbK6-Yha"
      },
      "execution_count": 54,
      "outputs": []
    },
    {
      "cell_type": "markdown",
      "source": [
        "Next let's create a new dataframe Nitrogen_data."
      ],
      "metadata": {
        "id": "BhjZzfXeit6H"
      }
    },
    {
      "cell_type": "code",
      "source": [
        "Nitrogen_data = Edin_data.copy()\n",
        "Nitrogen_data['Chatham_NO2_Level'] = chatham_data['Chatham_NO2_Level']\n",
        "Nitrogen_data"
      ],
      "metadata": {
        "id": "vF1yGN8Z_VGV",
        "outputId": "debdc42a-d5e6-47e8-856a-b5fadfc3c37e",
        "colab": {
          "base_uri": "https://localhost:8080/",
          "height": 423
        }
      },
      "execution_count": 55,
      "outputs": [
        {
          "output_type": "execute_result",
          "data": {
            "text/plain": [
              "            Date      Time  Edin_NO2_Level  Weekdays Day_of_the_week  \\\n",
              "0     2017-03-01  01:00:00             NaN         2       Wednesday   \n",
              "1     2017-03-01  02:00:00             NaN         2       Wednesday   \n",
              "2     2017-03-01  03:00:00             NaN         2       Wednesday   \n",
              "3     2017-03-01  04:00:00             NaN         2       Wednesday   \n",
              "4     2017-03-01  05:00:00             NaN         2       Wednesday   \n",
              "...          ...       ...             ...       ...             ...   \n",
              "35083 2021-03-01  20:00:00             NaN         0          Monday   \n",
              "35084 2021-03-01  21:00:00             NaN         0          Monday   \n",
              "35085 2021-03-01  22:00:00             NaN         0          Monday   \n",
              "35086 2021-03-01  23:00:00             NaN         0          Monday   \n",
              "35087 2021-03-01  24:00:00             NaN         0          Monday   \n",
              "\n",
              "       Chatham_NO2_Level  \n",
              "0               4.415960  \n",
              "1               2.826040  \n",
              "2               3.314840  \n",
              "3               3.311490  \n",
              "4               5.534780  \n",
              "...                  ...  \n",
              "35083          22.479891  \n",
              "35084          18.130960  \n",
              "35085          25.372990  \n",
              "35086          24.558630  \n",
              "35087          31.273870  \n",
              "\n",
              "[35088 rows x 6 columns]"
            ],
            "text/html": [
              "\n",
              "  <div id=\"df-72cd9823-e139-4e72-a6ea-bf056a8fdc60\">\n",
              "    <div class=\"colab-df-container\">\n",
              "      <div>\n",
              "<style scoped>\n",
              "    .dataframe tbody tr th:only-of-type {\n",
              "        vertical-align: middle;\n",
              "    }\n",
              "\n",
              "    .dataframe tbody tr th {\n",
              "        vertical-align: top;\n",
              "    }\n",
              "\n",
              "    .dataframe thead th {\n",
              "        text-align: right;\n",
              "    }\n",
              "</style>\n",
              "<table border=\"1\" class=\"dataframe\">\n",
              "  <thead>\n",
              "    <tr style=\"text-align: right;\">\n",
              "      <th></th>\n",
              "      <th>Date</th>\n",
              "      <th>Time</th>\n",
              "      <th>Edin_NO2_Level</th>\n",
              "      <th>Weekdays</th>\n",
              "      <th>Day_of_the_week</th>\n",
              "      <th>Chatham_NO2_Level</th>\n",
              "    </tr>\n",
              "  </thead>\n",
              "  <tbody>\n",
              "    <tr>\n",
              "      <th>0</th>\n",
              "      <td>2017-03-01</td>\n",
              "      <td>01:00:00</td>\n",
              "      <td>NaN</td>\n",
              "      <td>2</td>\n",
              "      <td>Wednesday</td>\n",
              "      <td>4.415960</td>\n",
              "    </tr>\n",
              "    <tr>\n",
              "      <th>1</th>\n",
              "      <td>2017-03-01</td>\n",
              "      <td>02:00:00</td>\n",
              "      <td>NaN</td>\n",
              "      <td>2</td>\n",
              "      <td>Wednesday</td>\n",
              "      <td>2.826040</td>\n",
              "    </tr>\n",
              "    <tr>\n",
              "      <th>2</th>\n",
              "      <td>2017-03-01</td>\n",
              "      <td>03:00:00</td>\n",
              "      <td>NaN</td>\n",
              "      <td>2</td>\n",
              "      <td>Wednesday</td>\n",
              "      <td>3.314840</td>\n",
              "    </tr>\n",
              "    <tr>\n",
              "      <th>3</th>\n",
              "      <td>2017-03-01</td>\n",
              "      <td>04:00:00</td>\n",
              "      <td>NaN</td>\n",
              "      <td>2</td>\n",
              "      <td>Wednesday</td>\n",
              "      <td>3.311490</td>\n",
              "    </tr>\n",
              "    <tr>\n",
              "      <th>4</th>\n",
              "      <td>2017-03-01</td>\n",
              "      <td>05:00:00</td>\n",
              "      <td>NaN</td>\n",
              "      <td>2</td>\n",
              "      <td>Wednesday</td>\n",
              "      <td>5.534780</td>\n",
              "    </tr>\n",
              "    <tr>\n",
              "      <th>...</th>\n",
              "      <td>...</td>\n",
              "      <td>...</td>\n",
              "      <td>...</td>\n",
              "      <td>...</td>\n",
              "      <td>...</td>\n",
              "      <td>...</td>\n",
              "    </tr>\n",
              "    <tr>\n",
              "      <th>35083</th>\n",
              "      <td>2021-03-01</td>\n",
              "      <td>20:00:00</td>\n",
              "      <td>NaN</td>\n",
              "      <td>0</td>\n",
              "      <td>Monday</td>\n",
              "      <td>22.479891</td>\n",
              "    </tr>\n",
              "    <tr>\n",
              "      <th>35084</th>\n",
              "      <td>2021-03-01</td>\n",
              "      <td>21:00:00</td>\n",
              "      <td>NaN</td>\n",
              "      <td>0</td>\n",
              "      <td>Monday</td>\n",
              "      <td>18.130960</td>\n",
              "    </tr>\n",
              "    <tr>\n",
              "      <th>35085</th>\n",
              "      <td>2021-03-01</td>\n",
              "      <td>22:00:00</td>\n",
              "      <td>NaN</td>\n",
              "      <td>0</td>\n",
              "      <td>Monday</td>\n",
              "      <td>25.372990</td>\n",
              "    </tr>\n",
              "    <tr>\n",
              "      <th>35086</th>\n",
              "      <td>2021-03-01</td>\n",
              "      <td>23:00:00</td>\n",
              "      <td>NaN</td>\n",
              "      <td>0</td>\n",
              "      <td>Monday</td>\n",
              "      <td>24.558630</td>\n",
              "    </tr>\n",
              "    <tr>\n",
              "      <th>35087</th>\n",
              "      <td>2021-03-01</td>\n",
              "      <td>24:00:00</td>\n",
              "      <td>NaN</td>\n",
              "      <td>0</td>\n",
              "      <td>Monday</td>\n",
              "      <td>31.273870</td>\n",
              "    </tr>\n",
              "  </tbody>\n",
              "</table>\n",
              "<p>35088 rows × 6 columns</p>\n",
              "</div>\n",
              "      <button class=\"colab-df-convert\" onclick=\"convertToInteractive('df-72cd9823-e139-4e72-a6ea-bf056a8fdc60')\"\n",
              "              title=\"Convert this dataframe to an interactive table.\"\n",
              "              style=\"display:none;\">\n",
              "        \n",
              "  <svg xmlns=\"http://www.w3.org/2000/svg\" height=\"24px\"viewBox=\"0 0 24 24\"\n",
              "       width=\"24px\">\n",
              "    <path d=\"M0 0h24v24H0V0z\" fill=\"none\"/>\n",
              "    <path d=\"M18.56 5.44l.94 2.06.94-2.06 2.06-.94-2.06-.94-.94-2.06-.94 2.06-2.06.94zm-11 1L8.5 8.5l.94-2.06 2.06-.94-2.06-.94L8.5 2.5l-.94 2.06-2.06.94zm10 10l.94 2.06.94-2.06 2.06-.94-2.06-.94-.94-2.06-.94 2.06-2.06.94z\"/><path d=\"M17.41 7.96l-1.37-1.37c-.4-.4-.92-.59-1.43-.59-.52 0-1.04.2-1.43.59L10.3 9.45l-7.72 7.72c-.78.78-.78 2.05 0 2.83L4 21.41c.39.39.9.59 1.41.59.51 0 1.02-.2 1.41-.59l7.78-7.78 2.81-2.81c.8-.78.8-2.07 0-2.86zM5.41 20L4 18.59l7.72-7.72 1.47 1.35L5.41 20z\"/>\n",
              "  </svg>\n",
              "      </button>\n",
              "      \n",
              "  <style>\n",
              "    .colab-df-container {\n",
              "      display:flex;\n",
              "      flex-wrap:wrap;\n",
              "      gap: 12px;\n",
              "    }\n",
              "\n",
              "    .colab-df-convert {\n",
              "      background-color: #E8F0FE;\n",
              "      border: none;\n",
              "      border-radius: 50%;\n",
              "      cursor: pointer;\n",
              "      display: none;\n",
              "      fill: #1967D2;\n",
              "      height: 32px;\n",
              "      padding: 0 0 0 0;\n",
              "      width: 32px;\n",
              "    }\n",
              "\n",
              "    .colab-df-convert:hover {\n",
              "      background-color: #E2EBFA;\n",
              "      box-shadow: 0px 1px 2px rgba(60, 64, 67, 0.3), 0px 1px 3px 1px rgba(60, 64, 67, 0.15);\n",
              "      fill: #174EA6;\n",
              "    }\n",
              "\n",
              "    [theme=dark] .colab-df-convert {\n",
              "      background-color: #3B4455;\n",
              "      fill: #D2E3FC;\n",
              "    }\n",
              "\n",
              "    [theme=dark] .colab-df-convert:hover {\n",
              "      background-color: #434B5C;\n",
              "      box-shadow: 0px 1px 3px 1px rgba(0, 0, 0, 0.15);\n",
              "      filter: drop-shadow(0px 1px 2px rgba(0, 0, 0, 0.3));\n",
              "      fill: #FFFFFF;\n",
              "    }\n",
              "  </style>\n",
              "\n",
              "      <script>\n",
              "        const buttonEl =\n",
              "          document.querySelector('#df-72cd9823-e139-4e72-a6ea-bf056a8fdc60 button.colab-df-convert');\n",
              "        buttonEl.style.display =\n",
              "          google.colab.kernel.accessAllowed ? 'block' : 'none';\n",
              "\n",
              "        async function convertToInteractive(key) {\n",
              "          const element = document.querySelector('#df-72cd9823-e139-4e72-a6ea-bf056a8fdc60');\n",
              "          const dataTable =\n",
              "            await google.colab.kernel.invokeFunction('convertToInteractive',\n",
              "                                                     [key], {});\n",
              "          if (!dataTable) return;\n",
              "\n",
              "          const docLinkHtml = 'Like what you see? Visit the ' +\n",
              "            '<a target=\"_blank\" href=https://colab.research.google.com/notebooks/data_table.ipynb>data table notebook</a>'\n",
              "            + ' to learn more about interactive tables.';\n",
              "          element.innerHTML = '';\n",
              "          dataTable['output_type'] = 'display_data';\n",
              "          await google.colab.output.renderOutput(dataTable, element);\n",
              "          const docLink = document.createElement('div');\n",
              "          docLink.innerHTML = docLinkHtml;\n",
              "          element.appendChild(docLink);\n",
              "        }\n",
              "      </script>\n",
              "    </div>\n",
              "  </div>\n",
              "  "
            ]
          },
          "metadata": {},
          "execution_count": 55
        }
      ]
    },
    {
      "cell_type": "markdown",
      "source": [
        "Let's rearrange the columns so the two nitrogen levels are next to each other."
      ],
      "metadata": {
        "id": "NiHGtSXOi7X1"
      }
    },
    {
      "cell_type": "code",
      "source": [
        "Nitrogen_data = Nitrogen_data[['Date', 'Time', \"Edin_NO2_Level\", 'Chatham_NO2_Level', 'Weekdays', 'Day_of_the_week']]"
      ],
      "metadata": {
        "id": "NoNhOKWHBAMW"
      },
      "execution_count": 56,
      "outputs": []
    },
    {
      "cell_type": "markdown",
      "source": [
        "Let's now take a look at the new dataframe:"
      ],
      "metadata": {
        "id": "WZ-A5J4SjETJ"
      }
    },
    {
      "cell_type": "code",
      "source": [
        "Nitrogen_data.info()"
      ],
      "metadata": {
        "id": "IB7w5jSljIJJ",
        "outputId": "896bc8cd-d98a-441f-82e9-5484886a8bf1",
        "colab": {
          "base_uri": "https://localhost:8080/"
        }
      },
      "execution_count": 57,
      "outputs": [
        {
          "output_type": "stream",
          "name": "stdout",
          "text": [
            "<class 'pandas.core.frame.DataFrame'>\n",
            "RangeIndex: 35088 entries, 0 to 35087\n",
            "Data columns (total 6 columns):\n",
            " #   Column             Non-Null Count  Dtype         \n",
            "---  ------             --------------  -----         \n",
            " 0   Date               35088 non-null  datetime64[ns]\n",
            " 1   Time               35088 non-null  object        \n",
            " 2   Edin_NO2_Level     33014 non-null  float32       \n",
            " 3   Chatham_NO2_Level  34588 non-null  float32       \n",
            " 4   Weekdays           35088 non-null  int64         \n",
            " 5   Day_of_the_week    35088 non-null  object        \n",
            "dtypes: datetime64[ns](1), float32(2), int64(1), object(2)\n",
            "memory usage: 1.3+ MB\n"
          ]
        }
      ]
    },
    {
      "cell_type": "markdown",
      "source": [
        "We have null values in both NO2 levels columns. This will make it difficult for further analyses. So, let's get rid of the null values in both NO2 columns.\n"
      ],
      "metadata": {
        "id": "yNv1vCCrjaQp"
      }
    },
    {
      "cell_type": "code",
      "source": [
        "Nitrogen_data = Nitrogen_data.dropna(subset = [\"Edin_NO2_Level\", 'Chatham_NO2_Level'])"
      ],
      "metadata": {
        "id": "LVCpVF2LAMcy"
      },
      "execution_count": 58,
      "outputs": []
    },
    {
      "cell_type": "markdown",
      "source": [
        "Now that the null values are gone, let's get some basic statistics."
      ],
      "metadata": {
        "id": "UmZQFbJij5kO"
      }
    },
    {
      "cell_type": "code",
      "source": [
        "Nitrogen_data.describe()"
      ],
      "metadata": {
        "id": "JWduWoWyApts",
        "outputId": "0dc5905e-77cb-459a-eb05-603308a71829",
        "colab": {
          "base_uri": "https://localhost:8080/",
          "height": 300
        }
      },
      "execution_count": 59,
      "outputs": [
        {
          "output_type": "execute_result",
          "data": {
            "text/plain": [
              "       Edin_NO2_Level  Chatham_NO2_Level      Weekdays\n",
              "count    32565.000000       32565.000000  32565.000000\n",
              "mean        17.858732          22.502911      3.024628\n",
              "std         14.722378          14.758221      2.002718\n",
              "min          0.103840           0.054630      0.000000\n",
              "25%          7.388240          11.140810      1.000000\n",
              "50%         13.457740          19.195709      3.000000\n",
              "75%         23.722401          30.881430      5.000000\n",
              "max        108.297943         113.061890      6.000000"
            ],
            "text/html": [
              "\n",
              "  <div id=\"df-68dd4e56-75eb-4dcc-ac77-fcd7d81f41ff\">\n",
              "    <div class=\"colab-df-container\">\n",
              "      <div>\n",
              "<style scoped>\n",
              "    .dataframe tbody tr th:only-of-type {\n",
              "        vertical-align: middle;\n",
              "    }\n",
              "\n",
              "    .dataframe tbody tr th {\n",
              "        vertical-align: top;\n",
              "    }\n",
              "\n",
              "    .dataframe thead th {\n",
              "        text-align: right;\n",
              "    }\n",
              "</style>\n",
              "<table border=\"1\" class=\"dataframe\">\n",
              "  <thead>\n",
              "    <tr style=\"text-align: right;\">\n",
              "      <th></th>\n",
              "      <th>Edin_NO2_Level</th>\n",
              "      <th>Chatham_NO2_Level</th>\n",
              "      <th>Weekdays</th>\n",
              "    </tr>\n",
              "  </thead>\n",
              "  <tbody>\n",
              "    <tr>\n",
              "      <th>count</th>\n",
              "      <td>32565.000000</td>\n",
              "      <td>32565.000000</td>\n",
              "      <td>32565.000000</td>\n",
              "    </tr>\n",
              "    <tr>\n",
              "      <th>mean</th>\n",
              "      <td>17.858732</td>\n",
              "      <td>22.502911</td>\n",
              "      <td>3.024628</td>\n",
              "    </tr>\n",
              "    <tr>\n",
              "      <th>std</th>\n",
              "      <td>14.722378</td>\n",
              "      <td>14.758221</td>\n",
              "      <td>2.002718</td>\n",
              "    </tr>\n",
              "    <tr>\n",
              "      <th>min</th>\n",
              "      <td>0.103840</td>\n",
              "      <td>0.054630</td>\n",
              "      <td>0.000000</td>\n",
              "    </tr>\n",
              "    <tr>\n",
              "      <th>25%</th>\n",
              "      <td>7.388240</td>\n",
              "      <td>11.140810</td>\n",
              "      <td>1.000000</td>\n",
              "    </tr>\n",
              "    <tr>\n",
              "      <th>50%</th>\n",
              "      <td>13.457740</td>\n",
              "      <td>19.195709</td>\n",
              "      <td>3.000000</td>\n",
              "    </tr>\n",
              "    <tr>\n",
              "      <th>75%</th>\n",
              "      <td>23.722401</td>\n",
              "      <td>30.881430</td>\n",
              "      <td>5.000000</td>\n",
              "    </tr>\n",
              "    <tr>\n",
              "      <th>max</th>\n",
              "      <td>108.297943</td>\n",
              "      <td>113.061890</td>\n",
              "      <td>6.000000</td>\n",
              "    </tr>\n",
              "  </tbody>\n",
              "</table>\n",
              "</div>\n",
              "      <button class=\"colab-df-convert\" onclick=\"convertToInteractive('df-68dd4e56-75eb-4dcc-ac77-fcd7d81f41ff')\"\n",
              "              title=\"Convert this dataframe to an interactive table.\"\n",
              "              style=\"display:none;\">\n",
              "        \n",
              "  <svg xmlns=\"http://www.w3.org/2000/svg\" height=\"24px\"viewBox=\"0 0 24 24\"\n",
              "       width=\"24px\">\n",
              "    <path d=\"M0 0h24v24H0V0z\" fill=\"none\"/>\n",
              "    <path d=\"M18.56 5.44l.94 2.06.94-2.06 2.06-.94-2.06-.94-.94-2.06-.94 2.06-2.06.94zm-11 1L8.5 8.5l.94-2.06 2.06-.94-2.06-.94L8.5 2.5l-.94 2.06-2.06.94zm10 10l.94 2.06.94-2.06 2.06-.94-2.06-.94-.94-2.06-.94 2.06-2.06.94z\"/><path d=\"M17.41 7.96l-1.37-1.37c-.4-.4-.92-.59-1.43-.59-.52 0-1.04.2-1.43.59L10.3 9.45l-7.72 7.72c-.78.78-.78 2.05 0 2.83L4 21.41c.39.39.9.59 1.41.59.51 0 1.02-.2 1.41-.59l7.78-7.78 2.81-2.81c.8-.78.8-2.07 0-2.86zM5.41 20L4 18.59l7.72-7.72 1.47 1.35L5.41 20z\"/>\n",
              "  </svg>\n",
              "      </button>\n",
              "      \n",
              "  <style>\n",
              "    .colab-df-container {\n",
              "      display:flex;\n",
              "      flex-wrap:wrap;\n",
              "      gap: 12px;\n",
              "    }\n",
              "\n",
              "    .colab-df-convert {\n",
              "      background-color: #E8F0FE;\n",
              "      border: none;\n",
              "      border-radius: 50%;\n",
              "      cursor: pointer;\n",
              "      display: none;\n",
              "      fill: #1967D2;\n",
              "      height: 32px;\n",
              "      padding: 0 0 0 0;\n",
              "      width: 32px;\n",
              "    }\n",
              "\n",
              "    .colab-df-convert:hover {\n",
              "      background-color: #E2EBFA;\n",
              "      box-shadow: 0px 1px 2px rgba(60, 64, 67, 0.3), 0px 1px 3px 1px rgba(60, 64, 67, 0.15);\n",
              "      fill: #174EA6;\n",
              "    }\n",
              "\n",
              "    [theme=dark] .colab-df-convert {\n",
              "      background-color: #3B4455;\n",
              "      fill: #D2E3FC;\n",
              "    }\n",
              "\n",
              "    [theme=dark] .colab-df-convert:hover {\n",
              "      background-color: #434B5C;\n",
              "      box-shadow: 0px 1px 3px 1px rgba(0, 0, 0, 0.15);\n",
              "      filter: drop-shadow(0px 1px 2px rgba(0, 0, 0, 0.3));\n",
              "      fill: #FFFFFF;\n",
              "    }\n",
              "  </style>\n",
              "\n",
              "      <script>\n",
              "        const buttonEl =\n",
              "          document.querySelector('#df-68dd4e56-75eb-4dcc-ac77-fcd7d81f41ff button.colab-df-convert');\n",
              "        buttonEl.style.display =\n",
              "          google.colab.kernel.accessAllowed ? 'block' : 'none';\n",
              "\n",
              "        async function convertToInteractive(key) {\n",
              "          const element = document.querySelector('#df-68dd4e56-75eb-4dcc-ac77-fcd7d81f41ff');\n",
              "          const dataTable =\n",
              "            await google.colab.kernel.invokeFunction('convertToInteractive',\n",
              "                                                     [key], {});\n",
              "          if (!dataTable) return;\n",
              "\n",
              "          const docLinkHtml = 'Like what you see? Visit the ' +\n",
              "            '<a target=\"_blank\" href=https://colab.research.google.com/notebooks/data_table.ipynb>data table notebook</a>'\n",
              "            + ' to learn more about interactive tables.';\n",
              "          element.innerHTML = '';\n",
              "          dataTable['output_type'] = 'display_data';\n",
              "          await google.colab.output.renderOutput(dataTable, element);\n",
              "          const docLink = document.createElement('div');\n",
              "          docLink.innerHTML = docLinkHtml;\n",
              "          element.appendChild(docLink);\n",
              "        }\n",
              "      </script>\n",
              "    </div>\n",
              "  </div>\n",
              "  "
            ]
          },
          "metadata": {},
          "execution_count": 59
        }
      ]
    },
    {
      "cell_type": "code",
      "source": [
        "Nitrogen_data['Time'] = Nitrogen_data['Time'].str.replace('24:00', '0:00')\n",
        "Nitrogen_data['Time'] = pd.to_datetime(Nitrogen_data['Time'], format='%H:%M:%S')\n",
        "Nitrogen_data['Time'] = Nitrogen_data['Time'].dt.time"
      ],
      "metadata": {
        "id": "5O4igve1-9jY"
      },
      "execution_count": 87,
      "outputs": []
    },
    {
      "cell_type": "code",
      "source": [
        "import matplotlib.pyplot as plt\n",
        "import matplotlib.dates as mdates\n",
        "\n",
        "fig, ax1 = plt.subplots(figsize=(20, 12))\n",
        "ax1.set(xlabel='Date', ylabel='NO2 Level (V ug/m2)')\n",
        "ax1.plot(Nitrogen_data[\"Date\"], Nitrogen_data.Chatham_NO2_Level, color='g')\n",
        "ax1.plot(Nitrogen_data[\"Date\"], Nitrogen_data.Edin_NO2_Level, color='b')\n",
        "\n",
        "ax1.xaxis.set(\n",
        "    major_formatter=mdates.DateFormatter(\"\\n\\n%m/%Y\"),\n",
        ")\n",
        "\n",
        "plt.show()"
      ],
      "metadata": {
        "id": "czjst61m95Pe",
        "outputId": "1f9d064b-60e1-4cd0-baf1-f616a885a808",
        "colab": {
          "base_uri": "https://localhost:8080/",
          "height": 743
        }
      },
      "execution_count": 104,
      "outputs": [
        {
          "output_type": "display_data",
          "data": {
            "text/plain": [
              "<Figure size 1440x864 with 1 Axes>"
            ],
            "image/png": "[encoded data removed]"
          },
          "metadata": {}
        }
      ]
    },
    {
      "cell_type": "code",
      "source": [
        "import seaborn as sns\n"
      ],
      "metadata": {
        "id": "78wXMnGm5IUW"
      },
      "execution_count": 79,
      "outputs": []
    },
    {
      "cell_type": "markdown",
      "source": [
        "We see that from the descriptive statistics results, above, the over all mean is higher at Chatham compared to Edinburgh and so is the maximum value. But how does each value compare between the two? For this, we will use `.gt()` function. If NO2 level is higher than Chatham, we will get a true if not it will be a false. \n"
      ],
      "metadata": {
        "id": "coZ28LUpksv-"
      }
    },
    {
      "cell_type": "code",
      "source": [
        "Nitrogen_data['Bool_comparison'] = Nitrogen_data['Chatham_NO2_Level'].gt(Nitrogen_data['Edin_NO2_Level'])"
      ],
      "metadata": {
        "id": "fmXqUIRYloPt"
      },
      "execution_count": 60,
      "outputs": []
    },
    {
      "cell_type": "code",
      "source": [
        "Nitrogen_data['Bool_comparison']"
      ],
      "metadata": {
        "id": "2LW3OcNtl8wT",
        "outputId": "8db71162-c4fe-44b3-aff4-5a50303b890b",
        "colab": {
          "base_uri": "https://localhost:8080/"
        }
      },
      "execution_count": 63,
      "outputs": [
        {
          "output_type": "execute_result",
          "data": {
            "text/plain": [
              "8         True\n",
              "9        False\n",
              "10        True\n",
              "12        True\n",
              "13       False\n",
              "         ...  \n",
              "34948     True\n",
              "34949     True\n",
              "34950     True\n",
              "34951     True\n",
              "34952     True\n",
              "Name: Bool_comparison, Length: 32565, dtype: bool"
            ]
          },
          "metadata": {},
          "execution_count": 63
        }
      ]
    },
    {
      "cell_type": "code",
      "source": [
        "def do_count_plot(x, y):\n",
        "  sns.set(rc={'figure.figsize':(20,10)})\n",
        "  order = [\"Monday\", \"Tuesday\", \"Wednesday\", \"Thursday\", \"Friday\", \"Saturday\", \"Sunday\"]\n",
        "  sns.countplot(x=x, data = y, order = order)\n",
        "  return\n",
        "\n",
        "do_count_plot(Nitrogen_data.Day_of_the_week, Nitrogen_data.Bool_comparison)"
      ],
      "metadata": {
        "id": "G3RPHzghs5Cf",
        "outputId": "48808556-6218-4a91-acaf-0c29e1f708e7",
        "colab": {
          "base_uri": "https://localhost:8080/",
          "height": 615
        }
      },
      "execution_count": 78,
      "outputs": [
        {
          "output_type": "display_data",
          "data": {
            "text/plain": [
              "<Figure size 1440x720 with 1 Axes>"
            ],
            "image/png": "[encoded data removed]"
          },
          "metadata": {}
        }
      ]
    },
    {
      "cell_type": "markdown",
      "source": [
        "### Expand the dataset and show summary statistics for larger dataset\n",
        "---\n",
        "\n",
        "There is a second data set here covering the year 2021:  https://drive.google.com/uc?id=1aYmBf9il2dWA-EROvbYRCZ1rU2t7JwvJ  \n",
        "\n",
        "Concatenate the two datasets to expand it to 2020 and 2021.  \n",
        "\n",
        "Before you can concatenate the datasets you will need to clean and wrangle the second dataset in the same way as the first.  Use the code cell below.  Give the second dataset a different name. \n",
        "\n",
        "After the datasets have been concatenated, group the data by Weekdays and show summary statistics by day of the week."
      ],
      "metadata": {
        "id": "jnzAnbsmHk4B"
      }
    },
    {
      "cell_type": "code",
      "source": [
        "url =  \"https://drive.google.com/uc?id=1aYmBf9il2dWA-EROvbYRCZ1rU2t7JwvJ\"\n",
        "project_data2 = pd.read_csv(url, skiprows=1)\n",
        "project_data2_sorted = data_clean_wrangle(project_data2)\n",
        "project_data_combined = pd.concat([project_data_sorted,project_data2_sorted], join='inner', ignore_index=True)\n",
        "project_data_combined = project_data_combined.sort_values(by=['Weekdays'])\n",
        "print(project_data_combined.groupby(by=[\"Weekdays\"])[[\"NO2 Level (V ug/m2)\"]].describe())\n",
        "#print(project_data_combined.shape)\n",
        "#print(project_data_combined.head())"
      ],
      "metadata": {
        "id": "Gz4u6trsIQJ6",
        "outputId": "de053520-88f2-4135-957e-142b055f4a4f",
        "colab": {
          "base_uri": "https://localhost:8080/",
          "height": 294
        }
      },
      "execution_count": 12,
      "outputs": [
        {
          "output_type": "error",
          "ename": "ValueError",
          "evalue": "ignored",
          "traceback": [
            "\u001b[0;31m---------------------------------------------------------------------------\u001b[0m",
            "\u001b[0;31mValueError\u001b[0m                                Traceback (most recent call last)",
            "\u001b[0;32m/usr/local/lib/python3.7/dist-packages/pandas/_libs/lib.pyx\u001b[0m in \u001b[0;36mpandas._libs.lib.maybe_convert_numeric\u001b[0;34m()\u001b[0m\n",
            "\u001b[0;31mValueError\u001b[0m: Unable to parse string \"nodata\"",
            "\nDuring handling of the above exception, another exception occurred:\n",
            "\u001b[0;31mValueError\u001b[0m                                Traceback (most recent call last)",
            "\u001b[0;32m<ipython-input-12-7a8fd90764fc>\u001b[0m in \u001b[0;36m<module>\u001b[0;34m()\u001b[0m\n\u001b[1;32m      1\u001b[0m \u001b[0murl\u001b[0m \u001b[0;34m=\u001b[0m  \u001b[0;34m\"https://drive.google.com/uc?id=1aYmBf9il2dWA-EROvbYRCZ1rU2t7JwvJ\"\u001b[0m\u001b[0;34m\u001b[0m\u001b[0;34m\u001b[0m\u001b[0m\n\u001b[1;32m      2\u001b[0m \u001b[0mproject_data2\u001b[0m \u001b[0;34m=\u001b[0m \u001b[0mpd\u001b[0m\u001b[0;34m.\u001b[0m\u001b[0mread_csv\u001b[0m\u001b[0;34m(\u001b[0m\u001b[0murl\u001b[0m\u001b[0;34m,\u001b[0m \u001b[0mskiprows\u001b[0m\u001b[0;34m=\u001b[0m\u001b[0;36m1\u001b[0m\u001b[0;34m)\u001b[0m\u001b[0;34m\u001b[0m\u001b[0;34m\u001b[0m\u001b[0m\n\u001b[0;32m----> 3\u001b[0;31m \u001b[0mproject_data2_sorted\u001b[0m \u001b[0;34m=\u001b[0m \u001b[0mdata_clean_wrangle\u001b[0m\u001b[0;34m(\u001b[0m\u001b[0mproject_data2\u001b[0m\u001b[0;34m)\u001b[0m\u001b[0;34m\u001b[0m\u001b[0;34m\u001b[0m\u001b[0m\n\u001b[0m\u001b[1;32m      4\u001b[0m \u001b[0mproject_data_combined\u001b[0m \u001b[0;34m=\u001b[0m \u001b[0mpd\u001b[0m\u001b[0;34m.\u001b[0m\u001b[0mconcat\u001b[0m\u001b[0;34m(\u001b[0m\u001b[0;34m[\u001b[0m\u001b[0mproject_data_sorted\u001b[0m\u001b[0;34m,\u001b[0m\u001b[0mproject_data2_sorted\u001b[0m\u001b[0;34m]\u001b[0m\u001b[0;34m,\u001b[0m \u001b[0mjoin\u001b[0m\u001b[0;34m=\u001b[0m\u001b[0;34m'inner'\u001b[0m\u001b[0;34m,\u001b[0m \u001b[0mignore_index\u001b[0m\u001b[0;34m=\u001b[0m\u001b[0;32mTrue\u001b[0m\u001b[0;34m)\u001b[0m\u001b[0;34m\u001b[0m\u001b[0;34m\u001b[0m\u001b[0m\n\u001b[1;32m      5\u001b[0m \u001b[0mproject_data_combined\u001b[0m \u001b[0;34m=\u001b[0m \u001b[0mproject_data_combined\u001b[0m\u001b[0;34m.\u001b[0m\u001b[0msort_values\u001b[0m\u001b[0;34m(\u001b[0m\u001b[0mby\u001b[0m\u001b[0;34m=\u001b[0m\u001b[0;34m[\u001b[0m\u001b[0;34m'Weekdays'\u001b[0m\u001b[0;34m]\u001b[0m\u001b[0;34m)\u001b[0m\u001b[0;34m\u001b[0m\u001b[0;34m\u001b[0m\u001b[0m\n",
            "\u001b[0;32m<ipython-input-1-9079f994633c>\u001b[0m in \u001b[0;36mdata_clean_wrangle\u001b[0;34m(project_data)\u001b[0m\n\u001b[1;32m     11\u001b[0m   \u001b[0mproject_data\u001b[0m\u001b[0;34m[\u001b[0m\u001b[0;34m\"Nitrogen dioxide\"\u001b[0m\u001b[0;34m]\u001b[0m \u001b[0;34m=\u001b[0m \u001b[0mproject_data\u001b[0m\u001b[0;34m[\u001b[0m\u001b[0;34m\"Nitrogen dioxide\"\u001b[0m\u001b[0;34m]\u001b[0m\u001b[0;34m.\u001b[0m\u001b[0mreplace\u001b[0m\u001b[0;34m(\u001b[0m\u001b[0;34m'No data'\u001b[0m\u001b[0;34m,\u001b[0m \u001b[0mnp\u001b[0m\u001b[0;34m.\u001b[0m\u001b[0mnan\u001b[0m\u001b[0;34m)\u001b[0m\u001b[0;34m\u001b[0m\u001b[0;34m\u001b[0m\u001b[0m\n\u001b[1;32m     12\u001b[0m  \u001b[0;31m# project_data = project_data.dropna(subset = [\"Nitrogen dioxide\"])\u001b[0m\u001b[0;34m\u001b[0m\u001b[0;34m\u001b[0m\u001b[0;34m\u001b[0m\u001b[0m\n\u001b[0;32m---> 13\u001b[0;31m   \u001b[0mproject_data\u001b[0m\u001b[0;34m[\u001b[0m\u001b[0;34m\"Nitrogen dioxide\"\u001b[0m\u001b[0;34m]\u001b[0m \u001b[0;34m=\u001b[0m \u001b[0mpd\u001b[0m\u001b[0;34m.\u001b[0m\u001b[0mto_numeric\u001b[0m\u001b[0;34m(\u001b[0m\u001b[0mproject_data\u001b[0m\u001b[0;34m[\u001b[0m\u001b[0;34m\"Nitrogen dioxide\"\u001b[0m\u001b[0;34m]\u001b[0m\u001b[0;34m,\u001b[0m \u001b[0mdowncast\u001b[0m\u001b[0;34m=\u001b[0m\u001b[0;34m\"float\"\u001b[0m\u001b[0;34m)\u001b[0m\u001b[0;34m\u001b[0m\u001b[0;34m\u001b[0m\u001b[0m\n\u001b[0m\u001b[1;32m     14\u001b[0m  \u001b[0;31m# project_data = project_data.sort_values(by=['Nitrogen dioxide'])\u001b[0m\u001b[0;34m\u001b[0m\u001b[0;34m\u001b[0m\u001b[0;34m\u001b[0m\u001b[0m\n\u001b[1;32m     15\u001b[0m   \u001b[0mproject_data\u001b[0m\u001b[0;34m[\u001b[0m\u001b[0;34m'Weekdays'\u001b[0m\u001b[0;34m]\u001b[0m \u001b[0;34m=\u001b[0m \u001b[0mproject_data\u001b[0m\u001b[0;34m[\u001b[0m\u001b[0;34m'Date'\u001b[0m\u001b[0;34m]\u001b[0m\u001b[0;34m.\u001b[0m\u001b[0mdt\u001b[0m\u001b[0;34m.\u001b[0m\u001b[0mweekday\u001b[0m\u001b[0;34m\u001b[0m\u001b[0;34m\u001b[0m\u001b[0m\n",
            "\u001b[0;32m/usr/local/lib/python3.7/dist-packages/pandas/core/tools/numeric.py\u001b[0m in \u001b[0;36mto_numeric\u001b[0;34m(arg, errors, downcast)\u001b[0m\n\u001b[1;32m    182\u001b[0m         \u001b[0;32mtry\u001b[0m\u001b[0;34m:\u001b[0m\u001b[0;34m\u001b[0m\u001b[0;34m\u001b[0m\u001b[0m\n\u001b[1;32m    183\u001b[0m             values, _ = lib.maybe_convert_numeric(\n\u001b[0;32m--> 184\u001b[0;31m                 \u001b[0mvalues\u001b[0m\u001b[0;34m,\u001b[0m \u001b[0mset\u001b[0m\u001b[0;34m(\u001b[0m\u001b[0;34m)\u001b[0m\u001b[0;34m,\u001b[0m \u001b[0mcoerce_numeric\u001b[0m\u001b[0;34m=\u001b[0m\u001b[0mcoerce_numeric\u001b[0m\u001b[0;34m\u001b[0m\u001b[0;34m\u001b[0m\u001b[0m\n\u001b[0m\u001b[1;32m    185\u001b[0m             )\n\u001b[1;32m    186\u001b[0m         \u001b[0;32mexcept\u001b[0m \u001b[0;34m(\u001b[0m\u001b[0mValueError\u001b[0m\u001b[0;34m,\u001b[0m \u001b[0mTypeError\u001b[0m\u001b[0;34m)\u001b[0m\u001b[0;34m:\u001b[0m\u001b[0;34m\u001b[0m\u001b[0;34m\u001b[0m\u001b[0m\n",
            "\u001b[0;32m/usr/local/lib/python3.7/dist-packages/pandas/_libs/lib.pyx\u001b[0m in \u001b[0;36mpandas._libs.lib.maybe_convert_numeric\u001b[0;34m()\u001b[0m\n",
            "\u001b[0;31mValueError\u001b[0m: Unable to parse string \"nodata\" at position 297"
          ]
        }
      ]
    },
    {
      "cell_type": "markdown",
      "source": [
        "### Helpful references\n",
        "---\n",
        "Skipping rows when reading datasets:  \n",
        "https://www.geeksforgeeks.org/how-to-skip-rows-while-reading-csv-file-using-pandas/  \n",
        "\n",
        "Converting strings to dates:  \n",
        "https://www.geeksforgeeks.org/convert-the-column-type-from-string-to-datetime-format-in-pandas-dataframe/\n",
        "\n",
        "Dropping rows where data has a given value:  \n",
        "https://www.datasciencemadesimple.com/drop-delete-rows-conditions-python-pandas/  \n",
        "(see section Drop a row or observation by condition) \n",
        "\n",
        "Convert a column of strings to a column of floats:\n",
        "https://datatofish.com/convert-string-to-float-dataframe/  \n",
        "\n",
        "Create a new column from data converted in an existing column:  \n",
        "https://www.geeksforgeeks.org/create-a-new-column-in-pandas-dataframe-based-on-the-existing-columns/  \n",
        "\n",
        "Rename a column:  \n",
        "https://pandas.pydata.org/docs/reference/api/pandas.DataFrame.rename.html  \n",
        "\n",
        "Remove a column by name:  \n",
        "https://www.kite.com/python/answers/how-to-delete-columns-from-a-pandas-%60dataframe%60-by-column-name-in-python#:~:text=Use%20the%20del%20keyword%20to,the%20name%20column_name%20from%20DataFrame%20.\n"
      ],
      "metadata": {
        "id": "hkj-Ofus_D6_"
      }
    }
  ]
}