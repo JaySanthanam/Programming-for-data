{
  "nbformat": 4,
  "nbformat_minor": 0,
  "metadata": {
    "colab": {
      "name": "Air quality Data.ipynb",
      "provenance": [],
      "collapsed_sections": [],
      "include_colab_link": true
    },
    "kernelspec": {
      "name": "python3",
      "display_name": "Python 3"
    },
    "language_info": {
      "name": "python"
    }
  },
  "cells": [
    {
      "cell_type": "markdown",
      "metadata": {
        "id": "view-in-github",
        "colab_type": "text"
      },
      "source": [
        "<a href=\"https://colab.research.google.com/github/JaySanthanam/Programming-for-data/blob/main/Projects/Work_in_progress/Air_quality_Analyses.ipynb\" target=\"_parent\"><img src=\"https://colab.research.google.com/assets/colab-badge.svg\" alt=\"Open In Colab\"/></a>"
      ]
    },
    {
      "cell_type": "markdown",
      "source": [
        "# **Air Quality Data**\n",
        "\n",
        "This notebook documents my work on Air Quality data using Python. We will be using air-quality measurement, particularly, Nitrogen dioxide levels and Particulate Matter (PM10) data from Chatham roadside and Edinburgh measuring centres and use python to retrieve, wrangle, clean, sort and filter the data, analyse and visualise the data to make conclusions on the air quality levels in these two places. The analyses in this notebook looks at Nitrogen dioxide levels and PM10 in these two places and can be repeated for any other pollutants and/or places.\n",
        "\n",
        "The first part of the notebook documents my work on air quality data on Nitrogen dioxide measurements from Chatham Roadside, Kent Edinburgh Haymarket area and St. Leonard's street. The second part of the notebook documents my work on PM10 from Chatham Roadside and Edinburgh St. Leonard's street."
      ],
      "metadata": {
        "id": "7roA3ccObfnp"
      }
    },
    {
      "cell_type": "markdown",
      "source": [
        "##What is Air quality and what data is available on it?\n",
        "**Source:** Department for Environment Food and Rural affairs (Defra), UK: https://uk-air.defra.gov.uk/air-pollution/\n",
        "\n",
        "Air pollution can cause both short term and long term effects on health and many people are concerned about pollution in the air that they breathe. \n",
        "\n",
        "These people may include:\n",
        "\n",
        "* People with heart or lung conditions, or other breathing problems, whose health may be affected by air pollution.\n",
        "* Parents, carers and healthcare professionals who look after someone whose health is sensitive to pollution.\n",
        "* People who want to know more about air pollution, its causes, and what they can do to help reduce it.\n",
        "* The scientific community and students, who may need data on air pollution levels, either now or in the past, throughout the UK.\n",
        "\n",
        "Free, detailed, clear and easy to use information on air pollution in the UK is available for all these purposes at UK's Defra, website on air pollution (link above)."
      ],
      "metadata": {
        "id": "BsstcDyddXNC"
      }
    },
    {
      "cell_type": "markdown",
      "source": [
        "## 1. Nitrogen Dioxide: \n",
        "**Source:** https://www.gov.uk/government/statistics/emissions-of-air-pollutants/emissions-of-air-pollutants-in-the-uk-nitrogen-oxides-nox \n",
        "\n",
        "In this section of this notebook, we will look at the measured value of Nitrogen dioxide levels in the air. Nitrogen dioxide, in the UK, mostly come from fuel combustion and is harmful to health. \n",
        "\n",
        "Short-term exposure to concentrations of NO2 can cause inflammation of the airways and increase susceptibility to respiratory infections and to allergens. NO2 can exacerbate the symptoms of those already suffering from lung or heart conditions. In addition, NOx can cause changes to the environment. Deposition of Nitrogen to the environment both directly as a gas (dry deposition) and in precipitation (wet deposition) can change soil chemistry and affect biodiversity in sensitive habitats.\n",
        "\n",
        "Nitrogen oxides are also precursors for the formation of ozone. Ozone is a gas which is also damaging to human health and can trigger inflammation of the respiratory tract, eyes, nose and throat as well as asthma attacks. Moreover, ozone can have adverse effects on the environment through oxidative damage to vegetation including crops.\n",
        "\n",
        "**Data:**\n",
        "\n",
        "There are over 1500 sites across the UK that monitor air quality. They are organised into networks that gather a particular kind of information, using a particular method. There are two major types - automatic and non-automatic networks. The Monitoring Networks section provides further network information. All the measurements from these monitoring stations are available to download data from the networks using the Data Selector Tool via Defra website.\n",
        "\n",
        "https://uk-air.defra.gov.uk/data/\n",
        "\n",
        "I have chosen to work with measured data from Chatham Roadside and Edinburgh St. Leonard street stations in this notebook. The functions and code in this notebook can be used to repeat the same analyses for data from any other monitoring stations in the UK.\n",
        "\n",
        "The following data files contains measured values of Nitrogen dioxide in the air collected at a roadside monitoring station at Chatham, Kent and St. Leonard's Street, Edinburgh. Access to data from these two air quality monitoring stations were obtained from DEFRA website (https://uk-air.defra.gov.uk/data/) and has been uploaded to my github. They can be found at: \n",
        "\n",
        "https://raw.githubusercontent.com/JaySanthanam/Programming-for-data/main/Datasets/NO2_Kent.csv\n",
        "\n",
        "https://raw.githubusercontent.com/JaySanthanam/Programming-for-data/main/Datasets/NO2_Edin.csv\n",
        "\n",
        "respectively.\n",
        "\n",
        "The datasets obtained from DEFRA contain:\n",
        "* a heading line (with station name) which will be skipped while loading the data and a separate column for each station will be created later when wrangling the dataframes to create a new dataset.\n",
        "* dates are given rather as texts (so need to be converted to dates)\n",
        "* times which are not all in the same format will also need to be converted to dates along with Date column.\n",
        "* Nitrogen Dioxide levels which are, again, text sometimes contain \"No data\". This column needs to be converted to a numeric column with null values instead or \"No data\".\n",
        "* Status which is always the same shows the unit of measurement for Nitrogen dioxide levels."
      ],
      "metadata": {
        "id": "8qnlsapq24Df"
      }
    },
    {
      "cell_type": "markdown",
      "source": [
        "### Read, clean, sort and wrangle the data and write it to Pandas dataframe.\n",
        "\n",
        "Read the dataset into a dataframe, skipping the first row   \n",
        "Convert dates to date format  \n",
        "Remove rows with 'No data' in the Nitrogen dioxide column  \n",
        "Convert the Nitrogen dioxide levels values to float type  \n",
        "Sort by Nitrogen dioxide level  \n",
        "Create a new column for 'Weekdays' (use df['Date'].dt.weekday)  \n",
        "Rename the column Nitrogen dioxide level to NO2 Level (V ug/m2)  \n",
        "Remove the Status column\n"
      ],
      "metadata": {
        "id": "SSvLiFnp4LjG"
      }
    },
    {
      "cell_type": "code",
      "source": [
        "import pandas as pd\n",
        "import numpy as np\n",
        "from datetime import datetime, timezone\n",
        "\n",
        "def get_csv_data(url):\n",
        "  data = pd.read_csv(url, skiprows=1)\n",
        "  return data\n",
        "\n",
        "def data_clean_wrangle(project_data):\n",
        "  project_data['Date'] =  pd.to_datetime(project_data['Date'], format= \"%d/%m/%Y\")\n",
        "  project_data[\"Nitrogen dioxide\"] = project_data[\"Nitrogen dioxide\"].replace('No data', np.nan)\n",
        "  project_data[\"Nitrogen dioxide\"] = pd.to_numeric(project_data[\"Nitrogen dioxide\"], downcast=\"float\")\n",
        "  project_data['Weekdays'] = project_data['Date'].dt.weekday\n",
        "  project_data['Day_of_the_week'] = project_data['Date'].dt.day_name()\n",
        "  project_data = project_data.rename(columns={\"Nitrogen dioxide\": \"NO2 Level (V ug/m2)\"})\n",
        "  project_data = project_data.drop(columns=['Status'])\n",
        "  return project_data\n",
        "\n",
        "url =  \"https://raw.githubusercontent.com/JaySanthanam/Programming-for-data/main/Datasets/NO2_Edin.csv\"\n",
        "data = get_csv_data(url)\n",
        "Edin_data = data_clean_wrangle(data)"
      ],
      "metadata": {
        "id": "txM4TIRUHhsJ"
      },
      "execution_count": 1,
      "outputs": []
    },
    {
      "cell_type": "markdown",
      "source": [
        "Did the data cleaning and sorting work?"
      ],
      "metadata": {
        "id": "vCtnPwKu9oKl"
      }
    },
    {
      "cell_type": "code",
      "source": [
        "print(Edin_data.info())"
      ],
      "metadata": {
        "id": "JBp9Frh-9rJ4",
        "outputId": "436adb63-a96a-4fbc-ba89-3467b241941a",
        "colab": {
          "base_uri": "https://localhost:8080/"
        }
      },
      "execution_count": 2,
      "outputs": [
        {
          "output_type": "stream",
          "name": "stdout",
          "text": [
            "<class 'pandas.core.frame.DataFrame'>\n",
            "RangeIndex: 35088 entries, 0 to 35087\n",
            "Data columns (total 5 columns):\n",
            " #   Column               Non-Null Count  Dtype         \n",
            "---  ------               --------------  -----         \n",
            " 0   Date                 35088 non-null  datetime64[ns]\n",
            " 1   Time                 35088 non-null  object        \n",
            " 2   NO2 Level (V ug/m2)  33014 non-null  float32       \n",
            " 3   Weekdays             35088 non-null  int64         \n",
            " 4   Day_of_the_week      35088 non-null  object        \n",
            "dtypes: datetime64[ns](1), float32(1), int64(1), object(2)\n",
            "memory usage: 1.2+ MB\n",
            "None\n"
          ]
        }
      ]
    },
    {
      "cell_type": "markdown",
      "source": [
        "Let us take a look at the dataset for Edinburgh."
      ],
      "metadata": {
        "id": "VpvVal76Tbsd"
      }
    },
    {
      "cell_type": "code",
      "source": [
        "print(Edin_data.head())"
      ],
      "metadata": {
        "id": "fmKLFIhHTaD9",
        "outputId": "2d7778f8-0456-496a-ec9c-5792ca1d158e",
        "colab": {
          "base_uri": "https://localhost:8080/"
        }
      },
      "execution_count": 3,
      "outputs": [
        {
          "output_type": "stream",
          "name": "stdout",
          "text": [
            "        Date      Time  NO2 Level (V ug/m2)  Weekdays Day_of_the_week\n",
            "0 2017-03-01  01:00:00                  NaN         2       Wednesday\n",
            "1 2017-03-01  02:00:00                  NaN         2       Wednesday\n",
            "2 2017-03-01  03:00:00                  NaN         2       Wednesday\n",
            "3 2017-03-01  04:00:00                  NaN         2       Wednesday\n",
            "4 2017-03-01  05:00:00                  NaN         2       Wednesday\n"
          ]
        }
      ]
    },
    {
      "cell_type": "markdown",
      "source": [
        "Now let's repeat the same for Chatham data."
      ],
      "metadata": {
        "id": "yuPQLa0Q8WLx"
      }
    },
    {
      "cell_type": "code",
      "source": [
        "url =  \"https://raw.githubusercontent.com/JaySanthanam/Programming-for-data/main/Datasets/NO2_Kent.csv\"\n",
        "data = get_csv_data(url)\n",
        "chatham_data = data_clean_wrangle(data)"
      ],
      "metadata": {
        "id": "ijCBtCbx8b1s"
      },
      "execution_count": 4,
      "outputs": []
    },
    {
      "cell_type": "markdown",
      "source": [
        "Let's look at the data from Chatham."
      ],
      "metadata": {
        "id": "0D9vpymq84os"
      }
    },
    {
      "cell_type": "code",
      "source": [
        "print(chatham_data.shape)\n",
        "print(chatham_data.head())\n",
        "print(chatham_data.info())"
      ],
      "metadata": {
        "id": "h3vRJ-dk87Qz",
        "outputId": "d49f781a-8b9b-4fb4-faac-9b0b2a16ae99",
        "colab": {
          "base_uri": "https://localhost:8080/"
        }
      },
      "execution_count": 5,
      "outputs": [
        {
          "output_type": "stream",
          "name": "stdout",
          "text": [
            "(35088, 5)\n",
            "        Date      Time  NO2 Level (V ug/m2)  Weekdays Day_of_the_week\n",
            "0 2017-03-01  01:00:00              4.41596         2       Wednesday\n",
            "1 2017-03-01  02:00:00              2.82604         2       Wednesday\n",
            "2 2017-03-01  03:00:00              3.31484         2       Wednesday\n",
            "3 2017-03-01  04:00:00              3.31149         2       Wednesday\n",
            "4 2017-03-01  05:00:00              5.53478         2       Wednesday\n",
            "<class 'pandas.core.frame.DataFrame'>\n",
            "RangeIndex: 35088 entries, 0 to 35087\n",
            "Data columns (total 5 columns):\n",
            " #   Column               Non-Null Count  Dtype         \n",
            "---  ------               --------------  -----         \n",
            " 0   Date                 35088 non-null  datetime64[ns]\n",
            " 1   Time                 35088 non-null  object        \n",
            " 2   NO2 Level (V ug/m2)  34588 non-null  float32       \n",
            " 3   Weekdays             35088 non-null  int64         \n",
            " 4   Day_of_the_week      35088 non-null  object        \n",
            "dtypes: datetime64[ns](1), float32(1), int64(1), object(2)\n",
            "memory usage: 1.2+ MB\n",
            "None\n"
          ]
        }
      ]
    },
    {
      "cell_type": "markdown",
      "source": [
        "Now let's put the two NO2 level datasets from Edinburgh and Chatham together into one dataframe. Since both of them have the same column names, let's rename them first."
      ],
      "metadata": {
        "id": "X1fPVNsfiliC"
      }
    },
    {
      "cell_type": "code",
      "source": [
        "Edin_data.rename(columns = {'NO2 Level (V ug/m2)':'Edin_NO2_Level'}, inplace = True)\n",
        "chatham_data.rename(columns = {'NO2 Level (V ug/m2)':'Chatham_NO2_Level'}, inplace = True)"
      ],
      "metadata": {
        "id": "PmNaWbK6-Yha"
      },
      "execution_count": 6,
      "outputs": []
    },
    {
      "cell_type": "markdown",
      "source": [
        "Next let's create a new dataframe Nitrogen_data."
      ],
      "metadata": {
        "id": "BhjZzfXeit6H"
      }
    },
    {
      "cell_type": "code",
      "source": [
        "Nitrogen_data = Edin_data.copy()\n",
        "Nitrogen_data['Chatham_NO2_Level'] = chatham_data['Chatham_NO2_Level']\n",
        "Nitrogen_data"
      ],
      "metadata": {
        "id": "vF1yGN8Z_VGV",
        "outputId": "9a4ba10c-c736-4d63-a9ab-5b5cb5433027",
        "colab": {
          "base_uri": "https://localhost:8080/",
          "height": 423
        }
      },
      "execution_count": 7,
      "outputs": [
        {
          "output_type": "execute_result",
          "data": {
            "text/plain": [
              "            Date      Time  Edin_NO2_Level  Weekdays Day_of_the_week  \\\n",
              "0     2017-03-01  01:00:00             NaN         2       Wednesday   \n",
              "1     2017-03-01  02:00:00             NaN         2       Wednesday   \n",
              "2     2017-03-01  03:00:00             NaN         2       Wednesday   \n",
              "3     2017-03-01  04:00:00             NaN         2       Wednesday   \n",
              "4     2017-03-01  05:00:00             NaN         2       Wednesday   \n",
              "...          ...       ...             ...       ...             ...   \n",
              "35083 2021-03-01  20:00:00             NaN         0          Monday   \n",
              "35084 2021-03-01  21:00:00             NaN         0          Monday   \n",
              "35085 2021-03-01  22:00:00             NaN         0          Monday   \n",
              "35086 2021-03-01  23:00:00             NaN         0          Monday   \n",
              "35087 2021-03-01  24:00:00             NaN         0          Monday   \n",
              "\n",
              "       Chatham_NO2_Level  \n",
              "0               4.415960  \n",
              "1               2.826040  \n",
              "2               3.314840  \n",
              "3               3.311490  \n",
              "4               5.534780  \n",
              "...                  ...  \n",
              "35083          22.479891  \n",
              "35084          18.130960  \n",
              "35085          25.372990  \n",
              "35086          24.558630  \n",
              "35087          31.273870  \n",
              "\n",
              "[35088 rows x 6 columns]"
            ],
            "text/html": [
              "\n",
              "  <div id=\"df-9300ed8c-3fe7-49da-8edd-1537ad3c8705\">\n",
              "    <div class=\"colab-df-container\">\n",
              "      <div>\n",
              "<style scoped>\n",
              "    .dataframe tbody tr th:only-of-type {\n",
              "        vertical-align: middle;\n",
              "    }\n",
              "\n",
              "    .dataframe tbody tr th {\n",
              "        vertical-align: top;\n",
              "    }\n",
              "\n",
              "    .dataframe thead th {\n",
              "        text-align: right;\n",
              "    }\n",
              "</style>\n",
              "<table border=\"1\" class=\"dataframe\">\n",
              "  <thead>\n",
              "    <tr style=\"text-align: right;\">\n",
              "      <th></th>\n",
              "      <th>Date</th>\n",
              "      <th>Time</th>\n",
              "      <th>Edin_NO2_Level</th>\n",
              "      <th>Weekdays</th>\n",
              "      <th>Day_of_the_week</th>\n",
              "      <th>Chatham_NO2_Level</th>\n",
              "    </tr>\n",
              "  </thead>\n",
              "  <tbody>\n",
              "    <tr>\n",
              "      <th>0</th>\n",
              "      <td>2017-03-01</td>\n",
              "      <td>01:00:00</td>\n",
              "      <td>NaN</td>\n",
              "      <td>2</td>\n",
              "      <td>Wednesday</td>\n",
              "      <td>4.415960</td>\n",
              "    </tr>\n",
              "    <tr>\n",
              "      <th>1</th>\n",
              "      <td>2017-03-01</td>\n",
              "      <td>02:00:00</td>\n",
              "      <td>NaN</td>\n",
              "      <td>2</td>\n",
              "      <td>Wednesday</td>\n",
              "      <td>2.826040</td>\n",
              "    </tr>\n",
              "    <tr>\n",
              "      <th>2</th>\n",
              "      <td>2017-03-01</td>\n",
              "      <td>03:00:00</td>\n",
              "      <td>NaN</td>\n",
              "      <td>2</td>\n",
              "      <td>Wednesday</td>\n",
              "      <td>3.314840</td>\n",
              "    </tr>\n",
              "    <tr>\n",
              "      <th>3</th>\n",
              "      <td>2017-03-01</td>\n",
              "      <td>04:00:00</td>\n",
              "      <td>NaN</td>\n",
              "      <td>2</td>\n",
              "      <td>Wednesday</td>\n",
              "      <td>3.311490</td>\n",
              "    </tr>\n",
              "    <tr>\n",
              "      <th>4</th>\n",
              "      <td>2017-03-01</td>\n",
              "      <td>05:00:00</td>\n",
              "      <td>NaN</td>\n",
              "      <td>2</td>\n",
              "      <td>Wednesday</td>\n",
              "      <td>5.534780</td>\n",
              "    </tr>\n",
              "    <tr>\n",
              "      <th>...</th>\n",
              "      <td>...</td>\n",
              "      <td>...</td>\n",
              "      <td>...</td>\n",
              "      <td>...</td>\n",
              "      <td>...</td>\n",
              "      <td>...</td>\n",
              "    </tr>\n",
              "    <tr>\n",
              "      <th>35083</th>\n",
              "      <td>2021-03-01</td>\n",
              "      <td>20:00:00</td>\n",
              "      <td>NaN</td>\n",
              "      <td>0</td>\n",
              "      <td>Monday</td>\n",
              "      <td>22.479891</td>\n",
              "    </tr>\n",
              "    <tr>\n",
              "      <th>35084</th>\n",
              "      <td>2021-03-01</td>\n",
              "      <td>21:00:00</td>\n",
              "      <td>NaN</td>\n",
              "      <td>0</td>\n",
              "      <td>Monday</td>\n",
              "      <td>18.130960</td>\n",
              "    </tr>\n",
              "    <tr>\n",
              "      <th>35085</th>\n",
              "      <td>2021-03-01</td>\n",
              "      <td>22:00:00</td>\n",
              "      <td>NaN</td>\n",
              "      <td>0</td>\n",
              "      <td>Monday</td>\n",
              "      <td>25.372990</td>\n",
              "    </tr>\n",
              "    <tr>\n",
              "      <th>35086</th>\n",
              "      <td>2021-03-01</td>\n",
              "      <td>23:00:00</td>\n",
              "      <td>NaN</td>\n",
              "      <td>0</td>\n",
              "      <td>Monday</td>\n",
              "      <td>24.558630</td>\n",
              "    </tr>\n",
              "    <tr>\n",
              "      <th>35087</th>\n",
              "      <td>2021-03-01</td>\n",
              "      <td>24:00:00</td>\n",
              "      <td>NaN</td>\n",
              "      <td>0</td>\n",
              "      <td>Monday</td>\n",
              "      <td>31.273870</td>\n",
              "    </tr>\n",
              "  </tbody>\n",
              "</table>\n",
              "<p>35088 rows × 6 columns</p>\n",
              "</div>\n",
              "      <button class=\"colab-df-convert\" onclick=\"convertToInteractive('df-9300ed8c-3fe7-49da-8edd-1537ad3c8705')\"\n",
              "              title=\"Convert this dataframe to an interactive table.\"\n",
              "              style=\"display:none;\">\n",
              "        \n",
              "  <svg xmlns=\"http://www.w3.org/2000/svg\" height=\"24px\"viewBox=\"0 0 24 24\"\n",
              "       width=\"24px\">\n",
              "    <path d=\"M0 0h24v24H0V0z\" fill=\"none\"/>\n",
              "    <path d=\"M18.56 5.44l.94 2.06.94-2.06 2.06-.94-2.06-.94-.94-2.06-.94 2.06-2.06.94zm-11 1L8.5 8.5l.94-2.06 2.06-.94-2.06-.94L8.5 2.5l-.94 2.06-2.06.94zm10 10l.94 2.06.94-2.06 2.06-.94-2.06-.94-.94-2.06-.94 2.06-2.06.94z\"/><path d=\"M17.41 7.96l-1.37-1.37c-.4-.4-.92-.59-1.43-.59-.52 0-1.04.2-1.43.59L10.3 9.45l-7.72 7.72c-.78.78-.78 2.05 0 2.83L4 21.41c.39.39.9.59 1.41.59.51 0 1.02-.2 1.41-.59l7.78-7.78 2.81-2.81c.8-.78.8-2.07 0-2.86zM5.41 20L4 18.59l7.72-7.72 1.47 1.35L5.41 20z\"/>\n",
              "  </svg>\n",
              "      </button>\n",
              "      \n",
              "  <style>\n",
              "    .colab-df-container {\n",
              "      display:flex;\n",
              "      flex-wrap:wrap;\n",
              "      gap: 12px;\n",
              "    }\n",
              "\n",
              "    .colab-df-convert {\n",
              "      background-color: #E8F0FE;\n",
              "      border: none;\n",
              "      border-radius: 50%;\n",
              "      cursor: pointer;\n",
              "      display: none;\n",
              "      fill: #1967D2;\n",
              "      height: 32px;\n",
              "      padding: 0 0 0 0;\n",
              "      width: 32px;\n",
              "    }\n",
              "\n",
              "    .colab-df-convert:hover {\n",
              "      background-color: #E2EBFA;\n",
              "      box-shadow: 0px 1px 2px rgba(60, 64, 67, 0.3), 0px 1px 3px 1px rgba(60, 64, 67, 0.15);\n",
              "      fill: #174EA6;\n",
              "    }\n",
              "\n",
              "    [theme=dark] .colab-df-convert {\n",
              "      background-color: #3B4455;\n",
              "      fill: #D2E3FC;\n",
              "    }\n",
              "\n",
              "    [theme=dark] .colab-df-convert:hover {\n",
              "      background-color: #434B5C;\n",
              "      box-shadow: 0px 1px 3px 1px rgba(0, 0, 0, 0.15);\n",
              "      filter: drop-shadow(0px 1px 2px rgba(0, 0, 0, 0.3));\n",
              "      fill: #FFFFFF;\n",
              "    }\n",
              "  </style>\n",
              "\n",
              "      <script>\n",
              "        const buttonEl =\n",
              "          document.querySelector('#df-9300ed8c-3fe7-49da-8edd-1537ad3c8705 button.colab-df-convert');\n",
              "        buttonEl.style.display =\n",
              "          google.colab.kernel.accessAllowed ? 'block' : 'none';\n",
              "\n",
              "        async function convertToInteractive(key) {\n",
              "          const element = document.querySelector('#df-9300ed8c-3fe7-49da-8edd-1537ad3c8705');\n",
              "          const dataTable =\n",
              "            await google.colab.kernel.invokeFunction('convertToInteractive',\n",
              "                                                     [key], {});\n",
              "          if (!dataTable) return;\n",
              "\n",
              "          const docLinkHtml = 'Like what you see? Visit the ' +\n",
              "            '<a target=\"_blank\" href=https://colab.research.google.com/notebooks/data_table.ipynb>data table notebook</a>'\n",
              "            + ' to learn more about interactive tables.';\n",
              "          element.innerHTML = '';\n",
              "          dataTable['output_type'] = 'display_data';\n",
              "          await google.colab.output.renderOutput(dataTable, element);\n",
              "          const docLink = document.createElement('div');\n",
              "          docLink.innerHTML = docLinkHtml;\n",
              "          element.appendChild(docLink);\n",
              "        }\n",
              "      </script>\n",
              "    </div>\n",
              "  </div>\n",
              "  "
            ]
          },
          "metadata": {},
          "execution_count": 7
        }
      ]
    },
    {
      "cell_type": "markdown",
      "source": [
        "Let's rearrange the columns so the two nitrogen levels are next to each other."
      ],
      "metadata": {
        "id": "NiHGtSXOi7X1"
      }
    },
    {
      "cell_type": "code",
      "source": [
        "Nitrogen_data = Nitrogen_data[['Date', 'Time', \"Edin_NO2_Level\", 'Chatham_NO2_Level', 'Weekdays', 'Day_of_the_week']]"
      ],
      "metadata": {
        "id": "NoNhOKWHBAMW"
      },
      "execution_count": 8,
      "outputs": []
    },
    {
      "cell_type": "markdown",
      "source": [
        "Let's now take a look at the new dataframe:"
      ],
      "metadata": {
        "id": "WZ-A5J4SjETJ"
      }
    },
    {
      "cell_type": "code",
      "source": [
        "Nitrogen_data.info()"
      ],
      "metadata": {
        "colab": {
          "base_uri": "https://localhost:8080/"
        },
        "id": "IB7w5jSljIJJ",
        "outputId": "48108a9d-ef70-48b7-b1a8-8bf7fdab4edb"
      },
      "execution_count": 9,
      "outputs": [
        {
          "output_type": "stream",
          "name": "stdout",
          "text": [
            "<class 'pandas.core.frame.DataFrame'>\n",
            "RangeIndex: 35088 entries, 0 to 35087\n",
            "Data columns (total 6 columns):\n",
            " #   Column             Non-Null Count  Dtype         \n",
            "---  ------             --------------  -----         \n",
            " 0   Date               35088 non-null  datetime64[ns]\n",
            " 1   Time               35088 non-null  object        \n",
            " 2   Edin_NO2_Level     33014 non-null  float32       \n",
            " 3   Chatham_NO2_Level  34588 non-null  float32       \n",
            " 4   Weekdays           35088 non-null  int64         \n",
            " 5   Day_of_the_week    35088 non-null  object        \n",
            "dtypes: datetime64[ns](1), float32(2), int64(1), object(2)\n",
            "memory usage: 1.3+ MB\n"
          ]
        }
      ]
    },
    {
      "cell_type": "markdown",
      "source": [
        "We have null values in both NO2 levels columns. This will make it difficult for further analyses. So, let's get rid of the null values in both NO2 columns.\n"
      ],
      "metadata": {
        "id": "yNv1vCCrjaQp"
      }
    },
    {
      "cell_type": "code",
      "source": [
        "Nitrogen_data = Nitrogen_data.dropna(subset = [\"Edin_NO2_Level\", 'Chatham_NO2_Level'])"
      ],
      "metadata": {
        "id": "LVCpVF2LAMcy"
      },
      "execution_count": 10,
      "outputs": []
    },
    {
      "cell_type": "markdown",
      "source": [
        "Now that the null values are gone, let's get some basic statistics."
      ],
      "metadata": {
        "id": "UmZQFbJij5kO"
      }
    },
    {
      "cell_type": "code",
      "source": [
        "Nitrogen_data.describe()"
      ],
      "metadata": {
        "id": "JWduWoWyApts",
        "outputId": "cd89de8b-77aa-4843-f178-cf2386b8d6dd",
        "colab": {
          "base_uri": "https://localhost:8080/",
          "height": 300
        }
      },
      "execution_count": 11,
      "outputs": [
        {
          "output_type": "execute_result",
          "data": {
            "text/plain": [
              "       Edin_NO2_Level  Chatham_NO2_Level      Weekdays\n",
              "count    32565.000000       32565.000000  32565.000000\n",
              "mean        17.858732          22.502911      3.024628\n",
              "std         14.722378          14.758221      2.002718\n",
              "min          0.103840           0.054630      0.000000\n",
              "25%          7.388240          11.140810      1.000000\n",
              "50%         13.457740          19.195709      3.000000\n",
              "75%         23.722401          30.881430      5.000000\n",
              "max        108.297943         113.061890      6.000000"
            ],
            "text/html": [
              "\n",
              "  <div id=\"df-dd33d165-9183-4154-950e-53a43825f58e\">\n",
              "    <div class=\"colab-df-container\">\n",
              "      <div>\n",
              "<style scoped>\n",
              "    .dataframe tbody tr th:only-of-type {\n",
              "        vertical-align: middle;\n",
              "    }\n",
              "\n",
              "    .dataframe tbody tr th {\n",
              "        vertical-align: top;\n",
              "    }\n",
              "\n",
              "    .dataframe thead th {\n",
              "        text-align: right;\n",
              "    }\n",
              "</style>\n",
              "<table border=\"1\" class=\"dataframe\">\n",
              "  <thead>\n",
              "    <tr style=\"text-align: right;\">\n",
              "      <th></th>\n",
              "      <th>Edin_NO2_Level</th>\n",
              "      <th>Chatham_NO2_Level</th>\n",
              "      <th>Weekdays</th>\n",
              "    </tr>\n",
              "  </thead>\n",
              "  <tbody>\n",
              "    <tr>\n",
              "      <th>count</th>\n",
              "      <td>32565.000000</td>\n",
              "      <td>32565.000000</td>\n",
              "      <td>32565.000000</td>\n",
              "    </tr>\n",
              "    <tr>\n",
              "      <th>mean</th>\n",
              "      <td>17.858732</td>\n",
              "      <td>22.502911</td>\n",
              "      <td>3.024628</td>\n",
              "    </tr>\n",
              "    <tr>\n",
              "      <th>std</th>\n",
              "      <td>14.722378</td>\n",
              "      <td>14.758221</td>\n",
              "      <td>2.002718</td>\n",
              "    </tr>\n",
              "    <tr>\n",
              "      <th>min</th>\n",
              "      <td>0.103840</td>\n",
              "      <td>0.054630</td>\n",
              "      <td>0.000000</td>\n",
              "    </tr>\n",
              "    <tr>\n",
              "      <th>25%</th>\n",
              "      <td>7.388240</td>\n",
              "      <td>11.140810</td>\n",
              "      <td>1.000000</td>\n",
              "    </tr>\n",
              "    <tr>\n",
              "      <th>50%</th>\n",
              "      <td>13.457740</td>\n",
              "      <td>19.195709</td>\n",
              "      <td>3.000000</td>\n",
              "    </tr>\n",
              "    <tr>\n",
              "      <th>75%</th>\n",
              "      <td>23.722401</td>\n",
              "      <td>30.881430</td>\n",
              "      <td>5.000000</td>\n",
              "    </tr>\n",
              "    <tr>\n",
              "      <th>max</th>\n",
              "      <td>108.297943</td>\n",
              "      <td>113.061890</td>\n",
              "      <td>6.000000</td>\n",
              "    </tr>\n",
              "  </tbody>\n",
              "</table>\n",
              "</div>\n",
              "      <button class=\"colab-df-convert\" onclick=\"convertToInteractive('df-dd33d165-9183-4154-950e-53a43825f58e')\"\n",
              "              title=\"Convert this dataframe to an interactive table.\"\n",
              "              style=\"display:none;\">\n",
              "        \n",
              "  <svg xmlns=\"http://www.w3.org/2000/svg\" height=\"24px\"viewBox=\"0 0 24 24\"\n",
              "       width=\"24px\">\n",
              "    <path d=\"M0 0h24v24H0V0z\" fill=\"none\"/>\n",
              "    <path d=\"M18.56 5.44l.94 2.06.94-2.06 2.06-.94-2.06-.94-.94-2.06-.94 2.06-2.06.94zm-11 1L8.5 8.5l.94-2.06 2.06-.94-2.06-.94L8.5 2.5l-.94 2.06-2.06.94zm10 10l.94 2.06.94-2.06 2.06-.94-2.06-.94-.94-2.06-.94 2.06-2.06.94z\"/><path d=\"M17.41 7.96l-1.37-1.37c-.4-.4-.92-.59-1.43-.59-.52 0-1.04.2-1.43.59L10.3 9.45l-7.72 7.72c-.78.78-.78 2.05 0 2.83L4 21.41c.39.39.9.59 1.41.59.51 0 1.02-.2 1.41-.59l7.78-7.78 2.81-2.81c.8-.78.8-2.07 0-2.86zM5.41 20L4 18.59l7.72-7.72 1.47 1.35L5.41 20z\"/>\n",
              "  </svg>\n",
              "      </button>\n",
              "      \n",
              "  <style>\n",
              "    .colab-df-container {\n",
              "      display:flex;\n",
              "      flex-wrap:wrap;\n",
              "      gap: 12px;\n",
              "    }\n",
              "\n",
              "    .colab-df-convert {\n",
              "      background-color: #E8F0FE;\n",
              "      border: none;\n",
              "      border-radius: 50%;\n",
              "      cursor: pointer;\n",
              "      display: none;\n",
              "      fill: #1967D2;\n",
              "      height: 32px;\n",
              "      padding: 0 0 0 0;\n",
              "      width: 32px;\n",
              "    }\n",
              "\n",
              "    .colab-df-convert:hover {\n",
              "      background-color: #E2EBFA;\n",
              "      box-shadow: 0px 1px 2px rgba(60, 64, 67, 0.3), 0px 1px 3px 1px rgba(60, 64, 67, 0.15);\n",
              "      fill: #174EA6;\n",
              "    }\n",
              "\n",
              "    [theme=dark] .colab-df-convert {\n",
              "      background-color: #3B4455;\n",
              "      fill: #D2E3FC;\n",
              "    }\n",
              "\n",
              "    [theme=dark] .colab-df-convert:hover {\n",
              "      background-color: #434B5C;\n",
              "      box-shadow: 0px 1px 3px 1px rgba(0, 0, 0, 0.15);\n",
              "      filter: drop-shadow(0px 1px 2px rgba(0, 0, 0, 0.3));\n",
              "      fill: #FFFFFF;\n",
              "    }\n",
              "  </style>\n",
              "\n",
              "      <script>\n",
              "        const buttonEl =\n",
              "          document.querySelector('#df-dd33d165-9183-4154-950e-53a43825f58e button.colab-df-convert');\n",
              "        buttonEl.style.display =\n",
              "          google.colab.kernel.accessAllowed ? 'block' : 'none';\n",
              "\n",
              "        async function convertToInteractive(key) {\n",
              "          const element = document.querySelector('#df-dd33d165-9183-4154-950e-53a43825f58e');\n",
              "          const dataTable =\n",
              "            await google.colab.kernel.invokeFunction('convertToInteractive',\n",
              "                                                     [key], {});\n",
              "          if (!dataTable) return;\n",
              "\n",
              "          const docLinkHtml = 'Like what you see? Visit the ' +\n",
              "            '<a target=\"_blank\" href=https://colab.research.google.com/notebooks/data_table.ipynb>data table notebook</a>'\n",
              "            + ' to learn more about interactive tables.';\n",
              "          element.innerHTML = '';\n",
              "          dataTable['output_type'] = 'display_data';\n",
              "          await google.colab.output.renderOutput(dataTable, element);\n",
              "          const docLink = document.createElement('div');\n",
              "          docLink.innerHTML = docLinkHtml;\n",
              "          element.appendChild(docLink);\n",
              "        }\n",
              "      </script>\n",
              "    </div>\n",
              "  </div>\n",
              "  "
            ]
          },
          "metadata": {},
          "execution_count": 11
        }
      ]
    },
    {
      "cell_type": "markdown",
      "source": [
        "Clearly, the mean values of Nitrogen dioxide levels in Chatham is higher than Edinburgh. Let's take a look at the overall distribution, quartile values, min and maximum of the $NO_{2}$ levels in both Chatham and Edinburgh using boxplot."
      ],
      "metadata": {
        "id": "bbF9Gaix_B7q"
      }
    },
    {
      "cell_type": "code",
      "source": [
        "import seaborn as sns\n",
        "def do_violin_plot(df, column1, column2, y_label):\n",
        "  sns.set(rc={'figure.figsize':(12,8)})\n",
        "  ax = sns.violinplot(data=df[[column1, column2]], scale=\"count\", inner=\"quartile\")\n",
        "  ax.set_ylabel(y_label, fontsize = 14)\n",
        "  for l in ax.lines:\n",
        "    ax.text(l.get_data()[0][l.get_data()[0].nonzero()][0], l.get_data()[1][0], f'{l.get_data()[1][0]:.0f}',size='large')\n",
        "  return\n",
        "\n",
        "do_violin_plot(Nitrogen_data, 'Chatham_NO2_Level', 'Edin_NO2_Level', \"$NO_{2}$ Level (V ug/m2)\")"
      ],
      "metadata": {
        "id": "0QiH4kBEhHvL",
        "outputId": "7d92ec9f-22da-4d45-e4a6-733c1e055da4",
        "colab": {
          "base_uri": "https://localhost:8080/",
          "height": 486
        }
      },
      "execution_count": 25,
      "outputs": [
        {
          "output_type": "display_data",
          "data": {
            "text/plain": [
              "<Figure size 864x576 with 1 Axes>"
            ],
            "image/png": "[encoded data removed]"
          },
          "metadata": {}
        }
      ]
    },
    {
      "cell_type": "markdown",
      "source": [
        "The above chart and statistics shows us the average, standard deviation, quartles and the overall distribution of $NO_{2}$ in these two places. Clearly Edinburgh has more measurements that show lower levels of $NO_{2}$ emmisions compared to Chatham. But let's compare the hourly and daily measurements trends over all the years in the two stations. "
      ],
      "metadata": {
        "id": "1vbs9sJNSfJw"
      }
    },
    {
      "cell_type": "code",
      "source": [
        "import matplotlib.pyplot as plt\n",
        "\n",
        "import matplotlib.dates as mdates\n",
        "\n",
        "def do_line_plot_columns(df, column1, column2,column3,x_label,y_label):\n",
        "  fig, ax1 = plt.subplots(figsize=(20, 12))\n",
        "  ax1.set(xlabel=x_label, ylabel=y_label)\n",
        "  ax1.plot(Nitrogen_data[column1], Nitrogen_data[column2], color='g')\n",
        "  ax1.plot(Nitrogen_data[column1], Nitrogen_data[column3], color='b')\n",
        "  ax1.xaxis.set(major_formatter=mdates.DateFormatter(\"\\n\\n%m/%Y\"))\n",
        "  plt.show()\n",
        "  return\n",
        "\n",
        "do_line_plot_columns(Nitrogen_data,\"Date\", \"Chatham_NO2_Level\",\"Edin_NO2_Level\",'Date','$NO_{2}$ Level (V ug/m2)')"
      ],
      "metadata": {
        "colab": {
          "base_uri": "https://localhost:8080/",
          "height": 737
        },
        "id": "czjst61m95Pe",
        "outputId": "9bfab322-1f5d-49d0-d891-84aa46e34c92"
      },
      "execution_count": 14,
      "outputs": [
        {
          "output_type": "display_data",
          "data": {
            "text/plain": [
              "<Figure size 1440x864 with 1 Axes>"
            ],
            "image/png": "[encoded data removed]"
          },
          "metadata": {
            "needs_background": "light"
          }
        }
      ]
    },
    {
      "cell_type": "markdown",
      "source": [
        "From the above graph it looks like that both monitoring stations recorded lower levels of $NO_{2}$ emmisions in later part of 2020 (perhaps due to lockdown). So let's look at the total $NO_{2}$ emmissions by the year."
      ],
      "metadata": {
        "id": "OSymYFCCU84T"
      }
    },
    {
      "cell_type": "markdown",
      "source": [
        "Let's create a new dataframe for th yearly data so that the sorted and grouped data can be stored separately."
      ],
      "metadata": {
        "id": "q_ShhoMcTR2h"
      }
    },
    {
      "cell_type": "code",
      "source": [
        "yearly_data = Nitrogen_data.copy()\n",
        "yearly_data['year'] = yearly_data['Date'].dt.year\n",
        "yearly_data"
      ],
      "metadata": {
        "colab": {
          "base_uri": "https://localhost:8080/",
          "height": 423
        },
        "id": "aEsGThlSmYHJ",
        "outputId": "0b989e04-adf0-4bb0-a247-1d56f90d7353"
      },
      "execution_count": 15,
      "outputs": [
        {
          "output_type": "execute_result",
          "data": {
            "text/plain": [
              "            Date      Time  Edin_NO2_Level  Chatham_NO2_Level  Weekdays  \\\n",
              "8     2017-03-01  09:00:00       56.689690          73.884659         2   \n",
              "9     2017-03-01  10:00:00       51.444340          34.998268         2   \n",
              "10    2017-03-01  11:00:00       36.054932          38.798409         2   \n",
              "12    2017-03-01  13:00:00       25.692530          38.773071         2   \n",
              "13    2017-03-01  14:00:00       27.418079          25.064751         2   \n",
              "...          ...       ...             ...                ...       ...   \n",
              "34948 2021-02-24  05:00:00        0.695030           6.934030         2   \n",
              "34949 2021-02-24  06:00:00        0.848670          11.319860         2   \n",
              "34950 2021-02-24  07:00:00        1.811830          15.248120         2   \n",
              "34951 2021-02-24  08:00:00        3.683820          30.662081         2   \n",
              "34952 2021-02-24  09:00:00        2.769930          30.548340         2   \n",
              "\n",
              "      Day_of_the_week  year  \n",
              "8           Wednesday  2017  \n",
              "9           Wednesday  2017  \n",
              "10          Wednesday  2017  \n",
              "12          Wednesday  2017  \n",
              "13          Wednesday  2017  \n",
              "...               ...   ...  \n",
              "34948       Wednesday  2021  \n",
              "34949       Wednesday  2021  \n",
              "34950       Wednesday  2021  \n",
              "34951       Wednesday  2021  \n",
              "34952       Wednesday  2021  \n",
              "\n",
              "[32565 rows x 7 columns]"
            ],
            "text/html": [
              "\n",
              "  <div id=\"df-fa0d3088-105c-4e39-8397-9d712f2d58eb\">\n",
              "    <div class=\"colab-df-container\">\n",
              "      <div>\n",
              "<style scoped>\n",
              "    .dataframe tbody tr th:only-of-type {\n",
              "        vertical-align: middle;\n",
              "    }\n",
              "\n",
              "    .dataframe tbody tr th {\n",
              "        vertical-align: top;\n",
              "    }\n",
              "\n",
              "    .dataframe thead th {\n",
              "        text-align: right;\n",
              "    }\n",
              "</style>\n",
              "<table border=\"1\" class=\"dataframe\">\n",
              "  <thead>\n",
              "    <tr style=\"text-align: right;\">\n",
              "      <th></th>\n",
              "      <th>Date</th>\n",
              "      <th>Time</th>\n",
              "      <th>Edin_NO2_Level</th>\n",
              "      <th>Chatham_NO2_Level</th>\n",
              "      <th>Weekdays</th>\n",
              "      <th>Day_of_the_week</th>\n",
              "      <th>year</th>\n",
              "    </tr>\n",
              "  </thead>\n",
              "  <tbody>\n",
              "    <tr>\n",
              "      <th>8</th>\n",
              "      <td>2017-03-01</td>\n",
              "      <td>09:00:00</td>\n",
              "      <td>56.689690</td>\n",
              "      <td>73.884659</td>\n",
              "      <td>2</td>\n",
              "      <td>Wednesday</td>\n",
              "      <td>2017</td>\n",
              "    </tr>\n",
              "    <tr>\n",
              "      <th>9</th>\n",
              "      <td>2017-03-01</td>\n",
              "      <td>10:00:00</td>\n",
              "      <td>51.444340</td>\n",
              "      <td>34.998268</td>\n",
              "      <td>2</td>\n",
              "      <td>Wednesday</td>\n",
              "      <td>2017</td>\n",
              "    </tr>\n",
              "    <tr>\n",
              "      <th>10</th>\n",
              "      <td>2017-03-01</td>\n",
              "      <td>11:00:00</td>\n",
              "      <td>36.054932</td>\n",
              "      <td>38.798409</td>\n",
              "      <td>2</td>\n",
              "      <td>Wednesday</td>\n",
              "      <td>2017</td>\n",
              "    </tr>\n",
              "    <tr>\n",
              "      <th>12</th>\n",
              "      <td>2017-03-01</td>\n",
              "      <td>13:00:00</td>\n",
              "      <td>25.692530</td>\n",
              "      <td>38.773071</td>\n",
              "      <td>2</td>\n",
              "      <td>Wednesday</td>\n",
              "      <td>2017</td>\n",
              "    </tr>\n",
              "    <tr>\n",
              "      <th>13</th>\n",
              "      <td>2017-03-01</td>\n",
              "      <td>14:00:00</td>\n",
              "      <td>27.418079</td>\n",
              "      <td>25.064751</td>\n",
              "      <td>2</td>\n",
              "      <td>Wednesday</td>\n",
              "      <td>2017</td>\n",
              "    </tr>\n",
              "    <tr>\n",
              "      <th>...</th>\n",
              "      <td>...</td>\n",
              "      <td>...</td>\n",
              "      <td>...</td>\n",
              "      <td>...</td>\n",
              "      <td>...</td>\n",
              "      <td>...</td>\n",
              "      <td>...</td>\n",
              "    </tr>\n",
              "    <tr>\n",
              "      <th>34948</th>\n",
              "      <td>2021-02-24</td>\n",
              "      <td>05:00:00</td>\n",
              "      <td>0.695030</td>\n",
              "      <td>6.934030</td>\n",
              "      <td>2</td>\n",
              "      <td>Wednesday</td>\n",
              "      <td>2021</td>\n",
              "    </tr>\n",
              "    <tr>\n",
              "      <th>34949</th>\n",
              "      <td>2021-02-24</td>\n",
              "      <td>06:00:00</td>\n",
              "      <td>0.848670</td>\n",
              "      <td>11.319860</td>\n",
              "      <td>2</td>\n",
              "      <td>Wednesday</td>\n",
              "      <td>2021</td>\n",
              "    </tr>\n",
              "    <tr>\n",
              "      <th>34950</th>\n",
              "      <td>2021-02-24</td>\n",
              "      <td>07:00:00</td>\n",
              "      <td>1.811830</td>\n",
              "      <td>15.248120</td>\n",
              "      <td>2</td>\n",
              "      <td>Wednesday</td>\n",
              "      <td>2021</td>\n",
              "    </tr>\n",
              "    <tr>\n",
              "      <th>34951</th>\n",
              "      <td>2021-02-24</td>\n",
              "      <td>08:00:00</td>\n",
              "      <td>3.683820</td>\n",
              "      <td>30.662081</td>\n",
              "      <td>2</td>\n",
              "      <td>Wednesday</td>\n",
              "      <td>2021</td>\n",
              "    </tr>\n",
              "    <tr>\n",
              "      <th>34952</th>\n",
              "      <td>2021-02-24</td>\n",
              "      <td>09:00:00</td>\n",
              "      <td>2.769930</td>\n",
              "      <td>30.548340</td>\n",
              "      <td>2</td>\n",
              "      <td>Wednesday</td>\n",
              "      <td>2021</td>\n",
              "    </tr>\n",
              "  </tbody>\n",
              "</table>\n",
              "<p>32565 rows × 7 columns</p>\n",
              "</div>\n",
              "      <button class=\"colab-df-convert\" onclick=\"convertToInteractive('df-fa0d3088-105c-4e39-8397-9d712f2d58eb')\"\n",
              "              title=\"Convert this dataframe to an interactive table.\"\n",
              "              style=\"display:none;\">\n",
              "        \n",
              "  <svg xmlns=\"http://www.w3.org/2000/svg\" height=\"24px\"viewBox=\"0 0 24 24\"\n",
              "       width=\"24px\">\n",
              "    <path d=\"M0 0h24v24H0V0z\" fill=\"none\"/>\n",
              "    <path d=\"M18.56 5.44l.94 2.06.94-2.06 2.06-.94-2.06-.94-.94-2.06-.94 2.06-2.06.94zm-11 1L8.5 8.5l.94-2.06 2.06-.94-2.06-.94L8.5 2.5l-.94 2.06-2.06.94zm10 10l.94 2.06.94-2.06 2.06-.94-2.06-.94-.94-2.06-.94 2.06-2.06.94z\"/><path d=\"M17.41 7.96l-1.37-1.37c-.4-.4-.92-.59-1.43-.59-.52 0-1.04.2-1.43.59L10.3 9.45l-7.72 7.72c-.78.78-.78 2.05 0 2.83L4 21.41c.39.39.9.59 1.41.59.51 0 1.02-.2 1.41-.59l7.78-7.78 2.81-2.81c.8-.78.8-2.07 0-2.86zM5.41 20L4 18.59l7.72-7.72 1.47 1.35L5.41 20z\"/>\n",
              "  </svg>\n",
              "      </button>\n",
              "      \n",
              "  <style>\n",
              "    .colab-df-container {\n",
              "      display:flex;\n",
              "      flex-wrap:wrap;\n",
              "      gap: 12px;\n",
              "    }\n",
              "\n",
              "    .colab-df-convert {\n",
              "      background-color: #E8F0FE;\n",
              "      border: none;\n",
              "      border-radius: 50%;\n",
              "      cursor: pointer;\n",
              "      display: none;\n",
              "      fill: #1967D2;\n",
              "      height: 32px;\n",
              "      padding: 0 0 0 0;\n",
              "      width: 32px;\n",
              "    }\n",
              "\n",
              "    .colab-df-convert:hover {\n",
              "      background-color: #E2EBFA;\n",
              "      box-shadow: 0px 1px 2px rgba(60, 64, 67, 0.3), 0px 1px 3px 1px rgba(60, 64, 67, 0.15);\n",
              "      fill: #174EA6;\n",
              "    }\n",
              "\n",
              "    [theme=dark] .colab-df-convert {\n",
              "      background-color: #3B4455;\n",
              "      fill: #D2E3FC;\n",
              "    }\n",
              "\n",
              "    [theme=dark] .colab-df-convert:hover {\n",
              "      background-color: #434B5C;\n",
              "      box-shadow: 0px 1px 3px 1px rgba(0, 0, 0, 0.15);\n",
              "      filter: drop-shadow(0px 1px 2px rgba(0, 0, 0, 0.3));\n",
              "      fill: #FFFFFF;\n",
              "    }\n",
              "  </style>\n",
              "\n",
              "      <script>\n",
              "        const buttonEl =\n",
              "          document.querySelector('#df-fa0d3088-105c-4e39-8397-9d712f2d58eb button.colab-df-convert');\n",
              "        buttonEl.style.display =\n",
              "          google.colab.kernel.accessAllowed ? 'block' : 'none';\n",
              "\n",
              "        async function convertToInteractive(key) {\n",
              "          const element = document.querySelector('#df-fa0d3088-105c-4e39-8397-9d712f2d58eb');\n",
              "          const dataTable =\n",
              "            await google.colab.kernel.invokeFunction('convertToInteractive',\n",
              "                                                     [key], {});\n",
              "          if (!dataTable) return;\n",
              "\n",
              "          const docLinkHtml = 'Like what you see? Visit the ' +\n",
              "            '<a target=\"_blank\" href=https://colab.research.google.com/notebooks/data_table.ipynb>data table notebook</a>'\n",
              "            + ' to learn more about interactive tables.';\n",
              "          element.innerHTML = '';\n",
              "          dataTable['output_type'] = 'display_data';\n",
              "          await google.colab.output.renderOutput(dataTable, element);\n",
              "          const docLink = document.createElement('div');\n",
              "          docLink.innerHTML = docLinkHtml;\n",
              "          element.appendChild(docLink);\n",
              "        }\n",
              "      </script>\n",
              "    </div>\n",
              "  </div>\n",
              "  "
            ]
          },
          "metadata": {},
          "execution_count": 15
        }
      ]
    },
    {
      "cell_type": "markdown",
      "source": [
        "Group the data by year and Day of the week - this will allow us to look at yearly trends as well as to identify which days in the week has higher emmisions of $NO_{2}$."
      ],
      "metadata": {
        "id": "VfyoU1TqTbBJ"
      }
    },
    {
      "cell_type": "code",
      "source": [
        "yearly_data = yearly_data.groupby(by = ['year', 'Day_of_the_week'])['Chatham_NO2_Level','Edin_NO2_Level'].mean().reset_index()\n",
        "yearly_data"
      ],
      "metadata": {
        "colab": {
          "base_uri": "https://localhost:8080/",
          "height": 1000
        },
        "id": "3bt_NpHCk9V0",
        "outputId": "f170c88d-b9b9-4e86-f4e5-f4603e78c89b"
      },
      "execution_count": 16,
      "outputs": [
        {
          "output_type": "stream",
          "name": "stderr",
          "text": [
            "/usr/local/lib/python3.7/dist-packages/ipykernel_launcher.py:1: FutureWarning: Indexing with multiple keys (implicitly converted to a tuple of keys) will be deprecated, use a list instead.\n",
            "  \"\"\"Entry point for launching an IPython kernel.\n"
          ]
        },
        {
          "output_type": "execute_result",
          "data": {
            "text/plain": [
              "    year Day_of_the_week  Chatham_NO2_Level  Edin_NO2_Level\n",
              "0   2017          Friday          25.710041       21.036032\n",
              "1   2017          Monday          23.940300       18.426754\n",
              "2   2017        Saturday          22.779654       18.603403\n",
              "3   2017          Sunday          17.068417       16.605040\n",
              "4   2017        Thursday          26.988962       20.456272\n",
              "5   2017         Tuesday          26.677376       18.105906\n",
              "6   2017       Wednesday          23.503975       18.739988\n",
              "7   2018          Friday          26.116222       19.303839\n",
              "8   2018          Monday          24.346972       19.534292\n",
              "9   2018        Saturday          22.299091       16.860706\n",
              "10  2018          Sunday          17.562737       18.071314\n",
              "11  2018        Thursday          25.322424       17.478340\n",
              "12  2018         Tuesday          23.840565       17.533070\n",
              "13  2018       Wednesday          24.684879       16.661415\n",
              "14  2019          Friday          24.877493       22.270910\n",
              "15  2019          Monday          26.260458       19.880249\n",
              "16  2019        Saturday          20.162487       18.846769\n",
              "17  2019          Sunday          18.942415       18.260597\n",
              "18  2019        Thursday          26.262547       21.320118\n",
              "19  2019         Tuesday          28.064840       22.817169\n",
              "20  2019       Wednesday          27.312603       22.485703\n",
              "21  2020          Friday          21.937109       14.933503\n",
              "22  2020          Monday          19.486309       13.398681\n",
              "23  2020        Saturday          15.383374       12.149673\n",
              "24  2020          Sunday          13.113733       10.438026\n",
              "25  2020        Thursday          20.504082       16.382151\n",
              "26  2020         Tuesday          18.871901       15.308528\n",
              "27  2020       Wednesday          21.532686       13.694797\n",
              "28  2021          Friday          23.330320       18.573629\n",
              "29  2021          Monday          17.644760       12.170596\n",
              "30  2021        Saturday          21.029224       14.296831\n",
              "31  2021          Sunday          15.742184       12.083003\n",
              "32  2021        Thursday          20.171515       19.771425\n",
              "33  2021         Tuesday          15.590590       19.383501\n",
              "34  2021       Wednesday          20.252405       24.391796"
            ],
            "text/html": [
              "\n",
              "  <div id=\"df-1a833d56-23e9-4b9e-b3b9-2d3e6287a1b3\">\n",
              "    <div class=\"colab-df-container\">\n",
              "      <div>\n",
              "<style scoped>\n",
              "    .dataframe tbody tr th:only-of-type {\n",
              "        vertical-align: middle;\n",
              "    }\n",
              "\n",
              "    .dataframe tbody tr th {\n",
              "        vertical-align: top;\n",
              "    }\n",
              "\n",
              "    .dataframe thead th {\n",
              "        text-align: right;\n",
              "    }\n",
              "</style>\n",
              "<table border=\"1\" class=\"dataframe\">\n",
              "  <thead>\n",
              "    <tr style=\"text-align: right;\">\n",
              "      <th></th>\n",
              "      <th>year</th>\n",
              "      <th>Day_of_the_week</th>\n",
              "      <th>Chatham_NO2_Level</th>\n",
              "      <th>Edin_NO2_Level</th>\n",
              "    </tr>\n",
              "  </thead>\n",
              "  <tbody>\n",
              "    <tr>\n",
              "      <th>0</th>\n",
              "      <td>2017</td>\n",
              "      <td>Friday</td>\n",
              "      <td>25.710041</td>\n",
              "      <td>21.036032</td>\n",
              "    </tr>\n",
              "    <tr>\n",
              "      <th>1</th>\n",
              "      <td>2017</td>\n",
              "      <td>Monday</td>\n",
              "      <td>23.940300</td>\n",
              "      <td>18.426754</td>\n",
              "    </tr>\n",
              "    <tr>\n",
              "      <th>2</th>\n",
              "      <td>2017</td>\n",
              "      <td>Saturday</td>\n",
              "      <td>22.779654</td>\n",
              "      <td>18.603403</td>\n",
              "    </tr>\n",
              "    <tr>\n",
              "      <th>3</th>\n",
              "      <td>2017</td>\n",
              "      <td>Sunday</td>\n",
              "      <td>17.068417</td>\n",
              "      <td>16.605040</td>\n",
              "    </tr>\n",
              "    <tr>\n",
              "      <th>4</th>\n",
              "      <td>2017</td>\n",
              "      <td>Thursday</td>\n",
              "      <td>26.988962</td>\n",
              "      <td>20.456272</td>\n",
              "    </tr>\n",
              "    <tr>\n",
              "      <th>5</th>\n",
              "      <td>2017</td>\n",
              "      <td>Tuesday</td>\n",
              "      <td>26.677376</td>\n",
              "      <td>18.105906</td>\n",
              "    </tr>\n",
              "    <tr>\n",
              "      <th>6</th>\n",
              "      <td>2017</td>\n",
              "      <td>Wednesday</td>\n",
              "      <td>23.503975</td>\n",
              "      <td>18.739988</td>\n",
              "    </tr>\n",
              "    <tr>\n",
              "      <th>7</th>\n",
              "      <td>2018</td>\n",
              "      <td>Friday</td>\n",
              "      <td>26.116222</td>\n",
              "      <td>19.303839</td>\n",
              "    </tr>\n",
              "    <tr>\n",
              "      <th>8</th>\n",
              "      <td>2018</td>\n",
              "      <td>Monday</td>\n",
              "      <td>24.346972</td>\n",
              "      <td>19.534292</td>\n",
              "    </tr>\n",
              "    <tr>\n",
              "      <th>9</th>\n",
              "      <td>2018</td>\n",
              "      <td>Saturday</td>\n",
              "      <td>22.299091</td>\n",
              "      <td>16.860706</td>\n",
              "    </tr>\n",
              "    <tr>\n",
              "      <th>10</th>\n",
              "      <td>2018</td>\n",
              "      <td>Sunday</td>\n",
              "      <td>17.562737</td>\n",
              "      <td>18.071314</td>\n",
              "    </tr>\n",
              "    <tr>\n",
              "      <th>11</th>\n",
              "      <td>2018</td>\n",
              "      <td>Thursday</td>\n",
              "      <td>25.322424</td>\n",
              "      <td>17.478340</td>\n",
              "    </tr>\n",
              "    <tr>\n",
              "      <th>12</th>\n",
              "      <td>2018</td>\n",
              "      <td>Tuesday</td>\n",
              "      <td>23.840565</td>\n",
              "      <td>17.533070</td>\n",
              "    </tr>\n",
              "    <tr>\n",
              "      <th>13</th>\n",
              "      <td>2018</td>\n",
              "      <td>Wednesday</td>\n",
              "      <td>24.684879</td>\n",
              "      <td>16.661415</td>\n",
              "    </tr>\n",
              "    <tr>\n",
              "      <th>14</th>\n",
              "      <td>2019</td>\n",
              "      <td>Friday</td>\n",
              "      <td>24.877493</td>\n",
              "      <td>22.270910</td>\n",
              "    </tr>\n",
              "    <tr>\n",
              "      <th>15</th>\n",
              "      <td>2019</td>\n",
              "      <td>Monday</td>\n",
              "      <td>26.260458</td>\n",
              "      <td>19.880249</td>\n",
              "    </tr>\n",
              "    <tr>\n",
              "      <th>16</th>\n",
              "      <td>2019</td>\n",
              "      <td>Saturday</td>\n",
              "      <td>20.162487</td>\n",
              "      <td>18.846769</td>\n",
              "    </tr>\n",
              "    <tr>\n",
              "      <th>17</th>\n",
              "      <td>2019</td>\n",
              "      <td>Sunday</td>\n",
              "      <td>18.942415</td>\n",
              "      <td>18.260597</td>\n",
              "    </tr>\n",
              "    <tr>\n",
              "      <th>18</th>\n",
              "      <td>2019</td>\n",
              "      <td>Thursday</td>\n",
              "      <td>26.262547</td>\n",
              "      <td>21.320118</td>\n",
              "    </tr>\n",
              "    <tr>\n",
              "      <th>19</th>\n",
              "      <td>2019</td>\n",
              "      <td>Tuesday</td>\n",
              "      <td>28.064840</td>\n",
              "      <td>22.817169</td>\n",
              "    </tr>\n",
              "    <tr>\n",
              "      <th>20</th>\n",
              "      <td>2019</td>\n",
              "      <td>Wednesday</td>\n",
              "      <td>27.312603</td>\n",
              "      <td>22.485703</td>\n",
              "    </tr>\n",
              "    <tr>\n",
              "      <th>21</th>\n",
              "      <td>2020</td>\n",
              "      <td>Friday</td>\n",
              "      <td>21.937109</td>\n",
              "      <td>14.933503</td>\n",
              "    </tr>\n",
              "    <tr>\n",
              "      <th>22</th>\n",
              "      <td>2020</td>\n",
              "      <td>Monday</td>\n",
              "      <td>19.486309</td>\n",
              "      <td>13.398681</td>\n",
              "    </tr>\n",
              "    <tr>\n",
              "      <th>23</th>\n",
              "      <td>2020</td>\n",
              "      <td>Saturday</td>\n",
              "      <td>15.383374</td>\n",
              "      <td>12.149673</td>\n",
              "    </tr>\n",
              "    <tr>\n",
              "      <th>24</th>\n",
              "      <td>2020</td>\n",
              "      <td>Sunday</td>\n",
              "      <td>13.113733</td>\n",
              "      <td>10.438026</td>\n",
              "    </tr>\n",
              "    <tr>\n",
              "      <th>25</th>\n",
              "      <td>2020</td>\n",
              "      <td>Thursday</td>\n",
              "      <td>20.504082</td>\n",
              "      <td>16.382151</td>\n",
              "    </tr>\n",
              "    <tr>\n",
              "      <th>26</th>\n",
              "      <td>2020</td>\n",
              "      <td>Tuesday</td>\n",
              "      <td>18.871901</td>\n",
              "      <td>15.308528</td>\n",
              "    </tr>\n",
              "    <tr>\n",
              "      <th>27</th>\n",
              "      <td>2020</td>\n",
              "      <td>Wednesday</td>\n",
              "      <td>21.532686</td>\n",
              "      <td>13.694797</td>\n",
              "    </tr>\n",
              "    <tr>\n",
              "      <th>28</th>\n",
              "      <td>2021</td>\n",
              "      <td>Friday</td>\n",
              "      <td>23.330320</td>\n",
              "      <td>18.573629</td>\n",
              "    </tr>\n",
              "    <tr>\n",
              "      <th>29</th>\n",
              "      <td>2021</td>\n",
              "      <td>Monday</td>\n",
              "      <td>17.644760</td>\n",
              "      <td>12.170596</td>\n",
              "    </tr>\n",
              "    <tr>\n",
              "      <th>30</th>\n",
              "      <td>2021</td>\n",
              "      <td>Saturday</td>\n",
              "      <td>21.029224</td>\n",
              "      <td>14.296831</td>\n",
              "    </tr>\n",
              "    <tr>\n",
              "      <th>31</th>\n",
              "      <td>2021</td>\n",
              "      <td>Sunday</td>\n",
              "      <td>15.742184</td>\n",
              "      <td>12.083003</td>\n",
              "    </tr>\n",
              "    <tr>\n",
              "      <th>32</th>\n",
              "      <td>2021</td>\n",
              "      <td>Thursday</td>\n",
              "      <td>20.171515</td>\n",
              "      <td>19.771425</td>\n",
              "    </tr>\n",
              "    <tr>\n",
              "      <th>33</th>\n",
              "      <td>2021</td>\n",
              "      <td>Tuesday</td>\n",
              "      <td>15.590590</td>\n",
              "      <td>19.383501</td>\n",
              "    </tr>\n",
              "    <tr>\n",
              "      <th>34</th>\n",
              "      <td>2021</td>\n",
              "      <td>Wednesday</td>\n",
              "      <td>20.252405</td>\n",
              "      <td>24.391796</td>\n",
              "    </tr>\n",
              "  </tbody>\n",
              "</table>\n",
              "</div>\n",
              "      <button class=\"colab-df-convert\" onclick=\"convertToInteractive('df-1a833d56-23e9-4b9e-b3b9-2d3e6287a1b3')\"\n",
              "              title=\"Convert this dataframe to an interactive table.\"\n",
              "              style=\"display:none;\">\n",
              "        \n",
              "  <svg xmlns=\"http://www.w3.org/2000/svg\" height=\"24px\"viewBox=\"0 0 24 24\"\n",
              "       width=\"24px\">\n",
              "    <path d=\"M0 0h24v24H0V0z\" fill=\"none\"/>\n",
              "    <path d=\"M18.56 5.44l.94 2.06.94-2.06 2.06-.94-2.06-.94-.94-2.06-.94 2.06-2.06.94zm-11 1L8.5 8.5l.94-2.06 2.06-.94-2.06-.94L8.5 2.5l-.94 2.06-2.06.94zm10 10l.94 2.06.94-2.06 2.06-.94-2.06-.94-.94-2.06-.94 2.06-2.06.94z\"/><path d=\"M17.41 7.96l-1.37-1.37c-.4-.4-.92-.59-1.43-.59-.52 0-1.04.2-1.43.59L10.3 9.45l-7.72 7.72c-.78.78-.78 2.05 0 2.83L4 21.41c.39.39.9.59 1.41.59.51 0 1.02-.2 1.41-.59l7.78-7.78 2.81-2.81c.8-.78.8-2.07 0-2.86zM5.41 20L4 18.59l7.72-7.72 1.47 1.35L5.41 20z\"/>\n",
              "  </svg>\n",
              "      </button>\n",
              "      \n",
              "  <style>\n",
              "    .colab-df-container {\n",
              "      display:flex;\n",
              "      flex-wrap:wrap;\n",
              "      gap: 12px;\n",
              "    }\n",
              "\n",
              "    .colab-df-convert {\n",
              "      background-color: #E8F0FE;\n",
              "      border: none;\n",
              "      border-radius: 50%;\n",
              "      cursor: pointer;\n",
              "      display: none;\n",
              "      fill: #1967D2;\n",
              "      height: 32px;\n",
              "      padding: 0 0 0 0;\n",
              "      width: 32px;\n",
              "    }\n",
              "\n",
              "    .colab-df-convert:hover {\n",
              "      background-color: #E2EBFA;\n",
              "      box-shadow: 0px 1px 2px rgba(60, 64, 67, 0.3), 0px 1px 3px 1px rgba(60, 64, 67, 0.15);\n",
              "      fill: #174EA6;\n",
              "    }\n",
              "\n",
              "    [theme=dark] .colab-df-convert {\n",
              "      background-color: #3B4455;\n",
              "      fill: #D2E3FC;\n",
              "    }\n",
              "\n",
              "    [theme=dark] .colab-df-convert:hover {\n",
              "      background-color: #434B5C;\n",
              "      box-shadow: 0px 1px 3px 1px rgba(0, 0, 0, 0.15);\n",
              "      filter: drop-shadow(0px 1px 2px rgba(0, 0, 0, 0.3));\n",
              "      fill: #FFFFFF;\n",
              "    }\n",
              "  </style>\n",
              "\n",
              "      <script>\n",
              "        const buttonEl =\n",
              "          document.querySelector('#df-1a833d56-23e9-4b9e-b3b9-2d3e6287a1b3 button.colab-df-convert');\n",
              "        buttonEl.style.display =\n",
              "          google.colab.kernel.accessAllowed ? 'block' : 'none';\n",
              "\n",
              "        async function convertToInteractive(key) {\n",
              "          const element = document.querySelector('#df-1a833d56-23e9-4b9e-b3b9-2d3e6287a1b3');\n",
              "          const dataTable =\n",
              "            await google.colab.kernel.invokeFunction('convertToInteractive',\n",
              "                                                     [key], {});\n",
              "          if (!dataTable) return;\n",
              "\n",
              "          const docLinkHtml = 'Like what you see? Visit the ' +\n",
              "            '<a target=\"_blank\" href=https://colab.research.google.com/notebooks/data_table.ipynb>data table notebook</a>'\n",
              "            + ' to learn more about interactive tables.';\n",
              "          element.innerHTML = '';\n",
              "          dataTable['output_type'] = 'display_data';\n",
              "          await google.colab.output.renderOutput(dataTable, element);\n",
              "          const docLink = document.createElement('div');\n",
              "          docLink.innerHTML = docLinkHtml;\n",
              "          element.appendChild(docLink);\n",
              "        }\n",
              "      </script>\n",
              "    </div>\n",
              "  </div>\n",
              "  "
            ]
          },
          "metadata": {},
          "execution_count": 16
        }
      ]
    },
    {
      "cell_type": "markdown",
      "source": [
        "First let's find the yearly average."
      ],
      "metadata": {
        "id": "63odVHJVTsxR"
      }
    },
    {
      "cell_type": "code",
      "source": [
        "yearly_ave = yearly_data.groupby(by = ['year'])['Chatham_NO2_Level','Edin_NO2_Level'].mean().reset_index()\n",
        "yearly_ave"
      ],
      "metadata": {
        "colab": {
          "base_uri": "https://localhost:8080/",
          "height": 261
        },
        "id": "jxZ6LzvWraRL",
        "outputId": "ae280c56-89f5-4076-97e7-b50cf32db268"
      },
      "execution_count": 17,
      "outputs": [
        {
          "output_type": "stream",
          "name": "stderr",
          "text": [
            "/usr/local/lib/python3.7/dist-packages/ipykernel_launcher.py:1: FutureWarning: Indexing with multiple keys (implicitly converted to a tuple of keys) will be deprecated, use a list instead.\n",
            "  \"\"\"Entry point for launching an IPython kernel.\n"
          ]
        },
        {
          "output_type": "execute_result",
          "data": {
            "text/plain": [
              "   year  Chatham_NO2_Level  Edin_NO2_Level\n",
              "0  2017          23.809818       18.853342\n",
              "1  2018          23.453270       17.920425\n",
              "2  2019          24.554691       20.840216\n",
              "3  2020          18.689884       13.757909\n",
              "4  2021          19.108713       17.238684"
            ],
            "text/html": [
              "\n",
              "  <div id=\"df-e6f349f0-1c1c-439c-b776-dfbf7e2b5e96\">\n",
              "    <div class=\"colab-df-container\">\n",
              "      <div>\n",
              "<style scoped>\n",
              "    .dataframe tbody tr th:only-of-type {\n",
              "        vertical-align: middle;\n",
              "    }\n",
              "\n",
              "    .dataframe tbody tr th {\n",
              "        vertical-align: top;\n",
              "    }\n",
              "\n",
              "    .dataframe thead th {\n",
              "        text-align: right;\n",
              "    }\n",
              "</style>\n",
              "<table border=\"1\" class=\"dataframe\">\n",
              "  <thead>\n",
              "    <tr style=\"text-align: right;\">\n",
              "      <th></th>\n",
              "      <th>year</th>\n",
              "      <th>Chatham_NO2_Level</th>\n",
              "      <th>Edin_NO2_Level</th>\n",
              "    </tr>\n",
              "  </thead>\n",
              "  <tbody>\n",
              "    <tr>\n",
              "      <th>0</th>\n",
              "      <td>2017</td>\n",
              "      <td>23.809818</td>\n",
              "      <td>18.853342</td>\n",
              "    </tr>\n",
              "    <tr>\n",
              "      <th>1</th>\n",
              "      <td>2018</td>\n",
              "      <td>23.453270</td>\n",
              "      <td>17.920425</td>\n",
              "    </tr>\n",
              "    <tr>\n",
              "      <th>2</th>\n",
              "      <td>2019</td>\n",
              "      <td>24.554691</td>\n",
              "      <td>20.840216</td>\n",
              "    </tr>\n",
              "    <tr>\n",
              "      <th>3</th>\n",
              "      <td>2020</td>\n",
              "      <td>18.689884</td>\n",
              "      <td>13.757909</td>\n",
              "    </tr>\n",
              "    <tr>\n",
              "      <th>4</th>\n",
              "      <td>2021</td>\n",
              "      <td>19.108713</td>\n",
              "      <td>17.238684</td>\n",
              "    </tr>\n",
              "  </tbody>\n",
              "</table>\n",
              "</div>\n",
              "      <button class=\"colab-df-convert\" onclick=\"convertToInteractive('df-e6f349f0-1c1c-439c-b776-dfbf7e2b5e96')\"\n",
              "              title=\"Convert this dataframe to an interactive table.\"\n",
              "              style=\"display:none;\">\n",
              "        \n",
              "  <svg xmlns=\"http://www.w3.org/2000/svg\" height=\"24px\"viewBox=\"0 0 24 24\"\n",
              "       width=\"24px\">\n",
              "    <path d=\"M0 0h24v24H0V0z\" fill=\"none\"/>\n",
              "    <path d=\"M18.56 5.44l.94 2.06.94-2.06 2.06-.94-2.06-.94-.94-2.06-.94 2.06-2.06.94zm-11 1L8.5 8.5l.94-2.06 2.06-.94-2.06-.94L8.5 2.5l-.94 2.06-2.06.94zm10 10l.94 2.06.94-2.06 2.06-.94-2.06-.94-.94-2.06-.94 2.06-2.06.94z\"/><path d=\"M17.41 7.96l-1.37-1.37c-.4-.4-.92-.59-1.43-.59-.52 0-1.04.2-1.43.59L10.3 9.45l-7.72 7.72c-.78.78-.78 2.05 0 2.83L4 21.41c.39.39.9.59 1.41.59.51 0 1.02-.2 1.41-.59l7.78-7.78 2.81-2.81c.8-.78.8-2.07 0-2.86zM5.41 20L4 18.59l7.72-7.72 1.47 1.35L5.41 20z\"/>\n",
              "  </svg>\n",
              "      </button>\n",
              "      \n",
              "  <style>\n",
              "    .colab-df-container {\n",
              "      display:flex;\n",
              "      flex-wrap:wrap;\n",
              "      gap: 12px;\n",
              "    }\n",
              "\n",
              "    .colab-df-convert {\n",
              "      background-color: #E8F0FE;\n",
              "      border: none;\n",
              "      border-radius: 50%;\n",
              "      cursor: pointer;\n",
              "      display: none;\n",
              "      fill: #1967D2;\n",
              "      height: 32px;\n",
              "      padding: 0 0 0 0;\n",
              "      width: 32px;\n",
              "    }\n",
              "\n",
              "    .colab-df-convert:hover {\n",
              "      background-color: #E2EBFA;\n",
              "      box-shadow: 0px 1px 2px rgba(60, 64, 67, 0.3), 0px 1px 3px 1px rgba(60, 64, 67, 0.15);\n",
              "      fill: #174EA6;\n",
              "    }\n",
              "\n",
              "    [theme=dark] .colab-df-convert {\n",
              "      background-color: #3B4455;\n",
              "      fill: #D2E3FC;\n",
              "    }\n",
              "\n",
              "    [theme=dark] .colab-df-convert:hover {\n",
              "      background-color: #434B5C;\n",
              "      box-shadow: 0px 1px 3px 1px rgba(0, 0, 0, 0.15);\n",
              "      filter: drop-shadow(0px 1px 2px rgba(0, 0, 0, 0.3));\n",
              "      fill: #FFFFFF;\n",
              "    }\n",
              "  </style>\n",
              "\n",
              "      <script>\n",
              "        const buttonEl =\n",
              "          document.querySelector('#df-e6f349f0-1c1c-439c-b776-dfbf7e2b5e96 button.colab-df-convert');\n",
              "        buttonEl.style.display =\n",
              "          google.colab.kernel.accessAllowed ? 'block' : 'none';\n",
              "\n",
              "        async function convertToInteractive(key) {\n",
              "          const element = document.querySelector('#df-e6f349f0-1c1c-439c-b776-dfbf7e2b5e96');\n",
              "          const dataTable =\n",
              "            await google.colab.kernel.invokeFunction('convertToInteractive',\n",
              "                                                     [key], {});\n",
              "          if (!dataTable) return;\n",
              "\n",
              "          const docLinkHtml = 'Like what you see? Visit the ' +\n",
              "            '<a target=\"_blank\" href=https://colab.research.google.com/notebooks/data_table.ipynb>data table notebook</a>'\n",
              "            + ' to learn more about interactive tables.';\n",
              "          element.innerHTML = '';\n",
              "          dataTable['output_type'] = 'display_data';\n",
              "          await google.colab.output.renderOutput(dataTable, element);\n",
              "          const docLink = document.createElement('div');\n",
              "          docLink.innerHTML = docLinkHtml;\n",
              "          element.appendChild(docLink);\n",
              "        }\n",
              "      </script>\n",
              "    </div>\n",
              "  </div>\n",
              "  "
            ]
          },
          "metadata": {},
          "execution_count": 17
        }
      ]
    },
    {
      "cell_type": "markdown",
      "source": [
        "Visualise the yearly pattern between the two stations."
      ],
      "metadata": {
        "id": "BufJyCcoTxkE"
      }
    },
    {
      "cell_type": "code",
      "source": [
        "x = yearly_ave['year']\n",
        "y1 = yearly_ave.Chatham_NO2_Level\n",
        "y2 = yearly_ave.Edin_NO2_Level\n",
        "\n",
        "def do_bar_plot1(x,y1,y2, x_label,legend):\n",
        "  x_pos = [i for i, _ in enumerate(x)]\n",
        "  plt.figure(figsize = (15,12))\n",
        "  bar_plot = y1.plot(x=\"year\", y=y1, kind=\"barh\", color ='red', position =0)\n",
        "  bar_plot = y2.plot(x=\"year\", y=y2, kind=\"barh\", color ='blue', position =1)\n",
        "  plt.legend(legend,loc=1)\n",
        "  plt.yticks(x_pos, x)\n",
        "  plt.gca().invert_yaxis()\n",
        "  plt.xlabel(x_label)\n",
        "  plt.show()\n",
        "  return\n",
        "\n",
        "do_bar_plot1(x,y1,y2,\"Nitrogen dioxide levels (V ug/m2)\",['Chatham $NO_{2}$ Level (V ug/m2)', 'Edinburgh $NO_{2}$ Level (V ug/m2)'])"
      ],
      "metadata": {
        "colab": {
          "base_uri": "https://localhost:8080/",
          "height": 714
        },
        "id": "xlgFQy7BoPhC",
        "outputId": "52853489-a69c-47b3-b746-1b25fe7066fc"
      },
      "execution_count": 18,
      "outputs": [
        {
          "output_type": "display_data",
          "data": {
            "text/plain": [
              "<Figure size 1080x864 with 1 Axes>"
            ],
            "image/png": "[encoded data removed]"
          },
          "metadata": {
            "needs_background": "light"
          }
        }
      ]
    },
    {
      "cell_type": "markdown",
      "source": [
        "Every year, the average emmison of $NO_{2}$ is higher in Chatham than in Edinburgh. Year 2020 shows a dramatic decrease in the the average emmison of $NO_{2}$ in both places. This is most likely due to the Covid-19 related lockdown."
      ],
      "metadata": {
        "id": "yOZH4RisT65O"
      }
    },
    {
      "cell_type": "markdown",
      "source": [
        "Which days in the week has higher average emmison of $NO_{2}$?"
      ],
      "metadata": {
        "id": "bZyXTbRsUUSz"
      }
    },
    {
      "cell_type": "code",
      "source": [
        "weekly_ave = yearly_data.groupby(by = ['Day_of_the_week'])['Chatham_NO2_Level','Edin_NO2_Level'].mean().reset_index()\n",
        "weekly_ave"
      ],
      "metadata": {
        "colab": {
          "base_uri": "https://localhost:8080/",
          "height": 323
        },
        "id": "GZpX57YQsqU4",
        "outputId": "5ea4024e-7c96-4fd2-c635-c78728cda4d5"
      },
      "execution_count": 19,
      "outputs": [
        {
          "output_type": "stream",
          "name": "stderr",
          "text": [
            "/usr/local/lib/python3.7/dist-packages/ipykernel_launcher.py:1: FutureWarning: Indexing with multiple keys (implicitly converted to a tuple of keys) will be deprecated, use a list instead.\n",
            "  \"\"\"Entry point for launching an IPython kernel.\n"
          ]
        },
        {
          "output_type": "execute_result",
          "data": {
            "text/plain": [
              "  Day_of_the_week  Chatham_NO2_Level  Edin_NO2_Level\n",
              "0          Friday          24.394238       19.223583\n",
              "1          Monday          22.335760       16.682114\n",
              "2        Saturday          20.330767       16.151476\n",
              "3          Sunday          16.485897       15.091596\n",
              "4        Thursday          23.849905       19.081661\n",
              "5         Tuesday          22.609055       18.629635\n",
              "6       Wednesday          23.457310       19.194740"
            ],
            "text/html": [
              "\n",
              "  <div id=\"df-02cf191c-0a97-4f71-9d89-868838dc1de7\">\n",
              "    <div class=\"colab-df-container\">\n",
              "      <div>\n",
              "<style scoped>\n",
              "    .dataframe tbody tr th:only-of-type {\n",
              "        vertical-align: middle;\n",
              "    }\n",
              "\n",
              "    .dataframe tbody tr th {\n",
              "        vertical-align: top;\n",
              "    }\n",
              "\n",
              "    .dataframe thead th {\n",
              "        text-align: right;\n",
              "    }\n",
              "</style>\n",
              "<table border=\"1\" class=\"dataframe\">\n",
              "  <thead>\n",
              "    <tr style=\"text-align: right;\">\n",
              "      <th></th>\n",
              "      <th>Day_of_the_week</th>\n",
              "      <th>Chatham_NO2_Level</th>\n",
              "      <th>Edin_NO2_Level</th>\n",
              "    </tr>\n",
              "  </thead>\n",
              "  <tbody>\n",
              "    <tr>\n",
              "      <th>0</th>\n",
              "      <td>Friday</td>\n",
              "      <td>24.394238</td>\n",
              "      <td>19.223583</td>\n",
              "    </tr>\n",
              "    <tr>\n",
              "      <th>1</th>\n",
              "      <td>Monday</td>\n",
              "      <td>22.335760</td>\n",
              "      <td>16.682114</td>\n",
              "    </tr>\n",
              "    <tr>\n",
              "      <th>2</th>\n",
              "      <td>Saturday</td>\n",
              "      <td>20.330767</td>\n",
              "      <td>16.151476</td>\n",
              "    </tr>\n",
              "    <tr>\n",
              "      <th>3</th>\n",
              "      <td>Sunday</td>\n",
              "      <td>16.485897</td>\n",
              "      <td>15.091596</td>\n",
              "    </tr>\n",
              "    <tr>\n",
              "      <th>4</th>\n",
              "      <td>Thursday</td>\n",
              "      <td>23.849905</td>\n",
              "      <td>19.081661</td>\n",
              "    </tr>\n",
              "    <tr>\n",
              "      <th>5</th>\n",
              "      <td>Tuesday</td>\n",
              "      <td>22.609055</td>\n",
              "      <td>18.629635</td>\n",
              "    </tr>\n",
              "    <tr>\n",
              "      <th>6</th>\n",
              "      <td>Wednesday</td>\n",
              "      <td>23.457310</td>\n",
              "      <td>19.194740</td>\n",
              "    </tr>\n",
              "  </tbody>\n",
              "</table>\n",
              "</div>\n",
              "      <button class=\"colab-df-convert\" onclick=\"convertToInteractive('df-02cf191c-0a97-4f71-9d89-868838dc1de7')\"\n",
              "              title=\"Convert this dataframe to an interactive table.\"\n",
              "              style=\"display:none;\">\n",
              "        \n",
              "  <svg xmlns=\"http://www.w3.org/2000/svg\" height=\"24px\"viewBox=\"0 0 24 24\"\n",
              "       width=\"24px\">\n",
              "    <path d=\"M0 0h24v24H0V0z\" fill=\"none\"/>\n",
              "    <path d=\"M18.56 5.44l.94 2.06.94-2.06 2.06-.94-2.06-.94-.94-2.06-.94 2.06-2.06.94zm-11 1L8.5 8.5l.94-2.06 2.06-.94-2.06-.94L8.5 2.5l-.94 2.06-2.06.94zm10 10l.94 2.06.94-2.06 2.06-.94-2.06-.94-.94-2.06-.94 2.06-2.06.94z\"/><path d=\"M17.41 7.96l-1.37-1.37c-.4-.4-.92-.59-1.43-.59-.52 0-1.04.2-1.43.59L10.3 9.45l-7.72 7.72c-.78.78-.78 2.05 0 2.83L4 21.41c.39.39.9.59 1.41.59.51 0 1.02-.2 1.41-.59l7.78-7.78 2.81-2.81c.8-.78.8-2.07 0-2.86zM5.41 20L4 18.59l7.72-7.72 1.47 1.35L5.41 20z\"/>\n",
              "  </svg>\n",
              "      </button>\n",
              "      \n",
              "  <style>\n",
              "    .colab-df-container {\n",
              "      display:flex;\n",
              "      flex-wrap:wrap;\n",
              "      gap: 12px;\n",
              "    }\n",
              "\n",
              "    .colab-df-convert {\n",
              "      background-color: #E8F0FE;\n",
              "      border: none;\n",
              "      border-radius: 50%;\n",
              "      cursor: pointer;\n",
              "      display: none;\n",
              "      fill: #1967D2;\n",
              "      height: 32px;\n",
              "      padding: 0 0 0 0;\n",
              "      width: 32px;\n",
              "    }\n",
              "\n",
              "    .colab-df-convert:hover {\n",
              "      background-color: #E2EBFA;\n",
              "      box-shadow: 0px 1px 2px rgba(60, 64, 67, 0.3), 0px 1px 3px 1px rgba(60, 64, 67, 0.15);\n",
              "      fill: #174EA6;\n",
              "    }\n",
              "\n",
              "    [theme=dark] .colab-df-convert {\n",
              "      background-color: #3B4455;\n",
              "      fill: #D2E3FC;\n",
              "    }\n",
              "\n",
              "    [theme=dark] .colab-df-convert:hover {\n",
              "      background-color: #434B5C;\n",
              "      box-shadow: 0px 1px 3px 1px rgba(0, 0, 0, 0.15);\n",
              "      filter: drop-shadow(0px 1px 2px rgba(0, 0, 0, 0.3));\n",
              "      fill: #FFFFFF;\n",
              "    }\n",
              "  </style>\n",
              "\n",
              "      <script>\n",
              "        const buttonEl =\n",
              "          document.querySelector('#df-02cf191c-0a97-4f71-9d89-868838dc1de7 button.colab-df-convert');\n",
              "        buttonEl.style.display =\n",
              "          google.colab.kernel.accessAllowed ? 'block' : 'none';\n",
              "\n",
              "        async function convertToInteractive(key) {\n",
              "          const element = document.querySelector('#df-02cf191c-0a97-4f71-9d89-868838dc1de7');\n",
              "          const dataTable =\n",
              "            await google.colab.kernel.invokeFunction('convertToInteractive',\n",
              "                                                     [key], {});\n",
              "          if (!dataTable) return;\n",
              "\n",
              "          const docLinkHtml = 'Like what you see? Visit the ' +\n",
              "            '<a target=\"_blank\" href=https://colab.research.google.com/notebooks/data_table.ipynb>data table notebook</a>'\n",
              "            + ' to learn more about interactive tables.';\n",
              "          element.innerHTML = '';\n",
              "          dataTable['output_type'] = 'display_data';\n",
              "          await google.colab.output.renderOutput(dataTable, element);\n",
              "          const docLink = document.createElement('div');\n",
              "          docLink.innerHTML = docLinkHtml;\n",
              "          element.appendChild(docLink);\n",
              "        }\n",
              "      </script>\n",
              "    </div>\n",
              "  </div>\n",
              "  "
            ]
          },
          "metadata": {},
          "execution_count": 19
        }
      ]
    },
    {
      "cell_type": "markdown",
      "source": [
        "Let's look at the week days average trend for both places"
      ],
      "metadata": {
        "id": "ii4X0C6kUbTf"
      }
    },
    {
      "cell_type": "code",
      "source": [
        "from pandas.api.types import CategoricalDtype\n",
        "\n",
        "cats = [ 'Monday', 'Tuesday', 'Wednesday', 'Thursday', 'Friday', 'Saturday', 'Sunday']\n",
        "weekly_ave['Day_of_the_week'] = pd.Categorical(weekly_ave['Day_of_the_week'], categories=cats, ordered=True)\n",
        "weekly_ave = weekly_ave.sort_values('Day_of_the_week')\n",
        "\n",
        "x2 = weekly_ave['Day_of_the_week']\n",
        "y3 = weekly_ave.Chatham_NO2_Level\n",
        "y4 = weekly_ave.Edin_NO2_Level\n",
        "\n",
        "do_bar_plot1(x2,y3,y4,\"Nitrogen dioxide levels (V ug/m2)\",['Chatham $NO_{2}$ Level (V ug/m2)', 'Edinburgh $NO_{2}$ Level (V ug/m2)'])"
      ],
      "metadata": {
        "colab": {
          "base_uri": "https://localhost:8080/",
          "height": 714
        },
        "id": "-LmPM2r8tYMZ",
        "outputId": "ee1df730-b5a5-443c-c879-be2e34addb6c"
      },
      "execution_count": 20,
      "outputs": [
        {
          "output_type": "display_data",
          "data": {
            "text/plain": [
              "<Figure size 1080x864 with 1 Axes>"
            ],
            "image/png": "[encoded data removed]"
          },
          "metadata": {
            "needs_background": "light"
          }
        }
      ]
    },
    {
      "cell_type": "markdown",
      "source": [
        "We see that from the descriptive statistics results, above, the over all mean is higher at Chatham compared to Edinburgh and so is the maximum value. But how does each measurement compare between the two? For this, we will use `.gt()` function. If $NO_{2}$ level is higher than Chatham, we will get a true if not it will be a false. \n"
      ],
      "metadata": {
        "id": "coZ28LUpksv-"
      }
    },
    {
      "cell_type": "code",
      "source": [
        "Nitrogen_data['Bool_comparison'] = Nitrogen_data['Chatham_NO2_Level'].gt(Nitrogen_data['Edin_NO2_Level'])"
      ],
      "metadata": {
        "id": "fmXqUIRYloPt"
      },
      "execution_count": 21,
      "outputs": []
    },
    {
      "cell_type": "code",
      "source": [
        "Nitrogen_data['Bool_comparison']"
      ],
      "metadata": {
        "colab": {
          "base_uri": "https://localhost:8080/"
        },
        "id": "2LW3OcNtl8wT",
        "outputId": "171dbcee-c186-4b9f-ffe0-4e3456215c00"
      },
      "execution_count": 22,
      "outputs": [
        {
          "output_type": "execute_result",
          "data": {
            "text/plain": [
              "8         True\n",
              "9        False\n",
              "10        True\n",
              "12        True\n",
              "13       False\n",
              "         ...  \n",
              "34948     True\n",
              "34949     True\n",
              "34950     True\n",
              "34951     True\n",
              "34952     True\n",
              "Name: Bool_comparison, Length: 32565, dtype: bool"
            ]
          },
          "metadata": {},
          "execution_count": 22
        }
      ]
    },
    {
      "cell_type": "markdown",
      "source": [
        "Let's use seaborn to do some visualisations of the comparisons. \n",
        "\n",
        "How many time during each day of the week has Chatham station shown higher levels of $NO_{2}$ compared to Edinburgh St. Leonard's street?"
      ],
      "metadata": {
        "id": "PlppY11hVOsz"
      }
    },
    {
      "cell_type": "code",
      "source": [
        "def do_count_plot(x, y):\n",
        "  sns.set(rc={'figure.figsize':(12,8)})\n",
        "  order = [\"Monday\", \"Tuesday\", \"Wednesday\", \"Thursday\", \"Friday\", \"Saturday\", \"Sunday\"]\n",
        "  sns.countplot(x=x, data = y, order = order)\n",
        "  return\n",
        "\n",
        "do_count_plot(Nitrogen_data.Day_of_the_week, Nitrogen_data.Bool_comparison)"
      ],
      "metadata": {
        "colab": {
          "base_uri": "https://localhost:8080/",
          "height": 506
        },
        "id": "G3RPHzghs5Cf",
        "outputId": "e7802ecf-fb42-49c7-c232-a015c34bf11b"
      },
      "execution_count": 24,
      "outputs": [
        {
          "output_type": "display_data",
          "data": {
            "text/plain": [
              "<Figure size 864x576 with 1 Axes>"
            ],
            "image/png": "[encoded data removed]"
          },
          "metadata": {}
        }
      ]
    },
    {
      "cell_type": "markdown",
      "source": [
        "### Expand the dataset and show summary statistics for larger dataset\n",
        "---\n",
        "\n",
        "There is a second data set here covering the year 2021:  https://drive.google.com/uc?id=1aYmBf9il2dWA-EROvbYRCZ1rU2t7JwvJ  \n",
        "\n",
        "Concatenate the two datasets to expand it to 2020 and 2021.  \n",
        "\n",
        "Before you can concatenate the datasets you will need to clean and wrangle the second dataset in the same way as the first.  Use the code cell below.  Give the second dataset a different name. \n",
        "\n",
        "After the datasets have been concatenated, group the data by Weekdays and show summary statistics by day of the week."
      ],
      "metadata": {
        "id": "jnzAnbsmHk4B"
      }
    },
    {
      "cell_type": "code",
      "source": [
        "url =  \"https://raw.githubusercontent.com/JaySanthanam/Programming-for-data/main/Datasets/NO2_Edin.csv\"\n",
        "data = get_csv_data(url)\n",
        "Edin_PM_data = data_clean_wrangle(data)"
      ],
      "metadata": {
        "id": "lcaigBUdiLXp"
      },
      "execution_count": 23,
      "outputs": []
    },
    {
      "cell_type": "code",
      "source": [
        "url =  \"https://drive.google.com/uc?id=1aYmBf9il2dWA-EROvbYRCZ1rU2t7JwvJ\"\n",
        "Nitrogen_data2 = pd.read_csv(url, skiprows=1)\n",
        "Nitrogen_data2_sorted = data_clean_wrangle(Nitrogen_data2)\n",
        "Nitrogen_data_combined = pd.concat([Nitrogen_data,Nitrogen_data2_sorted], join='inner', ignore_index=True)\n",
        "Nitrogen_data_combined = Nitrogen_data_combined.sort_values(by=['Weekdays'])\n",
        "print(Nitrogen_data_combined.groupby(by=[\"Weekdays\"])[[\"NO2 Level (V ug/m2)\"]].describe())\n",
        "#print(Nitrogen_data_combined.shape)\n",
        "#print(Nitrogen_data_combined.head())"
      ],
      "metadata": {
        "id": "Gz4u6trsIQJ6"
      },
      "execution_count": null,
      "outputs": []
    },
    {
      "cell_type": "markdown",
      "source": [
        "### Helpful references\n",
        "---\n",
        "Skipping rows when reading datasets:  \n",
        "https://www.geeksforgeeks.org/how-to-skip-rows-while-reading-csv-file-using-pandas/  \n",
        "\n",
        "Converting strings to dates:  \n",
        "https://www.geeksforgeeks.org/convert-the-column-type-from-string-to-datetime-format-in-pandas-dataframe/\n",
        "\n",
        "Dropping rows where data has a given value:  \n",
        "https://www.datasciencemadesimple.com/drop-delete-rows-conditions-python-pandas/  \n",
        "(see section Drop a row or observation by condition) \n",
        "\n",
        "Convert a column of strings to a column of floats:\n",
        "https://datatofish.com/convert-string-to-float-dataframe/  \n",
        "\n",
        "Create a new column from data converted in an existing column:  \n",
        "https://www.geeksforgeeks.org/create-a-new-column-in-pandas-dataframe-based-on-the-existing-columns/  \n",
        "\n",
        "Rename a column:  \n",
        "https://pandas.pydata.org/docs/reference/api/pandas.DataFrame.rename.html  \n",
        "\n",
        "Remove a column by name:  \n",
        "https://www.kite.com/python/answers/how-to-delete-columns-from-a-pandas-%60dataframe%60-by-column-name-in-python#:~:text=Use%20the%20del%20keyword%20to,the%20name%20column_name%20from%20DataFrame%20.\n"
      ],
      "metadata": {
        "id": "hkj-Ofus_D6_"
      }
    }
  ]
}