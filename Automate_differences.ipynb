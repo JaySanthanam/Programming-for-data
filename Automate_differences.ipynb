{
  "nbformat": 4,
  "nbformat_minor": 0,
  "metadata": {
    "colab": {
      "provenance": [],
      "authorship_tag": "ABX9TyNqCSDTS0tdd7j4YGLHdC9c",
      "include_colab_link": true
    },
    "kernelspec": {
      "name": "python3",
      "display_name": "Python 3"
    },
    "language_info": {
      "name": "python"
    }
  },
  "cells": [
    {
      "cell_type": "markdown",
      "metadata": {
        "id": "view-in-github",
        "colab_type": "text"
      },
      "source": [
        "<a href=\"https://colab.research.google.com/github/JaySanthanam/Programming-for-data/blob/main/Automate_differences.ipynb\" target=\"_parent\"><img src=\"https://colab.research.google.com/assets/colab-badge.svg\" alt=\"Open In Colab\"/></a>"
      ]
    },
    {
      "cell_type": "markdown",
      "source": [
        "Test code for automated output file"
      ],
      "metadata": {
        "id": "OT-9rAZRS06O"
      }
    },
    {
      "cell_type": "code",
      "execution_count": 2,
      "metadata": {
        "colab": {
          "base_uri": "https://localhost:8080/"
        },
        "id": "QGnVa49wS0Ia",
        "outputId": "1fea2b92-0315-4062-ee8b-009ac0aa034e"
      },
      "outputs": [
        {
          "output_type": "stream",
          "name": "stdout",
          "text": [
            "    Code LocalAuthority     Year  LA_IndicatorReal  LA_Numerator_real  \\\n",
            "0  C&L01  Aberdeen City  2010-11          0.406679         785.018799   \n",
            "1  C&L01  Aberdeen City  2011-12          0.922524        1886.603428   \n",
            "2  C&L01  Aberdeen City  2012-13          4.335545        9381.043169   \n",
            "3  C&L01  Aberdeen City  2013-14          4.044078        8988.323761   \n",
            "4  C&L01  Aberdeen City  2014-15          3.476122        8645.573117   \n",
            "\n",
            "   LA_Den_Real  Scotland_Indicator_Real  Scotland_Num_Real  Scotland_Den_Real  \\\n",
            "0      1922292                 4.374884        198956.0517           45459818   \n",
            "1      2045051                 3.916959        188806.0265           48202343   \n",
            "2      2163756                 3.734560        192795.1341           51624697   \n",
            "3      2222588                 3.710667        197855.9712           53320837   \n",
            "4      2487138                 3.408087        179623.6567           52705262   \n",
            "\n",
            "   FG_Avg_Indicator_Real  FG_Avg_Num_Real  FG_Avg_Den_Real FamilyGroup  \n",
            "0               4.285538      10653.67251      2200418.875       Urban  \n",
            "1               4.175469      10198.31163      2355970.750       Urban  \n",
            "2               4.353732      11272.60325      2601296.500       Urban  \n",
            "3               4.355361      11913.65901      2660076.250       Urban  \n",
            "4               4.064669      10315.28321      2672126.125       Urban  \n",
            "    Code LocalAuthority     Year  LA_IndicatorReal  LA_Numerator_real  \\\n",
            "0  C&L01  Aberdeen City  2010-11          0.406679         785.018799   \n",
            "1  C&L01  Aberdeen City  2011-12          0.922524        1886.603428   \n",
            "2  C&L01  Aberdeen City  2012-13          4.335545        9381.043169   \n",
            "3  C&L01  Aberdeen City  2013-14          4.044078        8988.323761   \n",
            "4  C&L01  Aberdeen City  2014-15          3.476122        8645.573117   \n",
            "\n",
            "   LA_Den_Real  Scotland_Indicator_Real  Scotland_Num_Real  Scotland_Den_Real  \\\n",
            "0      1922292                 4.374884        198956.0517           45458000   \n",
            "1      2045051                 3.916959        188806.0265           48202343   \n",
            "2      2163756                 3.734560        192795.1341           51624697   \n",
            "3      2222588                 3.710667        197855.9712           53320837   \n",
            "4      2487138                 3.408087        179623.6567           52705262   \n",
            "\n",
            "   FG_Avg_Indicator_Real  FG_Avg_Num_Real  FG_Avg_Den_Real FamilyGroup  \n",
            "0               4.285538      10653.67251      2200418.875       Urban  \n",
            "1               4.175469      10198.31163      2355970.750       Urban  \n",
            "2               4.353732      11272.60325      2601296.500       Urban  \n",
            "3               4.355361      11913.65901      2660076.250       Urban  \n",
            "4               4.064669      10315.28321      2672126.125       Urban  \n"
          ]
        }
      ],
      "source": [
        "import pandas as pd\n",
        "import numpy as np\n",
        "\n",
        "def get_data(url): # this function gets data stored as csv file from a given url\n",
        "  df = pd.read_csv(url)\n",
        "  return df\n",
        "\n",
        "url = \"https://raw.githubusercontent.com/JaySanthanam/Programming-for-data/main/Datasets/test_new.csv\"\n",
        "new_df = get_data(url)\n",
        "url = \"https://raw.githubusercontent.com/JaySanthanam/Programming-for-data/main/Datasets/test_old.csv\"\n",
        "old_df = get_data(url)\n",
        "print(old_df.head()) #first 5 rows\n",
        "#print(old_df.info()) #technical summary\n",
        "print(new_df.head()) #first 5 rows\n",
        "#print(new_df.info()) #technical summary"
      ]
    },
    {
      "cell_type": "code",
      "source": [
        "difference = old_df[old_df!=new_df]\n",
        "print(difference)"
      ],
      "metadata": {
        "colab": {
          "base_uri": "https://localhost:8080/"
        },
        "id": "hN93tM-ETunN",
        "outputId": "b50667d9-7f64-4565-8ba2-58c0de09d3e9"
      },
      "execution_count": 7,
      "outputs": [
        {
          "output_type": "stream",
          "name": "stdout",
          "text": [
            "    Code LocalAuthority Year  LA_IndicatorReal  LA_Numerator_real  \\\n",
            "0    NaN            NaN  NaN               NaN                NaN   \n",
            "1    NaN            NaN  NaN               NaN                NaN   \n",
            "2    NaN            NaN  NaN               NaN                NaN   \n",
            "3    NaN            NaN  NaN               NaN                NaN   \n",
            "4    NaN            NaN  NaN               NaN                NaN   \n",
            "..   ...            ...  ...               ...                ...   \n",
            "379  NaN            NaN  NaN               NaN                NaN   \n",
            "380  NaN            NaN  NaN               NaN                NaN   \n",
            "381  NaN            NaN  NaN               NaN                NaN   \n",
            "382  NaN            NaN  NaN               NaN                NaN   \n",
            "383  NaN            NaN  NaN               NaN                NaN   \n",
            "\n",
            "     LA_Den_Real  Scotland_Indicator_Real  Scotland_Num_Real  \\\n",
            "0            NaN                      NaN                NaN   \n",
            "1            NaN                      NaN                NaN   \n",
            "2            NaN                      NaN                NaN   \n",
            "3            NaN                      NaN                NaN   \n",
            "4            NaN                      NaN                NaN   \n",
            "..           ...                      ...                ...   \n",
            "379          NaN                      NaN                NaN   \n",
            "380          NaN                      NaN                NaN   \n",
            "381          NaN                      NaN                NaN   \n",
            "382          NaN                      NaN                NaN   \n",
            "383          NaN                      NaN                NaN   \n",
            "\n",
            "     Scotland_Den_Real  FG_Avg_Indicator_Real  FG_Avg_Num_Real  \\\n",
            "0           45459818.0                    NaN              NaN   \n",
            "1                  NaN                    NaN              NaN   \n",
            "2                  NaN                    NaN              NaN   \n",
            "3                  NaN                    NaN              NaN   \n",
            "4                  NaN                    NaN              NaN   \n",
            "..                 ...                    ...              ...   \n",
            "379                NaN                    NaN              NaN   \n",
            "380                NaN                    NaN              NaN   \n",
            "381                NaN                    NaN              NaN   \n",
            "382                NaN                    NaN              NaN   \n",
            "383                NaN                    NaN              NaN   \n",
            "\n",
            "     FG_Avg_Den_Real FamilyGroup  \n",
            "0                NaN         NaN  \n",
            "1                NaN         NaN  \n",
            "2                NaN         NaN  \n",
            "3                NaN         NaN  \n",
            "4                NaN         NaN  \n",
            "..               ...         ...  \n",
            "379              NaN         NaN  \n",
            "380              NaN         NaN  \n",
            "381              NaN         NaN  \n",
            "382              NaN         NaN  \n",
            "383              NaN         NaN  \n",
            "\n",
            "[384 rows x 13 columns]\n"
          ]
        }
      ]
    }
  ]
}